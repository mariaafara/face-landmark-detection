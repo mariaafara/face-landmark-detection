{
 "cells": [
  {
   "cell_type": "markdown",
   "metadata": {
    "id": "yTsyeVn2AQLr"
   },
   "source": [
    "# FACIAL KEYPOINTS DETECTION"
   ]
  },
  {
   "cell_type": "markdown",
   "metadata": {
    "id": "iIlDeu1ZAjYy"
   },
   "source": [
    "**Importing the libraraies**"
   ]
  },
  {
   "cell_type": "code",
   "execution_count": 1,
   "metadata": {
    "id": "3f3roaNK6hfZ"
   },
   "outputs": [],
   "source": [
    "import numpy as np\n",
    "import pandas as pd\n",
    "import math\n",
    "import os\n",
    "import random\n",
    "import seaborn as sns\n",
    "import matplotlib.pyplot as plt\n",
    "from sklearn import preprocessing\n",
    "from sklearn.preprocessing import MinMaxScaler\n",
    "from IPython.display import clear_output\n",
    "pd.options.mode.chained_assignment = None  # default='warn'\n"
   ]
  },
  {
   "cell_type": "markdown",
   "metadata": {
    "id": "Ms2pffbiAodU"
   },
   "source": [
    "**Building a Client for  Kaggle API**\n",
    "\n",
    "Follow the instructions in https://github.com/Kaggle/kaggle-api to download Kaggle.json file\n"
   ]
  },
  {
   "cell_type": "code",
   "execution_count": 128,
   "metadata": {
    "id": "MOHC2f0JNrLk"
   },
   "outputs": [],
   "source": [
    "os.environ['KAGGLE_USERNAME'] = \"mariaafara\" # username from the json file\n",
    "os.environ['KAGGLE_KEY'] = \"25755ae03c0b83042774e5e0d15b886e\" # key from the json file"
   ]
  },
  {
   "cell_type": "code",
   "execution_count": 129,
   "metadata": {
    "id": "wCU7jQC8eL91"
   },
   "outputs": [],
   "source": [
    "#Crearting a Client to host the Kaggle API\n",
    "!pip install -q kaggle"
   ]
  },
  {
   "cell_type": "code",
   "execution_count": 130,
   "metadata": {
    "colab": {
     "base_uri": "https://localhost:8080/"
    },
    "id": "AA5mztKMecOs",
    "outputId": "55dce416-1db9-4f9f-e4e2-8f011b5c9e12"
   },
   "outputs": [
    {
     "name": "stdout",
     "output_type": "stream",
     "text": [
      "facial-keypoints-detection.zip: Skipping, found more recently modified local copy (use --force to force download)\n"
     ]
    }
   ],
   "source": [
    "# Improting the dataet using Kaggle API provided for the Facial Keypoint Detection\n",
    "!kaggle competitions download -c facial-keypoints-detection"
   ]
  },
  {
   "cell_type": "code",
   "execution_count": null,
   "metadata": {},
   "outputs": [],
   "source": []
  },
  {
   "cell_type": "code",
   "execution_count": 131,
   "metadata": {},
   "outputs": [
    {
     "name": "stdout",
     "output_type": "stream",
     "text": [
      "Archive:  facial-keypoints-detection.zip\n",
      "replace facial-keypoints-detection/IdLookupTable.csv? [y]es, [n]o, [A]ll, [N]one, [r]ename: ^C\n"
     ]
    }
   ],
   "source": [
    "!unzip facial-keypoints-detection.zip -d facial-keypoints-detection"
   ]
  },
  {
   "cell_type": "code",
   "execution_count": 132,
   "metadata": {
    "colab": {
     "base_uri": "https://localhost:8080/"
    },
    "id": "dXq52o9meZQY",
    "outputId": "e53bff89-3c97-4643-a3f7-87b46448c3fa"
   },
   "outputs": [
    {
     "name": "stdout",
     "output_type": "stream",
     "text": [
      "data\t\t\t\timages\n",
      "data_preparation.ipynb\t\tlabel_missing_values.ipynb\n",
      "drafts\t\t\t\tmodels\n",
      "facial-keypoints-detection\tREADME.md\n",
      "facial-keypoints-detection.zip\ttrain_models_notebooks\n"
     ]
    }
   ],
   "source": [
    "!ls"
   ]
  },
  {
   "cell_type": "markdown",
   "metadata": {
    "id": "Iwga64uQG_Q0"
   },
   "source": [
    "## PART 1 - Dataset Preparation"
   ]
  },
  {
   "cell_type": "markdown",
   "metadata": {
    "id": "rHEZzAQvHFIu"
   },
   "source": [
    "### Part 1.1 EDA and Feature Engineering\n",
    "This is the data analaysis of our dataset whilist descovering the missing values, train a model for each feature to use it to replace the missing features.\n"
   ]
  },
  {
   "cell_type": "markdown",
   "metadata": {
    "id": "TNFfDcPZHYq7"
   },
   "source": [
    "###### **Importing the Data Frames using Pandas**"
   ]
  },
  {
   "cell_type": "code",
   "execution_count": 2,
   "metadata": {
    "id": "OtWyb1AQC68g"
   },
   "outputs": [],
   "source": [
    "train_data = pd.read_csv('facial-keypoints-detection/training.zip', compression='zip', header=0, sep=',', quotechar='\"')\n",
    "# test_data = pd.read_csv('test.zip', compression='zip', header=0, sep=',', quotechar='\"')\n",
    "# lookid_data = pd.read_csv('IdLookupTable.csv',header=0, sep=',', quotechar='\"')"
   ]
  },
  {
   "cell_type": "code",
   "execution_count": 156,
   "metadata": {
    "colab": {
     "base_uri": "https://localhost:8080/",
     "height": 982
    },
    "id": "hp8OWqQNEAxK",
    "outputId": "14955e36-652a-4527-c331-173113c696b4"
   },
   "outputs": [
    {
     "data": {
      "text/html": [
       "<div>\n",
       "<style scoped>\n",
       "    .dataframe tbody tr th:only-of-type {\n",
       "        vertical-align: middle;\n",
       "    }\n",
       "\n",
       "    .dataframe tbody tr th {\n",
       "        vertical-align: top;\n",
       "    }\n",
       "\n",
       "    .dataframe thead th {\n",
       "        text-align: right;\n",
       "    }\n",
       "</style>\n",
       "<table border=\"1\" class=\"dataframe\">\n",
       "  <thead>\n",
       "    <tr style=\"text-align: right;\">\n",
       "      <th></th>\n",
       "      <th>0</th>\n",
       "      <th>1</th>\n",
       "      <th>2</th>\n",
       "      <th>3</th>\n",
       "      <th>4</th>\n",
       "    </tr>\n",
       "  </thead>\n",
       "  <tbody>\n",
       "    <tr>\n",
       "      <th>left_eye_center_x</th>\n",
       "      <td>66.0336</td>\n",
       "      <td>64.3329</td>\n",
       "      <td>65.0571</td>\n",
       "      <td>65.2257</td>\n",
       "      <td>66.7253</td>\n",
       "    </tr>\n",
       "    <tr>\n",
       "      <th>left_eye_center_y</th>\n",
       "      <td>39.0023</td>\n",
       "      <td>34.9701</td>\n",
       "      <td>34.9096</td>\n",
       "      <td>37.2618</td>\n",
       "      <td>39.6213</td>\n",
       "    </tr>\n",
       "    <tr>\n",
       "      <th>right_eye_center_x</th>\n",
       "      <td>30.227</td>\n",
       "      <td>29.9493</td>\n",
       "      <td>30.9038</td>\n",
       "      <td>32.0231</td>\n",
       "      <td>32.2448</td>\n",
       "    </tr>\n",
       "    <tr>\n",
       "      <th>right_eye_center_y</th>\n",
       "      <td>36.4217</td>\n",
       "      <td>33.4487</td>\n",
       "      <td>34.9096</td>\n",
       "      <td>37.2618</td>\n",
       "      <td>38.042</td>\n",
       "    </tr>\n",
       "    <tr>\n",
       "      <th>left_eye_inner_corner_x</th>\n",
       "      <td>59.5821</td>\n",
       "      <td>58.8562</td>\n",
       "      <td>59.412</td>\n",
       "      <td>60.0033</td>\n",
       "      <td>58.5659</td>\n",
       "    </tr>\n",
       "    <tr>\n",
       "      <th>left_eye_inner_corner_y</th>\n",
       "      <td>39.6474</td>\n",
       "      <td>35.2743</td>\n",
       "      <td>36.321</td>\n",
       "      <td>39.1272</td>\n",
       "      <td>39.6213</td>\n",
       "    </tr>\n",
       "    <tr>\n",
       "      <th>left_eye_outer_corner_x</th>\n",
       "      <td>73.1303</td>\n",
       "      <td>70.7227</td>\n",
       "      <td>70.9844</td>\n",
       "      <td>72.3147</td>\n",
       "      <td>72.5159</td>\n",
       "    </tr>\n",
       "    <tr>\n",
       "      <th>left_eye_outer_corner_y</th>\n",
       "      <td>39.97</td>\n",
       "      <td>36.1872</td>\n",
       "      <td>36.321</td>\n",
       "      <td>38.381</td>\n",
       "      <td>39.8845</td>\n",
       "    </tr>\n",
       "    <tr>\n",
       "      <th>right_eye_inner_corner_x</th>\n",
       "      <td>36.3566</td>\n",
       "      <td>36.0347</td>\n",
       "      <td>37.6781</td>\n",
       "      <td>37.6186</td>\n",
       "      <td>36.9824</td>\n",
       "    </tr>\n",
       "    <tr>\n",
       "      <th>right_eye_inner_corner_y</th>\n",
       "      <td>37.3894</td>\n",
       "      <td>34.3615</td>\n",
       "      <td>36.321</td>\n",
       "      <td>38.7541</td>\n",
       "      <td>39.0949</td>\n",
       "    </tr>\n",
       "    <tr>\n",
       "      <th>right_eye_outer_corner_x</th>\n",
       "      <td>23.4529</td>\n",
       "      <td>24.4725</td>\n",
       "      <td>24.9764</td>\n",
       "      <td>25.3073</td>\n",
       "      <td>22.5061</td>\n",
       "    </tr>\n",
       "    <tr>\n",
       "      <th>right_eye_outer_corner_y</th>\n",
       "      <td>37.3894</td>\n",
       "      <td>33.1444</td>\n",
       "      <td>36.6032</td>\n",
       "      <td>38.0079</td>\n",
       "      <td>38.3052</td>\n",
       "    </tr>\n",
       "    <tr>\n",
       "      <th>left_eyebrow_inner_end_x</th>\n",
       "      <td>56.9533</td>\n",
       "      <td>53.9874</td>\n",
       "      <td>55.7425</td>\n",
       "      <td>56.4338</td>\n",
       "      <td>57.2496</td>\n",
       "    </tr>\n",
       "    <tr>\n",
       "      <th>left_eyebrow_inner_end_y</th>\n",
       "      <td>29.0336</td>\n",
       "      <td>28.2759</td>\n",
       "      <td>27.5709</td>\n",
       "      <td>30.9299</td>\n",
       "      <td>30.6722</td>\n",
       "    </tr>\n",
       "    <tr>\n",
       "      <th>left_eyebrow_outer_end_x</th>\n",
       "      <td>80.2271</td>\n",
       "      <td>78.6342</td>\n",
       "      <td>78.8874</td>\n",
       "      <td>77.9103</td>\n",
       "      <td>77.7629</td>\n",
       "    </tr>\n",
       "    <tr>\n",
       "      <th>left_eyebrow_outer_end_y</th>\n",
       "      <td>32.2281</td>\n",
       "      <td>30.4059</td>\n",
       "      <td>32.6516</td>\n",
       "      <td>31.6657</td>\n",
       "      <td>31.7372</td>\n",
       "    </tr>\n",
       "    <tr>\n",
       "      <th>right_eyebrow_inner_end_x</th>\n",
       "      <td>40.2276</td>\n",
       "      <td>42.7289</td>\n",
       "      <td>42.1939</td>\n",
       "      <td>41.6715</td>\n",
       "      <td>38.0354</td>\n",
       "    </tr>\n",
       "    <tr>\n",
       "      <th>right_eyebrow_inner_end_y</th>\n",
       "      <td>29.0023</td>\n",
       "      <td>26.146</td>\n",
       "      <td>28.1355</td>\n",
       "      <td>31.05</td>\n",
       "      <td>30.9354</td>\n",
       "    </tr>\n",
       "    <tr>\n",
       "      <th>right_eyebrow_outer_end_x</th>\n",
       "      <td>16.3564</td>\n",
       "      <td>16.8654</td>\n",
       "      <td>16.7912</td>\n",
       "      <td>20.458</td>\n",
       "      <td>15.9259</td>\n",
       "    </tr>\n",
       "    <tr>\n",
       "      <th>right_eyebrow_outer_end_y</th>\n",
       "      <td>29.6475</td>\n",
       "      <td>27.0589</td>\n",
       "      <td>32.0871</td>\n",
       "      <td>29.9093</td>\n",
       "      <td>30.6722</td>\n",
       "    </tr>\n",
       "    <tr>\n",
       "      <th>nose_tip_x</th>\n",
       "      <td>44.4206</td>\n",
       "      <td>48.2063</td>\n",
       "      <td>47.5573</td>\n",
       "      <td>51.8851</td>\n",
       "      <td>43.2995</td>\n",
       "    </tr>\n",
       "    <tr>\n",
       "      <th>nose_tip_y</th>\n",
       "      <td>57.0668</td>\n",
       "      <td>55.6609</td>\n",
       "      <td>53.5389</td>\n",
       "      <td>54.1665</td>\n",
       "      <td>64.8895</td>\n",
       "    </tr>\n",
       "    <tr>\n",
       "      <th>mouth_left_corner_x</th>\n",
       "      <td>61.1953</td>\n",
       "      <td>56.4214</td>\n",
       "      <td>60.8229</td>\n",
       "      <td>65.5989</td>\n",
       "      <td>60.6714</td>\n",
       "    </tr>\n",
       "    <tr>\n",
       "      <th>mouth_left_corner_y</th>\n",
       "      <td>79.9702</td>\n",
       "      <td>76.352</td>\n",
       "      <td>73.0143</td>\n",
       "      <td>72.7037</td>\n",
       "      <td>77.5232</td>\n",
       "    </tr>\n",
       "    <tr>\n",
       "      <th>mouth_right_corner_x</th>\n",
       "      <td>28.6145</td>\n",
       "      <td>35.1224</td>\n",
       "      <td>33.7263</td>\n",
       "      <td>37.2455</td>\n",
       "      <td>31.1918</td>\n",
       "    </tr>\n",
       "    <tr>\n",
       "      <th>mouth_right_corner_y</th>\n",
       "      <td>77.389</td>\n",
       "      <td>76.0477</td>\n",
       "      <td>72.732</td>\n",
       "      <td>74.1955</td>\n",
       "      <td>76.9973</td>\n",
       "    </tr>\n",
       "    <tr>\n",
       "      <th>mouth_center_top_lip_x</th>\n",
       "      <td>43.3126</td>\n",
       "      <td>46.6846</td>\n",
       "      <td>47.2749</td>\n",
       "      <td>50.3032</td>\n",
       "      <td>44.9627</td>\n",
       "    </tr>\n",
       "    <tr>\n",
       "      <th>mouth_center_top_lip_y</th>\n",
       "      <td>72.9355</td>\n",
       "      <td>70.2666</td>\n",
       "      <td>70.1918</td>\n",
       "      <td>70.0917</td>\n",
       "      <td>73.7074</td>\n",
       "    </tr>\n",
       "    <tr>\n",
       "      <th>mouth_center_bottom_lip_x</th>\n",
       "      <td>43.1307</td>\n",
       "      <td>45.4679</td>\n",
       "      <td>47.2749</td>\n",
       "      <td>51.5612</td>\n",
       "      <td>44.2271</td>\n",
       "    </tr>\n",
       "    <tr>\n",
       "      <th>mouth_center_bottom_lip_y</th>\n",
       "      <td>84.4858</td>\n",
       "      <td>85.4802</td>\n",
       "      <td>78.6594</td>\n",
       "      <td>78.2684</td>\n",
       "      <td>86.8712</td>\n",
       "    </tr>\n",
       "    <tr>\n",
       "      <th>Image</th>\n",
       "      <td>238 236 237 238 240 240 239 241 241 243 240 23...</td>\n",
       "      <td>219 215 204 196 204 211 212 200 180 168 178 19...</td>\n",
       "      <td>144 142 159 180 188 188 184 180 167 132 84 59 ...</td>\n",
       "      <td>193 192 193 194 194 194 193 192 168 111 50 12 ...</td>\n",
       "      <td>147 148 160 196 215 214 216 217 219 220 206 18...</td>\n",
       "    </tr>\n",
       "  </tbody>\n",
       "</table>\n",
       "</div>"
      ],
      "text/plain": [
       "                                                                           0  \\\n",
       "left_eye_center_x                                                    66.0336   \n",
       "left_eye_center_y                                                    39.0023   \n",
       "right_eye_center_x                                                    30.227   \n",
       "right_eye_center_y                                                   36.4217   \n",
       "left_eye_inner_corner_x                                              59.5821   \n",
       "left_eye_inner_corner_y                                              39.6474   \n",
       "left_eye_outer_corner_x                                              73.1303   \n",
       "left_eye_outer_corner_y                                                39.97   \n",
       "right_eye_inner_corner_x                                             36.3566   \n",
       "right_eye_inner_corner_y                                             37.3894   \n",
       "right_eye_outer_corner_x                                             23.4529   \n",
       "right_eye_outer_corner_y                                             37.3894   \n",
       "left_eyebrow_inner_end_x                                             56.9533   \n",
       "left_eyebrow_inner_end_y                                             29.0336   \n",
       "left_eyebrow_outer_end_x                                             80.2271   \n",
       "left_eyebrow_outer_end_y                                             32.2281   \n",
       "right_eyebrow_inner_end_x                                            40.2276   \n",
       "right_eyebrow_inner_end_y                                            29.0023   \n",
       "right_eyebrow_outer_end_x                                            16.3564   \n",
       "right_eyebrow_outer_end_y                                            29.6475   \n",
       "nose_tip_x                                                           44.4206   \n",
       "nose_tip_y                                                           57.0668   \n",
       "mouth_left_corner_x                                                  61.1953   \n",
       "mouth_left_corner_y                                                  79.9702   \n",
       "mouth_right_corner_x                                                 28.6145   \n",
       "mouth_right_corner_y                                                  77.389   \n",
       "mouth_center_top_lip_x                                               43.3126   \n",
       "mouth_center_top_lip_y                                               72.9355   \n",
       "mouth_center_bottom_lip_x                                            43.1307   \n",
       "mouth_center_bottom_lip_y                                            84.4858   \n",
       "Image                      238 236 237 238 240 240 239 241 241 243 240 23...   \n",
       "\n",
       "                                                                           1  \\\n",
       "left_eye_center_x                                                    64.3329   \n",
       "left_eye_center_y                                                    34.9701   \n",
       "right_eye_center_x                                                   29.9493   \n",
       "right_eye_center_y                                                   33.4487   \n",
       "left_eye_inner_corner_x                                              58.8562   \n",
       "left_eye_inner_corner_y                                              35.2743   \n",
       "left_eye_outer_corner_x                                              70.7227   \n",
       "left_eye_outer_corner_y                                              36.1872   \n",
       "right_eye_inner_corner_x                                             36.0347   \n",
       "right_eye_inner_corner_y                                             34.3615   \n",
       "right_eye_outer_corner_x                                             24.4725   \n",
       "right_eye_outer_corner_y                                             33.1444   \n",
       "left_eyebrow_inner_end_x                                             53.9874   \n",
       "left_eyebrow_inner_end_y                                             28.2759   \n",
       "left_eyebrow_outer_end_x                                             78.6342   \n",
       "left_eyebrow_outer_end_y                                             30.4059   \n",
       "right_eyebrow_inner_end_x                                            42.7289   \n",
       "right_eyebrow_inner_end_y                                             26.146   \n",
       "right_eyebrow_outer_end_x                                            16.8654   \n",
       "right_eyebrow_outer_end_y                                            27.0589   \n",
       "nose_tip_x                                                           48.2063   \n",
       "nose_tip_y                                                           55.6609   \n",
       "mouth_left_corner_x                                                  56.4214   \n",
       "mouth_left_corner_y                                                   76.352   \n",
       "mouth_right_corner_x                                                 35.1224   \n",
       "mouth_right_corner_y                                                 76.0477   \n",
       "mouth_center_top_lip_x                                               46.6846   \n",
       "mouth_center_top_lip_y                                               70.2666   \n",
       "mouth_center_bottom_lip_x                                            45.4679   \n",
       "mouth_center_bottom_lip_y                                            85.4802   \n",
       "Image                      219 215 204 196 204 211 212 200 180 168 178 19...   \n",
       "\n",
       "                                                                           2  \\\n",
       "left_eye_center_x                                                    65.0571   \n",
       "left_eye_center_y                                                    34.9096   \n",
       "right_eye_center_x                                                   30.9038   \n",
       "right_eye_center_y                                                   34.9096   \n",
       "left_eye_inner_corner_x                                               59.412   \n",
       "left_eye_inner_corner_y                                               36.321   \n",
       "left_eye_outer_corner_x                                              70.9844   \n",
       "left_eye_outer_corner_y                                               36.321   \n",
       "right_eye_inner_corner_x                                             37.6781   \n",
       "right_eye_inner_corner_y                                              36.321   \n",
       "right_eye_outer_corner_x                                             24.9764   \n",
       "right_eye_outer_corner_y                                             36.6032   \n",
       "left_eyebrow_inner_end_x                                             55.7425   \n",
       "left_eyebrow_inner_end_y                                             27.5709   \n",
       "left_eyebrow_outer_end_x                                             78.8874   \n",
       "left_eyebrow_outer_end_y                                             32.6516   \n",
       "right_eyebrow_inner_end_x                                            42.1939   \n",
       "right_eyebrow_inner_end_y                                            28.1355   \n",
       "right_eyebrow_outer_end_x                                            16.7912   \n",
       "right_eyebrow_outer_end_y                                            32.0871   \n",
       "nose_tip_x                                                           47.5573   \n",
       "nose_tip_y                                                           53.5389   \n",
       "mouth_left_corner_x                                                  60.8229   \n",
       "mouth_left_corner_y                                                  73.0143   \n",
       "mouth_right_corner_x                                                 33.7263   \n",
       "mouth_right_corner_y                                                  72.732   \n",
       "mouth_center_top_lip_x                                               47.2749   \n",
       "mouth_center_top_lip_y                                               70.1918   \n",
       "mouth_center_bottom_lip_x                                            47.2749   \n",
       "mouth_center_bottom_lip_y                                            78.6594   \n",
       "Image                      144 142 159 180 188 188 184 180 167 132 84 59 ...   \n",
       "\n",
       "                                                                           3  \\\n",
       "left_eye_center_x                                                    65.2257   \n",
       "left_eye_center_y                                                    37.2618   \n",
       "right_eye_center_x                                                   32.0231   \n",
       "right_eye_center_y                                                   37.2618   \n",
       "left_eye_inner_corner_x                                              60.0033   \n",
       "left_eye_inner_corner_y                                              39.1272   \n",
       "left_eye_outer_corner_x                                              72.3147   \n",
       "left_eye_outer_corner_y                                               38.381   \n",
       "right_eye_inner_corner_x                                             37.6186   \n",
       "right_eye_inner_corner_y                                             38.7541   \n",
       "right_eye_outer_corner_x                                             25.3073   \n",
       "right_eye_outer_corner_y                                             38.0079   \n",
       "left_eyebrow_inner_end_x                                             56.4338   \n",
       "left_eyebrow_inner_end_y                                             30.9299   \n",
       "left_eyebrow_outer_end_x                                             77.9103   \n",
       "left_eyebrow_outer_end_y                                             31.6657   \n",
       "right_eyebrow_inner_end_x                                            41.6715   \n",
       "right_eyebrow_inner_end_y                                              31.05   \n",
       "right_eyebrow_outer_end_x                                             20.458   \n",
       "right_eyebrow_outer_end_y                                            29.9093   \n",
       "nose_tip_x                                                           51.8851   \n",
       "nose_tip_y                                                           54.1665   \n",
       "mouth_left_corner_x                                                  65.5989   \n",
       "mouth_left_corner_y                                                  72.7037   \n",
       "mouth_right_corner_x                                                 37.2455   \n",
       "mouth_right_corner_y                                                 74.1955   \n",
       "mouth_center_top_lip_x                                               50.3032   \n",
       "mouth_center_top_lip_y                                               70.0917   \n",
       "mouth_center_bottom_lip_x                                            51.5612   \n",
       "mouth_center_bottom_lip_y                                            78.2684   \n",
       "Image                      193 192 193 194 194 194 193 192 168 111 50 12 ...   \n",
       "\n",
       "                                                                           4  \n",
       "left_eye_center_x                                                    66.7253  \n",
       "left_eye_center_y                                                    39.6213  \n",
       "right_eye_center_x                                                   32.2448  \n",
       "right_eye_center_y                                                    38.042  \n",
       "left_eye_inner_corner_x                                              58.5659  \n",
       "left_eye_inner_corner_y                                              39.6213  \n",
       "left_eye_outer_corner_x                                              72.5159  \n",
       "left_eye_outer_corner_y                                              39.8845  \n",
       "right_eye_inner_corner_x                                             36.9824  \n",
       "right_eye_inner_corner_y                                             39.0949  \n",
       "right_eye_outer_corner_x                                             22.5061  \n",
       "right_eye_outer_corner_y                                             38.3052  \n",
       "left_eyebrow_inner_end_x                                             57.2496  \n",
       "left_eyebrow_inner_end_y                                             30.6722  \n",
       "left_eyebrow_outer_end_x                                             77.7629  \n",
       "left_eyebrow_outer_end_y                                             31.7372  \n",
       "right_eyebrow_inner_end_x                                            38.0354  \n",
       "right_eyebrow_inner_end_y                                            30.9354  \n",
       "right_eyebrow_outer_end_x                                            15.9259  \n",
       "right_eyebrow_outer_end_y                                            30.6722  \n",
       "nose_tip_x                                                           43.2995  \n",
       "nose_tip_y                                                           64.8895  \n",
       "mouth_left_corner_x                                                  60.6714  \n",
       "mouth_left_corner_y                                                  77.5232  \n",
       "mouth_right_corner_x                                                 31.1918  \n",
       "mouth_right_corner_y                                                 76.9973  \n",
       "mouth_center_top_lip_x                                               44.9627  \n",
       "mouth_center_top_lip_y                                               73.7074  \n",
       "mouth_center_bottom_lip_x                                            44.2271  \n",
       "mouth_center_bottom_lip_y                                            86.8712  \n",
       "Image                      147 148 160 196 215 214 216 217 219 220 206 18...  "
      ]
     },
     "execution_count": 156,
     "metadata": {},
     "output_type": "execute_result"
    }
   ],
   "source": [
    "train_data.head().T"
   ]
  },
  {
   "cell_type": "markdown",
   "metadata": {
    "id": "6fgJacv9-78B"
   },
   "source": [
    "###### **Transform image string into 2D array**\r\n",
    "Since values for the image is given as space separated string, we will need to separate the values using ' ' as separator<br>\r\n",
    "Then convert this into numpy array using np.fromstring and convert the obtained 1D array into 2D array of shape (96,96)"
   ]
  },
  {
   "cell_type": "code",
   "execution_count": 11,
   "metadata": {
    "id": "XMX5LEQQmVdr"
   },
   "outputs": [],
   "source": [
    "# transform\n",
    "train_data['Image'] = train_data['Image'].apply(lambda x: np.fromstring(x, dtype= int, sep = ' ').reshape(96,96))"
   ]
  },
  {
   "cell_type": "code",
   "execution_count": 158,
   "metadata": {
    "id": "DCijd6EWKhOh"
   },
   "outputs": [],
   "source": [
    "# train_data['Image'] = train_data['Image'].apply(lambda x: list(map(float, x.strip().split(\" \"))))"
   ]
  },
  {
   "cell_type": "code",
   "execution_count": 159,
   "metadata": {
    "colab": {
     "base_uri": "https://localhost:8080/"
    },
    "id": "Bp2IKxELmdod",
    "outputId": "6b08e077-b2cd-4b3f-8655-e735e2748f10"
   },
   "outputs": [
    {
     "data": {
      "text/plain": [
       "(96, 96)"
      ]
     },
     "execution_count": 159,
     "metadata": {},
     "output_type": "execute_result"
    }
   ],
   "source": [
    "# Let's obtain the shape of the resized image\n",
    "train_data['Image'][1].shape"
   ]
  },
  {
   "cell_type": "markdown",
   "metadata": {
    "id": "CgCOLdoQ_eVn"
   },
   "source": [
    "##### **Visualize some images with face landmarks**"
   ]
  },
  {
   "cell_type": "code",
   "execution_count": 160,
   "metadata": {
    "id": "MipBXffqMMV2"
   },
   "outputs": [],
   "source": [
    "def visualize_random_image(df,i=-1):\n",
    "    \"\"\"\n",
    "    Method that visualize a certain image with index i in the df or a random image with i=-1.\n",
    "    With plotting the facial keypoints specified in the df cols\n",
    "    \"\"\"\n",
    "    # x-coordinates are in even columns like 0,2,4,.. and y-coordinates are in odd columns like 1,3,5,..\n",
    "    if i==-1:\n",
    "        i = np.random.randint(1, len(df))\n",
    "        plt.figure()\n",
    "        plt.imshow(df['Image'][i],cmap='gray')\n",
    "        nbr_cols = df.columns.tolist()[:-1]\n",
    "        for j in range(0,len(nbr_cols),2):\n",
    "            plt.plot(df.loc[i][j], df.loc[i][j+1], 'rx')\n",
    "    plt.savefig(\"face2.png\")"
   ]
  },
  {
   "cell_type": "code",
   "execution_count": 161,
   "metadata": {
    "colab": {
     "base_uri": "https://localhost:8080/",
     "height": 268
    },
    "id": "OIiJ41JSMXMm",
    "outputId": "0f68825e-676e-40b5-846c-c60ff8e95e46"
   },
   "outputs": [
    {
     "data": {
      "image/png": "[encoded data removed]",
      "text/plain": [
       "<Figure size 432x288 with 1 Axes>"
      ]
     },
     "metadata": {
      "needs_background": "light"
     },
     "output_type": "display_data"
    }
   ],
   "source": [
    "visualize_random_image(train_data, i=-1)"
   ]
  },
  {
   "cell_type": "markdown",
   "metadata": {
    "id": "fGds3sya_of-"
   },
   "source": [
    "##### **Checking for missing values**"
   ]
  },
  {
   "cell_type": "code",
   "execution_count": 162,
   "metadata": {
    "colab": {
     "base_uri": "https://localhost:8080/"
    },
    "id": "79dxEgV2cd9i",
    "outputId": "8f27d4fa-1b6e-4861-f063-9f0d6b4b944b"
   },
   "outputs": [
    {
     "data": {
      "text/plain": [
       "True     28\n",
       "False     3\n",
       "dtype: int64"
      ]
     },
     "execution_count": 162,
     "metadata": {},
     "output_type": "execute_result"
    }
   ],
   "source": [
    "# checking for missing values\n",
    "train_data.isnull().any().value_counts()"
   ]
  },
  {
   "cell_type": "markdown",
   "metadata": {
    "id": "Nl1THU_3eG0N"
   },
   "source": [
    "So there are missing values in 28 columns. Lets see which columns"
   ]
  },
  {
   "cell_type": "code",
   "execution_count": 163,
   "metadata": {
    "colab": {
     "base_uri": "https://localhost:8080/",
     "height": 554
    },
    "id": "65Ijrii0eYhH",
    "outputId": "f2ba6ce4-5044-43fe-8f09-0aa052951bc6"
   },
   "outputs": [
    {
     "data": {
      "text/plain": [
       "left_eye_center_x              10\n",
       "left_eye_center_y              10\n",
       "right_eye_center_x             13\n",
       "right_eye_center_y             13\n",
       "left_eye_inner_corner_x      4778\n",
       "left_eye_inner_corner_y      4778\n",
       "left_eye_outer_corner_x      4782\n",
       "left_eye_outer_corner_y      4782\n",
       "right_eye_inner_corner_x     4781\n",
       "right_eye_inner_corner_y     4781\n",
       "right_eye_outer_corner_x     4781\n",
       "right_eye_outer_corner_y     4781\n",
       "left_eyebrow_inner_end_x     4779\n",
       "left_eyebrow_inner_end_y     4779\n",
       "left_eyebrow_outer_end_x     4824\n",
       "left_eyebrow_outer_end_y     4824\n",
       "right_eyebrow_inner_end_x    4779\n",
       "right_eyebrow_inner_end_y    4779\n",
       "right_eyebrow_outer_end_x    4813\n",
       "right_eyebrow_outer_end_y    4813\n",
       "nose_tip_x                      0\n",
       "nose_tip_y                      0\n",
       "mouth_left_corner_x          4780\n",
       "mouth_left_corner_y          4780\n",
       "mouth_right_corner_x         4779\n",
       "mouth_right_corner_y         4779\n",
       "mouth_center_top_lip_x       4774\n",
       "mouth_center_top_lip_y       4774\n",
       "mouth_center_bottom_lip_x      33\n",
       "mouth_center_bottom_lip_y      33\n",
       "Image                           0\n",
       "dtype: int64"
      ]
     },
     "metadata": {},
     "output_type": "display_data"
    }
   ],
   "source": [
    "display(train_data.isnull().sum())"
   ]
  },
  {
   "cell_type": "code",
   "execution_count": 164,
   "metadata": {
    "colab": {
     "base_uri": "https://localhost:8080/",
     "height": 409
    },
    "id": "YC1Dh7x6__rN",
    "outputId": "d0b13d6b-3281-41a1-9318-d64084da6bbc"
   },
   "outputs": [
    {
     "data": {
      "image/png": "[encoded data removed]",
      "text/plain": [
       "<Figure size 432x288 with 1 Axes>"
      ]
     },
     "metadata": {
      "needs_background": "light"
     },
     "output_type": "display_data"
    }
   ],
   "source": [
    "train_data.isnull().sum().plot(kind='bar',color = 'blue')\n",
    "plt.title(\"Missing Data Nb\")\n",
    "# plt.tight_layout()\n",
    "plt.savefig(\"images/missing_data_nb.png\", bbox_inches = \"tight\")\n",
    "plt.show()"
   ]
  },
  {
   "cell_type": "code",
   "execution_count": 165,
   "metadata": {
    "colab": {
     "base_uri": "https://localhost:8080/"
    },
    "id": "D3Ny_gRAewjL",
    "outputId": "45d5d40b-111d-44bb-9f9a-30e0fddd0a2b"
   },
   "outputs": [
    {
     "data": {
      "text/plain": [
       "4909"
      ]
     },
     "execution_count": 165,
     "metadata": {},
     "output_type": "execute_result"
    }
   ],
   "source": [
    "# count the number of rows with missing values\n",
    "train_data.isnull().any(axis=1).sum() "
   ]
  },
  {
   "cell_type": "markdown",
   "metadata": {
    "id": "S_ly4L38egqN"
   },
   "source": [
    "The number of data is 7049 and 4909 rows are with missing values which means more than the half. Thus we cannot drop them."
   ]
  },
  {
   "cell_type": "markdown",
   "metadata": {
    "id": "21VPXAxV__Hz"
   },
   "source": [
    "**Visualize how many missing values per rows**"
   ]
  },
  {
   "cell_type": "code",
   "execution_count": 166,
   "metadata": {
    "colab": {
     "base_uri": "https://localhost:8080/"
    },
    "id": "ItGcA8IBAmjX",
    "outputId": "e1c7f48e-b3b5-4260-b5b2-f39890e9db79"
   },
   "outputs": [
    {
     "data": {
      "text/plain": [
       "(4909, 31)"
      ]
     },
     "execution_count": 166,
     "metadata": {},
     "output_type": "execute_result"
    }
   ],
   "source": [
    "df_missing = train_data[train_data.isnull().any(axis=1)]\n",
    "df_missing.shape"
   ]
  },
  {
   "cell_type": "code",
   "execution_count": 167,
   "metadata": {
    "id": "TLIpi7CEAeEU"
   },
   "outputs": [],
   "source": [
    "df_missing[\"missing_values_count\"] = df_missing.isnull().sum(axis=1)"
   ]
  },
  {
   "cell_type": "code",
   "execution_count": 168,
   "metadata": {
    "colab": {
     "base_uri": "https://localhost:8080/",
     "height": 373
    },
    "id": "r6lOv_6wAgj3",
    "outputId": "2cfc7b2d-c123-47f7-a084-58e41d98c4cc"
   },
   "outputs": [
    {
     "data": {
      "text/html": [
       "<div>\n",
       "<style scoped>\n",
       "    .dataframe tbody tr th:only-of-type {\n",
       "        vertical-align: middle;\n",
       "    }\n",
       "\n",
       "    .dataframe tbody tr th {\n",
       "        vertical-align: top;\n",
       "    }\n",
       "\n",
       "    .dataframe thead th {\n",
       "        text-align: right;\n",
       "    }\n",
       "</style>\n",
       "<table border=\"1\" class=\"dataframe\">\n",
       "  <thead>\n",
       "    <tr style=\"text-align: right;\">\n",
       "      <th></th>\n",
       "      <th>Image</th>\n",
       "    </tr>\n",
       "    <tr>\n",
       "      <th>missing_values_count</th>\n",
       "      <th></th>\n",
       "    </tr>\n",
       "  </thead>\n",
       "  <tbody>\n",
       "    <tr>\n",
       "      <th>2</th>\n",
       "      <td>87</td>\n",
       "    </tr>\n",
       "    <tr>\n",
       "      <th>4</th>\n",
       "      <td>28</td>\n",
       "    </tr>\n",
       "    <tr>\n",
       "      <th>6</th>\n",
       "      <td>9</td>\n",
       "    </tr>\n",
       "    <tr>\n",
       "      <th>8</th>\n",
       "      <td>8</td>\n",
       "    </tr>\n",
       "    <tr>\n",
       "      <th>10</th>\n",
       "      <td>3</td>\n",
       "    </tr>\n",
       "    <tr>\n",
       "      <th>12</th>\n",
       "      <td>5</td>\n",
       "    </tr>\n",
       "    <tr>\n",
       "      <th>14</th>\n",
       "      <td>2</td>\n",
       "    </tr>\n",
       "    <tr>\n",
       "      <th>20</th>\n",
       "      <td>2</td>\n",
       "    </tr>\n",
       "    <tr>\n",
       "      <th>22</th>\n",
       "      <td>4755</td>\n",
       "    </tr>\n",
       "    <tr>\n",
       "      <th>24</th>\n",
       "      <td>10</td>\n",
       "    </tr>\n",
       "  </tbody>\n",
       "</table>\n",
       "</div>"
      ],
      "text/plain": [
       "                      Image\n",
       "missing_values_count       \n",
       "2                        87\n",
       "4                        28\n",
       "6                         9\n",
       "8                         8\n",
       "10                        3\n",
       "12                        5\n",
       "14                        2\n",
       "20                        2\n",
       "22                     4755\n",
       "24                       10"
      ]
     },
     "execution_count": 168,
     "metadata": {},
     "output_type": "execute_result"
    }
   ],
   "source": [
    "df_missing.groupby([\"missing_values_count\"])[[\"Image\"]].count()"
   ]
  },
  {
   "cell_type": "code",
   "execution_count": 169,
   "metadata": {
    "colab": {
     "base_uri": "https://localhost:8080/",
     "height": 300
    },
    "id": "a8T_b_G9__79",
    "outputId": "25d50431-bfb1-4b6a-c895-604925edc8b9"
   },
   "outputs": [
    {
     "data": {
      "image/png": "[encoded data removed]",
      "text/plain": [
       "<Figure size 432x288 with 1 Axes>"
      ]
     },
     "metadata": {
      "needs_background": "light"
     },
     "output_type": "display_data"
    }
   ],
   "source": [
    "fig = df_missing.groupby([\"missing_values_count\"])[[\"Image\"]].count().plot(kind='bar',color = 'blue', title=\"Missing features count per example\").get_figure()\n",
    "fig.savefig(\"images/missing_features_count.png\")"
   ]
  },
  {
   "cell_type": "markdown",
   "metadata": {
    "id": "CUUIwwaCe9gz"
   },
   "source": [
    "#### **Dealing with missing values**\r\n"
   ]
  },
  {
   "cell_type": "markdown",
   "metadata": {
    "id": "mR5KMS_mA5Gh"
   },
   "source": [
    "**Prepare datasets to train a model for each feature inorder to use it to replace the missing values**\n",
    "\n",
    "Inorder to fill the missing values, we will train a prediction model for each feature except the nose as it doesn't have any missing value. Thus we shall train 14 model. First we will prepare the dataset for each feature.\n",
    "<br> We will build a dictionary of dataframes that contain the dataset for each feature (separating features from each other)"
   ]
  },
  {
   "cell_type": "code",
   "execution_count": 12,
   "metadata": {},
   "outputs": [],
   "source": [
    "df_nose = train_data[[\"nose_tip_x\",\"nose_tip_y\",\"Image\"]].reset_index()"
   ]
  },
  {
   "cell_type": "code",
   "execution_count": 13,
   "metadata": {},
   "outputs": [],
   "source": [
    "pkl.dump(df_nose, open(\"data/nose_tip.pkl\",\"wb\"))"
   ]
  },
  {
   "cell_type": "code",
   "execution_count": 6,
   "metadata": {},
   "outputs": [
    {
     "data": {
      "text/html": [
       "<div>\n",
       "<style scoped>\n",
       "    .dataframe tbody tr th:only-of-type {\n",
       "        vertical-align: middle;\n",
       "    }\n",
       "\n",
       "    .dataframe tbody tr th {\n",
       "        vertical-align: top;\n",
       "    }\n",
       "\n",
       "    .dataframe thead th {\n",
       "        text-align: right;\n",
       "    }\n",
       "</style>\n",
       "<table border=\"1\" class=\"dataframe\">\n",
       "  <thead>\n",
       "    <tr style=\"text-align: right;\">\n",
       "      <th></th>\n",
       "      <th>index</th>\n",
       "      <th>nose_tip_x</th>\n",
       "      <th>nose_tip_y</th>\n",
       "    </tr>\n",
       "  </thead>\n",
       "  <tbody>\n",
       "    <tr>\n",
       "      <th>0</th>\n",
       "      <td>0</td>\n",
       "      <td>44.420571</td>\n",
       "      <td>57.066803</td>\n",
       "    </tr>\n",
       "    <tr>\n",
       "      <th>1</th>\n",
       "      <td>1</td>\n",
       "      <td>48.206298</td>\n",
       "      <td>55.660936</td>\n",
       "    </tr>\n",
       "    <tr>\n",
       "      <th>2</th>\n",
       "      <td>2</td>\n",
       "      <td>47.557263</td>\n",
       "      <td>53.538947</td>\n",
       "    </tr>\n",
       "    <tr>\n",
       "      <th>3</th>\n",
       "      <td>3</td>\n",
       "      <td>51.885078</td>\n",
       "      <td>54.166539</td>\n",
       "    </tr>\n",
       "    <tr>\n",
       "      <th>4</th>\n",
       "      <td>4</td>\n",
       "      <td>43.299534</td>\n",
       "      <td>64.889521</td>\n",
       "    </tr>\n",
       "  </tbody>\n",
       "</table>\n",
       "</div>"
      ],
      "text/plain": [
       "   index  nose_tip_x  nose_tip_y\n",
       "0      0   44.420571   57.066803\n",
       "1      1   48.206298   55.660936\n",
       "2      2   47.557263   53.538947\n",
       "3      3   51.885078   54.166539\n",
       "4      4   43.299534   64.889521"
      ]
     },
     "execution_count": 6,
     "metadata": {},
     "output_type": "execute_result"
    }
   ],
   "source": [
    "df_nose.head()"
   ]
  },
  {
   "cell_type": "code",
   "execution_count": 170,
   "metadata": {
    "id": "9iJTuxj_kNfQ"
   },
   "outputs": [],
   "source": [
    "dic_train_data={}\n",
    "dic_missing_data={}\n",
    "\n",
    "dic_train_data_size={}\n",
    "cols = train_data.columns.tolist()[:30]\n",
    "# to take out the nose feature\n",
    "cols.remove('nose_tip_x')\n",
    "cols.remove('nose_tip_y')\n",
    "\n",
    "for col_i in range(0,len(cols),2):\n",
    "  # constructing the features\n",
    "    feature_name = cols[col_i][:-2]\n",
    "    feature = [cols[col_i],cols[col_i+1],\"Image\"]\n",
    "    # get all rows that does not contain a missing value for the specified feature\n",
    "    feature_df = train_data[feature]\n",
    "    df_feature_not_missing = feature_df[~feature_df.isnull().any(axis=1)]\n",
    "    df_feature_missing = feature_df[feature_df.isnull().any(axis=1)]\n",
    "    dic_train_data_size[feature_name]=df_feature_not_missing.shape[0]\n",
    "    dic_train_data[feature_name]=df_feature_not_missing\n",
    "    dic_missing_data[feature_name]=df_feature_missing"
   ]
  },
  {
   "cell_type": "markdown",
   "metadata": {
    "id": "dxN8fOBC6Mls"
   },
   "source": [
    "Lets see the number of non null examples for each feature pf the 14 feature.<br>This will be the size of the dataset that we will remain with for each feature."
   ]
  },
  {
   "cell_type": "code",
   "execution_count": 171,
   "metadata": {
    "colab": {
     "base_uri": "https://localhost:8080/"
    },
    "id": "X9M3p9LYl64D",
    "outputId": "b130a383-51b2-495b-ad85-8987b3a64310"
   },
   "outputs": [
    {
     "data": {
      "text/plain": [
       "{'left_eye_center': 7039,\n",
       " 'right_eye_center': 7036,\n",
       " 'left_eye_inner_corner': 2271,\n",
       " 'left_eye_outer_corner': 2267,\n",
       " 'right_eye_inner_corner': 2268,\n",
       " 'right_eye_outer_corner': 2268,\n",
       " 'left_eyebrow_inner_end': 2270,\n",
       " 'left_eyebrow_outer_end': 2225,\n",
       " 'right_eyebrow_inner_end': 2270,\n",
       " 'right_eyebrow_outer_end': 2236,\n",
       " 'mouth_left_corner': 2269,\n",
       " 'mouth_right_corner': 2270,\n",
       " 'mouth_center_top_lip': 2275,\n",
       " 'mouth_center_bottom_lip': 7016}"
      ]
     },
     "execution_count": 171,
     "metadata": {},
     "output_type": "execute_result"
    }
   ],
   "source": [
    "dic_train_data_size"
   ]
  },
  {
   "cell_type": "code",
   "execution_count": 172,
   "metadata": {
    "colab": {
     "base_uri": "https://localhost:8080/",
     "height": 195
    },
    "id": "tOeuaWCRhGHe",
    "outputId": "1cc47ecf-de08-473e-fd74-42ecbfcae3df"
   },
   "outputs": [
    {
     "data": {
      "text/html": [
       "<div>\n",
       "<style scoped>\n",
       "    .dataframe tbody tr th:only-of-type {\n",
       "        vertical-align: middle;\n",
       "    }\n",
       "\n",
       "    .dataframe tbody tr th {\n",
       "        vertical-align: top;\n",
       "    }\n",
       "\n",
       "    .dataframe thead th {\n",
       "        text-align: right;\n",
       "    }\n",
       "</style>\n",
       "<table border=\"1\" class=\"dataframe\">\n",
       "  <thead>\n",
       "    <tr style=\"text-align: right;\">\n",
       "      <th></th>\n",
       "      <th>right_eyebrow_outer_end_x</th>\n",
       "      <th>right_eyebrow_outer_end_y</th>\n",
       "      <th>Image</th>\n",
       "    </tr>\n",
       "  </thead>\n",
       "  <tbody>\n",
       "    <tr>\n",
       "      <th>0</th>\n",
       "      <td>16.356379</td>\n",
       "      <td>29.647471</td>\n",
       "      <td>[[238, 236, 237, 238, 240, 240, 239, 241, 241,...</td>\n",
       "    </tr>\n",
       "    <tr>\n",
       "      <th>1</th>\n",
       "      <td>16.865362</td>\n",
       "      <td>27.058860</td>\n",
       "      <td>[[219, 215, 204, 196, 204, 211, 212, 200, 180,...</td>\n",
       "    </tr>\n",
       "    <tr>\n",
       "      <th>2</th>\n",
       "      <td>16.791158</td>\n",
       "      <td>32.087116</td>\n",
       "      <td>[[144, 142, 159, 180, 188, 188, 184, 180, 167,...</td>\n",
       "    </tr>\n",
       "    <tr>\n",
       "      <th>3</th>\n",
       "      <td>20.458017</td>\n",
       "      <td>29.909343</td>\n",
       "      <td>[[193, 192, 193, 194, 194, 194, 193, 192, 168,...</td>\n",
       "    </tr>\n",
       "    <tr>\n",
       "      <th>4</th>\n",
       "      <td>15.925870</td>\n",
       "      <td>30.672177</td>\n",
       "      <td>[[147, 148, 160, 196, 215, 214, 216, 217, 219,...</td>\n",
       "    </tr>\n",
       "  </tbody>\n",
       "</table>\n",
       "</div>"
      ],
      "text/plain": [
       "   right_eyebrow_outer_end_x  right_eyebrow_outer_end_y  \\\n",
       "0                  16.356379                  29.647471   \n",
       "1                  16.865362                  27.058860   \n",
       "2                  16.791158                  32.087116   \n",
       "3                  20.458017                  29.909343   \n",
       "4                  15.925870                  30.672177   \n",
       "\n",
       "                                               Image  \n",
       "0  [[238, 236, 237, 238, 240, 240, 239, 241, 241,...  \n",
       "1  [[219, 215, 204, 196, 204, 211, 212, 200, 180,...  \n",
       "2  [[144, 142, 159, 180, 188, 188, 184, 180, 167,...  \n",
       "3  [[193, 192, 193, 194, 194, 194, 193, 192, 168,...  \n",
       "4  [[147, 148, 160, 196, 215, 214, 216, 217, 219,...  "
      ]
     },
     "execution_count": 172,
     "metadata": {},
     "output_type": "execute_result"
    }
   ],
   "source": [
    "# view an example\r\n",
    "dic_train_data[\"right_eyebrow_outer_end\"].head()"
   ]
  },
  {
   "cell_type": "code",
   "execution_count": 173,
   "metadata": {},
   "outputs": [],
   "source": [
    "import pickle as pkl\n",
    "pkl.dump(dic_train_data, open(\"data/dic_train_data.pkl\",\"wb\"))\n",
    "pkl.dump(dic_train_data_size, open(\"data/dic_train_data_size.pkl\",\"wb\"))\n",
    "pkl.dump(dic_missing_data, open(\"data/dic_missing_data.pkl\",\"wb\"))"
   ]
  },
  {
   "cell_type": "markdown",
   "metadata": {
    "id": "vy0BhWO5mt3v"
   },
   "source": [
    "save the dictionaries in pickle format"
   ]
  },
  {
   "cell_type": "markdown",
   "metadata": {
    "id": "Ys-qr2X5WKAR"
   },
   "source": [
    "### Part 1.2 **Create custom Data Generator**\n",
    "\n",
    "**We will build a data generator that will load mini-batches and feed to the model dynamically**"
   ]
  },
  {
   "cell_type": "code",
   "execution_count": 174,
   "metadata": {
    "id": "i8PX_Elb-VQz"
   },
   "outputs": [],
   "source": [
    "class DataGenerator(tf.keras.utils.Sequence):\n",
    "    def __init__(self, df, batch_size=32, rgb_channels=True, shuffle=True, augment=True, normalize_image=True, normalize_coordinates=False, scalers=None):\n",
    "        self.df = df\n",
    "        self.batch_size = batch_size\n",
    "        self.size = df.shape[0]\n",
    "        self.shuffle = shuffle\n",
    "        self.augment = augment\n",
    "        # Keras pre-trained models have trained on color images and if we want to use grayscale images we can still use these pre-trained models by repeating the grayscale image over three channels\n",
    "        self.rgb_channels = rgb_channels\n",
    "        self.normalize_image = normalize_image\n",
    "        self.normalize_coordinates = normalize_coordinates\n",
    "        self.scalers = scalers\n",
    "        self.feature_columns = df.columns.tolist()[:-1]\n",
    "        #  To keep track on which pairs of landmarks to be swapped, we introduce a dictionary recording the original and new landmark's index\n",
    "        self.left_right_dic = {'right_eye_center_x' : 'left_eye_center_x' ,\n",
    "                'right_eye_center_y' : 'left_eye_center_y' ,\n",
    "                'right_eye_inner_corner_x' : 'left_eye_inner_corner_x' ,\n",
    "                'right_eye_inner_corner_y' : 'left_eye_inner_corner_y' ,\n",
    "                'right_eye_outer_corner_x' : 'left_eye_outer_corner_x' ,\n",
    "                'right_eye_outer_corner_y' : 'left_eye_outer_corner_y' ,\n",
    "                'right_eyebrow_inner_end_x' : 'left_eyebrow_inner_end_x' ,\n",
    "                'right_eyebrow_inner_end_y' : 'left_eyebrow_inner_end_y' ,\n",
    "                'right_eyebrow_outer_end_x' : 'left_eyebrow_outer_end_x' ,\n",
    "                'right_eyebrow_outer_end_y' : 'left_eyebrow_outer_end_y' ,\n",
    "                'mouth_right_corner_x' : 'mouth_left_corner_x' ,\n",
    "                'mouth_right_corner_y' : 'mouth_left_corner_y' }\n",
    "        self.on_epoch_end()\n",
    "\n",
    "    def __len__(self):\n",
    "        'Denotes the number of batches per epoch'\n",
    "        return self.size // self.batch_size\n",
    "\n",
    "    def on_epoch_end(self):\n",
    "        'Updates indexes after each epoch'\n",
    "        self.indexes = np.arange(self.size)\n",
    "        if self.shuffle:\n",
    "            np.random.shuffle(self.indexes)\n",
    "\n",
    "    def __getitem__(self, index):\n",
    "        # selects indices of data for next batch`\n",
    "        indexes = self.indexes[index * self.batch_size : (index + 1) * self.batch_size]\n",
    "        'Generate one batch of data'\n",
    "        batched_df = self.df.iloc[indexes] #.sample(frac=1).reset_index(drop=True)\n",
    "\n",
    "        if self.augment == True:\n",
    "            df_batch = self.augmentor(batched_df)\n",
    "        else:\n",
    "            df_batch = batched_df\n",
    "\n",
    "\n",
    "        batched_images = np.vstack(df_batch[\"Image\"].values).reshape(-1, 96, 96, 1).astype(np.float32)\n",
    "        \n",
    "        if self.rgb_channels:\n",
    "            batched_images = np.repeat(batched_images,3,-1)\n",
    "\n",
    "        batched_feature_corrdinates = df_batch.iloc[:,:-1]\n",
    "        \n",
    "        if self.normalize_coordinates:\n",
    "            for col in self.feature_columns:\n",
    "                scaler = self.scalers[col]\n",
    "                batched_feature_corrdinates[col] = scaler.transform(batched_feature_corrdinates[col].to_numpy().reshape(-1, 1)).reshape(-1)\n",
    "\n",
    "        batched_feature_corrdinates = batched_feature_corrdinates.values.astype(np.float32) #feature coordinates        \n",
    "\n",
    "        if self.normalize_image == True:\n",
    "            batched_images = batched_images/255\n",
    "\n",
    "        return batched_images, batched_feature_corrdinates\n",
    "\n",
    "    def augmentor(self, df):\n",
    "\n",
    "        def flip_horizontally(row):\n",
    "            'Method that flips the image horizontally and swaps the features' \n",
    "            row[\"Image\"] = np.flip(row[\"Image\"], axis = 1)\n",
    "            # y coordinates values will stay the same while the x coordinates will have to be changed\n",
    "            # subtract our initial x-coordinate values from width of the image(96)\n",
    "            for i in range(len(self.feature_columns)):#+1\n",
    "                if i%2 == 0: # because there is always x coordinate then y corrdinate\n",
    "                    row[self.feature_columns[i]] = 96. - row[self.feature_columns[i]]\n",
    "            # swap\n",
    "            rights = [a for a in self.feature_columns if \"right\" in a.split(\"_\")]\n",
    "            for col_r in rights:\n",
    "                col_l = self.left_right_dic[col_r]\n",
    "                temp = row[col_l] \n",
    "                row[col_l] = row[col_r]\n",
    "                row[col_r] = temp\n",
    "            return row\n",
    "\n",
    "        def increase_brightness(image):\n",
    "            'Method that randomly increase images brightness'      \n",
    "            # Multiply pixel values by random values between 1 and 1.5 to increase the brightness of the image\n",
    "            # Clip the value between 0 and 255\n",
    "            image = np.clip(random.uniform(1, 1.5) * image, 0.0, 255.0)\n",
    "            return image\n",
    "\n",
    "        def decrease_brightness(image):\n",
    "            'Method that randomly decrease images brightness'\n",
    "            # Multiply pixel values by random values between 0 and 0.1 to decrease the brightness of the image\n",
    "            # Clip the value between 0 and 255\n",
    "            image = np.clip(random.uniform(0, 0.1) * image, 0.0, 255.0)\n",
    "            return image\n",
    "\n",
    "        def augment(row):\n",
    "        # if we have more than one feature allow flipping\n",
    "            if len(self.feature_columns)>2:\n",
    "                if row[\"augment_flip\"]==1:\n",
    "                    row =  flip_horizontally(row)\n",
    "            if row[\"augment_inc_b\"]:\n",
    "                row[\"Image\"] = increase_brightness(row[\"Image\"])\n",
    "            if row[\"augment_dec_b\"]:\n",
    "                row[\"Image\"] = decrease_brightness(row[\"Image\"])\n",
    "            return row\n",
    "\n",
    "      # generate random boolean for augmentation types \n",
    "        df[\"augment_flip\"] = [random.getrandbits(1) for i in range(len(df))]\n",
    "        df[\"augment_inc_b\"] = [random.getrandbits(1) for i in range(len(df))]\n",
    "        df[\"augment_dec_b\"] = [random.getrandbits(1) for i in range(len(df))]\n",
    "        # df = df.apply(lambda row : augment(row), axis=1)\n",
    "        df = df.apply(augment, axis=1)\n",
    "        df.drop(['augment_flip', 'augment_inc_b', 'augment_dec_b'], axis=1, inplace=True)\n",
    "        return df\n"
   ]
  },
  {
   "cell_type": "code",
   "execution_count": 175,
   "metadata": {
    "id": "PECiMoaU8ogz"
   },
   "outputs": [],
   "source": [
    "def visualize_image(x, y):\n",
    "  # x-coordinates are in even columns like 0,2,4,.. and y-coordinates are in odd columns like 1,3,5,..\n",
    "    plt.figure()\n",
    "    plt.imshow(x, cmap='gray')\n",
    "    f = y.shape[0]\n",
    "    for j in range(0,f,2):\n",
    "        plt.plot(y[j], y[j+1], 'rx')"
   ]
  },
  {
   "cell_type": "code",
   "execution_count": 182,
   "metadata": {},
   "outputs": [],
   "source": [
    "# build scalers for each feature to use it for their normalization\n",
    "\n",
    "scalers_dict = dict()\n",
    "for col in train_data.columns.tolist()[:-1]:\n",
    "    scaler = MinMaxScaler()\n",
    "    scaler.fit(train_data[col].to_numpy().reshape(-1, 1))\n",
    "    scalers_dict[col] = scaler"
   ]
  },
  {
   "cell_type": "markdown",
   "metadata": {
    "id": "eX1dSeiRCUUE"
   },
   "source": [
    "Lets try the data generator and visuilize some images"
   ]
  },
  {
   "cell_type": "code",
   "execution_count": 183,
   "metadata": {
    "colab": {
     "base_uri": "https://localhost:8080/"
    },
    "id": "ft7dadDDP6kP",
    "outputId": "d5e8bc5a-ad69-4059-95b7-d11274c7727f"
   },
   "outputs": [
    {
     "data": {
      "text/plain": [
       "MinMaxScaler()"
      ]
     },
     "execution_count": 183,
     "metadata": {},
     "output_type": "execute_result"
    }
   ],
   "source": [
    "scalers_dict[\"right_eye_center_x\"]"
   ]
  },
  {
   "cell_type": "markdown",
   "metadata": {},
   "source": [
    "trying out the generator"
   ]
  },
  {
   "cell_type": "code",
   "execution_count": 184,
   "metadata": {
    "colab": {
     "base_uri": "https://localhost:8080/",
     "height": 268
    },
    "id": "yJH64UIwZAW3",
    "outputId": "d900a355-d521-4676-b789-7c44efab1a74"
   },
   "outputs": [
    {
     "data": {
      "image/png": "[encoded data removed]",
      "text/plain": [
       "<Figure size 432x288 with 1 Axes>"
      ]
     },
     "metadata": {
      "needs_background": "light"
     },
     "output_type": "display_data"
    }
   ],
   "source": [
    "gen = DataGenerator(train_data, batch_size = 32, augment=True, normalize_image=False, normalize_coordinates=False, scalers=scalers_dict)\r\n",
    "# df = dic_train_data[\"right_eyebrow_outer_end\"]\r\n",
    "item_index = 3\r\n",
    "element_index = 4\r\n",
    "batch = gen.__getitem__(item_index)\r\n",
    "image  = batch[0][element_index].reshape(96,96,3)[:,:,0]\r\n",
    "coordinates = batch[1][element_index]\r\n",
    "visualize_image(image, coordinates)"
   ]
  },
  {
   "cell_type": "code",
   "execution_count": null,
   "metadata": {},
   "outputs": [],
   "source": []
  }
 ],
 "metadata": {
  "accelerator": "GPU",
  "colab": {
   "collapsed_sections": [],
   "name": "FacialKeyPointsDetection.ipynb",
   "provenance": [],
   "toc_visible": true
  },
  "kernelspec": {
   "display_name": "Python 3",
   "language": "python",
   "name": "python3"
  },
  "language_info": {
   "codemirror_mode": {
    "name": "ipython",
    "version": 3
   },
   "file_extension": ".py",
   "mimetype": "text/x-python",
   "name": "python",
   "nbconvert_exporter": "python",
   "pygments_lexer": "ipython3",
   "version": "3.6.12"
  }
 },
 "nbformat": 4,
 "nbformat_minor": 4
}
