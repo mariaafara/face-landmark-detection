{
 "cells": [
  {
   "cell_type": "code",
   "execution_count": 1,
   "metadata": {},
   "outputs": [],
   "source": [
    "%load_ext autoreload"
   ]
  },
  {
   "cell_type": "code",
   "execution_count": 2,
   "metadata": {},
   "outputs": [],
   "source": [
    "%autoreload 2"
   ]
  },
  {
   "cell_type": "code",
   "execution_count": 4,
   "metadata": {},
   "outputs": [],
   "source": [
    "import os \n",
    "os.environ[\"BASE_MODEL_NAME\"] = \"InceptionV3\"\n",
    "os.environ[\"EPOCHS\"] = \"20\"\n",
    "os.environ[\"PATIENCE\"] = \"5\"\n",
    "os.environ[\"TRAIN_SCALER_PATH\"] = \"scalers/prediction_model_scaler.pkl\"\n",
    "os.environ[\"WEIGHT_PATH\"] = \"models/prediction_model/weights/weights.ckpt\"\n",
    "os.environ[\"FEATURES_DIMENSIONS\"] = \"30\"\n",
    "os.environ[\"MODEL_PATH\"] = \"models/prediction_model/model\""
   ]
  },
  {
   "cell_type": "code",
   "execution_count": 5,
   "metadata": {},
   "outputs": [],
   "source": [
    "import pandas as pd\n",
    "import seaborn as sns\n",
    "import matplotlib.pyplot as plt\n",
    "from src.utils import *\n",
    "from src.train import fit_model\n",
    "from src.model.model import MyModel\n",
    "from src.config import prediction_model_config as config\n",
    "from src.data_preparation.data_generator import DataGenerator\n",
    "from IPython.display import clear_output\n",
    "pd.options.mode.chained_assignment = None  "
   ]
  },
  {
   "cell_type": "code",
   "execution_count": 6,
   "metadata": {},
   "outputs": [
    {
     "data": {
      "text/plain": [
       "(7049, 31)"
      ]
     },
     "execution_count": 6,
     "metadata": {},
     "output_type": "execute_result"
    }
   ],
   "source": [
    "df = load_from_pickle(config.DATA_LOAD_PATH)\n",
    "df.shape"
   ]
  },
  {
   "cell_type": "code",
   "execution_count": 7,
   "metadata": {},
   "outputs": [
    {
     "data": {
      "text/html": [
       "<div>\n",
       "<style scoped>\n",
       "    .dataframe tbody tr th:only-of-type {\n",
       "        vertical-align: middle;\n",
       "    }\n",
       "\n",
       "    .dataframe tbody tr th {\n",
       "        vertical-align: top;\n",
       "    }\n",
       "\n",
       "    .dataframe thead th {\n",
       "        text-align: right;\n",
       "    }\n",
       "</style>\n",
       "<table border=\"1\" class=\"dataframe\">\n",
       "  <thead>\n",
       "    <tr style=\"text-align: right;\">\n",
       "      <th></th>\n",
       "      <th>left_eye_center_x</th>\n",
       "      <th>left_eye_center_y</th>\n",
       "      <th>right_eye_center_x</th>\n",
       "      <th>right_eye_center_y</th>\n",
       "      <th>left_eye_inner_corner_x</th>\n",
       "      <th>left_eye_inner_corner_y</th>\n",
       "      <th>left_eye_outer_corner_x</th>\n",
       "      <th>left_eye_outer_corner_y</th>\n",
       "      <th>right_eye_inner_corner_x</th>\n",
       "      <th>right_eye_inner_corner_y</th>\n",
       "      <th>...</th>\n",
       "      <th>mouth_left_corner_y</th>\n",
       "      <th>mouth_right_corner_x</th>\n",
       "      <th>mouth_right_corner_y</th>\n",
       "      <th>mouth_center_top_lip_x</th>\n",
       "      <th>mouth_center_top_lip_y</th>\n",
       "      <th>mouth_center_bottom_lip_x</th>\n",
       "      <th>mouth_center_bottom_lip_y</th>\n",
       "      <th>nose_tip_x</th>\n",
       "      <th>nose_tip_y</th>\n",
       "      <th>Image</th>\n",
       "    </tr>\n",
       "  </thead>\n",
       "  <tbody>\n",
       "    <tr>\n",
       "      <th>0</th>\n",
       "      <td>66.033564</td>\n",
       "      <td>39.002274</td>\n",
       "      <td>30.227008</td>\n",
       "      <td>36.421678</td>\n",
       "      <td>59.582075</td>\n",
       "      <td>39.647423</td>\n",
       "      <td>73.130346</td>\n",
       "      <td>39.969997</td>\n",
       "      <td>36.356571</td>\n",
       "      <td>37.389402</td>\n",
       "      <td>...</td>\n",
       "      <td>79.970165</td>\n",
       "      <td>28.614496</td>\n",
       "      <td>77.388992</td>\n",
       "      <td>43.312602</td>\n",
       "      <td>72.935459</td>\n",
       "      <td>43.130707</td>\n",
       "      <td>84.485774</td>\n",
       "      <td>44.420571</td>\n",
       "      <td>57.066803</td>\n",
       "      <td>[[238, 236, 237, 238, 240, 240, 239, 241, 241,...</td>\n",
       "    </tr>\n",
       "    <tr>\n",
       "      <th>1</th>\n",
       "      <td>64.332936</td>\n",
       "      <td>34.970077</td>\n",
       "      <td>29.949277</td>\n",
       "      <td>33.448715</td>\n",
       "      <td>58.856170</td>\n",
       "      <td>35.274349</td>\n",
       "      <td>70.722723</td>\n",
       "      <td>36.187166</td>\n",
       "      <td>36.034723</td>\n",
       "      <td>34.361532</td>\n",
       "      <td>...</td>\n",
       "      <td>76.352000</td>\n",
       "      <td>35.122383</td>\n",
       "      <td>76.047660</td>\n",
       "      <td>46.684596</td>\n",
       "      <td>70.266553</td>\n",
       "      <td>45.467915</td>\n",
       "      <td>85.480170</td>\n",
       "      <td>48.206298</td>\n",
       "      <td>55.660936</td>\n",
       "      <td>[[219, 215, 204, 196, 204, 211, 212, 200, 180,...</td>\n",
       "    </tr>\n",
       "    <tr>\n",
       "      <th>2</th>\n",
       "      <td>65.057053</td>\n",
       "      <td>34.909642</td>\n",
       "      <td>30.903789</td>\n",
       "      <td>34.909642</td>\n",
       "      <td>59.412000</td>\n",
       "      <td>36.320968</td>\n",
       "      <td>70.984421</td>\n",
       "      <td>36.320968</td>\n",
       "      <td>37.678105</td>\n",
       "      <td>36.320968</td>\n",
       "      <td>...</td>\n",
       "      <td>73.014316</td>\n",
       "      <td>33.726316</td>\n",
       "      <td>72.732000</td>\n",
       "      <td>47.274947</td>\n",
       "      <td>70.191789</td>\n",
       "      <td>47.274947</td>\n",
       "      <td>78.659368</td>\n",
       "      <td>47.557263</td>\n",
       "      <td>53.538947</td>\n",
       "      <td>[[144, 142, 159, 180, 188, 188, 184, 180, 167,...</td>\n",
       "    </tr>\n",
       "  </tbody>\n",
       "</table>\n",
       "<p>3 rows × 31 columns</p>\n",
       "</div>"
      ],
      "text/plain": [
       "   left_eye_center_x  left_eye_center_y  right_eye_center_x  \\\n",
       "0          66.033564          39.002274           30.227008   \n",
       "1          64.332936          34.970077           29.949277   \n",
       "2          65.057053          34.909642           30.903789   \n",
       "\n",
       "   right_eye_center_y  left_eye_inner_corner_x  left_eye_inner_corner_y  \\\n",
       "0           36.421678                59.582075                39.647423   \n",
       "1           33.448715                58.856170                35.274349   \n",
       "2           34.909642                59.412000                36.320968   \n",
       "\n",
       "   left_eye_outer_corner_x  left_eye_outer_corner_y  right_eye_inner_corner_x  \\\n",
       "0                73.130346                39.969997                 36.356571   \n",
       "1                70.722723                36.187166                 36.034723   \n",
       "2                70.984421                36.320968                 37.678105   \n",
       "\n",
       "   right_eye_inner_corner_y  ...  mouth_left_corner_y  mouth_right_corner_x  \\\n",
       "0                 37.389402  ...            79.970165             28.614496   \n",
       "1                 34.361532  ...            76.352000             35.122383   \n",
       "2                 36.320968  ...            73.014316             33.726316   \n",
       "\n",
       "   mouth_right_corner_y  mouth_center_top_lip_x  mouth_center_top_lip_y  \\\n",
       "0             77.388992               43.312602               72.935459   \n",
       "1             76.047660               46.684596               70.266553   \n",
       "2             72.732000               47.274947               70.191789   \n",
       "\n",
       "   mouth_center_bottom_lip_x  mouth_center_bottom_lip_y  nose_tip_x  \\\n",
       "0                  43.130707                  84.485774   44.420571   \n",
       "1                  45.467915                  85.480170   48.206298   \n",
       "2                  47.274947                  78.659368   47.557263   \n",
       "\n",
       "   nose_tip_y                                              Image  \n",
       "0   57.066803  [[238, 236, 237, 238, 240, 240, 239, 241, 241,...  \n",
       "1   55.660936  [[219, 215, 204, 196, 204, 211, 212, 200, 180,...  \n",
       "2   53.538947  [[144, 142, 159, 180, 188, 188, 184, 180, 167,...  \n",
       "\n",
       "[3 rows x 31 columns]"
      ]
     },
     "execution_count": 7,
     "metadata": {},
     "output_type": "execute_result"
    }
   ],
   "source": [
    "df.head(3)"
   ]
  },
  {
   "cell_type": "markdown",
   "metadata": {},
   "source": [
    "Split the dataset into test and train"
   ]
  },
  {
   "cell_type": "code",
   "execution_count": 8,
   "metadata": {},
   "outputs": [
    {
     "name": "stdout",
     "output_type": "stream",
     "text": [
      "(7049, 31) (160, 31) (40, 31)\n"
     ]
    }
   ],
   "source": [
    "df_train, df_test = split_data(df[:200])\n",
    "print(df.shape, df_train.shape, df_test.shape)"
   ]
  },
  {
   "cell_type": "code",
   "execution_count": 9,
   "metadata": {},
   "outputs": [
    {
     "data": {
      "text/plain": [
       "'scalers/prediction_model_scaler.pkl'"
      ]
     },
     "execution_count": 9,
     "metadata": {},
     "output_type": "execute_result"
    }
   ],
   "source": [
    "config.TRAIN_SCALER_PATH"
   ]
  },
  {
   "cell_type": "markdown",
   "metadata": {},
   "source": [
    "### Build train scaler and save it"
   ]
  },
  {
   "cell_type": "code",
   "execution_count": 10,
   "metadata": {},
   "outputs": [],
   "source": [
    "# fit the MinMaxScaler using the training data and then apply the scaler on the testing data before the prediction.\n",
    "scaler = create_scaler(df_train.iloc[:,:30],)\n",
    "save_to_pickle(scaler, config.TRAIN_SCALER_PATH)"
   ]
  },
  {
   "cell_type": "markdown",
   "metadata": {},
   "source": [
    "### Create train and validation data generators"
   ]
  },
  {
   "cell_type": "code",
   "execution_count": 11,
   "metadata": {},
   "outputs": [],
   "source": [
    "train_generator = DataGenerator(df_train, \n",
    "                                batch_size=config.BATCH_SIZE,\n",
    "                                augment= config.AUGMENT_TRAIN,\n",
    "                                rgb_channels= config.RGB_CHANNELS,\n",
    "                                normalize_image=config.NORMALIZE_IMAGE,\n",
    "                                normalize_coordinates=config.NORMALIZE_COORDINATES, \n",
    "                                scaler=scaler)\n",
    "\n",
    "val_generator =  DataGenerator(df_test,\n",
    "                               batch_size=config.BATCH_SIZE,\n",
    "                               augment=config.AUGMENT_VAL,\n",
    "                               shuffle=False, \n",
    "                               rgb_channels=config.RGB_CHANNELS, \n",
    "                               normalize_image=config.NORMALIZE_IMAGE,\n",
    "                               normalize_coordinates=config.NORMALIZE_COORDINATES,\n",
    "                               scaler=train_generator.scaler)"
   ]
  },
  {
   "cell_type": "markdown",
   "metadata": {},
   "source": [
    "### Create the prediction model"
   ]
  },
  {
   "cell_type": "code",
   "execution_count": 12,
   "metadata": {},
   "outputs": [],
   "source": [
    "my_model = MyModel(config.IMAGE_SHAPE,\n",
    "                   config.BASE_MODEL_NAME,\n",
    "                   config.FEATURES_DIMENSIONS,\n",
    "                   trainable=config.TRAINABLE,\n",
    "                   intermediate_dim=config.INTERMEDIATE_DIMENSIONS,\n",
    "                   dropout_rate=config.DROPOUT_RATE\n",
    "                  )"
   ]
  },
  {
   "cell_type": "code",
   "execution_count": 13,
   "metadata": {},
   "outputs": [
    {
     "name": "stdout",
     "output_type": "stream",
     "text": [
      "Model: \"my_model\"\n",
      "_________________________________________________________________\n",
      "Layer (type)                 Output Shape              Param #   \n",
      "=================================================================\n",
      "InceptionV3 (BaseModel)      multiple                  21802784  \n",
      "_________________________________________________________________\n",
      "flatten (Flatten)            multiple                  0         \n",
      "_________________________________________________________________\n",
      "top_model (TopModel)         multiple                  133086    \n",
      "=================================================================\n",
      "Total params: 21,935,870\n",
      "Trainable params: 133,086\n",
      "Non-trainable params: 21,802,784\n",
      "_________________________________________________________________\n"
     ]
    }
   ],
   "source": [
    "my_model.summary()"
   ]
  },
  {
   "cell_type": "markdown",
   "metadata": {},
   "source": [
    "### Train the model"
   ]
  },
  {
   "cell_type": "code",
   "execution_count": 14,
   "metadata": {},
   "outputs": [
    {
     "name": "stdout",
     "output_type": "stream",
     "text": [
      "Epoch 1/20\n",
      "5/5 [==============================] - ETA: 0s - loss: 4.1789\n",
      "Epoch 00001: val_loss improved from inf to 2.61174, saving model to models/prediction_model/weights/weights.ckpt\n",
      "5/5 [==============================] - 3s 503ms/step - loss: 4.1789 - val_loss: 2.6117\n",
      "Epoch 2/20\n",
      "5/5 [==============================] - ETA: 0s - loss: 3.4927\n",
      "Epoch 00002: val_loss improved from 2.61174 to 2.42907, saving model to models/prediction_model/weights/weights.ckpt\n",
      "5/5 [==============================] - 1s 282ms/step - loss: 3.4927 - val_loss: 2.4291\n",
      "Epoch 3/20\n",
      "5/5 [==============================] - ETA: 0s - loss: 3.0038\n",
      "Epoch 00003: val_loss did not improve from 2.42907\n",
      "5/5 [==============================] - 1s 222ms/step - loss: 3.0038 - val_loss: 2.4693\n",
      "Epoch 4/20\n",
      "5/5 [==============================] - ETA: 0s - loss: 2.7811\n",
      "Epoch 00004: val_loss did not improve from 2.42907\n",
      "5/5 [==============================] - 1s 220ms/step - loss: 2.7811 - val_loss: 2.5511\n",
      "Epoch 5/20\n",
      "5/5 [==============================] - ETA: 0s - loss: 2.6526\n",
      "Epoch 00005: val_loss did not improve from 2.42907\n",
      "5/5 [==============================] - 1s 222ms/step - loss: 2.6526 - val_loss: 2.5904\n",
      "Epoch 6/20\n",
      "5/5 [==============================] - ETA: 0s - loss: 2.5970\n",
      "Epoch 00006: val_loss did not improve from 2.42907\n",
      "5/5 [==============================] - 1s 219ms/step - loss: 2.5970 - val_loss: 2.5810\n",
      "Epoch 7/20\n",
      "5/5 [==============================] - ETA: 0s - loss: 2.5082\n",
      "Epoch 00007: val_loss did not improve from 2.42907\n",
      "\n",
      "Epoch 00007: ReduceLROnPlateau reducing learning rate to 1.9999999494757503e-05.\n",
      "5/5 [==============================] - 1s 232ms/step - loss: 2.5082 - val_loss: 2.5223\n",
      "Epoch 00007: early stopping\n"
     ]
    }
   ],
   "source": [
    "my_model, history = fit_model(my_model, config.EPOCHS, train_generator, val_generator, config.WEIGHT_PATH, config.PATIENCE)"
   ]
  },
  {
   "cell_type": "code",
   "execution_count": 16,
   "metadata": {},
   "outputs": [
    {
     "name": "stdout",
     "output_type": "stream",
     "text": [
      "WARNING:tensorflow:Unresolved object in checkpoint: (root).optimizer\n",
      "WARNING:tensorflow:Unresolved object in checkpoint: (root).optimizer.iter\n",
      "WARNING:tensorflow:Unresolved object in checkpoint: (root).optimizer.beta_1\n",
      "WARNING:tensorflow:Unresolved object in checkpoint: (root).optimizer.beta_2\n",
      "WARNING:tensorflow:Unresolved object in checkpoint: (root).optimizer.decay\n",
      "WARNING:tensorflow:Unresolved object in checkpoint: (root).optimizer.learning_rate\n",
      "WARNING:tensorflow:Unresolved object in checkpoint: (root).optimizer's state 'm' for (root).top_model.dense1.kernel\n",
      "WARNING:tensorflow:Unresolved object in checkpoint: (root).optimizer's state 'm' for (root).top_model.dense1.bias\n",
      "WARNING:tensorflow:Unresolved object in checkpoint: (root).optimizer's state 'm' for (root).top_model.dense2.kernel\n",
      "WARNING:tensorflow:Unresolved object in checkpoint: (root).optimizer's state 'm' for (root).top_model.dense2.bias\n",
      "WARNING:tensorflow:Unresolved object in checkpoint: (root).optimizer's state 'v' for (root).top_model.dense1.kernel\n",
      "WARNING:tensorflow:Unresolved object in checkpoint: (root).optimizer's state 'v' for (root).top_model.dense1.bias\n",
      "WARNING:tensorflow:Unresolved object in checkpoint: (root).optimizer's state 'v' for (root).top_model.dense2.kernel\n",
      "WARNING:tensorflow:Unresolved object in checkpoint: (root).optimizer's state 'v' for (root).top_model.dense2.bias\n",
      "WARNING:tensorflow:A checkpoint was restored (e.g. tf.train.Checkpoint.restore or tf.keras.Model.load_weights) but not all checkpointed values were used. See above for specific issues. Use expect_partial() on the load status object, e.g. tf.train.Checkpoint.restore(...).expect_partial(), to silence these warnings, or use assert_consumed() to make the check explicit. See https://www.tensorflow.org/guide/checkpoint#loading_mechanics for details.\n",
      "WARNING:tensorflow:From /home/maria/anaconda3/envs/FacialKeypointsDetection/lib/python3.6/site-packages/tensorflow/python/training/tracking/tracking.py:111: Model.state_updates (from tensorflow.python.keras.engine.training) is deprecated and will be removed in a future version.\n",
      "Instructions for updating:\n",
      "This property should not be used in TensorFlow 2.0, as updates are applied automatically.\n",
      "WARNING:tensorflow:From /home/maria/anaconda3/envs/FacialKeypointsDetection/lib/python3.6/site-packages/tensorflow/python/training/tracking/tracking.py:111: Layer.updates (from tensorflow.python.keras.engine.base_layer) is deprecated and will be removed in a future version.\n",
      "Instructions for updating:\n",
      "This property should not be used in TensorFlow 2.0, as updates are applied automatically.\n",
      "INFO:tensorflow:Assets written to: models/prediction_model/model/assets\n"
     ]
    }
   ],
   "source": [
    "# Recreat the same structure of the model and load its saved weights then build it by predicting a random input then save the model\n",
    "import tensorflow as tf\n",
    "from src.train import compile_model\n",
    "from tensorflow.keras.models import load_model\n",
    "\n",
    "model = MyModel(config.IMAGE_SHAPE,\n",
    "                   config.BASE_MODEL_NAME,\n",
    "                   config.FEATURES_DIMENSIONS,\n",
    "                   trainable=config.TRAINABLE,\n",
    "                   intermediate_dim=config.INTERMEDIATE_DIMENSIONS,\n",
    "                   dropout_rate=config.DROPOUT_RATE\n",
    "                  )\n",
    "model.load_weights(config.WEIGHT_PATH)\n",
    "model.predict(tf.expand_dims(tf.random.uniform(model.image_shape), axis=0))\n",
    "model.save(config.MODEL_PATH)"
   ]
  },
  {
   "cell_type": "code",
   "execution_count": 17,
   "metadata": {},
   "outputs": [
    {
     "data": {
      "text/plain": [
       "array([[0.48540258, 0.        , 0.        , 0.37467754, 0.        ,\n",
       "        0.3688435 , 1.0278311 , 0.8056149 , 0.        , 1.170631  ,\n",
       "        0.45355713, 0.38466057, 0.        , 0.8676695 , 0.        ,\n",
       "        0.        , 0.        , 0.        , 0.        , 0.778719  ,\n",
       "        0.51261723, 0.        , 0.6716127 , 0.        , 0.        ,\n",
       "        0.        , 0.6071358 , 0.5882098 , 0.5650734 , 0.        ]],\n",
       "      dtype=float32)"
      ]
     },
     "execution_count": 17,
     "metadata": {},
     "output_type": "execute_result"
    }
   ],
   "source": [
    "# load the model to check it\n",
    "m = load_model(config.MODEL_PATH, compile=False)\n",
    "m.predict(tf.expand_dims(tf.random.uniform(model.image_shape), axis=0))"
   ]
  },
  {
   "cell_type": "code",
   "execution_count": 18,
   "metadata": {},
   "outputs": [
    {
     "name": "stdout",
     "output_type": "stream",
     "text": [
      "1/1 [==============================] - 0s 1ms/step - loss: 2.4291\n"
     ]
    },
    {
     "data": {
      "text/plain": [
       "2.429065704345703"
      ]
     },
     "execution_count": 18,
     "metadata": {},
     "output_type": "execute_result"
    }
   ],
   "source": [
    "compile_model(m)\n",
    "m.evaluate(val_generator)"
   ]
  },
  {
   "cell_type": "code",
   "execution_count": 132,
   "metadata": {},
   "outputs": [],
   "source": [
    "# MeanAbsoluteError(), MeanAbsolutePercentageError()"
   ]
  },
  {
   "cell_type": "code",
   "execution_count": 19,
   "metadata": {},
   "outputs": [
    {
     "name": "stdout",
     "output_type": "stream",
     "text": [
      "1/1 [==============================] - 0s 1ms/step - loss: 2.5223\n"
     ]
    },
    {
     "data": {
      "text/plain": [
       "2.5222716331481934"
      ]
     },
     "execution_count": 19,
     "metadata": {},
     "output_type": "execute_result"
    }
   ],
   "source": [
    "my_model.evaluate(val_generator)"
   ]
  },
  {
   "cell_type": "markdown",
   "metadata": {},
   "source": [
    "### Evaluate the model"
   ]
  },
  {
   "cell_type": "code",
   "execution_count": 20,
   "metadata": {},
   "outputs": [
    {
     "data": {
      "text/plain": [
       "Text(0.5, 1.0, 'Training and validation loss')"
      ]
     },
     "execution_count": 20,
     "metadata": {},
     "output_type": "execute_result"
    },
    {
     "data": {
      "image/png": "[encoded data removed]",
      "text/plain": [
       "<Figure size 432x288 with 1 Axes>"
      ]
     },
     "metadata": {
      "needs_background": "light"
     },
     "output_type": "display_data"
    }
   ],
   "source": [
    "# Retrieve a list of list results on training and test data sets for each training epoch\n",
    "loss     = history.history['loss']\n",
    "val_loss = history.history['val_loss']\n",
    "epochs   = range(len(loss))\n",
    "# Plot training and validation loss per epoch\n",
    "plt.plot(epochs,loss, color='red' , label='training loss')\n",
    "plt.plot(epochs, val_loss, label='validation loss')\n",
    "plt.legend()\n",
    "plt.title ('Training and validation loss')"
   ]
  },
  {
   "cell_type": "markdown",
   "metadata": {},
   "source": [
    "### Test the model by visualizing"
   ]
  },
  {
   "cell_type": "markdown",
   "metadata": {},
   "source": [
    "### Test on a real image"
   ]
  },
  {
   "cell_type": "code",
   "execution_count": 21,
   "metadata": {},
   "outputs": [
    {
     "data": {
      "image/png": "[encoded data removed]",
      "text/plain": [
       "<Figure size 432x288 with 1 Axes>"
      ]
     },
     "metadata": {
      "needs_background": "light"
     },
     "output_type": "display_data"
    }
   ],
   "source": [
    "# test on an image from the validation set\n",
    "batch = val_generator.__getitem__(0)\n",
    "j= np.random.randint(0,len(batch[0]))\n",
    "\n",
    "actual_features = batch[1][j:j+1][0]\n",
    "image = batch[0][j:j+1]\n",
    "\n",
    "predicted = my_model.predict(image)\n",
    "       \n",
    "predictions=[]\n",
    "actuals=[]\n",
    "if config.NORMALIZE_COORDINATES:\n",
    "    actuals = scaler.inverse_transform([actual_features])[0]\n",
    "    predictions = scaler.inverse_transform(predicted)[0]\n",
    "    \n",
    "visualize_image(image.reshape(96,96,3)[:,:,0],actuals,\"images/prediction_example.png\",predictions)"
   ]
  },
  {
   "cell_type": "code",
   "execution_count": 41,
   "metadata": {},
   "outputs": [],
   "source": []
  },
  {
   "cell_type": "code",
   "execution_count": 22,
   "metadata": {},
   "outputs": [],
   "source": [
    "SIZE = 96\n",
    "def get_prediction(image_path, scaler, rgb_channels, normalize_image, normalize_coordinates):\n",
    "    image = tf.keras.preprocessing.image.load_img(image_path, target_size=(SIZE, SIZE), color_mode=\"grayscale\") #rgb\n",
    "    image = tf.keras.preprocessing.image.img_to_array(image)\n",
    "    image = np.expand_dims(image, axis=0) #Convert single image to a batch.\n",
    "    image = pre_process_image(image, rgb_channels, normalize_image)\n",
    "    predicted = my_model.predict(image)\n",
    "    if normalize_coordinates:\n",
    "        predictions = scaler.inverse_transform(predicted)[0]\n",
    "    visualize_image(image.reshape(96,96,3)[:,:,0], predictions,\"images/prediction_example.png\")\n",
    "#     return predicted, predictions\n",
    "\n",
    "def get_prediction2(image, scaler, rgb_channels, normalize_image, normalize_coordinates):\n",
    "    image = pre_process_image(image, rgb_channels, normalize_image)\n",
    "    predicted = my_model.predict(image)\n",
    "    if normalize_coordinates:\n",
    "        predictions = scaler.inverse_transform(predicted)[0]\n",
    "    visualize_image(image.reshape(96,96,3)[:,:,0], predictions,\"images/prediction_example.png\") \n",
    "#     return predicted, predictions\n"
   ]
  },
  {
   "cell_type": "code",
   "execution_count": 23,
   "metadata": {},
   "outputs": [
    {
     "data": {
      "image/png": "[encoded data removed]",
      "text/plain": [
       "<Figure size 432x288 with 1 Axes>"
      ]
     },
     "metadata": {
      "needs_background": "light"
     },
     "output_type": "display_data"
    }
   ],
   "source": [
    "get_prediction(\"images/test1.jpeg\", scaler, config.RGB_CHANNELS, config.NORMALIZE_IMAGE, config.NORMALIZE_COORDINATES)"
   ]
  },
  {
   "cell_type": "code",
   "execution_count": null,
   "metadata": {},
   "outputs": [],
   "source": []
  }
 ],
 "metadata": {
  "kernelspec": {
   "display_name": "Python 3",
   "language": "python",
   "name": "python3"
  },
  "language_info": {
   "codemirror_mode": {
    "name": "ipython",
    "version": 3
   },
   "file_extension": ".py",
   "mimetype": "text/x-python",
   "name": "python",
   "nbconvert_exporter": "python",
   "pygments_lexer": "ipython3",
   "version": "3.6.12"
  }
 },
 "nbformat": 4,
 "nbformat_minor": 4
}
