{
 "cells": [
  {
   "cell_type": "code",
   "execution_count": 2,
   "metadata": {},
   "outputs": [],
   "source": [
    "import requests\n",
    "import numpy as np\n",
    "from tensorflow.keras.preprocessing.image import load_img, img_to_array"
   ]
  },
  {
   "cell_type": "code",
   "execution_count": 62,
   "metadata": {},
   "outputs": [],
   "source": [
    "my_model_endpoint = \"http://localhost:8501/v1/models/face_keypoints_detection_model:predict\""
   ]
  },
  {
   "cell_type": "code",
   "execution_count": 13,
   "metadata": {},
   "outputs": [],
   "source": [
    "result = requests.post(model_endpoint, json=json_data)"
   ]
  },
  {
   "cell_type": "code",
   "execution_count": 19,
   "metadata": {},
   "outputs": [],
   "source": [
    "image = load_img(\"imgs/test1.jpeg\", grayscale=True, target_size=(96, 96))\n",
    "image = img_to_array(image)\n",
    "image = image/255\n",
    "image = np.expand_dims(image, axis=0) "
   ]
  },
  {
   "cell_type": "code",
   "execution_count": 21,
   "metadata": {},
   "outputs": [
    {
     "data": {
      "text/plain": [
       "(1, 96, 96, 1)"
      ]
     },
     "execution_count": 21,
     "metadata": {},
     "output_type": "execute_result"
    }
   ],
   "source": [
    "image.shape"
   ]
  },
  {
   "cell_type": "code",
   "execution_count": 58,
   "metadata": {},
   "outputs": [],
   "source": [
    "json_data = {\"instances\": image.tolist(),}"
   ]
  },
  {
   "cell_type": "code",
   "execution_count": 63,
   "metadata": {},
   "outputs": [],
   "source": [
    "result2 = requests.post(my_model_endpoint, json=json_data)"
   ]
  },
  {
   "cell_type": "code",
   "execution_count": 64,
   "metadata": {},
   "outputs": [
    {
     "data": {
      "text/plain": [
       "{'predictions': [[0.577206135,\n",
       "   0.481803268,\n",
       "   0.41395396,\n",
       "   0.484778881,\n",
       "   0.619866133,\n",
       "   0.310749263,\n",
       "   0.661910534,\n",
       "   0.32013762,\n",
       "   0.489599586,\n",
       "   0.31862098,\n",
       "   0.396429092,\n",
       "   0.330185652,\n",
       "   0.58947,\n",
       "   0.396165639,\n",
       "   0.705401182,\n",
       "   0.377257943,\n",
       "   0.513073802,\n",
       "   0.392294168,\n",
       "   0.330308497,\n",
       "   0.371503949,\n",
       "   0.633479357,\n",
       "   0.557845473,\n",
       "   0.499639034,\n",
       "   0.616903961,\n",
       "   0.526785612,\n",
       "   0.566364288,\n",
       "   0.521407366,\n",
       "   0.684396625,\n",
       "   0.49132508,\n",
       "   0.585436523]]}"
      ]
     },
     "execution_count": 64,
     "metadata": {},
     "output_type": "execute_result"
    }
   ],
   "source": [
    "result2.json()"
   ]
  }
 ],
 "metadata": {
  "kernelspec": {
   "display_name": "Python 3",
   "language": "python",
   "name": "python3"
  },
  "language_info": {
   "codemirror_mode": {
    "name": "ipython",
    "version": 3
   },
   "file_extension": ".py",
   "mimetype": "text/x-python",
   "name": "python",
   "nbconvert_exporter": "python",
   "pygments_lexer": "ipython3",
   "version": "3.6.12"
  }
 },
 "nbformat": 4,
 "nbformat_minor": 4
}
