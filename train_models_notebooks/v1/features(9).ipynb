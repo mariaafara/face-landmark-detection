{
 "cells": [
  {
   "cell_type": "code",
   "execution_count": 1,
   "metadata": {
    "execution": {
     "iopub.execute_input": "2021-01-08T11:59:29.397393Z",
     "iopub.status.busy": "2021-01-08T11:59:29.396464Z",
     "iopub.status.idle": "2021-01-08T11:59:29.399702Z",
     "shell.execute_reply": "2021-01-08T11:59:29.399107Z"
    },
    "id": "mt9t-79OPvng",
    "papermill": {
     "duration": 0.038236,
     "end_time": "2021-01-08T11:59:29.399811",
     "exception": false,
     "start_time": "2021-01-08T11:59:29.361575",
     "status": "completed"
    },
    "tags": []
   },
   "outputs": [],
   "source": [
    "feature_index = 9"
   ]
  },
  {
   "cell_type": "code",
   "execution_count": 2,
   "metadata": {
    "execution": {
     "iopub.execute_input": "2021-01-08T11:59:29.461505Z",
     "iopub.status.busy": "2021-01-08T11:59:29.460750Z",
     "iopub.status.idle": "2021-01-08T11:59:29.463955Z",
     "shell.execute_reply": "2021-01-08T11:59:29.463405Z"
    },
    "id": "29LaKxCh-Em7",
    "papermill": {
     "duration": 0.035184,
     "end_time": "2021-01-08T11:59:29.464056",
     "exception": false,
     "start_time": "2021-01-08T11:59:29.428872",
     "status": "completed"
    },
    "tags": []
   },
   "outputs": [],
   "source": [
    "# import os\n",
    "# os.environ['KAGGLE_USERNAME'] = \"mariaafara\" # username from the json file\n",
    "# os.environ['KAGGLE_KEY'] = \"25755ae03c0b83042774e5e0d15b886e\" # key from the json file\n",
    "#Crearting a Client to host the Kaggle API\n",
    "# !pip install -q kaggle\n",
    "# !kaggle datasets download mariaafara/Facial-Landmarks\n",
    "# !unzip Facial-Landmarks.zip -d facial-keypoints-detection"
   ]
  },
  {
   "cell_type": "code",
   "execution_count": 3,
   "metadata": {
    "execution": {
     "iopub.execute_input": "2021-01-08T11:59:29.528668Z",
     "iopub.status.busy": "2021-01-08T11:59:29.528071Z",
     "iopub.status.idle": "2021-01-08T11:59:35.767304Z",
     "shell.execute_reply": "2021-01-08T11:59:35.768039Z"
    },
    "id": "3f3roaNK6hfZ",
    "papermill": {
     "duration": 6.275473,
     "end_time": "2021-01-08T11:59:35.768217",
     "exception": false,
     "start_time": "2021-01-08T11:59:29.492744",
     "status": "completed"
    },
    "tags": []
   },
   "outputs": [],
   "source": [
    "import numpy as np\n",
    "import pandas as pd\n",
    "import math\n",
    "import random\n",
    "import seaborn as sns\n",
    "import matplotlib.pyplot as plt\n",
    "import tensorflow as tf\n",
    "import tensorflow.keras as keras\n",
    "from tensorflow.keras.models import Sequential\n",
    "from tensorflow.keras.layers import Dense, Dropout, Flatten, Input, Conv2D, MaxPooling2D, GlobalAveragePooling2D, BatchNormalization\n",
    "from sklearn.model_selection import train_test_split\n",
    "from sklearn import preprocessing\n",
    "from sklearn.preprocessing import MinMaxScaler\n",
    "from tensorflow.keras import optimizers\n",
    "from IPython.display import clear_output\n",
    "pd.options.mode.chained_assignment = None  # default='warn'\n"
   ]
  },
  {
   "cell_type": "code",
   "execution_count": 4,
   "metadata": {
    "execution": {
     "iopub.execute_input": "2021-01-08T11:59:35.871096Z",
     "iopub.status.busy": "2021-01-08T11:59:35.870115Z",
     "iopub.status.idle": "2021-01-08T11:59:35.872656Z",
     "shell.execute_reply": "2021-01-08T11:59:35.871909Z"
    },
    "id": "9_E22cct-EnI",
    "papermill": {
     "duration": 0.053951,
     "end_time": "2021-01-08T11:59:35.872789",
     "exception": false,
     "start_time": "2021-01-08T11:59:35.818838",
     "status": "completed"
    },
    "tags": []
   },
   "outputs": [],
   "source": [
    "train_data_path = \"/kaggle/input/facial-landmarks/dic_train_data.pkl\"\n",
    "missing_data_path = \"/kaggle/input/facial-landmarks/dic_missing_data.pkl\"\n",
    "# train_data_path = \"data/dic_train_data.pkl\"\n",
    "# missing_data_path = \"data/dic_missing_data.pkl\""
   ]
  },
  {
   "cell_type": "code",
   "execution_count": 5,
   "metadata": {
    "execution": {
     "iopub.execute_input": "2021-01-08T11:59:35.958698Z",
     "iopub.status.busy": "2021-01-08T11:59:35.957890Z",
     "iopub.status.idle": "2021-01-08T11:59:44.107727Z",
     "shell.execute_reply": "2021-01-08T11:59:44.106433Z"
    },
    "id": "9iJTuxj_kNfQ",
    "papermill": {
     "duration": 8.192481,
     "end_time": "2021-01-08T11:59:44.107865",
     "exception": false,
     "start_time": "2021-01-08T11:59:35.915384",
     "status": "completed"
    },
    "tags": []
   },
   "outputs": [],
   "source": [
    "import pickle as pkl\n",
    "\n",
    "dic_train_data = pkl.load(open(train_data_path,\"rb\"))\n",
    "dic_missing_data = pkl.load(open(missing_data_path,\"rb\"))"
   ]
  },
  {
   "cell_type": "code",
   "execution_count": 6,
   "metadata": {
    "execution": {
     "iopub.execute_input": "2021-01-08T11:59:44.175898Z",
     "iopub.status.busy": "2021-01-08T11:59:44.174450Z",
     "iopub.status.idle": "2021-01-08T11:59:44.178686Z",
     "shell.execute_reply": "2021-01-08T11:59:44.179144Z"
    },
    "id": "6TdjVdwEPvny",
    "outputId": "c49a7d54-3444-4bef-f242-751e108f21f3",
    "papermill": {
     "duration": 0.041807,
     "end_time": "2021-01-08T11:59:44.179265",
     "exception": false,
     "start_time": "2021-01-08T11:59:44.137458",
     "status": "completed"
    },
    "tags": []
   },
   "outputs": [
    {
     "data": {
      "text/plain": [
       "['left_eye_center',\n",
       " 'right_eye_center',\n",
       " 'left_eye_inner_corner',\n",
       " 'left_eye_outer_corner',\n",
       " 'right_eye_inner_corner',\n",
       " 'right_eye_outer_corner',\n",
       " 'left_eyebrow_inner_end',\n",
       " 'left_eyebrow_outer_end',\n",
       " 'right_eyebrow_inner_end',\n",
       " 'right_eyebrow_outer_end',\n",
       " 'mouth_left_corner',\n",
       " 'mouth_right_corner',\n",
       " 'mouth_center_top_lip',\n",
       " 'mouth_center_bottom_lip']"
      ]
     },
     "execution_count": 6,
     "metadata": {},
     "output_type": "execute_result"
    }
   ],
   "source": [
    "features = list(dic_train_data.keys())\n",
    "features"
   ]
  },
  {
   "cell_type": "code",
   "execution_count": 7,
   "metadata": {
    "execution": {
     "iopub.execute_input": "2021-01-08T11:59:44.245804Z",
     "iopub.status.busy": "2021-01-08T11:59:44.244579Z",
     "iopub.status.idle": "2021-01-08T11:59:44.247906Z",
     "shell.execute_reply": "2021-01-08T11:59:44.248370Z"
    },
    "id": "ydLdeD8YPvn1",
    "outputId": "f34d38aa-b9d9-4a29-f689-35bd6a3aa98e",
    "papermill": {
     "duration": 0.039367,
     "end_time": "2021-01-08T11:59:44.248478",
     "exception": false,
     "start_time": "2021-01-08T11:59:44.209111",
     "status": "completed"
    },
    "tags": []
   },
   "outputs": [
    {
     "data": {
      "text/plain": [
       "'right_eyebrow_outer_end'"
      ]
     },
     "execution_count": 7,
     "metadata": {},
     "output_type": "execute_result"
    }
   ],
   "source": [
    "feature_name = features[feature_index]\n",
    "feature_name"
   ]
  },
  {
   "cell_type": "code",
   "execution_count": 8,
   "metadata": {
    "execution": {
     "iopub.execute_input": "2021-01-08T11:59:44.316364Z",
     "iopub.status.busy": "2021-01-08T11:59:44.315579Z",
     "iopub.status.idle": "2021-01-08T11:59:44.318012Z",
     "shell.execute_reply": "2021-01-08T11:59:44.318483Z"
    },
    "id": "APi2VVkKQFOm",
    "papermill": {
     "duration": 0.037904,
     "end_time": "2021-01-08T11:59:44.318601",
     "exception": false,
     "start_time": "2021-01-08T11:59:44.280697",
     "status": "completed"
    },
    "tags": []
   },
   "outputs": [],
   "source": [
    "scalers_path = feature_name+\"_scalers_dict.pkl\"\n",
    "model_path = feature_name+\".h5\"\n",
    "\n",
    "# scalers_path = \"data/\"+feature_name+\"_scalers_dict.pkl\"\n",
    "# model_path = \"models/\"+feature_name+\".h5\""
   ]
  },
  {
   "cell_type": "code",
   "execution_count": 9,
   "metadata": {
    "execution": {
     "iopub.execute_input": "2021-01-08T11:59:44.400016Z",
     "iopub.status.busy": "2021-01-08T11:59:44.399195Z",
     "iopub.status.idle": "2021-01-08T11:59:45.754967Z",
     "shell.execute_reply": "2021-01-08T11:59:45.756097Z"
    },
    "id": "UHAb9cCEPvn3",
    "outputId": "cdb32799-3d8e-4470-e682-c8b1a792037b",
    "papermill": {
     "duration": 1.406948,
     "end_time": "2021-01-08T11:59:45.756278",
     "exception": false,
     "start_time": "2021-01-08T11:59:44.349330",
     "status": "completed"
    },
    "tags": []
   },
   "outputs": [
    {
     "data": {
      "text/html": [
       "<div>\n",
       "<style scoped>\n",
       "    .dataframe tbody tr th:only-of-type {\n",
       "        vertical-align: middle;\n",
       "    }\n",
       "\n",
       "    .dataframe tbody tr th {\n",
       "        vertical-align: top;\n",
       "    }\n",
       "\n",
       "    .dataframe thead th {\n",
       "        text-align: right;\n",
       "    }\n",
       "</style>\n",
       "<table border=\"1\" class=\"dataframe\">\n",
       "  <thead>\n",
       "    <tr style=\"text-align: right;\">\n",
       "      <th></th>\n",
       "      <th>right_eyebrow_outer_end_x</th>\n",
       "      <th>right_eyebrow_outer_end_y</th>\n",
       "      <th>Image</th>\n",
       "    </tr>\n",
       "  </thead>\n",
       "  <tbody>\n",
       "    <tr>\n",
       "      <th>0</th>\n",
       "      <td>16.356379</td>\n",
       "      <td>29.647471</td>\n",
       "      <td>[[238, 236, 237, 238, 240, 240, 239, 241, 241,...</td>\n",
       "    </tr>\n",
       "    <tr>\n",
       "      <th>1</th>\n",
       "      <td>16.865362</td>\n",
       "      <td>27.058860</td>\n",
       "      <td>[[219, 215, 204, 196, 204, 211, 212, 200, 180,...</td>\n",
       "    </tr>\n",
       "    <tr>\n",
       "      <th>2</th>\n",
       "      <td>16.791158</td>\n",
       "      <td>32.087116</td>\n",
       "      <td>[[144, 142, 159, 180, 188, 188, 184, 180, 167,...</td>\n",
       "    </tr>\n",
       "    <tr>\n",
       "      <th>3</th>\n",
       "      <td>20.458017</td>\n",
       "      <td>29.909343</td>\n",
       "      <td>[[193, 192, 193, 194, 194, 194, 193, 192, 168,...</td>\n",
       "    </tr>\n",
       "    <tr>\n",
       "      <th>4</th>\n",
       "      <td>15.925870</td>\n",
       "      <td>30.672177</td>\n",
       "      <td>[[147, 148, 160, 196, 215, 214, 216, 217, 219,...</td>\n",
       "    </tr>\n",
       "  </tbody>\n",
       "</table>\n",
       "</div>"
      ],
      "text/plain": [
       "   right_eyebrow_outer_end_x  right_eyebrow_outer_end_y  \\\n",
       "0                  16.356379                  29.647471   \n",
       "1                  16.865362                  27.058860   \n",
       "2                  16.791158                  32.087116   \n",
       "3                  20.458017                  29.909343   \n",
       "4                  15.925870                  30.672177   \n",
       "\n",
       "                                               Image  \n",
       "0  [[238, 236, 237, 238, 240, 240, 239, 241, 241,...  \n",
       "1  [[219, 215, 204, 196, 204, 211, 212, 200, 180,...  \n",
       "2  [[144, 142, 159, 180, 188, 188, 184, 180, 167,...  \n",
       "3  [[193, 192, 193, 194, 194, 194, 193, 192, 168,...  \n",
       "4  [[147, 148, 160, 196, 215, 214, 216, 217, 219,...  "
      ]
     },
     "execution_count": 9,
     "metadata": {},
     "output_type": "execute_result"
    }
   ],
   "source": [
    "dic_train_data[feature_name].head()"
   ]
  },
  {
   "cell_type": "markdown",
   "metadata": {
    "id": "Ys-qr2X5WKAR",
    "papermill": {
     "duration": 0.07317,
     "end_time": "2021-01-08T11:59:45.877685",
     "exception": false,
     "start_time": "2021-01-08T11:59:45.804515",
     "status": "completed"
    },
    "tags": []
   },
   "source": [
    "#### **Create custom Data Generator**\n",
    "\n",
    "**We will build a data generator that will load mini-batches and feed to the model dynamically**"
   ]
  },
  {
   "cell_type": "code",
   "execution_count": 10,
   "metadata": {
    "execution": {
     "iopub.execute_input": "2021-01-08T11:59:45.972332Z",
     "iopub.status.busy": "2021-01-08T11:59:45.971381Z",
     "iopub.status.idle": "2021-01-08T11:59:46.011862Z",
     "shell.execute_reply": "2021-01-08T11:59:46.012928Z"
    },
    "id": "i8PX_Elb-VQz",
    "papermill": {
     "duration": 0.095509,
     "end_time": "2021-01-08T11:59:46.013108",
     "exception": false,
     "start_time": "2021-01-08T11:59:45.917599",
     "status": "completed"
    },
    "tags": []
   },
   "outputs": [],
   "source": [
    "class DataGenerator(tf.keras.utils.Sequence):\n",
    "    def __init__(self, df, batch_size=32, rgb_channels=True, shuffle=True, augment=True, normalize_image=True, normalize_coordinates=False, scalers=None):\n",
    "        self.df = df\n",
    "        self.batch_size = batch_size\n",
    "        self.size = df.shape[0]\n",
    "        self.shuffle = shuffle\n",
    "        self.augment = augment\n",
    "        # Keras pre-trained models have trained on color images and if we want to use grayscale images we can still use these pre-trained models by repeating the grayscale image over three channels\n",
    "        self.rgb_channels = rgb_channels\n",
    "        self.normalize_image = normalize_image\n",
    "        self.normalize_coordinates = normalize_coordinates\n",
    "        self.scalers = scalers\n",
    "        self.feature_columns = df.columns.tolist()[:-1]\n",
    "        #  To keep track on which pairs of landmarks to be swapped, we introduce a dictionary recording the original and new landmark's index\n",
    "        self.left_right_dic = {'right_eye_center_x' : 'left_eye_center_x' ,\n",
    "                'right_eye_center_y' : 'left_eye_center_y' ,\n",
    "                'right_eye_inner_corner_x' : 'left_eye_inner_corner_x' ,\n",
    "                'right_eye_inner_corner_y' : 'left_eye_inner_corner_y' ,\n",
    "                'right_eye_outer_corner_x' : 'left_eye_outer_corner_x' ,\n",
    "                'right_eye_outer_corner_y' : 'left_eye_outer_corner_y' ,\n",
    "                'right_eyebrow_inner_end_x' : 'left_eyebrow_inner_end_x' ,\n",
    "                'right_eyebrow_inner_end_y' : 'left_eyebrow_inner_end_y' ,\n",
    "                'right_eyebrow_outer_end_x' : 'left_eyebrow_outer_end_x' ,\n",
    "                'right_eyebrow_outer_end_y' : 'left_eyebrow_outer_end_y' ,\n",
    "                'mouth_right_corner_x' : 'mouth_left_corner_x' ,\n",
    "                'mouth_right_corner_y' : 'mouth_left_corner_y' }\n",
    "        self.on_epoch_end()\n",
    "\n",
    "    def __len__(self):\n",
    "        'Denotes the number of batches per epoch'\n",
    "        return self.size // self.batch_size\n",
    "\n",
    "    def on_epoch_end(self):\n",
    "        'Updates indexes after each epoch'\n",
    "        self.indexes = np.arange(self.size)\n",
    "        if self.shuffle:\n",
    "            np.random.shuffle(self.indexes)\n",
    "\n",
    "    def __getitem__(self, index):\n",
    "        # selects indices of data for next batch`\n",
    "        indexes = self.indexes[index * self.batch_size : (index + 1) * self.batch_size]\n",
    "        'Generate one batch of data'\n",
    "        batched_df = self.df.iloc[indexes] #.sample(frac=1).reset_index(drop=True)\n",
    "\n",
    "        if self.augment == True:\n",
    "            df_batch = self.augmentor(batched_df)\n",
    "        else:\n",
    "            df_batch = batched_df\n",
    "\n",
    "\n",
    "        batched_images = np.vstack(df_batch[\"Image\"].values).reshape(-1, 96, 96, 1).astype(np.float32)\n",
    "        \n",
    "        if self.rgb_channels:\n",
    "            batched_images = np.repeat(batched_images,3,-1)\n",
    "\n",
    "        batched_feature_corrdinates = df_batch.iloc[:,:-1]\n",
    "        \n",
    "        if self.normalize_coordinates:\n",
    "            for col in self.feature_columns:\n",
    "                scaler = self.scalers[col]\n",
    "                batched_feature_corrdinates[col] = scaler.transform(batched_feature_corrdinates[col].to_numpy().reshape(-1, 1)).reshape(-1)\n",
    "\n",
    "        batched_feature_corrdinates = batched_feature_corrdinates.values.astype(np.float32) #feature coordinates        \n",
    "\n",
    "        if self.normalize_image == True:\n",
    "            batched_images = batched_images/255\n",
    "\n",
    "        return batched_images, batched_feature_corrdinates\n",
    "\n",
    "    def augmentor(self, df):\n",
    "\n",
    "        def flip_horizontally(row):\n",
    "            'Method that flips the image horizontally and swaps the features' \n",
    "            row[\"Image\"] = np.flip(row[\"Image\"], axis = 1)\n",
    "            # y coordinates values will stay the same while the x coordinates will have to be changed\n",
    "            # subtract our initial x-coordinate values from width of the image(96)\n",
    "            for i in range(len(self.feature_columns)):#+1\n",
    "                if i%2 == 0: # because there is always x coordinate then y corrdinate\n",
    "                    row[self.feature_columns[i]] = 96. - row[self.feature_columns[i]]\n",
    "            # swap\n",
    "            rights = [a for a in self.feature_columns if \"right\" in a.split(\"_\")]\n",
    "            for col_r in rights:\n",
    "                col_l = self.left_right_dic[col_r]\n",
    "                temp = row[col_l] \n",
    "                row[col_l] = row[col_r]\n",
    "                row[col_r] = temp\n",
    "            return row\n",
    "\n",
    "        def increase_brightness(image):\n",
    "            'Method that randomly increase images brightness'      \n",
    "            # Multiply pixel values by random values between 1 and 1.5 to increase the brightness of the image\n",
    "            # Clip the value between 0 and 255\n",
    "            image = np.clip(random.uniform(1, 1.5) * image, 0.0, 255.0)\n",
    "            return image\n",
    "\n",
    "        def decrease_brightness(image):\n",
    "            'Method that randomly decrease images brightness'\n",
    "            # Multiply pixel values by random values between 0 and 0.1 to decrease the brightness of the image\n",
    "            # Clip the value between 0 and 255\n",
    "            image = np.clip(random.uniform(0, 0.1) * image, 0.0, 255.0)\n",
    "            return image\n",
    "\n",
    "        def augment(row):\n",
    "        # if we have more than one feature allow flipping\n",
    "            if len(self.feature_columns)>2:\n",
    "                if row[\"augment_flip\"]==1:\n",
    "                    row =  flip_horizontally(row)\n",
    "            if row[\"augment_inc_b\"]:\n",
    "                row[\"Image\"] = increase_brightness(row[\"Image\"])\n",
    "            if row[\"augment_dec_b\"]:\n",
    "                row[\"Image\"] = decrease_brightness(row[\"Image\"])\n",
    "            return row\n",
    "\n",
    "      # generate random boolean for augmentation types \n",
    "        df[\"augment_flip\"] = [random.getrandbits(1) for i in range(len(df))]\n",
    "        df[\"augment_inc_b\"] = [random.getrandbits(1) for i in range(len(df))]\n",
    "        df[\"augment_dec_b\"] = [random.getrandbits(1) for i in range(len(df))]\n",
    "        # df = df.apply(lambda row : augment(row), axis=1)\n",
    "        df = df.apply(augment, axis=1)\n",
    "        df.drop(['augment_flip', 'augment_inc_b', 'augment_dec_b'], axis=1, inplace=True)\n",
    "        return df\n"
   ]
  },
  {
   "cell_type": "code",
   "execution_count": 11,
   "metadata": {
    "execution": {
     "iopub.execute_input": "2021-01-08T11:59:46.111690Z",
     "iopub.status.busy": "2021-01-08T11:59:46.110928Z",
     "iopub.status.idle": "2021-01-08T11:59:46.115963Z",
     "shell.execute_reply": "2021-01-08T11:59:46.116943Z"
    },
    "id": "68VI4DWX-EnV",
    "papermill": {
     "duration": 0.060942,
     "end_time": "2021-01-08T11:59:46.117088",
     "exception": false,
     "start_time": "2021-01-08T11:59:46.056146",
     "status": "completed"
    },
    "tags": []
   },
   "outputs": [],
   "source": [
    "def visualize_image(x, y=None, y_predicted=None):\n",
    "  # x-coordinates are in even columns like 0,2,4,.. and y-coordinates are in odd columns like 1,3,5,..\n",
    "    plt.figure()\n",
    "    plt.imshow(x, cmap='gray')\n",
    "    if y is not None:\n",
    "        f = y.shape[0]\n",
    "        for j in range(0,f,2):\n",
    "            plt.plot(y[j], y[j+1], 'X', color='blue', label='actual')\n",
    "    if y_predicted is not None:\n",
    "        f = y_predicted.shape[0]\n",
    "        for j in range(0,f,2):\n",
    "            plt.plot(y_predicted[j], y_predicted[j+1], 'X', color='red', label='predicted')\n",
    "    plt.legend()"
   ]
  },
  {
   "cell_type": "markdown",
   "metadata": {
    "id": "eX1dSeiRCUUE",
    "papermill": {
     "duration": 0.039603,
     "end_time": "2021-01-08T11:59:46.208391",
     "exception": false,
     "start_time": "2021-01-08T11:59:46.168788",
     "status": "completed"
    },
    "tags": []
   },
   "source": [
    "Lets try the data generator and visuilize some images"
   ]
  },
  {
   "cell_type": "markdown",
   "metadata": {
    "id": "cdehN9mvIsan",
    "papermill": {
     "duration": 0.031027,
     "end_time": "2021-01-08T11:59:46.270453",
     "exception": false,
     "start_time": "2021-01-08T11:59:46.239426",
     "status": "completed"
    },
    "tags": []
   },
   "source": [
    "### Part 1.3  Building a Prediction model for a feature"
   ]
  },
  {
   "cell_type": "markdown",
   "metadata": {
    "id": "ph_UEDMwcEvX",
    "papermill": {
     "duration": 0.03032,
     "end_time": "2021-01-08T11:59:46.332244",
     "exception": false,
     "start_time": "2021-01-08T11:59:46.301924",
     "status": "completed"
    },
    "tags": []
   },
   "source": [
    "#### **Prepare data generators to train the model**"
   ]
  },
  {
   "cell_type": "markdown",
   "metadata": {
    "id": "ACe1Z0-GvdBs",
    "papermill": {
     "duration": 0.031678,
     "end_time": "2021-01-08T11:59:46.394657",
     "exception": false,
     "start_time": "2021-01-08T11:59:46.362979",
     "status": "completed"
    },
    "tags": []
   },
   "source": [
    "##### **Split the data into train and test**"
   ]
  },
  {
   "cell_type": "code",
   "execution_count": 12,
   "metadata": {
    "execution": {
     "iopub.execute_input": "2021-01-08T11:59:46.468391Z",
     "iopub.status.busy": "2021-01-08T11:59:46.467532Z",
     "iopub.status.idle": "2021-01-08T11:59:46.472508Z",
     "shell.execute_reply": "2021-01-08T11:59:46.472011Z"
    },
    "id": "Wz9DPZKppGXK",
    "outputId": "316ac4e0-0178-4692-e984-204c6ff49f72",
    "papermill": {
     "duration": 0.046866,
     "end_time": "2021-01-08T11:59:46.472633",
     "exception": false,
     "start_time": "2021-01-08T11:59:46.425767",
     "status": "completed"
    },
    "tags": []
   },
   "outputs": [
    {
     "name": "stdout",
     "output_type": "stream",
     "text": [
      "(2236, 3) (1788, 3) (448, 3)\n"
     ]
    }
   ],
   "source": [
    "df = dic_train_data[feature_name]\n",
    "# Split the data into training and testing data\n",
    "df_train, df_test = train_test_split(df, test_size = 0.2, random_state=None)\n",
    "print(df.shape, df_train.shape, df_test.shape)"
   ]
  },
  {
   "cell_type": "code",
   "execution_count": 13,
   "metadata": {
    "execution": {
     "iopub.execute_input": "2021-01-08T11:59:46.564375Z",
     "iopub.status.busy": "2021-01-08T11:59:46.559172Z",
     "iopub.status.idle": "2021-01-08T11:59:47.610736Z",
     "shell.execute_reply": "2021-01-08T11:59:47.611355Z"
    },
    "id": "iJ7K_1lndPKu",
    "outputId": "abda56ba-925c-43d9-ac1c-512dcbb269f6",
    "papermill": {
     "duration": 1.106404,
     "end_time": "2021-01-08T11:59:47.611499",
     "exception": false,
     "start_time": "2021-01-08T11:59:46.505095",
     "status": "completed"
    },
    "tags": []
   },
   "outputs": [
    {
     "data": {
      "text/html": [
       "<div>\n",
       "<style scoped>\n",
       "    .dataframe tbody tr th:only-of-type {\n",
       "        vertical-align: middle;\n",
       "    }\n",
       "\n",
       "    .dataframe tbody tr th {\n",
       "        vertical-align: top;\n",
       "    }\n",
       "\n",
       "    .dataframe thead th {\n",
       "        text-align: right;\n",
       "    }\n",
       "</style>\n",
       "<table border=\"1\" class=\"dataframe\">\n",
       "  <thead>\n",
       "    <tr style=\"text-align: right;\">\n",
       "      <th></th>\n",
       "      <th>right_eyebrow_outer_end_x</th>\n",
       "      <th>right_eyebrow_outer_end_y</th>\n",
       "      <th>Image</th>\n",
       "    </tr>\n",
       "  </thead>\n",
       "  <tbody>\n",
       "    <tr>\n",
       "      <th>1631</th>\n",
       "      <td>24.069720</td>\n",
       "      <td>38.540801</td>\n",
       "      <td>[[41, 56, 42, 55, 46, 36, 40, 60, 44, 30, 29, ...</td>\n",
       "    </tr>\n",
       "    <tr>\n",
       "      <th>2210</th>\n",
       "      <td>15.980836</td>\n",
       "      <td>23.719051</td>\n",
       "      <td>[[88, 63, 48, 29, 25, 23, 22, 27, 22, 16, 29, ...</td>\n",
       "    </tr>\n",
       "    <tr>\n",
       "      <th>1373</th>\n",
       "      <td>13.201978</td>\n",
       "      <td>30.660315</td>\n",
       "      <td>[[216, 77, 32, 35, 32, 26, 24, 26, 25, 25, 24,...</td>\n",
       "    </tr>\n",
       "    <tr>\n",
       "      <th>1772</th>\n",
       "      <td>8.960005</td>\n",
       "      <td>26.851211</td>\n",
       "      <td>[[108, 54, 54, 54, 65, 49, 74, 133, 139, 143, ...</td>\n",
       "    </tr>\n",
       "    <tr>\n",
       "      <th>1402</th>\n",
       "      <td>10.300993</td>\n",
       "      <td>39.510121</td>\n",
       "      <td>[[31, 32, 32, 31, 28, 24, 22, 22, 21, 21, 22, ...</td>\n",
       "    </tr>\n",
       "  </tbody>\n",
       "</table>\n",
       "</div>"
      ],
      "text/plain": [
       "      right_eyebrow_outer_end_x  right_eyebrow_outer_end_y  \\\n",
       "1631                  24.069720                  38.540801   \n",
       "2210                  15.980836                  23.719051   \n",
       "1373                  13.201978                  30.660315   \n",
       "1772                   8.960005                  26.851211   \n",
       "1402                  10.300993                  39.510121   \n",
       "\n",
       "                                                  Image  \n",
       "1631  [[41, 56, 42, 55, 46, 36, 40, 60, 44, 30, 29, ...  \n",
       "2210  [[88, 63, 48, 29, 25, 23, 22, 27, 22, 16, 29, ...  \n",
       "1373  [[216, 77, 32, 35, 32, 26, 24, 26, 25, 25, 24,...  \n",
       "1772  [[108, 54, 54, 54, 65, 49, 74, 133, 139, 143, ...  \n",
       "1402  [[31, 32, 32, 31, 28, 24, 22, 22, 21, 21, 22, ...  "
      ]
     },
     "execution_count": 13,
     "metadata": {},
     "output_type": "execute_result"
    }
   ],
   "source": [
    "df_train.head()"
   ]
  },
  {
   "cell_type": "markdown",
   "metadata": {
    "id": "Zo9gt1mXu2fd",
    "papermill": {
     "duration": 0.034353,
     "end_time": "2021-01-08T11:59:47.678510",
     "exception": false,
     "start_time": "2021-01-08T11:59:47.644157",
     "status": "completed"
    },
    "tags": []
   },
   "source": [
    "##### **Build scalers for normalizing feature data**"
   ]
  },
  {
   "cell_type": "code",
   "execution_count": 14,
   "metadata": {
    "execution": {
     "iopub.execute_input": "2021-01-08T11:59:47.755343Z",
     "iopub.status.busy": "2021-01-08T11:59:47.753947Z",
     "iopub.status.idle": "2021-01-08T11:59:47.757460Z",
     "shell.execute_reply": "2021-01-08T11:59:47.756988Z"
    },
    "id": "9t4-hf0gIeSw",
    "papermill": {
     "duration": 0.045629,
     "end_time": "2021-01-08T11:59:47.757556",
     "exception": false,
     "start_time": "2021-01-08T11:59:47.711927",
     "status": "completed"
    },
    "tags": []
   },
   "outputs": [],
   "source": [
    "scalers_dict = dict()\n",
    "for col in df.columns.tolist()[:-1]:\n",
    "    scaler = MinMaxScaler()\n",
    "    scaler.fit(df[col].to_numpy().reshape(-1, 1))\n",
    "    scalers_dict[col] = scaler\n",
    "\n",
    "\n",
    "\n",
    "pkl.dump(scalers_dict, open(scalers_path,\"wb\"))\n"
   ]
  },
  {
   "cell_type": "markdown",
   "metadata": {
    "id": "WZNeHGhxvnSH",
    "papermill": {
     "duration": 0.032645,
     "end_time": "2021-01-08T11:59:47.825410",
     "exception": false,
     "start_time": "2021-01-08T11:59:47.792765",
     "status": "completed"
    },
    "tags": []
   },
   "source": [
    "##### **Build train and validation data generators**"
   ]
  },
  {
   "cell_type": "code",
   "execution_count": 15,
   "metadata": {
    "execution": {
     "iopub.execute_input": "2021-01-08T11:59:47.899723Z",
     "iopub.status.busy": "2021-01-08T11:59:47.898239Z",
     "iopub.status.idle": "2021-01-08T11:59:47.900600Z",
     "shell.execute_reply": "2021-01-08T11:59:47.901110Z"
    },
    "id": "HERnPWEBc83D",
    "papermill": {
     "duration": 0.043053,
     "end_time": "2021-01-08T11:59:47.901229",
     "exception": false,
     "start_time": "2021-01-08T11:59:47.858176",
     "status": "completed"
    },
    "tags": []
   },
   "outputs": [],
   "source": [
    " \n",
    "train_generator = DataGenerator(df_train, batch_size=32, normalize_image=True, normalize_coordinates=True, scalers=scalers_dict)\n",
    "val_generator =  DataGenerator(df_test, batch_size=32,  augment=False, normalize_image=True,  normalize_coordinates=True,  scalers=train_generator.scalers)"
   ]
  },
  {
   "cell_type": "markdown",
   "metadata": {
    "id": "Ctn-Hf0Nc5p_",
    "papermill": {
     "duration": 0.033371,
     "end_time": "2021-01-08T11:59:47.967716",
     "exception": false,
     "start_time": "2021-01-08T11:59:47.934345",
     "status": "completed"
    },
    "tags": []
   },
   "source": [
    "#### **Build a Prediction model**"
   ]
  },
  {
   "cell_type": "code",
   "execution_count": 16,
   "metadata": {
    "execution": {
     "iopub.execute_input": "2021-01-08T11:59:48.054512Z",
     "iopub.status.busy": "2021-01-08T11:59:48.047294Z",
     "iopub.status.idle": "2021-01-08T11:59:48.057661Z",
     "shell.execute_reply": "2021-01-08T11:59:48.057006Z"
    },
    "id": "WHg8_6ZgPvoJ",
    "papermill": {
     "duration": 0.057608,
     "end_time": "2021-01-08T11:59:48.057764",
     "exception": false,
     "start_time": "2021-01-08T11:59:48.000156",
     "status": "completed"
    },
    "tags": []
   },
   "outputs": [],
   "source": [
    "from tensorflow.keras.applications import EfficientNetB0, VGG16\n",
    "\n",
    "def create_efficientNet(nbr_features):\n",
    "    inputs = tf.keras.Input(shape=(96, 96, 3))  \n",
    "    # This option include_top excludes the final Dense layer.\n",
    "    # This allows us to replace the top layer with custom layers which allows the use of  EfficientNet as a feature extractor in a transfer learning workflow\n",
    "    model = EfficientNetB0(include_top=False, input_tensor=inputs, weights=\"imagenet\")#, drop_connect_rate=0.1)\n",
    "    # Freeze the pretrained weights\n",
    "    model.trainable = False\n",
    "\n",
    "    # Rebuild top\n",
    "    x = GlobalAveragePooling2D()(model.output)    \n",
    "    x = BatchNormalization()(x)\n",
    "    x = Dropout(0.4)(x)\n",
    "    outputs = Dense(nbr_features,activation='relu')(x)\n",
    "\n",
    "    # Compile\n",
    "    model = keras.Model(inputs, outputs)\n",
    "    return model\n",
    "\n",
    "def create_vgg16(nbr_features):\n",
    "\n",
    "    #Get back the convolutional part of a VGG network trained on ImageNet\n",
    "    model = VGG16(weights='imagenet', include_top=False)\n",
    "    model.trainable = False\n",
    "    #Create your own input format (here 3x200x200)\n",
    "    inputs = Input(shape=(96,96,3))\n",
    "\n",
    "    #Use the generated model \n",
    "    output_vgg16 = model(inputs)\n",
    "\n",
    "    #Add the fully-connected layers \n",
    "    x = Flatten()(output_vgg16)\n",
    "    x = Dense(64, activation='relu')(x)\n",
    "    # x = Dense(32, activation='relu')(x)\n",
    "    outputs = Dense(nbr_features, activation='relu')(x)\n",
    "\n",
    "    #Create your own model \n",
    "    model = keras.Model(inputs=inputs, outputs=outputs)\n",
    "    return model\n",
    "\n",
    "\n",
    "def create_simple_model(nbr_features):\n",
    "  # vanillia CNN model\n",
    "    model = Sequential()\n",
    "    model.add(Conv2D(16, kernel_size=(5, 5), activation='relu', input_shape=(96, 96 , 1)))\n",
    "    model.add(MaxPooling2D(pool_size=(2, 2), strides=2))\n",
    "    model.add(Conv2D(48, (3, 3), activation='relu'))\n",
    "    model.add(MaxPooling2D(pool_size=(2, 2), strides=2))\n",
    "    model.add(Conv2D(64, (3, 3), activation='relu'))\n",
    "    model.add(MaxPooling2D(pool_size=(2, 2), strides=2))\n",
    "    model.add(Conv2D(64, (2, 2), activation='relu'))\n",
    "    model.add(Flatten())\n",
    "    model.add(Dense(100, activation='relu'))\n",
    "    model.add(Dense(nbr_features, activation='relu'))\n",
    "    return model\n"
   ]
  },
  {
   "cell_type": "code",
   "execution_count": 17,
   "metadata": {
    "execution": {
     "iopub.execute_input": "2021-01-08T11:59:48.129880Z",
     "iopub.status.busy": "2021-01-08T11:59:48.129207Z",
     "iopub.status.idle": "2021-01-08T11:59:53.839524Z",
     "shell.execute_reply": "2021-01-08T11:59:53.838177Z"
    },
    "id": "ofh5qnydxTwZ",
    "outputId": "07bd6fcc-e67a-409e-813c-a4d839c5966b",
    "papermill": {
     "duration": 5.748292,
     "end_time": "2021-01-08T11:59:53.839664",
     "exception": false,
     "start_time": "2021-01-08T11:59:48.091372",
     "status": "completed"
    },
    "tags": []
   },
   "outputs": [
    {
     "name": "stdout",
     "output_type": "stream",
     "text": [
      "Downloading data from https://storage.googleapis.com/keras-applications/efficientnetb0_notop.h5\n",
      "16711680/16705208 [==============================] - 0s 0us/step\n"
     ]
    }
   ],
   "source": [
    "nbr_features = 2\n",
    "# create the model\n",
    "model = create_efficientNet(nbr_features)\n",
    "# model = create_vgg16(nbr_features)"
   ]
  },
  {
   "cell_type": "markdown",
   "metadata": {
    "id": "cJ8vd7UwtrYg",
    "papermill": {
     "duration": 0.034196,
     "end_time": "2021-01-08T11:59:53.911933",
     "exception": false,
     "start_time": "2021-01-08T11:59:53.877737",
     "status": "completed"
    },
    "tags": []
   },
   "source": [
    "#### **Define custom loss and compile the model**"
   ]
  },
  {
   "cell_type": "code",
   "execution_count": 18,
   "metadata": {
    "execution": {
     "iopub.execute_input": "2021-01-08T11:59:54.145005Z",
     "iopub.status.busy": "2021-01-08T11:59:54.143865Z",
     "iopub.status.idle": "2021-01-08T11:59:54.151940Z",
     "shell.execute_reply": "2021-01-08T11:59:54.151414Z"
    },
    "id": "tXRRM-KrLjfE",
    "papermill": {
     "duration": 0.203988,
     "end_time": "2021-01-08T11:59:54.152045",
     "exception": false,
     "start_time": "2021-01-08T11:59:53.948057",
     "status": "completed"
    },
    "tags": []
   },
   "outputs": [],
   "source": [
    "import tensorflow.keras.backend as K\n",
    "\n",
    "def euclidean_distance_loss(y_true, y_pred):\n",
    "  #     Euclidean distance loss\n",
    "    return K.sqrt(K.sum(K.square(y_pred - y_true), axis=-1))\n",
    "\n",
    "def absolute_tanh(x):\n",
    "    return K.abs(K.tanh(x))\n",
    "\n",
    "# MeanAbsoluteError(), MeanAbsolutePercentageError()\n",
    "model.compile(loss=euclidean_distance_loss,\n",
    "              optimizer=keras.optimizers.Adam(learning_rate=1e-4),\n",
    "              )\n",
    "\n",
    "def unfreeze_model(model):\n",
    "    # We unfreeze the top 5 layers while leaving BatchNorm layers frozen\n",
    "    for layer in model.layers[-25:]:\n",
    "        if not isinstance(layer, keras.layers.BatchNormalization):\n",
    "            layer.trainable = True"
   ]
  },
  {
   "cell_type": "markdown",
   "metadata": {
    "id": "XOn3P3dcvy7T",
    "papermill": {
     "duration": 0.034617,
     "end_time": "2021-01-08T11:59:54.222345",
     "exception": false,
     "start_time": "2021-01-08T11:59:54.187728",
     "status": "completed"
    },
    "tags": []
   },
   "source": [
    "#### **Start training**"
   ]
  },
  {
   "cell_type": "code",
   "execution_count": 19,
   "metadata": {
    "execution": {
     "iopub.execute_input": "2021-01-08T11:59:54.319410Z",
     "iopub.status.busy": "2021-01-08T11:59:54.316596Z",
     "iopub.status.idle": "2021-01-08T12:02:53.857533Z",
     "shell.execute_reply": "2021-01-08T12:02:53.856530Z"
    },
    "id": "7AWepBFAc9LR",
    "outputId": "98eb52a4-9bf9-4246-baab-cd0b9085d99c",
    "papermill": {
     "duration": 179.599968,
     "end_time": "2021-01-08T12:02:53.857688",
     "exception": false,
     "start_time": "2021-01-08T11:59:54.257720",
     "status": "completed"
    },
    "tags": []
   },
   "outputs": [
    {
     "name": "stdout",
     "output_type": "stream",
     "text": [
      "Epoch 1/100\n",
      "55/55 [==============================] - 3s 59ms/step - loss: 0.4909 - val_loss: 0.3838\n",
      "Epoch 2/100\n",
      "55/55 [==============================] - 2s 41ms/step - loss: 0.4180 - val_loss: 0.3341\n",
      "Epoch 3/100\n",
      "55/55 [==============================] - 2s 29ms/step - loss: 0.3923 - val_loss: 0.3743\n",
      "Epoch 4/100\n",
      "55/55 [==============================] - 2s 28ms/step - loss: 0.3807 - val_loss: 0.4013\n",
      "Epoch 5/100\n",
      "55/55 [==============================] - 2s 28ms/step - loss: 0.3848 - val_loss: 0.4013\n",
      "Epoch 6/100\n",
      "55/55 [==============================] - 2s 28ms/step - loss: 0.3669 - val_loss: 0.4013\n",
      "Epoch 7/100\n",
      "55/55 [==============================] - 2s 29ms/step - loss: 0.3755 - val_loss: 0.4013\n",
      "Epoch 8/100\n",
      "55/55 [==============================] - 2s 34ms/step - loss: 0.3741 - val_loss: 0.4013\n",
      "Epoch 9/100\n",
      "55/55 [==============================] - 2s 28ms/step - loss: 0.3586 - val_loss: 0.4013\n",
      "Epoch 10/100\n",
      "55/55 [==============================] - 2s 29ms/step - loss: 0.3593 - val_loss: 0.4013\n",
      "Epoch 11/100\n",
      "55/55 [==============================] - 2s 28ms/step - loss: 0.3626 - val_loss: 0.4013\n",
      "Epoch 12/100\n",
      "55/55 [==============================] - 2s 29ms/step - loss: 0.3685 - val_loss: 0.4013\n",
      "Epoch 13/100\n",
      "55/55 [==============================] - 2s 28ms/step - loss: 0.3650 - val_loss: 0.4013\n",
      "Epoch 14/100\n",
      "55/55 [==============================] - 2s 28ms/step - loss: 0.3673 - val_loss: 0.4013\n",
      "Epoch 15/100\n",
      "55/55 [==============================] - 2s 33ms/step - loss: 0.3600 - val_loss: 0.4013\n",
      "Epoch 16/100\n",
      "55/55 [==============================] - 2s 28ms/step - loss: 0.3586 - val_loss: 0.4013\n",
      "Epoch 17/100\n",
      "55/55 [==============================] - 2s 35ms/step - loss: 0.3622 - val_loss: 0.4013\n",
      "Epoch 18/100\n",
      "55/55 [==============================] - 2s 27ms/step - loss: 0.3631 - val_loss: 0.4013\n",
      "Epoch 19/100\n",
      "55/55 [==============================] - 2s 31ms/step - loss: 0.3639 - val_loss: 0.4013\n",
      "Epoch 20/100\n",
      "55/55 [==============================] - 2s 34ms/step - loss: 0.3564 - val_loss: 0.4013\n",
      "Epoch 21/100\n",
      "55/55 [==============================] - 2s 33ms/step - loss: 0.3556 - val_loss: 0.4013\n",
      "Epoch 22/100\n",
      "55/55 [==============================] - 2s 33ms/step - loss: 0.3610 - val_loss: 0.4013\n",
      "Epoch 23/100\n",
      "55/55 [==============================] - 2s 29ms/step - loss: 0.3586 - val_loss: 0.4013\n",
      "Epoch 24/100\n",
      "55/55 [==============================] - 2s 28ms/step - loss: 0.3589 - val_loss: 0.4013\n",
      "Epoch 25/100\n",
      "55/55 [==============================] - 2s 28ms/step - loss: 0.3548 - val_loss: 0.4013\n",
      "Epoch 26/100\n",
      "55/55 [==============================] - 2s 28ms/step - loss: 0.3546 - val_loss: 0.4013\n",
      "Epoch 27/100\n",
      "55/55 [==============================] - 2s 28ms/step - loss: 0.3576 - val_loss: 0.4013\n",
      "Epoch 28/100\n",
      "55/55 [==============================] - 2s 32ms/step - loss: 0.3526 - val_loss: 0.4013\n",
      "Epoch 29/100\n",
      "55/55 [==============================] - 2s 28ms/step - loss: 0.3531 - val_loss: 0.4013\n",
      "Epoch 30/100\n",
      "55/55 [==============================] - 2s 30ms/step - loss: 0.3577 - val_loss: 0.4013\n",
      "Epoch 31/100\n",
      "55/55 [==============================] - 1s 27ms/step - loss: 0.3504 - val_loss: 0.4013\n",
      "Epoch 32/100\n",
      "55/55 [==============================] - 2s 27ms/step - loss: 0.3526 - val_loss: 0.4013\n",
      "Epoch 33/100\n",
      "55/55 [==============================] - 1s 27ms/step - loss: 0.3525 - val_loss: 0.4013\n",
      "Epoch 34/100\n",
      "55/55 [==============================] - 2s 33ms/step - loss: 0.3535 - val_loss: 0.4013\n",
      "Epoch 35/100\n",
      "55/55 [==============================] - 1s 27ms/step - loss: 0.3502 - val_loss: 0.4013\n",
      "Epoch 36/100\n",
      "55/55 [==============================] - 1s 27ms/step - loss: 0.3461 - val_loss: 0.4013\n",
      "Epoch 37/100\n",
      "55/55 [==============================] - 1s 27ms/step - loss: 0.3482 - val_loss: 0.4013\n",
      "Epoch 38/100\n",
      "55/55 [==============================] - 2s 28ms/step - loss: 0.3445 - val_loss: 0.4013\n",
      "Epoch 39/100\n",
      "55/55 [==============================] - 2s 27ms/step - loss: 0.3461 - val_loss: 0.4013\n",
      "Epoch 40/100\n",
      "55/55 [==============================] - 2s 38ms/step - loss: 0.3423 - val_loss: 0.4013\n",
      "Epoch 41/100\n",
      "55/55 [==============================] - 2s 34ms/step - loss: 0.3441 - val_loss: 0.3993\n",
      "Epoch 42/100\n",
      "55/55 [==============================] - 2s 29ms/step - loss: 0.3444 - val_loss: 0.4009\n",
      "Epoch 43/100\n",
      "55/55 [==============================] - 2s 29ms/step - loss: 0.3429 - val_loss: 0.3978\n",
      "Epoch 44/100\n",
      "55/55 [==============================] - 2s 30ms/step - loss: 0.3475 - val_loss: 0.3999\n",
      "Epoch 45/100\n",
      "55/55 [==============================] - 2s 29ms/step - loss: 0.3438 - val_loss: 0.4010\n",
      "Epoch 46/100\n",
      "55/55 [==============================] - 2s 29ms/step - loss: 0.3313 - val_loss: 0.3971\n",
      "Epoch 47/100\n",
      "55/55 [==============================] - 2s 33ms/step - loss: 0.3393 - val_loss: 0.3637\n",
      "Epoch 48/100\n",
      "55/55 [==============================] - 2s 32ms/step - loss: 0.3417 - val_loss: 0.4013\n",
      "Epoch 49/100\n",
      "55/55 [==============================] - 1s 27ms/step - loss: 0.3366 - val_loss: 0.4012\n",
      "Epoch 50/100\n",
      "55/55 [==============================] - 1s 27ms/step - loss: 0.3391 - val_loss: 0.3997\n",
      "Epoch 51/100\n",
      "55/55 [==============================] - 1s 27ms/step - loss: 0.3375 - val_loss: 0.3945\n",
      "Epoch 52/100\n",
      "55/55 [==============================] - 2s 30ms/step - loss: 0.3331 - val_loss: 0.3704\n",
      "Epoch 53/100\n",
      "55/55 [==============================] - 2s 32ms/step - loss: 0.3293 - val_loss: 0.3617\n",
      "Epoch 54/100\n",
      "55/55 [==============================] - 2s 38ms/step - loss: 0.3311 - val_loss: 0.3795\n",
      "Epoch 55/100\n",
      "55/55 [==============================] - 2s 28ms/step - loss: 0.3312 - val_loss: 0.3528\n",
      "Epoch 56/100\n",
      "55/55 [==============================] - 2s 29ms/step - loss: 0.3352 - val_loss: 0.3677\n",
      "Epoch 57/100\n",
      "55/55 [==============================] - 2s 28ms/step - loss: 0.3315 - val_loss: 0.3279\n",
      "Epoch 58/100\n",
      "55/55 [==============================] - 2s 36ms/step - loss: 0.3232 - val_loss: 0.2946\n",
      "Epoch 59/100\n",
      "55/55 [==============================] - 2s 28ms/step - loss: 0.3249 - val_loss: 0.3473\n",
      "Epoch 60/100\n",
      "55/55 [==============================] - 2s 33ms/step - loss: 0.3233 - val_loss: 0.3148\n",
      "Epoch 61/100\n",
      "55/55 [==============================] - 1s 27ms/step - loss: 0.3256 - val_loss: 0.3245\n",
      "Epoch 62/100\n",
      "55/55 [==============================] - 1s 27ms/step - loss: 0.3305 - val_loss: 0.3266\n",
      "Epoch 63/100\n",
      "55/55 [==============================] - 2s 28ms/step - loss: 0.3188 - val_loss: 0.3054\n",
      "Epoch 64/100\n",
      "55/55 [==============================] - 2s 28ms/step - loss: 0.3212 - val_loss: 0.2954\n",
      "Epoch 65/100\n",
      "55/55 [==============================] - 2s 28ms/step - loss: 0.3153 - val_loss: 0.2933\n",
      "Epoch 66/100\n",
      "55/55 [==============================] - 2s 32ms/step - loss: 0.3169 - val_loss: 0.2920\n",
      "Epoch 67/100\n",
      "55/55 [==============================] - 2s 32ms/step - loss: 0.3061 - val_loss: 0.2911\n",
      "Epoch 68/100\n",
      "55/55 [==============================] - 1s 27ms/step - loss: 0.3170 - val_loss: 0.3036\n",
      "Epoch 69/100\n",
      "55/55 [==============================] - 1s 27ms/step - loss: 0.3149 - val_loss: 0.2798\n",
      "Epoch 70/100\n",
      "55/55 [==============================] - 1s 27ms/step - loss: 0.3145 - val_loss: 0.2914\n",
      "Epoch 71/100\n",
      "55/55 [==============================] - 1s 27ms/step - loss: 0.3021 - val_loss: 0.2960\n",
      "Epoch 72/100\n",
      "55/55 [==============================] - 1s 27ms/step - loss: 0.3092 - val_loss: 0.2818\n",
      "Epoch 73/100\n",
      "55/55 [==============================] - 2s 30ms/step - loss: 0.3049 - val_loss: 0.2693\n",
      "Epoch 74/100\n",
      "55/55 [==============================] - 2s 29ms/step - loss: 0.3078 - val_loss: 0.2693\n",
      "Epoch 75/100\n",
      "55/55 [==============================] - 1s 27ms/step - loss: 0.3109 - val_loss: 0.2678\n",
      "Epoch 76/100\n",
      "55/55 [==============================] - 2s 27ms/step - loss: 0.3070 - val_loss: 0.2674\n",
      "Epoch 77/100\n",
      "55/55 [==============================] - 2s 29ms/step - loss: 0.3048 - val_loss: 0.2823\n",
      "Epoch 78/100\n",
      "55/55 [==============================] - 2s 31ms/step - loss: 0.3064 - val_loss: 0.2754\n",
      "Epoch 79/100\n",
      "55/55 [==============================] - 1s 27ms/step - loss: 0.2909 - val_loss: 0.2664\n",
      "Epoch 80/100\n",
      "55/55 [==============================] - 2s 33ms/step - loss: 0.2958 - val_loss: 0.2691\n",
      "Epoch 81/100\n",
      "55/55 [==============================] - 2s 28ms/step - loss: 0.2928 - val_loss: 0.2409\n",
      "Epoch 82/100\n",
      "55/55 [==============================] - 2s 28ms/step - loss: 0.2938 - val_loss: 0.2586\n",
      "Epoch 83/100\n",
      "55/55 [==============================] - 2s 27ms/step - loss: 0.2845 - val_loss: 0.2389\n",
      "Epoch 84/100\n",
      "55/55 [==============================] - 1s 27ms/step - loss: 0.2876 - val_loss: 0.2441\n",
      "Epoch 85/100\n",
      "55/55 [==============================] - 2s 31ms/step - loss: 0.2874 - val_loss: 0.2540\n",
      "Epoch 86/100\n",
      "55/55 [==============================] - 2s 31ms/step - loss: 0.2875 - val_loss: 0.2445\n",
      "Epoch 87/100\n",
      "55/55 [==============================] - 2s 33ms/step - loss: 0.2851 - val_loss: 0.2436\n",
      "Epoch 88/100\n",
      "55/55 [==============================] - 2s 34ms/step - loss: 0.2852 - val_loss: 0.2456\n",
      "Epoch 89/100\n",
      "55/55 [==============================] - 2s 32ms/step - loss: 0.2800 - val_loss: 0.2253\n",
      "Epoch 90/100\n",
      "55/55 [==============================] - 2s 28ms/step - loss: 0.2811 - val_loss: 0.2072\n",
      "Epoch 91/100\n",
      "55/55 [==============================] - 2s 28ms/step - loss: 0.2909 - val_loss: 0.2036\n",
      "Epoch 92/100\n",
      "55/55 [==============================] - 2s 28ms/step - loss: 0.2743 - val_loss: 0.1776\n",
      "Epoch 93/100\n",
      "55/55 [==============================] - 2s 29ms/step - loss: 0.2770 - val_loss: 0.1913\n",
      "Epoch 94/100\n",
      "55/55 [==============================] - 2s 32ms/step - loss: 0.2714 - val_loss: 0.2196\n",
      "Epoch 95/100\n",
      "55/55 [==============================] - 2s 28ms/step - loss: 0.2669 - val_loss: 0.1876\n",
      "Epoch 96/100\n",
      "55/55 [==============================] - 2s 30ms/step - loss: 0.2680 - val_loss: 0.1916\n",
      "Epoch 97/100\n",
      "55/55 [==============================] - 2s 32ms/step - loss: 0.2645 - val_loss: 0.1768\n",
      "Epoch 98/100\n",
      "55/55 [==============================] - 1s 27ms/step - loss: 0.2598 - val_loss: 0.1739\n",
      "Epoch 99/100\n",
      "55/55 [==============================] - 1s 27ms/step - loss: 0.2607 - val_loss: 0.1805\n",
      "Epoch 100/100\n",
      "55/55 [==============================] - 2s 33ms/step - loss: 0.2593 - val_loss: 0.1285\n"
     ]
    }
   ],
   "source": [
    "#10 + 10 +10\n",
    "unfreeze_model(model)\n",
    "\n",
    "history = model.fit(train_generator, \n",
    "                    validation_data=val_generator,\n",
    "                    epochs=100)"
   ]
  },
  {
   "cell_type": "markdown",
   "metadata": {
    "id": "HvHov45D2qwx",
    "papermill": {
     "duration": 0.809506,
     "end_time": "2021-01-08T12:02:55.475698",
     "exception": false,
     "start_time": "2021-01-08T12:02:54.666192",
     "status": "completed"
    },
    "tags": []
   },
   "source": [
    "#### **Evaluate the model**"
   ]
  },
  {
   "cell_type": "code",
   "execution_count": 20,
   "metadata": {
    "execution": {
     "iopub.execute_input": "2021-01-08T12:02:57.092760Z",
     "iopub.status.busy": "2021-01-08T12:02:57.091517Z",
     "iopub.status.idle": "2021-01-08T12:02:57.379767Z",
     "shell.execute_reply": "2021-01-08T12:02:57.378844Z"
    },
    "id": "RYKhDBx9MgTN",
    "outputId": "52aeb591-a793-4482-b854-38914ebd81a9",
    "papermill": {
     "duration": 1.096361,
     "end_time": "2021-01-08T12:02:57.379885",
     "exception": false,
     "start_time": "2021-01-08T12:02:56.283524",
     "status": "completed"
    },
    "tags": []
   },
   "outputs": [
    {
     "name": "stdout",
     "output_type": "stream",
     "text": [
      "14/14 [==============================] - 0s 15ms/step - loss: 0.1285\n"
     ]
    },
    {
     "data": {
      "text/plain": [
       "0.1285289078950882"
      ]
     },
     "execution_count": 20,
     "metadata": {},
     "output_type": "execute_result"
    }
   ],
   "source": [
    "model.evaluate(val_generator)"
   ]
  },
  {
   "cell_type": "code",
   "execution_count": 21,
   "metadata": {
    "execution": {
     "iopub.execute_input": "2021-01-08T12:02:58.968978Z",
     "iopub.status.busy": "2021-01-08T12:02:58.968238Z",
     "iopub.status.idle": "2021-01-08T12:02:59.196086Z",
     "shell.execute_reply": "2021-01-08T12:02:59.196550Z"
    },
    "id": "FYqFSqoqe8Do",
    "outputId": "acccfe34-e1ed-4dee-db6f-d388e7efb6c5",
    "papermill": {
     "duration": 1.019232,
     "end_time": "2021-01-08T12:02:59.196693",
     "exception": false,
     "start_time": "2021-01-08T12:02:58.177461",
     "status": "completed"
    },
    "tags": []
   },
   "outputs": [
    {
     "data": {
      "text/plain": [
       "Text(0.5, 1.0, 'Training and validation loss')"
      ]
     },
     "execution_count": 21,
     "metadata": {},
     "output_type": "execute_result"
    },
    {
     "data": {
      "image/png": "[encoded data removed]",
      "text/plain": [
       "<Figure size 432x288 with 1 Axes>"
      ]
     },
     "metadata": {
      "needs_background": "light"
     },
     "output_type": "display_data"
    }
   ],
   "source": [
    "# Retrieve a list of list results on training and test data sets for each training epoch\n",
    "loss     = history.history['loss']\n",
    "val_loss = history.history['val_loss']\n",
    "epochs   = range(len(loss))\n",
    "# Plot training and validation loss per epoch\n",
    "plt.plot(epochs,loss, color='red' , label='training loss')\n",
    "plt.plot(epochs, val_loss, label='validation loss')\n",
    "plt.legend()\n",
    "plt.title ('Training and validation loss')"
   ]
  },
  {
   "cell_type": "markdown",
   "metadata": {
    "id": "BIr2js1Z2ipI",
    "papermill": {
     "duration": 0.788589,
     "end_time": "2021-01-08T12:03:00.800413",
     "exception": false,
     "start_time": "2021-01-08T12:03:00.011824",
     "status": "completed"
    },
    "tags": []
   },
   "source": [
    "#### **Test the model on random images**"
   ]
  },
  {
   "cell_type": "code",
   "execution_count": 22,
   "metadata": {
    "execution": {
     "iopub.execute_input": "2021-01-08T12:03:02.452851Z",
     "iopub.status.busy": "2021-01-08T12:03:02.452052Z",
     "iopub.status.idle": "2021-01-08T12:03:02.458401Z",
     "shell.execute_reply": "2021-01-08T12:03:02.458942Z"
    },
    "id": "MnxNCLAA1xvB",
    "outputId": "16288291-87dc-4ac3-ba1f-30a59d2fa79a",
    "papermill": {
     "duration": 0.873224,
     "end_time": "2021-01-08T12:03:02.459068",
     "exception": false,
     "start_time": "2021-01-08T12:03:01.585844",
     "status": "completed"
    },
    "tags": []
   },
   "outputs": [
    {
     "data": {
      "text/plain": [
       "{'right_eyebrow_outer_end_x': MinMaxScaler(),\n",
       " 'right_eyebrow_outer_end_y': MinMaxScaler()}"
      ]
     },
     "execution_count": 22,
     "metadata": {},
     "output_type": "execute_result"
    }
   ],
   "source": [
    "scalers_dict"
   ]
  },
  {
   "cell_type": "code",
   "execution_count": 23,
   "metadata": {
    "execution": {
     "iopub.execute_input": "2021-01-08T12:03:04.348186Z",
     "iopub.status.busy": "2021-01-08T12:03:04.347255Z",
     "iopub.status.idle": "2021-01-08T12:03:05.944311Z",
     "shell.execute_reply": "2021-01-08T12:03:05.943751Z"
    },
    "id": "EbY6XCqHPvoO",
    "outputId": "85d7b89c-efa4-405a-986a-92f79d589697",
    "papermill": {
     "duration": 2.448297,
     "end_time": "2021-01-08T12:03:05.944436",
     "exception": false,
     "start_time": "2021-01-08T12:03:03.496139",
     "status": "completed"
    },
    "tags": []
   },
   "outputs": [
    {
     "name": "stdout",
     "output_type": "stream",
     "text": [
      "[0.16645099 0.4053299 ]\n",
      "[12.913131 34.920498]\n",
      "[[0.12362039 0.3176538 ]]\n",
      "[[10.574924 30.22747 ]]\n"
     ]
    },
    {
     "data": {
      "image/png": "[encoded data removed]",
      "text/plain": [
       "<Figure size 432x288 with 1 Axes>"
      ]
     },
     "metadata": {
      "needs_background": "light"
     },
     "output_type": "display_data"
    }
   ],
   "source": [
    "batch = val_generator.__getitem__(2)\n",
    "j= np.random.randint(0,len(batch[0]))\n",
    "# check original image \n",
    "print(batch[1][j:j+1][0])\n",
    "actual_y= batch[1][j:j+1][0]\n",
    "actual_y[0] = scalers_dict[feature_name+\"_x\"].inverse_transform([[actual_y[0]]])\n",
    "actual_y[1] = scalers_dict[feature_name+\"_y\"].inverse_transform([[actual_y[1]]])\n",
    "print(actual_y)\n",
    "##############################################\n",
    "predicted_y = model.predict(batch[0][j:j+1])\n",
    "print(predicted_y)\n",
    "# uncomment in case we have used the scaling\n",
    "predicted_y[:,:1] = scalers_dict[feature_name+\"_x\"].inverse_transform(predicted_y[:,:1])\n",
    "predicted_y[:,1:] = scalers_dict[feature_name+\"_y\"].inverse_transform(predicted_y[:,1:])\n",
    "print(predicted_y)\n",
    "##############################################3\n",
    "visualize_image(batch[0][j:j+1].reshape(96,96,3)[:,:,0],actual_y, predicted_y[0])"
   ]
  },
  {
   "cell_type": "markdown",
   "metadata": {
    "id": "Q3sMZnVZ3-dd",
    "papermill": {
     "duration": 0.793282,
     "end_time": "2021-01-08T12:03:07.532597",
     "exception": false,
     "start_time": "2021-01-08T12:03:06.739315",
     "status": "completed"
    },
    "tags": []
   },
   "source": [
    "**Its very impressive how close are the predicted corrdinates to the original ones**"
   ]
  },
  {
   "cell_type": "markdown",
   "metadata": {
    "id": "KOW_zMQ5PvoS",
    "papermill": {
     "duration": 0.805377,
     "end_time": "2021-01-08T12:03:09.134108",
     "exception": false,
     "start_time": "2021-01-08T12:03:08.328731",
     "status": "completed"
    },
    "tags": []
   },
   "source": [
    "#### **Test on missing data**"
   ]
  },
  {
   "cell_type": "code",
   "execution_count": 24,
   "metadata": {
    "execution": {
     "iopub.execute_input": "2021-01-08T12:03:10.744442Z",
     "iopub.status.busy": "2021-01-08T12:03:10.743794Z",
     "iopub.status.idle": "2021-01-08T12:03:10.749595Z",
     "shell.execute_reply": "2021-01-08T12:03:10.750144Z"
    },
    "id": "zKZ1t2qoPvoS",
    "outputId": "2c2688c2-cb6d-4ad7-dad1-9fabe60c1d13",
    "papermill": {
     "duration": 0.801095,
     "end_time": "2021-01-08T12:03:10.750279",
     "exception": false,
     "start_time": "2021-01-08T12:03:09.949184",
     "status": "completed"
    },
    "tags": []
   },
   "outputs": [
    {
     "data": {
      "text/plain": [
       "'right_eyebrow_outer_end'"
      ]
     },
     "execution_count": 24,
     "metadata": {},
     "output_type": "execute_result"
    }
   ],
   "source": [
    "feature_name"
   ]
  },
  {
   "cell_type": "code",
   "execution_count": 25,
   "metadata": {
    "execution": {
     "iopub.execute_input": "2021-01-08T12:03:12.351285Z",
     "iopub.status.busy": "2021-01-08T12:03:12.350007Z",
     "iopub.status.idle": "2021-01-08T12:03:12.352153Z",
     "shell.execute_reply": "2021-01-08T12:03:12.352714Z"
    },
    "id": "BlsfoMj3PvoT",
    "papermill": {
     "duration": 0.813969,
     "end_time": "2021-01-08T12:03:12.352998",
     "exception": false,
     "start_time": "2021-01-08T12:03:11.539029",
     "status": "completed"
    },
    "tags": []
   },
   "outputs": [],
   "source": [
    "rgb_channels= True\n",
    "normalize_image = True\n",
    "def pre_process_images(image):\n",
    "    image = np.vstack(image).reshape(-1, 96, 96, 1).astype(np.float32)\n",
    "    if rgb_channels:\n",
    "        image = np.repeat(image,3,-1)\n",
    "    if normalize_image == True:\n",
    "        image = image/255\n",
    "    return image"
   ]
  },
  {
   "cell_type": "code",
   "execution_count": 26,
   "metadata": {
    "execution": {
     "iopub.execute_input": "2021-01-08T12:03:14.013108Z",
     "iopub.status.busy": "2021-01-08T12:03:14.012022Z",
     "iopub.status.idle": "2021-01-08T12:03:14.014808Z",
     "shell.execute_reply": "2021-01-08T12:03:14.013986Z"
    },
    "id": "NsF-GdN6PvoU",
    "papermill": {
     "duration": 0.863511,
     "end_time": "2021-01-08T12:03:14.014972",
     "exception": false,
     "start_time": "2021-01-08T12:03:13.151461",
     "status": "completed"
    },
    "tags": []
   },
   "outputs": [],
   "source": [
    "missing_data = dic_missing_data[feature_name]"
   ]
  },
  {
   "cell_type": "code",
   "execution_count": 27,
   "metadata": {
    "execution": {
     "iopub.execute_input": "2021-01-08T12:03:15.782416Z",
     "iopub.status.busy": "2021-01-08T12:03:15.781686Z",
     "iopub.status.idle": "2021-01-08T12:03:15.784669Z",
     "shell.execute_reply": "2021-01-08T12:03:15.785238Z"
    },
    "id": "xgfXwWOMDj0N",
    "outputId": "c74688b4-7479-421a-9a07-3925a7096300",
    "papermill": {
     "duration": 0.803418,
     "end_time": "2021-01-08T12:03:15.785369",
     "exception": false,
     "start_time": "2021-01-08T12:03:14.981951",
     "status": "completed"
    },
    "tags": []
   },
   "outputs": [
    {
     "data": {
      "text/plain": [
       "4813"
      ]
     },
     "execution_count": 27,
     "metadata": {},
     "output_type": "execute_result"
    }
   ],
   "source": [
    "len(missing_data)"
   ]
  },
  {
   "cell_type": "code",
   "execution_count": 28,
   "metadata": {
    "execution": {
     "iopub.execute_input": "2021-01-08T12:03:17.399385Z",
     "iopub.status.busy": "2021-01-08T12:03:17.398381Z",
     "iopub.status.idle": "2021-01-08T12:03:17.620637Z",
     "shell.execute_reply": "2021-01-08T12:03:17.621874Z"
    },
    "id": "7janB8HOPvoU",
    "outputId": "5698bbf5-06b1-44d6-99e4-3920e4ea689a",
    "papermill": {
     "duration": 1.027701,
     "end_time": "2021-01-08T12:03:17.622081",
     "exception": false,
     "start_time": "2021-01-08T12:03:16.594380",
     "status": "completed"
    },
    "tags": []
   },
   "outputs": [
    {
     "name": "stdout",
     "output_type": "stream",
     "text": [
      "[[0.1289942  0.32311493]]\n",
      "[[10.868291 30.519785]]\n"
     ]
    },
    {
     "data": {
      "image/png": "[encoded data removed]",
      "text/plain": [
       "<Figure size 432x288 with 1 Axes>"
      ]
     },
     "metadata": {
      "needs_background": "light"
     },
     "output_type": "display_data"
    }
   ],
   "source": [
    "# take a random image and test on it\n",
    "l = np.random.randint(0, len(missing_data)-1)\n",
    "image = missing_data.iloc[l][\"Image\"]\n",
    "image = pre_process_images(image)\n",
    "predicted_y = model.predict(image)\n",
    "print(predicted_y)\n",
    "# uncomment in case we have used the scaling\n",
    "predicted_y[:,:1] = scalers_dict[feature_name+\"_x\"].inverse_transform(predicted_y[:,:1])\n",
    "predicted_y[:,1:] = scalers_dict[feature_name+\"_y\"].inverse_transform(predicted_y[:,1:])\n",
    "print(predicted_y)\n",
    "visualize_image(image.reshape(96,96,3)[:,:,0],None, predicted_y[0])"
   ]
  },
  {
   "cell_type": "markdown",
   "metadata": {
    "id": "eCtvSBv2PvoV",
    "papermill": {
     "duration": 0.956754,
     "end_time": "2021-01-08T12:03:19.676680",
     "exception": false,
     "start_time": "2021-01-08T12:03:18.719926",
     "status": "completed"
    },
    "tags": []
   },
   "source": [
    "#### **Save model**"
   ]
  },
  {
   "cell_type": "code",
   "execution_count": 29,
   "metadata": {
    "execution": {
     "iopub.execute_input": "2021-01-08T12:03:21.317778Z",
     "iopub.status.busy": "2021-01-08T12:03:21.312732Z",
     "iopub.status.idle": "2021-01-08T12:03:21.690948Z",
     "shell.execute_reply": "2021-01-08T12:03:21.690318Z"
    },
    "id": "PHDvP_QL39lh",
    "papermill": {
     "duration": 1.209453,
     "end_time": "2021-01-08T12:03:21.691104",
     "exception": false,
     "start_time": "2021-01-08T12:03:20.481651",
     "status": "completed"
    },
    "tags": []
   },
   "outputs": [],
   "source": [
    "# save model and architecture to single file\n",
    "model.save(model_path)"
   ]
  },
  {
   "cell_type": "code",
   "execution_count": null,
   "metadata": {
    "id": "ERAMk1EHPvoX",
    "papermill": {
     "duration": 0.817642,
     "end_time": "2021-01-08T12:03:23.334267",
     "exception": false,
     "start_time": "2021-01-08T12:03:22.516625",
     "status": "completed"
    },
    "tags": []
   },
   "outputs": [],
   "source": []
  },
  {
   "cell_type": "code",
   "execution_count": null,
   "metadata": {
    "papermill": {
     "duration": 0.872021,
     "end_time": "2021-01-08T12:03:25.017566",
     "exception": false,
     "start_time": "2021-01-08T12:03:24.145545",
     "status": "completed"
    },
    "tags": []
   },
   "outputs": [],
   "source": []
  }
 ],
 "metadata": {
  "kernelspec": {
   "display_name": "Python 3",
   "language": "python",
   "name": "python3"
  },
  "language_info": {
   "codemirror_mode": {
    "name": "ipython",
    "version": 3
   },
   "file_extension": ".py",
   "mimetype": "text/x-python",
   "name": "python",
   "nbconvert_exporter": "python",
   "pygments_lexer": "ipython3",
   "version": "3.7.6"
  },
  "papermill": {
   "duration": 242.217327,
   "end_time": "2021-01-08T12:03:27.087057",
   "environment_variables": {},
   "exception": null,
   "input_path": "__notebook__.ipynb",
   "output_path": "__notebook__.ipynb",
   "parameters": {},
   "start_time": "2021-01-08T11:59:24.869730",
   "version": "2.1.0"
  }
 },
 "nbformat": 4,
 "nbformat_minor": 4
}
