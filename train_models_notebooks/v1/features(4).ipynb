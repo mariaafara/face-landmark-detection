{
 "cells": [
  {
   "cell_type": "code",
   "execution_count": 1,
   "metadata": {
    "execution": {
     "iopub.execute_input": "2021-01-08T10:31:50.582039Z",
     "iopub.status.busy": "2021-01-08T10:31:50.581141Z",
     "iopub.status.idle": "2021-01-08T10:31:50.584110Z",
     "shell.execute_reply": "2021-01-08T10:31:50.583607Z"
    },
    "id": "mt9t-79OPvng",
    "papermill": {
     "duration": 0.03725,
     "end_time": "2021-01-08T10:31:50.584210",
     "exception": false,
     "start_time": "2021-01-08T10:31:50.546960",
     "status": "completed"
    },
    "tags": []
   },
   "outputs": [],
   "source": [
    "feature_index = 4"
   ]
  },
  {
   "cell_type": "code",
   "execution_count": 2,
   "metadata": {
    "execution": {
     "iopub.execute_input": "2021-01-08T10:31:50.642345Z",
     "iopub.status.busy": "2021-01-08T10:31:50.641591Z",
     "iopub.status.idle": "2021-01-08T10:31:50.644072Z",
     "shell.execute_reply": "2021-01-08T10:31:50.644718Z"
    },
    "id": "29LaKxCh-Em7",
    "papermill": {
     "duration": 0.033629,
     "end_time": "2021-01-08T10:31:50.644836",
     "exception": false,
     "start_time": "2021-01-08T10:31:50.611207",
     "status": "completed"
    },
    "tags": []
   },
   "outputs": [],
   "source": [
    "# import os\n",
    "# os.environ['KAGGLE_USERNAME'] = \"mariaafara\" # username from the json file\n",
    "# os.environ['KAGGLE_KEY'] = \"25755ae03c0b83042774e5e0d15b886e\" # key from the json file\n",
    "#Crearting a Client to host the Kaggle API\n",
    "# !pip install -q kaggle\n",
    "# !kaggle datasets download mariaafara/Facial-Landmarks\n",
    "# !unzip Facial-Landmarks.zip -d facial-keypoints-detection"
   ]
  },
  {
   "cell_type": "code",
   "execution_count": 3,
   "metadata": {
    "execution": {
     "iopub.execute_input": "2021-01-08T10:31:50.707175Z",
     "iopub.status.busy": "2021-01-08T10:31:50.706603Z",
     "iopub.status.idle": "2021-01-08T10:31:55.830991Z",
     "shell.execute_reply": "2021-01-08T10:31:55.831774Z"
    },
    "id": "3f3roaNK6hfZ",
    "papermill": {
     "duration": 5.159415,
     "end_time": "2021-01-08T10:31:55.831986",
     "exception": false,
     "start_time": "2021-01-08T10:31:50.672571",
     "status": "completed"
    },
    "tags": []
   },
   "outputs": [],
   "source": [
    "import numpy as np\n",
    "import pandas as pd\n",
    "import math\n",
    "import random\n",
    "import seaborn as sns\n",
    "import matplotlib.pyplot as plt\n",
    "import tensorflow as tf\n",
    "import tensorflow.keras as keras\n",
    "from tensorflow.keras.models import Sequential\n",
    "from tensorflow.keras.layers import Dense, Dropout, Flatten, Input, Conv2D, MaxPooling2D, GlobalAveragePooling2D, BatchNormalization\n",
    "from sklearn.model_selection import train_test_split\n",
    "from sklearn import preprocessing\n",
    "from sklearn.preprocessing import MinMaxScaler\n",
    "from tensorflow.keras import optimizers\n",
    "from IPython.display import clear_output\n",
    "pd.options.mode.chained_assignment = None  # default='warn'\n"
   ]
  },
  {
   "cell_type": "code",
   "execution_count": null,
   "metadata": {},
   "outputs": [],
   "source": []
  },
  {
   "cell_type": "code",
   "execution_count": 4,
   "metadata": {
    "execution": {
     "iopub.execute_input": "2021-01-08T10:31:55.937147Z",
     "iopub.status.busy": "2021-01-08T10:31:55.934893Z",
     "iopub.status.idle": "2021-01-08T10:31:55.938153Z",
     "shell.execute_reply": "2021-01-08T10:31:55.938992Z"
    },
    "id": "9_E22cct-EnI",
    "papermill": {
     "duration": 0.059601,
     "end_time": "2021-01-08T10:31:55.939157",
     "exception": false,
     "start_time": "2021-01-08T10:31:55.879556",
     "status": "completed"
    },
    "tags": []
   },
   "outputs": [],
   "source": [
    "train_data_path = \"/kaggle/input/facial-landmarks/dic_train_data.pkl\"\n",
    "missing_data_path = \"/kaggle/input/facial-landmarks/dic_missing_data.pkl\"\n",
    "# train_data_path = \"data/dic_train_data.pkl\"\n",
    "# missing_data_path = \"data/dic_missing_data.pkl\""
   ]
  },
  {
   "cell_type": "code",
   "execution_count": 5,
   "metadata": {
    "execution": {
     "iopub.execute_input": "2021-01-08T10:31:56.029120Z",
     "iopub.status.busy": "2021-01-08T10:31:56.028167Z",
     "iopub.status.idle": "2021-01-08T10:32:03.322521Z",
     "shell.execute_reply": "2021-01-08T10:32:03.321389Z"
    },
    "id": "9iJTuxj_kNfQ",
    "papermill": {
     "duration": 7.342087,
     "end_time": "2021-01-08T10:32:03.322644",
     "exception": false,
     "start_time": "2021-01-08T10:31:55.980557",
     "status": "completed"
    },
    "tags": []
   },
   "outputs": [],
   "source": [
    "import pickle as pkl\n",
    "\n",
    "dic_train_data = pkl.load(open(train_data_path,\"rb\"))\n",
    "dic_missing_data = pkl.load(open(missing_data_path,\"rb\"))"
   ]
  },
  {
   "cell_type": "code",
   "execution_count": 6,
   "metadata": {
    "execution": {
     "iopub.execute_input": "2021-01-08T10:32:03.384166Z",
     "iopub.status.busy": "2021-01-08T10:32:03.383570Z",
     "iopub.status.idle": "2021-01-08T10:32:03.389977Z",
     "shell.execute_reply": "2021-01-08T10:32:03.390516Z"
    },
    "id": "6TdjVdwEPvny",
    "outputId": "c49a7d54-3444-4bef-f242-751e108f21f3",
    "papermill": {
     "duration": 0.040428,
     "end_time": "2021-01-08T10:32:03.390644",
     "exception": false,
     "start_time": "2021-01-08T10:32:03.350216",
     "status": "completed"
    },
    "tags": []
   },
   "outputs": [
    {
     "data": {
      "text/plain": [
       "['left_eye_center',\n",
       " 'right_eye_center',\n",
       " 'left_eye_inner_corner',\n",
       " 'left_eye_outer_corner',\n",
       " 'right_eye_inner_corner',\n",
       " 'right_eye_outer_corner',\n",
       " 'left_eyebrow_inner_end',\n",
       " 'left_eyebrow_outer_end',\n",
       " 'right_eyebrow_inner_end',\n",
       " 'right_eyebrow_outer_end',\n",
       " 'mouth_left_corner',\n",
       " 'mouth_right_corner',\n",
       " 'mouth_center_top_lip',\n",
       " 'mouth_center_bottom_lip']"
      ]
     },
     "execution_count": 6,
     "metadata": {},
     "output_type": "execute_result"
    }
   ],
   "source": [
    "features = list(dic_train_data.keys())\n",
    "features"
   ]
  },
  {
   "cell_type": "code",
   "execution_count": 7,
   "metadata": {
    "execution": {
     "iopub.execute_input": "2021-01-08T10:32:03.455868Z",
     "iopub.status.busy": "2021-01-08T10:32:03.454528Z",
     "iopub.status.idle": "2021-01-08T10:32:03.458527Z",
     "shell.execute_reply": "2021-01-08T10:32:03.458014Z"
    },
    "id": "ydLdeD8YPvn1",
    "outputId": "f34d38aa-b9d9-4a29-f689-35bd6a3aa98e",
    "papermill": {
     "duration": 0.037869,
     "end_time": "2021-01-08T10:32:03.458620",
     "exception": false,
     "start_time": "2021-01-08T10:32:03.420751",
     "status": "completed"
    },
    "tags": []
   },
   "outputs": [
    {
     "data": {
      "text/plain": [
       "'right_eye_inner_corner'"
      ]
     },
     "execution_count": 7,
     "metadata": {},
     "output_type": "execute_result"
    }
   ],
   "source": [
    "feature_name = features[feature_index]\n",
    "feature_name"
   ]
  },
  {
   "cell_type": "code",
   "execution_count": 8,
   "metadata": {
    "execution": {
     "iopub.execute_input": "2021-01-08T10:32:03.520839Z",
     "iopub.status.busy": "2021-01-08T10:32:03.520128Z",
     "iopub.status.idle": "2021-01-08T10:32:03.523330Z",
     "shell.execute_reply": "2021-01-08T10:32:03.523774Z"
    },
    "id": "APi2VVkKQFOm",
    "papermill": {
     "duration": 0.03565,
     "end_time": "2021-01-08T10:32:03.523897",
     "exception": false,
     "start_time": "2021-01-08T10:32:03.488247",
     "status": "completed"
    },
    "tags": []
   },
   "outputs": [],
   "source": [
    "scalers_path = feature_name+\"_scalers_dict.pkl\"\n",
    "model_path = feature_name+\".h5\"\n",
    "\n",
    "# scalers_path = \"data/\"+feature_name+\"_scalers_dict.pkl\"\n",
    "# model_path = \"models/\"+feature_name+\".h5\""
   ]
  },
  {
   "cell_type": "code",
   "execution_count": 9,
   "metadata": {
    "execution": {
     "iopub.execute_input": "2021-01-08T10:32:03.606205Z",
     "iopub.status.busy": "2021-01-08T10:32:03.589300Z",
     "iopub.status.idle": "2021-01-08T10:32:04.582429Z",
     "shell.execute_reply": "2021-01-08T10:32:04.582904Z"
    },
    "id": "UHAb9cCEPvn3",
    "outputId": "cdb32799-3d8e-4470-e682-c8b1a792037b",
    "papermill": {
     "duration": 1.030283,
     "end_time": "2021-01-08T10:32:04.583031",
     "exception": false,
     "start_time": "2021-01-08T10:32:03.552748",
     "status": "completed"
    },
    "tags": []
   },
   "outputs": [
    {
     "data": {
      "text/html": [
       "<div>\n",
       "<style scoped>\n",
       "    .dataframe tbody tr th:only-of-type {\n",
       "        vertical-align: middle;\n",
       "    }\n",
       "\n",
       "    .dataframe tbody tr th {\n",
       "        vertical-align: top;\n",
       "    }\n",
       "\n",
       "    .dataframe thead th {\n",
       "        text-align: right;\n",
       "    }\n",
       "</style>\n",
       "<table border=\"1\" class=\"dataframe\">\n",
       "  <thead>\n",
       "    <tr style=\"text-align: right;\">\n",
       "      <th></th>\n",
       "      <th>right_eye_inner_corner_x</th>\n",
       "      <th>right_eye_inner_corner_y</th>\n",
       "      <th>Image</th>\n",
       "    </tr>\n",
       "  </thead>\n",
       "  <tbody>\n",
       "    <tr>\n",
       "      <th>0</th>\n",
       "      <td>36.356571</td>\n",
       "      <td>37.389402</td>\n",
       "      <td>[[238, 236, 237, 238, 240, 240, 239, 241, 241,...</td>\n",
       "    </tr>\n",
       "    <tr>\n",
       "      <th>1</th>\n",
       "      <td>36.034723</td>\n",
       "      <td>34.361532</td>\n",
       "      <td>[[219, 215, 204, 196, 204, 211, 212, 200, 180,...</td>\n",
       "    </tr>\n",
       "    <tr>\n",
       "      <th>2</th>\n",
       "      <td>37.678105</td>\n",
       "      <td>36.320968</td>\n",
       "      <td>[[144, 142, 159, 180, 188, 188, 184, 180, 167,...</td>\n",
       "    </tr>\n",
       "    <tr>\n",
       "      <th>3</th>\n",
       "      <td>37.618643</td>\n",
       "      <td>38.754115</td>\n",
       "      <td>[[193, 192, 193, 194, 194, 194, 193, 192, 168,...</td>\n",
       "    </tr>\n",
       "    <tr>\n",
       "      <th>4</th>\n",
       "      <td>36.982380</td>\n",
       "      <td>39.094852</td>\n",
       "      <td>[[147, 148, 160, 196, 215, 214, 216, 217, 219,...</td>\n",
       "    </tr>\n",
       "  </tbody>\n",
       "</table>\n",
       "</div>"
      ],
      "text/plain": [
       "   right_eye_inner_corner_x  right_eye_inner_corner_y  \\\n",
       "0                 36.356571                 37.389402   \n",
       "1                 36.034723                 34.361532   \n",
       "2                 37.678105                 36.320968   \n",
       "3                 37.618643                 38.754115   \n",
       "4                 36.982380                 39.094852   \n",
       "\n",
       "                                               Image  \n",
       "0  [[238, 236, 237, 238, 240, 240, 239, 241, 241,...  \n",
       "1  [[219, 215, 204, 196, 204, 211, 212, 200, 180,...  \n",
       "2  [[144, 142, 159, 180, 188, 188, 184, 180, 167,...  \n",
       "3  [[193, 192, 193, 194, 194, 194, 193, 192, 168,...  \n",
       "4  [[147, 148, 160, 196, 215, 214, 216, 217, 219,...  "
      ]
     },
     "execution_count": 9,
     "metadata": {},
     "output_type": "execute_result"
    }
   ],
   "source": [
    "dic_train_data[feature_name].head()"
   ]
  },
  {
   "cell_type": "markdown",
   "metadata": {
    "id": "Ys-qr2X5WKAR",
    "papermill": {
     "duration": 0.029727,
     "end_time": "2021-01-08T10:32:04.642009",
     "exception": false,
     "start_time": "2021-01-08T10:32:04.612282",
     "status": "completed"
    },
    "tags": []
   },
   "source": [
    "#### **Create custom Data Generator**\n",
    "\n",
    "**We will build a data generator that will load mini-batches and feed to the model dynamically**"
   ]
  },
  {
   "cell_type": "code",
   "execution_count": 10,
   "metadata": {
    "execution": {
     "iopub.execute_input": "2021-01-08T10:32:04.769928Z",
     "iopub.status.busy": "2021-01-08T10:32:04.763099Z",
     "iopub.status.idle": "2021-01-08T10:32:04.772604Z",
     "shell.execute_reply": "2021-01-08T10:32:04.772082Z"
    },
    "id": "i8PX_Elb-VQz",
    "papermill": {
     "duration": 0.067913,
     "end_time": "2021-01-08T10:32:04.772710",
     "exception": false,
     "start_time": "2021-01-08T10:32:04.704797",
     "status": "completed"
    },
    "tags": []
   },
   "outputs": [],
   "source": [
    "class DataGenerator(tf.keras.utils.Sequence):\n",
    "    def __init__(self, df, batch_size=32, rgb_channels=True, shuffle=True, augment=True, normalize_image=True, normalize_coordinates=False, scalers=None):\n",
    "        self.df = df\n",
    "        self.batch_size = batch_size\n",
    "        self.size = df.shape[0]\n",
    "        self.shuffle = shuffle\n",
    "        self.augment = augment\n",
    "        # Keras pre-trained models have trained on color images and if we want to use grayscale images we can still use these pre-trained models by repeating the grayscale image over three channels\n",
    "        self.rgb_channels = rgb_channels\n",
    "        self.normalize_image = normalize_image\n",
    "        self.normalize_coordinates = normalize_coordinates\n",
    "        self.scalers = scalers\n",
    "        self.feature_columns = df.columns.tolist()[:-1]\n",
    "        #  To keep track on which pairs of landmarks to be swapped, we introduce a dictionary recording the original and new landmark's index\n",
    "        self.left_right_dic = {'right_eye_center_x' : 'left_eye_center_x' ,\n",
    "                'right_eye_center_y' : 'left_eye_center_y' ,\n",
    "                'right_eye_inner_corner_x' : 'left_eye_inner_corner_x' ,\n",
    "                'right_eye_inner_corner_y' : 'left_eye_inner_corner_y' ,\n",
    "                'right_eye_outer_corner_x' : 'left_eye_outer_corner_x' ,\n",
    "                'right_eye_outer_corner_y' : 'left_eye_outer_corner_y' ,\n",
    "                'right_eyebrow_inner_end_x' : 'left_eyebrow_inner_end_x' ,\n",
    "                'right_eyebrow_inner_end_y' : 'left_eyebrow_inner_end_y' ,\n",
    "                'right_eyebrow_outer_end_x' : 'left_eyebrow_outer_end_x' ,\n",
    "                'right_eyebrow_outer_end_y' : 'left_eyebrow_outer_end_y' ,\n",
    "                'mouth_right_corner_x' : 'mouth_left_corner_x' ,\n",
    "                'mouth_right_corner_y' : 'mouth_left_corner_y' }\n",
    "        self.on_epoch_end()\n",
    "\n",
    "    def __len__(self):\n",
    "        'Denotes the number of batches per epoch'\n",
    "        return self.size // self.batch_size\n",
    "\n",
    "    def on_epoch_end(self):\n",
    "        'Updates indexes after each epoch'\n",
    "        self.indexes = np.arange(self.size)\n",
    "        if self.shuffle:\n",
    "            np.random.shuffle(self.indexes)\n",
    "\n",
    "    def __getitem__(self, index):\n",
    "        # selects indices of data for next batch`\n",
    "        indexes = self.indexes[index * self.batch_size : (index + 1) * self.batch_size]\n",
    "        'Generate one batch of data'\n",
    "        batched_df = self.df.iloc[indexes] #.sample(frac=1).reset_index(drop=True)\n",
    "\n",
    "        if self.augment == True:\n",
    "            df_batch = self.augmentor(batched_df)\n",
    "        else:\n",
    "            df_batch = batched_df\n",
    "\n",
    "\n",
    "        batched_images = np.vstack(df_batch[\"Image\"].values).reshape(-1, 96, 96, 1).astype(np.float32)\n",
    "        \n",
    "        if self.rgb_channels:\n",
    "            batched_images = np.repeat(batched_images,3,-1)\n",
    "\n",
    "        batched_feature_corrdinates = df_batch.iloc[:,:-1]\n",
    "        \n",
    "        if self.normalize_coordinates:\n",
    "            for col in self.feature_columns:\n",
    "                scaler = self.scalers[col]\n",
    "                batched_feature_corrdinates[col] = scaler.transform(batched_feature_corrdinates[col].to_numpy().reshape(-1, 1)).reshape(-1)\n",
    "\n",
    "        batched_feature_corrdinates = batched_feature_corrdinates.values.astype(np.float32) #feature coordinates        \n",
    "\n",
    "        if self.normalize_image == True:\n",
    "            batched_images = batched_images/255\n",
    "\n",
    "        return batched_images, batched_feature_corrdinates\n",
    "\n",
    "    def augmentor(self, df):\n",
    "\n",
    "        def flip_horizontally(row):\n",
    "            'Method that flips the image horizontally and swaps the features' \n",
    "            row[\"Image\"] = np.flip(row[\"Image\"], axis = 1)\n",
    "            # y coordinates values will stay the same while the x coordinates will have to be changed\n",
    "            # subtract our initial x-coordinate values from width of the image(96)\n",
    "            for i in range(len(self.feature_columns)):#+1\n",
    "                if i%2 == 0: # because there is always x coordinate then y corrdinate\n",
    "                    row[self.feature_columns[i]] = 96. - row[self.feature_columns[i]]\n",
    "            # swap\n",
    "            rights = [a for a in self.feature_columns if \"right\" in a.split(\"_\")]\n",
    "            for col_r in rights:\n",
    "                col_l = self.left_right_dic[col_r]\n",
    "                temp = row[col_l] \n",
    "                row[col_l] = row[col_r]\n",
    "                row[col_r] = temp\n",
    "            return row\n",
    "\n",
    "        def increase_brightness(image):\n",
    "            'Method that randomly increase images brightness'      \n",
    "            # Multiply pixel values by random values between 1 and 1.5 to increase the brightness of the image\n",
    "            # Clip the value between 0 and 255\n",
    "            image = np.clip(random.uniform(1, 1.5) * image, 0.0, 255.0)\n",
    "            return image\n",
    "\n",
    "        def decrease_brightness(image):\n",
    "            'Method that randomly decrease images brightness'\n",
    "            # Multiply pixel values by random values between 0 and 0.1 to decrease the brightness of the image\n",
    "            # Clip the value between 0 and 255\n",
    "            image = np.clip(random.uniform(0, 0.1) * image, 0.0, 255.0)\n",
    "            return image\n",
    "\n",
    "        def augment(row):\n",
    "        # if we have more than one feature allow flipping\n",
    "            if len(self.feature_columns)>2:\n",
    "                if row[\"augment_flip\"]==1:\n",
    "                    row =  flip_horizontally(row)\n",
    "            if row[\"augment_inc_b\"]:\n",
    "                row[\"Image\"] = increase_brightness(row[\"Image\"])\n",
    "            if row[\"augment_dec_b\"]:\n",
    "                row[\"Image\"] = decrease_brightness(row[\"Image\"])\n",
    "            return row\n",
    "\n",
    "      # generate random boolean for augmentation types \n",
    "        df[\"augment_flip\"] = [random.getrandbits(1) for i in range(len(df))]\n",
    "        df[\"augment_inc_b\"] = [random.getrandbits(1) for i in range(len(df))]\n",
    "        df[\"augment_dec_b\"] = [random.getrandbits(1) for i in range(len(df))]\n",
    "        # df = df.apply(lambda row : augment(row), axis=1)\n",
    "        df = df.apply(augment, axis=1)\n",
    "        df.drop(['augment_flip', 'augment_inc_b', 'augment_dec_b'], axis=1, inplace=True)\n",
    "        return df\n"
   ]
  },
  {
   "cell_type": "code",
   "execution_count": 11,
   "metadata": {
    "execution": {
     "iopub.execute_input": "2021-01-08T10:32:04.841463Z",
     "iopub.status.busy": "2021-01-08T10:32:04.840713Z",
     "iopub.status.idle": "2021-01-08T10:32:04.843985Z",
     "shell.execute_reply": "2021-01-08T10:32:04.843508Z"
    },
    "id": "68VI4DWX-EnV",
    "papermill": {
     "duration": 0.041879,
     "end_time": "2021-01-08T10:32:04.844085",
     "exception": false,
     "start_time": "2021-01-08T10:32:04.802206",
     "status": "completed"
    },
    "tags": []
   },
   "outputs": [],
   "source": [
    "def visualize_image(x, y=None, y_predicted=None):\n",
    "  # x-coordinates are in even columns like 0,2,4,.. and y-coordinates are in odd columns like 1,3,5,..\n",
    "    plt.figure()\n",
    "    plt.imshow(x, cmap='gray')\n",
    "    if y is not None:\n",
    "        f = y.shape[0]\n",
    "        for j in range(0,f,2):\n",
    "            plt.plot(y[j], y[j+1], 'X', color='blue', label='actual')\n",
    "    if y_predicted is not None:\n",
    "        f = y_predicted.shape[0]\n",
    "        for j in range(0,f,2):\n",
    "            plt.plot(y_predicted[j], y_predicted[j+1], 'X', color='red', label='predicted')\n",
    "    plt.legend()"
   ]
  },
  {
   "cell_type": "markdown",
   "metadata": {
    "id": "eX1dSeiRCUUE",
    "papermill": {
     "duration": 0.029306,
     "end_time": "2021-01-08T10:32:04.903155",
     "exception": false,
     "start_time": "2021-01-08T10:32:04.873849",
     "status": "completed"
    },
    "tags": []
   },
   "source": [
    "Lets try the data generator and visuilize some images"
   ]
  },
  {
   "cell_type": "markdown",
   "metadata": {
    "id": "cdehN9mvIsan",
    "papermill": {
     "duration": 0.029103,
     "end_time": "2021-01-08T10:32:04.961550",
     "exception": false,
     "start_time": "2021-01-08T10:32:04.932447",
     "status": "completed"
    },
    "tags": []
   },
   "source": [
    "### Part 1.3  Building a Prediction model for a feature"
   ]
  },
  {
   "cell_type": "markdown",
   "metadata": {
    "id": "ph_UEDMwcEvX",
    "papermill": {
     "duration": 0.030243,
     "end_time": "2021-01-08T10:32:05.021063",
     "exception": false,
     "start_time": "2021-01-08T10:32:04.990820",
     "status": "completed"
    },
    "tags": []
   },
   "source": [
    "#### **Prepare data generators to train the model**"
   ]
  },
  {
   "cell_type": "markdown",
   "metadata": {
    "id": "ACe1Z0-GvdBs",
    "papermill": {
     "duration": 0.030149,
     "end_time": "2021-01-08T10:32:05.082096",
     "exception": false,
     "start_time": "2021-01-08T10:32:05.051947",
     "status": "completed"
    },
    "tags": []
   },
   "source": [
    "##### **Split the data into train and test**"
   ]
  },
  {
   "cell_type": "code",
   "execution_count": 12,
   "metadata": {
    "execution": {
     "iopub.execute_input": "2021-01-08T10:32:05.153023Z",
     "iopub.status.busy": "2021-01-08T10:32:05.152201Z",
     "iopub.status.idle": "2021-01-08T10:32:05.158020Z",
     "shell.execute_reply": "2021-01-08T10:32:05.157358Z"
    },
    "id": "Wz9DPZKppGXK",
    "outputId": "316ac4e0-0178-4692-e984-204c6ff49f72",
    "papermill": {
     "duration": 0.045732,
     "end_time": "2021-01-08T10:32:05.158148",
     "exception": false,
     "start_time": "2021-01-08T10:32:05.112416",
     "status": "completed"
    },
    "tags": []
   },
   "outputs": [
    {
     "name": "stdout",
     "output_type": "stream",
     "text": [
      "(2268, 3) (1814, 3) (454, 3)\n"
     ]
    }
   ],
   "source": [
    "df = dic_train_data[feature_name]\n",
    "# Split the data into training and testing data\n",
    "df_train, df_test = train_test_split(df, test_size = 0.2, random_state=None)\n",
    "print(df.shape, df_train.shape, df_test.shape)"
   ]
  },
  {
   "cell_type": "code",
   "execution_count": 13,
   "metadata": {
    "execution": {
     "iopub.execute_input": "2021-01-08T10:32:05.255087Z",
     "iopub.status.busy": "2021-01-08T10:32:05.244733Z",
     "iopub.status.idle": "2021-01-08T10:32:06.206564Z",
     "shell.execute_reply": "2021-01-08T10:32:06.207052Z"
    },
    "id": "iJ7K_1lndPKu",
    "outputId": "abda56ba-925c-43d9-ac1c-512dcbb269f6",
    "papermill": {
     "duration": 1.018502,
     "end_time": "2021-01-08T10:32:06.207182",
     "exception": false,
     "start_time": "2021-01-08T10:32:05.188680",
     "status": "completed"
    },
    "tags": []
   },
   "outputs": [
    {
     "data": {
      "text/html": [
       "<div>\n",
       "<style scoped>\n",
       "    .dataframe tbody tr th:only-of-type {\n",
       "        vertical-align: middle;\n",
       "    }\n",
       "\n",
       "    .dataframe tbody tr th {\n",
       "        vertical-align: top;\n",
       "    }\n",
       "\n",
       "    .dataframe thead th {\n",
       "        text-align: right;\n",
       "    }\n",
       "</style>\n",
       "<table border=\"1\" class=\"dataframe\">\n",
       "  <thead>\n",
       "    <tr style=\"text-align: right;\">\n",
       "      <th></th>\n",
       "      <th>right_eye_inner_corner_x</th>\n",
       "      <th>right_eye_inner_corner_y</th>\n",
       "      <th>Image</th>\n",
       "    </tr>\n",
       "  </thead>\n",
       "  <tbody>\n",
       "    <tr>\n",
       "      <th>851</th>\n",
       "      <td>36.649108</td>\n",
       "      <td>36.643126</td>\n",
       "      <td>[[146, 145, 147, 153, 136, 73, 39, 35, 36, 28,...</td>\n",
       "    </tr>\n",
       "    <tr>\n",
       "      <th>2187</th>\n",
       "      <td>36.464546</td>\n",
       "      <td>37.936469</td>\n",
       "      <td>[[106, 94, 88, 99, 105, 121, 134, 133, 134, 13...</td>\n",
       "    </tr>\n",
       "    <tr>\n",
       "      <th>1689</th>\n",
       "      <td>38.161674</td>\n",
       "      <td>40.785534</td>\n",
       "      <td>[[64, 64, 64, 64, 64, 64, 64, 63, 64, 61, 74, ...</td>\n",
       "    </tr>\n",
       "    <tr>\n",
       "      <th>530</th>\n",
       "      <td>35.524966</td>\n",
       "      <td>35.710262</td>\n",
       "      <td>[[40, 42, 37, 35, 33, 36, 40, 38, 33, 33, 36, ...</td>\n",
       "    </tr>\n",
       "    <tr>\n",
       "      <th>1792</th>\n",
       "      <td>35.600953</td>\n",
       "      <td>41.328830</td>\n",
       "      <td>[[223, 206, 194, 199, 202, 206, 211, 220, 217,...</td>\n",
       "    </tr>\n",
       "  </tbody>\n",
       "</table>\n",
       "</div>"
      ],
      "text/plain": [
       "      right_eye_inner_corner_x  right_eye_inner_corner_y  \\\n",
       "851                  36.649108                 36.643126   \n",
       "2187                 36.464546                 37.936469   \n",
       "1689                 38.161674                 40.785534   \n",
       "530                  35.524966                 35.710262   \n",
       "1792                 35.600953                 41.328830   \n",
       "\n",
       "                                                  Image  \n",
       "851   [[146, 145, 147, 153, 136, 73, 39, 35, 36, 28,...  \n",
       "2187  [[106, 94, 88, 99, 105, 121, 134, 133, 134, 13...  \n",
       "1689  [[64, 64, 64, 64, 64, 64, 64, 63, 64, 61, 74, ...  \n",
       "530   [[40, 42, 37, 35, 33, 36, 40, 38, 33, 33, 36, ...  \n",
       "1792  [[223, 206, 194, 199, 202, 206, 211, 220, 217,...  "
      ]
     },
     "execution_count": 13,
     "metadata": {},
     "output_type": "execute_result"
    }
   ],
   "source": [
    "df_train.head()"
   ]
  },
  {
   "cell_type": "markdown",
   "metadata": {
    "id": "Zo9gt1mXu2fd",
    "papermill": {
     "duration": 0.03169,
     "end_time": "2021-01-08T10:32:06.269910",
     "exception": false,
     "start_time": "2021-01-08T10:32:06.238220",
     "status": "completed"
    },
    "tags": []
   },
   "source": [
    "##### **Build scalers for normalizing feature data**"
   ]
  },
  {
   "cell_type": "code",
   "execution_count": 14,
   "metadata": {
    "execution": {
     "iopub.execute_input": "2021-01-08T10:32:06.339034Z",
     "iopub.status.busy": "2021-01-08T10:32:06.338145Z",
     "iopub.status.idle": "2021-01-08T10:32:06.342850Z",
     "shell.execute_reply": "2021-01-08T10:32:06.342343Z"
    },
    "id": "9t4-hf0gIeSw",
    "papermill": {
     "duration": 0.041992,
     "end_time": "2021-01-08T10:32:06.342950",
     "exception": false,
     "start_time": "2021-01-08T10:32:06.300958",
     "status": "completed"
    },
    "tags": []
   },
   "outputs": [],
   "source": [
    "scalers_dict = dict()\n",
    "for col in df.columns.tolist()[:-1]:\n",
    "    scaler = MinMaxScaler()\n",
    "    scaler.fit(df[col].to_numpy().reshape(-1, 1))\n",
    "    scalers_dict[col] = scaler\n",
    "\n",
    "\n",
    "\n",
    "pkl.dump(scalers_dict, open(scalers_path,\"wb\"))\n"
   ]
  },
  {
   "cell_type": "markdown",
   "metadata": {
    "id": "WZNeHGhxvnSH",
    "papermill": {
     "duration": 0.030658,
     "end_time": "2021-01-08T10:32:06.404434",
     "exception": false,
     "start_time": "2021-01-08T10:32:06.373776",
     "status": "completed"
    },
    "tags": []
   },
   "source": [
    "##### **Build train and validation data generators**"
   ]
  },
  {
   "cell_type": "code",
   "execution_count": 15,
   "metadata": {
    "execution": {
     "iopub.execute_input": "2021-01-08T10:32:06.472161Z",
     "iopub.status.busy": "2021-01-08T10:32:06.471467Z",
     "iopub.status.idle": "2021-01-08T10:32:06.474923Z",
     "shell.execute_reply": "2021-01-08T10:32:06.474435Z"
    },
    "id": "HERnPWEBc83D",
    "papermill": {
     "duration": 0.03999,
     "end_time": "2021-01-08T10:32:06.475018",
     "exception": false,
     "start_time": "2021-01-08T10:32:06.435028",
     "status": "completed"
    },
    "tags": []
   },
   "outputs": [],
   "source": [
    " \n",
    "train_generator = DataGenerator(df_train, batch_size=32, normalize_image=True, normalize_coordinates=True, scalers=scalers_dict)\n",
    "val_generator =  DataGenerator(df_test, batch_size=32,  augment=False, normalize_image=True,  normalize_coordinates=True,  scalers=train_generator.scalers)"
   ]
  },
  {
   "cell_type": "markdown",
   "metadata": {
    "id": "Ctn-Hf0Nc5p_",
    "papermill": {
     "duration": 0.0308,
     "end_time": "2021-01-08T10:32:06.537502",
     "exception": false,
     "start_time": "2021-01-08T10:32:06.506702",
     "status": "completed"
    },
    "tags": []
   },
   "source": [
    "#### **Build a Prediction model**"
   ]
  },
  {
   "cell_type": "code",
   "execution_count": 16,
   "metadata": {
    "execution": {
     "iopub.execute_input": "2021-01-08T10:32:06.619041Z",
     "iopub.status.busy": "2021-01-08T10:32:06.617764Z",
     "iopub.status.idle": "2021-01-08T10:32:06.620298Z",
     "shell.execute_reply": "2021-01-08T10:32:06.620778Z"
    },
    "id": "WHg8_6ZgPvoJ",
    "papermill": {
     "duration": 0.051961,
     "end_time": "2021-01-08T10:32:06.620888",
     "exception": false,
     "start_time": "2021-01-08T10:32:06.568927",
     "status": "completed"
    },
    "tags": []
   },
   "outputs": [],
   "source": [
    "from tensorflow.keras.applications import EfficientNetB0, VGG16\n",
    "\n",
    "def create_efficientNet(nbr_features):\n",
    "    inputs = tf.keras.Input(shape=(96, 96, 3))  \n",
    "    # This option include_top excludes the final Dense layer.\n",
    "    # This allows us to replace the top layer with custom layers which allows the use of  EfficientNet as a feature extractor in a transfer learning workflow\n",
    "    model = EfficientNetB0(include_top=False, input_tensor=inputs, weights=\"imagenet\")#, drop_connect_rate=0.1)\n",
    "    # Freeze the pretrained weights\n",
    "    model.trainable = False\n",
    "\n",
    "    # Rebuild top\n",
    "    x = GlobalAveragePooling2D()(model.output)    \n",
    "    x = BatchNormalization()(x)\n",
    "    x = Dropout(0.4)(x)\n",
    "    outputs = Dense(nbr_features,activation='relu')(x)\n",
    "\n",
    "    # Compile\n",
    "    model = keras.Model(inputs, outputs)\n",
    "    return model\n",
    "\n",
    "def create_vgg16(nbr_features):\n",
    "\n",
    "    #Get back the convolutional part of a VGG network trained on ImageNet\n",
    "    model = VGG16(weights='imagenet', include_top=False)\n",
    "    model.trainable = False\n",
    "    #Create your own input format (here 3x200x200)\n",
    "    inputs = Input(shape=(96,96,3))\n",
    "\n",
    "    #Use the generated model \n",
    "    output_vgg16 = model(inputs)\n",
    "\n",
    "    #Add the fully-connected layers \n",
    "    x = Flatten()(output_vgg16)\n",
    "    x = Dense(64, activation='relu')(x)\n",
    "    # x = Dense(32, activation='relu')(x)\n",
    "    outputs = Dense(nbr_features, activation='relu')(x)\n",
    "\n",
    "    #Create your own model \n",
    "    model = keras.Model(inputs=inputs, outputs=outputs)\n",
    "    return model\n",
    "\n",
    "\n",
    "def create_simple_model(nbr_features):\n",
    "  # vanillia CNN model\n",
    "    model = Sequential()\n",
    "    model.add(Conv2D(16, kernel_size=(5, 5), activation='relu', input_shape=(96, 96 , 1)))\n",
    "    model.add(MaxPooling2D(pool_size=(2, 2), strides=2))\n",
    "    model.add(Conv2D(48, (3, 3), activation='relu'))\n",
    "    model.add(MaxPooling2D(pool_size=(2, 2), strides=2))\n",
    "    model.add(Conv2D(64, (3, 3), activation='relu'))\n",
    "    model.add(MaxPooling2D(pool_size=(2, 2), strides=2))\n",
    "    model.add(Conv2D(64, (2, 2), activation='relu'))\n",
    "    model.add(Flatten())\n",
    "    model.add(Dense(100, activation='relu'))\n",
    "    model.add(Dense(nbr_features, activation='relu'))\n",
    "    return model\n"
   ]
  },
  {
   "cell_type": "code",
   "execution_count": 17,
   "metadata": {
    "execution": {
     "iopub.execute_input": "2021-01-08T10:32:06.687996Z",
     "iopub.status.busy": "2021-01-08T10:32:06.687332Z",
     "iopub.status.idle": "2021-01-08T10:32:11.718583Z",
     "shell.execute_reply": "2021-01-08T10:32:11.717998Z"
    },
    "id": "ofh5qnydxTwZ",
    "outputId": "07bd6fcc-e67a-409e-813c-a4d839c5966b",
    "papermill": {
     "duration": 5.066611,
     "end_time": "2021-01-08T10:32:11.718714",
     "exception": false,
     "start_time": "2021-01-08T10:32:06.652103",
     "status": "completed"
    },
    "tags": []
   },
   "outputs": [
    {
     "name": "stdout",
     "output_type": "stream",
     "text": [
      "Downloading data from https://storage.googleapis.com/keras-applications/efficientnetb0_notop.h5\n",
      "16711680/16705208 [==============================] - 0s 0us/step\n"
     ]
    }
   ],
   "source": [
    "nbr_features = 2\n",
    "# create the model\n",
    "model = create_efficientNet(nbr_features)\n",
    "# model = create_vgg16(nbr_features)"
   ]
  },
  {
   "cell_type": "markdown",
   "metadata": {
    "id": "cJ8vd7UwtrYg",
    "papermill": {
     "duration": 0.032482,
     "end_time": "2021-01-08T10:32:11.784288",
     "exception": false,
     "start_time": "2021-01-08T10:32:11.751806",
     "status": "completed"
    },
    "tags": []
   },
   "source": [
    "#### **Define custom loss and compile the model**"
   ]
  },
  {
   "cell_type": "code",
   "execution_count": 18,
   "metadata": {
    "execution": {
     "iopub.execute_input": "2021-01-08T10:32:12.008726Z",
     "iopub.status.busy": "2021-01-08T10:32:12.007664Z",
     "iopub.status.idle": "2021-01-08T10:32:12.015798Z",
     "shell.execute_reply": "2021-01-08T10:32:12.015052Z"
    },
    "id": "tXRRM-KrLjfE",
    "papermill": {
     "duration": 0.19884,
     "end_time": "2021-01-08T10:32:12.015946",
     "exception": false,
     "start_time": "2021-01-08T10:32:11.817106",
     "status": "completed"
    },
    "tags": []
   },
   "outputs": [],
   "source": [
    "import tensorflow.keras.backend as K\n",
    "\n",
    "def euclidean_distance_loss(y_true, y_pred):\n",
    "  #     Euclidean distance loss\n",
    "    return K.sqrt(K.sum(K.square(y_pred - y_true), axis=-1))\n",
    "\n",
    "def absolute_tanh(x):\n",
    "    return K.abs(K.tanh(x))\n",
    "\n",
    "# MeanAbsoluteError(), MeanAbsolutePercentageError()\n",
    "model.compile(loss=euclidean_distance_loss,\n",
    "              optimizer=keras.optimizers.Adam(learning_rate=1e-4),\n",
    "              )\n",
    "\n",
    "def unfreeze_model(model):\n",
    "    # We unfreeze the top 5 layers while leaving BatchNorm layers frozen\n",
    "    for layer in model.layers[-25:]:\n",
    "        if not isinstance(layer, keras.layers.BatchNormalization):\n",
    "            layer.trainable = True"
   ]
  },
  {
   "cell_type": "markdown",
   "metadata": {
    "id": "XOn3P3dcvy7T",
    "papermill": {
     "duration": 0.034166,
     "end_time": "2021-01-08T10:32:12.084090",
     "exception": false,
     "start_time": "2021-01-08T10:32:12.049924",
     "status": "completed"
    },
    "tags": []
   },
   "source": [
    "#### **Start training**"
   ]
  },
  {
   "cell_type": "code",
   "execution_count": 19,
   "metadata": {
    "execution": {
     "iopub.execute_input": "2021-01-08T10:32:12.177420Z",
     "iopub.status.busy": "2021-01-08T10:32:12.175019Z",
     "iopub.status.idle": "2021-01-08T10:35:30.377600Z",
     "shell.execute_reply": "2021-01-08T10:35:30.376632Z"
    },
    "id": "7AWepBFAc9LR",
    "outputId": "98eb52a4-9bf9-4246-baab-cd0b9085d99c",
    "papermill": {
     "duration": 198.25932,
     "end_time": "2021-01-08T10:35:30.377735",
     "exception": false,
     "start_time": "2021-01-08T10:32:12.118415",
     "status": "completed"
    },
    "tags": []
   },
   "outputs": [
    {
     "name": "stdout",
     "output_type": "stream",
     "text": [
      "Epoch 1/100\n",
      "56/56 [==============================] - 4s 63ms/step - loss: 0.5323 - val_loss: 0.4986\n",
      "Epoch 2/100\n",
      "56/56 [==============================] - 2s 30ms/step - loss: 0.4604 - val_loss: 0.5190\n",
      "Epoch 3/100\n",
      "56/56 [==============================] - 2s 30ms/step - loss: 0.4660 - val_loss: 0.5049\n",
      "Epoch 4/100\n",
      "56/56 [==============================] - 2s 41ms/step - loss: 0.4618 - val_loss: 0.5088\n",
      "Epoch 5/100\n",
      "56/56 [==============================] - 2s 39ms/step - loss: 0.4424 - val_loss: 0.4721\n",
      "Epoch 6/100\n",
      "56/56 [==============================] - 2s 30ms/step - loss: 0.4459 - val_loss: 0.4779\n",
      "Epoch 7/100\n",
      "56/56 [==============================] - 2s 30ms/step - loss: 0.4433 - val_loss: 0.4723\n",
      "Epoch 8/100\n",
      "56/56 [==============================] - 2s 29ms/step - loss: 0.4405 - val_loss: 0.4771\n",
      "Epoch 9/100\n",
      "56/56 [==============================] - 2s 29ms/step - loss: 0.4409 - val_loss: 0.4627\n",
      "Epoch 10/100\n",
      "56/56 [==============================] - 2s 35ms/step - loss: 0.4261 - val_loss: 0.4265\n",
      "Epoch 11/100\n",
      "56/56 [==============================] - 2s 32ms/step - loss: 0.4372 - val_loss: 0.4302\n",
      "Epoch 12/100\n",
      "56/56 [==============================] - 2s 32ms/step - loss: 0.4296 - val_loss: 0.4129\n",
      "Epoch 13/100\n",
      "56/56 [==============================] - 2s 30ms/step - loss: 0.4244 - val_loss: 0.4142\n",
      "Epoch 14/100\n",
      "56/56 [==============================] - 2s 30ms/step - loss: 0.4266 - val_loss: 0.4232\n",
      "Epoch 15/100\n",
      "56/56 [==============================] - 2s 30ms/step - loss: 0.4331 - val_loss: 0.4238\n",
      "Epoch 16/100\n",
      "56/56 [==============================] - 2s 36ms/step - loss: 0.4234 - val_loss: 0.3988\n",
      "Epoch 17/100\n",
      "56/56 [==============================] - 2s 30ms/step - loss: 0.4283 - val_loss: 0.3810\n",
      "Epoch 18/100\n",
      "56/56 [==============================] - 2s 30ms/step - loss: 0.4265 - val_loss: 0.3994\n",
      "Epoch 19/100\n",
      "56/56 [==============================] - 2s 31ms/step - loss: 0.4184 - val_loss: 0.3822\n",
      "Epoch 20/100\n",
      "56/56 [==============================] - 2s 31ms/step - loss: 0.4171 - val_loss: 0.3893\n",
      "Epoch 21/100\n",
      "56/56 [==============================] - 2s 31ms/step - loss: 0.4112 - val_loss: 0.3742\n",
      "Epoch 22/100\n",
      "56/56 [==============================] - 2s 38ms/step - loss: 0.4167 - val_loss: 0.3861\n",
      "Epoch 23/100\n",
      "56/56 [==============================] - 2s 34ms/step - loss: 0.4167 - val_loss: 0.3805\n",
      "Epoch 24/100\n",
      "56/56 [==============================] - 2s 30ms/step - loss: 0.4147 - val_loss: 0.3676\n",
      "Epoch 25/100\n",
      "56/56 [==============================] - 2s 30ms/step - loss: 0.4000 - val_loss: 0.3416\n",
      "Epoch 26/100\n",
      "56/56 [==============================] - 2s 30ms/step - loss: 0.3994 - val_loss: 0.3497\n",
      "Epoch 27/100\n",
      "56/56 [==============================] - 2s 30ms/step - loss: 0.4128 - val_loss: 0.3499\n",
      "Epoch 28/100\n",
      "56/56 [==============================] - 2s 39ms/step - loss: 0.3939 - val_loss: 0.3434\n",
      "Epoch 29/100\n",
      "56/56 [==============================] - 2s 29ms/step - loss: 0.4085 - val_loss: 0.3467\n",
      "Epoch 30/100\n",
      "56/56 [==============================] - 2s 30ms/step - loss: 0.4000 - val_loss: 0.3442\n",
      "Epoch 31/100\n",
      "56/56 [==============================] - 2s 29ms/step - loss: 0.3915 - val_loss: 0.3342\n",
      "Epoch 32/100\n",
      "56/56 [==============================] - 2s 30ms/step - loss: 0.3887 - val_loss: 0.3065\n",
      "Epoch 33/100\n",
      "56/56 [==============================] - 2s 30ms/step - loss: 0.4014 - val_loss: 0.3134\n",
      "Epoch 34/100\n",
      "56/56 [==============================] - 2s 42ms/step - loss: 0.3872 - val_loss: 0.3434\n",
      "Epoch 35/100\n",
      "56/56 [==============================] - 2s 30ms/step - loss: 0.3934 - val_loss: 0.3301\n",
      "Epoch 36/100\n",
      "56/56 [==============================] - 2s 37ms/step - loss: 0.3909 - val_loss: 0.3205\n",
      "Epoch 37/100\n",
      "56/56 [==============================] - 2s 30ms/step - loss: 0.3839 - val_loss: 0.3151\n",
      "Epoch 38/100\n",
      "56/56 [==============================] - 2s 31ms/step - loss: 0.3854 - val_loss: 0.3315\n",
      "Epoch 39/100\n",
      "56/56 [==============================] - 2s 33ms/step - loss: 0.3880 - val_loss: 0.3050\n",
      "Epoch 40/100\n",
      "56/56 [==============================] - 3s 46ms/step - loss: 0.3760 - val_loss: 0.3076\n",
      "Epoch 41/100\n",
      "56/56 [==============================] - 2s 30ms/step - loss: 0.3903 - val_loss: 0.3203\n",
      "Epoch 42/100\n",
      "56/56 [==============================] - 2s 31ms/step - loss: 0.3754 - val_loss: 0.2919\n",
      "Epoch 43/100\n",
      "56/56 [==============================] - 2s 30ms/step - loss: 0.3711 - val_loss: 0.2907\n",
      "Epoch 44/100\n",
      "56/56 [==============================] - 2s 35ms/step - loss: 0.3635 - val_loss: 0.2937\n",
      "Epoch 45/100\n",
      "56/56 [==============================] - 2s 34ms/step - loss: 0.3608 - val_loss: 0.2857\n",
      "Epoch 46/100\n",
      "56/56 [==============================] - 2s 33ms/step - loss: 0.3669 - val_loss: 0.2916\n",
      "Epoch 47/100\n",
      "56/56 [==============================] - 2s 30ms/step - loss: 0.3617 - val_loss: 0.2798\n",
      "Epoch 48/100\n",
      "56/56 [==============================] - 2s 29ms/step - loss: 0.3579 - val_loss: 0.2872\n",
      "Epoch 49/100\n",
      "56/56 [==============================] - 2s 29ms/step - loss: 0.3529 - val_loss: 0.2973\n",
      "Epoch 50/100\n",
      "56/56 [==============================] - 2s 33ms/step - loss: 0.3545 - val_loss: 0.2976\n",
      "Epoch 51/100\n",
      "56/56 [==============================] - 2s 29ms/step - loss: 0.3519 - val_loss: 0.2831\n",
      "Epoch 52/100\n",
      "56/56 [==============================] - 2s 33ms/step - loss: 0.3580 - val_loss: 0.2588\n",
      "Epoch 53/100\n",
      "56/56 [==============================] - 2s 30ms/step - loss: 0.3472 - val_loss: 0.2804\n",
      "Epoch 54/100\n",
      "56/56 [==============================] - 2s 29ms/step - loss: 0.3506 - val_loss: 0.2740\n",
      "Epoch 55/100\n",
      "56/56 [==============================] - 2s 29ms/step - loss: 0.3411 - val_loss: 0.2763\n",
      "Epoch 56/100\n",
      "56/56 [==============================] - 2s 33ms/step - loss: 0.3343 - val_loss: 0.2737\n",
      "Epoch 57/100\n",
      "56/56 [==============================] - 2s 39ms/step - loss: 0.3398 - val_loss: 0.2710\n",
      "Epoch 58/100\n",
      "56/56 [==============================] - 2s 33ms/step - loss: 0.3321 - val_loss: 0.2582\n",
      "Epoch 59/100\n",
      "56/56 [==============================] - 2s 30ms/step - loss: 0.3311 - val_loss: 0.2201\n",
      "Epoch 60/100\n",
      "56/56 [==============================] - 2s 31ms/step - loss: 0.3225 - val_loss: 0.2695\n",
      "Epoch 61/100\n",
      "56/56 [==============================] - 2s 37ms/step - loss: 0.3161 - val_loss: 0.2481\n",
      "Epoch 62/100\n",
      "56/56 [==============================] - 2s 30ms/step - loss: 0.3181 - val_loss: 0.2761\n",
      "Epoch 63/100\n",
      "56/56 [==============================] - 2s 37ms/step - loss: 0.3159 - val_loss: 0.2554\n",
      "Epoch 64/100\n",
      "56/56 [==============================] - 2s 30ms/step - loss: 0.3116 - val_loss: 0.2149\n",
      "Epoch 65/100\n",
      "56/56 [==============================] - 2s 34ms/step - loss: 0.3075 - val_loss: 0.1883\n",
      "Epoch 66/100\n",
      "56/56 [==============================] - 2s 34ms/step - loss: 0.3106 - val_loss: 0.2047\n",
      "Epoch 67/100\n",
      "56/56 [==============================] - 2s 31ms/step - loss: 0.3020 - val_loss: 0.1715\n",
      "Epoch 68/100\n",
      "56/56 [==============================] - 2s 36ms/step - loss: 0.3061 - val_loss: 0.1819\n",
      "Epoch 69/100\n",
      "56/56 [==============================] - 2s 37ms/step - loss: 0.3010 - val_loss: 0.1391\n",
      "Epoch 70/100\n",
      "56/56 [==============================] - 2s 31ms/step - loss: 0.2944 - val_loss: 0.1797\n",
      "Epoch 71/100\n",
      "56/56 [==============================] - 2s 30ms/step - loss: 0.2944 - val_loss: 0.1576\n",
      "Epoch 72/100\n",
      "56/56 [==============================] - 2s 30ms/step - loss: 0.2872 - val_loss: 0.1649\n",
      "Epoch 73/100\n",
      "56/56 [==============================] - 2s 30ms/step - loss: 0.2800 - val_loss: 0.1396\n",
      "Epoch 74/100\n",
      "56/56 [==============================] - 2s 38ms/step - loss: 0.2804 - val_loss: 0.1742\n",
      "Epoch 75/100\n",
      "56/56 [==============================] - 2s 36ms/step - loss: 0.2744 - val_loss: 0.1397\n",
      "Epoch 76/100\n",
      "56/56 [==============================] - 2s 31ms/step - loss: 0.2749 - val_loss: 0.1593\n",
      "Epoch 77/100\n",
      "56/56 [==============================] - 2s 38ms/step - loss: 0.2693 - val_loss: 0.0914\n",
      "Epoch 78/100\n",
      "56/56 [==============================] - 2s 29ms/step - loss: 0.2734 - val_loss: 0.1062\n",
      "Epoch 79/100\n",
      "56/56 [==============================] - 2s 29ms/step - loss: 0.2681 - val_loss: 0.0991\n",
      "Epoch 80/100\n",
      "56/56 [==============================] - 2s 29ms/step - loss: 0.2586 - val_loss: 0.1149\n",
      "Epoch 81/100\n",
      "56/56 [==============================] - 2s 34ms/step - loss: 0.2631 - val_loss: 0.1033\n",
      "Epoch 82/100\n",
      "56/56 [==============================] - 2s 30ms/step - loss: 0.2560 - val_loss: 0.0985\n",
      "Epoch 83/100\n",
      "56/56 [==============================] - 2s 30ms/step - loss: 0.2565 - val_loss: 0.0943\n",
      "Epoch 84/100\n",
      "56/56 [==============================] - 2s 31ms/step - loss: 0.2548 - val_loss: 0.1058\n",
      "Epoch 85/100\n",
      "56/56 [==============================] - 2s 30ms/step - loss: 0.2456 - val_loss: 0.0722\n",
      "Epoch 86/100\n",
      "56/56 [==============================] - 2s 30ms/step - loss: 0.2419 - val_loss: 0.0842\n",
      "Epoch 87/100\n",
      "56/56 [==============================] - 2s 36ms/step - loss: 0.2405 - val_loss: 0.1044\n",
      "Epoch 88/100\n",
      "56/56 [==============================] - 2s 32ms/step - loss: 0.2401 - val_loss: 0.0973\n",
      "Epoch 89/100\n",
      "56/56 [==============================] - 2s 31ms/step - loss: 0.2344 - val_loss: 0.0824\n",
      "Epoch 90/100\n",
      "56/56 [==============================] - 2s 32ms/step - loss: 0.2247 - val_loss: 0.0917\n",
      "Epoch 91/100\n",
      "56/56 [==============================] - 2s 39ms/step - loss: 0.2263 - val_loss: 0.1214\n",
      "Epoch 92/100\n",
      "56/56 [==============================] - 2s 34ms/step - loss: 0.2215 - val_loss: 0.0751\n",
      "Epoch 93/100\n",
      "56/56 [==============================] - 2s 31ms/step - loss: 0.2222 - val_loss: 0.0721\n",
      "Epoch 94/100\n",
      "56/56 [==============================] - 2s 40ms/step - loss: 0.2184 - val_loss: 0.0899\n",
      "Epoch 95/100\n",
      "56/56 [==============================] - 2s 31ms/step - loss: 0.2131 - val_loss: 0.0798\n",
      "Epoch 96/100\n",
      "56/56 [==============================] - 2s 31ms/step - loss: 0.2141 - val_loss: 0.0838\n",
      "Epoch 97/100\n",
      "56/56 [==============================] - 2s 38ms/step - loss: 0.2123 - val_loss: 0.0706\n",
      "Epoch 98/100\n",
      "56/56 [==============================] - 2s 37ms/step - loss: 0.2058 - val_loss: 0.0759\n",
      "Epoch 99/100\n",
      "56/56 [==============================] - 2s 34ms/step - loss: 0.1974 - val_loss: 0.0660\n",
      "Epoch 100/100\n",
      "56/56 [==============================] - 2s 33ms/step - loss: 0.2025 - val_loss: 0.0538\n"
     ]
    }
   ],
   "source": [
    "#10 + 10 +10\n",
    "unfreeze_model(model)\n",
    "\n",
    "history = model.fit(train_generator, \n",
    "                    validation_data=val_generator,\n",
    "                    epochs=100)"
   ]
  },
  {
   "cell_type": "markdown",
   "metadata": {
    "id": "HvHov45D2qwx",
    "papermill": {
     "duration": 1.02544,
     "end_time": "2021-01-08T10:35:32.417121",
     "exception": false,
     "start_time": "2021-01-08T10:35:31.391681",
     "status": "completed"
    },
    "tags": []
   },
   "source": [
    "#### **Evaluate the model**"
   ]
  },
  {
   "cell_type": "code",
   "execution_count": 20,
   "metadata": {
    "execution": {
     "iopub.execute_input": "2021-01-08T10:35:34.458805Z",
     "iopub.status.busy": "2021-01-08T10:35:34.458006Z",
     "iopub.status.idle": "2021-01-08T10:35:34.751493Z",
     "shell.execute_reply": "2021-01-08T10:35:34.752026Z"
    },
    "id": "RYKhDBx9MgTN",
    "outputId": "52aeb591-a793-4482-b854-38914ebd81a9",
    "papermill": {
     "duration": 1.296545,
     "end_time": "2021-01-08T10:35:34.752162",
     "exception": false,
     "start_time": "2021-01-08T10:35:33.455617",
     "status": "completed"
    },
    "tags": []
   },
   "outputs": [
    {
     "name": "stdout",
     "output_type": "stream",
     "text": [
      "14/14 [==============================] - 0s 14ms/step - loss: 0.0535\n"
     ]
    },
    {
     "data": {
      "text/plain": [
       "0.05351460725069046"
      ]
     },
     "execution_count": 20,
     "metadata": {},
     "output_type": "execute_result"
    }
   ],
   "source": [
    "model.evaluate(val_generator)"
   ]
  },
  {
   "cell_type": "code",
   "execution_count": 21,
   "metadata": {
    "execution": {
     "iopub.execute_input": "2021-01-08T10:35:36.956441Z",
     "iopub.status.busy": "2021-01-08T10:35:36.955616Z",
     "iopub.status.idle": "2021-01-08T10:35:37.177560Z",
     "shell.execute_reply": "2021-01-08T10:35:37.178151Z"
    },
    "id": "FYqFSqoqe8Do",
    "outputId": "acccfe34-e1ed-4dee-db6f-d388e7efb6c5",
    "papermill": {
     "duration": 1.424047,
     "end_time": "2021-01-08T10:35:37.178336",
     "exception": false,
     "start_time": "2021-01-08T10:35:35.754289",
     "status": "completed"
    },
    "tags": []
   },
   "outputs": [
    {
     "data": {
      "text/plain": [
       "Text(0.5, 1.0, 'Training and validation loss')"
      ]
     },
     "execution_count": 21,
     "metadata": {},
     "output_type": "execute_result"
    },
    {
     "data": {
      "image/png": "[encoded data removed]",
      "text/plain": [
       "<Figure size 432x288 with 1 Axes>"
      ]
     },
     "metadata": {
      "needs_background": "light"
     },
     "output_type": "display_data"
    }
   ],
   "source": [
    "# Retrieve a list of list results on training and test data sets for each training epoch\n",
    "loss     = history.history['loss']\n",
    "val_loss = history.history['val_loss']\n",
    "epochs   = range(len(loss))\n",
    "# Plot training and validation loss per epoch\n",
    "plt.plot(epochs,loss, color='red' , label='training loss')\n",
    "plt.plot(epochs, val_loss, label='validation loss')\n",
    "plt.legend()\n",
    "plt.title ('Training and validation loss')"
   ]
  },
  {
   "cell_type": "markdown",
   "metadata": {
    "id": "BIr2js1Z2ipI",
    "papermill": {
     "duration": 0.963658,
     "end_time": "2021-01-08T10:35:39.115002",
     "exception": false,
     "start_time": "2021-01-08T10:35:38.151344",
     "status": "completed"
    },
    "tags": []
   },
   "source": [
    "#### **Test the model on random images**"
   ]
  },
  {
   "cell_type": "code",
   "execution_count": 22,
   "metadata": {
    "execution": {
     "iopub.execute_input": "2021-01-08T10:35:41.072188Z",
     "iopub.status.busy": "2021-01-08T10:35:41.071325Z",
     "iopub.status.idle": "2021-01-08T10:35:41.077940Z",
     "shell.execute_reply": "2021-01-08T10:35:41.078500Z"
    },
    "id": "MnxNCLAA1xvB",
    "outputId": "16288291-87dc-4ac3-ba1f-30a59d2fa79a",
    "papermill": {
     "duration": 0.993636,
     "end_time": "2021-01-08T10:35:41.078633",
     "exception": false,
     "start_time": "2021-01-08T10:35:40.084997",
     "status": "completed"
    },
    "tags": []
   },
   "outputs": [
    {
     "data": {
      "text/plain": [
       "{'right_eye_inner_corner_x': MinMaxScaler(),\n",
       " 'right_eye_inner_corner_y': MinMaxScaler()}"
      ]
     },
     "execution_count": 22,
     "metadata": {},
     "output_type": "execute_result"
    }
   ],
   "source": [
    "scalers_dict"
   ]
  },
  {
   "cell_type": "code",
   "execution_count": 23,
   "metadata": {
    "execution": {
     "iopub.execute_input": "2021-01-08T10:35:43.242683Z",
     "iopub.status.busy": "2021-01-08T10:35:43.241819Z",
     "iopub.status.idle": "2021-01-08T10:35:45.114915Z",
     "shell.execute_reply": "2021-01-08T10:35:45.114032Z"
    },
    "id": "EbY6XCqHPvoO",
    "outputId": "85d7b89c-efa4-405a-986a-92f79d589697",
    "papermill": {
     "duration": 3.082024,
     "end_time": "2021-01-08T10:35:45.115024",
     "exception": false,
     "start_time": "2021-01-08T10:35:42.033000",
     "status": "completed"
    },
    "tags": []
   },
   "outputs": [
    {
     "name": "stdout",
     "output_type": "stream",
     "text": [
      "[0.47352028 0.25547308]\n",
      "[36.51278  37.378117]\n",
      "[[0.46311966 0.2360347 ]]\n",
      "[[35.837112 36.531406]]\n"
     ]
    },
    {
     "data": {
      "image/png": "[encoded data removed]",
      "text/plain": [
       "<Figure size 432x288 with 1 Axes>"
      ]
     },
     "metadata": {
      "needs_background": "light"
     },
     "output_type": "display_data"
    }
   ],
   "source": [
    "batch = val_generator.__getitem__(2)\n",
    "j= np.random.randint(0,len(batch[0]))\n",
    "# check original image \n",
    "print(batch[1][j:j+1][0])\n",
    "actual_y= batch[1][j:j+1][0]\n",
    "actual_y[0] = scalers_dict[feature_name+\"_x\"].inverse_transform([[actual_y[0]]])\n",
    "actual_y[1] = scalers_dict[feature_name+\"_y\"].inverse_transform([[actual_y[1]]])\n",
    "print(actual_y)\n",
    "##############################################\n",
    "predicted_y = model.predict(batch[0][j:j+1])\n",
    "print(predicted_y)\n",
    "# uncomment in case we have used the scaling\n",
    "predicted_y[:,:1] = scalers_dict[feature_name+\"_x\"].inverse_transform(predicted_y[:,:1])\n",
    "predicted_y[:,1:] = scalers_dict[feature_name+\"_y\"].inverse_transform(predicted_y[:,1:])\n",
    "print(predicted_y)\n",
    "##############################################3\n",
    "visualize_image(batch[0][j:j+1].reshape(96,96,3)[:,:,0],actual_y, predicted_y[0])"
   ]
  },
  {
   "cell_type": "markdown",
   "metadata": {
    "id": "Q3sMZnVZ3-dd",
    "papermill": {
     "duration": 1.289157,
     "end_time": "2021-01-08T10:35:47.553776",
     "exception": false,
     "start_time": "2021-01-08T10:35:46.264619",
     "status": "completed"
    },
    "tags": []
   },
   "source": [
    "**Its very impressive how close are the predicted corrdinates to the original ones**"
   ]
  },
  {
   "cell_type": "markdown",
   "metadata": {
    "id": "KOW_zMQ5PvoS",
    "papermill": {
     "duration": 1.038575,
     "end_time": "2021-01-08T10:35:49.629449",
     "exception": false,
     "start_time": "2021-01-08T10:35:48.590874",
     "status": "completed"
    },
    "tags": []
   },
   "source": [
    "#### **Test on missing data**"
   ]
  },
  {
   "cell_type": "code",
   "execution_count": 24,
   "metadata": {
    "execution": {
     "iopub.execute_input": "2021-01-08T10:35:51.585354Z",
     "iopub.status.busy": "2021-01-08T10:35:51.584291Z",
     "iopub.status.idle": "2021-01-08T10:35:51.587405Z",
     "shell.execute_reply": "2021-01-08T10:35:51.587873Z"
    },
    "id": "zKZ1t2qoPvoS",
    "outputId": "2c2688c2-cb6d-4ad7-dad1-9fabe60c1d13",
    "papermill": {
     "duration": 0.964375,
     "end_time": "2021-01-08T10:35:51.587996",
     "exception": false,
     "start_time": "2021-01-08T10:35:50.623621",
     "status": "completed"
    },
    "tags": []
   },
   "outputs": [
    {
     "data": {
      "text/plain": [
       "'right_eye_inner_corner'"
      ]
     },
     "execution_count": 24,
     "metadata": {},
     "output_type": "execute_result"
    }
   ],
   "source": [
    "feature_name"
   ]
  },
  {
   "cell_type": "code",
   "execution_count": 25,
   "metadata": {
    "execution": {
     "iopub.execute_input": "2021-01-08T10:35:53.523368Z",
     "iopub.status.busy": "2021-01-08T10:35:53.522626Z",
     "iopub.status.idle": "2021-01-08T10:35:53.526176Z",
     "shell.execute_reply": "2021-01-08T10:35:53.525687Z"
    },
    "id": "BlsfoMj3PvoT",
    "papermill": {
     "duration": 0.979976,
     "end_time": "2021-01-08T10:35:53.526291",
     "exception": false,
     "start_time": "2021-01-08T10:35:52.546315",
     "status": "completed"
    },
    "tags": []
   },
   "outputs": [],
   "source": [
    "rgb_channels= True\n",
    "normalize_image = True\n",
    "def pre_process_images(image):\n",
    "    image = np.vstack(image).reshape(-1, 96, 96, 1).astype(np.float32)\n",
    "    if rgb_channels:\n",
    "        image = np.repeat(image,3,-1)\n",
    "    if normalize_image == True:\n",
    "        image = image/255\n",
    "    return image"
   ]
  },
  {
   "cell_type": "code",
   "execution_count": 26,
   "metadata": {
    "execution": {
     "iopub.execute_input": "2021-01-08T10:35:55.492281Z",
     "iopub.status.busy": "2021-01-08T10:35:55.490371Z",
     "iopub.status.idle": "2021-01-08T10:35:55.493030Z",
     "shell.execute_reply": "2021-01-08T10:35:55.493600Z"
    },
    "id": "NsF-GdN6PvoU",
    "papermill": {
     "duration": 0.997072,
     "end_time": "2021-01-08T10:35:55.493736",
     "exception": false,
     "start_time": "2021-01-08T10:35:54.496664",
     "status": "completed"
    },
    "tags": []
   },
   "outputs": [],
   "source": [
    "missing_data = dic_missing_data[feature_name]"
   ]
  },
  {
   "cell_type": "code",
   "execution_count": 27,
   "metadata": {
    "execution": {
     "iopub.execute_input": "2021-01-08T10:35:57.420874Z",
     "iopub.status.busy": "2021-01-08T10:35:57.420116Z",
     "iopub.status.idle": "2021-01-08T10:35:57.425534Z",
     "shell.execute_reply": "2021-01-08T10:35:57.426000Z"
    },
    "id": "xgfXwWOMDj0N",
    "outputId": "c74688b4-7479-421a-9a07-3925a7096300",
    "papermill": {
     "duration": 0.972701,
     "end_time": "2021-01-08T10:35:57.426137",
     "exception": false,
     "start_time": "2021-01-08T10:35:56.453436",
     "status": "completed"
    },
    "tags": []
   },
   "outputs": [
    {
     "data": {
      "text/plain": [
       "4781"
      ]
     },
     "execution_count": 27,
     "metadata": {},
     "output_type": "execute_result"
    }
   ],
   "source": [
    "len(missing_data)"
   ]
  },
  {
   "cell_type": "code",
   "execution_count": 28,
   "metadata": {
    "execution": {
     "iopub.execute_input": "2021-01-08T10:35:59.630318Z",
     "iopub.status.busy": "2021-01-08T10:35:59.629222Z",
     "iopub.status.idle": "2021-01-08T10:35:59.857367Z",
     "shell.execute_reply": "2021-01-08T10:35:59.856313Z"
    },
    "id": "7janB8HOPvoU",
    "outputId": "5698bbf5-06b1-44d6-99e4-3920e4ea689a",
    "papermill": {
     "duration": 1.216055,
     "end_time": "2021-01-08T10:35:59.857540",
     "exception": false,
     "start_time": "2021-01-08T10:35:58.641485",
     "status": "completed"
    },
    "tags": []
   },
   "outputs": [
    {
     "name": "stdout",
     "output_type": "stream",
     "text": [
      "[[0.46803793 0.23899414]]\n",
      "[[36.156624 36.660316]]\n"
     ]
    },
    {
     "data": {
      "image/png": "[encoded data removed]",
      "text/plain": [
       "<Figure size 432x288 with 1 Axes>"
      ]
     },
     "metadata": {
      "needs_background": "light"
     },
     "output_type": "display_data"
    }
   ],
   "source": [
    "# take a random image and test on it\n",
    "l = np.random.randint(0, len(missing_data)-1)\n",
    "image = missing_data.iloc[l][\"Image\"]\n",
    "image = pre_process_images(image)\n",
    "predicted_y = model.predict(image)\n",
    "print(predicted_y)\n",
    "# uncomment in case we have used the scaling\n",
    "predicted_y[:,:1] = scalers_dict[feature_name+\"_x\"].inverse_transform(predicted_y[:,:1])\n",
    "predicted_y[:,1:] = scalers_dict[feature_name+\"_y\"].inverse_transform(predicted_y[:,1:])\n",
    "print(predicted_y)\n",
    "visualize_image(image.reshape(96,96,3)[:,:,0],None, predicted_y[0])"
   ]
  },
  {
   "cell_type": "markdown",
   "metadata": {
    "id": "eCtvSBv2PvoV",
    "papermill": {
     "duration": 0.980019,
     "end_time": "2021-01-08T10:36:01.836541",
     "exception": false,
     "start_time": "2021-01-08T10:36:00.856522",
     "status": "completed"
    },
    "tags": []
   },
   "source": [
    "#### **Save model**"
   ]
  },
  {
   "cell_type": "code",
   "execution_count": 29,
   "metadata": {
    "execution": {
     "iopub.execute_input": "2021-01-08T10:36:03.907039Z",
     "iopub.status.busy": "2021-01-08T10:36:03.881591Z",
     "iopub.status.idle": "2021-01-08T10:36:04.258440Z",
     "shell.execute_reply": "2021-01-08T10:36:04.257867Z"
    },
    "id": "PHDvP_QL39lh",
    "papermill": {
     "duration": 1.440912,
     "end_time": "2021-01-08T10:36:04.258580",
     "exception": false,
     "start_time": "2021-01-08T10:36:02.817668",
     "status": "completed"
    },
    "tags": []
   },
   "outputs": [],
   "source": [
    "# save model and architecture to single file\n",
    "model.save(model_path)"
   ]
  },
  {
   "cell_type": "code",
   "execution_count": null,
   "metadata": {
    "id": "ERAMk1EHPvoX",
    "papermill": {
     "duration": 0.977074,
     "end_time": "2021-01-08T10:36:06.210775",
     "exception": false,
     "start_time": "2021-01-08T10:36:05.233701",
     "status": "completed"
    },
    "tags": []
   },
   "outputs": [],
   "source": []
  },
  {
   "cell_type": "code",
   "execution_count": null,
   "metadata": {
    "papermill": {
     "duration": 1.012473,
     "end_time": "2021-01-08T10:36:08.199324",
     "exception": false,
     "start_time": "2021-01-08T10:36:07.186851",
     "status": "completed"
    },
    "tags": []
   },
   "outputs": [],
   "source": []
  }
 ],
 "metadata": {
  "kernelspec": {
   "display_name": "Python 3",
   "language": "python",
   "name": "python3"
  },
  "language_info": {
   "codemirror_mode": {
    "name": "ipython",
    "version": 3
   },
   "file_extension": ".py",
   "mimetype": "text/x-python",
   "name": "python",
   "nbconvert_exporter": "python",
   "pygments_lexer": "ipython3",
   "version": "3.6.12"
  },
  "papermill": {
   "duration": 264.292034,
   "end_time": "2021-01-08T10:36:10.598499",
   "environment_variables": {},
   "exception": null,
   "input_path": "__notebook__.ipynb",
   "output_path": "__notebook__.ipynb",
   "parameters": {},
   "start_time": "2021-01-08T10:31:46.306465",
   "version": "2.1.0"
  }
 },
 "nbformat": 4,
 "nbformat_minor": 4
}
