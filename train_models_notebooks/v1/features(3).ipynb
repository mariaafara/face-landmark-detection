{
 "cells": [
  {
   "cell_type": "code",
   "execution_count": 1,
   "metadata": {
    "execution": {
     "iopub.execute_input": "2021-01-07T16:49:06.216174Z",
     "iopub.status.busy": "2021-01-07T16:49:06.215317Z",
     "iopub.status.idle": "2021-01-07T16:49:06.218313Z",
     "shell.execute_reply": "2021-01-07T16:49:06.217820Z"
    },
    "id": "mt9t-79OPvng",
    "papermill": {
     "duration": 0.035905,
     "end_time": "2021-01-07T16:49:06.218450",
     "exception": false,
     "start_time": "2021-01-07T16:49:06.182545",
     "status": "completed"
    },
    "tags": []
   },
   "outputs": [],
   "source": [
    "feature_index = 2"
   ]
  },
  {
   "cell_type": "code",
   "execution_count": 2,
   "metadata": {
    "execution": {
     "iopub.execute_input": "2021-01-07T16:49:06.276722Z",
     "iopub.status.busy": "2021-01-07T16:49:06.275893Z",
     "iopub.status.idle": "2021-01-07T16:49:06.278129Z",
     "shell.execute_reply": "2021-01-07T16:49:06.278625Z"
    },
    "id": "29LaKxCh-Em7",
    "papermill": {
     "duration": 0.032976,
     "end_time": "2021-01-07T16:49:06.278736",
     "exception": false,
     "start_time": "2021-01-07T16:49:06.245760",
     "status": "completed"
    },
    "tags": []
   },
   "outputs": [],
   "source": [
    "# import os\n",
    "# os.environ['KAGGLE_USERNAME'] = \"mariaafara\" # username from the json file\n",
    "# os.environ['KAGGLE_KEY'] = \"25755ae03c0b83042774e5e0d15b886e\" # key from the json file\n",
    "#Crearting a Client to host the Kaggle API\n",
    "# !pip install -q kaggle\n",
    "# !kaggle datasets download mariaafara/Facial-Landmarks\n",
    "# !unzip Facial-Landmarks.zip -d facial-keypoints-detection"
   ]
  },
  {
   "cell_type": "code",
   "execution_count": 3,
   "metadata": {
    "execution": {
     "iopub.execute_input": "2021-01-07T16:49:06.340600Z",
     "iopub.status.busy": "2021-01-07T16:49:06.339900Z",
     "iopub.status.idle": "2021-01-07T16:49:11.911299Z",
     "shell.execute_reply": "2021-01-07T16:49:11.911946Z"
    },
    "id": "3f3roaNK6hfZ",
    "papermill": {
     "duration": 5.606337,
     "end_time": "2021-01-07T16:49:11.912120",
     "exception": false,
     "start_time": "2021-01-07T16:49:06.305783",
     "status": "completed"
    },
    "tags": []
   },
   "outputs": [],
   "source": [
    "import numpy as np\n",
    "import pandas as pd\n",
    "import math\n",
    "import random\n",
    "import seaborn as sns\n",
    "import matplotlib.pyplot as plt\n",
    "import tensorflow as tf\n",
    "import tensorflow.keras as keras\n",
    "from tensorflow.keras.models import Sequential\n",
    "from tensorflow.keras.layers import Dense, Dropout, Flatten, Input, Conv2D, MaxPooling2D, GlobalAveragePooling2D, BatchNormalization\n",
    "from sklearn.model_selection import train_test_split\n",
    "from sklearn import preprocessing\n",
    "from sklearn.preprocessing import MinMaxScaler\n",
    "from tensorflow.keras import optimizers\n",
    "from IPython.display import clear_output\n",
    "pd.options.mode.chained_assignment = None  # default='warn'\n"
   ]
  },
  {
   "cell_type": "code",
   "execution_count": 4,
   "metadata": {
    "execution": {
     "iopub.execute_input": "2021-01-07T16:49:12.005386Z",
     "iopub.status.busy": "2021-01-07T16:49:12.004504Z",
     "iopub.status.idle": "2021-01-07T16:49:12.006897Z",
     "shell.execute_reply": "2021-01-07T16:49:12.006156Z"
    },
    "id": "9_E22cct-EnI",
    "papermill": {
     "duration": 0.055428,
     "end_time": "2021-01-07T16:49:12.007018",
     "exception": false,
     "start_time": "2021-01-07T16:49:11.951590",
     "status": "completed"
    },
    "tags": []
   },
   "outputs": [],
   "source": [
    "train_data_path = \"/kaggle/input/facial-landmarks/dic_train_data.pkl\"\n",
    "missing_data_path = \"/kaggle/input/facial-landmarks/dic_missing_data.pkl\"\n",
    "# train_data_path = \"data/dic_train_data.pkl\"\n",
    "# missing_data_path = \"data/dic_missing_data.pkl\""
   ]
  },
  {
   "cell_type": "code",
   "execution_count": 5,
   "metadata": {
    "execution": {
     "iopub.execute_input": "2021-01-07T16:49:12.090441Z",
     "iopub.status.busy": "2021-01-07T16:49:12.089743Z",
     "iopub.status.idle": "2021-01-07T16:49:18.010673Z",
     "shell.execute_reply": "2021-01-07T16:49:18.009993Z"
    },
    "id": "9iJTuxj_kNfQ",
    "papermill": {
     "duration": 5.955784,
     "end_time": "2021-01-07T16:49:18.010805",
     "exception": false,
     "start_time": "2021-01-07T16:49:12.055021",
     "status": "completed"
    },
    "tags": []
   },
   "outputs": [],
   "source": [
    "import pickle as pkl\n",
    "\n",
    "dic_train_data = pkl.load(open(train_data_path,\"rb\"))\n",
    "dic_missing_data = pkl.load(open(missing_data_path,\"rb\"))"
   ]
  },
  {
   "cell_type": "code",
   "execution_count": 6,
   "metadata": {
    "execution": {
     "iopub.execute_input": "2021-01-07T16:49:18.076332Z",
     "iopub.status.busy": "2021-01-07T16:49:18.075382Z",
     "iopub.status.idle": "2021-01-07T16:49:18.080510Z",
     "shell.execute_reply": "2021-01-07T16:49:18.079887Z"
    },
    "id": "6TdjVdwEPvny",
    "outputId": "c49a7d54-3444-4bef-f242-751e108f21f3",
    "papermill": {
     "duration": 0.039771,
     "end_time": "2021-01-07T16:49:18.080647",
     "exception": false,
     "start_time": "2021-01-07T16:49:18.040876",
     "status": "completed"
    },
    "tags": []
   },
   "outputs": [
    {
     "data": {
      "text/plain": [
       "['left_eye_center',\n",
       " 'right_eye_center',\n",
       " 'left_eye_inner_corner',\n",
       " 'left_eye_outer_corner',\n",
       " 'right_eye_inner_corner',\n",
       " 'right_eye_outer_corner',\n",
       " 'left_eyebrow_inner_end',\n",
       " 'left_eyebrow_outer_end',\n",
       " 'right_eyebrow_inner_end',\n",
       " 'right_eyebrow_outer_end',\n",
       " 'mouth_left_corner',\n",
       " 'mouth_right_corner',\n",
       " 'mouth_center_top_lip',\n",
       " 'mouth_center_bottom_lip']"
      ]
     },
     "execution_count": 6,
     "metadata": {},
     "output_type": "execute_result"
    }
   ],
   "source": [
    "features = list(dic_train_data.keys())\n",
    "features"
   ]
  },
  {
   "cell_type": "code",
   "execution_count": 7,
   "metadata": {
    "execution": {
     "iopub.execute_input": "2021-01-07T16:49:18.143788Z",
     "iopub.status.busy": "2021-01-07T16:49:18.143163Z",
     "iopub.status.idle": "2021-01-07T16:49:18.149199Z",
     "shell.execute_reply": "2021-01-07T16:49:18.148723Z"
    },
    "id": "ydLdeD8YPvn1",
    "outputId": "f34d38aa-b9d9-4a29-f689-35bd6a3aa98e",
    "papermill": {
     "duration": 0.039229,
     "end_time": "2021-01-07T16:49:18.149303",
     "exception": false,
     "start_time": "2021-01-07T16:49:18.110074",
     "status": "completed"
    },
    "tags": []
   },
   "outputs": [
    {
     "data": {
      "text/plain": [
       "'left_eye_inner_corner'"
      ]
     },
     "execution_count": 7,
     "metadata": {},
     "output_type": "execute_result"
    }
   ],
   "source": [
    "feature_name = features[feature_index]\n",
    "feature_name"
   ]
  },
  {
   "cell_type": "code",
   "execution_count": 8,
   "metadata": {
    "execution": {
     "iopub.execute_input": "2021-01-07T16:49:18.214884Z",
     "iopub.status.busy": "2021-01-07T16:49:18.212836Z",
     "iopub.status.idle": "2021-01-07T16:49:18.215575Z",
     "shell.execute_reply": "2021-01-07T16:49:18.216049Z"
    },
    "id": "APi2VVkKQFOm",
    "papermill": {
     "duration": 0.037393,
     "end_time": "2021-01-07T16:49:18.216160",
     "exception": false,
     "start_time": "2021-01-07T16:49:18.178767",
     "status": "completed"
    },
    "tags": []
   },
   "outputs": [],
   "source": [
    "scalers_path = feature_name+\"_scalers_dict.pkl\"\n",
    "model_path = feature_name+\".h5\"\n",
    "\n",
    "# scalers_path = \"data/\"+feature_name+\"_scalers_dict.pkl\"\n",
    "# model_path = \"models/\"+feature_name+\".h5\""
   ]
  },
  {
   "cell_type": "code",
   "execution_count": 9,
   "metadata": {
    "execution": {
     "iopub.execute_input": "2021-01-07T16:49:18.294883Z",
     "iopub.status.busy": "2021-01-07T16:49:18.293916Z",
     "iopub.status.idle": "2021-01-07T16:49:19.307153Z",
     "shell.execute_reply": "2021-01-07T16:49:19.306597Z"
    },
    "id": "UHAb9cCEPvn3",
    "outputId": "cdb32799-3d8e-4470-e682-c8b1a792037b",
    "papermill": {
     "duration": 1.061463,
     "end_time": "2021-01-07T16:49:19.307261",
     "exception": false,
     "start_time": "2021-01-07T16:49:18.245798",
     "status": "completed"
    },
    "tags": []
   },
   "outputs": [
    {
     "data": {
      "text/html": [
       "<div>\n",
       "<style scoped>\n",
       "    .dataframe tbody tr th:only-of-type {\n",
       "        vertical-align: middle;\n",
       "    }\n",
       "\n",
       "    .dataframe tbody tr th {\n",
       "        vertical-align: top;\n",
       "    }\n",
       "\n",
       "    .dataframe thead th {\n",
       "        text-align: right;\n",
       "    }\n",
       "</style>\n",
       "<table border=\"1\" class=\"dataframe\">\n",
       "  <thead>\n",
       "    <tr style=\"text-align: right;\">\n",
       "      <th></th>\n",
       "      <th>left_eye_inner_corner_x</th>\n",
       "      <th>left_eye_inner_corner_y</th>\n",
       "      <th>Image</th>\n",
       "    </tr>\n",
       "  </thead>\n",
       "  <tbody>\n",
       "    <tr>\n",
       "      <th>0</th>\n",
       "      <td>59.582075</td>\n",
       "      <td>39.647423</td>\n",
       "      <td>[[238, 236, 237, 238, 240, 240, 239, 241, 241,...</td>\n",
       "    </tr>\n",
       "    <tr>\n",
       "      <th>1</th>\n",
       "      <td>58.856170</td>\n",
       "      <td>35.274349</td>\n",
       "      <td>[[219, 215, 204, 196, 204, 211, 212, 200, 180,...</td>\n",
       "    </tr>\n",
       "    <tr>\n",
       "      <th>2</th>\n",
       "      <td>59.412000</td>\n",
       "      <td>36.320968</td>\n",
       "      <td>[[144, 142, 159, 180, 188, 188, 184, 180, 167,...</td>\n",
       "    </tr>\n",
       "    <tr>\n",
       "      <th>3</th>\n",
       "      <td>60.003339</td>\n",
       "      <td>39.127179</td>\n",
       "      <td>[[193, 192, 193, 194, 194, 194, 193, 192, 168,...</td>\n",
       "    </tr>\n",
       "    <tr>\n",
       "      <th>4</th>\n",
       "      <td>58.565890</td>\n",
       "      <td>39.621261</td>\n",
       "      <td>[[147, 148, 160, 196, 215, 214, 216, 217, 219,...</td>\n",
       "    </tr>\n",
       "  </tbody>\n",
       "</table>\n",
       "</div>"
      ],
      "text/plain": [
       "   left_eye_inner_corner_x  left_eye_inner_corner_y  \\\n",
       "0                59.582075                39.647423   \n",
       "1                58.856170                35.274349   \n",
       "2                59.412000                36.320968   \n",
       "3                60.003339                39.127179   \n",
       "4                58.565890                39.621261   \n",
       "\n",
       "                                               Image  \n",
       "0  [[238, 236, 237, 238, 240, 240, 239, 241, 241,...  \n",
       "1  [[219, 215, 204, 196, 204, 211, 212, 200, 180,...  \n",
       "2  [[144, 142, 159, 180, 188, 188, 184, 180, 167,...  \n",
       "3  [[193, 192, 193, 194, 194, 194, 193, 192, 168,...  \n",
       "4  [[147, 148, 160, 196, 215, 214, 216, 217, 219,...  "
      ]
     },
     "execution_count": 9,
     "metadata": {},
     "output_type": "execute_result"
    }
   ],
   "source": [
    "dic_train_data[feature_name].head()"
   ]
  },
  {
   "cell_type": "markdown",
   "metadata": {
    "id": "Ys-qr2X5WKAR",
    "papermill": {
     "duration": 0.030026,
     "end_time": "2021-01-07T16:49:19.368177",
     "exception": false,
     "start_time": "2021-01-07T16:49:19.338151",
     "status": "completed"
    },
    "tags": []
   },
   "source": [
    "#### **Create custom Data Generator**\n",
    "\n",
    "**We will build a data generator that will load mini-batches and feed to the model dynamically**"
   ]
  },
  {
   "cell_type": "code",
   "execution_count": 10,
   "metadata": {
    "execution": {
     "iopub.execute_input": "2021-01-07T16:49:19.487027Z",
     "iopub.status.busy": "2021-01-07T16:49:19.476520Z",
     "iopub.status.idle": "2021-01-07T16:49:19.502328Z",
     "shell.execute_reply": "2021-01-07T16:49:19.501821Z"
    },
    "id": "i8PX_Elb-VQz",
    "papermill": {
     "duration": 0.070143,
     "end_time": "2021-01-07T16:49:19.502504",
     "exception": false,
     "start_time": "2021-01-07T16:49:19.432361",
     "status": "completed"
    },
    "tags": []
   },
   "outputs": [],
   "source": [
    "class DataGenerator(tf.keras.utils.Sequence):\n",
    "    def __init__(self, df, batch_size=32, rgb_channels=True, shuffle=True, augment=True, normalize_image=True, normalize_coordinates=False, scalers=None):\n",
    "        self.df = df\n",
    "        self.batch_size = batch_size\n",
    "        self.size = df.shape[0]\n",
    "        self.shuffle = shuffle\n",
    "        self.augment = augment\n",
    "        # Keras pre-trained models have trained on color images and if we want to use grayscale images we can still use these pre-trained models by repeating the grayscale image over three channels\n",
    "        self.rgb_channels = rgb_channels\n",
    "        self.normalize_image = normalize_image\n",
    "        self.normalize_coordinates = normalize_coordinates\n",
    "        self.scalers = scalers\n",
    "        self.feature_columns = df.columns.tolist()[:-1]\n",
    "        #  To keep track on which pairs of landmarks to be swapped, we introduce a dictionary recording the original and new landmark's index\n",
    "        self.left_right_dic = {'right_eye_center_x' : 'left_eye_center_x' ,\n",
    "                'right_eye_center_y' : 'left_eye_center_y' ,\n",
    "                'right_eye_inner_corner_x' : 'left_eye_inner_corner_x' ,\n",
    "                'right_eye_inner_corner_y' : 'left_eye_inner_corner_y' ,\n",
    "                'right_eye_outer_corner_x' : 'left_eye_outer_corner_x' ,\n",
    "                'right_eye_outer_corner_y' : 'left_eye_outer_corner_y' ,\n",
    "                'right_eyebrow_inner_end_x' : 'left_eyebrow_inner_end_x' ,\n",
    "                'right_eyebrow_inner_end_y' : 'left_eyebrow_inner_end_y' ,\n",
    "                'right_eyebrow_outer_end_x' : 'left_eyebrow_outer_end_x' ,\n",
    "                'right_eyebrow_outer_end_y' : 'left_eyebrow_outer_end_y' ,\n",
    "                'mouth_right_corner_x' : 'mouth_left_corner_x' ,\n",
    "                'mouth_right_corner_y' : 'mouth_left_corner_y' }\n",
    "        self.on_epoch_end()\n",
    "\n",
    "    def __len__(self):\n",
    "        'Denotes the number of batches per epoch'\n",
    "        return self.size // self.batch_size\n",
    "\n",
    "    def on_epoch_end(self):\n",
    "        'Updates indexes after each epoch'\n",
    "        self.indexes = np.arange(self.size)\n",
    "        if self.shuffle:\n",
    "            np.random.shuffle(self.indexes)\n",
    "\n",
    "    def __getitem__(self, index):\n",
    "        # selects indices of data for next batch`\n",
    "        indexes = self.indexes[index * self.batch_size : (index + 1) * self.batch_size]\n",
    "        'Generate one batch of data'\n",
    "        batched_df = self.df.iloc[indexes] #.sample(frac=1).reset_index(drop=True)\n",
    "\n",
    "        if self.augment == True:\n",
    "            df_batch = self.augmentor(batched_df)\n",
    "        else:\n",
    "            df_batch = batched_df\n",
    "\n",
    "\n",
    "        batched_images = np.vstack(df_batch[\"Image\"].values).reshape(-1, 96, 96, 1).astype(np.float32)\n",
    "        \n",
    "        if self.rgb_channels:\n",
    "            batched_images = np.repeat(batched_images,3,-1)\n",
    "\n",
    "        batched_feature_corrdinates = df_batch.iloc[:,:-1]\n",
    "        \n",
    "        if self.normalize_coordinates:\n",
    "            for col in self.feature_columns:\n",
    "                scaler = self.scalers[col]\n",
    "                batched_feature_corrdinates[col] = scaler.transform(batched_feature_corrdinates[col].to_numpy().reshape(-1, 1)).reshape(-1)\n",
    "\n",
    "        batched_feature_corrdinates = batched_feature_corrdinates.values.astype(np.float32) #feature coordinates        \n",
    "\n",
    "        if self.normalize_image == True:\n",
    "            batched_images = batched_images/255\n",
    "\n",
    "        return batched_images, batched_feature_corrdinates\n",
    "\n",
    "    def augmentor(self, df):\n",
    "\n",
    "        def flip_horizontally(row):\n",
    "            'Method that flips the image horizontally and swaps the features' \n",
    "            row[\"Image\"] = np.flip(row[\"Image\"], axis = 1)\n",
    "            # y coordinates values will stay the same while the x coordinates will have to be changed\n",
    "            # subtract our initial x-coordinate values from width of the image(96)\n",
    "            for i in range(len(self.feature_columns)):#+1\n",
    "                if i%2 == 0: # because there is always x coordinate then y corrdinate\n",
    "                    row[self.feature_columns[i]] = 96. - row[self.feature_columns[i]]\n",
    "            # swap\n",
    "            rights = [a for a in self.feature_columns if \"right\" in a.split(\"_\")]\n",
    "            for col_r in rights:\n",
    "                col_l = self.left_right_dic[col_r]\n",
    "                temp = row[col_l] \n",
    "                row[col_l] = row[col_r]\n",
    "                row[col_r] = temp\n",
    "            return row\n",
    "\n",
    "        def increase_brightness(image):\n",
    "            'Method that randomly increase images brightness'      \n",
    "            # Multiply pixel values by random values between 1 and 1.5 to increase the brightness of the image\n",
    "            # Clip the value between 0 and 255\n",
    "            image = np.clip(random.uniform(1, 1.5) * image, 0.0, 255.0)\n",
    "            return image\n",
    "\n",
    "        def decrease_brightness(image):\n",
    "            'Method that randomly decrease images brightness'\n",
    "            # Multiply pixel values by random values between 0 and 0.1 to decrease the brightness of the image\n",
    "            # Clip the value between 0 and 255\n",
    "            image = np.clip(random.uniform(0, 0.1) * image, 0.0, 255.0)\n",
    "            return image\n",
    "\n",
    "        def augment(row):\n",
    "        # if we have more than one feature allow flipping\n",
    "            if len(self.feature_columns)>2:\n",
    "                if row[\"augment_flip\"]==1:\n",
    "                    row =  flip_horizontally(row)\n",
    "            if row[\"augment_inc_b\"]:\n",
    "                row[\"Image\"] = increase_brightness(row[\"Image\"])\n",
    "            if row[\"augment_dec_b\"]:\n",
    "                row[\"Image\"] = decrease_brightness(row[\"Image\"])\n",
    "            return row\n",
    "\n",
    "      # generate random boolean for augmentation types \n",
    "        df[\"augment_flip\"] = [random.getrandbits(1) for i in range(len(df))]\n",
    "        df[\"augment_inc_b\"] = [random.getrandbits(1) for i in range(len(df))]\n",
    "        df[\"augment_dec_b\"] = [random.getrandbits(1) for i in range(len(df))]\n",
    "        # df = df.apply(lambda row : augment(row), axis=1)\n",
    "        df = df.apply(augment, axis=1)\n",
    "        df.drop(['augment_flip', 'augment_inc_b', 'augment_dec_b'], axis=1, inplace=True)\n",
    "        return df\n"
   ]
  },
  {
   "cell_type": "code",
   "execution_count": 11,
   "metadata": {
    "execution": {
     "iopub.execute_input": "2021-01-07T16:49:19.572217Z",
     "iopub.status.busy": "2021-01-07T16:49:19.571647Z",
     "iopub.status.idle": "2021-01-07T16:49:19.576173Z",
     "shell.execute_reply": "2021-01-07T16:49:19.575638Z"
    },
    "id": "68VI4DWX-EnV",
    "papermill": {
     "duration": 0.043302,
     "end_time": "2021-01-07T16:49:19.576272",
     "exception": false,
     "start_time": "2021-01-07T16:49:19.532970",
     "status": "completed"
    },
    "tags": []
   },
   "outputs": [],
   "source": [
    "def visualize_image(x, y=None, y_predicted=None):\n",
    "  # x-coordinates are in even columns like 0,2,4,.. and y-coordinates are in odd columns like 1,3,5,..\n",
    "    plt.figure()\n",
    "    plt.imshow(x, cmap='gray')\n",
    "    if y is not None:\n",
    "        f = y.shape[0]\n",
    "        for j in range(0,f,2):\n",
    "            plt.plot(y[j], y[j+1], 'X', color='blue', label='actual')\n",
    "    if y_predicted is not None:\n",
    "        f = y_predicted.shape[0]\n",
    "        for j in range(0,f,2):\n",
    "            plt.plot(y_predicted[j], y_predicted[j+1], 'X', color='red', label='predicted')\n",
    "    plt.legend()"
   ]
  },
  {
   "cell_type": "markdown",
   "metadata": {
    "id": "eX1dSeiRCUUE",
    "papermill": {
     "duration": 0.030357,
     "end_time": "2021-01-07T16:49:19.637221",
     "exception": false,
     "start_time": "2021-01-07T16:49:19.606864",
     "status": "completed"
    },
    "tags": []
   },
   "source": [
    "Lets try the data generator and visuilize some images"
   ]
  },
  {
   "cell_type": "markdown",
   "metadata": {
    "id": "cdehN9mvIsan",
    "papermill": {
     "duration": 0.030629,
     "end_time": "2021-01-07T16:49:19.700967",
     "exception": false,
     "start_time": "2021-01-07T16:49:19.670338",
     "status": "completed"
    },
    "tags": []
   },
   "source": [
    "### Part 1.3  Building a Prediction model for a feature"
   ]
  },
  {
   "cell_type": "markdown",
   "metadata": {
    "id": "ph_UEDMwcEvX",
    "papermill": {
     "duration": 0.030222,
     "end_time": "2021-01-07T16:49:19.762348",
     "exception": false,
     "start_time": "2021-01-07T16:49:19.732126",
     "status": "completed"
    },
    "tags": []
   },
   "source": [
    "#### **Prepare data generators to train the model**"
   ]
  },
  {
   "cell_type": "markdown",
   "metadata": {
    "id": "ACe1Z0-GvdBs",
    "papermill": {
     "duration": 0.029809,
     "end_time": "2021-01-07T16:49:19.822451",
     "exception": false,
     "start_time": "2021-01-07T16:49:19.792642",
     "status": "completed"
    },
    "tags": []
   },
   "source": [
    "##### **Split the data into train and test**"
   ]
  },
  {
   "cell_type": "code",
   "execution_count": 12,
   "metadata": {
    "execution": {
     "iopub.execute_input": "2021-01-07T16:49:19.892421Z",
     "iopub.status.busy": "2021-01-07T16:49:19.887249Z",
     "iopub.status.idle": "2021-01-07T16:49:19.896889Z",
     "shell.execute_reply": "2021-01-07T16:49:19.897332Z"
    },
    "id": "Wz9DPZKppGXK",
    "outputId": "316ac4e0-0178-4692-e984-204c6ff49f72",
    "papermill": {
     "duration": 0.045474,
     "end_time": "2021-01-07T16:49:19.897471",
     "exception": false,
     "start_time": "2021-01-07T16:49:19.851997",
     "status": "completed"
    },
    "tags": []
   },
   "outputs": [
    {
     "name": "stdout",
     "output_type": "stream",
     "text": [
      "(2271, 3) (1816, 3) (455, 3)\n"
     ]
    }
   ],
   "source": [
    "df = dic_train_data[feature_name]\n",
    "# Split the data into training and testing data\n",
    "df_train, df_test = train_test_split(df, test_size = 0.2, random_state=None)\n",
    "print(df.shape, df_train.shape, df_test.shape)"
   ]
  },
  {
   "cell_type": "code",
   "execution_count": 13,
   "metadata": {
    "execution": {
     "iopub.execute_input": "2021-01-07T16:49:20.017750Z",
     "iopub.status.busy": "2021-01-07T16:49:20.002225Z",
     "iopub.status.idle": "2021-01-07T16:49:20.967466Z",
     "shell.execute_reply": "2021-01-07T16:49:20.966921Z"
    },
    "id": "iJ7K_1lndPKu",
    "outputId": "abda56ba-925c-43d9-ac1c-512dcbb269f6",
    "papermill": {
     "duration": 1.038909,
     "end_time": "2021-01-07T16:49:20.967578",
     "exception": false,
     "start_time": "2021-01-07T16:49:19.928669",
     "status": "completed"
    },
    "tags": []
   },
   "outputs": [
    {
     "data": {
      "text/html": [
       "<div>\n",
       "<style scoped>\n",
       "    .dataframe tbody tr th:only-of-type {\n",
       "        vertical-align: middle;\n",
       "    }\n",
       "\n",
       "    .dataframe tbody tr th {\n",
       "        vertical-align: top;\n",
       "    }\n",
       "\n",
       "    .dataframe thead th {\n",
       "        text-align: right;\n",
       "    }\n",
       "</style>\n",
       "<table border=\"1\" class=\"dataframe\">\n",
       "  <thead>\n",
       "    <tr style=\"text-align: right;\">\n",
       "      <th></th>\n",
       "      <th>left_eye_inner_corner_x</th>\n",
       "      <th>left_eye_inner_corner_y</th>\n",
       "      <th>Image</th>\n",
       "    </tr>\n",
       "  </thead>\n",
       "  <tbody>\n",
       "    <tr>\n",
       "      <th>2272</th>\n",
       "      <td>58.383626</td>\n",
       "      <td>33.172455</td>\n",
       "      <td>[[8, 8, 9, 9, 8, 8, 7, 7, 7, 7, 7, 7, 7, 8, 8,...</td>\n",
       "    </tr>\n",
       "    <tr>\n",
       "      <th>2130</th>\n",
       "      <td>61.300145</td>\n",
       "      <td>39.596707</td>\n",
       "      <td>[[181, 174, 178, 176, 171, 165, 156, 163, 206,...</td>\n",
       "    </tr>\n",
       "    <tr>\n",
       "      <th>1023</th>\n",
       "      <td>58.588052</td>\n",
       "      <td>37.951169</td>\n",
       "      <td>[[166, 166, 158, 164, 161, 117, 79, 67, 63, 58...</td>\n",
       "    </tr>\n",
       "    <tr>\n",
       "      <th>2215</th>\n",
       "      <td>58.410936</td>\n",
       "      <td>36.345293</td>\n",
       "      <td>[[183, 184, 184, 184, 184, 186, 186, 186, 186,...</td>\n",
       "    </tr>\n",
       "    <tr>\n",
       "      <th>1754</th>\n",
       "      <td>60.273854</td>\n",
       "      <td>42.799538</td>\n",
       "      <td>[[8, 8, 8, 9, 11, 11, 10, 10, 10, 9, 6, 8, 10,...</td>\n",
       "    </tr>\n",
       "  </tbody>\n",
       "</table>\n",
       "</div>"
      ],
      "text/plain": [
       "      left_eye_inner_corner_x  left_eye_inner_corner_y  \\\n",
       "2272                58.383626                33.172455   \n",
       "2130                61.300145                39.596707   \n",
       "1023                58.588052                37.951169   \n",
       "2215                58.410936                36.345293   \n",
       "1754                60.273854                42.799538   \n",
       "\n",
       "                                                  Image  \n",
       "2272  [[8, 8, 9, 9, 8, 8, 7, 7, 7, 7, 7, 7, 7, 8, 8,...  \n",
       "2130  [[181, 174, 178, 176, 171, 165, 156, 163, 206,...  \n",
       "1023  [[166, 166, 158, 164, 161, 117, 79, 67, 63, 58...  \n",
       "2215  [[183, 184, 184, 184, 184, 186, 186, 186, 186,...  \n",
       "1754  [[8, 8, 8, 9, 11, 11, 10, 10, 10, 9, 6, 8, 10,...  "
      ]
     },
     "execution_count": 13,
     "metadata": {},
     "output_type": "execute_result"
    }
   ],
   "source": [
    "df_train.head()"
   ]
  },
  {
   "cell_type": "markdown",
   "metadata": {
    "id": "Zo9gt1mXu2fd",
    "papermill": {
     "duration": 0.031546,
     "end_time": "2021-01-07T16:49:21.031926",
     "exception": false,
     "start_time": "2021-01-07T16:49:21.000380",
     "status": "completed"
    },
    "tags": []
   },
   "source": [
    "##### **Build scalers for normalizing feature data**"
   ]
  },
  {
   "cell_type": "code",
   "execution_count": 14,
   "metadata": {
    "execution": {
     "iopub.execute_input": "2021-01-07T16:49:21.103429Z",
     "iopub.status.busy": "2021-01-07T16:49:21.102655Z",
     "iopub.status.idle": "2021-01-07T16:49:21.106104Z",
     "shell.execute_reply": "2021-01-07T16:49:21.105531Z"
    },
    "id": "9t4-hf0gIeSw",
    "papermill": {
     "duration": 0.042451,
     "end_time": "2021-01-07T16:49:21.106193",
     "exception": false,
     "start_time": "2021-01-07T16:49:21.063742",
     "status": "completed"
    },
    "tags": []
   },
   "outputs": [],
   "source": [
    "scalers_dict = dict()\n",
    "for col in df.columns.tolist()[:-1]:\n",
    "    scaler = MinMaxScaler()\n",
    "    scaler.fit(df[col].to_numpy().reshape(-1, 1))\n",
    "    scalers_dict[col] = scaler\n",
    "\n",
    "\n",
    "\n",
    "pkl.dump(scalers_dict, open(scalers_path,\"wb\"))\n"
   ]
  },
  {
   "cell_type": "markdown",
   "metadata": {
    "id": "WZNeHGhxvnSH",
    "papermill": {
     "duration": 0.031819,
     "end_time": "2021-01-07T16:49:21.170555",
     "exception": false,
     "start_time": "2021-01-07T16:49:21.138736",
     "status": "completed"
    },
    "tags": []
   },
   "source": [
    "##### **Build train and validation data generators**"
   ]
  },
  {
   "cell_type": "code",
   "execution_count": 15,
   "metadata": {
    "execution": {
     "iopub.execute_input": "2021-01-07T16:49:21.240477Z",
     "iopub.status.busy": "2021-01-07T16:49:21.239729Z",
     "iopub.status.idle": "2021-01-07T16:49:21.242980Z",
     "shell.execute_reply": "2021-01-07T16:49:21.243453Z"
    },
    "id": "HERnPWEBc83D",
    "papermill": {
     "duration": 0.040787,
     "end_time": "2021-01-07T16:49:21.243572",
     "exception": false,
     "start_time": "2021-01-07T16:49:21.202785",
     "status": "completed"
    },
    "tags": []
   },
   "outputs": [],
   "source": [
    " \n",
    "train_generator = DataGenerator(df_train, batch_size=32, normalize_image=True, normalize_coordinates=True, scalers=scalers_dict)\n",
    "val_generator =  DataGenerator(df_test, batch_size=32,  augment=False, normalize_image=True,  normalize_coordinates=True,  scalers=train_generator.scalers)"
   ]
  },
  {
   "cell_type": "markdown",
   "metadata": {
    "id": "Ctn-Hf0Nc5p_",
    "papermill": {
     "duration": 0.032236,
     "end_time": "2021-01-07T16:49:21.309315",
     "exception": false,
     "start_time": "2021-01-07T16:49:21.277079",
     "status": "completed"
    },
    "tags": []
   },
   "source": [
    "#### **Build a Prediction model**"
   ]
  },
  {
   "cell_type": "code",
   "execution_count": 16,
   "metadata": {
    "execution": {
     "iopub.execute_input": "2021-01-07T16:49:21.392743Z",
     "iopub.status.busy": "2021-01-07T16:49:21.391834Z",
     "iopub.status.idle": "2021-01-07T16:49:21.394280Z",
     "shell.execute_reply": "2021-01-07T16:49:21.394952Z"
    },
    "id": "WHg8_6ZgPvoJ",
    "papermill": {
     "duration": 0.053419,
     "end_time": "2021-01-07T16:49:21.395069",
     "exception": false,
     "start_time": "2021-01-07T16:49:21.341650",
     "status": "completed"
    },
    "tags": []
   },
   "outputs": [],
   "source": [
    "from tensorflow.keras.applications import EfficientNetB0, VGG16\n",
    "\n",
    "def create_efficientNet(nbr_features):\n",
    "    inputs = tf.keras.Input(shape=(96, 96, 3))  \n",
    "    # This option include_top excludes the final Dense layer.\n",
    "    # This allows us to replace the top layer with custom layers which allows the use of  EfficientNet as a feature extractor in a transfer learning workflow\n",
    "    model = EfficientNetB0(include_top=False, input_tensor=inputs, weights=\"imagenet\")#, drop_connect_rate=0.1)\n",
    "    # Freeze the pretrained weights\n",
    "    model.trainable = False\n",
    "\n",
    "    # Rebuild top\n",
    "    x = GlobalAveragePooling2D()(model.output)    \n",
    "    x = BatchNormalization()(x)\n",
    "    x = Dropout(0.5)(x)\n",
    "    outputs = Dense(nbr_features,activation='relu')(x)\n",
    "\n",
    "    # Compile\n",
    "    model = keras.Model(inputs, outputs)\n",
    "    return model\n",
    "\n",
    "def create_vgg16(nbr_features):\n",
    "\n",
    "    #Get back the convolutional part of a VGG network trained on ImageNet\n",
    "    model = VGG16(weights='imagenet', include_top=False)\n",
    "    model.trainable = False\n",
    "    #Create your own input format (here 3x200x200)\n",
    "    inputs = Input(shape=(96,96,3))\n",
    "\n",
    "    #Use the generated model \n",
    "    output_vgg16 = model(inputs)\n",
    "\n",
    "    #Add the fully-connected layers \n",
    "    x = Flatten()(output_vgg16)\n",
    "    x = Dense(64, activation='relu')(x)\n",
    "    # x = Dense(32, activation='relu')(x)\n",
    "    outputs = Dense(nbr_features, activation='relu')(x)\n",
    "\n",
    "    #Create your own model \n",
    "    model = Model(inputs=inputs, outputs=outputs)\n",
    "    return model\n",
    "\n",
    "\n",
    "def create_simple_model(nbr_features):\n",
    "  # vanillia CNN model\n",
    "    model = Sequential()\n",
    "    model.add(Conv2D(16, kernel_size=(5, 5), activation='relu', input_shape=(96, 96 , 1)))\n",
    "    model.add(MaxPooling2D(pool_size=(2, 2), strides=2))\n",
    "    model.add(Conv2D(48, (3, 3), activation='relu'))\n",
    "    model.add(MaxPooling2D(pool_size=(2, 2), strides=2))\n",
    "    model.add(Conv2D(64, (3, 3), activation='relu'))\n",
    "    model.add(MaxPooling2D(pool_size=(2, 2), strides=2))\n",
    "    model.add(Conv2D(64, (2, 2), activation='relu'))\n",
    "    model.add(Flatten())\n",
    "    model.add(Dense(100, activation='relu'))\n",
    "    model.add(Dense(nbr_features, activation='relu'))\n",
    "    return model\n"
   ]
  },
  {
   "cell_type": "code",
   "execution_count": 17,
   "metadata": {
    "execution": {
     "iopub.execute_input": "2021-01-07T16:49:21.462508Z",
     "iopub.status.busy": "2021-01-07T16:49:21.461586Z",
     "iopub.status.idle": "2021-01-07T16:49:26.798528Z",
     "shell.execute_reply": "2021-01-07T16:49:26.797726Z"
    },
    "id": "ofh5qnydxTwZ",
    "outputId": "07bd6fcc-e67a-409e-813c-a4d839c5966b",
    "papermill": {
     "duration": 5.371568,
     "end_time": "2021-01-07T16:49:26.798642",
     "exception": false,
     "start_time": "2021-01-07T16:49:21.427074",
     "status": "completed"
    },
    "tags": []
   },
   "outputs": [
    {
     "name": "stdout",
     "output_type": "stream",
     "text": [
      "Downloading data from https://storage.googleapis.com/keras-applications/efficientnetb0_notop.h5\n",
      "16711680/16705208 [==============================] - 0s 0us/step\n"
     ]
    }
   ],
   "source": [
    "nbr_features = 2\n",
    "# create the model\n",
    "model = create_efficientNet(nbr_features)\n",
    "# model = create_vgg16(nbr_features)"
   ]
  },
  {
   "cell_type": "markdown",
   "metadata": {
    "id": "cJ8vd7UwtrYg",
    "papermill": {
     "duration": 0.033647,
     "end_time": "2021-01-07T16:49:26.865764",
     "exception": false,
     "start_time": "2021-01-07T16:49:26.832117",
     "status": "completed"
    },
    "tags": []
   },
   "source": [
    "#### **Define custom loss and compile the model**"
   ]
  },
  {
   "cell_type": "code",
   "execution_count": 18,
   "metadata": {
    "execution": {
     "iopub.execute_input": "2021-01-07T16:49:27.086934Z",
     "iopub.status.busy": "2021-01-07T16:49:27.085856Z",
     "iopub.status.idle": "2021-01-07T16:49:27.093957Z",
     "shell.execute_reply": "2021-01-07T16:49:27.093469Z"
    },
    "id": "tXRRM-KrLjfE",
    "papermill": {
     "duration": 0.195096,
     "end_time": "2021-01-07T16:49:27.094065",
     "exception": false,
     "start_time": "2021-01-07T16:49:26.898969",
     "status": "completed"
    },
    "tags": []
   },
   "outputs": [],
   "source": [
    "import tensorflow.keras.backend as K\n",
    "\n",
    "def euclidean_distance_loss(y_true, y_pred):\n",
    "  #     Euclidean distance loss\n",
    "    return K.sqrt(K.sum(K.square(y_pred - y_true), axis=-1))\n",
    "\n",
    "def absolute_tanh(x):\n",
    "    return K.abs(K.tanh(x))\n",
    "\n",
    "# MeanAbsoluteError(), MeanAbsolutePercentageError()\n",
    "model.compile(loss=euclidean_distance_loss,\n",
    "              optimizer=keras.optimizers.Adam(learning_rate=1e-4),\n",
    "              )\n",
    "\n",
    "def unfreeze_model(model):\n",
    "    # We unfreeze the top 5 layers while leaving BatchNorm layers frozen\n",
    "    for layer in model.layers[-5:]:\n",
    "        if not isinstance(layer, keras.layers.BatchNormalization):\n",
    "            layer.trainable = True"
   ]
  },
  {
   "cell_type": "markdown",
   "metadata": {
    "id": "XOn3P3dcvy7T",
    "papermill": {
     "duration": 0.034584,
     "end_time": "2021-01-07T16:49:27.162984",
     "exception": false,
     "start_time": "2021-01-07T16:49:27.128400",
     "status": "completed"
    },
    "tags": []
   },
   "source": [
    "#### **Start training**"
   ]
  },
  {
   "cell_type": "code",
   "execution_count": 19,
   "metadata": {
    "execution": {
     "iopub.execute_input": "2021-01-07T16:49:27.254436Z",
     "iopub.status.busy": "2021-01-07T16:49:27.247873Z",
     "iopub.status.idle": "2021-01-07T16:52:31.253181Z",
     "shell.execute_reply": "2021-01-07T16:52:31.252643Z"
    },
    "id": "7AWepBFAc9LR",
    "outputId": "98eb52a4-9bf9-4246-baab-cd0b9085d99c",
    "papermill": {
     "duration": 184.056788,
     "end_time": "2021-01-07T16:52:31.253303",
     "exception": false,
     "start_time": "2021-01-07T16:49:27.196515",
     "status": "completed"
    },
    "tags": []
   },
   "outputs": [
    {
     "name": "stdout",
     "output_type": "stream",
     "text": [
      "Epoch 1/100\n",
      "56/56 [==============================] - 3s 56ms/step - loss: 0.6319 - val_loss: 0.6433\n",
      "Epoch 2/100\n",
      "56/56 [==============================] - 2s 28ms/step - loss: 0.5708 - val_loss: 0.6757\n",
      "Epoch 3/100\n",
      "56/56 [==============================] - 2s 27ms/step - loss: 0.5588 - val_loss: 0.6762\n",
      "Epoch 4/100\n",
      "56/56 [==============================] - 2s 29ms/step - loss: 0.5468 - val_loss: 0.6313\n",
      "Epoch 5/100\n",
      "56/56 [==============================] - 2s 29ms/step - loss: 0.5498 - val_loss: 0.6174\n",
      "Epoch 6/100\n",
      "56/56 [==============================] - 2s 27ms/step - loss: 0.5376 - val_loss: 0.5945\n",
      "Epoch 7/100\n",
      "56/56 [==============================] - 2s 28ms/step - loss: 0.5267 - val_loss: 0.5624\n",
      "Epoch 8/100\n",
      "56/56 [==============================] - 2s 28ms/step - loss: 0.5225 - val_loss: 0.5294\n",
      "Epoch 9/100\n",
      "56/56 [==============================] - 2s 28ms/step - loss: 0.5147 - val_loss: 0.4950\n",
      "Epoch 10/100\n",
      "56/56 [==============================] - 2s 28ms/step - loss: 0.5174 - val_loss: 0.4888\n",
      "Epoch 11/100\n",
      "56/56 [==============================] - 2s 33ms/step - loss: 0.5213 - val_loss: 0.4517\n",
      "Epoch 12/100\n",
      "56/56 [==============================] - 2s 30ms/step - loss: 0.5100 - val_loss: 0.4322\n",
      "Epoch 13/100\n",
      "56/56 [==============================] - 2s 29ms/step - loss: 0.5044 - val_loss: 0.4299\n",
      "Epoch 14/100\n",
      "56/56 [==============================] - 2s 29ms/step - loss: 0.5024 - val_loss: 0.4291\n",
      "Epoch 15/100\n",
      "56/56 [==============================] - 2s 29ms/step - loss: 0.4968 - val_loss: 0.4348\n",
      "Epoch 16/100\n",
      "56/56 [==============================] - 2s 28ms/step - loss: 0.5110 - val_loss: 0.4100\n",
      "Epoch 17/100\n",
      "56/56 [==============================] - 2s 31ms/step - loss: 0.5174 - val_loss: 0.4066\n",
      "Epoch 18/100\n",
      "56/56 [==============================] - 2s 34ms/step - loss: 0.4971 - val_loss: 0.3659\n",
      "Epoch 19/100\n",
      "56/56 [==============================] - 2s 32ms/step - loss: 0.5059 - val_loss: 0.3690\n",
      "Epoch 20/100\n",
      "56/56 [==============================] - 2s 28ms/step - loss: 0.4943 - val_loss: 0.3730\n",
      "Epoch 21/100\n",
      "56/56 [==============================] - 2s 29ms/step - loss: 0.4913 - val_loss: 0.3920\n",
      "Epoch 22/100\n",
      "56/56 [==============================] - 2s 28ms/step - loss: 0.4973 - val_loss: 0.3550\n",
      "Epoch 23/100\n",
      "56/56 [==============================] - 2s 28ms/step - loss: 0.4872 - val_loss: 0.3439\n",
      "Epoch 24/100\n",
      "56/56 [==============================] - 2s 33ms/step - loss: 0.4956 - val_loss: 0.3508\n",
      "Epoch 25/100\n",
      "56/56 [==============================] - 2s 29ms/step - loss: 0.4876 - val_loss: 0.3738\n",
      "Epoch 26/100\n",
      "56/56 [==============================] - 2s 28ms/step - loss: 0.4766 - val_loss: 0.3397\n",
      "Epoch 27/100\n",
      "56/56 [==============================] - 2s 28ms/step - loss: 0.4731 - val_loss: 0.3316\n",
      "Epoch 28/100\n",
      "56/56 [==============================] - 2s 28ms/step - loss: 0.4695 - val_loss: 0.3485\n",
      "Epoch 29/100\n",
      "56/56 [==============================] - 2s 28ms/step - loss: 0.4680 - val_loss: 0.3202\n",
      "Epoch 30/100\n",
      "56/56 [==============================] - 2s 37ms/step - loss: 0.4669 - val_loss: 0.2914\n",
      "Epoch 31/100\n",
      "56/56 [==============================] - 2s 39ms/step - loss: 0.4755 - val_loss: 0.3219\n",
      "Epoch 32/100\n",
      "56/56 [==============================] - 2s 29ms/step - loss: 0.4623 - val_loss: 0.3234\n",
      "Epoch 33/100\n",
      "56/56 [==============================] - 2s 28ms/step - loss: 0.4547 - val_loss: 0.2974\n",
      "Epoch 34/100\n",
      "56/56 [==============================] - 2s 29ms/step - loss: 0.4498 - val_loss: 0.2962\n",
      "Epoch 35/100\n",
      "56/56 [==============================] - 2s 28ms/step - loss: 0.4419 - val_loss: 0.2990\n",
      "Epoch 36/100\n",
      "56/56 [==============================] - 2s 29ms/step - loss: 0.4438 - val_loss: 0.3064\n",
      "Epoch 37/100\n",
      "56/56 [==============================] - 2s 41ms/step - loss: 0.4405 - val_loss: 0.2943\n",
      "Epoch 38/100\n",
      "56/56 [==============================] - 2s 28ms/step - loss: 0.4465 - val_loss: 0.2897\n",
      "Epoch 39/100\n",
      "56/56 [==============================] - 2s 28ms/step - loss: 0.4416 - val_loss: 0.2901\n",
      "Epoch 40/100\n",
      "56/56 [==============================] - 2s 28ms/step - loss: 0.4310 - val_loss: 0.2896\n",
      "Epoch 41/100\n",
      "56/56 [==============================] - 2s 28ms/step - loss: 0.4272 - val_loss: 0.2850\n",
      "Epoch 42/100\n",
      "56/56 [==============================] - 2s 30ms/step - loss: 0.4250 - val_loss: 0.2932\n",
      "Epoch 43/100\n",
      "56/56 [==============================] - 2s 30ms/step - loss: 0.4202 - val_loss: 0.2924\n",
      "Epoch 44/100\n",
      "56/56 [==============================] - 1s 26ms/step - loss: 0.4137 - val_loss: 0.2943\n",
      "Epoch 45/100\n",
      "56/56 [==============================] - 2s 28ms/step - loss: 0.4260 - val_loss: 0.2900\n",
      "Epoch 46/100\n",
      "56/56 [==============================] - 2s 28ms/step - loss: 0.4089 - val_loss: 0.2819\n",
      "Epoch 47/100\n",
      "56/56 [==============================] - 2s 28ms/step - loss: 0.4189 - val_loss: 0.2838\n",
      "Epoch 48/100\n",
      "56/56 [==============================] - 2s 32ms/step - loss: 0.4059 - val_loss: 0.2862\n",
      "Epoch 49/100\n",
      "56/56 [==============================] - 2s 33ms/step - loss: 0.4046 - val_loss: 0.2788\n",
      "Epoch 50/100\n",
      "56/56 [==============================] - 2s 28ms/step - loss: 0.3981 - val_loss: 0.2803\n",
      "Epoch 51/100\n",
      "56/56 [==============================] - 2s 28ms/step - loss: 0.4080 - val_loss: 0.2797\n",
      "Epoch 52/100\n",
      "56/56 [==============================] - 2s 28ms/step - loss: 0.3992 - val_loss: 0.2776\n",
      "Epoch 53/100\n",
      "56/56 [==============================] - 2s 28ms/step - loss: 0.3902 - val_loss: 0.2773\n",
      "Epoch 54/100\n",
      "56/56 [==============================] - 2s 27ms/step - loss: 0.3869 - val_loss: 0.2758\n",
      "Epoch 55/100\n",
      "56/56 [==============================] - 2s 29ms/step - loss: 0.3796 - val_loss: 0.2749\n",
      "Epoch 56/100\n",
      "56/56 [==============================] - 2s 42ms/step - loss: 0.3831 - val_loss: 0.2752\n",
      "Epoch 57/100\n",
      "56/56 [==============================] - 2s 28ms/step - loss: 0.3721 - val_loss: 0.2758\n",
      "Epoch 58/100\n",
      "56/56 [==============================] - 2s 28ms/step - loss: 0.3709 - val_loss: 0.2756\n",
      "Epoch 59/100\n",
      "56/56 [==============================] - 2s 28ms/step - loss: 0.3631 - val_loss: 0.2761\n",
      "Epoch 60/100\n",
      "56/56 [==============================] - 2s 28ms/step - loss: 0.3613 - val_loss: 0.2755\n",
      "Epoch 61/100\n",
      "56/56 [==============================] - 2s 28ms/step - loss: 0.3638 - val_loss: 0.2759\n",
      "Epoch 62/100\n",
      "56/56 [==============================] - 2s 33ms/step - loss: 0.3603 - val_loss: 0.2750\n",
      "Epoch 63/100\n",
      "56/56 [==============================] - 2s 29ms/step - loss: 0.3545 - val_loss: 0.2759\n",
      "Epoch 64/100\n",
      "56/56 [==============================] - 2s 29ms/step - loss: 0.3626 - val_loss: 0.2753\n",
      "Epoch 65/100\n",
      "56/56 [==============================] - 2s 37ms/step - loss: 0.3419 - val_loss: 0.2750\n",
      "Epoch 66/100\n",
      "56/56 [==============================] - 2s 38ms/step - loss: 0.3404 - val_loss: 0.2753\n",
      "Epoch 67/100\n",
      "56/56 [==============================] - 2s 29ms/step - loss: 0.3376 - val_loss: 0.2754\n",
      "Epoch 68/100\n",
      "56/56 [==============================] - 2s 34ms/step - loss: 0.3351 - val_loss: 0.2750\n",
      "Epoch 69/100\n",
      "56/56 [==============================] - 2s 29ms/step - loss: 0.3383 - val_loss: 0.2749\n",
      "Epoch 70/100\n",
      "56/56 [==============================] - 2s 29ms/step - loss: 0.3352 - val_loss: 0.2746\n",
      "Epoch 71/100\n",
      "56/56 [==============================] - 2s 28ms/step - loss: 0.3300 - val_loss: 0.2751\n",
      "Epoch 72/100\n",
      "56/56 [==============================] - 2s 29ms/step - loss: 0.3240 - val_loss: 0.2753\n",
      "Epoch 73/100\n",
      "56/56 [==============================] - 2s 27ms/step - loss: 0.3175 - val_loss: 0.2748\n",
      "Epoch 74/100\n",
      "56/56 [==============================] - 2s 33ms/step - loss: 0.3152 - val_loss: 0.2760\n",
      "Epoch 75/100\n",
      "56/56 [==============================] - 2s 28ms/step - loss: 0.3080 - val_loss: 0.2750\n",
      "Epoch 76/100\n",
      "56/56 [==============================] - 2s 28ms/step - loss: 0.3040 - val_loss: 0.2751\n",
      "Epoch 77/100\n",
      "56/56 [==============================] - 2s 36ms/step - loss: 0.3069 - val_loss: 0.2751\n",
      "Epoch 78/100\n",
      "56/56 [==============================] - 2s 28ms/step - loss: 0.2956 - val_loss: 0.2664\n",
      "Epoch 79/100\n",
      "56/56 [==============================] - 2s 28ms/step - loss: 0.2796 - val_loss: 0.2750\n",
      "Epoch 80/100\n",
      "56/56 [==============================] - 2s 30ms/step - loss: 0.2926 - val_loss: 0.2754\n",
      "Epoch 81/100\n",
      "56/56 [==============================] - 2s 31ms/step - loss: 0.2924 - val_loss: 0.2678\n",
      "Epoch 82/100\n",
      "56/56 [==============================] - 1s 27ms/step - loss: 0.2833 - val_loss: 0.2470\n",
      "Epoch 83/100\n",
      "56/56 [==============================] - 2s 33ms/step - loss: 0.2877 - val_loss: 0.2271\n",
      "Epoch 84/100\n",
      "56/56 [==============================] - 2s 29ms/step - loss: 0.2829 - val_loss: 0.2265\n",
      "Epoch 85/100\n",
      "56/56 [==============================] - 2s 28ms/step - loss: 0.2822 - val_loss: 0.2581\n",
      "Epoch 86/100\n",
      "56/56 [==============================] - 2s 28ms/step - loss: 0.2788 - val_loss: 0.2409\n",
      "Epoch 87/100\n",
      "56/56 [==============================] - 2s 33ms/step - loss: 0.2765 - val_loss: 0.2381\n",
      "Epoch 88/100\n",
      "56/56 [==============================] - 2s 28ms/step - loss: 0.2635 - val_loss: 0.2099\n",
      "Epoch 89/100\n",
      "56/56 [==============================] - 2s 28ms/step - loss: 0.2638 - val_loss: 0.1689\n",
      "Epoch 90/100\n",
      "56/56 [==============================] - 2s 28ms/step - loss: 0.2601 - val_loss: 0.1382\n",
      "Epoch 91/100\n",
      "56/56 [==============================] - 2s 28ms/step - loss: 0.2584 - val_loss: 0.1453\n",
      "Epoch 92/100\n",
      "56/56 [==============================] - 2s 28ms/step - loss: 0.2518 - val_loss: 0.1638\n",
      "Epoch 93/100\n",
      "56/56 [==============================] - 2s 31ms/step - loss: 0.2496 - val_loss: 0.1890\n",
      "Epoch 94/100\n",
      "56/56 [==============================] - 2s 30ms/step - loss: 0.2487 - val_loss: 0.1331\n",
      "Epoch 95/100\n",
      "56/56 [==============================] - 2s 28ms/step - loss: 0.2499 - val_loss: 0.1623\n",
      "Epoch 96/100\n",
      "56/56 [==============================] - 2s 36ms/step - loss: 0.2456 - val_loss: 0.1233\n",
      "Epoch 97/100\n",
      "56/56 [==============================] - 2s 28ms/step - loss: 0.2451 - val_loss: 0.1020\n",
      "Epoch 98/100\n",
      "56/56 [==============================] - 2s 27ms/step - loss: 0.2392 - val_loss: 0.0937\n",
      "Epoch 99/100\n",
      "56/56 [==============================] - 2s 27ms/step - loss: 0.2327 - val_loss: 0.1220\n",
      "Epoch 100/100\n",
      "56/56 [==============================] - 2s 43ms/step - loss: 0.2295 - val_loss: 0.1170\n"
     ]
    }
   ],
   "source": [
    "#10 + 10 +10\n",
    "unfreeze_model(model)\n",
    "\n",
    "history = model.fit(train_generator, \n",
    "                    validation_data=val_generator,\n",
    "                    epochs=100)"
   ]
  },
  {
   "cell_type": "markdown",
   "metadata": {
    "id": "HvHov45D2qwx",
    "papermill": {
     "duration": 0.893826,
     "end_time": "2021-01-07T16:52:33.035096",
     "exception": false,
     "start_time": "2021-01-07T16:52:32.141270",
     "status": "completed"
    },
    "tags": []
   },
   "source": [
    "#### **Evaluate the model**"
   ]
  },
  {
   "cell_type": "code",
   "execution_count": 20,
   "metadata": {
    "execution": {
     "iopub.execute_input": "2021-01-07T16:52:34.940956Z",
     "iopub.status.busy": "2021-01-07T16:52:34.939919Z",
     "iopub.status.idle": "2021-01-07T16:52:35.254247Z",
     "shell.execute_reply": "2021-01-07T16:52:35.254802Z"
    },
    "id": "RYKhDBx9MgTN",
    "outputId": "52aeb591-a793-4482-b854-38914ebd81a9",
    "papermill": {
     "duration": 1.237631,
     "end_time": "2021-01-07T16:52:35.254989",
     "exception": false,
     "start_time": "2021-01-07T16:52:34.017358",
     "status": "completed"
    },
    "tags": []
   },
   "outputs": [
    {
     "name": "stdout",
     "output_type": "stream",
     "text": [
      "14/14 [==============================] - 0s 15ms/step - loss: 0.1167\n"
     ]
    },
    {
     "data": {
      "text/plain": [
       "0.11674051731824875"
      ]
     },
     "execution_count": 20,
     "metadata": {},
     "output_type": "execute_result"
    }
   ],
   "source": [
    "model.evaluate(val_generator)"
   ]
  },
  {
   "cell_type": "code",
   "execution_count": 21,
   "metadata": {
    "execution": {
     "iopub.execute_input": "2021-01-07T16:52:37.028785Z",
     "iopub.status.busy": "2021-01-07T16:52:37.028140Z",
     "iopub.status.idle": "2021-01-07T16:52:37.237001Z",
     "shell.execute_reply": "2021-01-07T16:52:37.237761Z"
    },
    "id": "FYqFSqoqe8Do",
    "outputId": "acccfe34-e1ed-4dee-db6f-d388e7efb6c5",
    "papermill": {
     "duration": 1.11894,
     "end_time": "2021-01-07T16:52:37.237906",
     "exception": false,
     "start_time": "2021-01-07T16:52:36.118966",
     "status": "completed"
    },
    "tags": []
   },
   "outputs": [
    {
     "data": {
      "text/plain": [
       "Text(0.5, 1.0, 'Training and validation loss')"
      ]
     },
     "execution_count": 21,
     "metadata": {},
     "output_type": "execute_result"
    },
    {
     "data": {
      "image/png": "[encoded data removed]",
      "text/plain": [
       "<Figure size 432x288 with 1 Axes>"
      ]
     },
     "metadata": {
      "needs_background": "light"
     },
     "output_type": "display_data"
    }
   ],
   "source": [
    "# Retrieve a list of list results on training and test data sets for each training epoch\n",
    "loss     = history.history['loss']\n",
    "val_loss = history.history['val_loss']\n",
    "epochs   = range(len(loss))\n",
    "# Plot training and validation loss per epoch\n",
    "plt.plot(epochs,loss, color='red' , label='training loss')\n",
    "plt.plot(epochs, val_loss, label='validation loss')\n",
    "plt.legend()\n",
    "plt.title ('Training and validation loss')"
   ]
  },
  {
   "cell_type": "markdown",
   "metadata": {
    "id": "BIr2js1Z2ipI",
    "papermill": {
     "duration": 0.883352,
     "end_time": "2021-01-07T16:52:38.984300",
     "exception": false,
     "start_time": "2021-01-07T16:52:38.100948",
     "status": "completed"
    },
    "tags": []
   },
   "source": [
    "#### **Test the model on random images**"
   ]
  },
  {
   "cell_type": "code",
   "execution_count": 22,
   "metadata": {
    "execution": {
     "iopub.execute_input": "2021-01-07T16:52:40.917052Z",
     "iopub.status.busy": "2021-01-07T16:52:40.916261Z",
     "iopub.status.idle": "2021-01-07T16:52:40.922836Z",
     "shell.execute_reply": "2021-01-07T16:52:40.922343Z"
    },
    "id": "MnxNCLAA1xvB",
    "outputId": "16288291-87dc-4ac3-ba1f-30a59d2fa79a",
    "papermill": {
     "duration": 1.074316,
     "end_time": "2021-01-07T16:52:40.922939",
     "exception": false,
     "start_time": "2021-01-07T16:52:39.848623",
     "status": "completed"
    },
    "tags": []
   },
   "outputs": [
    {
     "data": {
      "text/plain": [
       "{'left_eye_inner_corner_x': MinMaxScaler(),\n",
       " 'left_eye_inner_corner_y': MinMaxScaler()}"
      ]
     },
     "execution_count": 22,
     "metadata": {},
     "output_type": "execute_result"
    }
   ],
   "source": [
    "scalers_dict"
   ]
  },
  {
   "cell_type": "code",
   "execution_count": 23,
   "metadata": {
    "execution": {
     "iopub.execute_input": "2021-01-07T16:52:42.635285Z",
     "iopub.status.busy": "2021-01-07T16:52:42.634401Z",
     "iopub.status.idle": "2021-01-07T16:52:44.191824Z",
     "shell.execute_reply": "2021-01-07T16:52:44.190883Z"
    },
    "id": "EbY6XCqHPvoO",
    "outputId": "85d7b89c-efa4-405a-986a-92f79d589697",
    "papermill": {
     "duration": 2.417821,
     "end_time": "2021-01-07T16:52:44.191936",
     "exception": false,
     "start_time": "2021-01-07T16:52:41.774115",
     "status": "completed"
    },
    "tags": []
   },
   "outputs": [
    {
     "name": "stdout",
     "output_type": "stream",
     "text": [
      "[0.6146472  0.19515239]\n",
      "[59.248154 34.87373 ]\n",
      "[[0.6042434 0.1583849]]\n",
      "[[58.567993 33.4261  ]]\n"
     ]
    },
    {
     "data": {
      "image/png": "[encoded data removed]",
      "text/plain": [
       "<Figure size 432x288 with 1 Axes>"
      ]
     },
     "metadata": {
      "needs_background": "light"
     },
     "output_type": "display_data"
    }
   ],
   "source": [
    "batch = val_generator.__getitem__(2)\n",
    "j= np.random.randint(0,len(batch[0]))\n",
    "# check original image \n",
    "print(batch[1][j:j+1][0])\n",
    "actual_y= batch[1][j:j+1][0]\n",
    "actual_y[0] = scalers_dict[feature_name+\"_x\"].inverse_transform([[actual_y[0]]])\n",
    "actual_y[1] = scalers_dict[feature_name+\"_y\"].inverse_transform([[actual_y[1]]])\n",
    "print(actual_y)\n",
    "##############################################\n",
    "predicted_y = model.predict(batch[0][j:j+1])\n",
    "print(predicted_y)\n",
    "# uncomment in case we have used the scaling\n",
    "predicted_y[:,:1] = scalers_dict[feature_name+\"_x\"].inverse_transform(predicted_y[:,:1])\n",
    "predicted_y[:,1:] = scalers_dict[feature_name+\"_y\"].inverse_transform(predicted_y[:,1:])\n",
    "print(predicted_y)\n",
    "##############################################3\n",
    "visualize_image(batch[0][j:j+1].reshape(96,96,3)[:,:,0],actual_y, predicted_y[0])"
   ]
  },
  {
   "cell_type": "markdown",
   "metadata": {
    "id": "Q3sMZnVZ3-dd",
    "papermill": {
     "duration": 0.850811,
     "end_time": "2021-01-07T16:52:45.900427",
     "exception": false,
     "start_time": "2021-01-07T16:52:45.049616",
     "status": "completed"
    },
    "tags": []
   },
   "source": [
    "**Its very impressive how close are the predicted corrdinates to the original ones**"
   ]
  },
  {
   "cell_type": "markdown",
   "metadata": {
    "id": "KOW_zMQ5PvoS",
    "papermill": {
     "duration": 0.850841,
     "end_time": "2021-01-07T16:52:47.599972",
     "exception": false,
     "start_time": "2021-01-07T16:52:46.749131",
     "status": "completed"
    },
    "tags": []
   },
   "source": [
    "#### **Test on missing data**"
   ]
  },
  {
   "cell_type": "code",
   "execution_count": 24,
   "metadata": {
    "execution": {
     "iopub.execute_input": "2021-01-07T16:52:49.348316Z",
     "iopub.status.busy": "2021-01-07T16:52:49.347551Z",
     "iopub.status.idle": "2021-01-07T16:52:49.351333Z",
     "shell.execute_reply": "2021-01-07T16:52:49.351899Z"
    },
    "id": "zKZ1t2qoPvoS",
    "outputId": "2c2688c2-cb6d-4ad7-dad1-9fabe60c1d13",
    "papermill": {
     "duration": 0.901183,
     "end_time": "2021-01-07T16:52:49.352062",
     "exception": false,
     "start_time": "2021-01-07T16:52:48.450879",
     "status": "completed"
    },
    "tags": []
   },
   "outputs": [
    {
     "data": {
      "text/plain": [
       "'left_eye_inner_corner'"
      ]
     },
     "execution_count": 24,
     "metadata": {},
     "output_type": "execute_result"
    }
   ],
   "source": [
    "feature_name"
   ]
  },
  {
   "cell_type": "code",
   "execution_count": 25,
   "metadata": {
    "execution": {
     "iopub.execute_input": "2021-01-07T16:52:51.142293Z",
     "iopub.status.busy": "2021-01-07T16:52:51.141365Z",
     "iopub.status.idle": "2021-01-07T16:52:51.145180Z",
     "shell.execute_reply": "2021-01-07T16:52:51.146285Z"
    },
    "id": "BlsfoMj3PvoT",
    "papermill": {
     "duration": 0.934127,
     "end_time": "2021-01-07T16:52:51.146581",
     "exception": false,
     "start_time": "2021-01-07T16:52:50.212454",
     "status": "completed"
    },
    "tags": []
   },
   "outputs": [],
   "source": [
    "rgb_channels= True\n",
    "normalize_image = True\n",
    "def pre_process_images(image):\n",
    "    image = np.vstack(image).reshape(-1, 96, 96, 1).astype(np.float32)\n",
    "    if rgb_channels:\n",
    "        image = np.repeat(image,3,-1)\n",
    "    if normalize_image == True:\n",
    "        image = image/255\n",
    "    return image"
   ]
  },
  {
   "cell_type": "code",
   "execution_count": 26,
   "metadata": {
    "execution": {
     "iopub.execute_input": "2021-01-07T16:52:53.039706Z",
     "iopub.status.busy": "2021-01-07T16:52:53.037835Z",
     "iopub.status.idle": "2021-01-07T16:52:53.040389Z",
     "shell.execute_reply": "2021-01-07T16:52:53.040874Z"
    },
    "id": "NsF-GdN6PvoU",
    "papermill": {
     "duration": 0.861501,
     "end_time": "2021-01-07T16:52:53.040993",
     "exception": false,
     "start_time": "2021-01-07T16:52:52.179492",
     "status": "completed"
    },
    "tags": []
   },
   "outputs": [],
   "source": [
    "missing_data = dic_missing_data[feature_name]"
   ]
  },
  {
   "cell_type": "code",
   "execution_count": 27,
   "metadata": {
    "execution": {
     "iopub.execute_input": "2021-01-07T16:52:55.058127Z",
     "iopub.status.busy": "2021-01-07T16:52:55.056630Z",
     "iopub.status.idle": "2021-01-07T16:52:55.060513Z",
     "shell.execute_reply": "2021-01-07T16:52:55.057356Z"
    },
    "id": "xgfXwWOMDj0N",
    "outputId": "c74688b4-7479-421a-9a07-3925a7096300",
    "papermill": {
     "duration": 1.164393,
     "end_time": "2021-01-07T16:52:55.060660",
     "exception": false,
     "start_time": "2021-01-07T16:52:53.896267",
     "status": "completed"
    },
    "tags": []
   },
   "outputs": [
    {
     "data": {
      "text/plain": [
       "4778"
      ]
     },
     "execution_count": 27,
     "metadata": {},
     "output_type": "execute_result"
    }
   ],
   "source": [
    "len(missing_data)"
   ]
  },
  {
   "cell_type": "code",
   "execution_count": 28,
   "metadata": {
    "execution": {
     "iopub.execute_input": "2021-01-07T16:52:56.885071Z",
     "iopub.status.busy": "2021-01-07T16:52:56.884186Z",
     "iopub.status.idle": "2021-01-07T16:52:57.084681Z",
     "shell.execute_reply": "2021-01-07T16:52:57.083783Z"
    },
    "id": "7janB8HOPvoU",
    "outputId": "5698bbf5-06b1-44d6-99e4-3920e4ea689a",
    "papermill": {
     "duration": 1.071461,
     "end_time": "2021-01-07T16:52:57.084837",
     "exception": false,
     "start_time": "2021-01-07T16:52:56.013376",
     "status": "completed"
    },
    "tags": []
   },
   "outputs": [
    {
     "name": "stdout",
     "output_type": "stream",
     "text": [
      "[[0.6038899  0.16990303]]\n",
      "[[58.54488  33.879597]]\n"
     ]
    },
    {
     "data": {
      "image/png": "[encoded data removed]",
      "text/plain": [
       "<Figure size 432x288 with 1 Axes>"
      ]
     },
     "metadata": {
      "needs_background": "light"
     },
     "output_type": "display_data"
    }
   ],
   "source": [
    "# take a random image and test on it\n",
    "l = np.random.randint(0, len(missing_data)-1)\n",
    "image = missing_data.iloc[l][\"Image\"]\n",
    "image = pre_process_images(image)\n",
    "predicted_y = model.predict(image)\n",
    "print(predicted_y)\n",
    "# uncomment in case we have used the scaling\n",
    "predicted_y[:,:1] = scalers_dict[feature_name+\"_x\"].inverse_transform(predicted_y[:,:1])\n",
    "predicted_y[:,1:] = scalers_dict[feature_name+\"_y\"].inverse_transform(predicted_y[:,1:])\n",
    "print(predicted_y)\n",
    "visualize_image(image.reshape(96,96,3)[:,:,0],None, predicted_y[0])"
   ]
  },
  {
   "cell_type": "markdown",
   "metadata": {
    "id": "eCtvSBv2PvoV",
    "papermill": {
     "duration": 0.891534,
     "end_time": "2021-01-07T16:52:58.837436",
     "exception": false,
     "start_time": "2021-01-07T16:52:57.945902",
     "status": "completed"
    },
    "tags": []
   },
   "source": [
    "#### **Save model**"
   ]
  },
  {
   "cell_type": "code",
   "execution_count": 29,
   "metadata": {
    "execution": {
     "iopub.execute_input": "2021-01-07T16:53:00.640979Z",
     "iopub.status.busy": "2021-01-07T16:53:00.630827Z",
     "iopub.status.idle": "2021-01-07T16:53:00.999641Z",
     "shell.execute_reply": "2021-01-07T16:53:00.998078Z"
    },
    "id": "PHDvP_QL39lh",
    "papermill": {
     "duration": 1.277401,
     "end_time": "2021-01-07T16:53:00.999771",
     "exception": false,
     "start_time": "2021-01-07T16:52:59.722370",
     "status": "completed"
    },
    "tags": []
   },
   "outputs": [],
   "source": [
    "# save model and architecture to single file\n",
    "model.save(model_path)"
   ]
  },
  {
   "cell_type": "code",
   "execution_count": null,
   "metadata": {
    "id": "ERAMk1EHPvoX",
    "papermill": {
     "duration": 1.081036,
     "end_time": "2021-01-07T16:53:02.953607",
     "exception": false,
     "start_time": "2021-01-07T16:53:01.872571",
     "status": "completed"
    },
    "tags": []
   },
   "outputs": [],
   "source": []
  },
  {
   "cell_type": "code",
   "execution_count": null,
   "metadata": {
    "papermill": {
     "duration": 0.868976,
     "end_time": "2021-01-07T16:53:04.687912",
     "exception": false,
     "start_time": "2021-01-07T16:53:03.818936",
     "status": "completed"
    },
    "tags": []
   },
   "outputs": [],
   "source": []
  }
 ],
 "metadata": {
  "kernelspec": {
   "display_name": "Python 3",
   "language": "python",
   "name": "python3"
  },
  "language_info": {
   "codemirror_mode": {
    "name": "ipython",
    "version": 3
   },
   "file_extension": ".py",
   "mimetype": "text/x-python",
   "name": "python",
   "nbconvert_exporter": "python",
   "pygments_lexer": "ipython3",
   "version": "3.7.6"
  },
  "papermill": {
   "duration": 245.234173,
   "end_time": "2021-01-07T16:53:07.083628",
   "environment_variables": {},
   "exception": null,
   "input_path": "__notebook__.ipynb",
   "output_path": "__notebook__.ipynb",
   "parameters": {},
   "start_time": "2021-01-07T16:49:01.849455",
   "version": "2.1.0"
  }
 },
 "nbformat": 4,
 "nbformat_minor": 4
}
