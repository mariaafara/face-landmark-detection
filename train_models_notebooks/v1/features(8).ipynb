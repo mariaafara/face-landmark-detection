{
 "cells": [
  {
   "cell_type": "code",
   "execution_count": 1,
   "metadata": {
    "execution": {
     "iopub.execute_input": "2021-01-08T11:59:23.075756Z",
     "iopub.status.busy": "2021-01-08T11:59:23.074524Z",
     "iopub.status.idle": "2021-01-08T11:59:23.077282Z",
     "shell.execute_reply": "2021-01-08T11:59:23.077797Z"
    },
    "id": "mt9t-79OPvng",
    "papermill": {
     "duration": 0.039227,
     "end_time": "2021-01-08T11:59:23.077949",
     "exception": false,
     "start_time": "2021-01-08T11:59:23.038722",
     "status": "completed"
    },
    "tags": []
   },
   "outputs": [],
   "source": [
    "feature_index = 8"
   ]
  },
  {
   "cell_type": "code",
   "execution_count": 2,
   "metadata": {
    "execution": {
     "iopub.execute_input": "2021-01-08T11:59:23.140765Z",
     "iopub.status.busy": "2021-01-08T11:59:23.139940Z",
     "iopub.status.idle": "2021-01-08T11:59:23.142352Z",
     "shell.execute_reply": "2021-01-08T11:59:23.143017Z"
    },
    "id": "29LaKxCh-Em7",
    "papermill": {
     "duration": 0.035957,
     "end_time": "2021-01-08T11:59:23.143134",
     "exception": false,
     "start_time": "2021-01-08T11:59:23.107177",
     "status": "completed"
    },
    "tags": []
   },
   "outputs": [],
   "source": [
    "# import os\n",
    "# os.environ['KAGGLE_USERNAME'] = \"mariaafara\" # username from the json file\n",
    "# os.environ['KAGGLE_KEY'] = \"25755ae03c0b83042774e5e0d15b886e\" # key from the json file\n",
    "#Crearting a Client to host the Kaggle API\n",
    "# !pip install -q kaggle\n",
    "# !kaggle datasets download mariaafara/Facial-Landmarks\n",
    "# !unzip Facial-Landmarks.zip -d facial-keypoints-detection"
   ]
  },
  {
   "cell_type": "code",
   "execution_count": 3,
   "metadata": {
    "execution": {
     "iopub.execute_input": "2021-01-08T11:59:23.211244Z",
     "iopub.status.busy": "2021-01-08T11:59:23.210528Z",
     "iopub.status.idle": "2021-01-08T11:59:29.476639Z",
     "shell.execute_reply": "2021-01-08T11:59:29.475013Z"
    },
    "id": "3f3roaNK6hfZ",
    "papermill": {
     "duration": 6.304289,
     "end_time": "2021-01-08T11:59:29.476780",
     "exception": false,
     "start_time": "2021-01-08T11:59:23.172491",
     "status": "completed"
    },
    "tags": []
   },
   "outputs": [],
   "source": [
    "import numpy as np\n",
    "import pandas as pd\n",
    "import math\n",
    "import random\n",
    "import seaborn as sns\n",
    "import matplotlib.pyplot as plt\n",
    "import tensorflow as tf\n",
    "import tensorflow.keras as keras\n",
    "from tensorflow.keras.models import Sequential\n",
    "from tensorflow.keras.layers import Dense, Dropout, Flatten, Input, Conv2D, MaxPooling2D, GlobalAveragePooling2D, BatchNormalization\n",
    "from sklearn.model_selection import train_test_split\n",
    "from sklearn import preprocessing\n",
    "from sklearn.preprocessing import MinMaxScaler\n",
    "from tensorflow.keras import optimizers\n",
    "from IPython.display import clear_output\n",
    "pd.options.mode.chained_assignment = None  # default='warn'\n"
   ]
  },
  {
   "cell_type": "code",
   "execution_count": 4,
   "metadata": {
    "execution": {
     "iopub.execute_input": "2021-01-08T11:59:29.539495Z",
     "iopub.status.busy": "2021-01-08T11:59:29.537579Z",
     "iopub.status.idle": "2021-01-08T11:59:29.540148Z",
     "shell.execute_reply": "2021-01-08T11:59:29.540622Z"
    },
    "id": "9_E22cct-EnI",
    "papermill": {
     "duration": 0.03567,
     "end_time": "2021-01-08T11:59:29.540736",
     "exception": false,
     "start_time": "2021-01-08T11:59:29.505066",
     "status": "completed"
    },
    "tags": []
   },
   "outputs": [],
   "source": [
    "train_data_path = \"/kaggle/input/facial-landmarks/dic_train_data.pkl\"\n",
    "missing_data_path = \"/kaggle/input/facial-landmarks/dic_missing_data.pkl\"\n",
    "# train_data_path = \"data/dic_train_data.pkl\"\n",
    "# missing_data_path = \"data/dic_missing_data.pkl\""
   ]
  },
  {
   "cell_type": "code",
   "execution_count": 5,
   "metadata": {
    "execution": {
     "iopub.execute_input": "2021-01-08T11:59:29.606363Z",
     "iopub.status.busy": "2021-01-08T11:59:29.605737Z",
     "iopub.status.idle": "2021-01-08T11:59:36.347288Z",
     "shell.execute_reply": "2021-01-08T11:59:36.346361Z"
    },
    "id": "9iJTuxj_kNfQ",
    "papermill": {
     "duration": 6.775618,
     "end_time": "2021-01-08T11:59:36.347444",
     "exception": false,
     "start_time": "2021-01-08T11:59:29.571826",
     "status": "completed"
    },
    "tags": []
   },
   "outputs": [],
   "source": [
    "import pickle as pkl\n",
    "\n",
    "dic_train_data = pkl.load(open(train_data_path,\"rb\"))\n",
    "dic_missing_data = pkl.load(open(missing_data_path,\"rb\"))"
   ]
  },
  {
   "cell_type": "code",
   "execution_count": 6,
   "metadata": {
    "execution": {
     "iopub.execute_input": "2021-01-08T11:59:36.413512Z",
     "iopub.status.busy": "2021-01-08T11:59:36.412621Z",
     "iopub.status.idle": "2021-01-08T11:59:36.417205Z",
     "shell.execute_reply": "2021-01-08T11:59:36.416733Z"
    },
    "id": "6TdjVdwEPvny",
    "outputId": "c49a7d54-3444-4bef-f242-751e108f21f3",
    "papermill": {
     "duration": 0.039654,
     "end_time": "2021-01-08T11:59:36.417302",
     "exception": false,
     "start_time": "2021-01-08T11:59:36.377648",
     "status": "completed"
    },
    "tags": []
   },
   "outputs": [
    {
     "data": {
      "text/plain": [
       "['left_eye_center',\n",
       " 'right_eye_center',\n",
       " 'left_eye_inner_corner',\n",
       " 'left_eye_outer_corner',\n",
       " 'right_eye_inner_corner',\n",
       " 'right_eye_outer_corner',\n",
       " 'left_eyebrow_inner_end',\n",
       " 'left_eyebrow_outer_end',\n",
       " 'right_eyebrow_inner_end',\n",
       " 'right_eyebrow_outer_end',\n",
       " 'mouth_left_corner',\n",
       " 'mouth_right_corner',\n",
       " 'mouth_center_top_lip',\n",
       " 'mouth_center_bottom_lip']"
      ]
     },
     "execution_count": 6,
     "metadata": {},
     "output_type": "execute_result"
    }
   ],
   "source": [
    "features = list(dic_train_data.keys())\n",
    "features"
   ]
  },
  {
   "cell_type": "code",
   "execution_count": 7,
   "metadata": {
    "execution": {
     "iopub.execute_input": "2021-01-08T11:59:36.480234Z",
     "iopub.status.busy": "2021-01-08T11:59:36.479670Z",
     "iopub.status.idle": "2021-01-08T11:59:36.485066Z",
     "shell.execute_reply": "2021-01-08T11:59:36.485499Z"
    },
    "id": "ydLdeD8YPvn1",
    "outputId": "f34d38aa-b9d9-4a29-f689-35bd6a3aa98e",
    "papermill": {
     "duration": 0.03851,
     "end_time": "2021-01-08T11:59:36.485644",
     "exception": false,
     "start_time": "2021-01-08T11:59:36.447134",
     "status": "completed"
    },
    "tags": []
   },
   "outputs": [
    {
     "data": {
      "text/plain": [
       "'right_eyebrow_inner_end'"
      ]
     },
     "execution_count": 7,
     "metadata": {},
     "output_type": "execute_result"
    }
   ],
   "source": [
    "feature_name = features[feature_index]\n",
    "feature_name"
   ]
  },
  {
   "cell_type": "code",
   "execution_count": 8,
   "metadata": {
    "execution": {
     "iopub.execute_input": "2021-01-08T11:59:36.548697Z",
     "iopub.status.busy": "2021-01-08T11:59:36.548093Z",
     "iopub.status.idle": "2021-01-08T11:59:36.551924Z",
     "shell.execute_reply": "2021-01-08T11:59:36.552664Z"
    },
    "id": "APi2VVkKQFOm",
    "papermill": {
     "duration": 0.03769,
     "end_time": "2021-01-08T11:59:36.552790",
     "exception": false,
     "start_time": "2021-01-08T11:59:36.515100",
     "status": "completed"
    },
    "tags": []
   },
   "outputs": [],
   "source": [
    "scalers_path = feature_name+\"_scalers_dict.pkl\"\n",
    "model_path = feature_name+\".h5\"\n",
    "\n",
    "# scalers_path = \"data/\"+feature_name+\"_scalers_dict.pkl\"\n",
    "# model_path = \"models/\"+feature_name+\".h5\""
   ]
  },
  {
   "cell_type": "code",
   "execution_count": 9,
   "metadata": {
    "execution": {
     "iopub.execute_input": "2021-01-08T11:59:36.637377Z",
     "iopub.status.busy": "2021-01-08T11:59:36.636459Z",
     "iopub.status.idle": "2021-01-08T11:59:37.768164Z",
     "shell.execute_reply": "2021-01-08T11:59:37.767497Z"
    },
    "id": "UHAb9cCEPvn3",
    "outputId": "cdb32799-3d8e-4470-e682-c8b1a792037b",
    "papermill": {
     "duration": 1.182971,
     "end_time": "2021-01-08T11:59:37.768273",
     "exception": false,
     "start_time": "2021-01-08T11:59:36.585302",
     "status": "completed"
    },
    "tags": []
   },
   "outputs": [
    {
     "data": {
      "text/html": [
       "<div>\n",
       "<style scoped>\n",
       "    .dataframe tbody tr th:only-of-type {\n",
       "        vertical-align: middle;\n",
       "    }\n",
       "\n",
       "    .dataframe tbody tr th {\n",
       "        vertical-align: top;\n",
       "    }\n",
       "\n",
       "    .dataframe thead th {\n",
       "        text-align: right;\n",
       "    }\n",
       "</style>\n",
       "<table border=\"1\" class=\"dataframe\">\n",
       "  <thead>\n",
       "    <tr style=\"text-align: right;\">\n",
       "      <th></th>\n",
       "      <th>right_eyebrow_inner_end_x</th>\n",
       "      <th>right_eyebrow_inner_end_y</th>\n",
       "      <th>Image</th>\n",
       "    </tr>\n",
       "  </thead>\n",
       "  <tbody>\n",
       "    <tr>\n",
       "      <th>0</th>\n",
       "      <td>40.227609</td>\n",
       "      <td>29.002322</td>\n",
       "      <td>[[238, 236, 237, 238, 240, 240, 239, 241, 241,...</td>\n",
       "    </tr>\n",
       "    <tr>\n",
       "      <th>1</th>\n",
       "      <td>42.728851</td>\n",
       "      <td>26.146043</td>\n",
       "      <td>[[219, 215, 204, 196, 204, 211, 212, 200, 180,...</td>\n",
       "    </tr>\n",
       "    <tr>\n",
       "      <th>2</th>\n",
       "      <td>42.193895</td>\n",
       "      <td>28.135453</td>\n",
       "      <td>[[144, 142, 159, 180, 188, 188, 184, 180, 167,...</td>\n",
       "    </tr>\n",
       "    <tr>\n",
       "      <th>3</th>\n",
       "      <td>41.671513</td>\n",
       "      <td>31.049990</td>\n",
       "      <td>[[193, 192, 193, 194, 194, 194, 193, 192, 168,...</td>\n",
       "    </tr>\n",
       "    <tr>\n",
       "      <th>4</th>\n",
       "      <td>38.035436</td>\n",
       "      <td>30.935382</td>\n",
       "      <td>[[147, 148, 160, 196, 215, 214, 216, 217, 219,...</td>\n",
       "    </tr>\n",
       "  </tbody>\n",
       "</table>\n",
       "</div>"
      ],
      "text/plain": [
       "   right_eyebrow_inner_end_x  right_eyebrow_inner_end_y  \\\n",
       "0                  40.227609                  29.002322   \n",
       "1                  42.728851                  26.146043   \n",
       "2                  42.193895                  28.135453   \n",
       "3                  41.671513                  31.049990   \n",
       "4                  38.035436                  30.935382   \n",
       "\n",
       "                                               Image  \n",
       "0  [[238, 236, 237, 238, 240, 240, 239, 241, 241,...  \n",
       "1  [[219, 215, 204, 196, 204, 211, 212, 200, 180,...  \n",
       "2  [[144, 142, 159, 180, 188, 188, 184, 180, 167,...  \n",
       "3  [[193, 192, 193, 194, 194, 194, 193, 192, 168,...  \n",
       "4  [[147, 148, 160, 196, 215, 214, 216, 217, 219,...  "
      ]
     },
     "execution_count": 9,
     "metadata": {},
     "output_type": "execute_result"
    }
   ],
   "source": [
    "dic_train_data[feature_name].head()"
   ]
  },
  {
   "cell_type": "markdown",
   "metadata": {
    "id": "Ys-qr2X5WKAR",
    "papermill": {
     "duration": 0.03065,
     "end_time": "2021-01-08T11:59:37.832476",
     "exception": false,
     "start_time": "2021-01-08T11:59:37.801826",
     "status": "completed"
    },
    "tags": []
   },
   "source": [
    "#### **Create custom Data Generator**\n",
    "\n",
    "**We will build a data generator that will load mini-batches and feed to the model dynamically**"
   ]
  },
  {
   "cell_type": "code",
   "execution_count": 10,
   "metadata": {
    "execution": {
     "iopub.execute_input": "2021-01-08T11:59:37.950092Z",
     "iopub.status.busy": "2021-01-08T11:59:37.944741Z",
     "iopub.status.idle": "2021-01-08T11:59:37.965340Z",
     "shell.execute_reply": "2021-01-08T11:59:37.964858Z"
    },
    "id": "i8PX_Elb-VQz",
    "papermill": {
     "duration": 0.069539,
     "end_time": "2021-01-08T11:59:37.965454",
     "exception": false,
     "start_time": "2021-01-08T11:59:37.895915",
     "status": "completed"
    },
    "tags": []
   },
   "outputs": [],
   "source": [
    "class DataGenerator(tf.keras.utils.Sequence):\n",
    "    def __init__(self, df, batch_size=32, rgb_channels=True, shuffle=True, augment=True, normalize_image=True, normalize_coordinates=False, scalers=None):\n",
    "        self.df = df\n",
    "        self.batch_size = batch_size\n",
    "        self.size = df.shape[0]\n",
    "        self.shuffle = shuffle\n",
    "        self.augment = augment\n",
    "        # Keras pre-trained models have trained on color images and if we want to use grayscale images we can still use these pre-trained models by repeating the grayscale image over three channels\n",
    "        self.rgb_channels = rgb_channels\n",
    "        self.normalize_image = normalize_image\n",
    "        self.normalize_coordinates = normalize_coordinates\n",
    "        self.scalers = scalers\n",
    "        self.feature_columns = df.columns.tolist()[:-1]\n",
    "        #  To keep track on which pairs of landmarks to be swapped, we introduce a dictionary recording the original and new landmark's index\n",
    "        self.left_right_dic = {'right_eye_center_x' : 'left_eye_center_x' ,\n",
    "                'right_eye_center_y' : 'left_eye_center_y' ,\n",
    "                'right_eye_inner_corner_x' : 'left_eye_inner_corner_x' ,\n",
    "                'right_eye_inner_corner_y' : 'left_eye_inner_corner_y' ,\n",
    "                'right_eye_outer_corner_x' : 'left_eye_outer_corner_x' ,\n",
    "                'right_eye_outer_corner_y' : 'left_eye_outer_corner_y' ,\n",
    "                'right_eyebrow_inner_end_x' : 'left_eyebrow_inner_end_x' ,\n",
    "                'right_eyebrow_inner_end_y' : 'left_eyebrow_inner_end_y' ,\n",
    "                'right_eyebrow_outer_end_x' : 'left_eyebrow_outer_end_x' ,\n",
    "                'right_eyebrow_outer_end_y' : 'left_eyebrow_outer_end_y' ,\n",
    "                'mouth_right_corner_x' : 'mouth_left_corner_x' ,\n",
    "                'mouth_right_corner_y' : 'mouth_left_corner_y' }\n",
    "        self.on_epoch_end()\n",
    "\n",
    "    def __len__(self):\n",
    "        'Denotes the number of batches per epoch'\n",
    "        return self.size // self.batch_size\n",
    "\n",
    "    def on_epoch_end(self):\n",
    "        'Updates indexes after each epoch'\n",
    "        self.indexes = np.arange(self.size)\n",
    "        if self.shuffle:\n",
    "            np.random.shuffle(self.indexes)\n",
    "\n",
    "    def __getitem__(self, index):\n",
    "        # selects indices of data for next batch`\n",
    "        indexes = self.indexes[index * self.batch_size : (index + 1) * self.batch_size]\n",
    "        'Generate one batch of data'\n",
    "        batched_df = self.df.iloc[indexes] #.sample(frac=1).reset_index(drop=True)\n",
    "\n",
    "        if self.augment == True:\n",
    "            df_batch = self.augmentor(batched_df)\n",
    "        else:\n",
    "            df_batch = batched_df\n",
    "\n",
    "\n",
    "        batched_images = np.vstack(df_batch[\"Image\"].values).reshape(-1, 96, 96, 1).astype(np.float32)\n",
    "        \n",
    "        if self.rgb_channels:\n",
    "            batched_images = np.repeat(batched_images,3,-1)\n",
    "\n",
    "        batched_feature_corrdinates = df_batch.iloc[:,:-1]\n",
    "        \n",
    "        if self.normalize_coordinates:\n",
    "            for col in self.feature_columns:\n",
    "                scaler = self.scalers[col]\n",
    "                batched_feature_corrdinates[col] = scaler.transform(batched_feature_corrdinates[col].to_numpy().reshape(-1, 1)).reshape(-1)\n",
    "\n",
    "        batched_feature_corrdinates = batched_feature_corrdinates.values.astype(np.float32) #feature coordinates        \n",
    "\n",
    "        if self.normalize_image == True:\n",
    "            batched_images = batched_images/255\n",
    "\n",
    "        return batched_images, batched_feature_corrdinates\n",
    "\n",
    "    def augmentor(self, df):\n",
    "\n",
    "        def flip_horizontally(row):\n",
    "            'Method that flips the image horizontally and swaps the features' \n",
    "            row[\"Image\"] = np.flip(row[\"Image\"], axis = 1)\n",
    "            # y coordinates values will stay the same while the x coordinates will have to be changed\n",
    "            # subtract our initial x-coordinate values from width of the image(96)\n",
    "            for i in range(len(self.feature_columns)):#+1\n",
    "                if i%2 == 0: # because there is always x coordinate then y corrdinate\n",
    "                    row[self.feature_columns[i]] = 96. - row[self.feature_columns[i]]\n",
    "            # swap\n",
    "            rights = [a for a in self.feature_columns if \"right\" in a.split(\"_\")]\n",
    "            for col_r in rights:\n",
    "                col_l = self.left_right_dic[col_r]\n",
    "                temp = row[col_l] \n",
    "                row[col_l] = row[col_r]\n",
    "                row[col_r] = temp\n",
    "            return row\n",
    "\n",
    "        def increase_brightness(image):\n",
    "            'Method that randomly increase images brightness'      \n",
    "            # Multiply pixel values by random values between 1 and 1.5 to increase the brightness of the image\n",
    "            # Clip the value between 0 and 255\n",
    "            image = np.clip(random.uniform(1, 1.5) * image, 0.0, 255.0)\n",
    "            return image\n",
    "\n",
    "        def decrease_brightness(image):\n",
    "            'Method that randomly decrease images brightness'\n",
    "            # Multiply pixel values by random values between 0 and 0.1 to decrease the brightness of the image\n",
    "            # Clip the value between 0 and 255\n",
    "            image = np.clip(random.uniform(0, 0.1) * image, 0.0, 255.0)\n",
    "            return image\n",
    "\n",
    "        def augment(row):\n",
    "        # if we have more than one feature allow flipping\n",
    "            if len(self.feature_columns)>2:\n",
    "                if row[\"augment_flip\"]==1:\n",
    "                    row =  flip_horizontally(row)\n",
    "            if row[\"augment_inc_b\"]:\n",
    "                row[\"Image\"] = increase_brightness(row[\"Image\"])\n",
    "            if row[\"augment_dec_b\"]:\n",
    "                row[\"Image\"] = decrease_brightness(row[\"Image\"])\n",
    "            return row\n",
    "\n",
    "      # generate random boolean for augmentation types \n",
    "        df[\"augment_flip\"] = [random.getrandbits(1) for i in range(len(df))]\n",
    "        df[\"augment_inc_b\"] = [random.getrandbits(1) for i in range(len(df))]\n",
    "        df[\"augment_dec_b\"] = [random.getrandbits(1) for i in range(len(df))]\n",
    "        # df = df.apply(lambda row : augment(row), axis=1)\n",
    "        df = df.apply(augment, axis=1)\n",
    "        df.drop(['augment_flip', 'augment_inc_b', 'augment_dec_b'], axis=1, inplace=True)\n",
    "        return df\n"
   ]
  },
  {
   "cell_type": "code",
   "execution_count": 11,
   "metadata": {
    "execution": {
     "iopub.execute_input": "2021-01-08T11:59:38.037487Z",
     "iopub.status.busy": "2021-01-08T11:59:38.035727Z",
     "iopub.status.idle": "2021-01-08T11:59:38.038280Z",
     "shell.execute_reply": "2021-01-08T11:59:38.038801Z"
    },
    "id": "68VI4DWX-EnV",
    "papermill": {
     "duration": 0.043116,
     "end_time": "2021-01-08T11:59:38.038926",
     "exception": false,
     "start_time": "2021-01-08T11:59:37.995810",
     "status": "completed"
    },
    "tags": []
   },
   "outputs": [],
   "source": [
    "def visualize_image(x, y=None, y_predicted=None):\n",
    "  # x-coordinates are in even columns like 0,2,4,.. and y-coordinates are in odd columns like 1,3,5,..\n",
    "    plt.figure()\n",
    "    plt.imshow(x, cmap='gray')\n",
    "    if y is not None:\n",
    "        f = y.shape[0]\n",
    "        for j in range(0,f,2):\n",
    "            plt.plot(y[j], y[j+1], 'X', color='blue', label='actual')\n",
    "    if y_predicted is not None:\n",
    "        f = y_predicted.shape[0]\n",
    "        for j in range(0,f,2):\n",
    "            plt.plot(y_predicted[j], y_predicted[j+1], 'X', color='red', label='predicted')\n",
    "    plt.legend()"
   ]
  },
  {
   "cell_type": "markdown",
   "metadata": {
    "id": "eX1dSeiRCUUE",
    "papermill": {
     "duration": 0.030568,
     "end_time": "2021-01-08T11:59:38.100181",
     "exception": false,
     "start_time": "2021-01-08T11:59:38.069613",
     "status": "completed"
    },
    "tags": []
   },
   "source": [
    "Lets try the data generator and visuilize some images"
   ]
  },
  {
   "cell_type": "markdown",
   "metadata": {
    "id": "cdehN9mvIsan",
    "papermill": {
     "duration": 0.030576,
     "end_time": "2021-01-08T11:59:38.161849",
     "exception": false,
     "start_time": "2021-01-08T11:59:38.131273",
     "status": "completed"
    },
    "tags": []
   },
   "source": [
    "### Part 1.3  Building a Prediction model for a feature"
   ]
  },
  {
   "cell_type": "markdown",
   "metadata": {
    "id": "ph_UEDMwcEvX",
    "papermill": {
     "duration": 0.031925,
     "end_time": "2021-01-08T11:59:38.225563",
     "exception": false,
     "start_time": "2021-01-08T11:59:38.193638",
     "status": "completed"
    },
    "tags": []
   },
   "source": [
    "#### **Prepare data generators to train the model**"
   ]
  },
  {
   "cell_type": "markdown",
   "metadata": {
    "id": "ACe1Z0-GvdBs",
    "papermill": {
     "duration": 0.030933,
     "end_time": "2021-01-08T11:59:38.288862",
     "exception": false,
     "start_time": "2021-01-08T11:59:38.257929",
     "status": "completed"
    },
    "tags": []
   },
   "source": [
    "##### **Split the data into train and test**"
   ]
  },
  {
   "cell_type": "code",
   "execution_count": 12,
   "metadata": {
    "execution": {
     "iopub.execute_input": "2021-01-08T11:59:38.362511Z",
     "iopub.status.busy": "2021-01-08T11:59:38.361719Z",
     "iopub.status.idle": "2021-01-08T11:59:38.366328Z",
     "shell.execute_reply": "2021-01-08T11:59:38.366867Z"
    },
    "id": "Wz9DPZKppGXK",
    "outputId": "316ac4e0-0178-4692-e984-204c6ff49f72",
    "papermill": {
     "duration": 0.047588,
     "end_time": "2021-01-08T11:59:38.366997",
     "exception": false,
     "start_time": "2021-01-08T11:59:38.319409",
     "status": "completed"
    },
    "tags": []
   },
   "outputs": [
    {
     "name": "stdout",
     "output_type": "stream",
     "text": [
      "(2270, 3) (1816, 3) (454, 3)\n"
     ]
    }
   ],
   "source": [
    "df = dic_train_data[feature_name]\n",
    "# Split the data into training and testing data\n",
    "df_train, df_test = train_test_split(df, test_size = 0.2, random_state=None)\n",
    "print(df.shape, df_train.shape, df_test.shape)"
   ]
  },
  {
   "cell_type": "code",
   "execution_count": 13,
   "metadata": {
    "execution": {
     "iopub.execute_input": "2021-01-08T11:59:38.467191Z",
     "iopub.status.busy": "2021-01-08T11:59:38.451973Z",
     "iopub.status.idle": "2021-01-08T11:59:39.844893Z",
     "shell.execute_reply": "2021-01-08T11:59:39.845982Z"
    },
    "id": "iJ7K_1lndPKu",
    "outputId": "abda56ba-925c-43d9-ac1c-512dcbb269f6",
    "papermill": {
     "duration": 1.442986,
     "end_time": "2021-01-08T11:59:39.846149",
     "exception": false,
     "start_time": "2021-01-08T11:59:38.403163",
     "status": "completed"
    },
    "tags": []
   },
   "outputs": [
    {
     "data": {
      "text/html": [
       "<div>\n",
       "<style scoped>\n",
       "    .dataframe tbody tr th:only-of-type {\n",
       "        vertical-align: middle;\n",
       "    }\n",
       "\n",
       "    .dataframe tbody tr th {\n",
       "        vertical-align: top;\n",
       "    }\n",
       "\n",
       "    .dataframe thead th {\n",
       "        text-align: right;\n",
       "    }\n",
       "</style>\n",
       "<table border=\"1\" class=\"dataframe\">\n",
       "  <thead>\n",
       "    <tr style=\"text-align: right;\">\n",
       "      <th></th>\n",
       "      <th>right_eyebrow_inner_end_x</th>\n",
       "      <th>right_eyebrow_inner_end_y</th>\n",
       "      <th>Image</th>\n",
       "    </tr>\n",
       "  </thead>\n",
       "  <tbody>\n",
       "    <tr>\n",
       "      <th>1758</th>\n",
       "      <td>39.259489</td>\n",
       "      <td>30.072719</td>\n",
       "      <td>[[121, 97, 93, 127, 123, 107, 96, 82, 95, 95, ...</td>\n",
       "    </tr>\n",
       "    <tr>\n",
       "      <th>2165</th>\n",
       "      <td>40.101030</td>\n",
       "      <td>32.813111</td>\n",
       "      <td>[[163, 159, 140, 133, 123, 106, 102, 102, 92, ...</td>\n",
       "    </tr>\n",
       "    <tr>\n",
       "      <th>843</th>\n",
       "      <td>38.423333</td>\n",
       "      <td>29.164667</td>\n",
       "      <td>[[86, 88, 86, 81, 101, 119, 125, 73, 22, 18, 1...</td>\n",
       "    </tr>\n",
       "    <tr>\n",
       "      <th>2003</th>\n",
       "      <td>37.462781</td>\n",
       "      <td>31.886092</td>\n",
       "      <td>[[46, 45, 43, 46, 40, 27, 47, 86, 77, 70, 58, ...</td>\n",
       "    </tr>\n",
       "    <tr>\n",
       "      <th>309</th>\n",
       "      <td>38.896552</td>\n",
       "      <td>27.013572</td>\n",
       "      <td>[[40, 41, 44, 42, 38, 38, 37, 31, 30, 30, 32, ...</td>\n",
       "    </tr>\n",
       "  </tbody>\n",
       "</table>\n",
       "</div>"
      ],
      "text/plain": [
       "      right_eyebrow_inner_end_x  right_eyebrow_inner_end_y  \\\n",
       "1758                  39.259489                  30.072719   \n",
       "2165                  40.101030                  32.813111   \n",
       "843                   38.423333                  29.164667   \n",
       "2003                  37.462781                  31.886092   \n",
       "309                   38.896552                  27.013572   \n",
       "\n",
       "                                                  Image  \n",
       "1758  [[121, 97, 93, 127, 123, 107, 96, 82, 95, 95, ...  \n",
       "2165  [[163, 159, 140, 133, 123, 106, 102, 102, 92, ...  \n",
       "843   [[86, 88, 86, 81, 101, 119, 125, 73, 22, 18, 1...  \n",
       "2003  [[46, 45, 43, 46, 40, 27, 47, 86, 77, 70, 58, ...  \n",
       "309   [[40, 41, 44, 42, 38, 38, 37, 31, 30, 30, 32, ...  "
      ]
     },
     "execution_count": 13,
     "metadata": {},
     "output_type": "execute_result"
    }
   ],
   "source": [
    "df_train.head()"
   ]
  },
  {
   "cell_type": "markdown",
   "metadata": {
    "id": "Zo9gt1mXu2fd",
    "papermill": {
     "duration": 0.041119,
     "end_time": "2021-01-08T11:59:39.930736",
     "exception": false,
     "start_time": "2021-01-08T11:59:39.889617",
     "status": "completed"
    },
    "tags": []
   },
   "source": [
    "##### **Build scalers for normalizing feature data**"
   ]
  },
  {
   "cell_type": "code",
   "execution_count": 14,
   "metadata": {
    "execution": {
     "iopub.execute_input": "2021-01-08T11:59:40.035045Z",
     "iopub.status.busy": "2021-01-08T11:59:40.034244Z",
     "iopub.status.idle": "2021-01-08T11:59:40.037949Z",
     "shell.execute_reply": "2021-01-08T11:59:40.037334Z"
    },
    "id": "9t4-hf0gIeSw",
    "papermill": {
     "duration": 0.052015,
     "end_time": "2021-01-08T11:59:40.038080",
     "exception": false,
     "start_time": "2021-01-08T11:59:39.986065",
     "status": "completed"
    },
    "tags": []
   },
   "outputs": [],
   "source": [
    "scalers_dict = dict()\n",
    "for col in df.columns.tolist()[:-1]:\n",
    "    scaler = MinMaxScaler()\n",
    "    scaler.fit(df[col].to_numpy().reshape(-1, 1))\n",
    "    scalers_dict[col] = scaler\n",
    "\n",
    "\n",
    "\n",
    "pkl.dump(scalers_dict, open(scalers_path,\"wb\"))\n"
   ]
  },
  {
   "cell_type": "markdown",
   "metadata": {
    "id": "WZNeHGhxvnSH",
    "papermill": {
     "duration": 0.031209,
     "end_time": "2021-01-08T11:59:40.101252",
     "exception": false,
     "start_time": "2021-01-08T11:59:40.070043",
     "status": "completed"
    },
    "tags": []
   },
   "source": [
    "##### **Build train and validation data generators**"
   ]
  },
  {
   "cell_type": "code",
   "execution_count": 15,
   "metadata": {
    "execution": {
     "iopub.execute_input": "2021-01-08T11:59:40.171228Z",
     "iopub.status.busy": "2021-01-08T11:59:40.170369Z",
     "iopub.status.idle": "2021-01-08T11:59:40.174367Z",
     "shell.execute_reply": "2021-01-08T11:59:40.173906Z"
    },
    "id": "HERnPWEBc83D",
    "papermill": {
     "duration": 0.041219,
     "end_time": "2021-01-08T11:59:40.174493",
     "exception": false,
     "start_time": "2021-01-08T11:59:40.133274",
     "status": "completed"
    },
    "tags": []
   },
   "outputs": [],
   "source": [
    " \n",
    "train_generator = DataGenerator(df_train, batch_size=32, normalize_image=True, normalize_coordinates=True, scalers=scalers_dict)\n",
    "val_generator =  DataGenerator(df_test, batch_size=32,  augment=False, normalize_image=True,  normalize_coordinates=True,  scalers=train_generator.scalers)"
   ]
  },
  {
   "cell_type": "markdown",
   "metadata": {
    "id": "Ctn-Hf0Nc5p_",
    "papermill": {
     "duration": 0.032841,
     "end_time": "2021-01-08T11:59:40.240299",
     "exception": false,
     "start_time": "2021-01-08T11:59:40.207458",
     "status": "completed"
    },
    "tags": []
   },
   "source": [
    "#### **Build a Prediction model**"
   ]
  },
  {
   "cell_type": "code",
   "execution_count": 16,
   "metadata": {
    "execution": {
     "iopub.execute_input": "2021-01-08T11:59:40.327200Z",
     "iopub.status.busy": "2021-01-08T11:59:40.326268Z",
     "iopub.status.idle": "2021-01-08T11:59:40.329729Z",
     "shell.execute_reply": "2021-01-08T11:59:40.329221Z"
    },
    "id": "WHg8_6ZgPvoJ",
    "papermill": {
     "duration": 0.056893,
     "end_time": "2021-01-08T11:59:40.329834",
     "exception": false,
     "start_time": "2021-01-08T11:59:40.272941",
     "status": "completed"
    },
    "tags": []
   },
   "outputs": [],
   "source": [
    "from tensorflow.keras.applications import EfficientNetB0, VGG16\n",
    "\n",
    "def create_efficientNet(nbr_features):\n",
    "    inputs = tf.keras.Input(shape=(96, 96, 3))  \n",
    "    # This option include_top excludes the final Dense layer.\n",
    "    # This allows us to replace the top layer with custom layers which allows the use of  EfficientNet as a feature extractor in a transfer learning workflow\n",
    "    model = EfficientNetB0(include_top=False, input_tensor=inputs, weights=\"imagenet\")#, drop_connect_rate=0.1)\n",
    "    # Freeze the pretrained weights\n",
    "    model.trainable = False\n",
    "\n",
    "    # Rebuild top\n",
    "    x = GlobalAveragePooling2D()(model.output)    \n",
    "    x = BatchNormalization()(x)\n",
    "    x = Dropout(0.4)(x)\n",
    "    outputs = Dense(nbr_features,activation='relu')(x)\n",
    "\n",
    "    # Compile\n",
    "    model = keras.Model(inputs, outputs)\n",
    "    return model\n",
    "\n",
    "def create_vgg16(nbr_features):\n",
    "\n",
    "    #Get back the convolutional part of a VGG network trained on ImageNet\n",
    "    model = VGG16(weights='imagenet', include_top=False)\n",
    "    model.trainable = False\n",
    "    #Create your own input format (here 3x200x200)\n",
    "    inputs = Input(shape=(96,96,3))\n",
    "\n",
    "    #Use the generated model \n",
    "    output_vgg16 = model(inputs)\n",
    "\n",
    "    #Add the fully-connected layers \n",
    "    x = Flatten()(output_vgg16)\n",
    "    x = Dense(64, activation='relu')(x)\n",
    "    # x = Dense(32, activation='relu')(x)\n",
    "    outputs = Dense(nbr_features, activation='relu')(x)\n",
    "\n",
    "    #Create your own model \n",
    "    model = keras.Model(inputs=inputs, outputs=outputs)\n",
    "    return model\n",
    "\n",
    "\n",
    "def create_simple_model(nbr_features):\n",
    "  # vanillia CNN model\n",
    "    model = Sequential()\n",
    "    model.add(Conv2D(16, kernel_size=(5, 5), activation='relu', input_shape=(96, 96 , 1)))\n",
    "    model.add(MaxPooling2D(pool_size=(2, 2), strides=2))\n",
    "    model.add(Conv2D(48, (3, 3), activation='relu'))\n",
    "    model.add(MaxPooling2D(pool_size=(2, 2), strides=2))\n",
    "    model.add(Conv2D(64, (3, 3), activation='relu'))\n",
    "    model.add(MaxPooling2D(pool_size=(2, 2), strides=2))\n",
    "    model.add(Conv2D(64, (2, 2), activation='relu'))\n",
    "    model.add(Flatten())\n",
    "    model.add(Dense(100, activation='relu'))\n",
    "    model.add(Dense(nbr_features, activation='relu'))\n",
    "    return model\n"
   ]
  },
  {
   "cell_type": "code",
   "execution_count": 17,
   "metadata": {
    "execution": {
     "iopub.execute_input": "2021-01-08T11:59:40.400203Z",
     "iopub.status.busy": "2021-01-08T11:59:40.399591Z",
     "iopub.status.idle": "2021-01-08T11:59:46.174454Z",
     "shell.execute_reply": "2021-01-08T11:59:46.173927Z"
    },
    "id": "ofh5qnydxTwZ",
    "outputId": "07bd6fcc-e67a-409e-813c-a4d839c5966b",
    "papermill": {
     "duration": 5.811867,
     "end_time": "2021-01-08T11:59:46.174589",
     "exception": false,
     "start_time": "2021-01-08T11:59:40.362722",
     "status": "completed"
    },
    "tags": []
   },
   "outputs": [
    {
     "name": "stdout",
     "output_type": "stream",
     "text": [
      "Downloading data from https://storage.googleapis.com/keras-applications/efficientnetb0_notop.h5\n",
      "16711680/16705208 [==============================] - 0s 0us/step\n"
     ]
    }
   ],
   "source": [
    "nbr_features = 2\n",
    "# create the model\n",
    "model = create_efficientNet(nbr_features)\n",
    "# model = create_vgg16(nbr_features)"
   ]
  },
  {
   "cell_type": "markdown",
   "metadata": {
    "id": "cJ8vd7UwtrYg",
    "papermill": {
     "duration": 0.036142,
     "end_time": "2021-01-08T11:59:46.247370",
     "exception": false,
     "start_time": "2021-01-08T11:59:46.211228",
     "status": "completed"
    },
    "tags": []
   },
   "source": [
    "#### **Define custom loss and compile the model**"
   ]
  },
  {
   "cell_type": "code",
   "execution_count": 18,
   "metadata": {
    "execution": {
     "iopub.execute_input": "2021-01-08T11:59:46.483975Z",
     "iopub.status.busy": "2021-01-08T11:59:46.482835Z",
     "iopub.status.idle": "2021-01-08T11:59:46.491786Z",
     "shell.execute_reply": "2021-01-08T11:59:46.491264Z"
    },
    "id": "tXRRM-KrLjfE",
    "papermill": {
     "duration": 0.208013,
     "end_time": "2021-01-08T11:59:46.491891",
     "exception": false,
     "start_time": "2021-01-08T11:59:46.283878",
     "status": "completed"
    },
    "tags": []
   },
   "outputs": [],
   "source": [
    "import tensorflow.keras.backend as K\n",
    "\n",
    "def euclidean_distance_loss(y_true, y_pred):\n",
    "  #     Euclidean distance loss\n",
    "    return K.sqrt(K.sum(K.square(y_pred - y_true), axis=-1))\n",
    "\n",
    "def absolute_tanh(x):\n",
    "    return K.abs(K.tanh(x))\n",
    "\n",
    "# MeanAbsoluteError(), MeanAbsolutePercentageError()\n",
    "model.compile(loss=euclidean_distance_loss,\n",
    "              optimizer=keras.optimizers.Adam(learning_rate=1e-4),\n",
    "              )\n",
    "\n",
    "def unfreeze_model(model):\n",
    "    # We unfreeze the top 5 layers while leaving BatchNorm layers frozen\n",
    "    for layer in model.layers[-25:]:\n",
    "        if not isinstance(layer, keras.layers.BatchNormalization):\n",
    "            layer.trainable = True"
   ]
  },
  {
   "cell_type": "markdown",
   "metadata": {
    "id": "XOn3P3dcvy7T",
    "papermill": {
     "duration": 0.035971,
     "end_time": "2021-01-08T11:59:46.563311",
     "exception": false,
     "start_time": "2021-01-08T11:59:46.527340",
     "status": "completed"
    },
    "tags": []
   },
   "source": [
    "#### **Start training**"
   ]
  },
  {
   "cell_type": "code",
   "execution_count": 19,
   "metadata": {
    "execution": {
     "iopub.execute_input": "2021-01-08T11:59:46.673944Z",
     "iopub.status.busy": "2021-01-08T11:59:46.673204Z",
     "iopub.status.idle": "2021-01-08T12:02:52.484348Z",
     "shell.execute_reply": "2021-01-08T12:02:52.470154Z"
    },
    "id": "7AWepBFAc9LR",
    "outputId": "98eb52a4-9bf9-4246-baab-cd0b9085d99c",
    "papermill": {
     "duration": 185.881593,
     "end_time": "2021-01-08T12:02:52.484503",
     "exception": false,
     "start_time": "2021-01-08T11:59:46.602910",
     "status": "completed"
    },
    "tags": []
   },
   "outputs": [
    {
     "name": "stdout",
     "output_type": "stream",
     "text": [
      "Epoch 1/100\n",
      "56/56 [==============================] - 3s 59ms/step - loss: 0.5669 - val_loss: 0.5484\n",
      "Epoch 2/100\n",
      "56/56 [==============================] - 2s 33ms/step - loss: 0.4877 - val_loss: 0.5487\n",
      "Epoch 3/100\n",
      "56/56 [==============================] - 2s 28ms/step - loss: 0.4555 - val_loss: 0.5485\n",
      "Epoch 4/100\n",
      "56/56 [==============================] - 2s 29ms/step - loss: 0.4757 - val_loss: 0.5487\n",
      "Epoch 5/100\n",
      "56/56 [==============================] - 2s 28ms/step - loss: 0.4538 - val_loss: 0.5484\n",
      "Epoch 6/100\n",
      "56/56 [==============================] - 2s 28ms/step - loss: 0.4647 - val_loss: 0.5486\n",
      "Epoch 7/100\n",
      "56/56 [==============================] - 2s 28ms/step - loss: 0.4498 - val_loss: 0.5042\n",
      "Epoch 8/100\n",
      "56/56 [==============================] - 2s 28ms/step - loss: 0.4555 - val_loss: 0.5084\n",
      "Epoch 9/100\n",
      "56/56 [==============================] - 2s 35ms/step - loss: 0.4417 - val_loss: 0.4788\n",
      "Epoch 10/100\n",
      "56/56 [==============================] - 2s 30ms/step - loss: 0.4506 - val_loss: 0.4659\n",
      "Epoch 11/100\n",
      "56/56 [==============================] - 2s 30ms/step - loss: 0.4467 - val_loss: 0.4507\n",
      "Epoch 12/100\n",
      "56/56 [==============================] - 2s 31ms/step - loss: 0.4405 - val_loss: 0.4430\n",
      "Epoch 13/100\n",
      "56/56 [==============================] - 2s 29ms/step - loss: 0.4417 - val_loss: 0.4010\n",
      "Epoch 14/100\n",
      "56/56 [==============================] - 2s 28ms/step - loss: 0.4489 - val_loss: 0.3927\n",
      "Epoch 15/100\n",
      "56/56 [==============================] - 2s 34ms/step - loss: 0.4427 - val_loss: 0.4199\n",
      "Epoch 16/100\n",
      "56/56 [==============================] - 2s 29ms/step - loss: 0.4282 - val_loss: 0.3873\n",
      "Epoch 17/100\n",
      "56/56 [==============================] - 2s 29ms/step - loss: 0.4376 - val_loss: 0.4092\n",
      "Epoch 18/100\n",
      "56/56 [==============================] - 2s 36ms/step - loss: 0.4268 - val_loss: 0.3906\n",
      "Epoch 19/100\n",
      "56/56 [==============================] - 2s 28ms/step - loss: 0.4371 - val_loss: 0.3888\n",
      "Epoch 20/100\n",
      "56/56 [==============================] - 2s 35ms/step - loss: 0.4263 - val_loss: 0.3941\n",
      "Epoch 21/100\n",
      "56/56 [==============================] - 2s 34ms/step - loss: 0.4258 - val_loss: 0.3464\n",
      "Epoch 22/100\n",
      "56/56 [==============================] - 2s 35ms/step - loss: 0.4258 - val_loss: 0.3727\n",
      "Epoch 23/100\n",
      "56/56 [==============================] - 2s 29ms/step - loss: 0.4276 - val_loss: 0.3706\n",
      "Epoch 24/100\n",
      "56/56 [==============================] - 2s 29ms/step - loss: 0.4276 - val_loss: 0.3798\n",
      "Epoch 25/100\n",
      "56/56 [==============================] - 2s 29ms/step - loss: 0.4242 - val_loss: 0.3794\n",
      "Epoch 26/100\n",
      "56/56 [==============================] - 2s 28ms/step - loss: 0.4177 - val_loss: 0.3544\n",
      "Epoch 27/100\n",
      "56/56 [==============================] - 2s 33ms/step - loss: 0.4197 - val_loss: 0.3766\n",
      "Epoch 28/100\n",
      "56/56 [==============================] - 2s 29ms/step - loss: 0.4199 - val_loss: 0.3483\n",
      "Epoch 29/100\n",
      "56/56 [==============================] - 2s 30ms/step - loss: 0.4144 - val_loss: 0.3629\n",
      "Epoch 30/100\n",
      "56/56 [==============================] - 2s 28ms/step - loss: 0.4083 - val_loss: 0.3751\n",
      "Epoch 31/100\n",
      "56/56 [==============================] - 2s 28ms/step - loss: 0.4130 - val_loss: 0.3620\n",
      "Epoch 32/100\n",
      "56/56 [==============================] - 2s 29ms/step - loss: 0.4060 - val_loss: 0.3372\n",
      "Epoch 33/100\n",
      "56/56 [==============================] - 2s 29ms/step - loss: 0.4057 - val_loss: 0.3516\n",
      "Epoch 34/100\n",
      "56/56 [==============================] - 2s 34ms/step - loss: 0.4032 - val_loss: 0.3431\n",
      "Epoch 35/100\n",
      "56/56 [==============================] - 2s 29ms/step - loss: 0.4089 - val_loss: 0.3468\n",
      "Epoch 36/100\n",
      "56/56 [==============================] - 2s 37ms/step - loss: 0.4120 - val_loss: 0.3212\n",
      "Epoch 37/100\n",
      "56/56 [==============================] - 2s 28ms/step - loss: 0.3972 - val_loss: 0.3269\n",
      "Epoch 38/100\n",
      "56/56 [==============================] - 2s 28ms/step - loss: 0.3967 - val_loss: 0.3323\n",
      "Epoch 39/100\n",
      "56/56 [==============================] - 2s 28ms/step - loss: 0.3959 - val_loss: 0.3235\n",
      "Epoch 40/100\n",
      "56/56 [==============================] - 2s 33ms/step - loss: 0.3920 - val_loss: 0.3120\n",
      "Epoch 41/100\n",
      "56/56 [==============================] - 2s 28ms/step - loss: 0.3814 - val_loss: 0.3091\n",
      "Epoch 42/100\n",
      "56/56 [==============================] - 2s 27ms/step - loss: 0.3943 - val_loss: 0.3177\n",
      "Epoch 43/100\n",
      "56/56 [==============================] - 2s 27ms/step - loss: 0.3817 - val_loss: 0.3113\n",
      "Epoch 44/100\n",
      "56/56 [==============================] - 2s 27ms/step - loss: 0.3793 - val_loss: 0.3242\n",
      "Epoch 45/100\n",
      "56/56 [==============================] - 2s 28ms/step - loss: 0.3755 - val_loss: 0.3222\n",
      "Epoch 46/100\n",
      "56/56 [==============================] - 2s 29ms/step - loss: 0.3696 - val_loss: 0.3002\n",
      "Epoch 47/100\n",
      "56/56 [==============================] - 2s 37ms/step - loss: 0.3750 - val_loss: 0.3092\n",
      "Epoch 48/100\n",
      "56/56 [==============================] - 2s 28ms/step - loss: 0.3696 - val_loss: 0.3240\n",
      "Epoch 49/100\n",
      "56/56 [==============================] - 2s 29ms/step - loss: 0.3790 - val_loss: 0.3029\n",
      "Epoch 50/100\n",
      "56/56 [==============================] - 2s 29ms/step - loss: 0.3716 - val_loss: 0.2991\n",
      "Epoch 51/100\n",
      "56/56 [==============================] - 2s 29ms/step - loss: 0.3717 - val_loss: 0.3067\n",
      "Epoch 52/100\n",
      "56/56 [==============================] - 2s 29ms/step - loss: 0.3647 - val_loss: 0.3056\n",
      "Epoch 53/100\n",
      "56/56 [==============================] - 2s 35ms/step - loss: 0.3556 - val_loss: 0.3022\n",
      "Epoch 54/100\n",
      "56/56 [==============================] - 2s 42ms/step - loss: 0.3639 - val_loss: 0.2970\n",
      "Epoch 55/100\n",
      "56/56 [==============================] - 2s 38ms/step - loss: 0.3579 - val_loss: 0.3003\n",
      "Epoch 56/100\n",
      "56/56 [==============================] - 2s 30ms/step - loss: 0.3597 - val_loss: 0.2951\n",
      "Epoch 57/100\n",
      "56/56 [==============================] - 2s 31ms/step - loss: 0.3512 - val_loss: 0.2942\n",
      "Epoch 58/100\n",
      "56/56 [==============================] - 2s 28ms/step - loss: 0.3525 - val_loss: 0.2912\n",
      "Epoch 59/100\n",
      "56/56 [==============================] - 2s 35ms/step - loss: 0.3478 - val_loss: 0.2989\n",
      "Epoch 60/100\n",
      "56/56 [==============================] - 2s 29ms/step - loss: 0.3440 - val_loss: 0.2910\n",
      "Epoch 61/100\n",
      "56/56 [==============================] - 2s 27ms/step - loss: 0.3402 - val_loss: 0.2911\n",
      "Epoch 62/100\n",
      "56/56 [==============================] - 2s 28ms/step - loss: 0.3331 - val_loss: 0.2912\n",
      "Epoch 63/100\n",
      "56/56 [==============================] - 2s 27ms/step - loss: 0.3371 - val_loss: 0.2911\n",
      "Epoch 64/100\n",
      "56/56 [==============================] - 2s 33ms/step - loss: 0.3322 - val_loss: 0.2925\n",
      "Epoch 65/100\n",
      "56/56 [==============================] - 2s 33ms/step - loss: 0.3248 - val_loss: 0.2932\n",
      "Epoch 66/100\n",
      "56/56 [==============================] - 2s 28ms/step - loss: 0.3190 - val_loss: 0.2944\n",
      "Epoch 67/100\n",
      "56/56 [==============================] - 2s 28ms/step - loss: 0.3231 - val_loss: 0.2840\n",
      "Epoch 68/100\n",
      "56/56 [==============================] - 2s 28ms/step - loss: 0.3117 - val_loss: 0.2699\n",
      "Epoch 69/100\n",
      "56/56 [==============================] - 2s 28ms/step - loss: 0.3128 - val_loss: 0.2839\n",
      "Epoch 70/100\n",
      "56/56 [==============================] - 2s 28ms/step - loss: 0.3092 - val_loss: 0.2793\n",
      "Epoch 71/100\n",
      "56/56 [==============================] - 2s 33ms/step - loss: 0.3069 - val_loss: 0.2863\n",
      "Epoch 72/100\n",
      "56/56 [==============================] - 2s 33ms/step - loss: 0.3080 - val_loss: 0.2329\n",
      "Epoch 73/100\n",
      "56/56 [==============================] - 2s 30ms/step - loss: 0.3079 - val_loss: 0.2257\n",
      "Epoch 74/100\n",
      "56/56 [==============================] - 2s 27ms/step - loss: 0.2968 - val_loss: 0.2502\n",
      "Epoch 75/100\n",
      "56/56 [==============================] - 2s 27ms/step - loss: 0.2997 - val_loss: 0.2737\n",
      "Epoch 76/100\n",
      "56/56 [==============================] - 2s 27ms/step - loss: 0.2898 - val_loss: 0.2705\n",
      "Epoch 77/100\n",
      "56/56 [==============================] - 2s 27ms/step - loss: 0.2939 - val_loss: 0.2561\n",
      "Epoch 78/100\n",
      "56/56 [==============================] - 2s 34ms/step - loss: 0.2816 - val_loss: 0.2071\n",
      "Epoch 79/100\n",
      "56/56 [==============================] - 2s 29ms/step - loss: 0.2792 - val_loss: 0.2636\n",
      "Epoch 80/100\n",
      "56/56 [==============================] - 2s 28ms/step - loss: 0.2810 - val_loss: 0.2187\n",
      "Epoch 81/100\n",
      "56/56 [==============================] - 2s 30ms/step - loss: 0.2736 - val_loss: 0.2316\n",
      "Epoch 82/100\n",
      "56/56 [==============================] - 2s 34ms/step - loss: 0.2678 - val_loss: 0.2099\n",
      "Epoch 83/100\n",
      "56/56 [==============================] - 2s 29ms/step - loss: 0.2733 - val_loss: 0.2130\n",
      "Epoch 84/100\n",
      "56/56 [==============================] - 2s 33ms/step - loss: 0.2630 - val_loss: 0.1848\n",
      "Epoch 85/100\n",
      "56/56 [==============================] - 2s 28ms/step - loss: 0.2701 - val_loss: 0.1710\n",
      "Epoch 86/100\n",
      "56/56 [==============================] - 2s 27ms/step - loss: 0.2688 - val_loss: 0.1957\n",
      "Epoch 87/100\n",
      "56/56 [==============================] - 2s 27ms/step - loss: 0.2588 - val_loss: 0.1843\n",
      "Epoch 88/100\n",
      "56/56 [==============================] - 2s 30ms/step - loss: 0.2621 - val_loss: 0.1880\n",
      "Epoch 89/100\n",
      "56/56 [==============================] - 2s 32ms/step - loss: 0.2536 - val_loss: 0.1407\n",
      "Epoch 90/100\n",
      "56/56 [==============================] - 2s 30ms/step - loss: 0.2539 - val_loss: 0.1632\n",
      "Epoch 91/100\n",
      "56/56 [==============================] - 3s 49ms/step - loss: 0.2511 - val_loss: 0.1215\n",
      "Epoch 92/100\n",
      "56/56 [==============================] - 2s 28ms/step - loss: 0.2464 - val_loss: 0.1396\n",
      "Epoch 93/100\n",
      "56/56 [==============================] - 2s 29ms/step - loss: 0.2383 - val_loss: 0.1201\n",
      "Epoch 94/100\n",
      "56/56 [==============================] - 1s 27ms/step - loss: 0.2328 - val_loss: 0.1212\n",
      "Epoch 95/100\n",
      "56/56 [==============================] - 2s 27ms/step - loss: 0.2350 - val_loss: 0.1200\n",
      "Epoch 96/100\n",
      "56/56 [==============================] - 2s 30ms/step - loss: 0.2278 - val_loss: 0.0916\n",
      "Epoch 97/100\n",
      "56/56 [==============================] - 2s 30ms/step - loss: 0.2288 - val_loss: 0.0951\n",
      "Epoch 98/100\n",
      "56/56 [==============================] - 2s 27ms/step - loss: 0.2225 - val_loss: 0.0965\n",
      "Epoch 99/100\n",
      "56/56 [==============================] - 2s 28ms/step - loss: 0.2162 - val_loss: 0.1092\n",
      "Epoch 100/100\n",
      "56/56 [==============================] - 2s 33ms/step - loss: 0.2199 - val_loss: 0.0893\n"
     ]
    }
   ],
   "source": [
    "#10 + 10 +10\n",
    "unfreeze_model(model)\n",
    "\n",
    "history = model.fit(train_generator, \n",
    "                    validation_data=val_generator,\n",
    "                    epochs=100)"
   ]
  },
  {
   "cell_type": "markdown",
   "metadata": {
    "id": "HvHov45D2qwx",
    "papermill": {
     "duration": 0.872604,
     "end_time": "2021-01-08T12:02:54.204495",
     "exception": false,
     "start_time": "2021-01-08T12:02:53.331891",
     "status": "completed"
    },
    "tags": []
   },
   "source": [
    "#### **Evaluate the model**"
   ]
  },
  {
   "cell_type": "code",
   "execution_count": 20,
   "metadata": {
    "execution": {
     "iopub.execute_input": "2021-01-08T12:02:55.981381Z",
     "iopub.status.busy": "2021-01-08T12:02:55.980190Z",
     "iopub.status.idle": "2021-01-08T12:02:56.353147Z",
     "shell.execute_reply": "2021-01-08T12:02:56.354784Z"
    },
    "id": "RYKhDBx9MgTN",
    "outputId": "52aeb591-a793-4482-b854-38914ebd81a9",
    "papermill": {
     "duration": 1.264227,
     "end_time": "2021-01-08T12:02:56.355049",
     "exception": false,
     "start_time": "2021-01-08T12:02:55.090822",
     "status": "completed"
    },
    "tags": []
   },
   "outputs": [
    {
     "name": "stdout",
     "output_type": "stream",
     "text": [
      "14/14 [==============================] - 0s 20ms/step - loss: 0.0893\n"
     ]
    },
    {
     "data": {
      "text/plain": [
       "0.08931465446949005"
      ]
     },
     "execution_count": 20,
     "metadata": {},
     "output_type": "execute_result"
    }
   ],
   "source": [
    "model.evaluate(val_generator)"
   ]
  },
  {
   "cell_type": "code",
   "execution_count": 21,
   "metadata": {
    "execution": {
     "iopub.execute_input": "2021-01-08T12:02:58.331721Z",
     "iopub.status.busy": "2021-01-08T12:02:58.331053Z",
     "iopub.status.idle": "2021-01-08T12:02:58.573971Z",
     "shell.execute_reply": "2021-01-08T12:02:58.574910Z"
    },
    "id": "FYqFSqoqe8Do",
    "outputId": "acccfe34-e1ed-4dee-db6f-d388e7efb6c5",
    "papermill": {
     "duration": 1.125379,
     "end_time": "2021-01-08T12:02:58.575062",
     "exception": false,
     "start_time": "2021-01-08T12:02:57.449683",
     "status": "completed"
    },
    "tags": []
   },
   "outputs": [
    {
     "data": {
      "text/plain": [
       "Text(0.5, 1.0, 'Training and validation loss')"
      ]
     },
     "execution_count": 21,
     "metadata": {},
     "output_type": "execute_result"
    },
    {
     "data": {
      "image/png": "[encoded data removed]",
      "text/plain": [
       "<Figure size 432x288 with 1 Axes>"
      ]
     },
     "metadata": {
      "needs_background": "light"
     },
     "output_type": "display_data"
    }
   ],
   "source": [
    "# Retrieve a list of list results on training and test data sets for each training epoch\n",
    "loss     = history.history['loss']\n",
    "val_loss = history.history['val_loss']\n",
    "epochs   = range(len(loss))\n",
    "# Plot training and validation loss per epoch\n",
    "plt.plot(epochs,loss, color='red' , label='training loss')\n",
    "plt.plot(epochs, val_loss, label='validation loss')\n",
    "plt.legend()\n",
    "plt.title ('Training and validation loss')"
   ]
  },
  {
   "cell_type": "markdown",
   "metadata": {
    "id": "BIr2js1Z2ipI",
    "papermill": {
     "duration": 0.86142,
     "end_time": "2021-01-08T12:03:00.368647",
     "exception": false,
     "start_time": "2021-01-08T12:02:59.507227",
     "status": "completed"
    },
    "tags": []
   },
   "source": [
    "#### **Test the model on random images**"
   ]
  },
  {
   "cell_type": "code",
   "execution_count": 22,
   "metadata": {
    "execution": {
     "iopub.execute_input": "2021-01-08T12:03:02.125811Z",
     "iopub.status.busy": "2021-01-08T12:03:02.124890Z",
     "iopub.status.idle": "2021-01-08T12:03:02.132508Z",
     "shell.execute_reply": "2021-01-08T12:03:02.132004Z"
    },
    "id": "MnxNCLAA1xvB",
    "outputId": "16288291-87dc-4ac3-ba1f-30a59d2fa79a",
    "papermill": {
     "duration": 0.885646,
     "end_time": "2021-01-08T12:03:02.132658",
     "exception": false,
     "start_time": "2021-01-08T12:03:01.247012",
     "status": "completed"
    },
    "tags": []
   },
   "outputs": [
    {
     "data": {
      "text/plain": [
       "{'right_eyebrow_inner_end_x': MinMaxScaler(),\n",
       " 'right_eyebrow_inner_end_y': MinMaxScaler()}"
      ]
     },
     "execution_count": 22,
     "metadata": {},
     "output_type": "execute_result"
    }
   ],
   "source": [
    "scalers_dict"
   ]
  },
  {
   "cell_type": "code",
   "execution_count": 23,
   "metadata": {
    "execution": {
     "iopub.execute_input": "2021-01-08T12:03:03.895690Z",
     "iopub.status.busy": "2021-01-08T12:03:03.894772Z",
     "iopub.status.idle": "2021-01-08T12:03:05.531892Z",
     "shell.execute_reply": "2021-01-08T12:03:05.531000Z"
    },
    "id": "EbY6XCqHPvoO",
    "outputId": "85d7b89c-efa4-405a-986a-92f79d589697",
    "papermill": {
     "duration": 2.524371,
     "end_time": "2021-01-08T12:03:05.532011",
     "exception": false,
     "start_time": "2021-01-08T12:03:03.007640",
     "status": "completed"
    },
    "tags": []
   },
   "outputs": [
    {
     "name": "stdout",
     "output_type": "stream",
     "text": [
      "[0.4782118  0.33719754]\n",
      "[40.233906 31.854628]\n",
      "[[0.43805975 0.23108925]]\n",
      "[[37.43686  27.015327]]\n"
     ]
    },
    {
     "data": {
      "image/png": "[encoded data removed]",
      "text/plain": [
       "<Figure size 432x288 with 1 Axes>"
      ]
     },
     "metadata": {
      "needs_background": "light"
     },
     "output_type": "display_data"
    }
   ],
   "source": [
    "batch = val_generator.__getitem__(2)\n",
    "j= np.random.randint(0,len(batch[0]))\n",
    "# check original image \n",
    "print(batch[1][j:j+1][0])\n",
    "actual_y= batch[1][j:j+1][0]\n",
    "actual_y[0] = scalers_dict[feature_name+\"_x\"].inverse_transform([[actual_y[0]]])\n",
    "actual_y[1] = scalers_dict[feature_name+\"_y\"].inverse_transform([[actual_y[1]]])\n",
    "print(actual_y)\n",
    "##############################################\n",
    "predicted_y = model.predict(batch[0][j:j+1])\n",
    "print(predicted_y)\n",
    "# uncomment in case we have used the scaling\n",
    "predicted_y[:,:1] = scalers_dict[feature_name+\"_x\"].inverse_transform(predicted_y[:,:1])\n",
    "predicted_y[:,1:] = scalers_dict[feature_name+\"_y\"].inverse_transform(predicted_y[:,1:])\n",
    "print(predicted_y)\n",
    "##############################################3\n",
    "visualize_image(batch[0][j:j+1].reshape(96,96,3)[:,:,0],actual_y, predicted_y[0])"
   ]
  },
  {
   "cell_type": "markdown",
   "metadata": {
    "id": "Q3sMZnVZ3-dd",
    "papermill": {
     "duration": 0.993757,
     "end_time": "2021-01-08T12:03:07.429489",
     "exception": false,
     "start_time": "2021-01-08T12:03:06.435732",
     "status": "completed"
    },
    "tags": []
   },
   "source": [
    "**Its very impressive how close are the predicted corrdinates to the original ones**"
   ]
  },
  {
   "cell_type": "markdown",
   "metadata": {
    "id": "KOW_zMQ5PvoS",
    "papermill": {
     "duration": 0.89566,
     "end_time": "2021-01-08T12:03:09.711048",
     "exception": false,
     "start_time": "2021-01-08T12:03:08.815388",
     "status": "completed"
    },
    "tags": []
   },
   "source": [
    "#### **Test on missing data**"
   ]
  },
  {
   "cell_type": "code",
   "execution_count": 24,
   "metadata": {
    "execution": {
     "iopub.execute_input": "2021-01-08T12:03:11.419370Z",
     "iopub.status.busy": "2021-01-08T12:03:11.418651Z",
     "iopub.status.idle": "2021-01-08T12:03:11.422361Z",
     "shell.execute_reply": "2021-01-08T12:03:11.422892Z"
    },
    "id": "zKZ1t2qoPvoS",
    "outputId": "2c2688c2-cb6d-4ad7-dad1-9fabe60c1d13",
    "papermill": {
     "duration": 0.860916,
     "end_time": "2021-01-08T12:03:11.423010",
     "exception": false,
     "start_time": "2021-01-08T12:03:10.562094",
     "status": "completed"
    },
    "tags": []
   },
   "outputs": [
    {
     "data": {
      "text/plain": [
       "'right_eyebrow_inner_end'"
      ]
     },
     "execution_count": 24,
     "metadata": {},
     "output_type": "execute_result"
    }
   ],
   "source": [
    "feature_name"
   ]
  },
  {
   "cell_type": "code",
   "execution_count": 25,
   "metadata": {
    "execution": {
     "iopub.execute_input": "2021-01-08T12:03:13.132194Z",
     "iopub.status.busy": "2021-01-08T12:03:13.130471Z",
     "iopub.status.idle": "2021-01-08T12:03:13.132875Z",
     "shell.execute_reply": "2021-01-08T12:03:13.133336Z"
    },
    "id": "BlsfoMj3PvoT",
    "papermill": {
     "duration": 0.862345,
     "end_time": "2021-01-08T12:03:13.133462",
     "exception": false,
     "start_time": "2021-01-08T12:03:12.271117",
     "status": "completed"
    },
    "tags": []
   },
   "outputs": [],
   "source": [
    "rgb_channels= True\n",
    "normalize_image = True\n",
    "def pre_process_images(image):\n",
    "    image = np.vstack(image).reshape(-1, 96, 96, 1).astype(np.float32)\n",
    "    if rgb_channels:\n",
    "        image = np.repeat(image,3,-1)\n",
    "    if normalize_image == True:\n",
    "        image = image/255\n",
    "    return image"
   ]
  },
  {
   "cell_type": "code",
   "execution_count": 26,
   "metadata": {
    "execution": {
     "iopub.execute_input": "2021-01-08T12:03:14.864009Z",
     "iopub.status.busy": "2021-01-08T12:03:14.862958Z",
     "iopub.status.idle": "2021-01-08T12:03:14.866750Z",
     "shell.execute_reply": "2021-01-08T12:03:14.866023Z"
    },
    "id": "NsF-GdN6PvoU",
    "papermill": {
     "duration": 0.871663,
     "end_time": "2021-01-08T12:03:14.866897",
     "exception": false,
     "start_time": "2021-01-08T12:03:13.995234",
     "status": "completed"
    },
    "tags": []
   },
   "outputs": [],
   "source": [
    "missing_data = dic_missing_data[feature_name]"
   ]
  },
  {
   "cell_type": "code",
   "execution_count": 27,
   "metadata": {
    "execution": {
     "iopub.execute_input": "2021-01-08T12:03:16.627455Z",
     "iopub.status.busy": "2021-01-08T12:03:16.626606Z",
     "iopub.status.idle": "2021-01-08T12:03:16.630529Z",
     "shell.execute_reply": "2021-01-08T12:03:16.630051Z"
    },
    "id": "xgfXwWOMDj0N",
    "outputId": "c74688b4-7479-421a-9a07-3925a7096300",
    "papermill": {
     "duration": 0.87367,
     "end_time": "2021-01-08T12:03:16.630647",
     "exception": false,
     "start_time": "2021-01-08T12:03:15.756977",
     "status": "completed"
    },
    "tags": []
   },
   "outputs": [
    {
     "data": {
      "text/plain": [
       "4779"
      ]
     },
     "execution_count": 27,
     "metadata": {},
     "output_type": "execute_result"
    }
   ],
   "source": [
    "len(missing_data)"
   ]
  },
  {
   "cell_type": "code",
   "execution_count": 28,
   "metadata": {
    "execution": {
     "iopub.execute_input": "2021-01-08T12:03:18.526608Z",
     "iopub.status.busy": "2021-01-08T12:03:18.525641Z",
     "iopub.status.idle": "2021-01-08T12:03:18.829676Z",
     "shell.execute_reply": "2021-01-08T12:03:18.829112Z"
    },
    "id": "7janB8HOPvoU",
    "outputId": "5698bbf5-06b1-44d6-99e4-3920e4ea689a",
    "papermill": {
     "duration": 1.329281,
     "end_time": "2021-01-08T12:03:18.829791",
     "exception": false,
     "start_time": "2021-01-08T12:03:17.500510",
     "status": "completed"
    },
    "tags": []
   },
   "outputs": [
    {
     "name": "stdout",
     "output_type": "stream",
     "text": [
      "[[0.43842253 0.22430195]]\n",
      "[[37.46213  26.705778]]\n"
     ]
    },
    {
     "data": {
      "image/png": "[encoded data removed]",
      "text/plain": [
       "<Figure size 432x288 with 1 Axes>"
      ]
     },
     "metadata": {
      "needs_background": "light"
     },
     "output_type": "display_data"
    }
   ],
   "source": [
    "# take a random image and test on it\n",
    "l = np.random.randint(0, len(missing_data)-1)\n",
    "image = missing_data.iloc[l][\"Image\"]\n",
    "image = pre_process_images(image)\n",
    "predicted_y = model.predict(image)\n",
    "print(predicted_y)\n",
    "# uncomment in case we have used the scaling\n",
    "predicted_y[:,:1] = scalers_dict[feature_name+\"_x\"].inverse_transform(predicted_y[:,:1])\n",
    "predicted_y[:,1:] = scalers_dict[feature_name+\"_y\"].inverse_transform(predicted_y[:,1:])\n",
    "print(predicted_y)\n",
    "visualize_image(image.reshape(96,96,3)[:,:,0],None, predicted_y[0])"
   ]
  },
  {
   "cell_type": "markdown",
   "metadata": {
    "id": "eCtvSBv2PvoV",
    "papermill": {
     "duration": 0.878149,
     "end_time": "2021-01-08T12:03:20.629472",
     "exception": false,
     "start_time": "2021-01-08T12:03:19.751323",
     "status": "completed"
    },
    "tags": []
   },
   "source": [
    "#### **Save model**"
   ]
  },
  {
   "cell_type": "code",
   "execution_count": 29,
   "metadata": {
    "execution": {
     "iopub.execute_input": "2021-01-08T12:03:22.396766Z",
     "iopub.status.busy": "2021-01-08T12:03:22.386712Z",
     "iopub.status.idle": "2021-01-08T12:03:22.773644Z",
     "shell.execute_reply": "2021-01-08T12:03:22.772533Z"
    },
    "id": "PHDvP_QL39lh",
    "papermill": {
     "duration": 1.275356,
     "end_time": "2021-01-08T12:03:22.773773",
     "exception": false,
     "start_time": "2021-01-08T12:03:21.498417",
     "status": "completed"
    },
    "tags": []
   },
   "outputs": [],
   "source": [
    "# save model and architecture to single file\n",
    "model.save(model_path)"
   ]
  },
  {
   "cell_type": "code",
   "execution_count": null,
   "metadata": {
    "id": "ERAMk1EHPvoX",
    "papermill": {
     "duration": 0.849278,
     "end_time": "2021-01-08T12:03:24.482018",
     "exception": false,
     "start_time": "2021-01-08T12:03:23.632740",
     "status": "completed"
    },
    "tags": []
   },
   "outputs": [],
   "source": []
  },
  {
   "cell_type": "code",
   "execution_count": null,
   "metadata": {
    "papermill": {
     "duration": 0.848382,
     "end_time": "2021-01-08T12:03:26.189713",
     "exception": false,
     "start_time": "2021-01-08T12:03:25.341331",
     "status": "completed"
    },
    "tags": []
   },
   "outputs": [],
   "source": []
  }
 ],
 "metadata": {
  "kernelspec": {
   "display_name": "Python 3",
   "language": "python",
   "name": "python3"
  },
  "language_info": {
   "codemirror_mode": {
    "name": "ipython",
    "version": 3
   },
   "file_extension": ".py",
   "mimetype": "text/x-python",
   "name": "python",
   "nbconvert_exporter": "python",
   "pygments_lexer": "ipython3",
   "version": "3.7.6"
  },
  "papermill": {
   "duration": 250.209276,
   "end_time": "2021-01-08T12:03:28.780361",
   "environment_variables": {},
   "exception": null,
   "input_path": "__notebook__.ipynb",
   "output_path": "__notebook__.ipynb",
   "parameters": {},
   "start_time": "2021-01-08T11:59:18.571085",
   "version": "2.1.0"
  }
 },
 "nbformat": 4,
 "nbformat_minor": 4
}
