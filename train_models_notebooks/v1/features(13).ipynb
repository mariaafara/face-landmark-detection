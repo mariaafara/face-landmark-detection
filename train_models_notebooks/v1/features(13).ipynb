{
 "cells": [
  {
   "cell_type": "code",
   "execution_count": 1,
   "metadata": {
    "execution": {
     "iopub.execute_input": "2021-01-08T15:38:30.849345Z",
     "iopub.status.busy": "2021-01-08T15:38:30.848486Z",
     "iopub.status.idle": "2021-01-08T15:38:30.851057Z",
     "shell.execute_reply": "2021-01-08T15:38:30.851490Z"
    },
    "id": "mt9t-79OPvng",
    "papermill": {
     "duration": 0.036337,
     "end_time": "2021-01-08T15:38:30.851655",
     "exception": false,
     "start_time": "2021-01-08T15:38:30.815318",
     "status": "completed"
    },
    "tags": []
   },
   "outputs": [],
   "source": [
    "feature_index = 13"
   ]
  },
  {
   "cell_type": "code",
   "execution_count": 2,
   "metadata": {
    "execution": {
     "iopub.execute_input": "2021-01-08T15:38:30.910503Z",
     "iopub.status.busy": "2021-01-08T15:38:30.909644Z",
     "iopub.status.idle": "2021-01-08T15:38:30.912555Z",
     "shell.execute_reply": "2021-01-08T15:38:30.912046Z"
    },
    "id": "29LaKxCh-Em7",
    "papermill": {
     "duration": 0.033509,
     "end_time": "2021-01-08T15:38:30.912645",
     "exception": false,
     "start_time": "2021-01-08T15:38:30.879136",
     "status": "completed"
    },
    "tags": []
   },
   "outputs": [],
   "source": [
    "# import os\n",
    "# os.environ['KAGGLE_USERNAME'] = \"mariaafara\" # username from the json file\n",
    "# os.environ['KAGGLE_KEY'] = \"25755ae03c0b83042774e5e0d15b886e\" # key from the json file\n",
    "#Crearting a Client to host the Kaggle API\n",
    "# !pip install -q kaggle\n",
    "# !kaggle datasets download mariaafara/Facial-Landmarks\n",
    "# !unzip Facial-Landmarks.zip -d facial-keypoints-detection"
   ]
  },
  {
   "cell_type": "code",
   "execution_count": 3,
   "metadata": {
    "execution": {
     "iopub.execute_input": "2021-01-08T15:38:30.975753Z",
     "iopub.status.busy": "2021-01-08T15:38:30.974960Z",
     "iopub.status.idle": "2021-01-08T15:38:36.305339Z",
     "shell.execute_reply": "2021-01-08T15:38:36.304392Z"
    },
    "id": "3f3roaNK6hfZ",
    "papermill": {
     "duration": 5.365379,
     "end_time": "2021-01-08T15:38:36.305508",
     "exception": false,
     "start_time": "2021-01-08T15:38:30.940129",
     "status": "completed"
    },
    "tags": []
   },
   "outputs": [],
   "source": [
    "import numpy as np\n",
    "import pandas as pd\n",
    "import math\n",
    "import random\n",
    "import seaborn as sns\n",
    "import matplotlib.pyplot as plt\n",
    "import tensorflow as tf\n",
    "import tensorflow.keras as keras\n",
    "from tensorflow.keras.models import Sequential\n",
    "from tensorflow.keras.layers import Dense, Dropout, Flatten, Input, Conv2D, MaxPooling2D, GlobalAveragePooling2D, BatchNormalization\n",
    "from sklearn.model_selection import train_test_split\n",
    "from sklearn import preprocessing\n",
    "from sklearn.preprocessing import MinMaxScaler\n",
    "from tensorflow.keras import optimizers\n",
    "from IPython.display import clear_output\n",
    "pd.options.mode.chained_assignment = None  # default='warn'\n"
   ]
  },
  {
   "cell_type": "code",
   "execution_count": 4,
   "metadata": {
    "execution": {
     "iopub.execute_input": "2021-01-08T15:38:36.390623Z",
     "iopub.status.busy": "2021-01-08T15:38:36.388178Z",
     "iopub.status.idle": "2021-01-08T15:38:36.391671Z",
     "shell.execute_reply": "2021-01-08T15:38:36.392494Z"
    },
    "id": "9_E22cct-EnI",
    "papermill": {
     "duration": 0.047708,
     "end_time": "2021-01-08T15:38:36.392709",
     "exception": false,
     "start_time": "2021-01-08T15:38:36.345001",
     "status": "completed"
    },
    "tags": []
   },
   "outputs": [],
   "source": [
    "train_data_path = \"/kaggle/input/facial-landmarks/dic_train_data.pkl\"\n",
    "missing_data_path = \"/kaggle/input/facial-landmarks/dic_missing_data.pkl\"\n",
    "# train_data_path = \"data/dic_train_data.pkl\"\n",
    "# missing_data_path = \"data/dic_missing_data.pkl\""
   ]
  },
  {
   "cell_type": "code",
   "execution_count": 5,
   "metadata": {
    "execution": {
     "iopub.execute_input": "2021-01-08T15:38:36.486163Z",
     "iopub.status.busy": "2021-01-08T15:38:36.485273Z",
     "iopub.status.idle": "2021-01-08T15:38:43.569497Z",
     "shell.execute_reply": "2021-01-08T15:38:43.568932Z"
    },
    "id": "9iJTuxj_kNfQ",
    "papermill": {
     "duration": 7.132501,
     "end_time": "2021-01-08T15:38:43.569657",
     "exception": false,
     "start_time": "2021-01-08T15:38:36.437156",
     "status": "completed"
    },
    "tags": []
   },
   "outputs": [],
   "source": [
    "import pickle as pkl\n",
    "\n",
    "dic_train_data = pkl.load(open(train_data_path,\"rb\"))\n",
    "dic_missing_data = pkl.load(open(missing_data_path,\"rb\"))"
   ]
  },
  {
   "cell_type": "code",
   "execution_count": 6,
   "metadata": {
    "execution": {
     "iopub.execute_input": "2021-01-08T15:38:43.636419Z",
     "iopub.status.busy": "2021-01-08T15:38:43.635607Z",
     "iopub.status.idle": "2021-01-08T15:38:43.639803Z",
     "shell.execute_reply": "2021-01-08T15:38:43.640288Z"
    },
    "id": "6TdjVdwEPvny",
    "outputId": "c49a7d54-3444-4bef-f242-751e108f21f3",
    "papermill": {
     "duration": 0.041434,
     "end_time": "2021-01-08T15:38:43.640484",
     "exception": false,
     "start_time": "2021-01-08T15:38:43.599050",
     "status": "completed"
    },
    "tags": []
   },
   "outputs": [
    {
     "data": {
      "text/plain": [
       "['left_eye_center',\n",
       " 'right_eye_center',\n",
       " 'left_eye_inner_corner',\n",
       " 'left_eye_outer_corner',\n",
       " 'right_eye_inner_corner',\n",
       " 'right_eye_outer_corner',\n",
       " 'left_eyebrow_inner_end',\n",
       " 'left_eyebrow_outer_end',\n",
       " 'right_eyebrow_inner_end',\n",
       " 'right_eyebrow_outer_end',\n",
       " 'mouth_left_corner',\n",
       " 'mouth_right_corner',\n",
       " 'mouth_center_top_lip',\n",
       " 'mouth_center_bottom_lip']"
      ]
     },
     "execution_count": 6,
     "metadata": {},
     "output_type": "execute_result"
    }
   ],
   "source": [
    "features = list(dic_train_data.keys())\n",
    "features"
   ]
  },
  {
   "cell_type": "code",
   "execution_count": 7,
   "metadata": {
    "execution": {
     "iopub.execute_input": "2021-01-08T15:38:43.705273Z",
     "iopub.status.busy": "2021-01-08T15:38:43.704360Z",
     "iopub.status.idle": "2021-01-08T15:38:43.709303Z",
     "shell.execute_reply": "2021-01-08T15:38:43.708805Z"
    },
    "id": "ydLdeD8YPvn1",
    "outputId": "f34d38aa-b9d9-4a29-f689-35bd6a3aa98e",
    "papermill": {
     "duration": 0.038745,
     "end_time": "2021-01-08T15:38:43.709392",
     "exception": false,
     "start_time": "2021-01-08T15:38:43.670647",
     "status": "completed"
    },
    "tags": []
   },
   "outputs": [
    {
     "data": {
      "text/plain": [
       "'mouth_center_bottom_lip'"
      ]
     },
     "execution_count": 7,
     "metadata": {},
     "output_type": "execute_result"
    }
   ],
   "source": [
    "feature_name = features[feature_index]\n",
    "feature_name"
   ]
  },
  {
   "cell_type": "code",
   "execution_count": 8,
   "metadata": {
    "execution": {
     "iopub.execute_input": "2021-01-08T15:38:43.775940Z",
     "iopub.status.busy": "2021-01-08T15:38:43.774008Z",
     "iopub.status.idle": "2021-01-08T15:38:43.776620Z",
     "shell.execute_reply": "2021-01-08T15:38:43.777089Z"
    },
    "id": "APi2VVkKQFOm",
    "papermill": {
     "duration": 0.037233,
     "end_time": "2021-01-08T15:38:43.777192",
     "exception": false,
     "start_time": "2021-01-08T15:38:43.739959",
     "status": "completed"
    },
    "tags": []
   },
   "outputs": [],
   "source": [
    "scalers_path = feature_name+\"_scalers_dict.pkl\"\n",
    "model_path = feature_name+\".h5\"\n",
    "\n",
    "# scalers_path = \"data/\"+feature_name+\"_scalers_dict.pkl\"\n",
    "# model_path = \"models/\"+feature_name+\".h5\""
   ]
  },
  {
   "cell_type": "code",
   "execution_count": 9,
   "metadata": {
    "execution": {
     "iopub.execute_input": "2021-01-08T15:38:43.856891Z",
     "iopub.status.busy": "2021-01-08T15:38:43.856078Z",
     "iopub.status.idle": "2021-01-08T15:38:44.853019Z",
     "shell.execute_reply": "2021-01-08T15:38:44.853577Z"
    },
    "id": "UHAb9cCEPvn3",
    "outputId": "cdb32799-3d8e-4470-e682-c8b1a792037b",
    "papermill": {
     "duration": 1.045942,
     "end_time": "2021-01-08T15:38:44.853722",
     "exception": false,
     "start_time": "2021-01-08T15:38:43.807780",
     "status": "completed"
    },
    "tags": []
   },
   "outputs": [
    {
     "data": {
      "text/html": [
       "<div>\n",
       "<style scoped>\n",
       "    .dataframe tbody tr th:only-of-type {\n",
       "        vertical-align: middle;\n",
       "    }\n",
       "\n",
       "    .dataframe tbody tr th {\n",
       "        vertical-align: top;\n",
       "    }\n",
       "\n",
       "    .dataframe thead th {\n",
       "        text-align: right;\n",
       "    }\n",
       "</style>\n",
       "<table border=\"1\" class=\"dataframe\">\n",
       "  <thead>\n",
       "    <tr style=\"text-align: right;\">\n",
       "      <th></th>\n",
       "      <th>mouth_center_bottom_lip_x</th>\n",
       "      <th>mouth_center_bottom_lip_y</th>\n",
       "      <th>Image</th>\n",
       "    </tr>\n",
       "  </thead>\n",
       "  <tbody>\n",
       "    <tr>\n",
       "      <th>0</th>\n",
       "      <td>43.130707</td>\n",
       "      <td>84.485774</td>\n",
       "      <td>[[238, 236, 237, 238, 240, 240, 239, 241, 241,...</td>\n",
       "    </tr>\n",
       "    <tr>\n",
       "      <th>1</th>\n",
       "      <td>45.467915</td>\n",
       "      <td>85.480170</td>\n",
       "      <td>[[219, 215, 204, 196, 204, 211, 212, 200, 180,...</td>\n",
       "    </tr>\n",
       "    <tr>\n",
       "      <th>2</th>\n",
       "      <td>47.274947</td>\n",
       "      <td>78.659368</td>\n",
       "      <td>[[144, 142, 159, 180, 188, 188, 184, 180, 167,...</td>\n",
       "    </tr>\n",
       "    <tr>\n",
       "      <th>3</th>\n",
       "      <td>51.561183</td>\n",
       "      <td>78.268383</td>\n",
       "      <td>[[193, 192, 193, 194, 194, 194, 193, 192, 168,...</td>\n",
       "    </tr>\n",
       "    <tr>\n",
       "      <th>4</th>\n",
       "      <td>44.227141</td>\n",
       "      <td>86.871166</td>\n",
       "      <td>[[147, 148, 160, 196, 215, 214, 216, 217, 219,...</td>\n",
       "    </tr>\n",
       "  </tbody>\n",
       "</table>\n",
       "</div>"
      ],
      "text/plain": [
       "   mouth_center_bottom_lip_x  mouth_center_bottom_lip_y  \\\n",
       "0                  43.130707                  84.485774   \n",
       "1                  45.467915                  85.480170   \n",
       "2                  47.274947                  78.659368   \n",
       "3                  51.561183                  78.268383   \n",
       "4                  44.227141                  86.871166   \n",
       "\n",
       "                                               Image  \n",
       "0  [[238, 236, 237, 238, 240, 240, 239, 241, 241,...  \n",
       "1  [[219, 215, 204, 196, 204, 211, 212, 200, 180,...  \n",
       "2  [[144, 142, 159, 180, 188, 188, 184, 180, 167,...  \n",
       "3  [[193, 192, 193, 194, 194, 194, 193, 192, 168,...  \n",
       "4  [[147, 148, 160, 196, 215, 214, 216, 217, 219,...  "
      ]
     },
     "execution_count": 9,
     "metadata": {},
     "output_type": "execute_result"
    }
   ],
   "source": [
    "dic_train_data[feature_name].head()"
   ]
  },
  {
   "cell_type": "markdown",
   "metadata": {
    "id": "Ys-qr2X5WKAR",
    "papermill": {
     "duration": 0.029475,
     "end_time": "2021-01-08T15:38:44.913314",
     "exception": false,
     "start_time": "2021-01-08T15:38:44.883839",
     "status": "completed"
    },
    "tags": []
   },
   "source": [
    "#### **Create custom Data Generator**\n",
    "\n",
    "**We will build a data generator that will load mini-batches and feed to the model dynamically**"
   ]
  },
  {
   "cell_type": "code",
   "execution_count": 10,
   "metadata": {
    "execution": {
     "iopub.execute_input": "2021-01-08T15:38:45.059387Z",
     "iopub.status.busy": "2021-01-08T15:38:45.048890Z",
     "iopub.status.idle": "2021-01-08T15:38:45.069180Z",
     "shell.execute_reply": "2021-01-08T15:38:45.068700Z"
    },
    "id": "i8PX_Elb-VQz",
    "papermill": {
     "duration": 0.085306,
     "end_time": "2021-01-08T15:38:45.069291",
     "exception": false,
     "start_time": "2021-01-08T15:38:44.983985",
     "status": "completed"
    },
    "tags": []
   },
   "outputs": [],
   "source": [
    "class DataGenerator(tf.keras.utils.Sequence):\n",
    "    def __init__(self, df, batch_size=32, rgb_channels=True, shuffle=True, augment=True, normalize_image=True, normalize_coordinates=False, scalers=None):\n",
    "        self.df = df\n",
    "        self.batch_size = batch_size\n",
    "        self.size = df.shape[0]\n",
    "        self.shuffle = shuffle\n",
    "        self.augment = augment\n",
    "        # Keras pre-trained models have trained on color images and if we want to use grayscale images we can still use these pre-trained models by repeating the grayscale image over three channels\n",
    "        self.rgb_channels = rgb_channels\n",
    "        self.normalize_image = normalize_image\n",
    "        self.normalize_coordinates = normalize_coordinates\n",
    "        self.scalers = scalers\n",
    "        self.feature_columns = df.columns.tolist()[:-1]\n",
    "        #  To keep track on which pairs of landmarks to be swapped, we introduce a dictionary recording the original and new landmark's index\n",
    "        self.left_right_dic = {'right_eye_center_x' : 'left_eye_center_x' ,\n",
    "                'right_eye_center_y' : 'left_eye_center_y' ,\n",
    "                'right_eye_inner_corner_x' : 'left_eye_inner_corner_x' ,\n",
    "                'right_eye_inner_corner_y' : 'left_eye_inner_corner_y' ,\n",
    "                'right_eye_outer_corner_x' : 'left_eye_outer_corner_x' ,\n",
    "                'right_eye_outer_corner_y' : 'left_eye_outer_corner_y' ,\n",
    "                'right_eyebrow_inner_end_x' : 'left_eyebrow_inner_end_x' ,\n",
    "                'right_eyebrow_inner_end_y' : 'left_eyebrow_inner_end_y' ,\n",
    "                'right_eyebrow_outer_end_x' : 'left_eyebrow_outer_end_x' ,\n",
    "                'right_eyebrow_outer_end_y' : 'left_eyebrow_outer_end_y' ,\n",
    "                'mouth_right_corner_x' : 'mouth_left_corner_x' ,\n",
    "                'mouth_right_corner_y' : 'mouth_left_corner_y' }\n",
    "        self.on_epoch_end()\n",
    "\n",
    "    def __len__(self):\n",
    "        'Denotes the number of batches per epoch'\n",
    "        return self.size // self.batch_size\n",
    "\n",
    "    def on_epoch_end(self):\n",
    "        'Updates indexes after each epoch'\n",
    "        self.indexes = np.arange(self.size)\n",
    "        if self.shuffle:\n",
    "            np.random.shuffle(self.indexes)\n",
    "\n",
    "    def __getitem__(self, index):\n",
    "        # selects indices of data for next batch`\n",
    "        indexes = self.indexes[index * self.batch_size : (index + 1) * self.batch_size]\n",
    "        'Generate one batch of data'\n",
    "        batched_df = self.df.iloc[indexes] #.sample(frac=1).reset_index(drop=True)\n",
    "\n",
    "        if self.augment == True:\n",
    "            df_batch = self.augmentor(batched_df)\n",
    "        else:\n",
    "            df_batch = batched_df\n",
    "\n",
    "\n",
    "        batched_images = np.vstack(df_batch[\"Image\"].values).reshape(-1, 96, 96, 1).astype(np.float32)\n",
    "        \n",
    "        if self.rgb_channels:\n",
    "            batched_images = np.repeat(batched_images,3,-1)\n",
    "\n",
    "        batched_feature_corrdinates = df_batch.iloc[:,:-1]\n",
    "        \n",
    "        if self.normalize_coordinates:\n",
    "            for col in self.feature_columns:\n",
    "                scaler = self.scalers[col]\n",
    "                batched_feature_corrdinates[col] = scaler.transform(batched_feature_corrdinates[col].to_numpy().reshape(-1, 1)).reshape(-1)\n",
    "\n",
    "        batched_feature_corrdinates = batched_feature_corrdinates.values.astype(np.float32) #feature coordinates        \n",
    "\n",
    "        if self.normalize_image == True:\n",
    "            batched_images = batched_images/255\n",
    "\n",
    "        return batched_images, batched_feature_corrdinates\n",
    "\n",
    "    def augmentor(self, df):\n",
    "\n",
    "        def flip_horizontally(row):\n",
    "            'Method that flips the image horizontally and swaps the features' \n",
    "            row[\"Image\"] = np.flip(row[\"Image\"], axis = 1)\n",
    "            # y coordinates values will stay the same while the x coordinates will have to be changed\n",
    "            # subtract our initial x-coordinate values from width of the image(96)\n",
    "            for i in range(len(self.feature_columns)):#+1\n",
    "                if i%2 == 0: # because there is always x coordinate then y corrdinate\n",
    "                    row[self.feature_columns[i]] = 96. - row[self.feature_columns[i]]\n",
    "            # swap\n",
    "            rights = [a for a in self.feature_columns if \"right\" in a.split(\"_\")]\n",
    "            for col_r in rights:\n",
    "                col_l = self.left_right_dic[col_r]\n",
    "                temp = row[col_l] \n",
    "                row[col_l] = row[col_r]\n",
    "                row[col_r] = temp\n",
    "            return row\n",
    "\n",
    "        def increase_brightness(image):\n",
    "            'Method that randomly increase images brightness'      \n",
    "            # Multiply pixel values by random values between 1 and 1.5 to increase the brightness of the image\n",
    "            # Clip the value between 0 and 255\n",
    "            image = np.clip(random.uniform(1, 1.5) * image, 0.0, 255.0)\n",
    "            return image\n",
    "\n",
    "        def decrease_brightness(image):\n",
    "            'Method that randomly decrease images brightness'\n",
    "            # Multiply pixel values by random values between 0 and 0.1 to decrease the brightness of the image\n",
    "            # Clip the value between 0 and 255\n",
    "            image = np.clip(random.uniform(0, 0.1) * image, 0.0, 255.0)\n",
    "            return image\n",
    "\n",
    "        def augment(row):\n",
    "        # if we have more than one feature allow flipping\n",
    "            if len(self.feature_columns)>2:\n",
    "                if row[\"augment_flip\"]==1:\n",
    "                    row =  flip_horizontally(row)\n",
    "            if row[\"augment_inc_b\"]:\n",
    "                row[\"Image\"] = increase_brightness(row[\"Image\"])\n",
    "            if row[\"augment_dec_b\"]:\n",
    "                row[\"Image\"] = decrease_brightness(row[\"Image\"])\n",
    "            return row\n",
    "\n",
    "      # generate random boolean for augmentation types \n",
    "        df[\"augment_flip\"] = [random.getrandbits(1) for i in range(len(df))]\n",
    "        df[\"augment_inc_b\"] = [random.getrandbits(1) for i in range(len(df))]\n",
    "        df[\"augment_dec_b\"] = [random.getrandbits(1) for i in range(len(df))]\n",
    "        # df = df.apply(lambda row : augment(row), axis=1)\n",
    "        df = df.apply(augment, axis=1)\n",
    "        df.drop(['augment_flip', 'augment_inc_b', 'augment_dec_b'], axis=1, inplace=True)\n",
    "        return df\n"
   ]
  },
  {
   "cell_type": "code",
   "execution_count": 11,
   "metadata": {
    "execution": {
     "iopub.execute_input": "2021-01-08T15:38:45.139659Z",
     "iopub.status.busy": "2021-01-08T15:38:45.138230Z",
     "iopub.status.idle": "2021-01-08T15:38:45.140812Z",
     "shell.execute_reply": "2021-01-08T15:38:45.141311Z"
    },
    "id": "68VI4DWX-EnV",
    "papermill": {
     "duration": 0.041947,
     "end_time": "2021-01-08T15:38:45.141423",
     "exception": false,
     "start_time": "2021-01-08T15:38:45.099476",
     "status": "completed"
    },
    "tags": []
   },
   "outputs": [],
   "source": [
    "def visualize_image(x, y=None, y_predicted=None):\n",
    "  # x-coordinates are in even columns like 0,2,4,.. and y-coordinates are in odd columns like 1,3,5,..\n",
    "    plt.figure()\n",
    "    plt.imshow(x, cmap='gray')\n",
    "    if y is not None:\n",
    "        f = y.shape[0]\n",
    "        for j in range(0,f,2):\n",
    "            plt.plot(y[j], y[j+1], 'X', color='blue', label='actual')\n",
    "    if y_predicted is not None:\n",
    "        f = y_predicted.shape[0]\n",
    "        for j in range(0,f,2):\n",
    "            plt.plot(y_predicted[j], y_predicted[j+1], 'X', color='red', label='predicted')\n",
    "    plt.legend()"
   ]
  },
  {
   "cell_type": "markdown",
   "metadata": {
    "id": "eX1dSeiRCUUE",
    "papermill": {
     "duration": 0.030404,
     "end_time": "2021-01-08T15:38:45.202859",
     "exception": false,
     "start_time": "2021-01-08T15:38:45.172455",
     "status": "completed"
    },
    "tags": []
   },
   "source": [
    "Lets try the data generator and visuilize some images"
   ]
  },
  {
   "cell_type": "markdown",
   "metadata": {
    "id": "cdehN9mvIsan",
    "papermill": {
     "duration": 0.029606,
     "end_time": "2021-01-08T15:38:45.262550",
     "exception": false,
     "start_time": "2021-01-08T15:38:45.232944",
     "status": "completed"
    },
    "tags": []
   },
   "source": [
    "### Part 1.3  Building a Prediction model for a feature"
   ]
  },
  {
   "cell_type": "markdown",
   "metadata": {
    "id": "ph_UEDMwcEvX",
    "papermill": {
     "duration": 0.029697,
     "end_time": "2021-01-08T15:38:45.322444",
     "exception": false,
     "start_time": "2021-01-08T15:38:45.292747",
     "status": "completed"
    },
    "tags": []
   },
   "source": [
    "#### **Prepare data generators to train the model**"
   ]
  },
  {
   "cell_type": "markdown",
   "metadata": {
    "id": "ACe1Z0-GvdBs",
    "papermill": {
     "duration": 0.029457,
     "end_time": "2021-01-08T15:38:45.381533",
     "exception": false,
     "start_time": "2021-01-08T15:38:45.352076",
     "status": "completed"
    },
    "tags": []
   },
   "source": [
    "##### **Split the data into train and test**"
   ]
  },
  {
   "cell_type": "code",
   "execution_count": 12,
   "metadata": {
    "execution": {
     "iopub.execute_input": "2021-01-08T15:38:45.452294Z",
     "iopub.status.busy": "2021-01-08T15:38:45.451552Z",
     "iopub.status.idle": "2021-01-08T15:38:45.456997Z",
     "shell.execute_reply": "2021-01-08T15:38:45.456319Z"
    },
    "id": "Wz9DPZKppGXK",
    "outputId": "316ac4e0-0178-4692-e984-204c6ff49f72",
    "papermill": {
     "duration": 0.045706,
     "end_time": "2021-01-08T15:38:45.457114",
     "exception": false,
     "start_time": "2021-01-08T15:38:45.411408",
     "status": "completed"
    },
    "tags": []
   },
   "outputs": [
    {
     "name": "stdout",
     "output_type": "stream",
     "text": [
      "(7016, 3) (5612, 3) (1404, 3)\n"
     ]
    }
   ],
   "source": [
    "df = dic_train_data[feature_name]\n",
    "# Split the data into training and testing data\n",
    "df_train, df_test = train_test_split(df, test_size = 0.2, random_state=None)\n",
    "print(df.shape, df_train.shape, df_test.shape)"
   ]
  },
  {
   "cell_type": "code",
   "execution_count": 13,
   "metadata": {
    "execution": {
     "iopub.execute_input": "2021-01-08T15:38:45.539864Z",
     "iopub.status.busy": "2021-01-08T15:38:45.529600Z",
     "iopub.status.idle": "2021-01-08T15:38:46.503324Z",
     "shell.execute_reply": "2021-01-08T15:38:46.503834Z"
    },
    "id": "iJ7K_1lndPKu",
    "outputId": "abda56ba-925c-43d9-ac1c-512dcbb269f6",
    "papermill": {
     "duration": 1.016056,
     "end_time": "2021-01-08T15:38:46.503967",
     "exception": false,
     "start_time": "2021-01-08T15:38:45.487911",
     "status": "completed"
    },
    "tags": []
   },
   "outputs": [
    {
     "data": {
      "text/html": [
       "<div>\n",
       "<style scoped>\n",
       "    .dataframe tbody tr th:only-of-type {\n",
       "        vertical-align: middle;\n",
       "    }\n",
       "\n",
       "    .dataframe tbody tr th {\n",
       "        vertical-align: top;\n",
       "    }\n",
       "\n",
       "    .dataframe thead th {\n",
       "        text-align: right;\n",
       "    }\n",
       "</style>\n",
       "<table border=\"1\" class=\"dataframe\">\n",
       "  <thead>\n",
       "    <tr style=\"text-align: right;\">\n",
       "      <th></th>\n",
       "      <th>mouth_center_bottom_lip_x</th>\n",
       "      <th>mouth_center_bottom_lip_y</th>\n",
       "      <th>Image</th>\n",
       "    </tr>\n",
       "  </thead>\n",
       "  <tbody>\n",
       "    <tr>\n",
       "      <th>3899</th>\n",
       "      <td>42.381700</td>\n",
       "      <td>80.060088</td>\n",
       "      <td>[[23, 21, 17, 17, 18, 21, 23, 20, 19, 24, 25, ...</td>\n",
       "    </tr>\n",
       "    <tr>\n",
       "      <th>5880</th>\n",
       "      <td>51.597645</td>\n",
       "      <td>73.714048</td>\n",
       "      <td>[[72, 71, 66, 59, 50, 45, 43, 44, 48, 57, 62, ...</td>\n",
       "    </tr>\n",
       "    <tr>\n",
       "      <th>3331</th>\n",
       "      <td>46.005433</td>\n",
       "      <td>76.930158</td>\n",
       "      <td>[[61, 61, 61, 61, 60, 60, 60, 59, 59, 58, 59, ...</td>\n",
       "    </tr>\n",
       "    <tr>\n",
       "      <th>6139</th>\n",
       "      <td>46.144048</td>\n",
       "      <td>80.938460</td>\n",
       "      <td>[[30, 30, 32, 39, 47, 56, 63, 67, 68, 69, 71, ...</td>\n",
       "    </tr>\n",
       "    <tr>\n",
       "      <th>7038</th>\n",
       "      <td>45.154508</td>\n",
       "      <td>76.317146</td>\n",
       "      <td>[[59, 55, 59, 65, 93, 145, 185, 201, 205, 204,...</td>\n",
       "    </tr>\n",
       "  </tbody>\n",
       "</table>\n",
       "</div>"
      ],
      "text/plain": [
       "      mouth_center_bottom_lip_x  mouth_center_bottom_lip_y  \\\n",
       "3899                  42.381700                  80.060088   \n",
       "5880                  51.597645                  73.714048   \n",
       "3331                  46.005433                  76.930158   \n",
       "6139                  46.144048                  80.938460   \n",
       "7038                  45.154508                  76.317146   \n",
       "\n",
       "                                                  Image  \n",
       "3899  [[23, 21, 17, 17, 18, 21, 23, 20, 19, 24, 25, ...  \n",
       "5880  [[72, 71, 66, 59, 50, 45, 43, 44, 48, 57, 62, ...  \n",
       "3331  [[61, 61, 61, 61, 60, 60, 60, 59, 59, 58, 59, ...  \n",
       "6139  [[30, 30, 32, 39, 47, 56, 63, 67, 68, 69, 71, ...  \n",
       "7038  [[59, 55, 59, 65, 93, 145, 185, 201, 205, 204,...  "
      ]
     },
     "execution_count": 13,
     "metadata": {},
     "output_type": "execute_result"
    }
   ],
   "source": [
    "df_train.head()"
   ]
  },
  {
   "cell_type": "markdown",
   "metadata": {
    "id": "Zo9gt1mXu2fd",
    "papermill": {
     "duration": 0.048851,
     "end_time": "2021-01-08T15:38:46.597855",
     "exception": false,
     "start_time": "2021-01-08T15:38:46.549004",
     "status": "completed"
    },
    "tags": []
   },
   "source": [
    "##### **Build scalers for normalizing feature data**"
   ]
  },
  {
   "cell_type": "code",
   "execution_count": 14,
   "metadata": {
    "execution": {
     "iopub.execute_input": "2021-01-08T15:38:46.709169Z",
     "iopub.status.busy": "2021-01-08T15:38:46.708307Z",
     "iopub.status.idle": "2021-01-08T15:38:46.718606Z",
     "shell.execute_reply": "2021-01-08T15:38:46.720478Z"
    },
    "id": "9t4-hf0gIeSw",
    "papermill": {
     "duration": 0.068161,
     "end_time": "2021-01-08T15:38:46.720671",
     "exception": false,
     "start_time": "2021-01-08T15:38:46.652510",
     "status": "completed"
    },
    "tags": []
   },
   "outputs": [],
   "source": [
    "scalers_dict = dict()\n",
    "for col in df.columns.tolist()[:-1]:\n",
    "    scaler = MinMaxScaler()\n",
    "    scaler.fit(df[col].to_numpy().reshape(-1, 1))\n",
    "    scalers_dict[col] = scaler\n",
    "\n",
    "\n",
    "\n",
    "pkl.dump(scalers_dict, open(scalers_path,\"wb\"))\n"
   ]
  },
  {
   "cell_type": "markdown",
   "metadata": {
    "id": "WZNeHGhxvnSH",
    "papermill": {
     "duration": 0.043911,
     "end_time": "2021-01-08T15:38:46.815749",
     "exception": false,
     "start_time": "2021-01-08T15:38:46.771838",
     "status": "completed"
    },
    "tags": []
   },
   "source": [
    "##### **Build train and validation data generators**"
   ]
  },
  {
   "cell_type": "code",
   "execution_count": 15,
   "metadata": {
    "execution": {
     "iopub.execute_input": "2021-01-08T15:38:46.910289Z",
     "iopub.status.busy": "2021-01-08T15:38:46.909543Z",
     "iopub.status.idle": "2021-01-08T15:38:46.914510Z",
     "shell.execute_reply": "2021-01-08T15:38:46.915197Z"
    },
    "id": "HERnPWEBc83D",
    "papermill": {
     "duration": 0.056391,
     "end_time": "2021-01-08T15:38:46.915353",
     "exception": false,
     "start_time": "2021-01-08T15:38:46.858962",
     "status": "completed"
    },
    "tags": []
   },
   "outputs": [],
   "source": [
    " \n",
    "train_generator = DataGenerator(df_train, batch_size=32, normalize_image=True, normalize_coordinates=True, scalers=scalers_dict)\n",
    "val_generator =  DataGenerator(df_test, batch_size=32,  augment=False, normalize_image=True,  normalize_coordinates=True,  scalers=train_generator.scalers)"
   ]
  },
  {
   "cell_type": "markdown",
   "metadata": {
    "id": "Ctn-Hf0Nc5p_",
    "papermill": {
     "duration": 0.05038,
     "end_time": "2021-01-08T15:38:47.010213",
     "exception": false,
     "start_time": "2021-01-08T15:38:46.959833",
     "status": "completed"
    },
    "tags": []
   },
   "source": [
    "#### **Build a Prediction model**"
   ]
  },
  {
   "cell_type": "code",
   "execution_count": 16,
   "metadata": {
    "execution": {
     "iopub.execute_input": "2021-01-08T15:38:47.108892Z",
     "iopub.status.busy": "2021-01-08T15:38:47.107910Z",
     "iopub.status.idle": "2021-01-08T15:38:47.149368Z",
     "shell.execute_reply": "2021-01-08T15:38:47.150465Z"
    },
    "id": "WHg8_6ZgPvoJ",
    "papermill": {
     "duration": 0.096075,
     "end_time": "2021-01-08T15:38:47.150654",
     "exception": false,
     "start_time": "2021-01-08T15:38:47.054579",
     "status": "completed"
    },
    "tags": []
   },
   "outputs": [],
   "source": [
    "from tensorflow.keras.applications import EfficientNetB0, VGG16\n",
    "\n",
    "def create_efficientNet(nbr_features):\n",
    "    inputs = tf.keras.Input(shape=(96, 96, 3))  \n",
    "    # This option include_top excludes the final Dense layer.\n",
    "    # This allows us to replace the top layer with custom layers which allows the use of  EfficientNet as a feature extractor in a transfer learning workflow\n",
    "    model = EfficientNetB0(include_top=False, input_tensor=inputs, weights=\"imagenet\")#, drop_connect_rate=0.1)\n",
    "    # Freeze the pretrained weights\n",
    "    model.trainable = False\n",
    "\n",
    "    # Rebuild top\n",
    "    x = GlobalAveragePooling2D()(model.output)    \n",
    "    x = BatchNormalization()(x)\n",
    "    x = Dropout(0.4)(x)\n",
    "    outputs = Dense(nbr_features,activation='relu')(x)\n",
    "\n",
    "    # Compile\n",
    "    model = keras.Model(inputs, outputs)\n",
    "    return model\n",
    "\n",
    "def create_vgg16(nbr_features):\n",
    "\n",
    "    #Get back the convolutional part of a VGG network trained on ImageNet\n",
    "    model = VGG16(weights='imagenet', include_top=False)\n",
    "    model.trainable = False\n",
    "    #Create your own input format (here 3x200x200)\n",
    "    inputs = Input(shape=(96,96,3))\n",
    "\n",
    "    #Use the generated model \n",
    "    output_vgg16 = model(inputs)\n",
    "\n",
    "    #Add the fully-connected layers \n",
    "    x = Flatten()(output_vgg16)\n",
    "    x = Dense(64, activation='relu')(x)\n",
    "    # x = Dense(32, activation='relu')(x)\n",
    "    outputs = Dense(nbr_features, activation='relu')(x)\n",
    "\n",
    "    #Create your own model \n",
    "    model = keras.Model(inputs=inputs, outputs=outputs)\n",
    "    return model\n",
    "\n",
    "\n",
    "def create_simple_model(nbr_features):\n",
    "  # vanillia CNN model\n",
    "    model = Sequential()\n",
    "    model.add(Conv2D(16, kernel_size=(5, 5), activation='relu', input_shape=(96, 96 , 1)))\n",
    "    model.add(MaxPooling2D(pool_size=(2, 2), strides=2))\n",
    "    model.add(Conv2D(48, (3, 3), activation='relu'))\n",
    "    model.add(MaxPooling2D(pool_size=(2, 2), strides=2))\n",
    "    model.add(Conv2D(64, (3, 3), activation='relu'))\n",
    "    model.add(MaxPooling2D(pool_size=(2, 2), strides=2))\n",
    "    model.add(Conv2D(64, (2, 2), activation='relu'))\n",
    "    model.add(Flatten())\n",
    "    model.add(Dense(100, activation='relu'))\n",
    "    model.add(Dense(nbr_features, activation='relu'))\n",
    "    return model\n"
   ]
  },
  {
   "cell_type": "code",
   "execution_count": 17,
   "metadata": {
    "execution": {
     "iopub.execute_input": "2021-01-08T15:38:47.326230Z",
     "iopub.status.busy": "2021-01-08T15:38:47.325177Z",
     "iopub.status.idle": "2021-01-08T15:38:52.858775Z",
     "shell.execute_reply": "2021-01-08T15:38:52.857897Z"
    },
    "id": "ofh5qnydxTwZ",
    "outputId": "07bd6fcc-e67a-409e-813c-a4d839c5966b",
    "papermill": {
     "duration": 5.59452,
     "end_time": "2021-01-08T15:38:52.858885",
     "exception": false,
     "start_time": "2021-01-08T15:38:47.264365",
     "status": "completed"
    },
    "tags": []
   },
   "outputs": [
    {
     "name": "stdout",
     "output_type": "stream",
     "text": [
      "Downloading data from https://storage.googleapis.com/keras-applications/efficientnetb0_notop.h5\n",
      "16711680/16705208 [==============================] - 0s 0us/step\n"
     ]
    }
   ],
   "source": [
    "nbr_features = 2\n",
    "# create the model\n",
    "model = create_efficientNet(nbr_features)\n",
    "# model = create_vgg16(nbr_features)"
   ]
  },
  {
   "cell_type": "markdown",
   "metadata": {
    "id": "cJ8vd7UwtrYg",
    "papermill": {
     "duration": 0.033989,
     "end_time": "2021-01-08T15:38:52.927471",
     "exception": false,
     "start_time": "2021-01-08T15:38:52.893482",
     "status": "completed"
    },
    "tags": []
   },
   "source": [
    "#### **Define custom loss and compile the model**"
   ]
  },
  {
   "cell_type": "code",
   "execution_count": 18,
   "metadata": {
    "execution": {
     "iopub.execute_input": "2021-01-08T15:38:53.165101Z",
     "iopub.status.busy": "2021-01-08T15:38:53.164128Z",
     "iopub.status.idle": "2021-01-08T15:38:53.172126Z",
     "shell.execute_reply": "2021-01-08T15:38:53.171639Z"
    },
    "id": "tXRRM-KrLjfE",
    "papermill": {
     "duration": 0.209029,
     "end_time": "2021-01-08T15:38:53.172232",
     "exception": false,
     "start_time": "2021-01-08T15:38:52.963203",
     "status": "completed"
    },
    "tags": []
   },
   "outputs": [],
   "source": [
    "import tensorflow.keras.backend as K\n",
    "\n",
    "def euclidean_distance_loss(y_true, y_pred):\n",
    "  #     Euclidean distance loss\n",
    "    return K.sqrt(K.sum(K.square(y_pred - y_true), axis=-1))\n",
    "\n",
    "def absolute_tanh(x):\n",
    "    return K.abs(K.tanh(x))\n",
    "\n",
    "# MeanAbsoluteError(), MeanAbsolutePercentageError()\n",
    "model.compile(loss=euclidean_distance_loss,\n",
    "              optimizer=keras.optimizers.Adam(learning_rate=1e-4),\n",
    "              )\n",
    "\n",
    "def unfreeze_model(model):\n",
    "    # We unfreeze the top 5 layers while leaving BatchNorm layers frozen\n",
    "    for layer in model.layers[-25:]:\n",
    "        if not isinstance(layer, keras.layers.BatchNormalization):\n",
    "            layer.trainable = True"
   ]
  },
  {
   "cell_type": "markdown",
   "metadata": {
    "id": "XOn3P3dcvy7T",
    "papermill": {
     "duration": 0.039686,
     "end_time": "2021-01-08T15:38:53.247278",
     "exception": false,
     "start_time": "2021-01-08T15:38:53.207592",
     "status": "completed"
    },
    "tags": []
   },
   "source": [
    "#### **Start training**"
   ]
  },
  {
   "cell_type": "code",
   "execution_count": 19,
   "metadata": {
    "execution": {
     "iopub.execute_input": "2021-01-08T15:38:53.344554Z",
     "iopub.status.busy": "2021-01-08T15:38:53.343955Z",
     "iopub.status.idle": "2021-01-08T15:47:32.993621Z",
     "shell.execute_reply": "2021-01-08T15:47:32.968420Z"
    },
    "id": "7AWepBFAc9LR",
    "outputId": "98eb52a4-9bf9-4246-baab-cd0b9085d99c",
    "papermill": {
     "duration": 519.70943,
     "end_time": "2021-01-08T15:47:32.993767",
     "exception": false,
     "start_time": "2021-01-08T15:38:53.284337",
     "status": "completed"
    },
    "tags": []
   },
   "outputs": [
    {
     "name": "stdout",
     "output_type": "stream",
     "text": [
      "Epoch 1/100\n",
      "175/175 [==============================] - 6s 35ms/step - loss: 0.6793 - val_loss: 0.6803\n",
      "Epoch 2/100\n",
      "175/175 [==============================] - 5s 28ms/step - loss: 0.5780 - val_loss: 0.5669\n",
      "Epoch 3/100\n",
      "175/175 [==============================] - 5s 27ms/step - loss: 0.5660 - val_loss: 0.4680\n",
      "Epoch 4/100\n",
      "175/175 [==============================] - 5s 31ms/step - loss: 0.5465 - val_loss: 0.4030\n",
      "Epoch 5/100\n",
      "175/175 [==============================] - 5s 27ms/step - loss: 0.5302 - val_loss: 0.4328\n",
      "Epoch 6/100\n",
      "175/175 [==============================] - 5s 28ms/step - loss: 0.5247 - val_loss: 0.3788\n",
      "Epoch 7/100\n",
      "175/175 [==============================] - 5s 27ms/step - loss: 0.5099 - val_loss: 0.3885\n",
      "Epoch 8/100\n",
      "175/175 [==============================] - 5s 28ms/step - loss: 0.4910 - val_loss: 0.3551\n",
      "Epoch 9/100\n",
      "175/175 [==============================] - 5s 27ms/step - loss: 0.4805 - val_loss: 0.3054\n",
      "Epoch 10/100\n",
      "175/175 [==============================] - 6s 32ms/step - loss: 0.4687 - val_loss: 0.3185\n",
      "Epoch 11/100\n",
      "175/175 [==============================] - 6s 33ms/step - loss: 0.4483 - val_loss: 0.2788\n",
      "Epoch 12/100\n",
      "175/175 [==============================] - 5s 27ms/step - loss: 0.4369 - val_loss: 0.2817\n",
      "Epoch 13/100\n",
      "175/175 [==============================] - 5s 28ms/step - loss: 0.4304 - val_loss: 0.2525\n",
      "Epoch 14/100\n",
      "175/175 [==============================] - 5s 26ms/step - loss: 0.4075 - val_loss: 0.2303\n",
      "Epoch 15/100\n",
      "175/175 [==============================] - 5s 28ms/step - loss: 0.3948 - val_loss: 0.1893\n",
      "Epoch 16/100\n",
      "175/175 [==============================] - 5s 27ms/step - loss: 0.3736 - val_loss: 0.1941\n",
      "Epoch 17/100\n",
      "175/175 [==============================] - 6s 32ms/step - loss: 0.3622 - val_loss: 0.1916\n",
      "Epoch 18/100\n",
      "175/175 [==============================] - 5s 26ms/step - loss: 0.3498 - val_loss: 0.1677\n",
      "Epoch 19/100\n",
      "175/175 [==============================] - 5s 28ms/step - loss: 0.3314 - val_loss: 0.1660\n",
      "Epoch 20/100\n",
      "175/175 [==============================] - 5s 26ms/step - loss: 0.3145 - val_loss: 0.1601\n",
      "Epoch 21/100\n",
      "175/175 [==============================] - 5s 26ms/step - loss: 0.3003 - val_loss: 0.1458\n",
      "Epoch 22/100\n",
      "175/175 [==============================] - 5s 31ms/step - loss: 0.2848 - val_loss: 0.1400\n",
      "Epoch 23/100\n",
      "175/175 [==============================] - 6s 35ms/step - loss: 0.2681 - val_loss: 0.1166\n",
      "Epoch 24/100\n",
      "175/175 [==============================] - 5s 28ms/step - loss: 0.2592 - val_loss: 0.1051\n",
      "Epoch 25/100\n",
      "175/175 [==============================] - 5s 27ms/step - loss: 0.2455 - val_loss: 0.1080\n",
      "Epoch 26/100\n",
      "175/175 [==============================] - 5s 28ms/step - loss: 0.2300 - val_loss: 0.0965\n",
      "Epoch 27/100\n",
      "175/175 [==============================] - 5s 27ms/step - loss: 0.2142 - val_loss: 0.1155\n",
      "Epoch 28/100\n",
      "175/175 [==============================] - 5s 28ms/step - loss: 0.2048 - val_loss: 0.1171\n",
      "Epoch 29/100\n",
      "175/175 [==============================] - 6s 32ms/step - loss: 0.1947 - val_loss: 0.1224\n",
      "Epoch 30/100\n",
      "175/175 [==============================] - 5s 28ms/step - loss: 0.1834 - val_loss: 0.1144\n",
      "Epoch 31/100\n",
      "175/175 [==============================] - 5s 26ms/step - loss: 0.1720 - val_loss: 0.1047\n",
      "Epoch 32/100\n",
      "175/175 [==============================] - 5s 27ms/step - loss: 0.1662 - val_loss: 0.1083\n",
      "Epoch 33/100\n",
      "175/175 [==============================] - 5s 27ms/step - loss: 0.1571 - val_loss: 0.1025\n",
      "Epoch 34/100\n",
      "175/175 [==============================] - 5s 29ms/step - loss: 0.1515 - val_loss: 0.1011\n",
      "Epoch 35/100\n",
      "175/175 [==============================] - 5s 31ms/step - loss: 0.1429 - val_loss: 0.0941\n",
      "Epoch 36/100\n",
      "175/175 [==============================] - 6s 32ms/step - loss: 0.1384 - val_loss: 0.0976\n",
      "Epoch 37/100\n",
      "175/175 [==============================] - 5s 29ms/step - loss: 0.1314 - val_loss: 0.0963\n",
      "Epoch 38/100\n",
      "175/175 [==============================] - 5s 27ms/step - loss: 0.1276 - val_loss: 0.0992\n",
      "Epoch 39/100\n",
      "175/175 [==============================] - 5s 29ms/step - loss: 0.1250 - val_loss: 0.0890\n",
      "Epoch 40/100\n",
      "175/175 [==============================] - 5s 27ms/step - loss: 0.1201 - val_loss: 0.0854\n",
      "Epoch 41/100\n",
      "175/175 [==============================] - 5s 28ms/step - loss: 0.1192 - val_loss: 0.0924\n",
      "Epoch 42/100\n",
      "175/175 [==============================] - 6s 33ms/step - loss: 0.1166 - val_loss: 0.0906\n",
      "Epoch 43/100\n",
      "175/175 [==============================] - 5s 28ms/step - loss: 0.1138 - val_loss: 0.0915\n",
      "Epoch 44/100\n",
      "175/175 [==============================] - 5s 27ms/step - loss: 0.1110 - val_loss: 0.0828\n",
      "Epoch 45/100\n",
      "175/175 [==============================] - 5s 27ms/step - loss: 0.1115 - val_loss: 0.0865\n",
      "Epoch 46/100\n",
      "175/175 [==============================] - 5s 29ms/step - loss: 0.1068 - val_loss: 0.0856\n",
      "Epoch 47/100\n",
      "175/175 [==============================] - 5s 29ms/step - loss: 0.1067 - val_loss: 0.0877\n",
      "Epoch 48/100\n",
      "175/175 [==============================] - 6s 35ms/step - loss: 0.1071 - val_loss: 0.0830\n",
      "Epoch 49/100\n",
      "175/175 [==============================] - 5s 26ms/step - loss: 0.1045 - val_loss: 0.0824\n",
      "Epoch 50/100\n",
      "175/175 [==============================] - 5s 28ms/step - loss: 0.1040 - val_loss: 0.0830\n",
      "Epoch 51/100\n",
      "175/175 [==============================] - 5s 26ms/step - loss: 0.1015 - val_loss: 0.0877\n",
      "Epoch 52/100\n",
      "175/175 [==============================] - 5s 28ms/step - loss: 0.1032 - val_loss: 0.0831\n",
      "Epoch 53/100\n",
      "175/175 [==============================] - 5s 26ms/step - loss: 0.1013 - val_loss: 0.0905\n",
      "Epoch 54/100\n",
      "175/175 [==============================] - 5s 28ms/step - loss: 0.1012 - val_loss: 0.0850\n",
      "Epoch 55/100\n",
      "175/175 [==============================] - 6s 33ms/step - loss: 0.0994 - val_loss: 0.0796\n",
      "Epoch 56/100\n",
      "175/175 [==============================] - 5s 28ms/step - loss: 0.0997 - val_loss: 0.0837\n",
      "Epoch 57/100\n",
      "175/175 [==============================] - 5s 27ms/step - loss: 0.0994 - val_loss: 0.0812\n",
      "Epoch 58/100\n",
      "175/175 [==============================] - 6s 32ms/step - loss: 0.0972 - val_loss: 0.0799\n",
      "Epoch 59/100\n",
      "175/175 [==============================] - 5s 28ms/step - loss: 0.0973 - val_loss: 0.0868\n",
      "Epoch 60/100\n",
      "175/175 [==============================] - 5s 28ms/step - loss: 0.0976 - val_loss: 0.0830\n",
      "Epoch 61/100\n",
      "175/175 [==============================] - 6s 35ms/step - loss: 0.0966 - val_loss: 0.0841\n",
      "Epoch 62/100\n",
      "175/175 [==============================] - 5s 27ms/step - loss: 0.0971 - val_loss: 0.0830\n",
      "Epoch 63/100\n",
      "175/175 [==============================] - 5s 27ms/step - loss: 0.0958 - val_loss: 0.0855\n",
      "Epoch 64/100\n",
      "175/175 [==============================] - 5s 26ms/step - loss: 0.0965 - val_loss: 0.0826\n",
      "Epoch 65/100\n",
      "175/175 [==============================] - 5s 28ms/step - loss: 0.0951 - val_loss: 0.0818\n",
      "Epoch 66/100\n",
      "175/175 [==============================] - 5s 26ms/step - loss: 0.0948 - val_loss: 0.0806\n",
      "Epoch 67/100\n",
      "175/175 [==============================] - 6s 32ms/step - loss: 0.0937 - val_loss: 0.0819\n",
      "Epoch 68/100\n",
      "175/175 [==============================] - 5s 29ms/step - loss: 0.0937 - val_loss: 0.0818\n",
      "Epoch 69/100\n",
      "175/175 [==============================] - 5s 30ms/step - loss: 0.0936 - val_loss: 0.0868\n",
      "Epoch 70/100\n",
      "175/175 [==============================] - 5s 30ms/step - loss: 0.0936 - val_loss: 0.0812\n",
      "Epoch 71/100\n",
      "175/175 [==============================] - 5s 29ms/step - loss: 0.0936 - val_loss: 0.0794\n",
      "Epoch 72/100\n",
      "175/175 [==============================] - 5s 26ms/step - loss: 0.0933 - val_loss: 0.0811\n",
      "Epoch 73/100\n",
      "175/175 [==============================] - 5s 28ms/step - loss: 0.0932 - val_loss: 0.0798\n",
      "Epoch 74/100\n",
      "175/175 [==============================] - 6s 34ms/step - loss: 0.0931 - val_loss: 0.0785\n",
      "Epoch 75/100\n",
      "175/175 [==============================] - 5s 27ms/step - loss: 0.0926 - val_loss: 0.0815\n",
      "Epoch 76/100\n",
      "175/175 [==============================] - 5s 27ms/step - loss: 0.0919 - val_loss: 0.0808\n",
      "Epoch 77/100\n",
      "175/175 [==============================] - 5s 26ms/step - loss: 0.0916 - val_loss: 0.0790\n",
      "Epoch 78/100\n",
      "175/175 [==============================] - 5s 28ms/step - loss: 0.0912 - val_loss: 0.0784\n",
      "Epoch 79/100\n",
      "175/175 [==============================] - 5s 26ms/step - loss: 0.0926 - val_loss: 0.0790\n",
      "Epoch 80/100\n",
      "175/175 [==============================] - 6s 33ms/step - loss: 0.0920 - val_loss: 0.0791\n",
      "Epoch 81/100\n",
      "175/175 [==============================] - 6s 32ms/step - loss: 0.0915 - val_loss: 0.0787\n",
      "Epoch 82/100\n",
      "175/175 [==============================] - 5s 30ms/step - loss: 0.0908 - val_loss: 0.0805\n",
      "Epoch 83/100\n",
      "175/175 [==============================] - 5s 27ms/step - loss: 0.0917 - val_loss: 0.0795\n",
      "Epoch 84/100\n",
      "175/175 [==============================] - 5s 28ms/step - loss: 0.0904 - val_loss: 0.0799\n",
      "Epoch 85/100\n",
      "175/175 [==============================] - 5s 26ms/step - loss: 0.0906 - val_loss: 0.0797\n",
      "Epoch 86/100\n",
      "175/175 [==============================] - 5s 28ms/step - loss: 0.0908 - val_loss: 0.0784\n",
      "Epoch 87/100\n",
      "175/175 [==============================] - 6s 35ms/step - loss: 0.0907 - val_loss: 0.0800\n",
      "Epoch 88/100\n",
      "175/175 [==============================] - 5s 28ms/step - loss: 0.0908 - val_loss: 0.0786\n",
      "Epoch 89/100\n",
      "175/175 [==============================] - 5s 27ms/step - loss: 0.0898 - val_loss: 0.0782\n",
      "Epoch 90/100\n",
      "175/175 [==============================] - 5s 27ms/step - loss: 0.0904 - val_loss: 0.0821\n",
      "Epoch 91/100\n",
      "175/175 [==============================] - 5s 28ms/step - loss: 0.0901 - val_loss: 0.0810\n",
      "Epoch 92/100\n",
      "175/175 [==============================] - 5s 26ms/step - loss: 0.0898 - val_loss: 0.0794\n",
      "Epoch 93/100\n",
      "175/175 [==============================] - 6s 35ms/step - loss: 0.0899 - val_loss: 0.0784\n",
      "Epoch 94/100\n",
      "175/175 [==============================] - 6s 34ms/step - loss: 0.0887 - val_loss: 0.0815\n",
      "Epoch 95/100\n",
      "175/175 [==============================] - 5s 29ms/step - loss: 0.0904 - val_loss: 0.0787\n",
      "Epoch 96/100\n",
      "175/175 [==============================] - 5s 26ms/step - loss: 0.0886 - val_loss: 0.0783\n",
      "Epoch 97/100\n",
      "175/175 [==============================] - 5s 28ms/step - loss: 0.0892 - val_loss: 0.0815\n",
      "Epoch 98/100\n",
      "175/175 [==============================] - 5s 27ms/step - loss: 0.0893 - val_loss: 0.0797\n",
      "Epoch 99/100\n",
      "175/175 [==============================] - 6s 32ms/step - loss: 0.0889 - val_loss: 0.0784\n",
      "Epoch 100/100\n",
      "175/175 [==============================] - 5s 31ms/step - loss: 0.0894 - val_loss: 0.0786\n"
     ]
    }
   ],
   "source": [
    "#10 + 10 +10\n",
    "unfreeze_model(model)\n",
    "\n",
    "history = model.fit(train_generator, \n",
    "                    validation_data=val_generator,\n",
    "                    epochs=100)"
   ]
  },
  {
   "cell_type": "markdown",
   "metadata": {
    "id": "HvHov45D2qwx",
    "papermill": {
     "duration": 2.428171,
     "end_time": "2021-01-08T15:47:37.809567",
     "exception": false,
     "start_time": "2021-01-08T15:47:35.381396",
     "status": "completed"
    },
    "tags": []
   },
   "source": [
    "#### **Evaluate the model**"
   ]
  },
  {
   "cell_type": "code",
   "execution_count": 20,
   "metadata": {
    "execution": {
     "iopub.execute_input": "2021-01-08T15:47:42.388139Z",
     "iopub.status.busy": "2021-01-08T15:47:42.386935Z",
     "iopub.status.idle": "2021-01-08T15:47:43.083037Z",
     "shell.execute_reply": "2021-01-08T15:47:43.082459Z"
    },
    "id": "RYKhDBx9MgTN",
    "outputId": "52aeb591-a793-4482-b854-38914ebd81a9",
    "papermill": {
     "duration": 2.985042,
     "end_time": "2021-01-08T15:47:43.083146",
     "exception": false,
     "start_time": "2021-01-08T15:47:40.098104",
     "status": "completed"
    },
    "tags": []
   },
   "outputs": [
    {
     "name": "stdout",
     "output_type": "stream",
     "text": [
      "43/43 [==============================] - 1s 14ms/step - loss: 0.0790\n"
     ]
    },
    {
     "data": {
      "text/plain": [
       "0.07896250486373901"
      ]
     },
     "execution_count": 20,
     "metadata": {},
     "output_type": "execute_result"
    }
   ],
   "source": [
    "model.evaluate(val_generator)"
   ]
  },
  {
   "cell_type": "code",
   "execution_count": 21,
   "metadata": {
    "execution": {
     "iopub.execute_input": "2021-01-08T15:47:47.929986Z",
     "iopub.status.busy": "2021-01-08T15:47:47.929286Z",
     "iopub.status.idle": "2021-01-08T15:47:48.138654Z",
     "shell.execute_reply": "2021-01-08T15:47:48.139147Z"
    },
    "id": "FYqFSqoqe8Do",
    "outputId": "acccfe34-e1ed-4dee-db6f-d388e7efb6c5",
    "papermill": {
     "duration": 2.725903,
     "end_time": "2021-01-08T15:47:48.139272",
     "exception": false,
     "start_time": "2021-01-08T15:47:45.413369",
     "status": "completed"
    },
    "tags": []
   },
   "outputs": [
    {
     "data": {
      "text/plain": [
       "Text(0.5, 1.0, 'Training and validation loss')"
      ]
     },
     "execution_count": 21,
     "metadata": {},
     "output_type": "execute_result"
    },
    {
     "data": {
      "image/png": "[encoded data removed]",
      "text/plain": [
       "<Figure size 432x288 with 1 Axes>"
      ]
     },
     "metadata": {
      "needs_background": "light"
     },
     "output_type": "display_data"
    }
   ],
   "source": [
    "# Retrieve a list of list results on training and test data sets for each training epoch\n",
    "loss     = history.history['loss']\n",
    "val_loss = history.history['val_loss']\n",
    "epochs   = range(len(loss))\n",
    "# Plot training and validation loss per epoch\n",
    "plt.plot(epochs,loss, color='red' , label='training loss')\n",
    "plt.plot(epochs, val_loss, label='validation loss')\n",
    "plt.legend()\n",
    "plt.title ('Training and validation loss')"
   ]
  },
  {
   "cell_type": "markdown",
   "metadata": {
    "id": "BIr2js1Z2ipI",
    "papermill": {
     "duration": 2.647085,
     "end_time": "2021-01-08T15:47:53.090979",
     "exception": false,
     "start_time": "2021-01-08T15:47:50.443894",
     "status": "completed"
    },
    "tags": []
   },
   "source": [
    "#### **Test the model on random images**"
   ]
  },
  {
   "cell_type": "code",
   "execution_count": 22,
   "metadata": {
    "execution": {
     "iopub.execute_input": "2021-01-08T15:47:58.369923Z",
     "iopub.status.busy": "2021-01-08T15:47:58.369007Z",
     "iopub.status.idle": "2021-01-08T15:47:58.385892Z",
     "shell.execute_reply": "2021-01-08T15:47:58.388879Z"
    },
    "id": "MnxNCLAA1xvB",
    "outputId": "16288291-87dc-4ac3-ba1f-30a59d2fa79a",
    "papermill": {
     "duration": 2.845472,
     "end_time": "2021-01-08T15:47:58.389059",
     "exception": false,
     "start_time": "2021-01-08T15:47:55.543587",
     "status": "completed"
    },
    "tags": []
   },
   "outputs": [
    {
     "data": {
      "text/plain": [
       "{'mouth_center_bottom_lip_x': MinMaxScaler(),\n",
       " 'mouth_center_bottom_lip_y': MinMaxScaler()}"
      ]
     },
     "execution_count": 22,
     "metadata": {},
     "output_type": "execute_result"
    }
   ],
   "source": [
    "scalers_dict"
   ]
  },
  {
   "cell_type": "code",
   "execution_count": 23,
   "metadata": {
    "execution": {
     "iopub.execute_input": "2021-01-08T15:48:03.719544Z",
     "iopub.status.busy": "2021-01-08T15:48:03.718588Z",
     "iopub.status.idle": "2021-01-08T15:48:05.273282Z",
     "shell.execute_reply": "2021-01-08T15:48:05.272771Z"
    },
    "id": "EbY6XCqHPvoO",
    "outputId": "85d7b89c-efa4-405a-986a-92f79d589697",
    "papermill": {
     "duration": 3.947721,
     "end_time": "2021-01-08T15:48:05.273382",
     "exception": false,
     "start_time": "2021-01-08T15:48:01.325661",
     "status": "completed"
    },
    "tags": []
   },
   "outputs": [
    {
     "name": "stdout",
     "output_type": "stream",
     "text": [
      "[0.3833054 0.7562645]\n",
      "[42.013474 78.75762 ]\n",
      "[[0.4654501 0.7463896]]\n",
      "[[48.330578 78.06679 ]]\n"
     ]
    },
    {
     "data": {
      "image/png": "[encoded data removed]",
      "text/plain": [
       "<Figure size 432x288 with 1 Axes>"
      ]
     },
     "metadata": {
      "needs_background": "light"
     },
     "output_type": "display_data"
    }
   ],
   "source": [
    "batch = val_generator.__getitem__(2)\n",
    "j= np.random.randint(0,len(batch[0]))\n",
    "# check original image \n",
    "print(batch[1][j:j+1][0])\n",
    "actual_y= batch[1][j:j+1][0]\n",
    "actual_y[0] = scalers_dict[feature_name+\"_x\"].inverse_transform([[actual_y[0]]])\n",
    "actual_y[1] = scalers_dict[feature_name+\"_y\"].inverse_transform([[actual_y[1]]])\n",
    "print(actual_y)\n",
    "##############################################\n",
    "predicted_y = model.predict(batch[0][j:j+1])\n",
    "print(predicted_y)\n",
    "# uncomment in case we have used the scaling\n",
    "predicted_y[:,:1] = scalers_dict[feature_name+\"_x\"].inverse_transform(predicted_y[:,:1])\n",
    "predicted_y[:,1:] = scalers_dict[feature_name+\"_y\"].inverse_transform(predicted_y[:,1:])\n",
    "print(predicted_y)\n",
    "##############################################3\n",
    "visualize_image(batch[0][j:j+1].reshape(96,96,3)[:,:,0],actual_y, predicted_y[0])"
   ]
  },
  {
   "cell_type": "markdown",
   "metadata": {
    "id": "Q3sMZnVZ3-dd",
    "papermill": {
     "duration": 2.53191,
     "end_time": "2021-01-08T15:48:10.187963",
     "exception": false,
     "start_time": "2021-01-08T15:48:07.656053",
     "status": "completed"
    },
    "tags": []
   },
   "source": [
    "**Its very impressive how close are the predicted corrdinates to the original ones**"
   ]
  },
  {
   "cell_type": "markdown",
   "metadata": {
    "id": "KOW_zMQ5PvoS",
    "papermill": {
     "duration": 2.305422,
     "end_time": "2021-01-08T15:48:14.812621",
     "exception": false,
     "start_time": "2021-01-08T15:48:12.507199",
     "status": "completed"
    },
    "tags": []
   },
   "source": [
    "#### **Test on missing data**"
   ]
  },
  {
   "cell_type": "code",
   "execution_count": 24,
   "metadata": {
    "execution": {
     "iopub.execute_input": "2021-01-08T15:48:19.554344Z",
     "iopub.status.busy": "2021-01-08T15:48:19.553553Z",
     "iopub.status.idle": "2021-01-08T15:48:19.558698Z",
     "shell.execute_reply": "2021-01-08T15:48:19.559494Z"
    },
    "id": "zKZ1t2qoPvoS",
    "outputId": "2c2688c2-cb6d-4ad7-dad1-9fabe60c1d13",
    "papermill": {
     "duration": 2.451835,
     "end_time": "2021-01-08T15:48:19.559694",
     "exception": false,
     "start_time": "2021-01-08T15:48:17.107859",
     "status": "completed"
    },
    "tags": []
   },
   "outputs": [
    {
     "data": {
      "text/plain": [
       "'mouth_center_bottom_lip'"
      ]
     },
     "execution_count": 24,
     "metadata": {},
     "output_type": "execute_result"
    }
   ],
   "source": [
    "feature_name"
   ]
  },
  {
   "cell_type": "code",
   "execution_count": 25,
   "metadata": {
    "execution": {
     "iopub.execute_input": "2021-01-08T15:48:24.282738Z",
     "iopub.status.busy": "2021-01-08T15:48:24.280915Z",
     "iopub.status.idle": "2021-01-08T15:48:24.283380Z",
     "shell.execute_reply": "2021-01-08T15:48:24.283896Z"
    },
    "id": "BlsfoMj3PvoT",
    "papermill": {
     "duration": 2.316458,
     "end_time": "2021-01-08T15:48:24.284030",
     "exception": false,
     "start_time": "2021-01-08T15:48:21.967572",
     "status": "completed"
    },
    "tags": []
   },
   "outputs": [],
   "source": [
    "rgb_channels= True\n",
    "normalize_image = True\n",
    "def pre_process_images(image):\n",
    "    image = np.vstack(image).reshape(-1, 96, 96, 1).astype(np.float32)\n",
    "    if rgb_channels:\n",
    "        image = np.repeat(image,3,-1)\n",
    "    if normalize_image == True:\n",
    "        image = image/255\n",
    "    return image"
   ]
  },
  {
   "cell_type": "code",
   "execution_count": 26,
   "metadata": {
    "execution": {
     "iopub.execute_input": "2021-01-08T15:48:28.931860Z",
     "iopub.status.busy": "2021-01-08T15:48:28.930032Z",
     "iopub.status.idle": "2021-01-08T15:48:28.932548Z",
     "shell.execute_reply": "2021-01-08T15:48:28.933012Z"
    },
    "id": "NsF-GdN6PvoU",
    "papermill": {
     "duration": 2.343958,
     "end_time": "2021-01-08T15:48:28.933130",
     "exception": false,
     "start_time": "2021-01-08T15:48:26.589172",
     "status": "completed"
    },
    "tags": []
   },
   "outputs": [],
   "source": [
    "missing_data = dic_missing_data[feature_name]"
   ]
  },
  {
   "cell_type": "code",
   "execution_count": 27,
   "metadata": {
    "execution": {
     "iopub.execute_input": "2021-01-08T15:48:34.116745Z",
     "iopub.status.busy": "2021-01-08T15:48:34.115492Z",
     "iopub.status.idle": "2021-01-08T15:48:34.126112Z",
     "shell.execute_reply": "2021-01-08T15:48:34.127015Z"
    },
    "id": "xgfXwWOMDj0N",
    "outputId": "c74688b4-7479-421a-9a07-3925a7096300",
    "papermill": {
     "duration": 2.343105,
     "end_time": "2021-01-08T15:48:34.127206",
     "exception": false,
     "start_time": "2021-01-08T15:48:31.784101",
     "status": "completed"
    },
    "tags": []
   },
   "outputs": [
    {
     "data": {
      "text/plain": [
       "33"
      ]
     },
     "execution_count": 27,
     "metadata": {},
     "output_type": "execute_result"
    }
   ],
   "source": [
    "len(missing_data)"
   ]
  },
  {
   "cell_type": "code",
   "execution_count": 28,
   "metadata": {
    "execution": {
     "iopub.execute_input": "2021-01-08T15:48:38.777096Z",
     "iopub.status.busy": "2021-01-08T15:48:38.776186Z",
     "iopub.status.idle": "2021-01-08T15:48:38.972907Z",
     "shell.execute_reply": "2021-01-08T15:48:38.972391Z"
    },
    "id": "7janB8HOPvoU",
    "outputId": "5698bbf5-06b1-44d6-99e4-3920e4ea689a",
    "papermill": {
     "duration": 2.548645,
     "end_time": "2021-01-08T15:48:38.973016",
     "exception": false,
     "start_time": "2021-01-08T15:48:36.424371",
     "status": "completed"
    },
    "tags": []
   },
   "outputs": [
    {
     "name": "stdout",
     "output_type": "stream",
     "text": [
      "[[0.46543533 0.7462176 ]]\n",
      "[[48.32944  78.054756]]\n"
     ]
    },
    {
     "data": {
      "image/png": "[encoded data removed]",
      "text/plain": [
       "<Figure size 432x288 with 1 Axes>"
      ]
     },
     "metadata": {
      "needs_background": "light"
     },
     "output_type": "display_data"
    }
   ],
   "source": [
    "# take a random image and test on it\n",
    "l = np.random.randint(0, len(missing_data)-1)\n",
    "image = missing_data.iloc[l][\"Image\"]\n",
    "image = pre_process_images(image)\n",
    "predicted_y = model.predict(image)\n",
    "print(predicted_y)\n",
    "# uncomment in case we have used the scaling\n",
    "predicted_y[:,:1] = scalers_dict[feature_name+\"_x\"].inverse_transform(predicted_y[:,:1])\n",
    "predicted_y[:,1:] = scalers_dict[feature_name+\"_y\"].inverse_transform(predicted_y[:,1:])\n",
    "print(predicted_y)\n",
    "visualize_image(image.reshape(96,96,3)[:,:,0],None, predicted_y[0])"
   ]
  },
  {
   "cell_type": "markdown",
   "metadata": {
    "id": "eCtvSBv2PvoV",
    "papermill": {
     "duration": 2.442916,
     "end_time": "2021-01-08T15:48:43.808835",
     "exception": false,
     "start_time": "2021-01-08T15:48:41.365919",
     "status": "completed"
    },
    "tags": []
   },
   "source": [
    "#### **Save model**"
   ]
  },
  {
   "cell_type": "code",
   "execution_count": 29,
   "metadata": {
    "execution": {
     "iopub.execute_input": "2021-01-08T15:48:48.496821Z",
     "iopub.status.busy": "2021-01-08T15:48:48.471336Z",
     "iopub.status.idle": "2021-01-08T15:48:48.827699Z",
     "shell.execute_reply": "2021-01-08T15:48:48.826514Z"
    },
    "id": "PHDvP_QL39lh",
    "papermill": {
     "duration": 2.683563,
     "end_time": "2021-01-08T15:48:48.827823",
     "exception": false,
     "start_time": "2021-01-08T15:48:46.144260",
     "status": "completed"
    },
    "tags": []
   },
   "outputs": [],
   "source": [
    "# save model and architecture to single file\n",
    "model.save(model_path)"
   ]
  },
  {
   "cell_type": "code",
   "execution_count": null,
   "metadata": {
    "id": "ERAMk1EHPvoX",
    "papermill": {
     "duration": 3.042767,
     "end_time": "2021-01-08T15:48:54.200811",
     "exception": false,
     "start_time": "2021-01-08T15:48:51.158044",
     "status": "completed"
    },
    "tags": []
   },
   "outputs": [],
   "source": []
  },
  {
   "cell_type": "code",
   "execution_count": null,
   "metadata": {
    "papermill": {
     "duration": 2.54061,
     "end_time": "2021-01-08T15:48:59.089054",
     "exception": false,
     "start_time": "2021-01-08T15:48:56.548444",
     "status": "completed"
    },
    "tags": []
   },
   "outputs": [],
   "source": []
  }
 ],
 "metadata": {
  "kernelspec": {
   "display_name": "Python 3",
   "language": "python",
   "name": "python3"
  },
  "language_info": {
   "codemirror_mode": {
    "name": "ipython",
    "version": 3
   },
   "file_extension": ".py",
   "mimetype": "text/x-python",
   "name": "python",
   "nbconvert_exporter": "python",
   "pygments_lexer": "ipython3",
   "version": "3.7.6"
  },
  "papermill": {
   "duration": 635.99711,
   "end_time": "2021-01-08T15:49:02.682936",
   "environment_variables": {},
   "exception": null,
   "input_path": "__notebook__.ipynb",
   "output_path": "__notebook__.ipynb",
   "parameters": {},
   "start_time": "2021-01-08T15:38:26.685826",
   "version": "2.1.0"
  }
 },
 "nbformat": 4,
 "nbformat_minor": 4
}
