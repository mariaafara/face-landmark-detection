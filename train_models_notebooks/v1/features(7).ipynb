{
 "cells": [
  {
   "cell_type": "code",
   "execution_count": 1,
   "metadata": {
    "execution": {
     "iopub.execute_input": "2021-01-08T11:18:55.241779Z",
     "iopub.status.busy": "2021-01-08T11:18:55.240942Z",
     "iopub.status.idle": "2021-01-08T11:18:55.243790Z",
     "shell.execute_reply": "2021-01-08T11:18:55.243215Z"
    },
    "id": "mt9t-79OPvng",
    "papermill": {
     "duration": 0.031307,
     "end_time": "2021-01-08T11:18:55.243880",
     "exception": false,
     "start_time": "2021-01-08T11:18:55.212573",
     "status": "completed"
    },
    "tags": []
   },
   "outputs": [],
   "source": [
    "feature_index = 7"
   ]
  },
  {
   "cell_type": "code",
   "execution_count": 2,
   "metadata": {
    "execution": {
     "iopub.execute_input": "2021-01-08T11:18:55.292418Z",
     "iopub.status.busy": "2021-01-08T11:18:55.291751Z",
     "iopub.status.idle": "2021-01-08T11:18:55.294626Z",
     "shell.execute_reply": "2021-01-08T11:18:55.294196Z"
    },
    "id": "29LaKxCh-Em7",
    "papermill": {
     "duration": 0.028127,
     "end_time": "2021-01-08T11:18:55.294715",
     "exception": false,
     "start_time": "2021-01-08T11:18:55.266588",
     "status": "completed"
    },
    "tags": []
   },
   "outputs": [],
   "source": [
    "# import os\n",
    "# os.environ['KAGGLE_USERNAME'] = \"mariaafara\" # username from the json file\n",
    "# os.environ['KAGGLE_KEY'] = \"25755ae03c0b83042774e5e0d15b886e\" # key from the json file\n",
    "#Crearting a Client to host the Kaggle API\n",
    "# !pip install -q kaggle\n",
    "# !kaggle datasets download mariaafara/Facial-Landmarks\n",
    "# !unzip Facial-Landmarks.zip -d facial-keypoints-detection"
   ]
  },
  {
   "cell_type": "code",
   "execution_count": 3,
   "metadata": {
    "execution": {
     "iopub.execute_input": "2021-01-08T11:18:55.345451Z",
     "iopub.status.busy": "2021-01-08T11:18:55.344934Z",
     "iopub.status.idle": "2021-01-08T11:18:59.730276Z",
     "shell.execute_reply": "2021-01-08T11:18:59.729797Z"
    },
    "id": "3f3roaNK6hfZ",
    "papermill": {
     "duration": 4.413678,
     "end_time": "2021-01-08T11:18:59.730380",
     "exception": false,
     "start_time": "2021-01-08T11:18:55.316702",
     "status": "completed"
    },
    "tags": []
   },
   "outputs": [],
   "source": [
    "import numpy as np\n",
    "import pandas as pd\n",
    "import math\n",
    "import random\n",
    "import seaborn as sns\n",
    "import matplotlib.pyplot as plt\n",
    "import tensorflow as tf\n",
    "import tensorflow.keras as keras\n",
    "from tensorflow.keras.models import Sequential\n",
    "from tensorflow.keras.layers import Dense, Dropout, Flatten, Input, Conv2D, MaxPooling2D, GlobalAveragePooling2D, BatchNormalization\n",
    "from sklearn.model_selection import train_test_split\n",
    "from sklearn import preprocessing\n",
    "from sklearn.preprocessing import MinMaxScaler\n",
    "from tensorflow.keras import optimizers\n",
    "from IPython.display import clear_output\n",
    "pd.options.mode.chained_assignment = None  # default='warn'\n"
   ]
  },
  {
   "cell_type": "code",
   "execution_count": 4,
   "metadata": {
    "execution": {
     "iopub.execute_input": "2021-01-08T11:18:59.781042Z",
     "iopub.status.busy": "2021-01-08T11:18:59.780261Z",
     "iopub.status.idle": "2021-01-08T11:18:59.783033Z",
     "shell.execute_reply": "2021-01-08T11:18:59.782617Z"
    },
    "id": "9_E22cct-EnI",
    "papermill": {
     "duration": 0.028627,
     "end_time": "2021-01-08T11:18:59.783122",
     "exception": false,
     "start_time": "2021-01-08T11:18:59.754495",
     "status": "completed"
    },
    "tags": []
   },
   "outputs": [],
   "source": [
    "train_data_path = \"/kaggle/input/facial-landmarks/dic_train_data.pkl\"\n",
    "missing_data_path = \"/kaggle/input/facial-landmarks/dic_missing_data.pkl\"\n",
    "# train_data_path = \"data/dic_train_data.pkl\"\n",
    "# missing_data_path = \"data/dic_missing_data.pkl\""
   ]
  },
  {
   "cell_type": "code",
   "execution_count": 5,
   "metadata": {
    "execution": {
     "iopub.execute_input": "2021-01-08T11:18:59.831388Z",
     "iopub.status.busy": "2021-01-08T11:18:59.830883Z",
     "iopub.status.idle": "2021-01-08T11:19:10.425647Z",
     "shell.execute_reply": "2021-01-08T11:19:10.424652Z"
    },
    "id": "9iJTuxj_kNfQ",
    "papermill": {
     "duration": 10.620555,
     "end_time": "2021-01-08T11:19:10.425759",
     "exception": false,
     "start_time": "2021-01-08T11:18:59.805204",
     "status": "completed"
    },
    "tags": []
   },
   "outputs": [],
   "source": [
    "import pickle as pkl\n",
    "\n",
    "dic_train_data = pkl.load(open(train_data_path,\"rb\"))\n",
    "dic_missing_data = pkl.load(open(missing_data_path,\"rb\"))"
   ]
  },
  {
   "cell_type": "code",
   "execution_count": 6,
   "metadata": {
    "execution": {
     "iopub.execute_input": "2021-01-08T11:19:10.476643Z",
     "iopub.status.busy": "2021-01-08T11:19:10.476050Z",
     "iopub.status.idle": "2021-01-08T11:19:10.482567Z",
     "shell.execute_reply": "2021-01-08T11:19:10.482064Z"
    },
    "id": "6TdjVdwEPvny",
    "outputId": "c49a7d54-3444-4bef-f242-751e108f21f3",
    "papermill": {
     "duration": 0.034147,
     "end_time": "2021-01-08T11:19:10.482670",
     "exception": false,
     "start_time": "2021-01-08T11:19:10.448523",
     "status": "completed"
    },
    "tags": []
   },
   "outputs": [
    {
     "data": {
      "text/plain": [
       "['left_eye_center',\n",
       " 'right_eye_center',\n",
       " 'left_eye_inner_corner',\n",
       " 'left_eye_outer_corner',\n",
       " 'right_eye_inner_corner',\n",
       " 'right_eye_outer_corner',\n",
       " 'left_eyebrow_inner_end',\n",
       " 'left_eyebrow_outer_end',\n",
       " 'right_eyebrow_inner_end',\n",
       " 'right_eyebrow_outer_end',\n",
       " 'mouth_left_corner',\n",
       " 'mouth_right_corner',\n",
       " 'mouth_center_top_lip',\n",
       " 'mouth_center_bottom_lip']"
      ]
     },
     "execution_count": 6,
     "metadata": {},
     "output_type": "execute_result"
    }
   ],
   "source": [
    "features = list(dic_train_data.keys())\n",
    "features"
   ]
  },
  {
   "cell_type": "code",
   "execution_count": 7,
   "metadata": {
    "execution": {
     "iopub.execute_input": "2021-01-08T11:19:10.534928Z",
     "iopub.status.busy": "2021-01-08T11:19:10.533733Z",
     "iopub.status.idle": "2021-01-08T11:19:10.537410Z",
     "shell.execute_reply": "2021-01-08T11:19:10.536972Z"
    },
    "id": "ydLdeD8YPvn1",
    "outputId": "f34d38aa-b9d9-4a29-f689-35bd6a3aa98e",
    "papermill": {
     "duration": 0.031707,
     "end_time": "2021-01-08T11:19:10.537507",
     "exception": false,
     "start_time": "2021-01-08T11:19:10.505800",
     "status": "completed"
    },
    "tags": []
   },
   "outputs": [
    {
     "data": {
      "text/plain": [
       "'left_eyebrow_outer_end'"
      ]
     },
     "execution_count": 7,
     "metadata": {},
     "output_type": "execute_result"
    }
   ],
   "source": [
    "feature_name = features[feature_index]\n",
    "feature_name"
   ]
  },
  {
   "cell_type": "code",
   "execution_count": 8,
   "metadata": {
    "execution": {
     "iopub.execute_input": "2021-01-08T11:19:10.598108Z",
     "iopub.status.busy": "2021-01-08T11:19:10.596395Z",
     "iopub.status.idle": "2021-01-08T11:19:10.598770Z",
     "shell.execute_reply": "2021-01-08T11:19:10.599192Z"
    },
    "id": "APi2VVkKQFOm",
    "papermill": {
     "duration": 0.030658,
     "end_time": "2021-01-08T11:19:10.599294",
     "exception": false,
     "start_time": "2021-01-08T11:19:10.568636",
     "status": "completed"
    },
    "tags": []
   },
   "outputs": [],
   "source": [
    "scalers_path = feature_name+\"_scalers_dict.pkl\"\n",
    "model_path = feature_name+\".h5\"\n",
    "\n",
    "# scalers_path = \"data/\"+feature_name+\"_scalers_dict.pkl\"\n",
    "# model_path = \"models/\"+feature_name+\".h5\""
   ]
  },
  {
   "cell_type": "code",
   "execution_count": 9,
   "metadata": {
    "execution": {
     "iopub.execute_input": "2021-01-08T11:19:10.665997Z",
     "iopub.status.busy": "2021-01-08T11:19:10.660459Z",
     "iopub.status.idle": "2021-01-08T11:19:11.498053Z",
     "shell.execute_reply": "2021-01-08T11:19:11.498486Z"
    },
    "id": "UHAb9cCEPvn3",
    "outputId": "cdb32799-3d8e-4470-e682-c8b1a792037b",
    "papermill": {
     "duration": 0.875983,
     "end_time": "2021-01-08T11:19:11.498613",
     "exception": false,
     "start_time": "2021-01-08T11:19:10.622630",
     "status": "completed"
    },
    "tags": []
   },
   "outputs": [
    {
     "data": {
      "text/html": [
       "<div>\n",
       "<style scoped>\n",
       "    .dataframe tbody tr th:only-of-type {\n",
       "        vertical-align: middle;\n",
       "    }\n",
       "\n",
       "    .dataframe tbody tr th {\n",
       "        vertical-align: top;\n",
       "    }\n",
       "\n",
       "    .dataframe thead th {\n",
       "        text-align: right;\n",
       "    }\n",
       "</style>\n",
       "<table border=\"1\" class=\"dataframe\">\n",
       "  <thead>\n",
       "    <tr style=\"text-align: right;\">\n",
       "      <th></th>\n",
       "      <th>left_eyebrow_outer_end_x</th>\n",
       "      <th>left_eyebrow_outer_end_y</th>\n",
       "      <th>Image</th>\n",
       "    </tr>\n",
       "  </thead>\n",
       "  <tbody>\n",
       "    <tr>\n",
       "      <th>0</th>\n",
       "      <td>80.227128</td>\n",
       "      <td>32.228138</td>\n",
       "      <td>[[238, 236, 237, 238, 240, 240, 239, 241, 241,...</td>\n",
       "    </tr>\n",
       "    <tr>\n",
       "      <th>1</th>\n",
       "      <td>78.634213</td>\n",
       "      <td>30.405923</td>\n",
       "      <td>[[219, 215, 204, 196, 204, 211, 212, 200, 180,...</td>\n",
       "    </tr>\n",
       "    <tr>\n",
       "      <th>2</th>\n",
       "      <td>78.887368</td>\n",
       "      <td>32.651621</td>\n",
       "      <td>[[144, 142, 159, 180, 188, 188, 184, 180, 167,...</td>\n",
       "    </tr>\n",
       "    <tr>\n",
       "      <th>3</th>\n",
       "      <td>77.910261</td>\n",
       "      <td>31.665725</td>\n",
       "      <td>[[193, 192, 193, 194, 194, 194, 193, 192, 168,...</td>\n",
       "    </tr>\n",
       "    <tr>\n",
       "      <th>4</th>\n",
       "      <td>77.762945</td>\n",
       "      <td>31.737247</td>\n",
       "      <td>[[147, 148, 160, 196, 215, 214, 216, 217, 219,...</td>\n",
       "    </tr>\n",
       "  </tbody>\n",
       "</table>\n",
       "</div>"
      ],
      "text/plain": [
       "   left_eyebrow_outer_end_x  left_eyebrow_outer_end_y  \\\n",
       "0                 80.227128                 32.228138   \n",
       "1                 78.634213                 30.405923   \n",
       "2                 78.887368                 32.651621   \n",
       "3                 77.910261                 31.665725   \n",
       "4                 77.762945                 31.737247   \n",
       "\n",
       "                                               Image  \n",
       "0  [[238, 236, 237, 238, 240, 240, 239, 241, 241,...  \n",
       "1  [[219, 215, 204, 196, 204, 211, 212, 200, 180,...  \n",
       "2  [[144, 142, 159, 180, 188, 188, 184, 180, 167,...  \n",
       "3  [[193, 192, 193, 194, 194, 194, 193, 192, 168,...  \n",
       "4  [[147, 148, 160, 196, 215, 214, 216, 217, 219,...  "
      ]
     },
     "execution_count": 9,
     "metadata": {},
     "output_type": "execute_result"
    }
   ],
   "source": [
    "dic_train_data[feature_name].head()"
   ]
  },
  {
   "cell_type": "markdown",
   "metadata": {
    "id": "Ys-qr2X5WKAR",
    "papermill": {
     "duration": 0.055643,
     "end_time": "2021-01-08T11:19:11.578401",
     "exception": false,
     "start_time": "2021-01-08T11:19:11.522758",
     "status": "completed"
    },
    "tags": []
   },
   "source": [
    "#### **Create custom Data Generator**\n",
    "\n",
    "**We will build a data generator that will load mini-batches and feed to the model dynamically**"
   ]
  },
  {
   "cell_type": "code",
   "execution_count": 10,
   "metadata": {
    "execution": {
     "iopub.execute_input": "2021-01-08T11:19:11.650667Z",
     "iopub.status.busy": "2021-01-08T11:19:11.645311Z",
     "iopub.status.idle": "2021-01-08T11:19:11.660284Z",
     "shell.execute_reply": "2021-01-08T11:19:11.660695Z"
    },
    "id": "i8PX_Elb-VQz",
    "papermill": {
     "duration": 0.05842,
     "end_time": "2021-01-08T11:19:11.660815",
     "exception": false,
     "start_time": "2021-01-08T11:19:11.602395",
     "status": "completed"
    },
    "tags": []
   },
   "outputs": [],
   "source": [
    "class DataGenerator(tf.keras.utils.Sequence):\n",
    "    def __init__(self, df, batch_size=32, rgb_channels=True, shuffle=True, augment=True, normalize_image=True, normalize_coordinates=False, scalers=None):\n",
    "        self.df = df\n",
    "        self.batch_size = batch_size\n",
    "        self.size = df.shape[0]\n",
    "        self.shuffle = shuffle\n",
    "        self.augment = augment\n",
    "        # Keras pre-trained models have trained on color images and if we want to use grayscale images we can still use these pre-trained models by repeating the grayscale image over three channels\n",
    "        self.rgb_channels = rgb_channels\n",
    "        self.normalize_image = normalize_image\n",
    "        self.normalize_coordinates = normalize_coordinates\n",
    "        self.scalers = scalers\n",
    "        self.feature_columns = df.columns.tolist()[:-1]\n",
    "        #  To keep track on which pairs of landmarks to be swapped, we introduce a dictionary recording the original and new landmark's index\n",
    "        self.left_right_dic = {'right_eye_center_x' : 'left_eye_center_x' ,\n",
    "                'right_eye_center_y' : 'left_eye_center_y' ,\n",
    "                'right_eye_inner_corner_x' : 'left_eye_inner_corner_x' ,\n",
    "                'right_eye_inner_corner_y' : 'left_eye_inner_corner_y' ,\n",
    "                'right_eye_outer_corner_x' : 'left_eye_outer_corner_x' ,\n",
    "                'right_eye_outer_corner_y' : 'left_eye_outer_corner_y' ,\n",
    "                'right_eyebrow_inner_end_x' : 'left_eyebrow_inner_end_x' ,\n",
    "                'right_eyebrow_inner_end_y' : 'left_eyebrow_inner_end_y' ,\n",
    "                'right_eyebrow_outer_end_x' : 'left_eyebrow_outer_end_x' ,\n",
    "                'right_eyebrow_outer_end_y' : 'left_eyebrow_outer_end_y' ,\n",
    "                'mouth_right_corner_x' : 'mouth_left_corner_x' ,\n",
    "                'mouth_right_corner_y' : 'mouth_left_corner_y' }\n",
    "        self.on_epoch_end()\n",
    "\n",
    "    def __len__(self):\n",
    "        'Denotes the number of batches per epoch'\n",
    "        return self.size // self.batch_size\n",
    "\n",
    "    def on_epoch_end(self):\n",
    "        'Updates indexes after each epoch'\n",
    "        self.indexes = np.arange(self.size)\n",
    "        if self.shuffle:\n",
    "            np.random.shuffle(self.indexes)\n",
    "\n",
    "    def __getitem__(self, index):\n",
    "        # selects indices of data for next batch`\n",
    "        indexes = self.indexes[index * self.batch_size : (index + 1) * self.batch_size]\n",
    "        'Generate one batch of data'\n",
    "        batched_df = self.df.iloc[indexes] #.sample(frac=1).reset_index(drop=True)\n",
    "\n",
    "        if self.augment == True:\n",
    "            df_batch = self.augmentor(batched_df)\n",
    "        else:\n",
    "            df_batch = batched_df\n",
    "\n",
    "\n",
    "        batched_images = np.vstack(df_batch[\"Image\"].values).reshape(-1, 96, 96, 1).astype(np.float32)\n",
    "        \n",
    "        if self.rgb_channels:\n",
    "            batched_images = np.repeat(batched_images,3,-1)\n",
    "\n",
    "        batched_feature_corrdinates = df_batch.iloc[:,:-1]\n",
    "        \n",
    "        if self.normalize_coordinates:\n",
    "            for col in self.feature_columns:\n",
    "                scaler = self.scalers[col]\n",
    "                batched_feature_corrdinates[col] = scaler.transform(batched_feature_corrdinates[col].to_numpy().reshape(-1, 1)).reshape(-1)\n",
    "\n",
    "        batched_feature_corrdinates = batched_feature_corrdinates.values.astype(np.float32) #feature coordinates        \n",
    "\n",
    "        if self.normalize_image == True:\n",
    "            batched_images = batched_images/255\n",
    "\n",
    "        return batched_images, batched_feature_corrdinates\n",
    "\n",
    "    def augmentor(self, df):\n",
    "\n",
    "        def flip_horizontally(row):\n",
    "            'Method that flips the image horizontally and swaps the features' \n",
    "            row[\"Image\"] = np.flip(row[\"Image\"], axis = 1)\n",
    "            # y coordinates values will stay the same while the x coordinates will have to be changed\n",
    "            # subtract our initial x-coordinate values from width of the image(96)\n",
    "            for i in range(len(self.feature_columns)):#+1\n",
    "                if i%2 == 0: # because there is always x coordinate then y corrdinate\n",
    "                    row[self.feature_columns[i]] = 96. - row[self.feature_columns[i]]\n",
    "            # swap\n",
    "            rights = [a for a in self.feature_columns if \"right\" in a.split(\"_\")]\n",
    "            for col_r in rights:\n",
    "                col_l = self.left_right_dic[col_r]\n",
    "                temp = row[col_l] \n",
    "                row[col_l] = row[col_r]\n",
    "                row[col_r] = temp\n",
    "            return row\n",
    "\n",
    "        def increase_brightness(image):\n",
    "            'Method that randomly increase images brightness'      \n",
    "            # Multiply pixel values by random values between 1 and 1.5 to increase the brightness of the image\n",
    "            # Clip the value between 0 and 255\n",
    "            image = np.clip(random.uniform(1, 1.5) * image, 0.0, 255.0)\n",
    "            return image\n",
    "\n",
    "        def decrease_brightness(image):\n",
    "            'Method that randomly decrease images brightness'\n",
    "            # Multiply pixel values by random values between 0 and 0.1 to decrease the brightness of the image\n",
    "            # Clip the value between 0 and 255\n",
    "            image = np.clip(random.uniform(0, 0.1) * image, 0.0, 255.0)\n",
    "            return image\n",
    "\n",
    "        def augment(row):\n",
    "        # if we have more than one feature allow flipping\n",
    "            if len(self.feature_columns)>2:\n",
    "                if row[\"augment_flip\"]==1:\n",
    "                    row =  flip_horizontally(row)\n",
    "            if row[\"augment_inc_b\"]:\n",
    "                row[\"Image\"] = increase_brightness(row[\"Image\"])\n",
    "            if row[\"augment_dec_b\"]:\n",
    "                row[\"Image\"] = decrease_brightness(row[\"Image\"])\n",
    "            return row\n",
    "\n",
    "      # generate random boolean for augmentation types \n",
    "        df[\"augment_flip\"] = [random.getrandbits(1) for i in range(len(df))]\n",
    "        df[\"augment_inc_b\"] = [random.getrandbits(1) for i in range(len(df))]\n",
    "        df[\"augment_dec_b\"] = [random.getrandbits(1) for i in range(len(df))]\n",
    "        # df = df.apply(lambda row : augment(row), axis=1)\n",
    "        df = df.apply(augment, axis=1)\n",
    "        df.drop(['augment_flip', 'augment_inc_b', 'augment_dec_b'], axis=1, inplace=True)\n",
    "        return df\n"
   ]
  },
  {
   "cell_type": "code",
   "execution_count": 11,
   "metadata": {
    "execution": {
     "iopub.execute_input": "2021-01-08T11:19:11.720309Z",
     "iopub.status.busy": "2021-01-08T11:19:11.718647Z",
     "iopub.status.idle": "2021-01-08T11:19:11.720968Z",
     "shell.execute_reply": "2021-01-08T11:19:11.721371Z"
    },
    "id": "68VI4DWX-EnV",
    "papermill": {
     "duration": 0.036628,
     "end_time": "2021-01-08T11:19:11.721494",
     "exception": false,
     "start_time": "2021-01-08T11:19:11.684866",
     "status": "completed"
    },
    "tags": []
   },
   "outputs": [],
   "source": [
    "def visualize_image(x, y=None, y_predicted=None):\n",
    "  # x-coordinates are in even columns like 0,2,4,.. and y-coordinates are in odd columns like 1,3,5,..\n",
    "    plt.figure()\n",
    "    plt.imshow(x, cmap='gray')\n",
    "    if y is not None:\n",
    "        f = y.shape[0]\n",
    "        for j in range(0,f,2):\n",
    "            plt.plot(y[j], y[j+1], 'X', color='blue', label='actual')\n",
    "    if y_predicted is not None:\n",
    "        f = y_predicted.shape[0]\n",
    "        for j in range(0,f,2):\n",
    "            plt.plot(y_predicted[j], y_predicted[j+1], 'X', color='red', label='predicted')\n",
    "    plt.legend()"
   ]
  },
  {
   "cell_type": "markdown",
   "metadata": {
    "id": "eX1dSeiRCUUE",
    "papermill": {
     "duration": 0.024129,
     "end_time": "2021-01-08T11:19:11.769689",
     "exception": false,
     "start_time": "2021-01-08T11:19:11.745560",
     "status": "completed"
    },
    "tags": []
   },
   "source": [
    "Lets try the data generator and visuilize some images"
   ]
  },
  {
   "cell_type": "markdown",
   "metadata": {
    "id": "cdehN9mvIsan",
    "papermill": {
     "duration": 0.023876,
     "end_time": "2021-01-08T11:19:11.817707",
     "exception": false,
     "start_time": "2021-01-08T11:19:11.793831",
     "status": "completed"
    },
    "tags": []
   },
   "source": [
    "### Part 1.3  Building a Prediction model for a feature"
   ]
  },
  {
   "cell_type": "markdown",
   "metadata": {
    "id": "ph_UEDMwcEvX",
    "papermill": {
     "duration": 0.024784,
     "end_time": "2021-01-08T11:19:11.867048",
     "exception": false,
     "start_time": "2021-01-08T11:19:11.842264",
     "status": "completed"
    },
    "tags": []
   },
   "source": [
    "#### **Prepare data generators to train the model**"
   ]
  },
  {
   "cell_type": "markdown",
   "metadata": {
    "id": "ACe1Z0-GvdBs",
    "papermill": {
     "duration": 0.024165,
     "end_time": "2021-01-08T11:19:11.915588",
     "exception": false,
     "start_time": "2021-01-08T11:19:11.891423",
     "status": "completed"
    },
    "tags": []
   },
   "source": [
    "##### **Split the data into train and test**"
   ]
  },
  {
   "cell_type": "code",
   "execution_count": 12,
   "metadata": {
    "execution": {
     "iopub.execute_input": "2021-01-08T11:19:11.974879Z",
     "iopub.status.busy": "2021-01-08T11:19:11.974045Z",
     "iopub.status.idle": "2021-01-08T11:19:11.979568Z",
     "shell.execute_reply": "2021-01-08T11:19:11.978917Z"
    },
    "id": "Wz9DPZKppGXK",
    "outputId": "316ac4e0-0178-4692-e984-204c6ff49f72",
    "papermill": {
     "duration": 0.039632,
     "end_time": "2021-01-08T11:19:11.979692",
     "exception": false,
     "start_time": "2021-01-08T11:19:11.940060",
     "status": "completed"
    },
    "tags": []
   },
   "outputs": [
    {
     "name": "stdout",
     "output_type": "stream",
     "text": [
      "(2225, 3) (1780, 3) (445, 3)\n"
     ]
    }
   ],
   "source": [
    "df = dic_train_data[feature_name]\n",
    "# Split the data into training and testing data\n",
    "df_train, df_test = train_test_split(df, test_size = 0.2, random_state=None)\n",
    "print(df.shape, df_train.shape, df_test.shape)"
   ]
  },
  {
   "cell_type": "code",
   "execution_count": 13,
   "metadata": {
    "execution": {
     "iopub.execute_input": "2021-01-08T11:19:12.039853Z",
     "iopub.status.busy": "2021-01-08T11:19:12.039054Z",
     "iopub.status.idle": "2021-01-08T11:19:12.890845Z",
     "shell.execute_reply": "2021-01-08T11:19:12.891267Z"
    },
    "id": "iJ7K_1lndPKu",
    "outputId": "abda56ba-925c-43d9-ac1c-512dcbb269f6",
    "papermill": {
     "duration": 0.886577,
     "end_time": "2021-01-08T11:19:12.891386",
     "exception": false,
     "start_time": "2021-01-08T11:19:12.004809",
     "status": "completed"
    },
    "tags": []
   },
   "outputs": [
    {
     "data": {
      "text/html": [
       "<div>\n",
       "<style scoped>\n",
       "    .dataframe tbody tr th:only-of-type {\n",
       "        vertical-align: middle;\n",
       "    }\n",
       "\n",
       "    .dataframe tbody tr th {\n",
       "        vertical-align: top;\n",
       "    }\n",
       "\n",
       "    .dataframe thead th {\n",
       "        text-align: right;\n",
       "    }\n",
       "</style>\n",
       "<table border=\"1\" class=\"dataframe\">\n",
       "  <thead>\n",
       "    <tr style=\"text-align: right;\">\n",
       "      <th></th>\n",
       "      <th>left_eyebrow_outer_end_x</th>\n",
       "      <th>left_eyebrow_outer_end_y</th>\n",
       "      <th>Image</th>\n",
       "    </tr>\n",
       "  </thead>\n",
       "  <tbody>\n",
       "    <tr>\n",
       "      <th>338</th>\n",
       "      <td>79.194880</td>\n",
       "      <td>29.317888</td>\n",
       "      <td>[[201, 203, 205, 205, 205, 205, 206, 205, 209,...</td>\n",
       "    </tr>\n",
       "    <tr>\n",
       "      <th>473</th>\n",
       "      <td>78.199385</td>\n",
       "      <td>31.321846</td>\n",
       "      <td>[[76, 82, 87, 102, 111, 111, 110, 109, 110, 13...</td>\n",
       "    </tr>\n",
       "    <tr>\n",
       "      <th>2105</th>\n",
       "      <td>84.283105</td>\n",
       "      <td>25.747131</td>\n",
       "      <td>[[218, 215, 217, 221, 222, 223, 220, 221, 227,...</td>\n",
       "    </tr>\n",
       "    <tr>\n",
       "      <th>1220</th>\n",
       "      <td>84.768000</td>\n",
       "      <td>32.371872</td>\n",
       "      <td>[[255, 254, 255, 104, 21, 29, 27, 23, 22, 20, ...</td>\n",
       "    </tr>\n",
       "    <tr>\n",
       "      <th>2247</th>\n",
       "      <td>77.084972</td>\n",
       "      <td>25.594063</td>\n",
       "      <td>[[1, 0, 0, 0, 0, 1, 1, 2, 2, 2, 2, 2, 4, 4, 3,...</td>\n",
       "    </tr>\n",
       "  </tbody>\n",
       "</table>\n",
       "</div>"
      ],
      "text/plain": [
       "      left_eyebrow_outer_end_x  left_eyebrow_outer_end_y  \\\n",
       "338                  79.194880                 29.317888   \n",
       "473                  78.199385                 31.321846   \n",
       "2105                 84.283105                 25.747131   \n",
       "1220                 84.768000                 32.371872   \n",
       "2247                 77.084972                 25.594063   \n",
       "\n",
       "                                                  Image  \n",
       "338   [[201, 203, 205, 205, 205, 205, 206, 205, 209,...  \n",
       "473   [[76, 82, 87, 102, 111, 111, 110, 109, 110, 13...  \n",
       "2105  [[218, 215, 217, 221, 222, 223, 220, 221, 227,...  \n",
       "1220  [[255, 254, 255, 104, 21, 29, 27, 23, 22, 20, ...  \n",
       "2247  [[1, 0, 0, 0, 0, 1, 1, 2, 2, 2, 2, 2, 4, 4, 3,...  "
      ]
     },
     "execution_count": 13,
     "metadata": {},
     "output_type": "execute_result"
    }
   ],
   "source": [
    "df_train.head()"
   ]
  },
  {
   "cell_type": "markdown",
   "metadata": {
    "id": "Zo9gt1mXu2fd",
    "papermill": {
     "duration": 0.025049,
     "end_time": "2021-01-08T11:19:12.941871",
     "exception": false,
     "start_time": "2021-01-08T11:19:12.916822",
     "status": "completed"
    },
    "tags": []
   },
   "source": [
    "##### **Build scalers for normalizing feature data**"
   ]
  },
  {
   "cell_type": "code",
   "execution_count": 14,
   "metadata": {
    "execution": {
     "iopub.execute_input": "2021-01-08T11:19:12.998797Z",
     "iopub.status.busy": "2021-01-08T11:19:12.998154Z",
     "iopub.status.idle": "2021-01-08T11:19:13.002604Z",
     "shell.execute_reply": "2021-01-08T11:19:13.002086Z"
    },
    "id": "9t4-hf0gIeSw",
    "papermill": {
     "duration": 0.035773,
     "end_time": "2021-01-08T11:19:13.002692",
     "exception": false,
     "start_time": "2021-01-08T11:19:12.966919",
     "status": "completed"
    },
    "tags": []
   },
   "outputs": [],
   "source": [
    "scalers_dict = dict()\n",
    "for col in df.columns.tolist()[:-1]:\n",
    "    scaler = MinMaxScaler()\n",
    "    scaler.fit(df[col].to_numpy().reshape(-1, 1))\n",
    "    scalers_dict[col] = scaler\n",
    "\n",
    "\n",
    "\n",
    "pkl.dump(scalers_dict, open(scalers_path,\"wb\"))\n"
   ]
  },
  {
   "cell_type": "markdown",
   "metadata": {
    "id": "WZNeHGhxvnSH",
    "papermill": {
     "duration": 0.025257,
     "end_time": "2021-01-08T11:19:13.053257",
     "exception": false,
     "start_time": "2021-01-08T11:19:13.028000",
     "status": "completed"
    },
    "tags": []
   },
   "source": [
    "##### **Build train and validation data generators**"
   ]
  },
  {
   "cell_type": "code",
   "execution_count": 15,
   "metadata": {
    "execution": {
     "iopub.execute_input": "2021-01-08T11:19:13.109333Z",
     "iopub.status.busy": "2021-01-08T11:19:13.108818Z",
     "iopub.status.idle": "2021-01-08T11:19:13.112691Z",
     "shell.execute_reply": "2021-01-08T11:19:13.112228Z"
    },
    "id": "HERnPWEBc83D",
    "papermill": {
     "duration": 0.033862,
     "end_time": "2021-01-08T11:19:13.112775",
     "exception": false,
     "start_time": "2021-01-08T11:19:13.078913",
     "status": "completed"
    },
    "tags": []
   },
   "outputs": [],
   "source": [
    " \n",
    "train_generator = DataGenerator(df_train, batch_size=32, normalize_image=True, normalize_coordinates=True, scalers=scalers_dict)\n",
    "val_generator =  DataGenerator(df_test, batch_size=32,  augment=False, normalize_image=True,  normalize_coordinates=True,  scalers=train_generator.scalers)"
   ]
  },
  {
   "cell_type": "markdown",
   "metadata": {
    "id": "Ctn-Hf0Nc5p_",
    "papermill": {
     "duration": 0.025497,
     "end_time": "2021-01-08T11:19:13.163548",
     "exception": false,
     "start_time": "2021-01-08T11:19:13.138051",
     "status": "completed"
    },
    "tags": []
   },
   "source": [
    "#### **Build a Prediction model**"
   ]
  },
  {
   "cell_type": "code",
   "execution_count": 16,
   "metadata": {
    "execution": {
     "iopub.execute_input": "2021-01-08T11:19:13.231184Z",
     "iopub.status.busy": "2021-01-08T11:19:13.230037Z",
     "iopub.status.idle": "2021-01-08T11:19:13.233145Z",
     "shell.execute_reply": "2021-01-08T11:19:13.232705Z"
    },
    "id": "WHg8_6ZgPvoJ",
    "papermill": {
     "duration": 0.044343,
     "end_time": "2021-01-08T11:19:13.233225",
     "exception": false,
     "start_time": "2021-01-08T11:19:13.188882",
     "status": "completed"
    },
    "tags": []
   },
   "outputs": [],
   "source": [
    "from tensorflow.keras.applications import EfficientNetB0, VGG16\n",
    "\n",
    "def create_efficientNet(nbr_features):\n",
    "    inputs = tf.keras.Input(shape=(96, 96, 3))  \n",
    "    # This option include_top excludes the final Dense layer.\n",
    "    # This allows us to replace the top layer with custom layers which allows the use of  EfficientNet as a feature extractor in a transfer learning workflow\n",
    "    model = EfficientNetB0(include_top=False, input_tensor=inputs, weights=\"imagenet\")#, drop_connect_rate=0.1)\n",
    "    # Freeze the pretrained weights\n",
    "    model.trainable = False\n",
    "\n",
    "    # Rebuild top\n",
    "    x = GlobalAveragePooling2D()(model.output)    \n",
    "    x = BatchNormalization()(x)\n",
    "    x = Dropout(0.4)(x)\n",
    "    outputs = Dense(nbr_features,activation='relu')(x)\n",
    "\n",
    "    # Compile\n",
    "    model = keras.Model(inputs, outputs)\n",
    "    return model\n",
    "\n",
    "def create_vgg16(nbr_features):\n",
    "\n",
    "    #Get back the convolutional part of a VGG network trained on ImageNet\n",
    "    model = VGG16(weights='imagenet', include_top=False)\n",
    "    model.trainable = False\n",
    "    #Create your own input format (here 3x200x200)\n",
    "    inputs = Input(shape=(96,96,3))\n",
    "\n",
    "    #Use the generated model \n",
    "    output_vgg16 = model(inputs)\n",
    "\n",
    "    #Add the fully-connected layers \n",
    "    x = Flatten()(output_vgg16)\n",
    "    x = Dense(64, activation='relu')(x)\n",
    "    # x = Dense(32, activation='relu')(x)\n",
    "    outputs = Dense(nbr_features, activation='relu')(x)\n",
    "\n",
    "    #Create your own model \n",
    "    model = keras.Model(inputs=inputs, outputs=outputs)\n",
    "    return model\n",
    "\n",
    "\n",
    "def create_simple_model(nbr_features):\n",
    "  # vanillia CNN model\n",
    "    model = Sequential()\n",
    "    model.add(Conv2D(16, kernel_size=(5, 5), activation='relu', input_shape=(96, 96 , 1)))\n",
    "    model.add(MaxPooling2D(pool_size=(2, 2), strides=2))\n",
    "    model.add(Conv2D(48, (3, 3), activation='relu'))\n",
    "    model.add(MaxPooling2D(pool_size=(2, 2), strides=2))\n",
    "    model.add(Conv2D(64, (3, 3), activation='relu'))\n",
    "    model.add(MaxPooling2D(pool_size=(2, 2), strides=2))\n",
    "    model.add(Conv2D(64, (2, 2), activation='relu'))\n",
    "    model.add(Flatten())\n",
    "    model.add(Dense(100, activation='relu'))\n",
    "    model.add(Dense(nbr_features, activation='relu'))\n",
    "    return model\n"
   ]
  },
  {
   "cell_type": "code",
   "execution_count": 17,
   "metadata": {
    "execution": {
     "iopub.execute_input": "2021-01-08T11:19:13.288423Z",
     "iopub.status.busy": "2021-01-08T11:19:13.287945Z",
     "iopub.status.idle": "2021-01-08T11:19:19.513584Z",
     "shell.execute_reply": "2021-01-08T11:19:19.512520Z"
    },
    "id": "ofh5qnydxTwZ",
    "outputId": "07bd6fcc-e67a-409e-813c-a4d839c5966b",
    "papermill": {
     "duration": 6.254907,
     "end_time": "2021-01-08T11:19:19.513708",
     "exception": false,
     "start_time": "2021-01-08T11:19:13.258801",
     "status": "completed"
    },
    "tags": []
   },
   "outputs": [
    {
     "name": "stdout",
     "output_type": "stream",
     "text": [
      "Downloading data from https://storage.googleapis.com/keras-applications/efficientnetb0_notop.h5\n",
      "16711680/16705208 [==============================] - 0s 0us/step\n"
     ]
    }
   ],
   "source": [
    "nbr_features = 2\n",
    "# create the model\n",
    "model = create_efficientNet(nbr_features)\n",
    "# model = create_vgg16(nbr_features)"
   ]
  },
  {
   "cell_type": "markdown",
   "metadata": {
    "id": "cJ8vd7UwtrYg",
    "papermill": {
     "duration": 0.026865,
     "end_time": "2021-01-08T11:19:19.567979",
     "exception": false,
     "start_time": "2021-01-08T11:19:19.541114",
     "status": "completed"
    },
    "tags": []
   },
   "source": [
    "#### **Define custom loss and compile the model**"
   ]
  },
  {
   "cell_type": "code",
   "execution_count": 18,
   "metadata": {
    "execution": {
     "iopub.execute_input": "2021-01-08T11:19:19.793418Z",
     "iopub.status.busy": "2021-01-08T11:19:19.792345Z",
     "iopub.status.idle": "2021-01-08T11:19:19.800379Z",
     "shell.execute_reply": "2021-01-08T11:19:19.799879Z"
    },
    "id": "tXRRM-KrLjfE",
    "papermill": {
     "duration": 0.186583,
     "end_time": "2021-01-08T11:19:19.800499",
     "exception": false,
     "start_time": "2021-01-08T11:19:19.613916",
     "status": "completed"
    },
    "tags": []
   },
   "outputs": [],
   "source": [
    "import tensorflow.keras.backend as K\n",
    "\n",
    "def euclidean_distance_loss(y_true, y_pred):\n",
    "  #     Euclidean distance loss\n",
    "    return K.sqrt(K.sum(K.square(y_pred - y_true), axis=-1))\n",
    "\n",
    "def absolute_tanh(x):\n",
    "    return K.abs(K.tanh(x))\n",
    "\n",
    "# MeanAbsoluteError(), MeanAbsolutePercentageError()\n",
    "model.compile(loss=euclidean_distance_loss,\n",
    "              optimizer=keras.optimizers.Adam(learning_rate=1e-4),\n",
    "              )\n",
    "\n",
    "def unfreeze_model(model):\n",
    "    # We unfreeze the top 5 layers while leaving BatchNorm layers frozen\n",
    "    for layer in model.layers[-25:]:\n",
    "        if not isinstance(layer, keras.layers.BatchNormalization):\n",
    "            layer.trainable = True"
   ]
  },
  {
   "cell_type": "markdown",
   "metadata": {
    "id": "XOn3P3dcvy7T",
    "papermill": {
     "duration": 0.027996,
     "end_time": "2021-01-08T11:19:19.856162",
     "exception": false,
     "start_time": "2021-01-08T11:19:19.828166",
     "status": "completed"
    },
    "tags": []
   },
   "source": [
    "#### **Start training**"
   ]
  },
  {
   "cell_type": "code",
   "execution_count": 19,
   "metadata": {
    "execution": {
     "iopub.execute_input": "2021-01-08T11:19:19.932402Z",
     "iopub.status.busy": "2021-01-08T11:19:19.928433Z",
     "iopub.status.idle": "2021-01-08T11:22:05.001863Z",
     "shell.execute_reply": "2021-01-08T11:22:05.001346Z"
    },
    "id": "7AWepBFAc9LR",
    "outputId": "98eb52a4-9bf9-4246-baab-cd0b9085d99c",
    "papermill": {
     "duration": 165.118456,
     "end_time": "2021-01-08T11:22:05.001977",
     "exception": false,
     "start_time": "2021-01-08T11:19:19.883521",
     "status": "completed"
    },
    "tags": []
   },
   "outputs": [
    {
     "name": "stdout",
     "output_type": "stream",
     "text": [
      "Epoch 1/100\n",
      "55/55 [==============================] - 3s 51ms/step - loss: 0.6511 - val_loss: 0.6831\n",
      "Epoch 2/100\n",
      "55/55 [==============================] - 1s 25ms/step - loss: 0.6104 - val_loss: 0.6291\n",
      "Epoch 3/100\n",
      "55/55 [==============================] - 1s 25ms/step - loss: 0.6095 - val_loss: 0.6042\n",
      "Epoch 4/100\n",
      "55/55 [==============================] - 1s 25ms/step - loss: 0.5924 - val_loss: 0.5671\n",
      "Epoch 5/100\n",
      "55/55 [==============================] - 2s 32ms/step - loss: 0.5881 - val_loss: 0.5439\n",
      "Epoch 6/100\n",
      "55/55 [==============================] - 1s 26ms/step - loss: 0.5911 - val_loss: 0.5081\n",
      "Epoch 7/100\n",
      "55/55 [==============================] - 1s 26ms/step - loss: 0.5620 - val_loss: 0.4591\n",
      "Epoch 8/100\n",
      "55/55 [==============================] - 1s 27ms/step - loss: 0.5408 - val_loss: 0.4219\n",
      "Epoch 9/100\n",
      "55/55 [==============================] - 1s 26ms/step - loss: 0.5495 - val_loss: 0.4257\n",
      "Epoch 10/100\n",
      "55/55 [==============================] - 1s 26ms/step - loss: 0.5389 - val_loss: 0.4062\n",
      "Epoch 11/100\n",
      "55/55 [==============================] - 1s 25ms/step - loss: 0.5348 - val_loss: 0.3963\n",
      "Epoch 12/100\n",
      "55/55 [==============================] - 2s 40ms/step - loss: 0.5405 - val_loss: 0.3965\n",
      "Epoch 13/100\n",
      "55/55 [==============================] - 1s 25ms/step - loss: 0.5355 - val_loss: 0.4000\n",
      "Epoch 14/100\n",
      "55/55 [==============================] - 1s 27ms/step - loss: 0.5284 - val_loss: 0.3914\n",
      "Epoch 15/100\n",
      "55/55 [==============================] - 1s 25ms/step - loss: 0.5229 - val_loss: 0.3908\n",
      "Epoch 16/100\n",
      "55/55 [==============================] - 1s 25ms/step - loss: 0.5333 - val_loss: 0.3887\n",
      "Epoch 17/100\n",
      "55/55 [==============================] - 1s 25ms/step - loss: 0.5393 - val_loss: 0.3902\n",
      "Epoch 18/100\n",
      "55/55 [==============================] - 1s 25ms/step - loss: 0.5050 - val_loss: 0.3923\n",
      "Epoch 19/100\n",
      "55/55 [==============================] - 2s 30ms/step - loss: 0.5057 - val_loss: 0.3904\n",
      "Epoch 20/100\n",
      "55/55 [==============================] - 1s 26ms/step - loss: 0.5053 - val_loss: 0.3603\n",
      "Epoch 21/100\n",
      "55/55 [==============================] - 1s 25ms/step - loss: 0.5019 - val_loss: 0.3657\n",
      "Epoch 22/100\n",
      "55/55 [==============================] - 1s 25ms/step - loss: 0.5077 - val_loss: 0.3373\n",
      "Epoch 23/100\n",
      "55/55 [==============================] - 1s 26ms/step - loss: 0.5066 - val_loss: 0.3579\n",
      "Epoch 24/100\n",
      "55/55 [==============================] - 1s 25ms/step - loss: 0.5021 - val_loss: 0.3303\n",
      "Epoch 25/100\n",
      "55/55 [==============================] - 1s 25ms/step - loss: 0.4923 - val_loss: 0.3546\n",
      "Epoch 26/100\n",
      "55/55 [==============================] - 1s 25ms/step - loss: 0.4689 - val_loss: 0.3410\n",
      "Epoch 27/100\n",
      "55/55 [==============================] - 2s 31ms/step - loss: 0.4870 - val_loss: 0.3301\n",
      "Epoch 28/100\n",
      "55/55 [==============================] - 1s 26ms/step - loss: 0.4774 - val_loss: 0.2889\n",
      "Epoch 29/100\n",
      "55/55 [==============================] - 1s 25ms/step - loss: 0.4737 - val_loss: 0.2969\n",
      "Epoch 30/100\n",
      "55/55 [==============================] - 2s 30ms/step - loss: 0.4703 - val_loss: 0.2718\n",
      "Epoch 31/100\n",
      "55/55 [==============================] - 1s 27ms/step - loss: 0.4767 - val_loss: 0.3072\n",
      "Epoch 32/100\n",
      "55/55 [==============================] - 2s 31ms/step - loss: 0.4709 - val_loss: 0.2954\n",
      "Epoch 33/100\n",
      "55/55 [==============================] - 2s 33ms/step - loss: 0.4567 - val_loss: 0.2950\n",
      "Epoch 34/100\n",
      "55/55 [==============================] - 2s 36ms/step - loss: 0.4691 - val_loss: 0.2927\n",
      "Epoch 35/100\n",
      "55/55 [==============================] - 1s 27ms/step - loss: 0.4487 - val_loss: 0.3121\n",
      "Epoch 36/100\n",
      "55/55 [==============================] - 1s 26ms/step - loss: 0.4406 - val_loss: 0.2802\n",
      "Epoch 37/100\n",
      "55/55 [==============================] - 1s 26ms/step - loss: 0.4454 - val_loss: 0.2676\n",
      "Epoch 38/100\n",
      "55/55 [==============================] - 1s 26ms/step - loss: 0.4394 - val_loss: 0.2446\n",
      "Epoch 39/100\n",
      "55/55 [==============================] - 1s 26ms/step - loss: 0.4408 - val_loss: 0.2796\n",
      "Epoch 40/100\n",
      "55/55 [==============================] - 2s 30ms/step - loss: 0.4285 - val_loss: 0.2841\n",
      "Epoch 41/100\n",
      "55/55 [==============================] - 1s 26ms/step - loss: 0.4286 - val_loss: 0.2323\n",
      "Epoch 42/100\n",
      "55/55 [==============================] - 1s 25ms/step - loss: 0.4132 - val_loss: 0.2159\n",
      "Epoch 43/100\n",
      "55/55 [==============================] - 1s 26ms/step - loss: 0.4156 - val_loss: 0.2211\n",
      "Epoch 44/100\n",
      "55/55 [==============================] - 1s 25ms/step - loss: 0.4153 - val_loss: 0.2341\n",
      "Epoch 45/100\n",
      "55/55 [==============================] - 1s 25ms/step - loss: 0.4095 - val_loss: 0.2141\n",
      "Epoch 46/100\n",
      "55/55 [==============================] - 1s 25ms/step - loss: 0.4150 - val_loss: 0.1929\n",
      "Epoch 47/100\n",
      "55/55 [==============================] - 1s 25ms/step - loss: 0.4112 - val_loss: 0.2043\n",
      "Epoch 48/100\n",
      "55/55 [==============================] - 2s 31ms/step - loss: 0.4006 - val_loss: 0.1605\n",
      "Epoch 49/100\n",
      "55/55 [==============================] - 1s 26ms/step - loss: 0.3933 - val_loss: 0.1486\n",
      "Epoch 50/100\n",
      "55/55 [==============================] - 1s 26ms/step - loss: 0.3930 - val_loss: 0.1284\n",
      "Epoch 51/100\n",
      "55/55 [==============================] - 1s 25ms/step - loss: 0.3881 - val_loss: 0.1580\n",
      "Epoch 52/100\n",
      "55/55 [==============================] - 1s 26ms/step - loss: 0.3876 - val_loss: 0.1460\n",
      "Epoch 53/100\n",
      "55/55 [==============================] - 2s 34ms/step - loss: 0.3850 - val_loss: 0.1443\n",
      "Epoch 54/100\n",
      "55/55 [==============================] - 2s 31ms/step - loss: 0.3771 - val_loss: 0.1464\n",
      "Epoch 55/100\n",
      "55/55 [==============================] - 2s 28ms/step - loss: 0.3694 - val_loss: 0.1556\n",
      "Epoch 56/100\n",
      "55/55 [==============================] - 1s 26ms/step - loss: 0.3628 - val_loss: 0.1340\n",
      "Epoch 57/100\n",
      "55/55 [==============================] - 1s 25ms/step - loss: 0.3661 - val_loss: 0.1410\n",
      "Epoch 58/100\n",
      "55/55 [==============================] - 1s 25ms/step - loss: 0.3487 - val_loss: 0.1444\n",
      "Epoch 59/100\n",
      "55/55 [==============================] - 1s 25ms/step - loss: 0.3424 - val_loss: 0.1080\n",
      "Epoch 60/100\n",
      "55/55 [==============================] - 1s 25ms/step - loss: 0.3523 - val_loss: 0.1338\n",
      "Epoch 61/100\n",
      "55/55 [==============================] - 1s 25ms/step - loss: 0.3392 - val_loss: 0.1121\n",
      "Epoch 62/100\n",
      "55/55 [==============================] - 2s 32ms/step - loss: 0.3331 - val_loss: 0.1181\n",
      "Epoch 63/100\n",
      "55/55 [==============================] - 1s 27ms/step - loss: 0.3365 - val_loss: 0.1062\n",
      "Epoch 64/100\n",
      "55/55 [==============================] - 1s 26ms/step - loss: 0.3288 - val_loss: 0.0893\n",
      "Epoch 65/100\n",
      "55/55 [==============================] - 1s 26ms/step - loss: 0.3232 - val_loss: 0.0840\n",
      "Epoch 66/100\n",
      "55/55 [==============================] - 1s 26ms/step - loss: 0.3192 - val_loss: 0.0847\n",
      "Epoch 67/100\n",
      "55/55 [==============================] - 1s 26ms/step - loss: 0.3100 - val_loss: 0.0934\n",
      "Epoch 68/100\n",
      "55/55 [==============================] - 1s 26ms/step - loss: 0.3138 - val_loss: 0.0786\n",
      "Epoch 69/100\n",
      "55/55 [==============================] - 2s 43ms/step - loss: 0.3077 - val_loss: 0.0813\n",
      "Epoch 70/100\n",
      "55/55 [==============================] - 1s 27ms/step - loss: 0.3038 - val_loss: 0.0865\n",
      "Epoch 71/100\n",
      "55/55 [==============================] - 1s 26ms/step - loss: 0.2908 - val_loss: 0.0838\n",
      "Epoch 72/100\n",
      "55/55 [==============================] - 2s 32ms/step - loss: 0.3016 - val_loss: 0.0789\n",
      "Epoch 73/100\n",
      "55/55 [==============================] - 2s 42ms/step - loss: 0.2901 - val_loss: 0.0765\n",
      "Epoch 74/100\n",
      "55/55 [==============================] - 1s 26ms/step - loss: 0.2815 - val_loss: 0.0763\n",
      "Epoch 75/100\n",
      "55/55 [==============================] - 2s 31ms/step - loss: 0.2820 - val_loss: 0.0786\n",
      "Epoch 76/100\n",
      "55/55 [==============================] - 1s 26ms/step - loss: 0.2761 - val_loss: 0.0768\n",
      "Epoch 77/100\n",
      "55/55 [==============================] - 1s 25ms/step - loss: 0.2677 - val_loss: 0.0818\n",
      "Epoch 78/100\n",
      "55/55 [==============================] - 1s 26ms/step - loss: 0.2679 - val_loss: 0.0782\n",
      "Epoch 79/100\n",
      "55/55 [==============================] - 1s 25ms/step - loss: 0.2591 - val_loss: 0.0801\n",
      "Epoch 80/100\n",
      "55/55 [==============================] - 1s 25ms/step - loss: 0.2591 - val_loss: 0.0783\n",
      "Epoch 81/100\n",
      "55/55 [==============================] - 1s 25ms/step - loss: 0.2612 - val_loss: 0.0742\n",
      "Epoch 82/100\n",
      "55/55 [==============================] - 2s 29ms/step - loss: 0.2567 - val_loss: 0.0757\n",
      "Epoch 83/100\n",
      "55/55 [==============================] - 1s 26ms/step - loss: 0.2532 - val_loss: 0.0756\n",
      "Epoch 84/100\n",
      "55/55 [==============================] - 1s 25ms/step - loss: 0.2501 - val_loss: 0.0822\n",
      "Epoch 85/100\n",
      "55/55 [==============================] - 1s 26ms/step - loss: 0.2480 - val_loss: 0.0863\n",
      "Epoch 86/100\n",
      "55/55 [==============================] - 1s 25ms/step - loss: 0.2318 - val_loss: 0.0809\n",
      "Epoch 87/100\n",
      "55/55 [==============================] - 1s 26ms/step - loss: 0.2313 - val_loss: 0.0775\n",
      "Epoch 88/100\n",
      "55/55 [==============================] - 1s 26ms/step - loss: 0.2292 - val_loss: 0.0776\n",
      "Epoch 89/100\n",
      "55/55 [==============================] - 1s 26ms/step - loss: 0.2297 - val_loss: 0.0784\n",
      "Epoch 90/100\n",
      "55/55 [==============================] - 2s 31ms/step - loss: 0.2216 - val_loss: 0.0830\n",
      "Epoch 91/100\n",
      "55/55 [==============================] - 1s 26ms/step - loss: 0.2189 - val_loss: 0.0810\n",
      "Epoch 92/100\n",
      "55/55 [==============================] - 1s 26ms/step - loss: 0.2107 - val_loss: 0.0803\n",
      "Epoch 93/100\n",
      "55/55 [==============================] - 2s 29ms/step - loss: 0.2116 - val_loss: 0.0756\n",
      "Epoch 94/100\n",
      "55/55 [==============================] - 2s 37ms/step - loss: 0.2170 - val_loss: 0.0826\n",
      "Epoch 95/100\n",
      "55/55 [==============================] - 1s 25ms/step - loss: 0.2006 - val_loss: 0.0755\n",
      "Epoch 96/100\n",
      "55/55 [==============================] - 2s 29ms/step - loss: 0.2068 - val_loss: 0.0790\n",
      "Epoch 97/100\n",
      "55/55 [==============================] - 1s 27ms/step - loss: 0.2011 - val_loss: 0.0796\n",
      "Epoch 98/100\n",
      "55/55 [==============================] - 1s 25ms/step - loss: 0.1958 - val_loss: 0.0762\n",
      "Epoch 99/100\n",
      "55/55 [==============================] - 1s 26ms/step - loss: 0.1972 - val_loss: 0.0785\n",
      "Epoch 100/100\n",
      "55/55 [==============================] - 1s 25ms/step - loss: 0.1918 - val_loss: 0.0778\n"
     ]
    }
   ],
   "source": [
    "#10 + 10 +10\n",
    "unfreeze_model(model)\n",
    "\n",
    "history = model.fit(train_generator, \n",
    "                    validation_data=val_generator,\n",
    "                    epochs=100)"
   ]
  },
  {
   "cell_type": "markdown",
   "metadata": {
    "id": "HvHov45D2qwx",
    "papermill": {
     "duration": 0.608809,
     "end_time": "2021-01-08T11:22:06.227750",
     "exception": false,
     "start_time": "2021-01-08T11:22:05.618941",
     "status": "completed"
    },
    "tags": []
   },
   "source": [
    "#### **Evaluate the model**"
   ]
  },
  {
   "cell_type": "code",
   "execution_count": 20,
   "metadata": {
    "execution": {
     "iopub.execute_input": "2021-01-08T11:22:07.458671Z",
     "iopub.status.busy": "2021-01-08T11:22:07.457684Z",
     "iopub.status.idle": "2021-01-08T11:22:07.707481Z",
     "shell.execute_reply": "2021-01-08T11:22:07.706447Z"
    },
    "id": "RYKhDBx9MgTN",
    "outputId": "52aeb591-a793-4482-b854-38914ebd81a9",
    "papermill": {
     "duration": 0.868208,
     "end_time": "2021-01-08T11:22:07.707583",
     "exception": false,
     "start_time": "2021-01-08T11:22:06.839375",
     "status": "completed"
    },
    "tags": []
   },
   "outputs": [
    {
     "name": "stdout",
     "output_type": "stream",
     "text": [
      "13/13 [==============================] - 0s 13ms/step - loss: 0.0768\n"
     ]
    },
    {
     "data": {
      "text/plain": [
       "0.07677852362394333"
      ]
     },
     "execution_count": 20,
     "metadata": {},
     "output_type": "execute_result"
    }
   ],
   "source": [
    "model.evaluate(val_generator)"
   ]
  },
  {
   "cell_type": "code",
   "execution_count": 21,
   "metadata": {
    "execution": {
     "iopub.execute_input": "2021-01-08T11:22:08.939291Z",
     "iopub.status.busy": "2021-01-08T11:22:08.938720Z",
     "iopub.status.idle": "2021-01-08T11:22:09.125567Z",
     "shell.execute_reply": "2021-01-08T11:22:09.126015Z"
    },
    "id": "FYqFSqoqe8Do",
    "outputId": "acccfe34-e1ed-4dee-db6f-d388e7efb6c5",
    "papermill": {
     "duration": 0.808215,
     "end_time": "2021-01-08T11:22:09.126133",
     "exception": false,
     "start_time": "2021-01-08T11:22:08.317918",
     "status": "completed"
    },
    "tags": []
   },
   "outputs": [
    {
     "data": {
      "text/plain": [
       "Text(0.5, 1.0, 'Training and validation loss')"
      ]
     },
     "execution_count": 21,
     "metadata": {},
     "output_type": "execute_result"
    },
    {
     "data": {
      "image/png": "[encoded data removed]",
      "text/plain": [
       "<Figure size 432x288 with 1 Axes>"
      ]
     },
     "metadata": {
      "needs_background": "light"
     },
     "output_type": "display_data"
    }
   ],
   "source": [
    "# Retrieve a list of list results on training and test data sets for each training epoch\n",
    "loss     = history.history['loss']\n",
    "val_loss = history.history['val_loss']\n",
    "epochs   = range(len(loss))\n",
    "# Plot training and validation loss per epoch\n",
    "plt.plot(epochs,loss, color='red' , label='training loss')\n",
    "plt.plot(epochs, val_loss, label='validation loss')\n",
    "plt.legend()\n",
    "plt.title ('Training and validation loss')"
   ]
  },
  {
   "cell_type": "markdown",
   "metadata": {
    "id": "BIr2js1Z2ipI",
    "papermill": {
     "duration": 0.753533,
     "end_time": "2021-01-08T11:22:10.677675",
     "exception": false,
     "start_time": "2021-01-08T11:22:09.924142",
     "status": "completed"
    },
    "tags": []
   },
   "source": [
    "#### **Test the model on random images**"
   ]
  },
  {
   "cell_type": "code",
   "execution_count": 22,
   "metadata": {
    "execution": {
     "iopub.execute_input": "2021-01-08T11:22:11.910636Z",
     "iopub.status.busy": "2021-01-08T11:22:11.909788Z",
     "iopub.status.idle": "2021-01-08T11:22:11.916189Z",
     "shell.execute_reply": "2021-01-08T11:22:11.916736Z"
    },
    "id": "MnxNCLAA1xvB",
    "outputId": "16288291-87dc-4ac3-ba1f-30a59d2fa79a",
    "papermill": {
     "duration": 0.625843,
     "end_time": "2021-01-08T11:22:11.916859",
     "exception": false,
     "start_time": "2021-01-08T11:22:11.291016",
     "status": "completed"
    },
    "tags": []
   },
   "outputs": [
    {
     "data": {
      "text/plain": [
       "{'left_eyebrow_outer_end_x': MinMaxScaler(),\n",
       " 'left_eyebrow_outer_end_y': MinMaxScaler()}"
      ]
     },
     "execution_count": 22,
     "metadata": {},
     "output_type": "execute_result"
    }
   ],
   "source": [
    "scalers_dict"
   ]
  },
  {
   "cell_type": "code",
   "execution_count": 23,
   "metadata": {
    "execution": {
     "iopub.execute_input": "2021-01-08T11:22:13.156590Z",
     "iopub.status.busy": "2021-01-08T11:22:13.155750Z",
     "iopub.status.idle": "2021-01-08T11:22:14.864467Z",
     "shell.execute_reply": "2021-01-08T11:22:14.865590Z"
    },
    "id": "EbY6XCqHPvoO",
    "outputId": "85d7b89c-efa4-405a-986a-92f79d589697",
    "papermill": {
     "duration": 2.333282,
     "end_time": "2021-01-08T11:22:14.865814",
     "exception": false,
     "start_time": "2021-01-08T11:22:12.532532",
     "status": "completed"
    },
    "tags": []
   },
   "outputs": [
    {
     "name": "stdout",
     "output_type": "stream",
     "text": [
      "[0.7761638  0.49677533]\n",
      "[80.37789  35.350147]\n",
      "[[0.7598772  0.40220392]]\n",
      "[[79.36709  30.623661]]\n"
     ]
    },
    {
     "data": {
      "image/png": "[encoded data removed]",
      "text/plain": [
       "<Figure size 432x288 with 1 Axes>"
      ]
     },
     "metadata": {
      "needs_background": "light"
     },
     "output_type": "display_data"
    }
   ],
   "source": [
    "batch = val_generator.__getitem__(2)\n",
    "j= np.random.randint(0,len(batch[0]))\n",
    "# check original image \n",
    "print(batch[1][j:j+1][0])\n",
    "actual_y= batch[1][j:j+1][0]\n",
    "actual_y[0] = scalers_dict[feature_name+\"_x\"].inverse_transform([[actual_y[0]]])\n",
    "actual_y[1] = scalers_dict[feature_name+\"_y\"].inverse_transform([[actual_y[1]]])\n",
    "print(actual_y)\n",
    "##############################################\n",
    "predicted_y = model.predict(batch[0][j:j+1])\n",
    "print(predicted_y)\n",
    "# uncomment in case we have used the scaling\n",
    "predicted_y[:,:1] = scalers_dict[feature_name+\"_x\"].inverse_transform(predicted_y[:,:1])\n",
    "predicted_y[:,1:] = scalers_dict[feature_name+\"_y\"].inverse_transform(predicted_y[:,1:])\n",
    "print(predicted_y)\n",
    "##############################################3\n",
    "visualize_image(batch[0][j:j+1].reshape(96,96,3)[:,:,0],actual_y, predicted_y[0])"
   ]
  },
  {
   "cell_type": "markdown",
   "metadata": {
    "id": "Q3sMZnVZ3-dd",
    "papermill": {
     "duration": 0.654297,
     "end_time": "2021-01-08T11:22:16.209277",
     "exception": false,
     "start_time": "2021-01-08T11:22:15.554980",
     "status": "completed"
    },
    "tags": []
   },
   "source": [
    "**Its very impressive how close are the predicted corrdinates to the original ones**"
   ]
  },
  {
   "cell_type": "markdown",
   "metadata": {
    "id": "KOW_zMQ5PvoS",
    "papermill": {
     "duration": 0.655394,
     "end_time": "2021-01-08T11:22:17.511234",
     "exception": false,
     "start_time": "2021-01-08T11:22:16.855840",
     "status": "completed"
    },
    "tags": []
   },
   "source": [
    "#### **Test on missing data**"
   ]
  },
  {
   "cell_type": "code",
   "execution_count": 24,
   "metadata": {
    "execution": {
     "iopub.execute_input": "2021-01-08T11:22:18.850715Z",
     "iopub.status.busy": "2021-01-08T11:22:18.849956Z",
     "iopub.status.idle": "2021-01-08T11:22:18.852901Z",
     "shell.execute_reply": "2021-01-08T11:22:18.853438Z"
    },
    "id": "zKZ1t2qoPvoS",
    "outputId": "2c2688c2-cb6d-4ad7-dad1-9fabe60c1d13",
    "papermill": {
     "duration": 0.694461,
     "end_time": "2021-01-08T11:22:18.853570",
     "exception": false,
     "start_time": "2021-01-08T11:22:18.159109",
     "status": "completed"
    },
    "tags": []
   },
   "outputs": [
    {
     "data": {
      "text/plain": [
       "'left_eyebrow_outer_end'"
      ]
     },
     "execution_count": 24,
     "metadata": {},
     "output_type": "execute_result"
    }
   ],
   "source": [
    "feature_name"
   ]
  },
  {
   "cell_type": "code",
   "execution_count": 25,
   "metadata": {
    "execution": {
     "iopub.execute_input": "2021-01-08T11:22:20.410726Z",
     "iopub.status.busy": "2021-01-08T11:22:20.408889Z",
     "iopub.status.idle": "2021-01-08T11:22:20.411334Z",
     "shell.execute_reply": "2021-01-08T11:22:20.411759Z"
    },
    "id": "BlsfoMj3PvoT",
    "papermill": {
     "duration": 0.646009,
     "end_time": "2021-01-08T11:22:20.411869",
     "exception": false,
     "start_time": "2021-01-08T11:22:19.765860",
     "status": "completed"
    },
    "tags": []
   },
   "outputs": [],
   "source": [
    "rgb_channels= True\n",
    "normalize_image = True\n",
    "def pre_process_images(image):\n",
    "    image = np.vstack(image).reshape(-1, 96, 96, 1).astype(np.float32)\n",
    "    if rgb_channels:\n",
    "        image = np.repeat(image,3,-1)\n",
    "    if normalize_image == True:\n",
    "        image = image/255\n",
    "    return image"
   ]
  },
  {
   "cell_type": "code",
   "execution_count": 26,
   "metadata": {
    "execution": {
     "iopub.execute_input": "2021-01-08T11:22:21.926094Z",
     "iopub.status.busy": "2021-01-08T11:22:21.924940Z",
     "iopub.status.idle": "2021-01-08T11:22:21.928434Z",
     "shell.execute_reply": "2021-01-08T11:22:21.929059Z"
    },
    "id": "NsF-GdN6PvoU",
    "papermill": {
     "duration": 0.880012,
     "end_time": "2021-01-08T11:22:21.929375",
     "exception": false,
     "start_time": "2021-01-08T11:22:21.049363",
     "status": "completed"
    },
    "tags": []
   },
   "outputs": [],
   "source": [
    "missing_data = dic_missing_data[feature_name]"
   ]
  },
  {
   "cell_type": "code",
   "execution_count": 27,
   "metadata": {
    "execution": {
     "iopub.execute_input": "2021-01-08T11:22:23.251452Z",
     "iopub.status.busy": "2021-01-08T11:22:23.250093Z",
     "iopub.status.idle": "2021-01-08T11:22:23.253421Z",
     "shell.execute_reply": "2021-01-08T11:22:23.253856Z"
    },
    "id": "xgfXwWOMDj0N",
    "outputId": "c74688b4-7479-421a-9a07-3925a7096300",
    "papermill": {
     "duration": 0.636113,
     "end_time": "2021-01-08T11:22:23.253966",
     "exception": false,
     "start_time": "2021-01-08T11:22:22.617853",
     "status": "completed"
    },
    "tags": []
   },
   "outputs": [
    {
     "data": {
      "text/plain": [
       "4824"
      ]
     },
     "execution_count": 27,
     "metadata": {},
     "output_type": "execute_result"
    }
   ],
   "source": [
    "len(missing_data)"
   ]
  },
  {
   "cell_type": "code",
   "execution_count": 28,
   "metadata": {
    "execution": {
     "iopub.execute_input": "2021-01-08T11:22:24.535820Z",
     "iopub.status.busy": "2021-01-08T11:22:24.534900Z",
     "iopub.status.idle": "2021-01-08T11:22:24.720609Z",
     "shell.execute_reply": "2021-01-08T11:22:24.719691Z"
    },
    "id": "7janB8HOPvoU",
    "outputId": "5698bbf5-06b1-44d6-99e4-3920e4ea689a",
    "papermill": {
     "duration": 0.831022,
     "end_time": "2021-01-08T11:22:24.720717",
     "exception": false,
     "start_time": "2021-01-08T11:22:23.889695",
     "status": "completed"
    },
    "tags": []
   },
   "outputs": [
    {
     "name": "stdout",
     "output_type": "stream",
     "text": [
      "[[0.76240283 0.40649548]]\n",
      "[[79.52384  30.838146]]\n"
     ]
    },
    {
     "data": {
      "image/png": "[encoded data removed]",
      "text/plain": [
       "<Figure size 432x288 with 1 Axes>"
      ]
     },
     "metadata": {
      "needs_background": "light"
     },
     "output_type": "display_data"
    }
   ],
   "source": [
    "# take a random image and test on it\n",
    "l = np.random.randint(0, len(missing_data)-1)\n",
    "image = missing_data.iloc[l][\"Image\"]\n",
    "image = pre_process_images(image)\n",
    "predicted_y = model.predict(image)\n",
    "print(predicted_y)\n",
    "# uncomment in case we have used the scaling\n",
    "predicted_y[:,:1] = scalers_dict[feature_name+\"_x\"].inverse_transform(predicted_y[:,:1])\n",
    "predicted_y[:,1:] = scalers_dict[feature_name+\"_y\"].inverse_transform(predicted_y[:,1:])\n",
    "print(predicted_y)\n",
    "visualize_image(image.reshape(96,96,3)[:,:,0],None, predicted_y[0])"
   ]
  },
  {
   "cell_type": "markdown",
   "metadata": {
    "id": "eCtvSBv2PvoV",
    "papermill": {
     "duration": 0.619402,
     "end_time": "2021-01-08T11:22:26.003702",
     "exception": false,
     "start_time": "2021-01-08T11:22:25.384300",
     "status": "completed"
    },
    "tags": []
   },
   "source": [
    "#### **Save model**"
   ]
  },
  {
   "cell_type": "code",
   "execution_count": 29,
   "metadata": {
    "execution": {
     "iopub.execute_input": "2021-01-08T11:22:27.746635Z",
     "iopub.status.busy": "2021-01-08T11:22:27.741207Z",
     "iopub.status.idle": "2021-01-08T11:22:28.111890Z",
     "shell.execute_reply": "2021-01-08T11:22:28.110846Z"
    },
    "id": "PHDvP_QL39lh",
    "papermill": {
     "duration": 1.302526,
     "end_time": "2021-01-08T11:22:28.112011",
     "exception": false,
     "start_time": "2021-01-08T11:22:26.809485",
     "status": "completed"
    },
    "tags": []
   },
   "outputs": [],
   "source": [
    "# save model and architecture to single file\n",
    "model.save(model_path)"
   ]
  },
  {
   "cell_type": "code",
   "execution_count": null,
   "metadata": {
    "id": "ERAMk1EHPvoX",
    "papermill": {
     "duration": 0.617317,
     "end_time": "2021-01-08T11:22:29.350703",
     "exception": false,
     "start_time": "2021-01-08T11:22:28.733386",
     "status": "completed"
    },
    "tags": []
   },
   "outputs": [],
   "source": []
  },
  {
   "cell_type": "code",
   "execution_count": null,
   "metadata": {
    "papermill": {
     "duration": 0.622224,
     "end_time": "2021-01-08T11:22:30.608195",
     "exception": false,
     "start_time": "2021-01-08T11:22:29.985971",
     "status": "completed"
    },
    "tags": []
   },
   "outputs": [],
   "source": []
  }
 ],
 "metadata": {
  "kernelspec": {
   "display_name": "Python 3",
   "language": "python",
   "name": "python3"
  },
  "language_info": {
   "codemirror_mode": {
    "name": "ipython",
    "version": 3
   },
   "file_extension": ".py",
   "mimetype": "text/x-python",
   "name": "python",
   "nbconvert_exporter": "python",
   "pygments_lexer": "ipython3",
   "version": "3.7.6"
  },
  "papermill": {
   "duration": 221.004916,
   "end_time": "2021-01-08T11:22:32.608249",
   "environment_variables": {},
   "exception": null,
   "input_path": "__notebook__.ipynb",
   "output_path": "__notebook__.ipynb",
   "parameters": {},
   "start_time": "2021-01-08T11:18:51.603333",
   "version": "2.1.0"
  }
 },
 "nbformat": 4,
 "nbformat_minor": 4
}
