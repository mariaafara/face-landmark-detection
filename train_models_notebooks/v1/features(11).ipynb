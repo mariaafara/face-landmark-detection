{
 "cells": [
  {
   "cell_type": "code",
   "execution_count": 1,
   "metadata": {
    "execution": {
     "iopub.execute_input": "2021-01-08T14:29:46.906003Z",
     "iopub.status.busy": "2021-01-08T14:29:46.905256Z",
     "iopub.status.idle": "2021-01-08T14:29:46.908443Z",
     "shell.execute_reply": "2021-01-08T14:29:46.908888Z"
    },
    "id": "mt9t-79OPvng",
    "papermill": {
     "duration": 0.036622,
     "end_time": "2021-01-08T14:29:46.909028",
     "exception": false,
     "start_time": "2021-01-08T14:29:46.872406",
     "status": "completed"
    },
    "tags": []
   },
   "outputs": [],
   "source": [
    "feature_index = 11"
   ]
  },
  {
   "cell_type": "code",
   "execution_count": 2,
   "metadata": {
    "execution": {
     "iopub.execute_input": "2021-01-08T14:29:46.983200Z",
     "iopub.status.busy": "2021-01-08T14:29:46.982220Z",
     "iopub.status.idle": "2021-01-08T14:29:46.984178Z",
     "shell.execute_reply": "2021-01-08T14:29:46.984905Z"
    },
    "id": "29LaKxCh-Em7",
    "papermill": {
     "duration": 0.048807,
     "end_time": "2021-01-08T14:29:46.985090",
     "exception": false,
     "start_time": "2021-01-08T14:29:46.936283",
     "status": "completed"
    },
    "tags": []
   },
   "outputs": [],
   "source": [
    "# import os\n",
    "# os.environ['KAGGLE_USERNAME'] = \"mariaafara\" # username from the json file\n",
    "# os.environ['KAGGLE_KEY'] = \"25755ae03c0b83042774e5e0d15b886e\" # key from the json file\n",
    "#Crearting a Client to host the Kaggle API\n",
    "# !pip install -q kaggle\n",
    "# !kaggle datasets download mariaafara/Facial-Landmarks\n",
    "# !unzip Facial-Landmarks.zip -d facial-keypoints-detection"
   ]
  },
  {
   "cell_type": "code",
   "execution_count": 3,
   "metadata": {
    "execution": {
     "iopub.execute_input": "2021-01-08T14:29:47.048563Z",
     "iopub.status.busy": "2021-01-08T14:29:47.047854Z",
     "iopub.status.idle": "2021-01-08T14:29:52.254058Z",
     "shell.execute_reply": "2021-01-08T14:29:52.253388Z"
    },
    "id": "3f3roaNK6hfZ",
    "papermill": {
     "duration": 5.240688,
     "end_time": "2021-01-08T14:29:52.254187",
     "exception": false,
     "start_time": "2021-01-08T14:29:47.013499",
     "status": "completed"
    },
    "tags": []
   },
   "outputs": [],
   "source": [
    "import numpy as np\n",
    "import pandas as pd\n",
    "import math\n",
    "import random\n",
    "import seaborn as sns\n",
    "import matplotlib.pyplot as plt\n",
    "import tensorflow as tf\n",
    "import tensorflow.keras as keras\n",
    "from tensorflow.keras.models import Sequential\n",
    "from tensorflow.keras.layers import Dense, Dropout, Flatten, Input, Conv2D, MaxPooling2D, GlobalAveragePooling2D, BatchNormalization\n",
    "from sklearn.model_selection import train_test_split\n",
    "from sklearn import preprocessing\n",
    "from sklearn.preprocessing import MinMaxScaler\n",
    "from tensorflow.keras import optimizers\n",
    "from IPython.display import clear_output\n",
    "pd.options.mode.chained_assignment = None  # default='warn'\n"
   ]
  },
  {
   "cell_type": "code",
   "execution_count": 4,
   "metadata": {
    "execution": {
     "iopub.execute_input": "2021-01-08T14:29:52.316598Z",
     "iopub.status.busy": "2021-01-08T14:29:52.315945Z",
     "iopub.status.idle": "2021-01-08T14:29:52.320313Z",
     "shell.execute_reply": "2021-01-08T14:29:52.319776Z"
    },
    "id": "9_E22cct-EnI",
    "papermill": {
     "duration": 0.037067,
     "end_time": "2021-01-08T14:29:52.320417",
     "exception": false,
     "start_time": "2021-01-08T14:29:52.283350",
     "status": "completed"
    },
    "tags": []
   },
   "outputs": [],
   "source": [
    "train_data_path = \"/kaggle/input/facial-landmarks/dic_train_data.pkl\"\n",
    "missing_data_path = \"/kaggle/input/facial-landmarks/dic_missing_data.pkl\"\n",
    "# train_data_path = \"data/dic_train_data.pkl\"\n",
    "# missing_data_path = \"data/dic_missing_data.pkl\""
   ]
  },
  {
   "cell_type": "code",
   "execution_count": 5,
   "metadata": {
    "execution": {
     "iopub.execute_input": "2021-01-08T14:29:52.382014Z",
     "iopub.status.busy": "2021-01-08T14:29:52.381375Z",
     "iopub.status.idle": "2021-01-08T14:29:59.667679Z",
     "shell.execute_reply": "2021-01-08T14:29:59.666727Z"
    },
    "id": "9iJTuxj_kNfQ",
    "papermill": {
     "duration": 7.319179,
     "end_time": "2021-01-08T14:29:59.667815",
     "exception": false,
     "start_time": "2021-01-08T14:29:52.348636",
     "status": "completed"
    },
    "tags": []
   },
   "outputs": [],
   "source": [
    "import pickle as pkl\n",
    "\n",
    "dic_train_data = pkl.load(open(train_data_path,\"rb\"))\n",
    "dic_missing_data = pkl.load(open(missing_data_path,\"rb\"))"
   ]
  },
  {
   "cell_type": "code",
   "execution_count": 6,
   "metadata": {
    "execution": {
     "iopub.execute_input": "2021-01-08T14:29:59.732517Z",
     "iopub.status.busy": "2021-01-08T14:29:59.731736Z",
     "iopub.status.idle": "2021-01-08T14:29:59.735745Z",
     "shell.execute_reply": "2021-01-08T14:29:59.736215Z"
    },
    "id": "6TdjVdwEPvny",
    "outputId": "c49a7d54-3444-4bef-f242-751e108f21f3",
    "papermill": {
     "duration": 0.040245,
     "end_time": "2021-01-08T14:29:59.736351",
     "exception": false,
     "start_time": "2021-01-08T14:29:59.696106",
     "status": "completed"
    },
    "tags": []
   },
   "outputs": [
    {
     "data": {
      "text/plain": [
       "['left_eye_center',\n",
       " 'right_eye_center',\n",
       " 'left_eye_inner_corner',\n",
       " 'left_eye_outer_corner',\n",
       " 'right_eye_inner_corner',\n",
       " 'right_eye_outer_corner',\n",
       " 'left_eyebrow_inner_end',\n",
       " 'left_eyebrow_outer_end',\n",
       " 'right_eyebrow_inner_end',\n",
       " 'right_eyebrow_outer_end',\n",
       " 'mouth_left_corner',\n",
       " 'mouth_right_corner',\n",
       " 'mouth_center_top_lip',\n",
       " 'mouth_center_bottom_lip']"
      ]
     },
     "execution_count": 6,
     "metadata": {},
     "output_type": "execute_result"
    }
   ],
   "source": [
    "features = list(dic_train_data.keys())\n",
    "features"
   ]
  },
  {
   "cell_type": "code",
   "execution_count": 7,
   "metadata": {
    "execution": {
     "iopub.execute_input": "2021-01-08T14:29:59.798360Z",
     "iopub.status.busy": "2021-01-08T14:29:59.797691Z",
     "iopub.status.idle": "2021-01-08T14:29:59.803855Z",
     "shell.execute_reply": "2021-01-08T14:29:59.803361Z"
    },
    "id": "ydLdeD8YPvn1",
    "outputId": "f34d38aa-b9d9-4a29-f689-35bd6a3aa98e",
    "papermill": {
     "duration": 0.039069,
     "end_time": "2021-01-08T14:29:59.803944",
     "exception": false,
     "start_time": "2021-01-08T14:29:59.764875",
     "status": "completed"
    },
    "tags": []
   },
   "outputs": [
    {
     "data": {
      "text/plain": [
       "'mouth_right_corner'"
      ]
     },
     "execution_count": 7,
     "metadata": {},
     "output_type": "execute_result"
    }
   ],
   "source": [
    "feature_name = features[feature_index]\n",
    "feature_name"
   ]
  },
  {
   "cell_type": "code",
   "execution_count": 8,
   "metadata": {
    "execution": {
     "iopub.execute_input": "2021-01-08T14:29:59.868017Z",
     "iopub.status.busy": "2021-01-08T14:29:59.866828Z",
     "iopub.status.idle": "2021-01-08T14:29:59.869590Z",
     "shell.execute_reply": "2021-01-08T14:29:59.870150Z"
    },
    "id": "APi2VVkKQFOm",
    "papermill": {
     "duration": 0.036318,
     "end_time": "2021-01-08T14:29:59.870278",
     "exception": false,
     "start_time": "2021-01-08T14:29:59.833960",
     "status": "completed"
    },
    "tags": []
   },
   "outputs": [],
   "source": [
    "scalers_path = feature_name+\"_scalers_dict.pkl\"\n",
    "model_path = feature_name+\".h5\"\n",
    "\n",
    "# scalers_path = \"data/\"+feature_name+\"_scalers_dict.pkl\"\n",
    "# model_path = \"models/\"+feature_name+\".h5\""
   ]
  },
  {
   "cell_type": "code",
   "execution_count": 9,
   "metadata": {
    "execution": {
     "iopub.execute_input": "2021-01-08T14:29:59.943696Z",
     "iopub.status.busy": "2021-01-08T14:29:59.942785Z",
     "iopub.status.idle": "2021-01-08T14:30:01.026524Z",
     "shell.execute_reply": "2021-01-08T14:30:01.027343Z"
    },
    "id": "UHAb9cCEPvn3",
    "outputId": "cdb32799-3d8e-4470-e682-c8b1a792037b",
    "papermill": {
     "duration": 1.128592,
     "end_time": "2021-01-08T14:30:01.027494",
     "exception": false,
     "start_time": "2021-01-08T14:29:59.898902",
     "status": "completed"
    },
    "tags": []
   },
   "outputs": [
    {
     "data": {
      "text/html": [
       "<div>\n",
       "<style scoped>\n",
       "    .dataframe tbody tr th:only-of-type {\n",
       "        vertical-align: middle;\n",
       "    }\n",
       "\n",
       "    .dataframe tbody tr th {\n",
       "        vertical-align: top;\n",
       "    }\n",
       "\n",
       "    .dataframe thead th {\n",
       "        text-align: right;\n",
       "    }\n",
       "</style>\n",
       "<table border=\"1\" class=\"dataframe\">\n",
       "  <thead>\n",
       "    <tr style=\"text-align: right;\">\n",
       "      <th></th>\n",
       "      <th>mouth_right_corner_x</th>\n",
       "      <th>mouth_right_corner_y</th>\n",
       "      <th>Image</th>\n",
       "    </tr>\n",
       "  </thead>\n",
       "  <tbody>\n",
       "    <tr>\n",
       "      <th>0</th>\n",
       "      <td>28.614496</td>\n",
       "      <td>77.388992</td>\n",
       "      <td>[[238, 236, 237, 238, 240, 240, 239, 241, 241,...</td>\n",
       "    </tr>\n",
       "    <tr>\n",
       "      <th>1</th>\n",
       "      <td>35.122383</td>\n",
       "      <td>76.047660</td>\n",
       "      <td>[[219, 215, 204, 196, 204, 211, 212, 200, 180,...</td>\n",
       "    </tr>\n",
       "    <tr>\n",
       "      <th>2</th>\n",
       "      <td>33.726316</td>\n",
       "      <td>72.732000</td>\n",
       "      <td>[[144, 142, 159, 180, 188, 188, 184, 180, 167,...</td>\n",
       "    </tr>\n",
       "    <tr>\n",
       "      <th>3</th>\n",
       "      <td>37.245496</td>\n",
       "      <td>74.195478</td>\n",
       "      <td>[[193, 192, 193, 194, 194, 194, 193, 192, 168,...</td>\n",
       "    </tr>\n",
       "    <tr>\n",
       "      <th>4</th>\n",
       "      <td>31.191755</td>\n",
       "      <td>76.997301</td>\n",
       "      <td>[[147, 148, 160, 196, 215, 214, 216, 217, 219,...</td>\n",
       "    </tr>\n",
       "  </tbody>\n",
       "</table>\n",
       "</div>"
      ],
      "text/plain": [
       "   mouth_right_corner_x  mouth_right_corner_y  \\\n",
       "0             28.614496             77.388992   \n",
       "1             35.122383             76.047660   \n",
       "2             33.726316             72.732000   \n",
       "3             37.245496             74.195478   \n",
       "4             31.191755             76.997301   \n",
       "\n",
       "                                               Image  \n",
       "0  [[238, 236, 237, 238, 240, 240, 239, 241, 241,...  \n",
       "1  [[219, 215, 204, 196, 204, 211, 212, 200, 180,...  \n",
       "2  [[144, 142, 159, 180, 188, 188, 184, 180, 167,...  \n",
       "3  [[193, 192, 193, 194, 194, 194, 193, 192, 168,...  \n",
       "4  [[147, 148, 160, 196, 215, 214, 216, 217, 219,...  "
      ]
     },
     "execution_count": 9,
     "metadata": {},
     "output_type": "execute_result"
    }
   ],
   "source": [
    "dic_train_data[feature_name].head()"
   ]
  },
  {
   "cell_type": "markdown",
   "metadata": {
    "id": "Ys-qr2X5WKAR",
    "papermill": {
     "duration": 0.029297,
     "end_time": "2021-01-08T14:30:01.086396",
     "exception": false,
     "start_time": "2021-01-08T14:30:01.057099",
     "status": "completed"
    },
    "tags": []
   },
   "source": [
    "#### **Create custom Data Generator**\n",
    "\n",
    "**We will build a data generator that will load mini-batches and feed to the model dynamically**"
   ]
  },
  {
   "cell_type": "code",
   "execution_count": 10,
   "metadata": {
    "execution": {
     "iopub.execute_input": "2021-01-08T14:30:01.225526Z",
     "iopub.status.busy": "2021-01-08T14:30:01.223718Z",
     "iopub.status.idle": "2021-01-08T14:30:01.226243Z",
     "shell.execute_reply": "2021-01-08T14:30:01.226723Z"
    },
    "id": "i8PX_Elb-VQz",
    "papermill": {
     "duration": 0.077326,
     "end_time": "2021-01-08T14:30:01.226836",
     "exception": false,
     "start_time": "2021-01-08T14:30:01.149510",
     "status": "completed"
    },
    "tags": []
   },
   "outputs": [],
   "source": [
    "class DataGenerator(tf.keras.utils.Sequence):\n",
    "    def __init__(self, df, batch_size=32, rgb_channels=True, shuffle=True, augment=True, normalize_image=True, normalize_coordinates=False, scalers=None):\n",
    "        self.df = df\n",
    "        self.batch_size = batch_size\n",
    "        self.size = df.shape[0]\n",
    "        self.shuffle = shuffle\n",
    "        self.augment = augment\n",
    "        # Keras pre-trained models have trained on color images and if we want to use grayscale images we can still use these pre-trained models by repeating the grayscale image over three channels\n",
    "        self.rgb_channels = rgb_channels\n",
    "        self.normalize_image = normalize_image\n",
    "        self.normalize_coordinates = normalize_coordinates\n",
    "        self.scalers = scalers\n",
    "        self.feature_columns = df.columns.tolist()[:-1]\n",
    "        #  To keep track on which pairs of landmarks to be swapped, we introduce a dictionary recording the original and new landmark's index\n",
    "        self.left_right_dic = {'right_eye_center_x' : 'left_eye_center_x' ,\n",
    "                'right_eye_center_y' : 'left_eye_center_y' ,\n",
    "                'right_eye_inner_corner_x' : 'left_eye_inner_corner_x' ,\n",
    "                'right_eye_inner_corner_y' : 'left_eye_inner_corner_y' ,\n",
    "                'right_eye_outer_corner_x' : 'left_eye_outer_corner_x' ,\n",
    "                'right_eye_outer_corner_y' : 'left_eye_outer_corner_y' ,\n",
    "                'right_eyebrow_inner_end_x' : 'left_eyebrow_inner_end_x' ,\n",
    "                'right_eyebrow_inner_end_y' : 'left_eyebrow_inner_end_y' ,\n",
    "                'right_eyebrow_outer_end_x' : 'left_eyebrow_outer_end_x' ,\n",
    "                'right_eyebrow_outer_end_y' : 'left_eyebrow_outer_end_y' ,\n",
    "                'mouth_right_corner_x' : 'mouth_left_corner_x' ,\n",
    "                'mouth_right_corner_y' : 'mouth_left_corner_y' }\n",
    "        self.on_epoch_end()\n",
    "\n",
    "    def __len__(self):\n",
    "        'Denotes the number of batches per epoch'\n",
    "        return self.size // self.batch_size\n",
    "\n",
    "    def on_epoch_end(self):\n",
    "        'Updates indexes after each epoch'\n",
    "        self.indexes = np.arange(self.size)\n",
    "        if self.shuffle:\n",
    "            np.random.shuffle(self.indexes)\n",
    "\n",
    "    def __getitem__(self, index):\n",
    "        # selects indices of data for next batch`\n",
    "        indexes = self.indexes[index * self.batch_size : (index + 1) * self.batch_size]\n",
    "        'Generate one batch of data'\n",
    "        batched_df = self.df.iloc[indexes] #.sample(frac=1).reset_index(drop=True)\n",
    "\n",
    "        if self.augment == True:\n",
    "            df_batch = self.augmentor(batched_df)\n",
    "        else:\n",
    "            df_batch = batched_df\n",
    "\n",
    "\n",
    "        batched_images = np.vstack(df_batch[\"Image\"].values).reshape(-1, 96, 96, 1).astype(np.float32)\n",
    "        \n",
    "        if self.rgb_channels:\n",
    "            batched_images = np.repeat(batched_images,3,-1)\n",
    "\n",
    "        batched_feature_corrdinates = df_batch.iloc[:,:-1]\n",
    "        \n",
    "        if self.normalize_coordinates:\n",
    "            for col in self.feature_columns:\n",
    "                scaler = self.scalers[col]\n",
    "                batched_feature_corrdinates[col] = scaler.transform(batched_feature_corrdinates[col].to_numpy().reshape(-1, 1)).reshape(-1)\n",
    "\n",
    "        batched_feature_corrdinates = batched_feature_corrdinates.values.astype(np.float32) #feature coordinates        \n",
    "\n",
    "        if self.normalize_image == True:\n",
    "            batched_images = batched_images/255\n",
    "\n",
    "        return batched_images, batched_feature_corrdinates\n",
    "\n",
    "    def augmentor(self, df):\n",
    "\n",
    "        def flip_horizontally(row):\n",
    "            'Method that flips the image horizontally and swaps the features' \n",
    "            row[\"Image\"] = np.flip(row[\"Image\"], axis = 1)\n",
    "            # y coordinates values will stay the same while the x coordinates will have to be changed\n",
    "            # subtract our initial x-coordinate values from width of the image(96)\n",
    "            for i in range(len(self.feature_columns)):#+1\n",
    "                if i%2 == 0: # because there is always x coordinate then y corrdinate\n",
    "                    row[self.feature_columns[i]] = 96. - row[self.feature_columns[i]]\n",
    "            # swap\n",
    "            rights = [a for a in self.feature_columns if \"right\" in a.split(\"_\")]\n",
    "            for col_r in rights:\n",
    "                col_l = self.left_right_dic[col_r]\n",
    "                temp = row[col_l] \n",
    "                row[col_l] = row[col_r]\n",
    "                row[col_r] = temp\n",
    "            return row\n",
    "\n",
    "        def increase_brightness(image):\n",
    "            'Method that randomly increase images brightness'      \n",
    "            # Multiply pixel values by random values between 1 and 1.5 to increase the brightness of the image\n",
    "            # Clip the value between 0 and 255\n",
    "            image = np.clip(random.uniform(1, 1.5) * image, 0.0, 255.0)\n",
    "            return image\n",
    "\n",
    "        def decrease_brightness(image):\n",
    "            'Method that randomly decrease images brightness'\n",
    "            # Multiply pixel values by random values between 0 and 0.1 to decrease the brightness of the image\n",
    "            # Clip the value between 0 and 255\n",
    "            image = np.clip(random.uniform(0, 0.1) * image, 0.0, 255.0)\n",
    "            return image\n",
    "\n",
    "        def augment(row):\n",
    "        # if we have more than one feature allow flipping\n",
    "            if len(self.feature_columns)>2:\n",
    "                if row[\"augment_flip\"]==1:\n",
    "                    row =  flip_horizontally(row)\n",
    "            if row[\"augment_inc_b\"]:\n",
    "                row[\"Image\"] = increase_brightness(row[\"Image\"])\n",
    "            if row[\"augment_dec_b\"]:\n",
    "                row[\"Image\"] = decrease_brightness(row[\"Image\"])\n",
    "            return row\n",
    "\n",
    "      # generate random boolean for augmentation types \n",
    "        df[\"augment_flip\"] = [random.getrandbits(1) for i in range(len(df))]\n",
    "        df[\"augment_inc_b\"] = [random.getrandbits(1) for i in range(len(df))]\n",
    "        df[\"augment_dec_b\"] = [random.getrandbits(1) for i in range(len(df))]\n",
    "        # df = df.apply(lambda row : augment(row), axis=1)\n",
    "        df = df.apply(augment, axis=1)\n",
    "        df.drop(['augment_flip', 'augment_inc_b', 'augment_dec_b'], axis=1, inplace=True)\n",
    "        return df\n"
   ]
  },
  {
   "cell_type": "code",
   "execution_count": 11,
   "metadata": {
    "execution": {
     "iopub.execute_input": "2021-01-08T14:30:01.295322Z",
     "iopub.status.busy": "2021-01-08T14:30:01.293651Z",
     "iopub.status.idle": "2021-01-08T14:30:01.296068Z",
     "shell.execute_reply": "2021-01-08T14:30:01.296551Z"
    },
    "id": "68VI4DWX-EnV",
    "papermill": {
     "duration": 0.040704,
     "end_time": "2021-01-08T14:30:01.296659",
     "exception": false,
     "start_time": "2021-01-08T14:30:01.255955",
     "status": "completed"
    },
    "tags": []
   },
   "outputs": [],
   "source": [
    "def visualize_image(x, y=None, y_predicted=None):\n",
    "  # x-coordinates are in even columns like 0,2,4,.. and y-coordinates are in odd columns like 1,3,5,..\n",
    "    plt.figure()\n",
    "    plt.imshow(x, cmap='gray')\n",
    "    if y is not None:\n",
    "        f = y.shape[0]\n",
    "        for j in range(0,f,2):\n",
    "            plt.plot(y[j], y[j+1], 'X', color='blue', label='actual')\n",
    "    if y_predicted is not None:\n",
    "        f = y_predicted.shape[0]\n",
    "        for j in range(0,f,2):\n",
    "            plt.plot(y_predicted[j], y_predicted[j+1], 'X', color='red', label='predicted')\n",
    "    plt.legend()"
   ]
  },
  {
   "cell_type": "markdown",
   "metadata": {
    "id": "eX1dSeiRCUUE",
    "papermill": {
     "duration": 0.029469,
     "end_time": "2021-01-08T14:30:01.355789",
     "exception": false,
     "start_time": "2021-01-08T14:30:01.326320",
     "status": "completed"
    },
    "tags": []
   },
   "source": [
    "Lets try the data generator and visuilize some images"
   ]
  },
  {
   "cell_type": "markdown",
   "metadata": {
    "id": "cdehN9mvIsan",
    "papermill": {
     "duration": 0.029331,
     "end_time": "2021-01-08T14:30:01.414524",
     "exception": false,
     "start_time": "2021-01-08T14:30:01.385193",
     "status": "completed"
    },
    "tags": []
   },
   "source": [
    "### Part 1.3  Building a Prediction model for a feature"
   ]
  },
  {
   "cell_type": "markdown",
   "metadata": {
    "id": "ph_UEDMwcEvX",
    "papermill": {
     "duration": 0.032362,
     "end_time": "2021-01-08T14:30:01.476399",
     "exception": false,
     "start_time": "2021-01-08T14:30:01.444037",
     "status": "completed"
    },
    "tags": []
   },
   "source": [
    "#### **Prepare data generators to train the model**"
   ]
  },
  {
   "cell_type": "markdown",
   "metadata": {
    "id": "ACe1Z0-GvdBs",
    "papermill": {
     "duration": 0.03076,
     "end_time": "2021-01-08T14:30:01.537574",
     "exception": false,
     "start_time": "2021-01-08T14:30:01.506814",
     "status": "completed"
    },
    "tags": []
   },
   "source": [
    "##### **Split the data into train and test**"
   ]
  },
  {
   "cell_type": "code",
   "execution_count": 12,
   "metadata": {
    "execution": {
     "iopub.execute_input": "2021-01-08T14:30:01.607014Z",
     "iopub.status.busy": "2021-01-08T14:30:01.606205Z",
     "iopub.status.idle": "2021-01-08T14:30:01.610589Z",
     "shell.execute_reply": "2021-01-08T14:30:01.611076Z"
    },
    "id": "Wz9DPZKppGXK",
    "outputId": "316ac4e0-0178-4692-e984-204c6ff49f72",
    "papermill": {
     "duration": 0.044031,
     "end_time": "2021-01-08T14:30:01.611189",
     "exception": false,
     "start_time": "2021-01-08T14:30:01.567158",
     "status": "completed"
    },
    "tags": []
   },
   "outputs": [
    {
     "name": "stdout",
     "output_type": "stream",
     "text": [
      "(2270, 3) (1816, 3) (454, 3)\n"
     ]
    }
   ],
   "source": [
    "df = dic_train_data[feature_name]\n",
    "# Split the data into training and testing data\n",
    "df_train, df_test = train_test_split(df, test_size = 0.2, random_state=None)\n",
    "print(df.shape, df_train.shape, df_test.shape)"
   ]
  },
  {
   "cell_type": "code",
   "execution_count": 13,
   "metadata": {
    "execution": {
     "iopub.execute_input": "2021-01-08T14:30:01.687688Z",
     "iopub.status.busy": "2021-01-08T14:30:01.682506Z",
     "iopub.status.idle": "2021-01-08T14:30:02.709560Z",
     "shell.execute_reply": "2021-01-08T14:30:02.710056Z"
    },
    "id": "iJ7K_1lndPKu",
    "outputId": "abda56ba-925c-43d9-ac1c-512dcbb269f6",
    "papermill": {
     "duration": 1.068063,
     "end_time": "2021-01-08T14:30:02.710189",
     "exception": false,
     "start_time": "2021-01-08T14:30:01.642126",
     "status": "completed"
    },
    "tags": []
   },
   "outputs": [
    {
     "data": {
      "text/html": [
       "<div>\n",
       "<style scoped>\n",
       "    .dataframe tbody tr th:only-of-type {\n",
       "        vertical-align: middle;\n",
       "    }\n",
       "\n",
       "    .dataframe tbody tr th {\n",
       "        vertical-align: top;\n",
       "    }\n",
       "\n",
       "    .dataframe thead th {\n",
       "        text-align: right;\n",
       "    }\n",
       "</style>\n",
       "<table border=\"1\" class=\"dataframe\">\n",
       "  <thead>\n",
       "    <tr style=\"text-align: right;\">\n",
       "      <th></th>\n",
       "      <th>mouth_right_corner_x</th>\n",
       "      <th>mouth_right_corner_y</th>\n",
       "      <th>Image</th>\n",
       "    </tr>\n",
       "  </thead>\n",
       "  <tbody>\n",
       "    <tr>\n",
       "      <th>562</th>\n",
       "      <td>34.076981</td>\n",
       "      <td>78.624000</td>\n",
       "      <td>[[114, 83, 66, 64, 60, 60, 63, 59, 55, 59, 63,...</td>\n",
       "    </tr>\n",
       "    <tr>\n",
       "      <th>545</th>\n",
       "      <td>35.613972</td>\n",
       "      <td>74.231662</td>\n",
       "      <td>[[227, 202, 171, 153, 128, 160, 190, 137, 90, ...</td>\n",
       "    </tr>\n",
       "    <tr>\n",
       "      <th>925</th>\n",
       "      <td>36.628886</td>\n",
       "      <td>69.590228</td>\n",
       "      <td>[[207, 209, 211, 210, 209, 210, 210, 207, 206,...</td>\n",
       "    </tr>\n",
       "    <tr>\n",
       "      <th>216</th>\n",
       "      <td>32.542578</td>\n",
       "      <td>76.258844</td>\n",
       "      <td>[[254, 254, 254, 254, 253, 253, 254, 253, 252,...</td>\n",
       "    </tr>\n",
       "    <tr>\n",
       "      <th>470</th>\n",
       "      <td>31.626207</td>\n",
       "      <td>81.319448</td>\n",
       "      <td>[[241, 236, 221, 217, 215, 219, 222, 228, 225,...</td>\n",
       "    </tr>\n",
       "  </tbody>\n",
       "</table>\n",
       "</div>"
      ],
      "text/plain": [
       "     mouth_right_corner_x  mouth_right_corner_y  \\\n",
       "562             34.076981             78.624000   \n",
       "545             35.613972             74.231662   \n",
       "925             36.628886             69.590228   \n",
       "216             32.542578             76.258844   \n",
       "470             31.626207             81.319448   \n",
       "\n",
       "                                                 Image  \n",
       "562  [[114, 83, 66, 64, 60, 60, 63, 59, 55, 59, 63,...  \n",
       "545  [[227, 202, 171, 153, 128, 160, 190, 137, 90, ...  \n",
       "925  [[207, 209, 211, 210, 209, 210, 210, 207, 206,...  \n",
       "216  [[254, 254, 254, 254, 253, 253, 254, 253, 252,...  \n",
       "470  [[241, 236, 221, 217, 215, 219, 222, 228, 225,...  "
      ]
     },
     "execution_count": 13,
     "metadata": {},
     "output_type": "execute_result"
    }
   ],
   "source": [
    "df_train.head()"
   ]
  },
  {
   "cell_type": "markdown",
   "metadata": {
    "id": "Zo9gt1mXu2fd",
    "papermill": {
     "duration": 0.030553,
     "end_time": "2021-01-08T14:30:02.771689",
     "exception": false,
     "start_time": "2021-01-08T14:30:02.741136",
     "status": "completed"
    },
    "tags": []
   },
   "source": [
    "##### **Build scalers for normalizing feature data**"
   ]
  },
  {
   "cell_type": "code",
   "execution_count": 14,
   "metadata": {
    "execution": {
     "iopub.execute_input": "2021-01-08T14:30:02.840519Z",
     "iopub.status.busy": "2021-01-08T14:30:02.839910Z",
     "iopub.status.idle": "2021-01-08T14:30:02.844294Z",
     "shell.execute_reply": "2021-01-08T14:30:02.843787Z"
    },
    "id": "9t4-hf0gIeSw",
    "papermill": {
     "duration": 0.042205,
     "end_time": "2021-01-08T14:30:02.844392",
     "exception": false,
     "start_time": "2021-01-08T14:30:02.802187",
     "status": "completed"
    },
    "tags": []
   },
   "outputs": [],
   "source": [
    "scalers_dict = dict()\n",
    "for col in df.columns.tolist()[:-1]:\n",
    "    scaler = MinMaxScaler()\n",
    "    scaler.fit(df[col].to_numpy().reshape(-1, 1))\n",
    "    scalers_dict[col] = scaler\n",
    "\n",
    "\n",
    "\n",
    "pkl.dump(scalers_dict, open(scalers_path,\"wb\"))\n"
   ]
  },
  {
   "cell_type": "markdown",
   "metadata": {
    "id": "WZNeHGhxvnSH",
    "papermill": {
     "duration": 0.032807,
     "end_time": "2021-01-08T14:30:02.908394",
     "exception": false,
     "start_time": "2021-01-08T14:30:02.875587",
     "status": "completed"
    },
    "tags": []
   },
   "source": [
    "##### **Build train and validation data generators**"
   ]
  },
  {
   "cell_type": "code",
   "execution_count": 15,
   "metadata": {
    "execution": {
     "iopub.execute_input": "2021-01-08T14:30:02.977522Z",
     "iopub.status.busy": "2021-01-08T14:30:02.976830Z",
     "iopub.status.idle": "2021-01-08T14:30:02.980861Z",
     "shell.execute_reply": "2021-01-08T14:30:02.980396Z"
    },
    "id": "HERnPWEBc83D",
    "papermill": {
     "duration": 0.04135,
     "end_time": "2021-01-08T14:30:02.980955",
     "exception": false,
     "start_time": "2021-01-08T14:30:02.939605",
     "status": "completed"
    },
    "tags": []
   },
   "outputs": [],
   "source": [
    " \n",
    "train_generator = DataGenerator(df_train, batch_size=32, normalize_image=True, normalize_coordinates=True, scalers=scalers_dict)\n",
    "val_generator =  DataGenerator(df_test, batch_size=32,  augment=False, normalize_image=True,  normalize_coordinates=True,  scalers=train_generator.scalers)"
   ]
  },
  {
   "cell_type": "markdown",
   "metadata": {
    "id": "Ctn-Hf0Nc5p_",
    "papermill": {
     "duration": 0.03102,
     "end_time": "2021-01-08T14:30:03.043500",
     "exception": false,
     "start_time": "2021-01-08T14:30:03.012480",
     "status": "completed"
    },
    "tags": []
   },
   "source": [
    "#### **Build a Prediction model**"
   ]
  },
  {
   "cell_type": "code",
   "execution_count": 16,
   "metadata": {
    "execution": {
     "iopub.execute_input": "2021-01-08T14:30:03.124699Z",
     "iopub.status.busy": "2021-01-08T14:30:03.123916Z",
     "iopub.status.idle": "2021-01-08T14:30:03.128224Z",
     "shell.execute_reply": "2021-01-08T14:30:03.127719Z"
    },
    "id": "WHg8_6ZgPvoJ",
    "papermill": {
     "duration": 0.053733,
     "end_time": "2021-01-08T14:30:03.128332",
     "exception": false,
     "start_time": "2021-01-08T14:30:03.074599",
     "status": "completed"
    },
    "tags": []
   },
   "outputs": [],
   "source": [
    "from tensorflow.keras.applications import EfficientNetB0, VGG16\n",
    "\n",
    "def create_efficientNet(nbr_features):\n",
    "    inputs = tf.keras.Input(shape=(96, 96, 3))  \n",
    "    # This option include_top excludes the final Dense layer.\n",
    "    # This allows us to replace the top layer with custom layers which allows the use of  EfficientNet as a feature extractor in a transfer learning workflow\n",
    "    model = EfficientNetB0(include_top=False, input_tensor=inputs, weights=\"imagenet\")#, drop_connect_rate=0.1)\n",
    "    # Freeze the pretrained weights\n",
    "    model.trainable = False\n",
    "\n",
    "    # Rebuild top\n",
    "    x = GlobalAveragePooling2D()(model.output)    \n",
    "    x = BatchNormalization()(x)\n",
    "    x = Dropout(0.4)(x)\n",
    "    outputs = Dense(nbr_features,activation='relu')(x)\n",
    "\n",
    "    # Compile\n",
    "    model = keras.Model(inputs, outputs)\n",
    "    return model\n",
    "\n",
    "def create_vgg16(nbr_features):\n",
    "\n",
    "    #Get back the convolutional part of a VGG network trained on ImageNet\n",
    "    model = VGG16(weights='imagenet', include_top=False)\n",
    "    model.trainable = False\n",
    "    #Create your own input format (here 3x200x200)\n",
    "    inputs = Input(shape=(96,96,3))\n",
    "\n",
    "    #Use the generated model \n",
    "    output_vgg16 = model(inputs)\n",
    "\n",
    "    #Add the fully-connected layers \n",
    "    x = Flatten()(output_vgg16)\n",
    "    x = Dense(64, activation='relu')(x)\n",
    "    # x = Dense(32, activation='relu')(x)\n",
    "    outputs = Dense(nbr_features, activation='relu')(x)\n",
    "\n",
    "    #Create your own model \n",
    "    model = keras.Model(inputs=inputs, outputs=outputs)\n",
    "    return model\n",
    "\n",
    "\n",
    "def create_simple_model(nbr_features):\n",
    "  # vanillia CNN model\n",
    "    model = Sequential()\n",
    "    model.add(Conv2D(16, kernel_size=(5, 5), activation='relu', input_shape=(96, 96 , 1)))\n",
    "    model.add(MaxPooling2D(pool_size=(2, 2), strides=2))\n",
    "    model.add(Conv2D(48, (3, 3), activation='relu'))\n",
    "    model.add(MaxPooling2D(pool_size=(2, 2), strides=2))\n",
    "    model.add(Conv2D(64, (3, 3), activation='relu'))\n",
    "    model.add(MaxPooling2D(pool_size=(2, 2), strides=2))\n",
    "    model.add(Conv2D(64, (2, 2), activation='relu'))\n",
    "    model.add(Flatten())\n",
    "    model.add(Dense(100, activation='relu'))\n",
    "    model.add(Dense(nbr_features, activation='relu'))\n",
    "    return model\n"
   ]
  },
  {
   "cell_type": "code",
   "execution_count": 17,
   "metadata": {
    "execution": {
     "iopub.execute_input": "2021-01-08T14:30:03.194938Z",
     "iopub.status.busy": "2021-01-08T14:30:03.194349Z",
     "iopub.status.idle": "2021-01-08T14:30:08.365357Z",
     "shell.execute_reply": "2021-01-08T14:30:08.364727Z"
    },
    "id": "ofh5qnydxTwZ",
    "outputId": "07bd6fcc-e67a-409e-813c-a4d839c5966b",
    "papermill": {
     "duration": 5.20564,
     "end_time": "2021-01-08T14:30:08.365476",
     "exception": false,
     "start_time": "2021-01-08T14:30:03.159836",
     "status": "completed"
    },
    "tags": []
   },
   "outputs": [
    {
     "name": "stdout",
     "output_type": "stream",
     "text": [
      "Downloading data from https://storage.googleapis.com/keras-applications/efficientnetb0_notop.h5\n",
      "16711680/16705208 [==============================] - 0s 0us/step\n"
     ]
    }
   ],
   "source": [
    "nbr_features = 2\n",
    "# create the model\n",
    "model = create_efficientNet(nbr_features)\n",
    "# model = create_vgg16(nbr_features)"
   ]
  },
  {
   "cell_type": "markdown",
   "metadata": {
    "id": "cJ8vd7UwtrYg",
    "papermill": {
     "duration": 0.032867,
     "end_time": "2021-01-08T14:30:08.432072",
     "exception": false,
     "start_time": "2021-01-08T14:30:08.399205",
     "status": "completed"
    },
    "tags": []
   },
   "source": [
    "#### **Define custom loss and compile the model**"
   ]
  },
  {
   "cell_type": "code",
   "execution_count": 18,
   "metadata": {
    "execution": {
     "iopub.execute_input": "2021-01-08T14:30:08.654833Z",
     "iopub.status.busy": "2021-01-08T14:30:08.653867Z",
     "iopub.status.idle": "2021-01-08T14:30:08.661658Z",
     "shell.execute_reply": "2021-01-08T14:30:08.662244Z"
    },
    "id": "tXRRM-KrLjfE",
    "papermill": {
     "duration": 0.196796,
     "end_time": "2021-01-08T14:30:08.662405",
     "exception": false,
     "start_time": "2021-01-08T14:30:08.465609",
     "status": "completed"
    },
    "tags": []
   },
   "outputs": [],
   "source": [
    "import tensorflow.keras.backend as K\n",
    "\n",
    "def euclidean_distance_loss(y_true, y_pred):\n",
    "  #     Euclidean distance loss\n",
    "    return K.sqrt(K.sum(K.square(y_pred - y_true), axis=-1))\n",
    "\n",
    "def absolute_tanh(x):\n",
    "    return K.abs(K.tanh(x))\n",
    "\n",
    "# MeanAbsoluteError(), MeanAbsolutePercentageError()\n",
    "model.compile(loss=euclidean_distance_loss,\n",
    "              optimizer=keras.optimizers.Adam(learning_rate=1e-4),\n",
    "              )\n",
    "\n",
    "def unfreeze_model(model):\n",
    "    # We unfreeze the top 5 layers while leaving BatchNorm layers frozen\n",
    "    for layer in model.layers[-25:]:\n",
    "        if not isinstance(layer, keras.layers.BatchNormalization):\n",
    "            layer.trainable = True"
   ]
  },
  {
   "cell_type": "markdown",
   "metadata": {
    "id": "XOn3P3dcvy7T",
    "papermill": {
     "duration": 0.03326,
     "end_time": "2021-01-08T14:30:08.730098",
     "exception": false,
     "start_time": "2021-01-08T14:30:08.696838",
     "status": "completed"
    },
    "tags": []
   },
   "source": [
    "#### **Start training**"
   ]
  },
  {
   "cell_type": "code",
   "execution_count": 19,
   "metadata": {
    "execution": {
     "iopub.execute_input": "2021-01-08T14:30:08.823351Z",
     "iopub.status.busy": "2021-01-08T14:30:08.810140Z",
     "iopub.status.idle": "2021-01-08T14:33:09.742874Z",
     "shell.execute_reply": "2021-01-08T14:33:09.741419Z"
    },
    "id": "7AWepBFAc9LR",
    "outputId": "98eb52a4-9bf9-4246-baab-cd0b9085d99c",
    "papermill": {
     "duration": 180.97926,
     "end_time": "2021-01-08T14:33:09.742999",
     "exception": false,
     "start_time": "2021-01-08T14:30:08.763739",
     "status": "completed"
    },
    "tags": []
   },
   "outputs": [
    {
     "name": "stdout",
     "output_type": "stream",
     "text": [
      "Epoch 1/100\n",
      "56/56 [==============================] - 3s 55ms/step - loss: 0.5662 - val_loss: 0.4803\n",
      "Epoch 2/100\n",
      "56/56 [==============================] - 2s 35ms/step - loss: 0.5473 - val_loss: 0.4865\n",
      "Epoch 3/100\n",
      "56/56 [==============================] - 1s 27ms/step - loss: 0.5312 - val_loss: 0.5055\n",
      "Epoch 4/100\n",
      "56/56 [==============================] - 1s 27ms/step - loss: 0.5197 - val_loss: 0.4996\n",
      "Epoch 5/100\n",
      "56/56 [==============================] - 2s 34ms/step - loss: 0.5079 - val_loss: 0.4972\n",
      "Epoch 6/100\n",
      "56/56 [==============================] - 2s 29ms/step - loss: 0.5000 - val_loss: 0.4892\n",
      "Epoch 7/100\n",
      "56/56 [==============================] - 2s 28ms/step - loss: 0.5189 - val_loss: 0.4817\n",
      "Epoch 8/100\n",
      "56/56 [==============================] - 2s 27ms/step - loss: 0.5140 - val_loss: 0.4604\n",
      "Epoch 9/100\n",
      "56/56 [==============================] - 1s 26ms/step - loss: 0.4975 - val_loss: 0.4372\n",
      "Epoch 10/100\n",
      "56/56 [==============================] - 2s 27ms/step - loss: 0.5066 - val_loss: 0.3987\n",
      "Epoch 11/100\n",
      "56/56 [==============================] - 2s 27ms/step - loss: 0.4973 - val_loss: 0.4066\n",
      "Epoch 12/100\n",
      "56/56 [==============================] - 2s 31ms/step - loss: 0.4992 - val_loss: 0.3809\n",
      "Epoch 13/100\n",
      "56/56 [==============================] - 2s 28ms/step - loss: 0.5096 - val_loss: 0.3598\n",
      "Epoch 14/100\n",
      "56/56 [==============================] - 2s 28ms/step - loss: 0.4971 - val_loss: 0.3520\n",
      "Epoch 15/100\n",
      "56/56 [==============================] - 2s 27ms/step - loss: 0.4913 - val_loss: 0.3361\n",
      "Epoch 16/100\n",
      "56/56 [==============================] - 2s 28ms/step - loss: 0.4856 - val_loss: 0.3303\n",
      "Epoch 17/100\n",
      "56/56 [==============================] - 2s 28ms/step - loss: 0.4862 - val_loss: 0.3323\n",
      "Epoch 18/100\n",
      "56/56 [==============================] - 2s 33ms/step - loss: 0.4829 - val_loss: 0.3359\n",
      "Epoch 19/100\n",
      "56/56 [==============================] - 2s 29ms/step - loss: 0.4897 - val_loss: 0.3112\n",
      "Epoch 20/100\n",
      "56/56 [==============================] - 2s 29ms/step - loss: 0.4837 - val_loss: 0.3610\n",
      "Epoch 21/100\n",
      "56/56 [==============================] - 2s 32ms/step - loss: 0.4759 - val_loss: 0.3383\n",
      "Epoch 22/100\n",
      "56/56 [==============================] - 2s 29ms/step - loss: 0.4688 - val_loss: 0.3500\n",
      "Epoch 23/100\n",
      "56/56 [==============================] - 2s 31ms/step - loss: 0.4769 - val_loss: 0.3059\n",
      "Epoch 24/100\n",
      "56/56 [==============================] - 2s 31ms/step - loss: 0.4650 - val_loss: 0.3041\n",
      "Epoch 25/100\n",
      "56/56 [==============================] - 2s 32ms/step - loss: 0.4741 - val_loss: 0.2913\n",
      "Epoch 26/100\n",
      "56/56 [==============================] - 2s 34ms/step - loss: 0.4628 - val_loss: 0.2551\n",
      "Epoch 27/100\n",
      "56/56 [==============================] - 2s 29ms/step - loss: 0.4712 - val_loss: 0.2502\n",
      "Epoch 28/100\n",
      "56/56 [==============================] - 2s 28ms/step - loss: 0.4471 - val_loss: 0.2485\n",
      "Epoch 29/100\n",
      "56/56 [==============================] - 2s 29ms/step - loss: 0.4506 - val_loss: 0.2668\n",
      "Epoch 30/100\n",
      "56/56 [==============================] - 2s 29ms/step - loss: 0.4513 - val_loss: 0.2496\n",
      "Epoch 31/100\n",
      "56/56 [==============================] - 2s 34ms/step - loss: 0.4430 - val_loss: 0.2618\n",
      "Epoch 32/100\n",
      "56/56 [==============================] - 2s 27ms/step - loss: 0.4360 - val_loss: 0.2769\n",
      "Epoch 33/100\n",
      "56/56 [==============================] - 2s 27ms/step - loss: 0.4409 - val_loss: 0.2317\n",
      "Epoch 34/100\n",
      "56/56 [==============================] - 2s 27ms/step - loss: 0.4277 - val_loss: 0.2176\n",
      "Epoch 35/100\n",
      "56/56 [==============================] - 2s 27ms/step - loss: 0.4276 - val_loss: 0.2474\n",
      "Epoch 36/100\n",
      "56/56 [==============================] - 2s 27ms/step - loss: 0.4301 - val_loss: 0.2594\n",
      "Epoch 37/100\n",
      "56/56 [==============================] - 2s 30ms/step - loss: 0.4292 - val_loss: 0.2223\n",
      "Epoch 38/100\n",
      "56/56 [==============================] - 2s 30ms/step - loss: 0.4246 - val_loss: 0.2207\n",
      "Epoch 39/100\n",
      "56/56 [==============================] - 2s 28ms/step - loss: 0.4180 - val_loss: 0.2165\n",
      "Epoch 40/100\n",
      "56/56 [==============================] - 2s 38ms/step - loss: 0.4140 - val_loss: 0.2085\n",
      "Epoch 41/100\n",
      "56/56 [==============================] - 2s 27ms/step - loss: 0.4046 - val_loss: 0.1749\n",
      "Epoch 42/100\n",
      "56/56 [==============================] - 2s 28ms/step - loss: 0.4029 - val_loss: 0.2006\n",
      "Epoch 43/100\n",
      "56/56 [==============================] - 2s 28ms/step - loss: 0.4051 - val_loss: 0.1912\n",
      "Epoch 44/100\n",
      "56/56 [==============================] - 2s 32ms/step - loss: 0.4074 - val_loss: 0.1843\n",
      "Epoch 45/100\n",
      "56/56 [==============================] - 2s 27ms/step - loss: 0.4028 - val_loss: 0.1892\n",
      "Epoch 46/100\n",
      "56/56 [==============================] - 2s 27ms/step - loss: 0.3946 - val_loss: 0.1780\n",
      "Epoch 47/100\n",
      "56/56 [==============================] - 2s 27ms/step - loss: 0.3896 - val_loss: 0.1764\n",
      "Epoch 48/100\n",
      "56/56 [==============================] - 2s 27ms/step - loss: 0.3936 - val_loss: 0.1593\n",
      "Epoch 49/100\n",
      "56/56 [==============================] - 2s 31ms/step - loss: 0.3812 - val_loss: 0.1884\n",
      "Epoch 50/100\n",
      "56/56 [==============================] - 2s 29ms/step - loss: 0.3833 - val_loss: 0.1612\n",
      "Epoch 51/100\n",
      "56/56 [==============================] - 2s 29ms/step - loss: 0.3802 - val_loss: 0.1863\n",
      "Epoch 52/100\n",
      "56/56 [==============================] - 2s 27ms/step - loss: 0.3683 - val_loss: 0.1980\n",
      "Epoch 53/100\n",
      "56/56 [==============================] - 2s 28ms/step - loss: 0.3679 - val_loss: 0.1815\n",
      "Epoch 54/100\n",
      "56/56 [==============================] - 1s 26ms/step - loss: 0.3623 - val_loss: 0.1878\n",
      "Epoch 55/100\n",
      "56/56 [==============================] - 2s 27ms/step - loss: 0.3630 - val_loss: 0.1743\n",
      "Epoch 56/100\n",
      "56/56 [==============================] - 2s 28ms/step - loss: 0.3532 - val_loss: 0.1681\n",
      "Epoch 57/100\n",
      "56/56 [==============================] - 2s 33ms/step - loss: 0.3623 - val_loss: 0.1823\n",
      "Epoch 58/100\n",
      "56/56 [==============================] - 2s 27ms/step - loss: 0.3441 - val_loss: 0.1750\n",
      "Epoch 59/100\n",
      "56/56 [==============================] - 2s 43ms/step - loss: 0.3358 - val_loss: 0.1787\n",
      "Epoch 60/100\n",
      "56/56 [==============================] - 2s 29ms/step - loss: 0.3399 - val_loss: 0.1608\n",
      "Epoch 61/100\n",
      "56/56 [==============================] - 2s 34ms/step - loss: 0.3396 - val_loss: 0.1587\n",
      "Epoch 62/100\n",
      "56/56 [==============================] - 2s 27ms/step - loss: 0.3335 - val_loss: 0.1573\n",
      "Epoch 63/100\n",
      "56/56 [==============================] - 1s 27ms/step - loss: 0.3245 - val_loss: 0.1612\n",
      "Epoch 64/100\n",
      "56/56 [==============================] - 2s 33ms/step - loss: 0.3265 - val_loss: 0.1629\n",
      "Epoch 65/100\n",
      "56/56 [==============================] - 2s 28ms/step - loss: 0.3146 - val_loss: 0.1523\n",
      "Epoch 66/100\n",
      "56/56 [==============================] - 1s 26ms/step - loss: 0.3199 - val_loss: 0.1526\n",
      "Epoch 67/100\n",
      "56/56 [==============================] - 2s 33ms/step - loss: 0.3152 - val_loss: 0.1521\n",
      "Epoch 68/100\n",
      "56/56 [==============================] - 2s 27ms/step - loss: 0.3139 - val_loss: 0.1362\n",
      "Epoch 69/100\n",
      "56/56 [==============================] - 2s 27ms/step - loss: 0.3028 - val_loss: 0.1301\n",
      "Epoch 70/100\n",
      "56/56 [==============================] - 2s 33ms/step - loss: 0.3009 - val_loss: 0.1382\n",
      "Epoch 71/100\n",
      "56/56 [==============================] - 2s 29ms/step - loss: 0.2903 - val_loss: 0.1431\n",
      "Epoch 72/100\n",
      "56/56 [==============================] - 2s 28ms/step - loss: 0.2840 - val_loss: 0.1527\n",
      "Epoch 73/100\n",
      "56/56 [==============================] - 2s 28ms/step - loss: 0.2894 - val_loss: 0.1300\n",
      "Epoch 74/100\n",
      "56/56 [==============================] - 1s 27ms/step - loss: 0.2787 - val_loss: 0.1403\n",
      "Epoch 75/100\n",
      "56/56 [==============================] - 2s 28ms/step - loss: 0.2814 - val_loss: 0.1427\n",
      "Epoch 76/100\n",
      "56/56 [==============================] - 2s 33ms/step - loss: 0.2775 - val_loss: 0.1383\n",
      "Epoch 77/100\n",
      "56/56 [==============================] - 2s 31ms/step - loss: 0.2657 - val_loss: 0.1285\n",
      "Epoch 78/100\n",
      "56/56 [==============================] - 2s 35ms/step - loss: 0.2723 - val_loss: 0.1335\n",
      "Epoch 79/100\n",
      "56/56 [==============================] - 2s 30ms/step - loss: 0.2673 - val_loss: 0.1249\n",
      "Epoch 80/100\n",
      "56/56 [==============================] - 2s 29ms/step - loss: 0.2611 - val_loss: 0.1292\n",
      "Epoch 81/100\n",
      "56/56 [==============================] - 2s 28ms/step - loss: 0.2533 - val_loss: 0.1310\n",
      "Epoch 82/100\n",
      "56/56 [==============================] - 2s 29ms/step - loss: 0.2514 - val_loss: 0.1324\n",
      "Epoch 83/100\n",
      "56/56 [==============================] - 2s 30ms/step - loss: 0.2419 - val_loss: 0.1286\n",
      "Epoch 84/100\n",
      "56/56 [==============================] - 2s 28ms/step - loss: 0.2428 - val_loss: 0.1329\n",
      "Epoch 85/100\n",
      "56/56 [==============================] - 2s 33ms/step - loss: 0.2404 - val_loss: 0.1305\n",
      "Epoch 86/100\n",
      "56/56 [==============================] - 2s 27ms/step - loss: 0.2302 - val_loss: 0.1222\n",
      "Epoch 87/100\n",
      "56/56 [==============================] - 2s 28ms/step - loss: 0.2297 - val_loss: 0.1187\n",
      "Epoch 88/100\n",
      "56/56 [==============================] - 1s 27ms/step - loss: 0.2255 - val_loss: 0.1187\n",
      "Epoch 89/100\n",
      "56/56 [==============================] - 2s 33ms/step - loss: 0.2276 - val_loss: 0.1218\n",
      "Epoch 90/100\n",
      "56/56 [==============================] - 2s 30ms/step - loss: 0.2186 - val_loss: 0.1177\n",
      "Epoch 91/100\n",
      "56/56 [==============================] - 2s 28ms/step - loss: 0.2186 - val_loss: 0.1311\n",
      "Epoch 92/100\n",
      "56/56 [==============================] - 2s 28ms/step - loss: 0.2162 - val_loss: 0.1286\n",
      "Epoch 93/100\n",
      "56/56 [==============================] - 2s 27ms/step - loss: 0.2141 - val_loss: 0.1253\n",
      "Epoch 94/100\n",
      "56/56 [==============================] - 2s 35ms/step - loss: 0.2044 - val_loss: 0.1248\n",
      "Epoch 95/100\n",
      "56/56 [==============================] - 2s 28ms/step - loss: 0.2041 - val_loss: 0.1154\n",
      "Epoch 96/100\n",
      "56/56 [==============================] - 3s 49ms/step - loss: 0.1995 - val_loss: 0.1322\n",
      "Epoch 97/100\n",
      "56/56 [==============================] - 2s 29ms/step - loss: 0.2001 - val_loss: 0.1164\n",
      "Epoch 98/100\n",
      "56/56 [==============================] - 2s 28ms/step - loss: 0.1988 - val_loss: 0.1151\n",
      "Epoch 99/100\n",
      "56/56 [==============================] - 2s 29ms/step - loss: 0.1959 - val_loss: 0.1256\n",
      "Epoch 100/100\n",
      "56/56 [==============================] - 2s 27ms/step - loss: 0.1868 - val_loss: 0.1183\n"
     ]
    }
   ],
   "source": [
    "#10 + 10 +10\n",
    "unfreeze_model(model)\n",
    "\n",
    "history = model.fit(train_generator, \n",
    "                    validation_data=val_generator,\n",
    "                    epochs=100)"
   ]
  },
  {
   "cell_type": "markdown",
   "metadata": {
    "id": "HvHov45D2qwx",
    "papermill": {
     "duration": 1.015234,
     "end_time": "2021-01-08T14:33:11.571311",
     "exception": false,
     "start_time": "2021-01-08T14:33:10.556077",
     "status": "completed"
    },
    "tags": []
   },
   "source": [
    "#### **Evaluate the model**"
   ]
  },
  {
   "cell_type": "code",
   "execution_count": 20,
   "metadata": {
    "execution": {
     "iopub.execute_input": "2021-01-08T14:33:13.253306Z",
     "iopub.status.busy": "2021-01-08T14:33:13.252239Z",
     "iopub.status.idle": "2021-01-08T14:33:13.528210Z",
     "shell.execute_reply": "2021-01-08T14:33:13.527674Z"
    },
    "id": "RYKhDBx9MgTN",
    "outputId": "52aeb591-a793-4482-b854-38914ebd81a9",
    "papermill": {
     "duration": 1.099894,
     "end_time": "2021-01-08T14:33:13.528341",
     "exception": false,
     "start_time": "2021-01-08T14:33:12.428447",
     "status": "completed"
    },
    "tags": []
   },
   "outputs": [
    {
     "name": "stdout",
     "output_type": "stream",
     "text": [
      "14/14 [==============================] - 0s 14ms/step - loss: 0.1188\n"
     ]
    },
    {
     "data": {
      "text/plain": [
       "0.11875687539577484"
      ]
     },
     "execution_count": 20,
     "metadata": {},
     "output_type": "execute_result"
    }
   ],
   "source": [
    "model.evaluate(val_generator)"
   ]
  },
  {
   "cell_type": "code",
   "execution_count": 21,
   "metadata": {
    "execution": {
     "iopub.execute_input": "2021-01-08T14:33:15.180668Z",
     "iopub.status.busy": "2021-01-08T14:33:15.179907Z",
     "iopub.status.idle": "2021-01-08T14:33:15.380446Z",
     "shell.execute_reply": "2021-01-08T14:33:15.379853Z"
    },
    "id": "FYqFSqoqe8Do",
    "outputId": "acccfe34-e1ed-4dee-db6f-d388e7efb6c5",
    "papermill": {
     "duration": 1.025114,
     "end_time": "2021-01-08T14:33:15.380571",
     "exception": false,
     "start_time": "2021-01-08T14:33:14.355457",
     "status": "completed"
    },
    "tags": []
   },
   "outputs": [
    {
     "data": {
      "text/plain": [
       "Text(0.5, 1.0, 'Training and validation loss')"
      ]
     },
     "execution_count": 21,
     "metadata": {},
     "output_type": "execute_result"
    },
    {
     "data": {
      "image/png": "[encoded data removed]",
      "text/plain": [
       "<Figure size 432x288 with 1 Axes>"
      ]
     },
     "metadata": {
      "needs_background": "light"
     },
     "output_type": "display_data"
    }
   ],
   "source": [
    "# Retrieve a list of list results on training and test data sets for each training epoch\n",
    "loss     = history.history['loss']\n",
    "val_loss = history.history['val_loss']\n",
    "epochs   = range(len(loss))\n",
    "# Plot training and validation loss per epoch\n",
    "plt.plot(epochs,loss, color='red' , label='training loss')\n",
    "plt.plot(epochs, val_loss, label='validation loss')\n",
    "plt.legend()\n",
    "plt.title ('Training and validation loss')"
   ]
  },
  {
   "cell_type": "markdown",
   "metadata": {
    "id": "BIr2js1Z2ipI",
    "papermill": {
     "duration": 0.81748,
     "end_time": "2021-01-08T14:33:17.063108",
     "exception": false,
     "start_time": "2021-01-08T14:33:16.245628",
     "status": "completed"
    },
    "tags": []
   },
   "source": [
    "#### **Test the model on random images**"
   ]
  },
  {
   "cell_type": "code",
   "execution_count": 22,
   "metadata": {
    "execution": {
     "iopub.execute_input": "2021-01-08T14:33:18.687372Z",
     "iopub.status.busy": "2021-01-08T14:33:18.686421Z",
     "iopub.status.idle": "2021-01-08T14:33:18.692806Z",
     "shell.execute_reply": "2021-01-08T14:33:18.693340Z"
    },
    "id": "MnxNCLAA1xvB",
    "outputId": "16288291-87dc-4ac3-ba1f-30a59d2fa79a",
    "papermill": {
     "duration": 0.821243,
     "end_time": "2021-01-08T14:33:18.693461",
     "exception": false,
     "start_time": "2021-01-08T14:33:17.872218",
     "status": "completed"
    },
    "tags": []
   },
   "outputs": [
    {
     "data": {
      "text/plain": [
       "{'mouth_right_corner_x': MinMaxScaler(),\n",
       " 'mouth_right_corner_y': MinMaxScaler()}"
      ]
     },
     "execution_count": 22,
     "metadata": {},
     "output_type": "execute_result"
    }
   ],
   "source": [
    "scalers_dict"
   ]
  },
  {
   "cell_type": "code",
   "execution_count": 23,
   "metadata": {
    "execution": {
     "iopub.execute_input": "2021-01-08T14:33:20.333135Z",
     "iopub.status.busy": "2021-01-08T14:33:20.332324Z",
     "iopub.status.idle": "2021-01-08T14:33:21.881909Z",
     "shell.execute_reply": "2021-01-08T14:33:21.881403Z"
    },
    "id": "EbY6XCqHPvoO",
    "outputId": "85d7b89c-efa4-405a-986a-92f79d589697",
    "papermill": {
     "duration": 2.377939,
     "end_time": "2021-01-08T14:33:21.882008",
     "exception": false,
     "start_time": "2021-01-08T14:33:19.504069",
     "status": "completed"
    },
    "tags": []
   },
   "outputs": [
    {
     "name": "stdout",
     "output_type": "stream",
     "text": [
      "[0.46189782 0.6838721 ]\n",
      "[35.3972  83.23844]\n",
      "[[0.4374735  0.56565714]]\n",
      "[[33.644215 78.649284]]\n"
     ]
    },
    {
     "data": {
      "image/png": "[encoded data removed]",
      "text/plain": [
       "<Figure size 432x288 with 1 Axes>"
      ]
     },
     "metadata": {
      "needs_background": "light"
     },
     "output_type": "display_data"
    }
   ],
   "source": [
    "batch = val_generator.__getitem__(2)\n",
    "j= np.random.randint(0,len(batch[0]))\n",
    "# check original image \n",
    "print(batch[1][j:j+1][0])\n",
    "actual_y= batch[1][j:j+1][0]\n",
    "actual_y[0] = scalers_dict[feature_name+\"_x\"].inverse_transform([[actual_y[0]]])\n",
    "actual_y[1] = scalers_dict[feature_name+\"_y\"].inverse_transform([[actual_y[1]]])\n",
    "print(actual_y)\n",
    "##############################################\n",
    "predicted_y = model.predict(batch[0][j:j+1])\n",
    "print(predicted_y)\n",
    "# uncomment in case we have used the scaling\n",
    "predicted_y[:,:1] = scalers_dict[feature_name+\"_x\"].inverse_transform(predicted_y[:,:1])\n",
    "predicted_y[:,1:] = scalers_dict[feature_name+\"_y\"].inverse_transform(predicted_y[:,1:])\n",
    "print(predicted_y)\n",
    "##############################################3\n",
    "visualize_image(batch[0][j:j+1].reshape(96,96,3)[:,:,0],actual_y, predicted_y[0])"
   ]
  },
  {
   "cell_type": "markdown",
   "metadata": {
    "id": "Q3sMZnVZ3-dd",
    "papermill": {
     "duration": 0.816784,
     "end_time": "2021-01-08T14:33:23.755349",
     "exception": false,
     "start_time": "2021-01-08T14:33:22.938565",
     "status": "completed"
    },
    "tags": []
   },
   "source": [
    "**Its very impressive how close are the predicted corrdinates to the original ones**"
   ]
  },
  {
   "cell_type": "markdown",
   "metadata": {
    "id": "KOW_zMQ5PvoS",
    "papermill": {
     "duration": 0.824686,
     "end_time": "2021-01-08T14:33:25.398776",
     "exception": false,
     "start_time": "2021-01-08T14:33:24.574090",
     "status": "completed"
    },
    "tags": []
   },
   "source": [
    "#### **Test on missing data**"
   ]
  },
  {
   "cell_type": "code",
   "execution_count": 24,
   "metadata": {
    "execution": {
     "iopub.execute_input": "2021-01-08T14:33:27.084305Z",
     "iopub.status.busy": "2021-01-08T14:33:27.082742Z",
     "iopub.status.idle": "2021-01-08T14:33:27.086769Z",
     "shell.execute_reply": "2021-01-08T14:33:27.086276Z"
    },
    "id": "zKZ1t2qoPvoS",
    "outputId": "2c2688c2-cb6d-4ad7-dad1-9fabe60c1d13",
    "papermill": {
     "duration": 0.83408,
     "end_time": "2021-01-08T14:33:27.086864",
     "exception": false,
     "start_time": "2021-01-08T14:33:26.252784",
     "status": "completed"
    },
    "tags": []
   },
   "outputs": [
    {
     "data": {
      "text/plain": [
       "'mouth_right_corner'"
      ]
     },
     "execution_count": 24,
     "metadata": {},
     "output_type": "execute_result"
    }
   ],
   "source": [
    "feature_name"
   ]
  },
  {
   "cell_type": "code",
   "execution_count": 25,
   "metadata": {
    "execution": {
     "iopub.execute_input": "2021-01-08T14:33:28.748624Z",
     "iopub.status.busy": "2021-01-08T14:33:28.747676Z",
     "iopub.status.idle": "2021-01-08T14:33:28.751526Z",
     "shell.execute_reply": "2021-01-08T14:33:28.750850Z"
    },
    "id": "BlsfoMj3PvoT",
    "papermill": {
     "duration": 0.827949,
     "end_time": "2021-01-08T14:33:28.751640",
     "exception": false,
     "start_time": "2021-01-08T14:33:27.923691",
     "status": "completed"
    },
    "tags": []
   },
   "outputs": [],
   "source": [
    "rgb_channels= True\n",
    "normalize_image = True\n",
    "def pre_process_images(image):\n",
    "    image = np.vstack(image).reshape(-1, 96, 96, 1).astype(np.float32)\n",
    "    if rgb_channels:\n",
    "        image = np.repeat(image,3,-1)\n",
    "    if normalize_image == True:\n",
    "        image = image/255\n",
    "    return image"
   ]
  },
  {
   "cell_type": "code",
   "execution_count": 26,
   "metadata": {
    "execution": {
     "iopub.execute_input": "2021-01-08T14:33:30.403212Z",
     "iopub.status.busy": "2021-01-08T14:33:30.402230Z",
     "iopub.status.idle": "2021-01-08T14:33:30.405085Z",
     "shell.execute_reply": "2021-01-08T14:33:30.405564Z"
    },
    "id": "NsF-GdN6PvoU",
    "papermill": {
     "duration": 0.829502,
     "end_time": "2021-01-08T14:33:30.405706",
     "exception": false,
     "start_time": "2021-01-08T14:33:29.576204",
     "status": "completed"
    },
    "tags": []
   },
   "outputs": [],
   "source": [
    "missing_data = dic_missing_data[feature_name]"
   ]
  },
  {
   "cell_type": "code",
   "execution_count": 27,
   "metadata": {
    "execution": {
     "iopub.execute_input": "2021-01-08T14:33:32.102704Z",
     "iopub.status.busy": "2021-01-08T14:33:32.101869Z",
     "iopub.status.idle": "2021-01-08T14:33:32.105220Z",
     "shell.execute_reply": "2021-01-08T14:33:32.105766Z"
    },
    "id": "xgfXwWOMDj0N",
    "outputId": "c74688b4-7479-421a-9a07-3925a7096300",
    "papermill": {
     "duration": 0.834453,
     "end_time": "2021-01-08T14:33:32.105888",
     "exception": false,
     "start_time": "2021-01-08T14:33:31.271435",
     "status": "completed"
    },
    "tags": []
   },
   "outputs": [
    {
     "data": {
      "text/plain": [
       "4779"
      ]
     },
     "execution_count": 27,
     "metadata": {},
     "output_type": "execute_result"
    }
   ],
   "source": [
    "len(missing_data)"
   ]
  },
  {
   "cell_type": "code",
   "execution_count": 28,
   "metadata": {
    "execution": {
     "iopub.execute_input": "2021-01-08T14:33:34.344792Z",
     "iopub.status.busy": "2021-01-08T14:33:34.342987Z",
     "iopub.status.idle": "2021-01-08T14:33:34.623066Z",
     "shell.execute_reply": "2021-01-08T14:33:34.624197Z"
    },
    "id": "7janB8HOPvoU",
    "outputId": "5698bbf5-06b1-44d6-99e4-3920e4ea689a",
    "papermill": {
     "duration": 1.691227,
     "end_time": "2021-01-08T14:33:34.624430",
     "exception": false,
     "start_time": "2021-01-08T14:33:32.933203",
     "status": "completed"
    },
    "tags": []
   },
   "outputs": [
    {
     "name": "stdout",
     "output_type": "stream",
     "text": [
      "[[0.44162598 0.56725085]]\n",
      "[[33.942245 78.71116 ]]\n"
     ]
    },
    {
     "data": {
      "image/png": "[encoded data removed]",
      "text/plain": [
       "<Figure size 432x288 with 1 Axes>"
      ]
     },
     "metadata": {
      "needs_background": "light"
     },
     "output_type": "display_data"
    }
   ],
   "source": [
    "# take a random image and test on it\n",
    "l = np.random.randint(0, len(missing_data)-1)\n",
    "image = missing_data.iloc[l][\"Image\"]\n",
    "image = pre_process_images(image)\n",
    "predicted_y = model.predict(image)\n",
    "print(predicted_y)\n",
    "# uncomment in case we have used the scaling\n",
    "predicted_y[:,:1] = scalers_dict[feature_name+\"_x\"].inverse_transform(predicted_y[:,:1])\n",
    "predicted_y[:,1:] = scalers_dict[feature_name+\"_y\"].inverse_transform(predicted_y[:,1:])\n",
    "print(predicted_y)\n",
    "visualize_image(image.reshape(96,96,3)[:,:,0],None, predicted_y[0])"
   ]
  },
  {
   "cell_type": "markdown",
   "metadata": {
    "id": "eCtvSBv2PvoV",
    "papermill": {
     "duration": 0.824368,
     "end_time": "2021-01-08T14:33:36.331697",
     "exception": false,
     "start_time": "2021-01-08T14:33:35.507329",
     "status": "completed"
    },
    "tags": []
   },
   "source": [
    "#### **Save model**"
   ]
  },
  {
   "cell_type": "code",
   "execution_count": 29,
   "metadata": {
    "execution": {
     "iopub.execute_input": "2021-01-08T14:33:38.024823Z",
     "iopub.status.busy": "2021-01-08T14:33:38.009418Z",
     "iopub.status.idle": "2021-01-08T14:33:38.385962Z",
     "shell.execute_reply": "2021-01-08T14:33:38.384865Z"
    },
    "id": "PHDvP_QL39lh",
    "papermill": {
     "duration": 1.228757,
     "end_time": "2021-01-08T14:33:38.386091",
     "exception": false,
     "start_time": "2021-01-08T14:33:37.157334",
     "status": "completed"
    },
    "tags": []
   },
   "outputs": [],
   "source": [
    "# save model and architecture to single file\n",
    "model.save(model_path)"
   ]
  },
  {
   "cell_type": "code",
   "execution_count": null,
   "metadata": {
    "id": "ERAMk1EHPvoX",
    "papermill": {
     "duration": 0.816635,
     "end_time": "2021-01-08T14:33:40.020627",
     "exception": false,
     "start_time": "2021-01-08T14:33:39.203992",
     "status": "completed"
    },
    "tags": []
   },
   "outputs": [],
   "source": []
  },
  {
   "cell_type": "code",
   "execution_count": null,
   "metadata": {
    "papermill": {
     "duration": 0.841903,
     "end_time": "2021-01-08T14:33:41.681521",
     "exception": false,
     "start_time": "2021-01-08T14:33:40.839618",
     "status": "completed"
    },
    "tags": []
   },
   "outputs": [],
   "source": []
  }
 ],
 "metadata": {
  "kernelspec": {
   "display_name": "Python 3",
   "language": "python",
   "name": "python3"
  },
  "language_info": {
   "codemirror_mode": {
    "name": "ipython",
    "version": 3
   },
   "file_extension": ".py",
   "mimetype": "text/x-python",
   "name": "python",
   "nbconvert_exporter": "python",
   "pygments_lexer": "ipython3",
   "version": "3.7.6"
  },
  "papermill": {
   "duration": 241.026644,
   "end_time": "2021-01-08T14:33:44.015499",
   "environment_variables": {},
   "exception": null,
   "input_path": "__notebook__.ipynb",
   "output_path": "__notebook__.ipynb",
   "parameters": {},
   "start_time": "2021-01-08T14:29:42.988855",
   "version": "2.1.0"
  }
 },
 "nbformat": 4,
 "nbformat_minor": 4
}
