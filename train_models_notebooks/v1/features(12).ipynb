{
 "cells": [
  {
   "cell_type": "code",
   "execution_count": 1,
   "metadata": {
    "execution": {
     "iopub.execute_input": "2021-01-08T15:38:18.255565Z",
     "iopub.status.busy": "2021-01-08T15:38:18.254722Z",
     "iopub.status.idle": "2021-01-08T15:38:18.257826Z",
     "shell.execute_reply": "2021-01-08T15:38:18.257283Z"
    },
    "id": "mt9t-79OPvng",
    "papermill": {
     "duration": 0.032201,
     "end_time": "2021-01-08T15:38:18.257944",
     "exception": false,
     "start_time": "2021-01-08T15:38:18.225743",
     "status": "completed"
    },
    "tags": []
   },
   "outputs": [],
   "source": [
    "feature_index = 12"
   ]
  },
  {
   "cell_type": "code",
   "execution_count": 2,
   "metadata": {
    "execution": {
     "iopub.execute_input": "2021-01-08T15:38:18.307567Z",
     "iopub.status.busy": "2021-01-08T15:38:18.306903Z",
     "iopub.status.idle": "2021-01-08T15:38:18.309714Z",
     "shell.execute_reply": "2021-01-08T15:38:18.309256Z"
    },
    "id": "29LaKxCh-Em7",
    "papermill": {
     "duration": 0.028456,
     "end_time": "2021-01-08T15:38:18.309797",
     "exception": false,
     "start_time": "2021-01-08T15:38:18.281341",
     "status": "completed"
    },
    "tags": []
   },
   "outputs": [],
   "source": [
    "# import os\n",
    "# os.environ['KAGGLE_USERNAME'] = \"mariaafara\" # username from the json file\n",
    "# os.environ['KAGGLE_KEY'] = \"25755ae03c0b83042774e5e0d15b886e\" # key from the json file\n",
    "#Crearting a Client to host the Kaggle API\n",
    "# !pip install -q kaggle\n",
    "# !kaggle datasets download mariaafara/Facial-Landmarks\n",
    "# !unzip Facial-Landmarks.zip -d facial-keypoints-detection"
   ]
  },
  {
   "cell_type": "code",
   "execution_count": 3,
   "metadata": {
    "execution": {
     "iopub.execute_input": "2021-01-08T15:38:18.361703Z",
     "iopub.status.busy": "2021-01-08T15:38:18.361176Z",
     "iopub.status.idle": "2021-01-08T15:38:23.378611Z",
     "shell.execute_reply": "2021-01-08T15:38:23.377214Z"
    },
    "id": "3f3roaNK6hfZ",
    "papermill": {
     "duration": 5.046341,
     "end_time": "2021-01-08T15:38:23.378730",
     "exception": false,
     "start_time": "2021-01-08T15:38:18.332389",
     "status": "completed"
    },
    "tags": []
   },
   "outputs": [],
   "source": [
    "import numpy as np\n",
    "import pandas as pd\n",
    "import math\n",
    "import random\n",
    "import seaborn as sns\n",
    "import matplotlib.pyplot as plt\n",
    "import tensorflow as tf\n",
    "import tensorflow.keras as keras\n",
    "from tensorflow.keras.models import Sequential\n",
    "from tensorflow.keras.layers import Dense, Dropout, Flatten, Input, Conv2D, MaxPooling2D, GlobalAveragePooling2D, BatchNormalization\n",
    "from sklearn.model_selection import train_test_split\n",
    "from sklearn import preprocessing\n",
    "from sklearn.preprocessing import MinMaxScaler\n",
    "from tensorflow.keras import optimizers\n",
    "from IPython.display import clear_output\n",
    "pd.options.mode.chained_assignment = None  # default='warn'\n"
   ]
  },
  {
   "cell_type": "code",
   "execution_count": 4,
   "metadata": {
    "execution": {
     "iopub.execute_input": "2021-01-08T15:38:23.429509Z",
     "iopub.status.busy": "2021-01-08T15:38:23.428724Z",
     "iopub.status.idle": "2021-01-08T15:38:23.431504Z",
     "shell.execute_reply": "2021-01-08T15:38:23.431063Z"
    },
    "id": "9_E22cct-EnI",
    "papermill": {
     "duration": 0.029238,
     "end_time": "2021-01-08T15:38:23.431595",
     "exception": false,
     "start_time": "2021-01-08T15:38:23.402357",
     "status": "completed"
    },
    "tags": []
   },
   "outputs": [],
   "source": [
    "train_data_path = \"/kaggle/input/facial-landmarks/dic_train_data.pkl\"\n",
    "missing_data_path = \"/kaggle/input/facial-landmarks/dic_missing_data.pkl\"\n",
    "# train_data_path = \"data/dic_train_data.pkl\"\n",
    "# missing_data_path = \"data/dic_missing_data.pkl\""
   ]
  },
  {
   "cell_type": "code",
   "execution_count": 5,
   "metadata": {
    "execution": {
     "iopub.execute_input": "2021-01-08T15:38:23.480461Z",
     "iopub.status.busy": "2021-01-08T15:38:23.479925Z",
     "iopub.status.idle": "2021-01-08T15:38:33.048825Z",
     "shell.execute_reply": "2021-01-08T15:38:33.047813Z"
    },
    "id": "9iJTuxj_kNfQ",
    "papermill": {
     "duration": 9.594934,
     "end_time": "2021-01-08T15:38:33.048941",
     "exception": false,
     "start_time": "2021-01-08T15:38:23.454007",
     "status": "completed"
    },
    "tags": []
   },
   "outputs": [],
   "source": [
    "import pickle as pkl\n",
    "\n",
    "dic_train_data = pkl.load(open(train_data_path,\"rb\"))\n",
    "dic_missing_data = pkl.load(open(missing_data_path,\"rb\"))"
   ]
  },
  {
   "cell_type": "code",
   "execution_count": 6,
   "metadata": {
    "execution": {
     "iopub.execute_input": "2021-01-08T15:38:33.101792Z",
     "iopub.status.busy": "2021-01-08T15:38:33.101135Z",
     "iopub.status.idle": "2021-01-08T15:38:33.104874Z",
     "shell.execute_reply": "2021-01-08T15:38:33.105292Z"
    },
    "id": "6TdjVdwEPvny",
    "outputId": "c49a7d54-3444-4bef-f242-751e108f21f3",
    "papermill": {
     "duration": 0.033534,
     "end_time": "2021-01-08T15:38:33.105426",
     "exception": false,
     "start_time": "2021-01-08T15:38:33.071892",
     "status": "completed"
    },
    "tags": []
   },
   "outputs": [
    {
     "data": {
      "text/plain": [
       "['left_eye_center',\n",
       " 'right_eye_center',\n",
       " 'left_eye_inner_corner',\n",
       " 'left_eye_outer_corner',\n",
       " 'right_eye_inner_corner',\n",
       " 'right_eye_outer_corner',\n",
       " 'left_eyebrow_inner_end',\n",
       " 'left_eyebrow_outer_end',\n",
       " 'right_eyebrow_inner_end',\n",
       " 'right_eyebrow_outer_end',\n",
       " 'mouth_left_corner',\n",
       " 'mouth_right_corner',\n",
       " 'mouth_center_top_lip',\n",
       " 'mouth_center_bottom_lip']"
      ]
     },
     "execution_count": 6,
     "metadata": {},
     "output_type": "execute_result"
    }
   ],
   "source": [
    "features = list(dic_train_data.keys())\n",
    "features"
   ]
  },
  {
   "cell_type": "code",
   "execution_count": 7,
   "metadata": {
    "execution": {
     "iopub.execute_input": "2021-01-08T15:38:33.158020Z",
     "iopub.status.busy": "2021-01-08T15:38:33.157331Z",
     "iopub.status.idle": "2021-01-08T15:38:33.160687Z",
     "shell.execute_reply": "2021-01-08T15:38:33.161098Z"
    },
    "id": "ydLdeD8YPvn1",
    "outputId": "f34d38aa-b9d9-4a29-f689-35bd6a3aa98e",
    "papermill": {
     "duration": 0.032353,
     "end_time": "2021-01-08T15:38:33.161192",
     "exception": false,
     "start_time": "2021-01-08T15:38:33.128839",
     "status": "completed"
    },
    "tags": []
   },
   "outputs": [
    {
     "data": {
      "text/plain": [
       "'mouth_center_top_lip'"
      ]
     },
     "execution_count": 7,
     "metadata": {},
     "output_type": "execute_result"
    }
   ],
   "source": [
    "feature_name = features[feature_index]\n",
    "feature_name"
   ]
  },
  {
   "cell_type": "code",
   "execution_count": 8,
   "metadata": {
    "execution": {
     "iopub.execute_input": "2021-01-08T15:38:33.212963Z",
     "iopub.status.busy": "2021-01-08T15:38:33.212223Z",
     "iopub.status.idle": "2021-01-08T15:38:33.214524Z",
     "shell.execute_reply": "2021-01-08T15:38:33.214996Z"
    },
    "id": "APi2VVkKQFOm",
    "papermill": {
     "duration": 0.030171,
     "end_time": "2021-01-08T15:38:33.215110",
     "exception": false,
     "start_time": "2021-01-08T15:38:33.184939",
     "status": "completed"
    },
    "tags": []
   },
   "outputs": [],
   "source": [
    "scalers_path = feature_name+\"_scalers_dict.pkl\"\n",
    "model_path = feature_name+\".h5\"\n",
    "\n",
    "# scalers_path = \"data/\"+feature_name+\"_scalers_dict.pkl\"\n",
    "# model_path = \"models/\"+feature_name+\".h5\""
   ]
  },
  {
   "cell_type": "code",
   "execution_count": 9,
   "metadata": {
    "execution": {
     "iopub.execute_input": "2021-01-08T15:38:33.282128Z",
     "iopub.status.busy": "2021-01-08T15:38:33.270351Z",
     "iopub.status.idle": "2021-01-08T15:38:34.107308Z",
     "shell.execute_reply": "2021-01-08T15:38:34.107776Z"
    },
    "id": "UHAb9cCEPvn3",
    "outputId": "cdb32799-3d8e-4470-e682-c8b1a792037b",
    "papermill": {
     "duration": 0.868759,
     "end_time": "2021-01-08T15:38:34.107915",
     "exception": false,
     "start_time": "2021-01-08T15:38:33.239156",
     "status": "completed"
    },
    "tags": []
   },
   "outputs": [
    {
     "data": {
      "text/html": [
       "<div>\n",
       "<style scoped>\n",
       "    .dataframe tbody tr th:only-of-type {\n",
       "        vertical-align: middle;\n",
       "    }\n",
       "\n",
       "    .dataframe tbody tr th {\n",
       "        vertical-align: top;\n",
       "    }\n",
       "\n",
       "    .dataframe thead th {\n",
       "        text-align: right;\n",
       "    }\n",
       "</style>\n",
       "<table border=\"1\" class=\"dataframe\">\n",
       "  <thead>\n",
       "    <tr style=\"text-align: right;\">\n",
       "      <th></th>\n",
       "      <th>mouth_center_top_lip_x</th>\n",
       "      <th>mouth_center_top_lip_y</th>\n",
       "      <th>Image</th>\n",
       "    </tr>\n",
       "  </thead>\n",
       "  <tbody>\n",
       "    <tr>\n",
       "      <th>0</th>\n",
       "      <td>43.312602</td>\n",
       "      <td>72.935459</td>\n",
       "      <td>[[238, 236, 237, 238, 240, 240, 239, 241, 241,...</td>\n",
       "    </tr>\n",
       "    <tr>\n",
       "      <th>1</th>\n",
       "      <td>46.684596</td>\n",
       "      <td>70.266553</td>\n",
       "      <td>[[219, 215, 204, 196, 204, 211, 212, 200, 180,...</td>\n",
       "    </tr>\n",
       "    <tr>\n",
       "      <th>2</th>\n",
       "      <td>47.274947</td>\n",
       "      <td>70.191789</td>\n",
       "      <td>[[144, 142, 159, 180, 188, 188, 184, 180, 167,...</td>\n",
       "    </tr>\n",
       "    <tr>\n",
       "      <th>3</th>\n",
       "      <td>50.303165</td>\n",
       "      <td>70.091687</td>\n",
       "      <td>[[193, 192, 193, 194, 194, 194, 193, 192, 168,...</td>\n",
       "    </tr>\n",
       "    <tr>\n",
       "      <th>4</th>\n",
       "      <td>44.962748</td>\n",
       "      <td>73.707387</td>\n",
       "      <td>[[147, 148, 160, 196, 215, 214, 216, 217, 219,...</td>\n",
       "    </tr>\n",
       "  </tbody>\n",
       "</table>\n",
       "</div>"
      ],
      "text/plain": [
       "   mouth_center_top_lip_x  mouth_center_top_lip_y  \\\n",
       "0               43.312602               72.935459   \n",
       "1               46.684596               70.266553   \n",
       "2               47.274947               70.191789   \n",
       "3               50.303165               70.091687   \n",
       "4               44.962748               73.707387   \n",
       "\n",
       "                                               Image  \n",
       "0  [[238, 236, 237, 238, 240, 240, 239, 241, 241,...  \n",
       "1  [[219, 215, 204, 196, 204, 211, 212, 200, 180,...  \n",
       "2  [[144, 142, 159, 180, 188, 188, 184, 180, 167,...  \n",
       "3  [[193, 192, 193, 194, 194, 194, 193, 192, 168,...  \n",
       "4  [[147, 148, 160, 196, 215, 214, 216, 217, 219,...  "
      ]
     },
     "execution_count": 9,
     "metadata": {},
     "output_type": "execute_result"
    }
   ],
   "source": [
    "dic_train_data[feature_name].head()"
   ]
  },
  {
   "cell_type": "markdown",
   "metadata": {
    "id": "Ys-qr2X5WKAR",
    "papermill": {
     "duration": 0.056248,
     "end_time": "2021-01-08T15:38:34.188680",
     "exception": false,
     "start_time": "2021-01-08T15:38:34.132432",
     "status": "completed"
    },
    "tags": []
   },
   "source": [
    "#### **Create custom Data Generator**\n",
    "\n",
    "**We will build a data generator that will load mini-batches and feed to the model dynamically**"
   ]
  },
  {
   "cell_type": "code",
   "execution_count": 10,
   "metadata": {
    "execution": {
     "iopub.execute_input": "2021-01-08T15:38:34.268179Z",
     "iopub.status.busy": "2021-01-08T15:38:34.260950Z",
     "iopub.status.idle": "2021-01-08T15:38:34.271237Z",
     "shell.execute_reply": "2021-01-08T15:38:34.270721Z"
    },
    "id": "i8PX_Elb-VQz",
    "papermill": {
     "duration": 0.058271,
     "end_time": "2021-01-08T15:38:34.271322",
     "exception": false,
     "start_time": "2021-01-08T15:38:34.213051",
     "status": "completed"
    },
    "tags": []
   },
   "outputs": [],
   "source": [
    "class DataGenerator(tf.keras.utils.Sequence):\n",
    "    def __init__(self, df, batch_size=32, rgb_channels=True, shuffle=True, augment=True, normalize_image=True, normalize_coordinates=False, scalers=None):\n",
    "        self.df = df\n",
    "        self.batch_size = batch_size\n",
    "        self.size = df.shape[0]\n",
    "        self.shuffle = shuffle\n",
    "        self.augment = augment\n",
    "        # Keras pre-trained models have trained on color images and if we want to use grayscale images we can still use these pre-trained models by repeating the grayscale image over three channels\n",
    "        self.rgb_channels = rgb_channels\n",
    "        self.normalize_image = normalize_image\n",
    "        self.normalize_coordinates = normalize_coordinates\n",
    "        self.scalers = scalers\n",
    "        self.feature_columns = df.columns.tolist()[:-1]\n",
    "        #  To keep track on which pairs of landmarks to be swapped, we introduce a dictionary recording the original and new landmark's index\n",
    "        self.left_right_dic = {'right_eye_center_x' : 'left_eye_center_x' ,\n",
    "                'right_eye_center_y' : 'left_eye_center_y' ,\n",
    "                'right_eye_inner_corner_x' : 'left_eye_inner_corner_x' ,\n",
    "                'right_eye_inner_corner_y' : 'left_eye_inner_corner_y' ,\n",
    "                'right_eye_outer_corner_x' : 'left_eye_outer_corner_x' ,\n",
    "                'right_eye_outer_corner_y' : 'left_eye_outer_corner_y' ,\n",
    "                'right_eyebrow_inner_end_x' : 'left_eyebrow_inner_end_x' ,\n",
    "                'right_eyebrow_inner_end_y' : 'left_eyebrow_inner_end_y' ,\n",
    "                'right_eyebrow_outer_end_x' : 'left_eyebrow_outer_end_x' ,\n",
    "                'right_eyebrow_outer_end_y' : 'left_eyebrow_outer_end_y' ,\n",
    "                'mouth_right_corner_x' : 'mouth_left_corner_x' ,\n",
    "                'mouth_right_corner_y' : 'mouth_left_corner_y' }\n",
    "        self.on_epoch_end()\n",
    "\n",
    "    def __len__(self):\n",
    "        'Denotes the number of batches per epoch'\n",
    "        return self.size // self.batch_size\n",
    "\n",
    "    def on_epoch_end(self):\n",
    "        'Updates indexes after each epoch'\n",
    "        self.indexes = np.arange(self.size)\n",
    "        if self.shuffle:\n",
    "            np.random.shuffle(self.indexes)\n",
    "\n",
    "    def __getitem__(self, index):\n",
    "        # selects indices of data for next batch`\n",
    "        indexes = self.indexes[index * self.batch_size : (index + 1) * self.batch_size]\n",
    "        'Generate one batch of data'\n",
    "        batched_df = self.df.iloc[indexes] #.sample(frac=1).reset_index(drop=True)\n",
    "\n",
    "        if self.augment == True:\n",
    "            df_batch = self.augmentor(batched_df)\n",
    "        else:\n",
    "            df_batch = batched_df\n",
    "\n",
    "\n",
    "        batched_images = np.vstack(df_batch[\"Image\"].values).reshape(-1, 96, 96, 1).astype(np.float32)\n",
    "        \n",
    "        if self.rgb_channels:\n",
    "            batched_images = np.repeat(batched_images,3,-1)\n",
    "\n",
    "        batched_feature_corrdinates = df_batch.iloc[:,:-1]\n",
    "        \n",
    "        if self.normalize_coordinates:\n",
    "            for col in self.feature_columns:\n",
    "                scaler = self.scalers[col]\n",
    "                batched_feature_corrdinates[col] = scaler.transform(batched_feature_corrdinates[col].to_numpy().reshape(-1, 1)).reshape(-1)\n",
    "\n",
    "        batched_feature_corrdinates = batched_feature_corrdinates.values.astype(np.float32) #feature coordinates        \n",
    "\n",
    "        if self.normalize_image == True:\n",
    "            batched_images = batched_images/255\n",
    "\n",
    "        return batched_images, batched_feature_corrdinates\n",
    "\n",
    "    def augmentor(self, df):\n",
    "\n",
    "        def flip_horizontally(row):\n",
    "            'Method that flips the image horizontally and swaps the features' \n",
    "            row[\"Image\"] = np.flip(row[\"Image\"], axis = 1)\n",
    "            # y coordinates values will stay the same while the x coordinates will have to be changed\n",
    "            # subtract our initial x-coordinate values from width of the image(96)\n",
    "            for i in range(len(self.feature_columns)):#+1\n",
    "                if i%2 == 0: # because there is always x coordinate then y corrdinate\n",
    "                    row[self.feature_columns[i]] = 96. - row[self.feature_columns[i]]\n",
    "            # swap\n",
    "            rights = [a for a in self.feature_columns if \"right\" in a.split(\"_\")]\n",
    "            for col_r in rights:\n",
    "                col_l = self.left_right_dic[col_r]\n",
    "                temp = row[col_l] \n",
    "                row[col_l] = row[col_r]\n",
    "                row[col_r] = temp\n",
    "            return row\n",
    "\n",
    "        def increase_brightness(image):\n",
    "            'Method that randomly increase images brightness'      \n",
    "            # Multiply pixel values by random values between 1 and 1.5 to increase the brightness of the image\n",
    "            # Clip the value between 0 and 255\n",
    "            image = np.clip(random.uniform(1, 1.5) * image, 0.0, 255.0)\n",
    "            return image\n",
    "\n",
    "        def decrease_brightness(image):\n",
    "            'Method that randomly decrease images brightness'\n",
    "            # Multiply pixel values by random values between 0 and 0.1 to decrease the brightness of the image\n",
    "            # Clip the value between 0 and 255\n",
    "            image = np.clip(random.uniform(0, 0.1) * image, 0.0, 255.0)\n",
    "            return image\n",
    "\n",
    "        def augment(row):\n",
    "        # if we have more than one feature allow flipping\n",
    "            if len(self.feature_columns)>2:\n",
    "                if row[\"augment_flip\"]==1:\n",
    "                    row =  flip_horizontally(row)\n",
    "            if row[\"augment_inc_b\"]:\n",
    "                row[\"Image\"] = increase_brightness(row[\"Image\"])\n",
    "            if row[\"augment_dec_b\"]:\n",
    "                row[\"Image\"] = decrease_brightness(row[\"Image\"])\n",
    "            return row\n",
    "\n",
    "      # generate random boolean for augmentation types \n",
    "        df[\"augment_flip\"] = [random.getrandbits(1) for i in range(len(df))]\n",
    "        df[\"augment_inc_b\"] = [random.getrandbits(1) for i in range(len(df))]\n",
    "        df[\"augment_dec_b\"] = [random.getrandbits(1) for i in range(len(df))]\n",
    "        # df = df.apply(lambda row : augment(row), axis=1)\n",
    "        df = df.apply(augment, axis=1)\n",
    "        df.drop(['augment_flip', 'augment_inc_b', 'augment_dec_b'], axis=1, inplace=True)\n",
    "        return df\n"
   ]
  },
  {
   "cell_type": "code",
   "execution_count": 11,
   "metadata": {
    "execution": {
     "iopub.execute_input": "2021-01-08T15:38:34.327500Z",
     "iopub.status.busy": "2021-01-08T15:38:34.326908Z",
     "iopub.status.idle": "2021-01-08T15:38:34.330847Z",
     "shell.execute_reply": "2021-01-08T15:38:34.330365Z"
    },
    "id": "68VI4DWX-EnV",
    "papermill": {
     "duration": 0.035437,
     "end_time": "2021-01-08T15:38:34.330927",
     "exception": false,
     "start_time": "2021-01-08T15:38:34.295490",
     "status": "completed"
    },
    "tags": []
   },
   "outputs": [],
   "source": [
    "def visualize_image(x, y=None, y_predicted=None):\n",
    "  # x-coordinates are in even columns like 0,2,4,.. and y-coordinates are in odd columns like 1,3,5,..\n",
    "    plt.figure()\n",
    "    plt.imshow(x, cmap='gray')\n",
    "    if y is not None:\n",
    "        f = y.shape[0]\n",
    "        for j in range(0,f,2):\n",
    "            plt.plot(y[j], y[j+1], 'X', color='blue', label='actual')\n",
    "    if y_predicted is not None:\n",
    "        f = y_predicted.shape[0]\n",
    "        for j in range(0,f,2):\n",
    "            plt.plot(y_predicted[j], y_predicted[j+1], 'X', color='red', label='predicted')\n",
    "    plt.legend()"
   ]
  },
  {
   "cell_type": "markdown",
   "metadata": {
    "id": "eX1dSeiRCUUE",
    "papermill": {
     "duration": 0.024994,
     "end_time": "2021-01-08T15:38:34.380338",
     "exception": false,
     "start_time": "2021-01-08T15:38:34.355344",
     "status": "completed"
    },
    "tags": []
   },
   "source": [
    "Lets try the data generator and visuilize some images"
   ]
  },
  {
   "cell_type": "markdown",
   "metadata": {
    "id": "cdehN9mvIsan",
    "papermill": {
     "duration": 0.024344,
     "end_time": "2021-01-08T15:38:34.429097",
     "exception": false,
     "start_time": "2021-01-08T15:38:34.404753",
     "status": "completed"
    },
    "tags": []
   },
   "source": [
    "### Part 1.3  Building a Prediction model for a feature"
   ]
  },
  {
   "cell_type": "markdown",
   "metadata": {
    "id": "ph_UEDMwcEvX",
    "papermill": {
     "duration": 0.024462,
     "end_time": "2021-01-08T15:38:34.477898",
     "exception": false,
     "start_time": "2021-01-08T15:38:34.453436",
     "status": "completed"
    },
    "tags": []
   },
   "source": [
    "#### **Prepare data generators to train the model**"
   ]
  },
  {
   "cell_type": "markdown",
   "metadata": {
    "id": "ACe1Z0-GvdBs",
    "papermill": {
     "duration": 0.024628,
     "end_time": "2021-01-08T15:38:34.529221",
     "exception": false,
     "start_time": "2021-01-08T15:38:34.504593",
     "status": "completed"
    },
    "tags": []
   },
   "source": [
    "##### **Split the data into train and test**"
   ]
  },
  {
   "cell_type": "code",
   "execution_count": 12,
   "metadata": {
    "execution": {
     "iopub.execute_input": "2021-01-08T15:38:34.583364Z",
     "iopub.status.busy": "2021-01-08T15:38:34.582855Z",
     "iopub.status.idle": "2021-01-08T15:38:34.591110Z",
     "shell.execute_reply": "2021-01-08T15:38:34.590619Z"
    },
    "id": "Wz9DPZKppGXK",
    "outputId": "316ac4e0-0178-4692-e984-204c6ff49f72",
    "papermill": {
     "duration": 0.037514,
     "end_time": "2021-01-08T15:38:34.591191",
     "exception": false,
     "start_time": "2021-01-08T15:38:34.553677",
     "status": "completed"
    },
    "tags": []
   },
   "outputs": [
    {
     "name": "stdout",
     "output_type": "stream",
     "text": [
      "(2275, 3) (1820, 3) (455, 3)\n"
     ]
    }
   ],
   "source": [
    "df = dic_train_data[feature_name]\n",
    "# Split the data into training and testing data\n",
    "df_train, df_test = train_test_split(df, test_size = 0.2, random_state=None)\n",
    "print(df.shape, df_train.shape, df_test.shape)"
   ]
  },
  {
   "cell_type": "code",
   "execution_count": 13,
   "metadata": {
    "execution": {
     "iopub.execute_input": "2021-01-08T15:38:34.668200Z",
     "iopub.status.busy": "2021-01-08T15:38:34.657911Z",
     "iopub.status.idle": "2021-01-08T15:38:35.476268Z",
     "shell.execute_reply": "2021-01-08T15:38:35.475315Z"
    },
    "id": "iJ7K_1lndPKu",
    "outputId": "abda56ba-925c-43d9-ac1c-512dcbb269f6",
    "papermill": {
     "duration": 0.859176,
     "end_time": "2021-01-08T15:38:35.476390",
     "exception": false,
     "start_time": "2021-01-08T15:38:34.617214",
     "status": "completed"
    },
    "tags": []
   },
   "outputs": [
    {
     "data": {
      "text/html": [
       "<div>\n",
       "<style scoped>\n",
       "    .dataframe tbody tr th:only-of-type {\n",
       "        vertical-align: middle;\n",
       "    }\n",
       "\n",
       "    .dataframe tbody tr th {\n",
       "        vertical-align: top;\n",
       "    }\n",
       "\n",
       "    .dataframe thead th {\n",
       "        text-align: right;\n",
       "    }\n",
       "</style>\n",
       "<table border=\"1\" class=\"dataframe\">\n",
       "  <thead>\n",
       "    <tr style=\"text-align: right;\">\n",
       "      <th></th>\n",
       "      <th>mouth_center_top_lip_x</th>\n",
       "      <th>mouth_center_top_lip_y</th>\n",
       "      <th>Image</th>\n",
       "    </tr>\n",
       "  </thead>\n",
       "  <tbody>\n",
       "    <tr>\n",
       "      <th>320</th>\n",
       "      <td>48.686222</td>\n",
       "      <td>73.054222</td>\n",
       "      <td>[[65, 65, 76, 82, 77, 66, 55, 53, 59, 58, 54, ...</td>\n",
       "    </tr>\n",
       "    <tr>\n",
       "      <th>1469</th>\n",
       "      <td>45.284169</td>\n",
       "      <td>68.633433</td>\n",
       "      <td>[[255, 255, 255, 255, 255, 255, 255, 255, 255,...</td>\n",
       "    </tr>\n",
       "    <tr>\n",
       "      <th>1168</th>\n",
       "      <td>47.715200</td>\n",
       "      <td>69.016000</td>\n",
       "      <td>[[81, 80, 93, 89, 56, 50, 58, 71, 96, 97, 89, ...</td>\n",
       "    </tr>\n",
       "    <tr>\n",
       "      <th>1255</th>\n",
       "      <td>47.166118</td>\n",
       "      <td>72.196141</td>\n",
       "      <td>[[255, 253, 255, 214, 123, 65, 42, 46, 42, 40,...</td>\n",
       "    </tr>\n",
       "    <tr>\n",
       "      <th>658</th>\n",
       "      <td>48.444145</td>\n",
       "      <td>70.539181</td>\n",
       "      <td>[[178, 178, 177, 179, 179, 179, 179, 181, 184,...</td>\n",
       "    </tr>\n",
       "  </tbody>\n",
       "</table>\n",
       "</div>"
      ],
      "text/plain": [
       "      mouth_center_top_lip_x  mouth_center_top_lip_y  \\\n",
       "320                48.686222               73.054222   \n",
       "1469               45.284169               68.633433   \n",
       "1168               47.715200               69.016000   \n",
       "1255               47.166118               72.196141   \n",
       "658                48.444145               70.539181   \n",
       "\n",
       "                                                  Image  \n",
       "320   [[65, 65, 76, 82, 77, 66, 55, 53, 59, 58, 54, ...  \n",
       "1469  [[255, 255, 255, 255, 255, 255, 255, 255, 255,...  \n",
       "1168  [[81, 80, 93, 89, 56, 50, 58, 71, 96, 97, 89, ...  \n",
       "1255  [[255, 253, 255, 214, 123, 65, 42, 46, 42, 40,...  \n",
       "658   [[178, 178, 177, 179, 179, 179, 179, 181, 184,...  "
      ]
     },
     "execution_count": 13,
     "metadata": {},
     "output_type": "execute_result"
    }
   ],
   "source": [
    "df_train.head()"
   ]
  },
  {
   "cell_type": "markdown",
   "metadata": {
    "id": "Zo9gt1mXu2fd",
    "papermill": {
     "duration": 0.045296,
     "end_time": "2021-01-08T15:38:35.556500",
     "exception": false,
     "start_time": "2021-01-08T15:38:35.511204",
     "status": "completed"
    },
    "tags": []
   },
   "source": [
    "##### **Build scalers for normalizing feature data**"
   ]
  },
  {
   "cell_type": "code",
   "execution_count": 14,
   "metadata": {
    "execution": {
     "iopub.execute_input": "2021-01-08T15:38:35.656225Z",
     "iopub.status.busy": "2021-01-08T15:38:35.655402Z",
     "iopub.status.idle": "2021-01-08T15:38:35.660855Z",
     "shell.execute_reply": "2021-01-08T15:38:35.661950Z"
    },
    "id": "9t4-hf0gIeSw",
    "papermill": {
     "duration": 0.060581,
     "end_time": "2021-01-08T15:38:35.662125",
     "exception": false,
     "start_time": "2021-01-08T15:38:35.601544",
     "status": "completed"
    },
    "tags": []
   },
   "outputs": [],
   "source": [
    "scalers_dict = dict()\n",
    "for col in df.columns.tolist()[:-1]:\n",
    "    scaler = MinMaxScaler()\n",
    "    scaler.fit(df[col].to_numpy().reshape(-1, 1))\n",
    "    scalers_dict[col] = scaler\n",
    "\n",
    "\n",
    "\n",
    "pkl.dump(scalers_dict, open(scalers_path,\"wb\"))\n"
   ]
  },
  {
   "cell_type": "markdown",
   "metadata": {
    "id": "WZNeHGhxvnSH",
    "papermill": {
     "duration": 0.041132,
     "end_time": "2021-01-08T15:38:35.742715",
     "exception": false,
     "start_time": "2021-01-08T15:38:35.701583",
     "status": "completed"
    },
    "tags": []
   },
   "source": [
    "##### **Build train and validation data generators**"
   ]
  },
  {
   "cell_type": "code",
   "execution_count": 15,
   "metadata": {
    "execution": {
     "iopub.execute_input": "2021-01-08T15:38:35.832187Z",
     "iopub.status.busy": "2021-01-08T15:38:35.831405Z",
     "iopub.status.idle": "2021-01-08T15:38:35.834258Z",
     "shell.execute_reply": "2021-01-08T15:38:35.835020Z"
    },
    "id": "HERnPWEBc83D",
    "papermill": {
     "duration": 0.050751,
     "end_time": "2021-01-08T15:38:35.835180",
     "exception": false,
     "start_time": "2021-01-08T15:38:35.784429",
     "status": "completed"
    },
    "tags": []
   },
   "outputs": [],
   "source": [
    " \n",
    "train_generator = DataGenerator(df_train, batch_size=32, normalize_image=True, normalize_coordinates=True, scalers=scalers_dict)\n",
    "val_generator =  DataGenerator(df_test, batch_size=32,  augment=False, normalize_image=True,  normalize_coordinates=True,  scalers=train_generator.scalers)"
   ]
  },
  {
   "cell_type": "markdown",
   "metadata": {
    "id": "Ctn-Hf0Nc5p_",
    "papermill": {
     "duration": 0.046063,
     "end_time": "2021-01-08T15:38:35.927346",
     "exception": false,
     "start_time": "2021-01-08T15:38:35.881283",
     "status": "completed"
    },
    "tags": []
   },
   "source": [
    "#### **Build a Prediction model**"
   ]
  },
  {
   "cell_type": "code",
   "execution_count": 16,
   "metadata": {
    "execution": {
     "iopub.execute_input": "2021-01-08T15:38:36.027569Z",
     "iopub.status.busy": "2021-01-08T15:38:36.026690Z",
     "iopub.status.idle": "2021-01-08T15:38:36.044326Z",
     "shell.execute_reply": "2021-01-08T15:38:36.045440Z"
    },
    "id": "WHg8_6ZgPvoJ",
    "papermill": {
     "duration": 0.073695,
     "end_time": "2021-01-08T15:38:36.045594",
     "exception": false,
     "start_time": "2021-01-08T15:38:35.971899",
     "status": "completed"
    },
    "tags": []
   },
   "outputs": [],
   "source": [
    "from tensorflow.keras.applications import EfficientNetB0, VGG16\n",
    "\n",
    "def create_efficientNet(nbr_features):\n",
    "    inputs = tf.keras.Input(shape=(96, 96, 3))  \n",
    "    # This option include_top excludes the final Dense layer.\n",
    "    # This allows us to replace the top layer with custom layers which allows the use of  EfficientNet as a feature extractor in a transfer learning workflow\n",
    "    model = EfficientNetB0(include_top=False, input_tensor=inputs, weights=\"imagenet\")#, drop_connect_rate=0.1)\n",
    "    # Freeze the pretrained weights\n",
    "    model.trainable = False\n",
    "\n",
    "    # Rebuild top\n",
    "    x = GlobalAveragePooling2D()(model.output)    \n",
    "    x = BatchNormalization()(x)\n",
    "    x = Dropout(0.4)(x)\n",
    "    outputs = Dense(nbr_features,activation='relu')(x)\n",
    "\n",
    "    # Compile\n",
    "    model = keras.Model(inputs, outputs)\n",
    "    return model\n",
    "\n",
    "def create_vgg16(nbr_features):\n",
    "\n",
    "    #Get back the convolutional part of a VGG network trained on ImageNet\n",
    "    model = VGG16(weights='imagenet', include_top=False)\n",
    "    model.trainable = False\n",
    "    #Create your own input format (here 3x200x200)\n",
    "    inputs = Input(shape=(96,96,3))\n",
    "\n",
    "    #Use the generated model \n",
    "    output_vgg16 = model(inputs)\n",
    "\n",
    "    #Add the fully-connected layers \n",
    "    x = Flatten()(output_vgg16)\n",
    "    x = Dense(64, activation='relu')(x)\n",
    "    # x = Dense(32, activation='relu')(x)\n",
    "    outputs = Dense(nbr_features, activation='relu')(x)\n",
    "\n",
    "    #Create your own model \n",
    "    model = keras.Model(inputs=inputs, outputs=outputs)\n",
    "    return model\n",
    "\n",
    "\n",
    "def create_simple_model(nbr_features):\n",
    "  # vanillia CNN model\n",
    "    model = Sequential()\n",
    "    model.add(Conv2D(16, kernel_size=(5, 5), activation='relu', input_shape=(96, 96 , 1)))\n",
    "    model.add(MaxPooling2D(pool_size=(2, 2), strides=2))\n",
    "    model.add(Conv2D(48, (3, 3), activation='relu'))\n",
    "    model.add(MaxPooling2D(pool_size=(2, 2), strides=2))\n",
    "    model.add(Conv2D(64, (3, 3), activation='relu'))\n",
    "    model.add(MaxPooling2D(pool_size=(2, 2), strides=2))\n",
    "    model.add(Conv2D(64, (2, 2), activation='relu'))\n",
    "    model.add(Flatten())\n",
    "    model.add(Dense(100, activation='relu'))\n",
    "    model.add(Dense(nbr_features, activation='relu'))\n",
    "    return model\n"
   ]
  },
  {
   "cell_type": "code",
   "execution_count": 17,
   "metadata": {
    "execution": {
     "iopub.execute_input": "2021-01-08T15:38:36.153803Z",
     "iopub.status.busy": "2021-01-08T15:38:36.152514Z",
     "iopub.status.idle": "2021-01-08T15:38:41.545221Z",
     "shell.execute_reply": "2021-01-08T15:38:41.544595Z"
    },
    "id": "ofh5qnydxTwZ",
    "outputId": "07bd6fcc-e67a-409e-813c-a4d839c5966b",
    "papermill": {
     "duration": 5.450783,
     "end_time": "2021-01-08T15:38:41.545334",
     "exception": false,
     "start_time": "2021-01-08T15:38:36.094551",
     "status": "completed"
    },
    "tags": []
   },
   "outputs": [
    {
     "name": "stdout",
     "output_type": "stream",
     "text": [
      "Downloading data from https://storage.googleapis.com/keras-applications/efficientnetb0_notop.h5\n",
      "16711680/16705208 [==============================] - 0s 0us/step\n"
     ]
    }
   ],
   "source": [
    "nbr_features = 2\n",
    "# create the model\n",
    "model = create_efficientNet(nbr_features)\n",
    "# model = create_vgg16(nbr_features)"
   ]
  },
  {
   "cell_type": "markdown",
   "metadata": {
    "id": "cJ8vd7UwtrYg",
    "papermill": {
     "duration": 0.028102,
     "end_time": "2021-01-08T15:38:41.601433",
     "exception": false,
     "start_time": "2021-01-08T15:38:41.573331",
     "status": "completed"
    },
    "tags": []
   },
   "source": [
    "#### **Define custom loss and compile the model**"
   ]
  },
  {
   "cell_type": "code",
   "execution_count": 18,
   "metadata": {
    "execution": {
     "iopub.execute_input": "2021-01-08T15:38:41.804488Z",
     "iopub.status.busy": "2021-01-08T15:38:41.670637Z",
     "iopub.status.idle": "2021-01-08T15:38:41.812579Z",
     "shell.execute_reply": "2021-01-08T15:38:41.811264Z"
    },
    "id": "tXRRM-KrLjfE",
    "papermill": {
     "duration": 0.183369,
     "end_time": "2021-01-08T15:38:41.812684",
     "exception": false,
     "start_time": "2021-01-08T15:38:41.629315",
     "status": "completed"
    },
    "tags": []
   },
   "outputs": [],
   "source": [
    "import tensorflow.keras.backend as K\n",
    "\n",
    "def euclidean_distance_loss(y_true, y_pred):\n",
    "  #     Euclidean distance loss\n",
    "    return K.sqrt(K.sum(K.square(y_pred - y_true), axis=-1))\n",
    "\n",
    "def absolute_tanh(x):\n",
    "    return K.abs(K.tanh(x))\n",
    "\n",
    "# MeanAbsoluteError(), MeanAbsolutePercentageError()\n",
    "model.compile(loss=euclidean_distance_loss,\n",
    "              optimizer=keras.optimizers.Adam(learning_rate=1e-4),\n",
    "              )\n",
    "\n",
    "def unfreeze_model(model):\n",
    "    # We unfreeze the top 5 layers while leaving BatchNorm layers frozen\n",
    "    for layer in model.layers[-25:]:\n",
    "        if not isinstance(layer, keras.layers.BatchNormalization):\n",
    "            layer.trainable = True"
   ]
  },
  {
   "cell_type": "markdown",
   "metadata": {
    "id": "XOn3P3dcvy7T",
    "papermill": {
     "duration": 0.02761,
     "end_time": "2021-01-08T15:38:41.868884",
     "exception": false,
     "start_time": "2021-01-08T15:38:41.841274",
     "status": "completed"
    },
    "tags": []
   },
   "source": [
    "#### **Start training**"
   ]
  },
  {
   "cell_type": "code",
   "execution_count": 19,
   "metadata": {
    "execution": {
     "iopub.execute_input": "2021-01-08T15:38:41.947112Z",
     "iopub.status.busy": "2021-01-08T15:38:41.946614Z",
     "iopub.status.idle": "2021-01-08T15:41:34.879628Z",
     "shell.execute_reply": "2021-01-08T15:41:34.878778Z"
    },
    "id": "7AWepBFAc9LR",
    "outputId": "98eb52a4-9bf9-4246-baab-cd0b9085d99c",
    "papermill": {
     "duration": 172.982703,
     "end_time": "2021-01-08T15:41:34.879756",
     "exception": false,
     "start_time": "2021-01-08T15:38:41.897053",
     "status": "completed"
    },
    "tags": []
   },
   "outputs": [
    {
     "name": "stdout",
     "output_type": "stream",
     "text": [
      "Epoch 1/100\n",
      "56/56 [==============================] - 3s 57ms/step - loss: 0.6593 - val_loss: 0.6606\n",
      "Epoch 2/100\n",
      "56/56 [==============================] - 2s 27ms/step - loss: 0.5499 - val_loss: 0.6608\n",
      "Epoch 3/100\n",
      "56/56 [==============================] - 1s 26ms/step - loss: 0.5403 - val_loss: 0.6611\n",
      "Epoch 4/100\n",
      "56/56 [==============================] - 2s 33ms/step - loss: 0.5254 - val_loss: 0.6608\n",
      "Epoch 5/100\n",
      "56/56 [==============================] - 2s 32ms/step - loss: 0.5209 - val_loss: 0.6611\n",
      "Epoch 6/100\n",
      "56/56 [==============================] - 1s 27ms/step - loss: 0.5181 - val_loss: 0.6442\n",
      "Epoch 7/100\n",
      "56/56 [==============================] - 2s 27ms/step - loss: 0.5147 - val_loss: 0.6108\n",
      "Epoch 8/100\n",
      "56/56 [==============================] - 2s 28ms/step - loss: 0.5032 - val_loss: 0.5708\n",
      "Epoch 9/100\n",
      "56/56 [==============================] - 1s 27ms/step - loss: 0.5108 - val_loss: 0.5590\n",
      "Epoch 10/100\n",
      "56/56 [==============================] - 1s 26ms/step - loss: 0.5167 - val_loss: 0.5352\n",
      "Epoch 11/100\n",
      "56/56 [==============================] - 2s 31ms/step - loss: 0.5010 - val_loss: 0.4905\n",
      "Epoch 12/100\n",
      "56/56 [==============================] - 2s 27ms/step - loss: 0.5033 - val_loss: 0.4195\n",
      "Epoch 13/100\n",
      "56/56 [==============================] - 2s 28ms/step - loss: 0.4990 - val_loss: 0.3829\n",
      "Epoch 14/100\n",
      "56/56 [==============================] - 1s 26ms/step - loss: 0.5050 - val_loss: 0.3846\n",
      "Epoch 15/100\n",
      "56/56 [==============================] - 1s 27ms/step - loss: 0.5044 - val_loss: 0.3737\n",
      "Epoch 16/100\n",
      "56/56 [==============================] - 2s 27ms/step - loss: 0.4896 - val_loss: 0.3797\n",
      "Epoch 17/100\n",
      "56/56 [==============================] - 2s 35ms/step - loss: 0.4931 - val_loss: 0.3690\n",
      "Epoch 18/100\n",
      "56/56 [==============================] - 1s 26ms/step - loss: 0.4785 - val_loss: 0.3370\n",
      "Epoch 19/100\n",
      "56/56 [==============================] - 1s 27ms/step - loss: 0.4796 - val_loss: 0.3029\n",
      "Epoch 20/100\n",
      "56/56 [==============================] - 1s 26ms/step - loss: 0.4825 - val_loss: 0.3044\n",
      "Epoch 21/100\n",
      "56/56 [==============================] - 1s 26ms/step - loss: 0.4777 - val_loss: 0.3030\n",
      "Epoch 22/100\n",
      "56/56 [==============================] - 1s 26ms/step - loss: 0.4835 - val_loss: 0.3177\n",
      "Epoch 23/100\n",
      "56/56 [==============================] - 1s 26ms/step - loss: 0.4754 - val_loss: 0.2989\n",
      "Epoch 24/100\n",
      "56/56 [==============================] - 2s 28ms/step - loss: 0.4776 - val_loss: 0.2982\n",
      "Epoch 25/100\n",
      "56/56 [==============================] - 2s 28ms/step - loss: 0.4822 - val_loss: 0.3034\n",
      "Epoch 26/100\n",
      "56/56 [==============================] - 1s 27ms/step - loss: 0.4649 - val_loss: 0.2402\n",
      "Epoch 27/100\n",
      "56/56 [==============================] - 1s 26ms/step - loss: 0.4573 - val_loss: 0.2456\n",
      "Epoch 28/100\n",
      "56/56 [==============================] - 1s 26ms/step - loss: 0.4531 - val_loss: 0.2491\n",
      "Epoch 29/100\n",
      "56/56 [==============================] - 1s 26ms/step - loss: 0.4550 - val_loss: 0.2798\n",
      "Epoch 30/100\n",
      "56/56 [==============================] - 2s 27ms/step - loss: 0.4504 - val_loss: 0.2490\n",
      "Epoch 31/100\n",
      "56/56 [==============================] - 2s 28ms/step - loss: 0.4481 - val_loss: 0.2416\n",
      "Epoch 32/100\n",
      "56/56 [==============================] - 2s 32ms/step - loss: 0.4467 - val_loss: 0.2334\n",
      "Epoch 33/100\n",
      "56/56 [==============================] - 1s 26ms/step - loss: 0.4546 - val_loss: 0.2307\n",
      "Epoch 34/100\n",
      "56/56 [==============================] - 1s 26ms/step - loss: 0.4351 - val_loss: 0.1960\n",
      "Epoch 35/100\n",
      "56/56 [==============================] - 1s 27ms/step - loss: 0.4432 - val_loss: 0.2010\n",
      "Epoch 36/100\n",
      "56/56 [==============================] - 1s 26ms/step - loss: 0.4387 - val_loss: 0.2189\n",
      "Epoch 37/100\n",
      "56/56 [==============================] - 2s 34ms/step - loss: 0.4284 - val_loss: 0.1882\n",
      "Epoch 38/100\n",
      "56/56 [==============================] - 2s 39ms/step - loss: 0.4237 - val_loss: 0.1961\n",
      "Epoch 39/100\n",
      "56/56 [==============================] - 2s 31ms/step - loss: 0.4290 - val_loss: 0.1749\n",
      "Epoch 40/100\n",
      "56/56 [==============================] - 1s 26ms/step - loss: 0.4272 - val_loss: 0.2175\n",
      "Epoch 41/100\n",
      "56/56 [==============================] - 2s 27ms/step - loss: 0.4184 - val_loss: 0.1800\n",
      "Epoch 42/100\n",
      "56/56 [==============================] - 2s 28ms/step - loss: 0.4150 - val_loss: 0.1866\n",
      "Epoch 43/100\n",
      "56/56 [==============================] - 1s 27ms/step - loss: 0.4042 - val_loss: 0.1574\n",
      "Epoch 44/100\n",
      "56/56 [==============================] - 2s 28ms/step - loss: 0.4161 - val_loss: 0.1818\n",
      "Epoch 45/100\n",
      "56/56 [==============================] - 2s 30ms/step - loss: 0.4009 - val_loss: 0.1677\n",
      "Epoch 46/100\n",
      "56/56 [==============================] - 1s 26ms/step - loss: 0.4068 - val_loss: 0.1559\n",
      "Epoch 47/100\n",
      "56/56 [==============================] - 1s 26ms/step - loss: 0.3960 - val_loss: 0.1643\n",
      "Epoch 48/100\n",
      "56/56 [==============================] - 1s 26ms/step - loss: 0.3922 - val_loss: 0.1413\n",
      "Epoch 49/100\n",
      "56/56 [==============================] - 1s 26ms/step - loss: 0.3906 - val_loss: 0.1400\n",
      "Epoch 50/100\n",
      "56/56 [==============================] - 2s 29ms/step - loss: 0.3882 - val_loss: 0.1329\n",
      "Epoch 51/100\n",
      "56/56 [==============================] - 2s 30ms/step - loss: 0.3863 - val_loss: 0.1363\n",
      "Epoch 52/100\n",
      "56/56 [==============================] - 1s 26ms/step - loss: 0.3840 - val_loss: 0.1384\n",
      "Epoch 53/100\n",
      "56/56 [==============================] - 1s 26ms/step - loss: 0.3757 - val_loss: 0.1301\n",
      "Epoch 54/100\n",
      "56/56 [==============================] - 1s 26ms/step - loss: 0.3808 - val_loss: 0.1545\n",
      "Epoch 55/100\n",
      "56/56 [==============================] - 1s 26ms/step - loss: 0.3772 - val_loss: 0.1323\n",
      "Epoch 56/100\n",
      "56/56 [==============================] - 2s 28ms/step - loss: 0.3687 - val_loss: 0.1269\n",
      "Epoch 57/100\n",
      "56/56 [==============================] - 2s 31ms/step - loss: 0.3613 - val_loss: 0.1348\n",
      "Epoch 58/100\n",
      "56/56 [==============================] - 2s 31ms/step - loss: 0.3595 - val_loss: 0.1344\n",
      "Epoch 59/100\n",
      "56/56 [==============================] - 1s 26ms/step - loss: 0.3513 - val_loss: 0.1243\n",
      "Epoch 60/100\n",
      "56/56 [==============================] - 2s 27ms/step - loss: 0.3577 - val_loss: 0.1377\n",
      "Epoch 61/100\n",
      "56/56 [==============================] - 1s 26ms/step - loss: 0.3387 - val_loss: 0.1483\n",
      "Epoch 62/100\n",
      "56/56 [==============================] - 1s 26ms/step - loss: 0.3535 - val_loss: 0.1231\n",
      "Epoch 63/100\n",
      "56/56 [==============================] - 1s 26ms/step - loss: 0.3422 - val_loss: 0.1267\n",
      "Epoch 64/100\n",
      "56/56 [==============================] - 1s 26ms/step - loss: 0.3381 - val_loss: 0.1215\n",
      "Epoch 65/100\n",
      "56/56 [==============================] - 2s 30ms/step - loss: 0.3222 - val_loss: 0.1244\n",
      "Epoch 66/100\n",
      "56/56 [==============================] - 1s 26ms/step - loss: 0.3281 - val_loss: 0.1193\n",
      "Epoch 67/100\n",
      "56/56 [==============================] - 1s 27ms/step - loss: 0.3158 - val_loss: 0.1291\n",
      "Epoch 68/100\n",
      "56/56 [==============================] - 1s 26ms/step - loss: 0.3194 - val_loss: 0.1239\n",
      "Epoch 69/100\n",
      "56/56 [==============================] - 1s 26ms/step - loss: 0.3187 - val_loss: 0.1293\n",
      "Epoch 70/100\n",
      "56/56 [==============================] - 2s 31ms/step - loss: 0.3134 - val_loss: 0.1195\n",
      "Epoch 71/100\n",
      "56/56 [==============================] - 1s 26ms/step - loss: 0.3113 - val_loss: 0.1217\n",
      "Epoch 72/100\n",
      "56/56 [==============================] - 2s 31ms/step - loss: 0.3098 - val_loss: 0.1213\n",
      "Epoch 73/100\n",
      "56/56 [==============================] - 1s 27ms/step - loss: 0.2984 - val_loss: 0.1172\n",
      "Epoch 74/100\n",
      "56/56 [==============================] - 1s 26ms/step - loss: 0.3019 - val_loss: 0.1214\n",
      "Epoch 75/100\n",
      "56/56 [==============================] - 2s 35ms/step - loss: 0.2926 - val_loss: 0.1221\n",
      "Epoch 76/100\n",
      "56/56 [==============================] - 2s 28ms/step - loss: 0.2943 - val_loss: 0.1191\n",
      "Epoch 77/100\n",
      "56/56 [==============================] - 2s 32ms/step - loss: 0.2854 - val_loss: 0.1192\n",
      "Epoch 78/100\n",
      "56/56 [==============================] - 2s 31ms/step - loss: 0.2879 - val_loss: 0.1205\n",
      "Epoch 79/100\n",
      "56/56 [==============================] - 2s 34ms/step - loss: 0.2749 - val_loss: 0.1204\n",
      "Epoch 80/100\n",
      "56/56 [==============================] - 2s 27ms/step - loss: 0.2788 - val_loss: 0.1202\n",
      "Epoch 81/100\n",
      "56/56 [==============================] - 2s 27ms/step - loss: 0.2741 - val_loss: 0.1185\n",
      "Epoch 82/100\n",
      "56/56 [==============================] - 1s 26ms/step - loss: 0.2743 - val_loss: 0.1180\n",
      "Epoch 83/100\n",
      "56/56 [==============================] - 2s 27ms/step - loss: 0.2647 - val_loss: 0.1187\n",
      "Epoch 84/100\n",
      "56/56 [==============================] - 1s 26ms/step - loss: 0.2584 - val_loss: 0.1181\n",
      "Epoch 85/100\n",
      "56/56 [==============================] - 2s 31ms/step - loss: 0.2637 - val_loss: 0.1174\n",
      "Epoch 86/100\n",
      "56/56 [==============================] - 1s 26ms/step - loss: 0.2516 - val_loss: 0.1203\n",
      "Epoch 87/100\n",
      "56/56 [==============================] - 1s 26ms/step - loss: 0.2517 - val_loss: 0.1195\n",
      "Epoch 88/100\n",
      "56/56 [==============================] - 2s 30ms/step - loss: 0.2498 - val_loss: 0.1226\n",
      "Epoch 89/100\n",
      "56/56 [==============================] - 2s 29ms/step - loss: 0.2456 - val_loss: 0.1216\n",
      "Epoch 90/100\n",
      "56/56 [==============================] - 1s 26ms/step - loss: 0.2355 - val_loss: 0.1167\n",
      "Epoch 91/100\n",
      "56/56 [==============================] - 1s 26ms/step - loss: 0.2399 - val_loss: 0.1186\n",
      "Epoch 92/100\n",
      "56/56 [==============================] - 2s 31ms/step - loss: 0.2340 - val_loss: 0.1167\n",
      "Epoch 93/100\n",
      "56/56 [==============================] - 1s 27ms/step - loss: 0.2346 - val_loss: 0.1180\n",
      "Epoch 94/100\n",
      "56/56 [==============================] - 1s 26ms/step - loss: 0.2359 - val_loss: 0.1189\n",
      "Epoch 95/100\n",
      "56/56 [==============================] - 1s 27ms/step - loss: 0.2242 - val_loss: 0.1209\n",
      "Epoch 96/100\n",
      "56/56 [==============================] - 1s 26ms/step - loss: 0.2238 - val_loss: 0.1217\n",
      "Epoch 97/100\n",
      "56/56 [==============================] - 2s 35ms/step - loss: 0.2170 - val_loss: 0.1203\n",
      "Epoch 98/100\n",
      "56/56 [==============================] - 1s 27ms/step - loss: 0.2120 - val_loss: 0.1176\n",
      "Epoch 99/100\n",
      "56/56 [==============================] - 2s 33ms/step - loss: 0.2170 - val_loss: 0.1175\n",
      "Epoch 100/100\n",
      "56/56 [==============================] - 2s 27ms/step - loss: 0.2153 - val_loss: 0.1189\n"
     ]
    }
   ],
   "source": [
    "#10 + 10 +10\n",
    "unfreeze_model(model)\n",
    "\n",
    "history = model.fit(train_generator, \n",
    "                    validation_data=val_generator,\n",
    "                    epochs=100)"
   ]
  },
  {
   "cell_type": "markdown",
   "metadata": {
    "id": "HvHov45D2qwx",
    "papermill": {
     "duration": 0.634452,
     "end_time": "2021-01-08T15:41:36.166007",
     "exception": false,
     "start_time": "2021-01-08T15:41:35.531555",
     "status": "completed"
    },
    "tags": []
   },
   "source": [
    "#### **Evaluate the model**"
   ]
  },
  {
   "cell_type": "code",
   "execution_count": 20,
   "metadata": {
    "execution": {
     "iopub.execute_input": "2021-01-08T15:41:37.442963Z",
     "iopub.status.busy": "2021-01-08T15:41:37.441982Z",
     "iopub.status.idle": "2021-01-08T15:41:37.734437Z",
     "shell.execute_reply": "2021-01-08T15:41:37.733426Z"
    },
    "id": "RYKhDBx9MgTN",
    "outputId": "52aeb591-a793-4482-b854-38914ebd81a9",
    "papermill": {
     "duration": 0.932607,
     "end_time": "2021-01-08T15:41:37.734568",
     "exception": false,
     "start_time": "2021-01-08T15:41:36.801961",
     "status": "completed"
    },
    "tags": []
   },
   "outputs": [
    {
     "name": "stdout",
     "output_type": "stream",
     "text": [
      "14/14 [==============================] - 0s 14ms/step - loss: 0.1189\n"
     ]
    },
    {
     "data": {
      "text/plain": [
       "0.11894410848617554"
      ]
     },
     "execution_count": 20,
     "metadata": {},
     "output_type": "execute_result"
    }
   ],
   "source": [
    "model.evaluate(val_generator)"
   ]
  },
  {
   "cell_type": "code",
   "execution_count": 21,
   "metadata": {
    "execution": {
     "iopub.execute_input": "2021-01-08T15:41:39.012619Z",
     "iopub.status.busy": "2021-01-08T15:41:39.011880Z",
     "iopub.status.idle": "2021-01-08T15:41:39.193043Z",
     "shell.execute_reply": "2021-01-08T15:41:39.192451Z"
    },
    "id": "FYqFSqoqe8Do",
    "outputId": "acccfe34-e1ed-4dee-db6f-d388e7efb6c5",
    "papermill": {
     "duration": 0.820566,
     "end_time": "2021-01-08T15:41:39.193156",
     "exception": false,
     "start_time": "2021-01-08T15:41:38.372590",
     "status": "completed"
    },
    "tags": []
   },
   "outputs": [
    {
     "data": {
      "text/plain": [
       "Text(0.5, 1.0, 'Training and validation loss')"
      ]
     },
     "execution_count": 21,
     "metadata": {},
     "output_type": "execute_result"
    },
    {
     "data": {
      "image/png": "[encoded data removed]",
      "text/plain": [
       "<Figure size 432x288 with 1 Axes>"
      ]
     },
     "metadata": {
      "needs_background": "light"
     },
     "output_type": "display_data"
    }
   ],
   "source": [
    "# Retrieve a list of list results on training and test data sets for each training epoch\n",
    "loss     = history.history['loss']\n",
    "val_loss = history.history['val_loss']\n",
    "epochs   = range(len(loss))\n",
    "# Plot training and validation loss per epoch\n",
    "plt.plot(epochs,loss, color='red' , label='training loss')\n",
    "plt.plot(epochs, val_loss, label='validation loss')\n",
    "plt.legend()\n",
    "plt.title ('Training and validation loss')"
   ]
  },
  {
   "cell_type": "markdown",
   "metadata": {
    "id": "BIr2js1Z2ipI",
    "papermill": {
     "duration": 0.6383,
     "end_time": "2021-01-08T15:41:40.514997",
     "exception": false,
     "start_time": "2021-01-08T15:41:39.876697",
     "status": "completed"
    },
    "tags": []
   },
   "source": [
    "#### **Test the model on random images**"
   ]
  },
  {
   "cell_type": "code",
   "execution_count": 22,
   "metadata": {
    "execution": {
     "iopub.execute_input": "2021-01-08T15:41:41.795926Z",
     "iopub.status.busy": "2021-01-08T15:41:41.795314Z",
     "iopub.status.idle": "2021-01-08T15:41:41.801860Z",
     "shell.execute_reply": "2021-01-08T15:41:41.802308Z"
    },
    "id": "MnxNCLAA1xvB",
    "outputId": "16288291-87dc-4ac3-ba1f-30a59d2fa79a",
    "papermill": {
     "duration": 0.65053,
     "end_time": "2021-01-08T15:41:41.802438",
     "exception": false,
     "start_time": "2021-01-08T15:41:41.151908",
     "status": "completed"
    },
    "tags": []
   },
   "outputs": [
    {
     "data": {
      "text/plain": [
       "{'mouth_center_top_lip_x': MinMaxScaler(),\n",
       " 'mouth_center_top_lip_y': MinMaxScaler()}"
      ]
     },
     "execution_count": 22,
     "metadata": {},
     "output_type": "execute_result"
    }
   ],
   "source": [
    "scalers_dict"
   ]
  },
  {
   "cell_type": "code",
   "execution_count": 23,
   "metadata": {
    "execution": {
     "iopub.execute_input": "2021-01-08T15:41:43.389375Z",
     "iopub.status.busy": "2021-01-08T15:41:43.388455Z",
     "iopub.status.idle": "2021-01-08T15:41:44.860144Z",
     "shell.execute_reply": "2021-01-08T15:41:44.859059Z"
    },
    "id": "EbY6XCqHPvoO",
    "outputId": "85d7b89c-efa4-405a-986a-92f79d589697",
    "papermill": {
     "duration": 2.418425,
     "end_time": "2021-01-08T15:41:44.860276",
     "exception": false,
     "start_time": "2021-01-08T15:41:42.441851",
     "status": "completed"
    },
    "tags": []
   },
   "outputs": [
    {
     "name": "stdout",
     "output_type": "stream",
     "text": [
      "[0.4801896  0.41992384]\n",
      "[46.882984 72.60448 ]\n",
      "[[0.48604318 0.4324597 ]]\n",
      "[[47.300835 73.0787  ]]\n"
     ]
    },
    {
     "data": {
      "image/png": "[encoded data removed]",
      "text/plain": [
       "<Figure size 432x288 with 1 Axes>"
      ]
     },
     "metadata": {
      "needs_background": "light"
     },
     "output_type": "display_data"
    }
   ],
   "source": [
    "batch = val_generator.__getitem__(2)\n",
    "j= np.random.randint(0,len(batch[0]))\n",
    "# check original image \n",
    "print(batch[1][j:j+1][0])\n",
    "actual_y= batch[1][j:j+1][0]\n",
    "actual_y[0] = scalers_dict[feature_name+\"_x\"].inverse_transform([[actual_y[0]]])\n",
    "actual_y[1] = scalers_dict[feature_name+\"_y\"].inverse_transform([[actual_y[1]]])\n",
    "print(actual_y)\n",
    "##############################################\n",
    "predicted_y = model.predict(batch[0][j:j+1])\n",
    "print(predicted_y)\n",
    "# uncomment in case we have used the scaling\n",
    "predicted_y[:,:1] = scalers_dict[feature_name+\"_x\"].inverse_transform(predicted_y[:,:1])\n",
    "predicted_y[:,1:] = scalers_dict[feature_name+\"_y\"].inverse_transform(predicted_y[:,1:])\n",
    "print(predicted_y)\n",
    "##############################################3\n",
    "visualize_image(batch[0][j:j+1].reshape(96,96,3)[:,:,0],actual_y, predicted_y[0])"
   ]
  },
  {
   "cell_type": "markdown",
   "metadata": {
    "id": "Q3sMZnVZ3-dd",
    "papermill": {
     "duration": 0.642099,
     "end_time": "2021-01-08T15:41:46.142341",
     "exception": false,
     "start_time": "2021-01-08T15:41:45.500242",
     "status": "completed"
    },
    "tags": []
   },
   "source": [
    "**Its very impressive how close are the predicted corrdinates to the original ones**"
   ]
  },
  {
   "cell_type": "markdown",
   "metadata": {
    "id": "KOW_zMQ5PvoS",
    "papermill": {
     "duration": 0.644743,
     "end_time": "2021-01-08T15:41:47.434496",
     "exception": false,
     "start_time": "2021-01-08T15:41:46.789753",
     "status": "completed"
    },
    "tags": []
   },
   "source": [
    "#### **Test on missing data**"
   ]
  },
  {
   "cell_type": "code",
   "execution_count": 24,
   "metadata": {
    "execution": {
     "iopub.execute_input": "2021-01-08T15:41:48.774296Z",
     "iopub.status.busy": "2021-01-08T15:41:48.772890Z",
     "iopub.status.idle": "2021-01-08T15:41:48.777039Z",
     "shell.execute_reply": "2021-01-08T15:41:48.776600Z"
    },
    "id": "zKZ1t2qoPvoS",
    "outputId": "2c2688c2-cb6d-4ad7-dad1-9fabe60c1d13",
    "papermill": {
     "duration": 0.691065,
     "end_time": "2021-01-08T15:41:48.777127",
     "exception": false,
     "start_time": "2021-01-08T15:41:48.086062",
     "status": "completed"
    },
    "tags": []
   },
   "outputs": [
    {
     "data": {
      "text/plain": [
       "'mouth_center_top_lip'"
      ]
     },
     "execution_count": 24,
     "metadata": {},
     "output_type": "execute_result"
    }
   ],
   "source": [
    "feature_name"
   ]
  },
  {
   "cell_type": "code",
   "execution_count": 25,
   "metadata": {
    "execution": {
     "iopub.execute_input": "2021-01-08T15:41:50.082000Z",
     "iopub.status.busy": "2021-01-08T15:41:50.080172Z",
     "iopub.status.idle": "2021-01-08T15:41:50.082734Z",
     "shell.execute_reply": "2021-01-08T15:41:50.083144Z"
    },
    "id": "BlsfoMj3PvoT",
    "papermill": {
     "duration": 0.647005,
     "end_time": "2021-01-08T15:41:50.083256",
     "exception": false,
     "start_time": "2021-01-08T15:41:49.436251",
     "status": "completed"
    },
    "tags": []
   },
   "outputs": [],
   "source": [
    "rgb_channels= True\n",
    "normalize_image = True\n",
    "def pre_process_images(image):\n",
    "    image = np.vstack(image).reshape(-1, 96, 96, 1).astype(np.float32)\n",
    "    if rgb_channels:\n",
    "        image = np.repeat(image,3,-1)\n",
    "    if normalize_image == True:\n",
    "        image = image/255\n",
    "    return image"
   ]
  },
  {
   "cell_type": "code",
   "execution_count": 26,
   "metadata": {
    "execution": {
     "iopub.execute_input": "2021-01-08T15:41:51.374832Z",
     "iopub.status.busy": "2021-01-08T15:41:51.373346Z",
     "iopub.status.idle": "2021-01-08T15:41:51.375963Z",
     "shell.execute_reply": "2021-01-08T15:41:51.376393Z"
    },
    "id": "NsF-GdN6PvoU",
    "papermill": {
     "duration": 0.650994,
     "end_time": "2021-01-08T15:41:51.376510",
     "exception": false,
     "start_time": "2021-01-08T15:41:50.725516",
     "status": "completed"
    },
    "tags": []
   },
   "outputs": [],
   "source": [
    "missing_data = dic_missing_data[feature_name]"
   ]
  },
  {
   "cell_type": "code",
   "execution_count": 27,
   "metadata": {
    "execution": {
     "iopub.execute_input": "2021-01-08T15:41:53.015563Z",
     "iopub.status.busy": "2021-01-08T15:41:53.014731Z",
     "iopub.status.idle": "2021-01-08T15:41:53.018107Z",
     "shell.execute_reply": "2021-01-08T15:41:53.018516Z"
    },
    "id": "xgfXwWOMDj0N",
    "outputId": "c74688b4-7479-421a-9a07-3925a7096300",
    "papermill": {
     "duration": 1.001408,
     "end_time": "2021-01-08T15:41:53.018634",
     "exception": false,
     "start_time": "2021-01-08T15:41:52.017226",
     "status": "completed"
    },
    "tags": []
   },
   "outputs": [
    {
     "data": {
      "text/plain": [
       "4774"
      ]
     },
     "execution_count": 27,
     "metadata": {},
     "output_type": "execute_result"
    }
   ],
   "source": [
    "len(missing_data)"
   ]
  },
  {
   "cell_type": "code",
   "execution_count": 28,
   "metadata": {
    "execution": {
     "iopub.execute_input": "2021-01-08T15:41:54.496924Z",
     "iopub.status.busy": "2021-01-08T15:41:54.496110Z",
     "iopub.status.idle": "2021-01-08T15:41:54.766994Z",
     "shell.execute_reply": "2021-01-08T15:41:54.766077Z"
    },
    "id": "7janB8HOPvoU",
    "outputId": "5698bbf5-06b1-44d6-99e4-3920e4ea689a",
    "papermill": {
     "duration": 1.070961,
     "end_time": "2021-01-08T15:41:54.767097",
     "exception": false,
     "start_time": "2021-01-08T15:41:53.696136",
     "status": "completed"
    },
    "tags": []
   },
   "outputs": [
    {
     "name": "stdout",
     "output_type": "stream",
     "text": [
      "[[0.48748636 0.4335712 ]]\n",
      "[[47.403854 73.12074 ]]\n"
     ]
    },
    {
     "data": {
      "image/png": "[encoded data removed]",
      "text/plain": [
       "<Figure size 432x288 with 1 Axes>"
      ]
     },
     "metadata": {
      "needs_background": "light"
     },
     "output_type": "display_data"
    }
   ],
   "source": [
    "# take a random image and test on it\n",
    "l = np.random.randint(0, len(missing_data)-1)\n",
    "image = missing_data.iloc[l][\"Image\"]\n",
    "image = pre_process_images(image)\n",
    "predicted_y = model.predict(image)\n",
    "print(predicted_y)\n",
    "# uncomment in case we have used the scaling\n",
    "predicted_y[:,:1] = scalers_dict[feature_name+\"_x\"].inverse_transform(predicted_y[:,:1])\n",
    "predicted_y[:,1:] = scalers_dict[feature_name+\"_y\"].inverse_transform(predicted_y[:,1:])\n",
    "print(predicted_y)\n",
    "visualize_image(image.reshape(96,96,3)[:,:,0],None, predicted_y[0])"
   ]
  },
  {
   "cell_type": "markdown",
   "metadata": {
    "id": "eCtvSBv2PvoV",
    "papermill": {
     "duration": 0.643681,
     "end_time": "2021-01-08T15:41:56.102185",
     "exception": false,
     "start_time": "2021-01-08T15:41:55.458504",
     "status": "completed"
    },
    "tags": []
   },
   "source": [
    "#### **Save model**"
   ]
  },
  {
   "cell_type": "code",
   "execution_count": 29,
   "metadata": {
    "execution": {
     "iopub.execute_input": "2021-01-08T15:41:57.480193Z",
     "iopub.status.busy": "2021-01-08T15:41:57.475161Z",
     "iopub.status.idle": "2021-01-08T15:41:57.836811Z",
     "shell.execute_reply": "2021-01-08T15:41:57.835759Z"
    },
    "id": "PHDvP_QL39lh",
    "papermill": {
     "duration": 1.058031,
     "end_time": "2021-01-08T15:41:57.836940",
     "exception": false,
     "start_time": "2021-01-08T15:41:56.778909",
     "status": "completed"
    },
    "tags": []
   },
   "outputs": [],
   "source": [
    "# save model and architecture to single file\n",
    "model.save(model_path)"
   ]
  },
  {
   "cell_type": "code",
   "execution_count": null,
   "metadata": {
    "id": "ERAMk1EHPvoX",
    "papermill": {
     "duration": 0.673208,
     "end_time": "2021-01-08T15:41:59.441427",
     "exception": false,
     "start_time": "2021-01-08T15:41:58.768219",
     "status": "completed"
    },
    "tags": []
   },
   "outputs": [],
   "source": []
  },
  {
   "cell_type": "code",
   "execution_count": null,
   "metadata": {
    "papermill": {
     "duration": 0.643008,
     "end_time": "2021-01-08T15:42:00.728622",
     "exception": false,
     "start_time": "2021-01-08T15:42:00.085614",
     "status": "completed"
    },
    "tags": []
   },
   "outputs": [],
   "source": []
  }
 ],
 "metadata": {
  "kernelspec": {
   "display_name": "Python 3",
   "language": "python",
   "name": "python3"
  },
  "language_info": {
   "codemirror_mode": {
    "name": "ipython",
    "version": 3
   },
   "file_extension": ".py",
   "mimetype": "text/x-python",
   "name": "python",
   "nbconvert_exporter": "python",
   "pygments_lexer": "ipython3",
   "version": "3.7.6"
  },
  "papermill": {
   "duration": 229.122625,
   "end_time": "2021-01-08T15:42:03.385616",
   "environment_variables": {},
   "exception": null,
   "input_path": "__notebook__.ipynb",
   "output_path": "__notebook__.ipynb",
   "parameters": {},
   "start_time": "2021-01-08T15:38:14.262991",
   "version": "2.1.0"
  }
 },
 "nbformat": 4,
 "nbformat_minor": 4
}
