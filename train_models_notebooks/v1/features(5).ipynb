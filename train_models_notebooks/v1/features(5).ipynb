{
 "cells": [
  {
   "cell_type": "code",
   "execution_count": 1,
   "metadata": {
    "execution": {
     "iopub.execute_input": "2021-01-08T10:19:40.380607Z",
     "iopub.status.busy": "2021-01-08T10:19:40.379710Z",
     "iopub.status.idle": "2021-01-08T10:19:40.382087Z",
     "shell.execute_reply": "2021-01-08T10:19:40.382534Z"
    },
    "id": "mt9t-79OPvng",
    "papermill": {
     "duration": 0.038164,
     "end_time": "2021-01-08T10:19:40.382672",
     "exception": false,
     "start_time": "2021-01-08T10:19:40.344508",
     "status": "completed"
    },
    "tags": []
   },
   "outputs": [],
   "source": [
    "feature_index = 5"
   ]
  },
  {
   "cell_type": "code",
   "execution_count": 2,
   "metadata": {
    "execution": {
     "iopub.execute_input": "2021-01-08T10:19:40.443232Z",
     "iopub.status.busy": "2021-01-08T10:19:40.442193Z",
     "iopub.status.idle": "2021-01-08T10:19:40.445400Z",
     "shell.execute_reply": "2021-01-08T10:19:40.444829Z"
    },
    "id": "29LaKxCh-Em7",
    "papermill": {
     "duration": 0.035443,
     "end_time": "2021-01-08T10:19:40.445517",
     "exception": false,
     "start_time": "2021-01-08T10:19:40.410074",
     "status": "completed"
    },
    "tags": []
   },
   "outputs": [],
   "source": [
    "# import os\n",
    "# os.environ['KAGGLE_USERNAME'] = \"mariaafara\" # username from the json file\n",
    "# os.environ['KAGGLE_KEY'] = \"25755ae03c0b83042774e5e0d15b886e\" # key from the json file\n",
    "#Crearting a Client to host the Kaggle API\n",
    "# !pip install -q kaggle\n",
    "# !kaggle datasets download mariaafara/Facial-Landmarks\n",
    "# !unzip Facial-Landmarks.zip -d facial-keypoints-detection"
   ]
  },
  {
   "cell_type": "code",
   "execution_count": 3,
   "metadata": {
    "execution": {
     "iopub.execute_input": "2021-01-08T10:19:40.511216Z",
     "iopub.status.busy": "2021-01-08T10:19:40.510289Z",
     "iopub.status.idle": "2021-01-08T10:19:45.991463Z",
     "shell.execute_reply": "2021-01-08T10:19:45.992188Z"
    },
    "id": "3f3roaNK6hfZ",
    "papermill": {
     "duration": 5.51756,
     "end_time": "2021-01-08T10:19:45.992394",
     "exception": false,
     "start_time": "2021-01-08T10:19:40.474834",
     "status": "completed"
    },
    "tags": []
   },
   "outputs": [],
   "source": [
    "import numpy as np\n",
    "import pandas as pd\n",
    "import math\n",
    "import random\n",
    "import seaborn as sns\n",
    "import matplotlib.pyplot as plt\n",
    "import tensorflow as tf\n",
    "import tensorflow.keras as keras\n",
    "from tensorflow.keras.models import Sequential\n",
    "from tensorflow.keras.layers import Dense, Dropout, Flatten, Input, Conv2D, MaxPooling2D, GlobalAveragePooling2D, BatchNormalization\n",
    "from sklearn.model_selection import train_test_split\n",
    "from sklearn import preprocessing\n",
    "from sklearn.preprocessing import MinMaxScaler\n",
    "from tensorflow.keras import optimizers\n",
    "from IPython.display import clear_output\n",
    "pd.options.mode.chained_assignment = None  # default='warn'\n"
   ]
  },
  {
   "cell_type": "code",
   "execution_count": 4,
   "metadata": {
    "execution": {
     "iopub.execute_input": "2021-01-08T10:19:46.074412Z",
     "iopub.status.busy": "2021-01-08T10:19:46.073487Z",
     "iopub.status.idle": "2021-01-08T10:19:46.075836Z",
     "shell.execute_reply": "2021-01-08T10:19:46.075175Z"
    },
    "id": "9_E22cct-EnI",
    "papermill": {
     "duration": 0.04525,
     "end_time": "2021-01-08T10:19:46.075953",
     "exception": false,
     "start_time": "2021-01-08T10:19:46.030703",
     "status": "completed"
    },
    "tags": []
   },
   "outputs": [],
   "source": [
    "train_data_path = \"/kaggle/input/facial-landmarks/dic_train_data.pkl\"\n",
    "missing_data_path = \"/kaggle/input/facial-landmarks/dic_missing_data.pkl\"\n",
    "# train_data_path = \"data/dic_train_data.pkl\"\n",
    "# missing_data_path = \"data/dic_missing_data.pkl\""
   ]
  },
  {
   "cell_type": "code",
   "execution_count": 5,
   "metadata": {
    "execution": {
     "iopub.execute_input": "2021-01-08T10:19:46.154877Z",
     "iopub.status.busy": "2021-01-08T10:19:46.153794Z",
     "iopub.status.idle": "2021-01-08T10:19:53.471392Z",
     "shell.execute_reply": "2021-01-08T10:19:53.470473Z"
    },
    "id": "9iJTuxj_kNfQ",
    "papermill": {
     "duration": 7.358967,
     "end_time": "2021-01-08T10:19:53.471518",
     "exception": false,
     "start_time": "2021-01-08T10:19:46.112551",
     "status": "completed"
    },
    "tags": []
   },
   "outputs": [],
   "source": [
    "import pickle as pkl\n",
    "\n",
    "dic_train_data = pkl.load(open(train_data_path,\"rb\"))\n",
    "dic_missing_data = pkl.load(open(missing_data_path,\"rb\"))"
   ]
  },
  {
   "cell_type": "code",
   "execution_count": 6,
   "metadata": {
    "execution": {
     "iopub.execute_input": "2021-01-08T10:19:53.534406Z",
     "iopub.status.busy": "2021-01-08T10:19:53.533542Z",
     "iopub.status.idle": "2021-01-08T10:19:53.537666Z",
     "shell.execute_reply": "2021-01-08T10:19:53.538150Z"
    },
    "id": "6TdjVdwEPvny",
    "outputId": "c49a7d54-3444-4bef-f242-751e108f21f3",
    "papermill": {
     "duration": 0.039014,
     "end_time": "2021-01-08T10:19:53.538267",
     "exception": false,
     "start_time": "2021-01-08T10:19:53.499253",
     "status": "completed"
    },
    "tags": []
   },
   "outputs": [
    {
     "data": {
      "text/plain": [
       "['left_eye_center',\n",
       " 'right_eye_center',\n",
       " 'left_eye_inner_corner',\n",
       " 'left_eye_outer_corner',\n",
       " 'right_eye_inner_corner',\n",
       " 'right_eye_outer_corner',\n",
       " 'left_eyebrow_inner_end',\n",
       " 'left_eyebrow_outer_end',\n",
       " 'right_eyebrow_inner_end',\n",
       " 'right_eyebrow_outer_end',\n",
       " 'mouth_left_corner',\n",
       " 'mouth_right_corner',\n",
       " 'mouth_center_top_lip',\n",
       " 'mouth_center_bottom_lip']"
      ]
     },
     "execution_count": 6,
     "metadata": {},
     "output_type": "execute_result"
    }
   ],
   "source": [
    "features = list(dic_train_data.keys())\n",
    "features"
   ]
  },
  {
   "cell_type": "code",
   "execution_count": 7,
   "metadata": {
    "execution": {
     "iopub.execute_input": "2021-01-08T10:19:53.599491Z",
     "iopub.status.busy": "2021-01-08T10:19:53.598868Z",
     "iopub.status.idle": "2021-01-08T10:19:53.604628Z",
     "shell.execute_reply": "2021-01-08T10:19:53.604141Z"
    },
    "id": "ydLdeD8YPvn1",
    "outputId": "f34d38aa-b9d9-4a29-f689-35bd6a3aa98e",
    "papermill": {
     "duration": 0.038164,
     "end_time": "2021-01-08T10:19:53.604716",
     "exception": false,
     "start_time": "2021-01-08T10:19:53.566552",
     "status": "completed"
    },
    "tags": []
   },
   "outputs": [
    {
     "data": {
      "text/plain": [
       "'right_eye_outer_corner'"
      ]
     },
     "execution_count": 7,
     "metadata": {},
     "output_type": "execute_result"
    }
   ],
   "source": [
    "feature_name = features[feature_index]\n",
    "feature_name"
   ]
  },
  {
   "cell_type": "code",
   "execution_count": 8,
   "metadata": {
    "execution": {
     "iopub.execute_input": "2021-01-08T10:19:53.665545Z",
     "iopub.status.busy": "2021-01-08T10:19:53.664908Z",
     "iopub.status.idle": "2021-01-08T10:19:53.668915Z",
     "shell.execute_reply": "2021-01-08T10:19:53.668335Z"
    },
    "id": "APi2VVkKQFOm",
    "papermill": {
     "duration": 0.036046,
     "end_time": "2021-01-08T10:19:53.669040",
     "exception": false,
     "start_time": "2021-01-08T10:19:53.632994",
     "status": "completed"
    },
    "tags": []
   },
   "outputs": [],
   "source": [
    "scalers_path = feature_name+\"_scalers_dict.pkl\"\n",
    "model_path = feature_name+\".h5\"\n",
    "\n",
    "# scalers_path = \"data/\"+feature_name+\"_scalers_dict.pkl\"\n",
    "# model_path = \"models/\"+feature_name+\".h5\""
   ]
  },
  {
   "cell_type": "code",
   "execution_count": 9,
   "metadata": {
    "execution": {
     "iopub.execute_input": "2021-01-08T10:19:53.755102Z",
     "iopub.status.busy": "2021-01-08T10:19:53.744854Z",
     "iopub.status.idle": "2021-01-08T10:19:54.718073Z",
     "shell.execute_reply": "2021-01-08T10:19:54.716973Z"
    },
    "id": "UHAb9cCEPvn3",
    "outputId": "cdb32799-3d8e-4470-e682-c8b1a792037b",
    "papermill": {
     "duration": 1.020329,
     "end_time": "2021-01-08T10:19:54.718190",
     "exception": false,
     "start_time": "2021-01-08T10:19:53.697861",
     "status": "completed"
    },
    "tags": []
   },
   "outputs": [
    {
     "data": {
      "text/html": [
       "<div>\n",
       "<style scoped>\n",
       "    .dataframe tbody tr th:only-of-type {\n",
       "        vertical-align: middle;\n",
       "    }\n",
       "\n",
       "    .dataframe tbody tr th {\n",
       "        vertical-align: top;\n",
       "    }\n",
       "\n",
       "    .dataframe thead th {\n",
       "        text-align: right;\n",
       "    }\n",
       "</style>\n",
       "<table border=\"1\" class=\"dataframe\">\n",
       "  <thead>\n",
       "    <tr style=\"text-align: right;\">\n",
       "      <th></th>\n",
       "      <th>right_eye_outer_corner_x</th>\n",
       "      <th>right_eye_outer_corner_y</th>\n",
       "      <th>Image</th>\n",
       "    </tr>\n",
       "  </thead>\n",
       "  <tbody>\n",
       "    <tr>\n",
       "      <th>0</th>\n",
       "      <td>23.452872</td>\n",
       "      <td>37.389402</td>\n",
       "      <td>[[238, 236, 237, 238, 240, 240, 239, 241, 241,...</td>\n",
       "    </tr>\n",
       "    <tr>\n",
       "      <th>1</th>\n",
       "      <td>24.472511</td>\n",
       "      <td>33.144443</td>\n",
       "      <td>[[219, 215, 204, 196, 204, 211, 212, 200, 180,...</td>\n",
       "    </tr>\n",
       "    <tr>\n",
       "      <th>2</th>\n",
       "      <td>24.976421</td>\n",
       "      <td>36.603221</td>\n",
       "      <td>[[144, 142, 159, 180, 188, 188, 184, 180, 167,...</td>\n",
       "    </tr>\n",
       "    <tr>\n",
       "      <th>3</th>\n",
       "      <td>25.307270</td>\n",
       "      <td>38.007903</td>\n",
       "      <td>[[193, 192, 193, 194, 194, 194, 193, 192, 168,...</td>\n",
       "    </tr>\n",
       "    <tr>\n",
       "      <th>4</th>\n",
       "      <td>22.506110</td>\n",
       "      <td>38.305237</td>\n",
       "      <td>[[147, 148, 160, 196, 215, 214, 216, 217, 219,...</td>\n",
       "    </tr>\n",
       "  </tbody>\n",
       "</table>\n",
       "</div>"
      ],
      "text/plain": [
       "   right_eye_outer_corner_x  right_eye_outer_corner_y  \\\n",
       "0                 23.452872                 37.389402   \n",
       "1                 24.472511                 33.144443   \n",
       "2                 24.976421                 36.603221   \n",
       "3                 25.307270                 38.007903   \n",
       "4                 22.506110                 38.305237   \n",
       "\n",
       "                                               Image  \n",
       "0  [[238, 236, 237, 238, 240, 240, 239, 241, 241,...  \n",
       "1  [[219, 215, 204, 196, 204, 211, 212, 200, 180,...  \n",
       "2  [[144, 142, 159, 180, 188, 188, 184, 180, 167,...  \n",
       "3  [[193, 192, 193, 194, 194, 194, 193, 192, 168,...  \n",
       "4  [[147, 148, 160, 196, 215, 214, 216, 217, 219,...  "
      ]
     },
     "execution_count": 9,
     "metadata": {},
     "output_type": "execute_result"
    }
   ],
   "source": [
    "dic_train_data[feature_name].head()"
   ]
  },
  {
   "cell_type": "markdown",
   "metadata": {
    "id": "Ys-qr2X5WKAR",
    "papermill": {
     "duration": 0.029026,
     "end_time": "2021-01-08T10:19:54.778059",
     "exception": false,
     "start_time": "2021-01-08T10:19:54.749033",
     "status": "completed"
    },
    "tags": []
   },
   "source": [
    "#### **Create custom Data Generator**\n",
    "\n",
    "**We will build a data generator that will load mini-batches and feed to the model dynamically**"
   ]
  },
  {
   "cell_type": "code",
   "execution_count": 10,
   "metadata": {
    "execution": {
     "iopub.execute_input": "2021-01-08T10:19:54.905526Z",
     "iopub.status.busy": "2021-01-08T10:19:54.899015Z",
     "iopub.status.idle": "2021-01-08T10:19:54.908092Z",
     "shell.execute_reply": "2021-01-08T10:19:54.907613Z"
    },
    "id": "i8PX_Elb-VQz",
    "papermill": {
     "duration": 0.067891,
     "end_time": "2021-01-08T10:19:54.908192",
     "exception": false,
     "start_time": "2021-01-08T10:19:54.840301",
     "status": "completed"
    },
    "tags": []
   },
   "outputs": [],
   "source": [
    "class DataGenerator(tf.keras.utils.Sequence):\n",
    "    def __init__(self, df, batch_size=32, rgb_channels=True, shuffle=True, augment=True, normalize_image=True, normalize_coordinates=False, scalers=None):\n",
    "        self.df = df\n",
    "        self.batch_size = batch_size\n",
    "        self.size = df.shape[0]\n",
    "        self.shuffle = shuffle\n",
    "        self.augment = augment\n",
    "        # Keras pre-trained models have trained on color images and if we want to use grayscale images we can still use these pre-trained models by repeating the grayscale image over three channels\n",
    "        self.rgb_channels = rgb_channels\n",
    "        self.normalize_image = normalize_image\n",
    "        self.normalize_coordinates = normalize_coordinates\n",
    "        self.scalers = scalers\n",
    "        self.feature_columns = df.columns.tolist()[:-1]\n",
    "        #  To keep track on which pairs of landmarks to be swapped, we introduce a dictionary recording the original and new landmark's index\n",
    "        self.left_right_dic = {'right_eye_center_x' : 'left_eye_center_x' ,\n",
    "                'right_eye_center_y' : 'left_eye_center_y' ,\n",
    "                'right_eye_inner_corner_x' : 'left_eye_inner_corner_x' ,\n",
    "                'right_eye_inner_corner_y' : 'left_eye_inner_corner_y' ,\n",
    "                'right_eye_outer_corner_x' : 'left_eye_outer_corner_x' ,\n",
    "                'right_eye_outer_corner_y' : 'left_eye_outer_corner_y' ,\n",
    "                'right_eyebrow_inner_end_x' : 'left_eyebrow_inner_end_x' ,\n",
    "                'right_eyebrow_inner_end_y' : 'left_eyebrow_inner_end_y' ,\n",
    "                'right_eyebrow_outer_end_x' : 'left_eyebrow_outer_end_x' ,\n",
    "                'right_eyebrow_outer_end_y' : 'left_eyebrow_outer_end_y' ,\n",
    "                'mouth_right_corner_x' : 'mouth_left_corner_x' ,\n",
    "                'mouth_right_corner_y' : 'mouth_left_corner_y' }\n",
    "        self.on_epoch_end()\n",
    "\n",
    "    def __len__(self):\n",
    "        'Denotes the number of batches per epoch'\n",
    "        return self.size // self.batch_size\n",
    "\n",
    "    def on_epoch_end(self):\n",
    "        'Updates indexes after each epoch'\n",
    "        self.indexes = np.arange(self.size)\n",
    "        if self.shuffle:\n",
    "            np.random.shuffle(self.indexes)\n",
    "\n",
    "    def __getitem__(self, index):\n",
    "        # selects indices of data for next batch`\n",
    "        indexes = self.indexes[index * self.batch_size : (index + 1) * self.batch_size]\n",
    "        'Generate one batch of data'\n",
    "        batched_df = self.df.iloc[indexes] #.sample(frac=1).reset_index(drop=True)\n",
    "\n",
    "        if self.augment == True:\n",
    "            df_batch = self.augmentor(batched_df)\n",
    "        else:\n",
    "            df_batch = batched_df\n",
    "\n",
    "\n",
    "        batched_images = np.vstack(df_batch[\"Image\"].values).reshape(-1, 96, 96, 1).astype(np.float32)\n",
    "        \n",
    "        if self.rgb_channels:\n",
    "            batched_images = np.repeat(batched_images,3,-1)\n",
    "\n",
    "        batched_feature_corrdinates = df_batch.iloc[:,:-1]\n",
    "        \n",
    "        if self.normalize_coordinates:\n",
    "            for col in self.feature_columns:\n",
    "                scaler = self.scalers[col]\n",
    "                batched_feature_corrdinates[col] = scaler.transform(batched_feature_corrdinates[col].to_numpy().reshape(-1, 1)).reshape(-1)\n",
    "\n",
    "        batched_feature_corrdinates = batched_feature_corrdinates.values.astype(np.float32) #feature coordinates        \n",
    "\n",
    "        if self.normalize_image == True:\n",
    "            batched_images = batched_images/255\n",
    "\n",
    "        return batched_images, batched_feature_corrdinates\n",
    "\n",
    "    def augmentor(self, df):\n",
    "\n",
    "        def flip_horizontally(row):\n",
    "            'Method that flips the image horizontally and swaps the features' \n",
    "            row[\"Image\"] = np.flip(row[\"Image\"], axis = 1)\n",
    "            # y coordinates values will stay the same while the x coordinates will have to be changed\n",
    "            # subtract our initial x-coordinate values from width of the image(96)\n",
    "            for i in range(len(self.feature_columns)):#+1\n",
    "                if i%2 == 0: # because there is always x coordinate then y corrdinate\n",
    "                    row[self.feature_columns[i]] = 96. - row[self.feature_columns[i]]\n",
    "            # swap\n",
    "            rights = [a for a in self.feature_columns if \"right\" in a.split(\"_\")]\n",
    "            for col_r in rights:\n",
    "                col_l = self.left_right_dic[col_r]\n",
    "                temp = row[col_l] \n",
    "                row[col_l] = row[col_r]\n",
    "                row[col_r] = temp\n",
    "            return row\n",
    "\n",
    "        def increase_brightness(image):\n",
    "            'Method that randomly increase images brightness'      \n",
    "            # Multiply pixel values by random values between 1 and 1.5 to increase the brightness of the image\n",
    "            # Clip the value between 0 and 255\n",
    "            image = np.clip(random.uniform(1, 1.5) * image, 0.0, 255.0)\n",
    "            return image\n",
    "\n",
    "        def decrease_brightness(image):\n",
    "            'Method that randomly decrease images brightness'\n",
    "            # Multiply pixel values by random values between 0 and 0.1 to decrease the brightness of the image\n",
    "            # Clip the value between 0 and 255\n",
    "            image = np.clip(random.uniform(0, 0.1) * image, 0.0, 255.0)\n",
    "            return image\n",
    "\n",
    "        def augment(row):\n",
    "        # if we have more than one feature allow flipping\n",
    "            if len(self.feature_columns)>2:\n",
    "                if row[\"augment_flip\"]==1:\n",
    "                    row =  flip_horizontally(row)\n",
    "            if row[\"augment_inc_b\"]:\n",
    "                row[\"Image\"] = increase_brightness(row[\"Image\"])\n",
    "            if row[\"augment_dec_b\"]:\n",
    "                row[\"Image\"] = decrease_brightness(row[\"Image\"])\n",
    "            return row\n",
    "\n",
    "      # generate random boolean for augmentation types \n",
    "        df[\"augment_flip\"] = [random.getrandbits(1) for i in range(len(df))]\n",
    "        df[\"augment_inc_b\"] = [random.getrandbits(1) for i in range(len(df))]\n",
    "        df[\"augment_dec_b\"] = [random.getrandbits(1) for i in range(len(df))]\n",
    "        # df = df.apply(lambda row : augment(row), axis=1)\n",
    "        df = df.apply(augment, axis=1)\n",
    "        df.drop(['augment_flip', 'augment_inc_b', 'augment_dec_b'], axis=1, inplace=True)\n",
    "        return df\n"
   ]
  },
  {
   "cell_type": "code",
   "execution_count": 11,
   "metadata": {
    "execution": {
     "iopub.execute_input": "2021-01-08T10:19:54.977469Z",
     "iopub.status.busy": "2021-01-08T10:19:54.975895Z",
     "iopub.status.idle": "2021-01-08T10:19:54.978433Z",
     "shell.execute_reply": "2021-01-08T10:19:54.978890Z"
    },
    "id": "68VI4DWX-EnV",
    "papermill": {
     "duration": 0.041542,
     "end_time": "2021-01-08T10:19:54.979020",
     "exception": false,
     "start_time": "2021-01-08T10:19:54.937478",
     "status": "completed"
    },
    "tags": []
   },
   "outputs": [],
   "source": [
    "def visualize_image(x, y=None, y_predicted=None):\n",
    "  # x-coordinates are in even columns like 0,2,4,.. and y-coordinates are in odd columns like 1,3,5,..\n",
    "    plt.figure()\n",
    "    plt.imshow(x, cmap='gray')\n",
    "    if y is not None:\n",
    "        f = y.shape[0]\n",
    "        for j in range(0,f,2):\n",
    "            plt.plot(y[j], y[j+1], 'X', color='blue', label='actual')\n",
    "    if y_predicted is not None:\n",
    "        f = y_predicted.shape[0]\n",
    "        for j in range(0,f,2):\n",
    "            plt.plot(y_predicted[j], y_predicted[j+1], 'X', color='red', label='predicted')\n",
    "    plt.legend()"
   ]
  },
  {
   "cell_type": "markdown",
   "metadata": {
    "id": "eX1dSeiRCUUE",
    "papermill": {
     "duration": 0.029164,
     "end_time": "2021-01-08T10:19:55.037971",
     "exception": false,
     "start_time": "2021-01-08T10:19:55.008807",
     "status": "completed"
    },
    "tags": []
   },
   "source": [
    "Lets try the data generator and visuilize some images"
   ]
  },
  {
   "cell_type": "markdown",
   "metadata": {
    "id": "cdehN9mvIsan",
    "papermill": {
     "duration": 0.029168,
     "end_time": "2021-01-08T10:19:55.096602",
     "exception": false,
     "start_time": "2021-01-08T10:19:55.067434",
     "status": "completed"
    },
    "tags": []
   },
   "source": [
    "### Part 1.3  Building a Prediction model for a feature"
   ]
  },
  {
   "cell_type": "markdown",
   "metadata": {
    "id": "ph_UEDMwcEvX",
    "papermill": {
     "duration": 0.029344,
     "end_time": "2021-01-08T10:19:55.155597",
     "exception": false,
     "start_time": "2021-01-08T10:19:55.126253",
     "status": "completed"
    },
    "tags": []
   },
   "source": [
    "#### **Prepare data generators to train the model**"
   ]
  },
  {
   "cell_type": "markdown",
   "metadata": {
    "id": "ACe1Z0-GvdBs",
    "papermill": {
     "duration": 0.029707,
     "end_time": "2021-01-08T10:19:55.215100",
     "exception": false,
     "start_time": "2021-01-08T10:19:55.185393",
     "status": "completed"
    },
    "tags": []
   },
   "source": [
    "##### **Split the data into train and test**"
   ]
  },
  {
   "cell_type": "code",
   "execution_count": 12,
   "metadata": {
    "execution": {
     "iopub.execute_input": "2021-01-08T10:19:55.284533Z",
     "iopub.status.busy": "2021-01-08T10:19:55.283629Z",
     "iopub.status.idle": "2021-01-08T10:19:55.288280Z",
     "shell.execute_reply": "2021-01-08T10:19:55.287796Z"
    },
    "id": "Wz9DPZKppGXK",
    "outputId": "316ac4e0-0178-4692-e984-204c6ff49f72",
    "papermill": {
     "duration": 0.043837,
     "end_time": "2021-01-08T10:19:55.288393",
     "exception": false,
     "start_time": "2021-01-08T10:19:55.244556",
     "status": "completed"
    },
    "tags": []
   },
   "outputs": [
    {
     "name": "stdout",
     "output_type": "stream",
     "text": [
      "(2268, 3) (1814, 3) (454, 3)\n"
     ]
    }
   ],
   "source": [
    "df = dic_train_data[feature_name]\n",
    "# Split the data into training and testing data\n",
    "df_train, df_test = train_test_split(df, test_size = 0.2, random_state=None)\n",
    "print(df.shape, df_train.shape, df_test.shape)"
   ]
  },
  {
   "cell_type": "code",
   "execution_count": 13,
   "metadata": {
    "execution": {
     "iopub.execute_input": "2021-01-08T10:19:55.369517Z",
     "iopub.status.busy": "2021-01-08T10:19:55.364402Z",
     "iopub.status.idle": "2021-01-08T10:19:56.327420Z",
     "shell.execute_reply": "2021-01-08T10:19:56.327894Z"
    },
    "id": "iJ7K_1lndPKu",
    "outputId": "abda56ba-925c-43d9-ac1c-512dcbb269f6",
    "papermill": {
     "duration": 1.009752,
     "end_time": "2021-01-08T10:19:56.328040",
     "exception": false,
     "start_time": "2021-01-08T10:19:55.318288",
     "status": "completed"
    },
    "tags": []
   },
   "outputs": [
    {
     "data": {
      "text/html": [
       "<div>\n",
       "<style scoped>\n",
       "    .dataframe tbody tr th:only-of-type {\n",
       "        vertical-align: middle;\n",
       "    }\n",
       "\n",
       "    .dataframe tbody tr th {\n",
       "        vertical-align: top;\n",
       "    }\n",
       "\n",
       "    .dataframe thead th {\n",
       "        text-align: right;\n",
       "    }\n",
       "</style>\n",
       "<table border=\"1\" class=\"dataframe\">\n",
       "  <thead>\n",
       "    <tr style=\"text-align: right;\">\n",
       "      <th></th>\n",
       "      <th>right_eye_outer_corner_x</th>\n",
       "      <th>right_eye_outer_corner_y</th>\n",
       "      <th>Image</th>\n",
       "    </tr>\n",
       "  </thead>\n",
       "  <tbody>\n",
       "    <tr>\n",
       "      <th>1786</th>\n",
       "      <td>29.303823</td>\n",
       "      <td>50.137626</td>\n",
       "      <td>[[47, 56, 56, 52, 46, 36, 35, 36, 37, 37, 39, ...</td>\n",
       "    </tr>\n",
       "    <tr>\n",
       "      <th>1468</th>\n",
       "      <td>20.769519</td>\n",
       "      <td>37.073573</td>\n",
       "      <td>[[254, 251, 151, 59, 52, 43, 39, 49, 56, 50, 5...</td>\n",
       "    </tr>\n",
       "    <tr>\n",
       "      <th>1591</th>\n",
       "      <td>22.543231</td>\n",
       "      <td>34.454150</td>\n",
       "      <td>[[210, 212, 214, 210, 216, 212, 217, 224, 224,...</td>\n",
       "    </tr>\n",
       "    <tr>\n",
       "      <th>1320</th>\n",
       "      <td>16.405374</td>\n",
       "      <td>35.218443</td>\n",
       "      <td>[[23, 30, 34, 31, 33, 36, 32, 29, 28, 25, 25, ...</td>\n",
       "    </tr>\n",
       "    <tr>\n",
       "      <th>869</th>\n",
       "      <td>22.090105</td>\n",
       "      <td>37.610947</td>\n",
       "      <td>[[114, 97, 85, 76, 70, 63, 62, 61, 57, 53, 58,...</td>\n",
       "    </tr>\n",
       "  </tbody>\n",
       "</table>\n",
       "</div>"
      ],
      "text/plain": [
       "      right_eye_outer_corner_x  right_eye_outer_corner_y  \\\n",
       "1786                 29.303823                 50.137626   \n",
       "1468                 20.769519                 37.073573   \n",
       "1591                 22.543231                 34.454150   \n",
       "1320                 16.405374                 35.218443   \n",
       "869                  22.090105                 37.610947   \n",
       "\n",
       "                                                  Image  \n",
       "1786  [[47, 56, 56, 52, 46, 36, 35, 36, 37, 37, 39, ...  \n",
       "1468  [[254, 251, 151, 59, 52, 43, 39, 49, 56, 50, 5...  \n",
       "1591  [[210, 212, 214, 210, 216, 212, 217, 224, 224,...  \n",
       "1320  [[23, 30, 34, 31, 33, 36, 32, 29, 28, 25, 25, ...  \n",
       "869   [[114, 97, 85, 76, 70, 63, 62, 61, 57, 53, 58,...  "
      ]
     },
     "execution_count": 13,
     "metadata": {},
     "output_type": "execute_result"
    }
   ],
   "source": [
    "df_train.head()"
   ]
  },
  {
   "cell_type": "markdown",
   "metadata": {
    "id": "Zo9gt1mXu2fd",
    "papermill": {
     "duration": 0.030315,
     "end_time": "2021-01-08T10:19:56.389193",
     "exception": false,
     "start_time": "2021-01-08T10:19:56.358878",
     "status": "completed"
    },
    "tags": []
   },
   "source": [
    "##### **Build scalers for normalizing feature data**"
   ]
  },
  {
   "cell_type": "code",
   "execution_count": 14,
   "metadata": {
    "execution": {
     "iopub.execute_input": "2021-01-08T10:19:56.477014Z",
     "iopub.status.busy": "2021-01-08T10:19:56.475096Z",
     "iopub.status.idle": "2021-01-08T10:19:56.488326Z",
     "shell.execute_reply": "2021-01-08T10:19:56.489544Z"
    },
    "id": "9t4-hf0gIeSw",
    "papermill": {
     "duration": 0.067362,
     "end_time": "2021-01-08T10:19:56.489768",
     "exception": false,
     "start_time": "2021-01-08T10:19:56.422406",
     "status": "completed"
    },
    "tags": []
   },
   "outputs": [],
   "source": [
    "scalers_dict = dict()\n",
    "for col in df.columns.tolist()[:-1]:\n",
    "    scaler = MinMaxScaler()\n",
    "    scaler.fit(df[col].to_numpy().reshape(-1, 1))\n",
    "    scalers_dict[col] = scaler\n",
    "\n",
    "\n",
    "\n",
    "pkl.dump(scalers_dict, open(scalers_path,\"wb\"))\n"
   ]
  },
  {
   "cell_type": "markdown",
   "metadata": {
    "id": "WZNeHGhxvnSH",
    "papermill": {
     "duration": 0.05193,
     "end_time": "2021-01-08T10:19:56.592264",
     "exception": false,
     "start_time": "2021-01-08T10:19:56.540334",
     "status": "completed"
    },
    "tags": []
   },
   "source": [
    "##### **Build train and validation data generators**"
   ]
  },
  {
   "cell_type": "code",
   "execution_count": 15,
   "metadata": {
    "execution": {
     "iopub.execute_input": "2021-01-08T10:19:56.689715Z",
     "iopub.status.busy": "2021-01-08T10:19:56.688846Z",
     "iopub.status.idle": "2021-01-08T10:19:56.692480Z",
     "shell.execute_reply": "2021-01-08T10:19:56.693088Z"
    },
    "id": "HERnPWEBc83D",
    "papermill": {
     "duration": 0.056228,
     "end_time": "2021-01-08T10:19:56.693279",
     "exception": false,
     "start_time": "2021-01-08T10:19:56.637051",
     "status": "completed"
    },
    "tags": []
   },
   "outputs": [],
   "source": [
    " \n",
    "train_generator = DataGenerator(df_train, batch_size=32, normalize_image=True, normalize_coordinates=True, scalers=scalers_dict)\n",
    "val_generator =  DataGenerator(df_test, batch_size=32,  augment=False, normalize_image=True,  normalize_coordinates=True,  scalers=train_generator.scalers)"
   ]
  },
  {
   "cell_type": "markdown",
   "metadata": {
    "id": "Ctn-Hf0Nc5p_",
    "papermill": {
     "duration": 0.043702,
     "end_time": "2021-01-08T10:19:56.781323",
     "exception": false,
     "start_time": "2021-01-08T10:19:56.737621",
     "status": "completed"
    },
    "tags": []
   },
   "source": [
    "#### **Build a Prediction model**"
   ]
  },
  {
   "cell_type": "code",
   "execution_count": 16,
   "metadata": {
    "execution": {
     "iopub.execute_input": "2021-01-08T10:19:56.881366Z",
     "iopub.status.busy": "2021-01-08T10:19:56.880509Z",
     "iopub.status.idle": "2021-01-08T10:19:56.897513Z",
     "shell.execute_reply": "2021-01-08T10:19:56.898581Z"
    },
    "id": "WHg8_6ZgPvoJ",
    "papermill": {
     "duration": 0.073541,
     "end_time": "2021-01-08T10:19:56.898733",
     "exception": false,
     "start_time": "2021-01-08T10:19:56.825192",
     "status": "completed"
    },
    "tags": []
   },
   "outputs": [],
   "source": [
    "from tensorflow.keras.applications import EfficientNetB0, VGG16\n",
    "\n",
    "def create_efficientNet(nbr_features):\n",
    "    inputs = tf.keras.Input(shape=(96, 96, 3))  \n",
    "    # This option include_top excludes the final Dense layer.\n",
    "    # This allows us to replace the top layer with custom layers which allows the use of  EfficientNet as a feature extractor in a transfer learning workflow\n",
    "    model = EfficientNetB0(include_top=False, input_tensor=inputs, weights=\"imagenet\")#, drop_connect_rate=0.1)\n",
    "    # Freeze the pretrained weights\n",
    "    model.trainable = False\n",
    "\n",
    "    # Rebuild top\n",
    "    x = GlobalAveragePooling2D()(model.output)    \n",
    "    x = BatchNormalization()(x)\n",
    "    x = Dropout(0.4)(x)\n",
    "    outputs = Dense(nbr_features,activation='relu')(x)\n",
    "\n",
    "    # Compile\n",
    "    model = keras.Model(inputs, outputs)\n",
    "    return model\n",
    "\n",
    "def create_vgg16(nbr_features):\n",
    "\n",
    "    #Get back the convolutional part of a VGG network trained on ImageNet\n",
    "    model = VGG16(weights='imagenet', include_top=False)\n",
    "    model.trainable = False\n",
    "    #Create your own input format (here 3x200x200)\n",
    "    inputs = Input(shape=(96,96,3))\n",
    "\n",
    "    #Use the generated model \n",
    "    output_vgg16 = model(inputs)\n",
    "\n",
    "    #Add the fully-connected layers \n",
    "    x = Flatten()(output_vgg16)\n",
    "    x = Dense(64, activation='relu')(x)\n",
    "    # x = Dense(32, activation='relu')(x)\n",
    "    outputs = Dense(nbr_features, activation='relu')(x)\n",
    "\n",
    "    #Create your own model \n",
    "    model = keras.Model(inputs=inputs, outputs=outputs)\n",
    "    return model\n",
    "\n",
    "\n",
    "def create_simple_model(nbr_features):\n",
    "  # vanillia CNN model\n",
    "    model = Sequential()\n",
    "    model.add(Conv2D(16, kernel_size=(5, 5), activation='relu', input_shape=(96, 96 , 1)))\n",
    "    model.add(MaxPooling2D(pool_size=(2, 2), strides=2))\n",
    "    model.add(Conv2D(48, (3, 3), activation='relu'))\n",
    "    model.add(MaxPooling2D(pool_size=(2, 2), strides=2))\n",
    "    model.add(Conv2D(64, (3, 3), activation='relu'))\n",
    "    model.add(MaxPooling2D(pool_size=(2, 2), strides=2))\n",
    "    model.add(Conv2D(64, (2, 2), activation='relu'))\n",
    "    model.add(Flatten())\n",
    "    model.add(Dense(100, activation='relu'))\n",
    "    model.add(Dense(nbr_features, activation='relu'))\n",
    "    return model\n"
   ]
  },
  {
   "cell_type": "code",
   "execution_count": 17,
   "metadata": {
    "execution": {
     "iopub.execute_input": "2021-01-08T10:19:57.001680Z",
     "iopub.status.busy": "2021-01-08T10:19:57.000765Z",
     "iopub.status.idle": "2021-01-08T10:20:00.846309Z",
     "shell.execute_reply": "2021-01-08T10:20:00.845325Z"
    },
    "id": "ofh5qnydxTwZ",
    "outputId": "07bd6fcc-e67a-409e-813c-a4d839c5966b",
    "papermill": {
     "duration": 3.900565,
     "end_time": "2021-01-08T10:20:00.846454",
     "exception": false,
     "start_time": "2021-01-08T10:19:56.945889",
     "status": "completed"
    },
    "tags": []
   },
   "outputs": [
    {
     "name": "stdout",
     "output_type": "stream",
     "text": [
      "Downloading data from https://storage.googleapis.com/tensorflow/keras-applications/vgg16/vgg16_weights_tf_dim_ordering_tf_kernels_notop.h5\n",
      "58892288/58889256 [==============================] - 1s 0us/step\n"
     ]
    }
   ],
   "source": [
    "nbr_features = 2\n",
    "# create the model\n",
    "# model = create_efficientNet(nbr_features)\n",
    "model = create_vgg16(nbr_features)"
   ]
  },
  {
   "cell_type": "markdown",
   "metadata": {
    "id": "cJ8vd7UwtrYg",
    "papermill": {
     "duration": 0.038021,
     "end_time": "2021-01-08T10:20:00.924425",
     "exception": false,
     "start_time": "2021-01-08T10:20:00.886404",
     "status": "completed"
    },
    "tags": []
   },
   "source": [
    "#### **Define custom loss and compile the model**"
   ]
  },
  {
   "cell_type": "code",
   "execution_count": 18,
   "metadata": {
    "execution": {
     "iopub.execute_input": "2021-01-08T10:20:01.026357Z",
     "iopub.status.busy": "2021-01-08T10:20:01.025215Z",
     "iopub.status.idle": "2021-01-08T10:20:01.031711Z",
     "shell.execute_reply": "2021-01-08T10:20:01.032156Z"
    },
    "id": "tXRRM-KrLjfE",
    "papermill": {
     "duration": 0.060875,
     "end_time": "2021-01-08T10:20:01.032284",
     "exception": false,
     "start_time": "2021-01-08T10:20:00.971409",
     "status": "completed"
    },
    "tags": []
   },
   "outputs": [],
   "source": [
    "import tensorflow.keras.backend as K\n",
    "\n",
    "def euclidean_distance_loss(y_true, y_pred):\n",
    "  #     Euclidean distance loss\n",
    "    return K.sqrt(K.sum(K.square(y_pred - y_true), axis=-1))\n",
    "\n",
    "def absolute_tanh(x):\n",
    "    return K.abs(K.tanh(x))\n",
    "\n",
    "# MeanAbsoluteError(), MeanAbsolutePercentageError()\n",
    "model.compile(loss=euclidean_distance_loss,\n",
    "              optimizer=keras.optimizers.Adam(learning_rate=1e-4),\n",
    "              )\n",
    "\n",
    "def unfreeze_model(model):\n",
    "    # We unfreeze the top 5 layers while leaving BatchNorm layers frozen\n",
    "    for layer in model.layers[-15:]:\n",
    "        if not isinstance(layer, keras.layers.BatchNormalization):\n",
    "            layer.trainable = True"
   ]
  },
  {
   "cell_type": "markdown",
   "metadata": {
    "id": "XOn3P3dcvy7T",
    "papermill": {
     "duration": 0.037905,
     "end_time": "2021-01-08T10:20:01.108231",
     "exception": false,
     "start_time": "2021-01-08T10:20:01.070326",
     "status": "completed"
    },
    "tags": []
   },
   "source": [
    "#### **Start training**"
   ]
  },
  {
   "cell_type": "code",
   "execution_count": 19,
   "metadata": {
    "execution": {
     "iopub.execute_input": "2021-01-08T10:20:01.194360Z",
     "iopub.status.busy": "2021-01-08T10:20:01.193462Z",
     "iopub.status.idle": "2021-01-08T10:22:18.497341Z",
     "shell.execute_reply": "2021-01-08T10:22:18.496776Z"
    },
    "id": "7AWepBFAc9LR",
    "outputId": "98eb52a4-9bf9-4246-baab-cd0b9085d99c",
    "papermill": {
     "duration": 137.351038,
     "end_time": "2021-01-08T10:22:18.497465",
     "exception": false,
     "start_time": "2021-01-08T10:20:01.146427",
     "status": "completed"
    },
    "tags": []
   },
   "outputs": [
    {
     "name": "stdout",
     "output_type": "stream",
     "text": [
      "Epoch 1/80\n",
      "56/56 [==============================] - 2s 31ms/step - loss: 0.1869 - val_loss: 0.1828\n",
      "Epoch 2/80\n",
      "56/56 [==============================] - 2s 31ms/step - loss: 0.1251 - val_loss: 0.1582\n",
      "Epoch 3/80\n",
      "56/56 [==============================] - 2s 27ms/step - loss: 0.1135 - val_loss: 0.1409\n",
      "Epoch 4/80\n",
      "56/56 [==============================] - 2s 27ms/step - loss: 0.1054 - val_loss: 0.1397\n",
      "Epoch 5/80\n",
      "56/56 [==============================] - 2s 27ms/step - loss: 0.1001 - val_loss: 0.1155\n",
      "Epoch 6/80\n",
      "56/56 [==============================] - 2s 28ms/step - loss: 0.0940 - val_loss: 0.1096\n",
      "Epoch 7/80\n",
      "56/56 [==============================] - 2s 33ms/step - loss: 0.0884 - val_loss: 0.1051\n",
      "Epoch 8/80\n",
      "56/56 [==============================] - 1s 27ms/step - loss: 0.0908 - val_loss: 0.1074\n",
      "Epoch 9/80\n",
      "56/56 [==============================] - 2s 31ms/step - loss: 0.0922 - val_loss: 0.1088\n",
      "Epoch 10/80\n",
      "56/56 [==============================] - 1s 26ms/step - loss: 0.0829 - val_loss: 0.0975\n",
      "Epoch 11/80\n",
      "56/56 [==============================] - 2s 28ms/step - loss: 0.0821 - val_loss: 0.1084\n",
      "Epoch 12/80\n",
      "56/56 [==============================] - 1s 27ms/step - loss: 0.0819 - val_loss: 0.1008\n",
      "Epoch 13/80\n",
      "56/56 [==============================] - 2s 27ms/step - loss: 0.0789 - val_loss: 0.0922\n",
      "Epoch 14/80\n",
      "56/56 [==============================] - 1s 27ms/step - loss: 0.0739 - val_loss: 0.0893\n",
      "Epoch 15/80\n",
      "56/56 [==============================] - 2s 28ms/step - loss: 0.0746 - val_loss: 0.0860\n",
      "Epoch 16/80\n",
      "56/56 [==============================] - 2s 30ms/step - loss: 0.0746 - val_loss: 0.0870\n",
      "Epoch 17/80\n",
      "56/56 [==============================] - 2s 27ms/step - loss: 0.0739 - val_loss: 0.1031\n",
      "Epoch 18/80\n",
      "56/56 [==============================] - 2s 27ms/step - loss: 0.0696 - val_loss: 0.0831\n",
      "Epoch 19/80\n",
      "56/56 [==============================] - 2s 27ms/step - loss: 0.0699 - val_loss: 0.0870\n",
      "Epoch 20/80\n",
      "56/56 [==============================] - 2s 27ms/step - loss: 0.0722 - val_loss: 0.0914\n",
      "Epoch 21/80\n",
      "56/56 [==============================] - 2s 27ms/step - loss: 0.0695 - val_loss: 0.0865\n",
      "Epoch 22/80\n",
      "56/56 [==============================] - 2s 30ms/step - loss: 0.0688 - val_loss: 0.0877\n",
      "Epoch 23/80\n",
      "56/56 [==============================] - 2s 29ms/step - loss: 0.0657 - val_loss: 0.0864\n",
      "Epoch 24/80\n",
      "56/56 [==============================] - 2s 28ms/step - loss: 0.0639 - val_loss: 0.0805\n",
      "Epoch 25/80\n",
      "56/56 [==============================] - 2s 28ms/step - loss: 0.0649 - val_loss: 0.0925\n",
      "Epoch 26/80\n",
      "56/56 [==============================] - 2s 30ms/step - loss: 0.0645 - val_loss: 0.0848\n",
      "Epoch 27/80\n",
      "56/56 [==============================] - 2s 31ms/step - loss: 0.0628 - val_loss: 0.0890\n",
      "Epoch 28/80\n",
      "56/56 [==============================] - 2s 27ms/step - loss: 0.0638 - val_loss: 0.0794\n",
      "Epoch 29/80\n",
      "56/56 [==============================] - 2s 32ms/step - loss: 0.0590 - val_loss: 0.0852\n",
      "Epoch 30/80\n",
      "56/56 [==============================] - 2s 29ms/step - loss: 0.0598 - val_loss: 0.0793\n",
      "Epoch 31/80\n",
      "56/56 [==============================] - 2s 27ms/step - loss: 0.0602 - val_loss: 0.0793\n",
      "Epoch 32/80\n",
      "56/56 [==============================] - 2s 27ms/step - loss: 0.0630 - val_loss: 0.0803\n",
      "Epoch 33/80\n",
      "56/56 [==============================] - 2s 33ms/step - loss: 0.0594 - val_loss: 0.0821\n",
      "Epoch 34/80\n",
      "56/56 [==============================] - 2s 28ms/step - loss: 0.0603 - val_loss: 0.0787\n",
      "Epoch 35/80\n",
      "56/56 [==============================] - 2s 39ms/step - loss: 0.0585 - val_loss: 0.0815\n",
      "Epoch 36/80\n",
      "56/56 [==============================] - 2s 31ms/step - loss: 0.0638 - val_loss: 0.0814\n",
      "Epoch 37/80\n",
      "56/56 [==============================] - 2s 28ms/step - loss: 0.0597 - val_loss: 0.0803\n",
      "Epoch 38/80\n",
      "56/56 [==============================] - 2s 27ms/step - loss: 0.0586 - val_loss: 0.0761\n",
      "Epoch 39/80\n",
      "56/56 [==============================] - 2s 29ms/step - loss: 0.0594 - val_loss: 0.0760\n",
      "Epoch 40/80\n",
      "56/56 [==============================] - 2s 27ms/step - loss: 0.0575 - val_loss: 0.0791\n",
      "Epoch 41/80\n",
      "56/56 [==============================] - 1s 27ms/step - loss: 0.0584 - val_loss: 0.0760\n",
      "Epoch 42/80\n",
      "56/56 [==============================] - 2s 31ms/step - loss: 0.0566 - val_loss: 0.0746\n",
      "Epoch 43/80\n",
      "56/56 [==============================] - 1s 27ms/step - loss: 0.0551 - val_loss: 0.0746\n",
      "Epoch 44/80\n",
      "56/56 [==============================] - 2s 27ms/step - loss: 0.0569 - val_loss: 0.0777\n",
      "Epoch 45/80\n",
      "56/56 [==============================] - 2s 28ms/step - loss: 0.0574 - val_loss: 0.0791\n",
      "Epoch 46/80\n",
      "56/56 [==============================] - 2s 34ms/step - loss: 0.0578 - val_loss: 0.0784\n",
      "Epoch 47/80\n",
      "56/56 [==============================] - 2s 27ms/step - loss: 0.0543 - val_loss: 0.0762\n",
      "Epoch 48/80\n",
      "56/56 [==============================] - 2s 30ms/step - loss: 0.0571 - val_loss: 0.0759\n",
      "Epoch 49/80\n",
      "56/56 [==============================] - 2s 27ms/step - loss: 0.0557 - val_loss: 0.0746\n",
      "Epoch 50/80\n",
      "56/56 [==============================] - 1s 27ms/step - loss: 0.0542 - val_loss: 0.0750\n",
      "Epoch 51/80\n",
      "56/56 [==============================] - 2s 27ms/step - loss: 0.0574 - val_loss: 0.0744\n",
      "Epoch 52/80\n",
      "56/56 [==============================] - 2s 28ms/step - loss: 0.0534 - val_loss: 0.0769\n",
      "Epoch 53/80\n",
      "56/56 [==============================] - 2s 31ms/step - loss: 0.0544 - val_loss: 0.0742\n",
      "Epoch 54/80\n",
      "56/56 [==============================] - 2s 27ms/step - loss: 0.0560 - val_loss: 0.0735\n",
      "Epoch 55/80\n",
      "56/56 [==============================] - 2s 31ms/step - loss: 0.0557 - val_loss: 0.0757\n",
      "Epoch 56/80\n",
      "56/56 [==============================] - 2s 27ms/step - loss: 0.0538 - val_loss: 0.0746\n",
      "Epoch 57/80\n",
      "56/56 [==============================] - 1s 27ms/step - loss: 0.0544 - val_loss: 0.0713\n",
      "Epoch 58/80\n",
      "56/56 [==============================] - 2s 27ms/step - loss: 0.0513 - val_loss: 0.0697\n",
      "Epoch 59/80\n",
      "56/56 [==============================] - 1s 27ms/step - loss: 0.0536 - val_loss: 0.0704\n",
      "Epoch 60/80\n",
      "56/56 [==============================] - 2s 28ms/step - loss: 0.0511 - val_loss: 0.0697\n",
      "Epoch 61/80\n",
      "56/56 [==============================] - 2s 27ms/step - loss: 0.0538 - val_loss: 0.0749\n",
      "Epoch 62/80\n",
      "56/56 [==============================] - 2s 32ms/step - loss: 0.0568 - val_loss: 0.0803\n",
      "Epoch 63/80\n",
      "56/56 [==============================] - 2s 28ms/step - loss: 0.0537 - val_loss: 0.0704\n",
      "Epoch 64/80\n",
      "56/56 [==============================] - 2s 27ms/step - loss: 0.0510 - val_loss: 0.0690\n",
      "Epoch 65/80\n",
      "56/56 [==============================] - 2s 34ms/step - loss: 0.0538 - val_loss: 0.0722\n",
      "Epoch 66/80\n",
      "56/56 [==============================] - 2s 27ms/step - loss: 0.0532 - val_loss: 0.0739\n",
      "Epoch 67/80\n",
      "56/56 [==============================] - 2s 27ms/step - loss: 0.0518 - val_loss: 0.0720\n",
      "Epoch 68/80\n",
      "56/56 [==============================] - 2s 31ms/step - loss: 0.0527 - val_loss: 0.0833\n",
      "Epoch 69/80\n",
      "56/56 [==============================] - 2s 35ms/step - loss: 0.0519 - val_loss: 0.0703\n",
      "Epoch 70/80\n",
      "56/56 [==============================] - 2s 29ms/step - loss: 0.0516 - val_loss: 0.0702\n",
      "Epoch 71/80\n",
      "56/56 [==============================] - 2s 31ms/step - loss: 0.0503 - val_loss: 0.0727\n",
      "Epoch 72/80\n",
      "56/56 [==============================] - 2s 32ms/step - loss: 0.0519 - val_loss: 0.0710\n",
      "Epoch 73/80\n",
      "56/56 [==============================] - 2s 28ms/step - loss: 0.0515 - val_loss: 0.0724\n",
      "Epoch 74/80\n",
      "56/56 [==============================] - 2s 27ms/step - loss: 0.0535 - val_loss: 0.0710\n",
      "Epoch 75/80\n",
      "56/56 [==============================] - 2s 32ms/step - loss: 0.0514 - val_loss: 0.0717\n",
      "Epoch 76/80\n",
      "56/56 [==============================] - 2s 28ms/step - loss: 0.0540 - val_loss: 0.0721\n",
      "Epoch 77/80\n",
      "56/56 [==============================] - 2s 27ms/step - loss: 0.0545 - val_loss: 0.0766\n",
      "Epoch 78/80\n",
      "56/56 [==============================] - 2s 27ms/step - loss: 0.0530 - val_loss: 0.0753\n",
      "Epoch 79/80\n",
      "56/56 [==============================] - 2s 27ms/step - loss: 0.0515 - val_loss: 0.0710\n",
      "Epoch 80/80\n",
      "56/56 [==============================] - 2s 28ms/step - loss: 0.0484 - val_loss: 0.0706\n"
     ]
    }
   ],
   "source": [
    "#10 + 10 +10\n",
    "unfreeze_model(model)\n",
    "\n",
    "history = model.fit(train_generator, \n",
    "                    validation_data=val_generator,\n",
    "                    epochs=80)"
   ]
  },
  {
   "cell_type": "markdown",
   "metadata": {
    "id": "HvHov45D2qwx",
    "papermill": {
     "duration": 0.81011,
     "end_time": "2021-01-08T10:22:19.935379",
     "exception": false,
     "start_time": "2021-01-08T10:22:19.125269",
     "status": "completed"
    },
    "tags": []
   },
   "source": [
    "#### **Evaluate the model**"
   ]
  },
  {
   "cell_type": "code",
   "execution_count": 20,
   "metadata": {
    "execution": {
     "iopub.execute_input": "2021-01-08T10:22:21.302342Z",
     "iopub.status.busy": "2021-01-08T10:22:21.301172Z",
     "iopub.status.idle": "2021-01-08T10:22:21.609796Z",
     "shell.execute_reply": "2021-01-08T10:22:21.609216Z"
    },
    "id": "RYKhDBx9MgTN",
    "outputId": "52aeb591-a793-4482-b854-38914ebd81a9",
    "papermill": {
     "duration": 0.962298,
     "end_time": "2021-01-08T10:22:21.609912",
     "exception": false,
     "start_time": "2021-01-08T10:22:20.647614",
     "status": "completed"
    },
    "tags": []
   },
   "outputs": [
    {
     "name": "stdout",
     "output_type": "stream",
     "text": [
      "14/14 [==============================] - 0s 16ms/step - loss: 0.0704\n"
     ]
    },
    {
     "data": {
      "text/plain": [
       "0.07044496387243271"
      ]
     },
     "execution_count": 20,
     "metadata": {},
     "output_type": "execute_result"
    }
   ],
   "source": [
    "model.evaluate(val_generator)"
   ]
  },
  {
   "cell_type": "code",
   "execution_count": 21,
   "metadata": {
    "execution": {
     "iopub.execute_input": "2021-01-08T10:22:22.946323Z",
     "iopub.status.busy": "2021-01-08T10:22:22.945659Z",
     "iopub.status.idle": "2021-01-08T10:22:23.175394Z",
     "shell.execute_reply": "2021-01-08T10:22:23.174833Z"
    },
    "id": "FYqFSqoqe8Do",
    "outputId": "acccfe34-e1ed-4dee-db6f-d388e7efb6c5",
    "papermill": {
     "duration": 0.885402,
     "end_time": "2021-01-08T10:22:23.175501",
     "exception": false,
     "start_time": "2021-01-08T10:22:22.290099",
     "status": "completed"
    },
    "tags": []
   },
   "outputs": [
    {
     "data": {
      "text/plain": [
       "Text(0.5, 1.0, 'Training and validation loss')"
      ]
     },
     "execution_count": 21,
     "metadata": {},
     "output_type": "execute_result"
    },
    {
     "data": {
      "image/png": "[encoded data removed]",
      "text/plain": [
       "<Figure size 432x288 with 1 Axes>"
      ]
     },
     "metadata": {
      "needs_background": "light"
     },
     "output_type": "display_data"
    }
   ],
   "source": [
    "# Retrieve a list of list results on training and test data sets for each training epoch\n",
    "loss     = history.history['loss']\n",
    "val_loss = history.history['val_loss']\n",
    "epochs   = range(len(loss))\n",
    "# Plot training and validation loss per epoch\n",
    "plt.plot(epochs,loss, color='red' , label='training loss')\n",
    "plt.plot(epochs, val_loss, label='validation loss')\n",
    "plt.legend()\n",
    "plt.title ('Training and validation loss')"
   ]
  },
  {
   "cell_type": "markdown",
   "metadata": {
    "id": "BIr2js1Z2ipI",
    "papermill": {
     "duration": 0.752531,
     "end_time": "2021-01-08T10:22:24.819902",
     "exception": false,
     "start_time": "2021-01-08T10:22:24.067371",
     "status": "completed"
    },
    "tags": []
   },
   "source": [
    "#### **Test the model on random images**"
   ]
  },
  {
   "cell_type": "code",
   "execution_count": 22,
   "metadata": {
    "execution": {
     "iopub.execute_input": "2021-01-08T10:22:26.081874Z",
     "iopub.status.busy": "2021-01-08T10:22:26.081244Z",
     "iopub.status.idle": "2021-01-08T10:22:26.088122Z",
     "shell.execute_reply": "2021-01-08T10:22:26.087596Z"
    },
    "id": "MnxNCLAA1xvB",
    "outputId": "16288291-87dc-4ac3-ba1f-30a59d2fa79a",
    "papermill": {
     "duration": 0.635496,
     "end_time": "2021-01-08T10:22:26.088226",
     "exception": false,
     "start_time": "2021-01-08T10:22:25.452730",
     "status": "completed"
    },
    "tags": []
   },
   "outputs": [
    {
     "data": {
      "text/plain": [
       "{'right_eye_outer_corner_x': MinMaxScaler(),\n",
       " 'right_eye_outer_corner_y': MinMaxScaler()}"
      ]
     },
     "execution_count": 22,
     "metadata": {},
     "output_type": "execute_result"
    }
   ],
   "source": [
    "scalers_dict"
   ]
  },
  {
   "cell_type": "code",
   "execution_count": 23,
   "metadata": {
    "execution": {
     "iopub.execute_input": "2021-01-08T10:22:27.357112Z",
     "iopub.status.busy": "2021-01-08T10:22:27.356230Z",
     "iopub.status.idle": "2021-01-08T10:22:27.813224Z",
     "shell.execute_reply": "2021-01-08T10:22:27.812712Z"
    },
    "id": "EbY6XCqHPvoO",
    "outputId": "85d7b89c-efa4-405a-986a-92f79d589697",
    "papermill": {
     "duration": 1.093394,
     "end_time": "2021-01-08T10:22:27.813338",
     "exception": false,
     "start_time": "2021-01-08T10:22:26.719944",
     "status": "completed"
    },
    "tags": []
   },
   "outputs": [
    {
     "name": "stdout",
     "output_type": "stream",
     "text": [
      "[0.337328   0.13535994]\n",
      "[23.35909 31.29935]\n",
      "[[0.32139456 0.15433082]]\n",
      "[[22.44374 32.16486]]\n"
     ]
    },
    {
     "data": {
      "image/png": "[encoded data removed]",
      "text/plain": [
       "<Figure size 432x288 with 1 Axes>"
      ]
     },
     "metadata": {
      "needs_background": "light"
     },
     "output_type": "display_data"
    }
   ],
   "source": [
    "batch = val_generator.__getitem__(2)\n",
    "j= np.random.randint(0,len(batch[0]))\n",
    "# check original image \n",
    "print(batch[1][j:j+1][0])\n",
    "actual_y= batch[1][j:j+1][0]\n",
    "actual_y[0] = scalers_dict[feature_name+\"_x\"].inverse_transform([[actual_y[0]]])\n",
    "actual_y[1] = scalers_dict[feature_name+\"_y\"].inverse_transform([[actual_y[1]]])\n",
    "print(actual_y)\n",
    "##############################################\n",
    "predicted_y = model.predict(batch[0][j:j+1])\n",
    "print(predicted_y)\n",
    "# uncomment in case we have used the scaling\n",
    "predicted_y[:,:1] = scalers_dict[feature_name+\"_x\"].inverse_transform(predicted_y[:,:1])\n",
    "predicted_y[:,1:] = scalers_dict[feature_name+\"_y\"].inverse_transform(predicted_y[:,1:])\n",
    "print(predicted_y)\n",
    "##############################################3\n",
    "visualize_image(batch[0][j:j+1].reshape(96,96,3)[:,:,0],actual_y, predicted_y[0])"
   ]
  },
  {
   "cell_type": "markdown",
   "metadata": {
    "id": "Q3sMZnVZ3-dd",
    "papermill": {
     "duration": 0.622548,
     "end_time": "2021-01-08T10:22:29.068652",
     "exception": false,
     "start_time": "2021-01-08T10:22:28.446104",
     "status": "completed"
    },
    "tags": []
   },
   "source": [
    "**Its very impressive how close are the predicted corrdinates to the original ones**"
   ]
  },
  {
   "cell_type": "markdown",
   "metadata": {
    "id": "KOW_zMQ5PvoS",
    "papermill": {
     "duration": 0.626356,
     "end_time": "2021-01-08T10:22:30.357856",
     "exception": false,
     "start_time": "2021-01-08T10:22:29.731500",
     "status": "completed"
    },
    "tags": []
   },
   "source": [
    "#### **Test on missing data**"
   ]
  },
  {
   "cell_type": "code",
   "execution_count": 24,
   "metadata": {
    "execution": {
     "iopub.execute_input": "2021-01-08T10:22:31.877935Z",
     "iopub.status.busy": "2021-01-08T10:22:31.876153Z",
     "iopub.status.idle": "2021-01-08T10:22:31.880248Z",
     "shell.execute_reply": "2021-01-08T10:22:31.879719Z"
    },
    "id": "zKZ1t2qoPvoS",
    "outputId": "2c2688c2-cb6d-4ad7-dad1-9fabe60c1d13",
    "papermill": {
     "duration": 0.652529,
     "end_time": "2021-01-08T10:22:31.880348",
     "exception": false,
     "start_time": "2021-01-08T10:22:31.227819",
     "status": "completed"
    },
    "tags": []
   },
   "outputs": [
    {
     "data": {
      "text/plain": [
       "'right_eye_outer_corner'"
      ]
     },
     "execution_count": 24,
     "metadata": {},
     "output_type": "execute_result"
    }
   ],
   "source": [
    "feature_name"
   ]
  },
  {
   "cell_type": "code",
   "execution_count": 25,
   "metadata": {
    "execution": {
     "iopub.execute_input": "2021-01-08T10:22:33.146589Z",
     "iopub.status.busy": "2021-01-08T10:22:33.144718Z",
     "iopub.status.idle": "2021-01-08T10:22:33.147280Z",
     "shell.execute_reply": "2021-01-08T10:22:33.147772Z"
    },
    "id": "BlsfoMj3PvoT",
    "papermill": {
     "duration": 0.635295,
     "end_time": "2021-01-08T10:22:33.147893",
     "exception": false,
     "start_time": "2021-01-08T10:22:32.512598",
     "status": "completed"
    },
    "tags": []
   },
   "outputs": [],
   "source": [
    "rgb_channels= True\n",
    "normalize_image = True\n",
    "def pre_process_images(image):\n",
    "    image = np.vstack(image).reshape(-1, 96, 96, 1).astype(np.float32)\n",
    "    if rgb_channels:\n",
    "        image = np.repeat(image,3,-1)\n",
    "    if normalize_image == True:\n",
    "        image = image/255\n",
    "    return image"
   ]
  },
  {
   "cell_type": "code",
   "execution_count": 26,
   "metadata": {
    "execution": {
     "iopub.execute_input": "2021-01-08T10:22:34.432840Z",
     "iopub.status.busy": "2021-01-08T10:22:34.431057Z",
     "iopub.status.idle": "2021-01-08T10:22:34.433665Z",
     "shell.execute_reply": "2021-01-08T10:22:34.434218Z"
    },
    "id": "NsF-GdN6PvoU",
    "papermill": {
     "duration": 0.637123,
     "end_time": "2021-01-08T10:22:34.434379",
     "exception": false,
     "start_time": "2021-01-08T10:22:33.797256",
     "status": "completed"
    },
    "tags": []
   },
   "outputs": [],
   "source": [
    "missing_data = dic_missing_data[feature_name]"
   ]
  },
  {
   "cell_type": "code",
   "execution_count": 27,
   "metadata": {
    "execution": {
     "iopub.execute_input": "2021-01-08T10:22:35.707042Z",
     "iopub.status.busy": "2021-01-08T10:22:35.706006Z",
     "iopub.status.idle": "2021-01-08T10:22:35.710426Z",
     "shell.execute_reply": "2021-01-08T10:22:35.709811Z"
    },
    "id": "xgfXwWOMDj0N",
    "outputId": "c74688b4-7479-421a-9a07-3925a7096300",
    "papermill": {
     "duration": 0.651874,
     "end_time": "2021-01-08T10:22:35.710539",
     "exception": false,
     "start_time": "2021-01-08T10:22:35.058665",
     "status": "completed"
    },
    "tags": []
   },
   "outputs": [
    {
     "data": {
      "text/plain": [
       "4781"
      ]
     },
     "execution_count": 27,
     "metadata": {},
     "output_type": "execute_result"
    }
   ],
   "source": [
    "len(missing_data)"
   ]
  },
  {
   "cell_type": "code",
   "execution_count": 28,
   "metadata": {
    "execution": {
     "iopub.execute_input": "2021-01-08T10:22:36.985260Z",
     "iopub.status.busy": "2021-01-08T10:22:36.984317Z",
     "iopub.status.idle": "2021-01-08T10:22:37.188611Z",
     "shell.execute_reply": "2021-01-08T10:22:37.188127Z"
    },
    "id": "7janB8HOPvoU",
    "outputId": "5698bbf5-06b1-44d6-99e4-3920e4ea689a",
    "papermill": {
     "duration": 0.845626,
     "end_time": "2021-01-08T10:22:37.188727",
     "exception": false,
     "start_time": "2021-01-08T10:22:36.343101",
     "status": "completed"
    },
    "tags": []
   },
   "outputs": [
    {
     "name": "stdout",
     "output_type": "stream",
     "text": [
      "[[0.3105653  0.42540264]]\n",
      "[[21.821615 44.53196 ]]\n"
     ]
    },
    {
     "data": {
      "image/png": "[encoded data removed]",
      "text/plain": [
       "<Figure size 432x288 with 1 Axes>"
      ]
     },
     "metadata": {
      "needs_background": "light"
     },
     "output_type": "display_data"
    }
   ],
   "source": [
    "# take a random image and test on it\n",
    "l = np.random.randint(0, len(missing_data)-1)\n",
    "image = missing_data.iloc[l][\"Image\"]\n",
    "image = pre_process_images(image)\n",
    "predicted_y = model.predict(image)\n",
    "print(predicted_y)\n",
    "# uncomment in case we have used the scaling\n",
    "predicted_y[:,:1] = scalers_dict[feature_name+\"_x\"].inverse_transform(predicted_y[:,:1])\n",
    "predicted_y[:,1:] = scalers_dict[feature_name+\"_y\"].inverse_transform(predicted_y[:,1:])\n",
    "print(predicted_y)\n",
    "visualize_image(image.reshape(96,96,3)[:,:,0],None, predicted_y[0])"
   ]
  },
  {
   "cell_type": "markdown",
   "metadata": {
    "id": "eCtvSBv2PvoV",
    "papermill": {
     "duration": 0.634232,
     "end_time": "2021-01-08T10:22:38.474712",
     "exception": false,
     "start_time": "2021-01-08T10:22:37.840480",
     "status": "completed"
    },
    "tags": []
   },
   "source": [
    "#### **Save model**"
   ]
  },
  {
   "cell_type": "code",
   "execution_count": 29,
   "metadata": {
    "execution": {
     "iopub.execute_input": "2021-01-08T10:22:39.750956Z",
     "iopub.status.busy": "2021-01-08T10:22:39.750106Z",
     "iopub.status.idle": "2021-01-08T10:22:39.886509Z",
     "shell.execute_reply": "2021-01-08T10:22:39.885391Z"
    },
    "id": "PHDvP_QL39lh",
    "papermill": {
     "duration": 0.785505,
     "end_time": "2021-01-08T10:22:39.886634",
     "exception": false,
     "start_time": "2021-01-08T10:22:39.101129",
     "status": "completed"
    },
    "tags": []
   },
   "outputs": [],
   "source": [
    "# save model and architecture to single file\n",
    "model.save(model_path)"
   ]
  },
  {
   "cell_type": "code",
   "execution_count": null,
   "metadata": {
    "id": "ERAMk1EHPvoX",
    "papermill": {
     "duration": 0.6573,
     "end_time": "2021-01-08T10:22:41.193653",
     "exception": false,
     "start_time": "2021-01-08T10:22:40.536353",
     "status": "completed"
    },
    "tags": []
   },
   "outputs": [],
   "source": []
  },
  {
   "cell_type": "code",
   "execution_count": null,
   "metadata": {
    "papermill": {
     "duration": 0.657794,
     "end_time": "2021-01-08T10:22:42.703112",
     "exception": false,
     "start_time": "2021-01-08T10:22:42.045318",
     "status": "completed"
    },
    "tags": []
   },
   "outputs": [],
   "source": []
  }
 ],
 "metadata": {
  "kernelspec": {
   "display_name": "Python 3",
   "language": "python",
   "name": "python3"
  },
  "language_info": {
   "codemirror_mode": {
    "name": "ipython",
    "version": 3
   },
   "file_extension": ".py",
   "mimetype": "text/x-python",
   "name": "python",
   "nbconvert_exporter": "python",
   "pygments_lexer": "ipython3",
   "version": "3.7.6"
  },
  "papermill": {
   "duration": 189.112673,
   "end_time": "2021-01-08T10:22:45.182889",
   "environment_variables": {},
   "exception": null,
   "input_path": "__notebook__.ipynb",
   "output_path": "__notebook__.ipynb",
   "parameters": {},
   "start_time": "2021-01-08T10:19:36.070216",
   "version": "2.1.0"
  }
 },
 "nbformat": 4,
 "nbformat_minor": 4
}
