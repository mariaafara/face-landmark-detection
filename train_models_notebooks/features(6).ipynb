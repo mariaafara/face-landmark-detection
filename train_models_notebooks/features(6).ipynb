{
 "cells": [
  {
   "cell_type": "code",
   "execution_count": 1,
   "metadata": {
    "execution": {
     "iopub.execute_input": "2021-01-08T11:18:45.571485Z",
     "iopub.status.busy": "2021-01-08T11:18:45.570768Z",
     "iopub.status.idle": "2021-01-08T11:18:45.573186Z",
     "shell.execute_reply": "2021-01-08T11:18:45.573683Z"
    },
    "id": "mt9t-79OPvng",
    "papermill": {
     "duration": 0.03111,
     "end_time": "2021-01-08T11:18:45.573846",
     "exception": false,
     "start_time": "2021-01-08T11:18:45.542736",
     "status": "completed"
    },
    "tags": []
   },
   "outputs": [],
   "source": [
    "feature_index = 6"
   ]
  },
  {
   "cell_type": "code",
   "execution_count": 2,
   "metadata": {
    "execution": {
     "iopub.execute_input": "2021-01-08T11:18:45.621539Z",
     "iopub.status.busy": "2021-01-08T11:18:45.621027Z",
     "iopub.status.idle": "2021-01-08T11:18:45.624484Z",
     "shell.execute_reply": "2021-01-08T11:18:45.624908Z"
    },
    "id": "29LaKxCh-Em7",
    "papermill": {
     "duration": 0.028807,
     "end_time": "2021-01-08T11:18:45.625017",
     "exception": false,
     "start_time": "2021-01-08T11:18:45.596210",
     "status": "completed"
    },
    "tags": []
   },
   "outputs": [],
   "source": [
    "# import os\n",
    "# os.environ['KAGGLE_USERNAME'] = \"mariaafara\" # username from the json file\n",
    "# os.environ['KAGGLE_KEY'] = \"25755ae03c0b83042774e5e0d15b886e\" # key from the json file\n",
    "#Crearting a Client to host the Kaggle API\n",
    "# !pip install -q kaggle\n",
    "# !kaggle datasets download mariaafara/Facial-Landmarks\n",
    "# !unzip Facial-Landmarks.zip -d facial-keypoints-detection"
   ]
  },
  {
   "cell_type": "code",
   "execution_count": 3,
   "metadata": {
    "execution": {
     "iopub.execute_input": "2021-01-08T11:18:45.676673Z",
     "iopub.status.busy": "2021-01-08T11:18:45.676020Z",
     "iopub.status.idle": "2021-01-08T11:18:50.817880Z",
     "shell.execute_reply": "2021-01-08T11:18:50.817066Z"
    },
    "id": "3f3roaNK6hfZ",
    "papermill": {
     "duration": 5.170145,
     "end_time": "2021-01-08T11:18:50.818005",
     "exception": false,
     "start_time": "2021-01-08T11:18:45.647860",
     "status": "completed"
    },
    "tags": []
   },
   "outputs": [],
   "source": [
    "import numpy as np\n",
    "import pandas as pd\n",
    "import math\n",
    "import random\n",
    "import seaborn as sns\n",
    "import matplotlib.pyplot as plt\n",
    "import tensorflow as tf\n",
    "import tensorflow.keras as keras\n",
    "from tensorflow.keras.models import Sequential\n",
    "from tensorflow.keras.layers import Dense, Dropout, Flatten, Input, Conv2D, MaxPooling2D, GlobalAveragePooling2D, BatchNormalization\n",
    "from sklearn.model_selection import train_test_split\n",
    "from sklearn import preprocessing\n",
    "from sklearn.preprocessing import MinMaxScaler\n",
    "from tensorflow.keras import optimizers\n",
    "from IPython.display import clear_output\n",
    "pd.options.mode.chained_assignment = None  # default='warn'\n"
   ]
  },
  {
   "cell_type": "code",
   "execution_count": 4,
   "metadata": {
    "execution": {
     "iopub.execute_input": "2021-01-08T11:18:50.868278Z",
     "iopub.status.busy": "2021-01-08T11:18:50.867509Z",
     "iopub.status.idle": "2021-01-08T11:18:50.870281Z",
     "shell.execute_reply": "2021-01-08T11:18:50.869743Z"
    },
    "id": "9_E22cct-EnI",
    "papermill": {
     "duration": 0.02912,
     "end_time": "2021-01-08T11:18:50.870368",
     "exception": false,
     "start_time": "2021-01-08T11:18:50.841248",
     "status": "completed"
    },
    "tags": []
   },
   "outputs": [],
   "source": [
    "train_data_path = \"/kaggle/input/facial-landmarks/dic_train_data.pkl\"\n",
    "missing_data_path = \"/kaggle/input/facial-landmarks/dic_missing_data.pkl\"\n",
    "# train_data_path = \"data/dic_train_data.pkl\"\n",
    "# missing_data_path = \"data/dic_missing_data.pkl\""
   ]
  },
  {
   "cell_type": "code",
   "execution_count": 5,
   "metadata": {
    "execution": {
     "iopub.execute_input": "2021-01-08T11:18:50.919640Z",
     "iopub.status.busy": "2021-01-08T11:18:50.919133Z",
     "iopub.status.idle": "2021-01-08T11:18:59.720179Z",
     "shell.execute_reply": "2021-01-08T11:18:59.719275Z"
    },
    "id": "9iJTuxj_kNfQ",
    "papermill": {
     "duration": 8.827262,
     "end_time": "2021-01-08T11:18:59.720308",
     "exception": false,
     "start_time": "2021-01-08T11:18:50.893046",
     "status": "completed"
    },
    "tags": []
   },
   "outputs": [],
   "source": [
    "import pickle as pkl\n",
    "\n",
    "dic_train_data = pkl.load(open(train_data_path,\"rb\"))\n",
    "dic_missing_data = pkl.load(open(missing_data_path,\"rb\"))"
   ]
  },
  {
   "cell_type": "code",
   "execution_count": 6,
   "metadata": {
    "execution": {
     "iopub.execute_input": "2021-01-08T11:18:59.772050Z",
     "iopub.status.busy": "2021-01-08T11:18:59.771482Z",
     "iopub.status.idle": "2021-01-08T11:18:59.777735Z",
     "shell.execute_reply": "2021-01-08T11:18:59.777328Z"
    },
    "id": "6TdjVdwEPvny",
    "outputId": "c49a7d54-3444-4bef-f242-751e108f21f3",
    "papermill": {
     "duration": 0.034279,
     "end_time": "2021-01-08T11:18:59.777844",
     "exception": false,
     "start_time": "2021-01-08T11:18:59.743565",
     "status": "completed"
    },
    "tags": []
   },
   "outputs": [
    {
     "data": {
      "text/plain": [
       "['left_eye_center',\n",
       " 'right_eye_center',\n",
       " 'left_eye_inner_corner',\n",
       " 'left_eye_outer_corner',\n",
       " 'right_eye_inner_corner',\n",
       " 'right_eye_outer_corner',\n",
       " 'left_eyebrow_inner_end',\n",
       " 'left_eyebrow_outer_end',\n",
       " 'right_eyebrow_inner_end',\n",
       " 'right_eyebrow_outer_end',\n",
       " 'mouth_left_corner',\n",
       " 'mouth_right_corner',\n",
       " 'mouth_center_top_lip',\n",
       " 'mouth_center_bottom_lip']"
      ]
     },
     "execution_count": 6,
     "metadata": {},
     "output_type": "execute_result"
    }
   ],
   "source": [
    "features = list(dic_train_data.keys())\n",
    "features"
   ]
  },
  {
   "cell_type": "code",
   "execution_count": 7,
   "metadata": {
    "execution": {
     "iopub.execute_input": "2021-01-08T11:18:59.830703Z",
     "iopub.status.busy": "2021-01-08T11:18:59.830074Z",
     "iopub.status.idle": "2021-01-08T11:18:59.833378Z",
     "shell.execute_reply": "2021-01-08T11:18:59.833793Z"
    },
    "id": "ydLdeD8YPvn1",
    "outputId": "f34d38aa-b9d9-4a29-f689-35bd6a3aa98e",
    "papermill": {
     "duration": 0.032693,
     "end_time": "2021-01-08T11:18:59.833899",
     "exception": false,
     "start_time": "2021-01-08T11:18:59.801206",
     "status": "completed"
    },
    "tags": []
   },
   "outputs": [
    {
     "data": {
      "text/plain": [
       "'left_eyebrow_inner_end'"
      ]
     },
     "execution_count": 7,
     "metadata": {},
     "output_type": "execute_result"
    }
   ],
   "source": [
    "feature_name = features[feature_index]\n",
    "feature_name"
   ]
  },
  {
   "cell_type": "code",
   "execution_count": 8,
   "metadata": {
    "execution": {
     "iopub.execute_input": "2021-01-08T11:18:59.886635Z",
     "iopub.status.busy": "2021-01-08T11:18:59.884964Z",
     "iopub.status.idle": "2021-01-08T11:18:59.887468Z",
     "shell.execute_reply": "2021-01-08T11:18:59.887893Z"
    },
    "id": "APi2VVkKQFOm",
    "papermill": {
     "duration": 0.030488,
     "end_time": "2021-01-08T11:18:59.887994",
     "exception": false,
     "start_time": "2021-01-08T11:18:59.857506",
     "status": "completed"
    },
    "tags": []
   },
   "outputs": [],
   "source": [
    "scalers_path = feature_name+\"_scalers_dict.pkl\"\n",
    "model_path = feature_name+\".h5\"\n",
    "\n",
    "# scalers_path = \"data/\"+feature_name+\"_scalers_dict.pkl\"\n",
    "# model_path = \"models/\"+feature_name+\".h5\""
   ]
  },
  {
   "cell_type": "code",
   "execution_count": 9,
   "metadata": {
    "execution": {
     "iopub.execute_input": "2021-01-08T11:18:59.988424Z",
     "iopub.status.busy": "2021-01-08T11:18:59.973121Z",
     "iopub.status.idle": "2021-01-08T11:19:00.811812Z",
     "shell.execute_reply": "2021-01-08T11:19:00.812235Z"
    },
    "id": "UHAb9cCEPvn3",
    "outputId": "cdb32799-3d8e-4470-e682-c8b1a792037b",
    "papermill": {
     "duration": 0.898588,
     "end_time": "2021-01-08T11:19:00.812356",
     "exception": false,
     "start_time": "2021-01-08T11:18:59.913768",
     "status": "completed"
    },
    "tags": []
   },
   "outputs": [
    {
     "data": {
      "text/html": [
       "<div>\n",
       "<style scoped>\n",
       "    .dataframe tbody tr th:only-of-type {\n",
       "        vertical-align: middle;\n",
       "    }\n",
       "\n",
       "    .dataframe tbody tr th {\n",
       "        vertical-align: top;\n",
       "    }\n",
       "\n",
       "    .dataframe thead th {\n",
       "        text-align: right;\n",
       "    }\n",
       "</style>\n",
       "<table border=\"1\" class=\"dataframe\">\n",
       "  <thead>\n",
       "    <tr style=\"text-align: right;\">\n",
       "      <th></th>\n",
       "      <th>left_eyebrow_inner_end_x</th>\n",
       "      <th>left_eyebrow_inner_end_y</th>\n",
       "      <th>Image</th>\n",
       "    </tr>\n",
       "  </thead>\n",
       "  <tbody>\n",
       "    <tr>\n",
       "      <th>0</th>\n",
       "      <td>56.953263</td>\n",
       "      <td>29.033648</td>\n",
       "      <td>[[238, 236, 237, 238, 240, 240, 239, 241, 241,...</td>\n",
       "    </tr>\n",
       "    <tr>\n",
       "      <th>1</th>\n",
       "      <td>53.987404</td>\n",
       "      <td>28.275949</td>\n",
       "      <td>[[219, 215, 204, 196, 204, 211, 212, 200, 180,...</td>\n",
       "    </tr>\n",
       "    <tr>\n",
       "      <th>2</th>\n",
       "      <td>55.742526</td>\n",
       "      <td>27.570947</td>\n",
       "      <td>[[144, 142, 159, 180, 188, 188, 184, 180, 167,...</td>\n",
       "    </tr>\n",
       "    <tr>\n",
       "      <th>3</th>\n",
       "      <td>56.433809</td>\n",
       "      <td>30.929864</td>\n",
       "      <td>[[193, 192, 193, 194, 194, 194, 193, 192, 168,...</td>\n",
       "    </tr>\n",
       "    <tr>\n",
       "      <th>4</th>\n",
       "      <td>57.249571</td>\n",
       "      <td>30.672177</td>\n",
       "      <td>[[147, 148, 160, 196, 215, 214, 216, 217, 219,...</td>\n",
       "    </tr>\n",
       "  </tbody>\n",
       "</table>\n",
       "</div>"
      ],
      "text/plain": [
       "   left_eyebrow_inner_end_x  left_eyebrow_inner_end_y  \\\n",
       "0                 56.953263                 29.033648   \n",
       "1                 53.987404                 28.275949   \n",
       "2                 55.742526                 27.570947   \n",
       "3                 56.433809                 30.929864   \n",
       "4                 57.249571                 30.672177   \n",
       "\n",
       "                                               Image  \n",
       "0  [[238, 236, 237, 238, 240, 240, 239, 241, 241,...  \n",
       "1  [[219, 215, 204, 196, 204, 211, 212, 200, 180,...  \n",
       "2  [[144, 142, 159, 180, 188, 188, 184, 180, 167,...  \n",
       "3  [[193, 192, 193, 194, 194, 194, 193, 192, 168,...  \n",
       "4  [[147, 148, 160, 196, 215, 214, 216, 217, 219,...  "
      ]
     },
     "execution_count": 9,
     "metadata": {},
     "output_type": "execute_result"
    }
   ],
   "source": [
    "dic_train_data[feature_name].head()"
   ]
  },
  {
   "cell_type": "markdown",
   "metadata": {
    "id": "Ys-qr2X5WKAR",
    "papermill": {
     "duration": 0.056695,
     "end_time": "2021-01-08T11:19:00.893950",
     "exception": false,
     "start_time": "2021-01-08T11:19:00.837255",
     "status": "completed"
    },
    "tags": []
   },
   "source": [
    "#### **Create custom Data Generator**\n",
    "\n",
    "**We will build a data generator that will load mini-batches and feed to the model dynamically**"
   ]
  },
  {
   "cell_type": "code",
   "execution_count": 10,
   "metadata": {
    "execution": {
     "iopub.execute_input": "2021-01-08T11:19:00.966576Z",
     "iopub.status.busy": "2021-01-08T11:19:00.956138Z",
     "iopub.status.idle": "2021-01-08T11:19:00.976575Z",
     "shell.execute_reply": "2021-01-08T11:19:00.976173Z"
    },
    "id": "i8PX_Elb-VQz",
    "papermill": {
     "duration": 0.058412,
     "end_time": "2021-01-08T11:19:00.976661",
     "exception": false,
     "start_time": "2021-01-08T11:19:00.918249",
     "status": "completed"
    },
    "tags": []
   },
   "outputs": [],
   "source": [
    "class DataGenerator(tf.keras.utils.Sequence):\n",
    "    def __init__(self, df, batch_size=32, rgb_channels=True, shuffle=True, augment=True, normalize_image=True, normalize_coordinates=False, scalers=None):\n",
    "        self.df = df\n",
    "        self.batch_size = batch_size\n",
    "        self.size = df.shape[0]\n",
    "        self.shuffle = shuffle\n",
    "        self.augment = augment\n",
    "        # Keras pre-trained models have trained on color images and if we want to use grayscale images we can still use these pre-trained models by repeating the grayscale image over three channels\n",
    "        self.rgb_channels = rgb_channels\n",
    "        self.normalize_image = normalize_image\n",
    "        self.normalize_coordinates = normalize_coordinates\n",
    "        self.scalers = scalers\n",
    "        self.feature_columns = df.columns.tolist()[:-1]\n",
    "        #  To keep track on which pairs of landmarks to be swapped, we introduce a dictionary recording the original and new landmark's index\n",
    "        self.left_right_dic = {'right_eye_center_x' : 'left_eye_center_x' ,\n",
    "                'right_eye_center_y' : 'left_eye_center_y' ,\n",
    "                'right_eye_inner_corner_x' : 'left_eye_inner_corner_x' ,\n",
    "                'right_eye_inner_corner_y' : 'left_eye_inner_corner_y' ,\n",
    "                'right_eye_outer_corner_x' : 'left_eye_outer_corner_x' ,\n",
    "                'right_eye_outer_corner_y' : 'left_eye_outer_corner_y' ,\n",
    "                'right_eyebrow_inner_end_x' : 'left_eyebrow_inner_end_x' ,\n",
    "                'right_eyebrow_inner_end_y' : 'left_eyebrow_inner_end_y' ,\n",
    "                'right_eyebrow_outer_end_x' : 'left_eyebrow_outer_end_x' ,\n",
    "                'right_eyebrow_outer_end_y' : 'left_eyebrow_outer_end_y' ,\n",
    "                'mouth_right_corner_x' : 'mouth_left_corner_x' ,\n",
    "                'mouth_right_corner_y' : 'mouth_left_corner_y' }\n",
    "        self.on_epoch_end()\n",
    "\n",
    "    def __len__(self):\n",
    "        'Denotes the number of batches per epoch'\n",
    "        return self.size // self.batch_size\n",
    "\n",
    "    def on_epoch_end(self):\n",
    "        'Updates indexes after each epoch'\n",
    "        self.indexes = np.arange(self.size)\n",
    "        if self.shuffle:\n",
    "            np.random.shuffle(self.indexes)\n",
    "\n",
    "    def __getitem__(self, index):\n",
    "        # selects indices of data for next batch`\n",
    "        indexes = self.indexes[index * self.batch_size : (index + 1) * self.batch_size]\n",
    "        'Generate one batch of data'\n",
    "        batched_df = self.df.iloc[indexes] #.sample(frac=1).reset_index(drop=True)\n",
    "\n",
    "        if self.augment == True:\n",
    "            df_batch = self.augmentor(batched_df)\n",
    "        else:\n",
    "            df_batch = batched_df\n",
    "\n",
    "\n",
    "        batched_images = np.vstack(df_batch[\"Image\"].values).reshape(-1, 96, 96, 1).astype(np.float32)\n",
    "        \n",
    "        if self.rgb_channels:\n",
    "            batched_images = np.repeat(batched_images,3,-1)\n",
    "\n",
    "        batched_feature_corrdinates = df_batch.iloc[:,:-1]\n",
    "        \n",
    "        if self.normalize_coordinates:\n",
    "            for col in self.feature_columns:\n",
    "                scaler = self.scalers[col]\n",
    "                batched_feature_corrdinates[col] = scaler.transform(batched_feature_corrdinates[col].to_numpy().reshape(-1, 1)).reshape(-1)\n",
    "\n",
    "        batched_feature_corrdinates = batched_feature_corrdinates.values.astype(np.float32) #feature coordinates        \n",
    "\n",
    "        if self.normalize_image == True:\n",
    "            batched_images = batched_images/255\n",
    "\n",
    "        return batched_images, batched_feature_corrdinates\n",
    "\n",
    "    def augmentor(self, df):\n",
    "\n",
    "        def flip_horizontally(row):\n",
    "            'Method that flips the image horizontally and swaps the features' \n",
    "            row[\"Image\"] = np.flip(row[\"Image\"], axis = 1)\n",
    "            # y coordinates values will stay the same while the x coordinates will have to be changed\n",
    "            # subtract our initial x-coordinate values from width of the image(96)\n",
    "            for i in range(len(self.feature_columns)):#+1\n",
    "                if i%2 == 0: # because there is always x coordinate then y corrdinate\n",
    "                    row[self.feature_columns[i]] = 96. - row[self.feature_columns[i]]\n",
    "            # swap\n",
    "            rights = [a for a in self.feature_columns if \"right\" in a.split(\"_\")]\n",
    "            for col_r in rights:\n",
    "                col_l = self.left_right_dic[col_r]\n",
    "                temp = row[col_l] \n",
    "                row[col_l] = row[col_r]\n",
    "                row[col_r] = temp\n",
    "            return row\n",
    "\n",
    "        def increase_brightness(image):\n",
    "            'Method that randomly increase images brightness'      \n",
    "            # Multiply pixel values by random values between 1 and 1.5 to increase the brightness of the image\n",
    "            # Clip the value between 0 and 255\n",
    "            image = np.clip(random.uniform(1, 1.5) * image, 0.0, 255.0)\n",
    "            return image\n",
    "\n",
    "        def decrease_brightness(image):\n",
    "            'Method that randomly decrease images brightness'\n",
    "            # Multiply pixel values by random values between 0 and 0.1 to decrease the brightness of the image\n",
    "            # Clip the value between 0 and 255\n",
    "            image = np.clip(random.uniform(0, 0.1) * image, 0.0, 255.0)\n",
    "            return image\n",
    "\n",
    "        def augment(row):\n",
    "        # if we have more than one feature allow flipping\n",
    "            if len(self.feature_columns)>2:\n",
    "                if row[\"augment_flip\"]==1:\n",
    "                    row =  flip_horizontally(row)\n",
    "            if row[\"augment_inc_b\"]:\n",
    "                row[\"Image\"] = increase_brightness(row[\"Image\"])\n",
    "            if row[\"augment_dec_b\"]:\n",
    "                row[\"Image\"] = decrease_brightness(row[\"Image\"])\n",
    "            return row\n",
    "\n",
    "      # generate random boolean for augmentation types \n",
    "        df[\"augment_flip\"] = [random.getrandbits(1) for i in range(len(df))]\n",
    "        df[\"augment_inc_b\"] = [random.getrandbits(1) for i in range(len(df))]\n",
    "        df[\"augment_dec_b\"] = [random.getrandbits(1) for i in range(len(df))]\n",
    "        # df = df.apply(lambda row : augment(row), axis=1)\n",
    "        df = df.apply(augment, axis=1)\n",
    "        df.drop(['augment_flip', 'augment_inc_b', 'augment_dec_b'], axis=1, inplace=True)\n",
    "        return df\n"
   ]
  },
  {
   "cell_type": "code",
   "execution_count": 11,
   "metadata": {
    "execution": {
     "iopub.execute_input": "2021-01-08T11:19:01.034462Z",
     "iopub.status.busy": "2021-01-08T11:19:01.032734Z",
     "iopub.status.idle": "2021-01-08T11:19:01.035111Z",
     "shell.execute_reply": "2021-01-08T11:19:01.035520Z"
    },
    "id": "68VI4DWX-EnV",
    "papermill": {
     "duration": 0.034771,
     "end_time": "2021-01-08T11:19:01.035614",
     "exception": false,
     "start_time": "2021-01-08T11:19:01.000843",
     "status": "completed"
    },
    "tags": []
   },
   "outputs": [],
   "source": [
    "def visualize_image(x, y=None, y_predicted=None):\n",
    "  # x-coordinates are in even columns like 0,2,4,.. and y-coordinates are in odd columns like 1,3,5,..\n",
    "    plt.figure()\n",
    "    plt.imshow(x, cmap='gray')\n",
    "    if y is not None:\n",
    "        f = y.shape[0]\n",
    "        for j in range(0,f,2):\n",
    "            plt.plot(y[j], y[j+1], 'X', color='blue', label='actual')\n",
    "    if y_predicted is not None:\n",
    "        f = y_predicted.shape[0]\n",
    "        for j in range(0,f,2):\n",
    "            plt.plot(y_predicted[j], y_predicted[j+1], 'X', color='red', label='predicted')\n",
    "    plt.legend()"
   ]
  },
  {
   "cell_type": "markdown",
   "metadata": {
    "id": "eX1dSeiRCUUE",
    "papermill": {
     "duration": 0.024547,
     "end_time": "2021-01-08T11:19:01.084593",
     "exception": false,
     "start_time": "2021-01-08T11:19:01.060046",
     "status": "completed"
    },
    "tags": []
   },
   "source": [
    "Lets try the data generator and visuilize some images"
   ]
  },
  {
   "cell_type": "markdown",
   "metadata": {
    "id": "cdehN9mvIsan",
    "papermill": {
     "duration": 0.024296,
     "end_time": "2021-01-08T11:19:01.133368",
     "exception": false,
     "start_time": "2021-01-08T11:19:01.109072",
     "status": "completed"
    },
    "tags": []
   },
   "source": [
    "### Part 1.3  Building a Prediction model for a feature"
   ]
  },
  {
   "cell_type": "markdown",
   "metadata": {
    "id": "ph_UEDMwcEvX",
    "papermill": {
     "duration": 0.024359,
     "end_time": "2021-01-08T11:19:01.182155",
     "exception": false,
     "start_time": "2021-01-08T11:19:01.157796",
     "status": "completed"
    },
    "tags": []
   },
   "source": [
    "#### **Prepare data generators to train the model**"
   ]
  },
  {
   "cell_type": "markdown",
   "metadata": {
    "id": "ACe1Z0-GvdBs",
    "papermill": {
     "duration": 0.024376,
     "end_time": "2021-01-08T11:19:01.231085",
     "exception": false,
     "start_time": "2021-01-08T11:19:01.206709",
     "status": "completed"
    },
    "tags": []
   },
   "source": [
    "##### **Split the data into train and test**"
   ]
  },
  {
   "cell_type": "code",
   "execution_count": 12,
   "metadata": {
    "execution": {
     "iopub.execute_input": "2021-01-08T11:19:01.285547Z",
     "iopub.status.busy": "2021-01-08T11:19:01.285013Z",
     "iopub.status.idle": "2021-01-08T11:19:01.293104Z",
     "shell.execute_reply": "2021-01-08T11:19:01.293703Z"
    },
    "id": "Wz9DPZKppGXK",
    "outputId": "316ac4e0-0178-4692-e984-204c6ff49f72",
    "papermill": {
     "duration": 0.038417,
     "end_time": "2021-01-08T11:19:01.293851",
     "exception": false,
     "start_time": "2021-01-08T11:19:01.255434",
     "status": "completed"
    },
    "tags": []
   },
   "outputs": [
    {
     "name": "stdout",
     "output_type": "stream",
     "text": [
      "(2270, 3) (1816, 3) (454, 3)\n"
     ]
    }
   ],
   "source": [
    "df = dic_train_data[feature_name]\n",
    "# Split the data into training and testing data\n",
    "df_train, df_test = train_test_split(df, test_size = 0.2, random_state=None)\n",
    "print(df.shape, df_train.shape, df_test.shape)"
   ]
  },
  {
   "cell_type": "code",
   "execution_count": 13,
   "metadata": {
    "execution": {
     "iopub.execute_input": "2021-01-08T11:19:01.376261Z",
     "iopub.status.busy": "2021-01-08T11:19:01.371088Z",
     "iopub.status.idle": "2021-01-08T11:19:02.210303Z",
     "shell.execute_reply": "2021-01-08T11:19:02.209873Z"
    },
    "id": "iJ7K_1lndPKu",
    "outputId": "abda56ba-925c-43d9-ac1c-512dcbb269f6",
    "papermill": {
     "duration": 0.890479,
     "end_time": "2021-01-08T11:19:02.210399",
     "exception": false,
     "start_time": "2021-01-08T11:19:01.319920",
     "status": "completed"
    },
    "tags": []
   },
   "outputs": [
    {
     "data": {
      "text/html": [
       "<div>\n",
       "<style scoped>\n",
       "    .dataframe tbody tr th:only-of-type {\n",
       "        vertical-align: middle;\n",
       "    }\n",
       "\n",
       "    .dataframe tbody tr th {\n",
       "        vertical-align: top;\n",
       "    }\n",
       "\n",
       "    .dataframe thead th {\n",
       "        text-align: right;\n",
       "    }\n",
       "</style>\n",
       "<table border=\"1\" class=\"dataframe\">\n",
       "  <thead>\n",
       "    <tr style=\"text-align: right;\">\n",
       "      <th></th>\n",
       "      <th>left_eyebrow_inner_end_x</th>\n",
       "      <th>left_eyebrow_inner_end_y</th>\n",
       "      <th>Image</th>\n",
       "    </tr>\n",
       "  </thead>\n",
       "  <tbody>\n",
       "    <tr>\n",
       "      <th>2265</th>\n",
       "      <td>56.462185</td>\n",
       "      <td>30.651261</td>\n",
       "      <td>[[35, 23, 20, 40, 68, 25, 53, 43, 43, 31, 27, ...</td>\n",
       "    </tr>\n",
       "    <tr>\n",
       "      <th>225</th>\n",
       "      <td>56.961280</td>\n",
       "      <td>26.947584</td>\n",
       "      <td>[[163, 161, 159, 158, 152, 146, 149, 103, 9, 0...</td>\n",
       "    </tr>\n",
       "    <tr>\n",
       "      <th>1126</th>\n",
       "      <td>55.957424</td>\n",
       "      <td>30.116339</td>\n",
       "      <td>[[193, 193, 191, 189, 190, 192, 188, 174, 156,...</td>\n",
       "    </tr>\n",
       "    <tr>\n",
       "      <th>2010</th>\n",
       "      <td>54.037783</td>\n",
       "      <td>29.499454</td>\n",
       "      <td>[[8, 13, 7, 2, 1, 1, 1, 2, 0, 0, 0, 0, 0, 0, 0...</td>\n",
       "    </tr>\n",
       "    <tr>\n",
       "      <th>2220</th>\n",
       "      <td>55.147739</td>\n",
       "      <td>26.639586</td>\n",
       "      <td>[[124, 126, 127, 127, 130, 124, 118, 106, 49, ...</td>\n",
       "    </tr>\n",
       "  </tbody>\n",
       "</table>\n",
       "</div>"
      ],
      "text/plain": [
       "      left_eyebrow_inner_end_x  left_eyebrow_inner_end_y  \\\n",
       "2265                 56.462185                 30.651261   \n",
       "225                  56.961280                 26.947584   \n",
       "1126                 55.957424                 30.116339   \n",
       "2010                 54.037783                 29.499454   \n",
       "2220                 55.147739                 26.639586   \n",
       "\n",
       "                                                  Image  \n",
       "2265  [[35, 23, 20, 40, 68, 25, 53, 43, 43, 31, 27, ...  \n",
       "225   [[163, 161, 159, 158, 152, 146, 149, 103, 9, 0...  \n",
       "1126  [[193, 193, 191, 189, 190, 192, 188, 174, 156,...  \n",
       "2010  [[8, 13, 7, 2, 1, 1, 1, 2, 0, 0, 0, 0, 0, 0, 0...  \n",
       "2220  [[124, 126, 127, 127, 130, 124, 118, 106, 49, ...  "
      ]
     },
     "execution_count": 13,
     "metadata": {},
     "output_type": "execute_result"
    }
   ],
   "source": [
    "df_train.head()"
   ]
  },
  {
   "cell_type": "markdown",
   "metadata": {
    "id": "Zo9gt1mXu2fd",
    "papermill": {
     "duration": 0.02568,
     "end_time": "2021-01-08T11:19:02.261930",
     "exception": false,
     "start_time": "2021-01-08T11:19:02.236250",
     "status": "completed"
    },
    "tags": []
   },
   "source": [
    "##### **Build scalers for normalizing feature data**"
   ]
  },
  {
   "cell_type": "code",
   "execution_count": 14,
   "metadata": {
    "execution": {
     "iopub.execute_input": "2021-01-08T11:19:02.321054Z",
     "iopub.status.busy": "2021-01-08T11:19:02.319915Z",
     "iopub.status.idle": "2021-01-08T11:19:02.323082Z",
     "shell.execute_reply": "2021-01-08T11:19:02.322624Z"
    },
    "id": "9t4-hf0gIeSw",
    "papermill": {
     "duration": 0.035566,
     "end_time": "2021-01-08T11:19:02.323172",
     "exception": false,
     "start_time": "2021-01-08T11:19:02.287606",
     "status": "completed"
    },
    "tags": []
   },
   "outputs": [],
   "source": [
    "scalers_dict = dict()\n",
    "for col in df.columns.tolist()[:-1]:\n",
    "    scaler = MinMaxScaler()\n",
    "    scaler.fit(df[col].to_numpy().reshape(-1, 1))\n",
    "    scalers_dict[col] = scaler\n",
    "\n",
    "\n",
    "\n",
    "pkl.dump(scalers_dict, open(scalers_path,\"wb\"))\n"
   ]
  },
  {
   "cell_type": "markdown",
   "metadata": {
    "id": "WZNeHGhxvnSH",
    "papermill": {
     "duration": 0.026904,
     "end_time": "2021-01-08T11:19:02.376009",
     "exception": false,
     "start_time": "2021-01-08T11:19:02.349105",
     "status": "completed"
    },
    "tags": []
   },
   "source": [
    "##### **Build train and validation data generators**"
   ]
  },
  {
   "cell_type": "code",
   "execution_count": 15,
   "metadata": {
    "execution": {
     "iopub.execute_input": "2021-01-08T11:19:02.434809Z",
     "iopub.status.busy": "2021-01-08T11:19:02.434180Z",
     "iopub.status.idle": "2021-01-08T11:19:02.438060Z",
     "shell.execute_reply": "2021-01-08T11:19:02.438500Z"
    },
    "id": "HERnPWEBc83D",
    "papermill": {
     "duration": 0.035092,
     "end_time": "2021-01-08T11:19:02.438620",
     "exception": false,
     "start_time": "2021-01-08T11:19:02.403528",
     "status": "completed"
    },
    "tags": []
   },
   "outputs": [],
   "source": [
    " \n",
    "train_generator = DataGenerator(df_train, batch_size=32, normalize_image=True, normalize_coordinates=True, scalers=scalers_dict)\n",
    "val_generator =  DataGenerator(df_test, batch_size=32,  augment=False, normalize_image=True,  normalize_coordinates=True,  scalers=train_generator.scalers)"
   ]
  },
  {
   "cell_type": "markdown",
   "metadata": {
    "id": "Ctn-Hf0Nc5p_",
    "papermill": {
     "duration": 0.027202,
     "end_time": "2021-01-08T11:19:02.496246",
     "exception": false,
     "start_time": "2021-01-08T11:19:02.469044",
     "status": "completed"
    },
    "tags": []
   },
   "source": [
    "#### **Build a Prediction model**"
   ]
  },
  {
   "cell_type": "code",
   "execution_count": 16,
   "metadata": {
    "execution": {
     "iopub.execute_input": "2021-01-08T11:19:02.567125Z",
     "iopub.status.busy": "2021-01-08T11:19:02.565317Z",
     "iopub.status.idle": "2021-01-08T11:19:02.567703Z",
     "shell.execute_reply": "2021-01-08T11:19:02.568127Z"
    },
    "id": "WHg8_6ZgPvoJ",
    "papermill": {
     "duration": 0.045826,
     "end_time": "2021-01-08T11:19:02.568243",
     "exception": false,
     "start_time": "2021-01-08T11:19:02.522417",
     "status": "completed"
    },
    "tags": []
   },
   "outputs": [],
   "source": [
    "from tensorflow.keras.applications import EfficientNetB0, VGG16\n",
    "\n",
    "def create_efficientNet(nbr_features):\n",
    "    inputs = tf.keras.Input(shape=(96, 96, 3))  \n",
    "    # This option include_top excludes the final Dense layer.\n",
    "    # This allows us to replace the top layer with custom layers which allows the use of  EfficientNet as a feature extractor in a transfer learning workflow\n",
    "    model = EfficientNetB0(include_top=False, input_tensor=inputs, weights=\"imagenet\")#, drop_connect_rate=0.1)\n",
    "    # Freeze the pretrained weights\n",
    "    model.trainable = False\n",
    "\n",
    "    # Rebuild top\n",
    "    x = GlobalAveragePooling2D()(model.output)    \n",
    "    x = BatchNormalization()(x)\n",
    "    x = Dropout(0.4)(x)\n",
    "    outputs = Dense(nbr_features,activation='relu')(x)\n",
    "\n",
    "    # Compile\n",
    "    model = keras.Model(inputs, outputs)\n",
    "    return model\n",
    "\n",
    "def create_vgg16(nbr_features):\n",
    "\n",
    "    #Get back the convolutional part of a VGG network trained on ImageNet\n",
    "    model = VGG16(weights='imagenet', include_top=False)\n",
    "    model.trainable = False\n",
    "    #Create your own input format (here 3x200x200)\n",
    "    inputs = Input(shape=(96,96,3))\n",
    "\n",
    "    #Use the generated model \n",
    "    output_vgg16 = model(inputs)\n",
    "\n",
    "    #Add the fully-connected layers \n",
    "    x = Flatten()(output_vgg16)\n",
    "    x = Dense(64, activation='relu')(x)\n",
    "    # x = Dense(32, activation='relu')(x)\n",
    "    outputs = Dense(nbr_features, activation='relu')(x)\n",
    "\n",
    "    #Create your own model \n",
    "    model = keras.Model(inputs=inputs, outputs=outputs)\n",
    "    return model\n",
    "\n",
    "\n",
    "def create_simple_model(nbr_features):\n",
    "  # vanillia CNN model\n",
    "    model = Sequential()\n",
    "    model.add(Conv2D(16, kernel_size=(5, 5), activation='relu', input_shape=(96, 96 , 1)))\n",
    "    model.add(MaxPooling2D(pool_size=(2, 2), strides=2))\n",
    "    model.add(Conv2D(48, (3, 3), activation='relu'))\n",
    "    model.add(MaxPooling2D(pool_size=(2, 2), strides=2))\n",
    "    model.add(Conv2D(64, (3, 3), activation='relu'))\n",
    "    model.add(MaxPooling2D(pool_size=(2, 2), strides=2))\n",
    "    model.add(Conv2D(64, (2, 2), activation='relu'))\n",
    "    model.add(Flatten())\n",
    "    model.add(Dense(100, activation='relu'))\n",
    "    model.add(Dense(nbr_features, activation='relu'))\n",
    "    return model\n"
   ]
  },
  {
   "cell_type": "code",
   "execution_count": 17,
   "metadata": {
    "execution": {
     "iopub.execute_input": "2021-01-08T11:19:02.651015Z",
     "iopub.status.busy": "2021-01-08T11:19:02.650044Z",
     "iopub.status.idle": "2021-01-08T11:19:08.032795Z",
     "shell.execute_reply": "2021-01-08T11:19:08.031884Z"
    },
    "id": "ofh5qnydxTwZ",
    "outputId": "07bd6fcc-e67a-409e-813c-a4d839c5966b",
    "papermill": {
     "duration": 5.434604,
     "end_time": "2021-01-08T11:19:08.032906",
     "exception": false,
     "start_time": "2021-01-08T11:19:02.598302",
     "status": "completed"
    },
    "tags": []
   },
   "outputs": [
    {
     "name": "stdout",
     "output_type": "stream",
     "text": [
      "Downloading data from https://storage.googleapis.com/keras-applications/efficientnetb0_notop.h5\n",
      "16711680/16705208 [==============================] - 0s 0us/step\n"
     ]
    }
   ],
   "source": [
    "nbr_features = 2\n",
    "# create the model\n",
    "model = create_efficientNet(nbr_features)\n",
    "# model = create_vgg16(nbr_features)"
   ]
  },
  {
   "cell_type": "markdown",
   "metadata": {
    "id": "cJ8vd7UwtrYg",
    "papermill": {
     "duration": 0.027024,
     "end_time": "2021-01-08T11:19:08.087406",
     "exception": false,
     "start_time": "2021-01-08T11:19:08.060382",
     "status": "completed"
    },
    "tags": []
   },
   "source": [
    "#### **Define custom loss and compile the model**"
   ]
  },
  {
   "cell_type": "code",
   "execution_count": 18,
   "metadata": {
    "execution": {
     "iopub.execute_input": "2021-01-08T11:19:08.418416Z",
     "iopub.status.busy": "2021-01-08T11:19:08.417496Z",
     "iopub.status.idle": "2021-01-08T11:19:08.427031Z",
     "shell.execute_reply": "2021-01-08T11:19:08.427567Z"
    },
    "id": "tXRRM-KrLjfE",
    "papermill": {
     "duration": 0.312896,
     "end_time": "2021-01-08T11:19:08.427686",
     "exception": false,
     "start_time": "2021-01-08T11:19:08.114790",
     "status": "completed"
    },
    "tags": []
   },
   "outputs": [],
   "source": [
    "import tensorflow.keras.backend as K\n",
    "\n",
    "def euclidean_distance_loss(y_true, y_pred):\n",
    "  #     Euclidean distance loss\n",
    "    return K.sqrt(K.sum(K.square(y_pred - y_true), axis=-1))\n",
    "\n",
    "def absolute_tanh(x):\n",
    "    return K.abs(K.tanh(x))\n",
    "\n",
    "# MeanAbsoluteError(), MeanAbsolutePercentageError()\n",
    "model.compile(loss=euclidean_distance_loss,\n",
    "              optimizer=keras.optimizers.Adam(learning_rate=1e-4),\n",
    "              )\n",
    "\n",
    "def unfreeze_model(model):\n",
    "    # We unfreeze the top 5 layers while leaving BatchNorm layers frozen\n",
    "    for layer in model.layers[-25:]:\n",
    "        if not isinstance(layer, keras.layers.BatchNormalization):\n",
    "            layer.trainable = True"
   ]
  },
  {
   "cell_type": "markdown",
   "metadata": {
    "id": "XOn3P3dcvy7T",
    "papermill": {
     "duration": 0.046782,
     "end_time": "2021-01-08T11:19:08.521318",
     "exception": false,
     "start_time": "2021-01-08T11:19:08.474536",
     "status": "completed"
    },
    "tags": []
   },
   "source": [
    "#### **Start training**"
   ]
  },
  {
   "cell_type": "code",
   "execution_count": 19,
   "metadata": {
    "execution": {
     "iopub.execute_input": "2021-01-08T11:19:08.621024Z",
     "iopub.status.busy": "2021-01-08T11:19:08.620176Z",
     "iopub.status.idle": "2021-01-08T11:22:01.783148Z",
     "shell.execute_reply": "2021-01-08T11:22:01.783958Z"
    },
    "id": "7AWepBFAc9LR",
    "outputId": "98eb52a4-9bf9-4246-baab-cd0b9085d99c",
    "papermill": {
     "duration": 173.217517,
     "end_time": "2021-01-08T11:22:01.784115",
     "exception": false,
     "start_time": "2021-01-08T11:19:08.566598",
     "status": "completed"
    },
    "tags": []
   },
   "outputs": [
    {
     "name": "stdout",
     "output_type": "stream",
     "text": [
      "Epoch 1/100\n",
      "56/56 [==============================] - 3s 53ms/step - loss: 0.6672 - val_loss: 0.5151\n",
      "Epoch 2/100\n",
      "56/56 [==============================] - 1s 26ms/step - loss: 0.5482 - val_loss: 0.5587\n",
      "Epoch 3/100\n",
      "56/56 [==============================] - 1s 26ms/step - loss: 0.5241 - val_loss: 0.5183\n",
      "Epoch 4/100\n",
      "56/56 [==============================] - 1s 27ms/step - loss: 0.5088 - val_loss: 0.4689\n",
      "Epoch 5/100\n",
      "56/56 [==============================] - 2s 31ms/step - loss: 0.5133 - val_loss: 0.4650\n",
      "Epoch 6/100\n",
      "56/56 [==============================] - 1s 26ms/step - loss: 0.5027 - val_loss: 0.4467\n",
      "Epoch 7/100\n",
      "56/56 [==============================] - 1s 26ms/step - loss: 0.4946 - val_loss: 0.4554\n",
      "Epoch 8/100\n",
      "56/56 [==============================] - 2s 27ms/step - loss: 0.4788 - val_loss: 0.4261\n",
      "Epoch 9/100\n",
      "56/56 [==============================] - 1s 26ms/step - loss: 0.4893 - val_loss: 0.4346\n",
      "Epoch 10/100\n",
      "56/56 [==============================] - 1s 27ms/step - loss: 0.4859 - val_loss: 0.4225\n",
      "Epoch 11/100\n",
      "56/56 [==============================] - 1s 27ms/step - loss: 0.4913 - val_loss: 0.4387\n",
      "Epoch 12/100\n",
      "56/56 [==============================] - 2s 39ms/step - loss: 0.4872 - val_loss: 0.4171\n",
      "Epoch 13/100\n",
      "56/56 [==============================] - 2s 28ms/step - loss: 0.4742 - val_loss: 0.4072\n",
      "Epoch 14/100\n",
      "56/56 [==============================] - 2s 27ms/step - loss: 0.4589 - val_loss: 0.4031\n",
      "Epoch 15/100\n",
      "56/56 [==============================] - 1s 26ms/step - loss: 0.4663 - val_loss: 0.4024\n",
      "Epoch 16/100\n",
      "56/56 [==============================] - 1s 26ms/step - loss: 0.4737 - val_loss: 0.3940\n",
      "Epoch 17/100\n",
      "56/56 [==============================] - 1s 26ms/step - loss: 0.4887 - val_loss: 0.3811\n",
      "Epoch 18/100\n",
      "56/56 [==============================] - 2s 30ms/step - loss: 0.4646 - val_loss: 0.3692\n",
      "Epoch 19/100\n",
      "56/56 [==============================] - 2s 28ms/step - loss: 0.4643 - val_loss: 0.3702\n",
      "Epoch 20/100\n",
      "56/56 [==============================] - 2s 27ms/step - loss: 0.4513 - val_loss: 0.3534\n",
      "Epoch 21/100\n",
      "56/56 [==============================] - 1s 26ms/step - loss: 0.4584 - val_loss: 0.3560\n",
      "Epoch 22/100\n",
      "56/56 [==============================] - 2s 27ms/step - loss: 0.4537 - val_loss: 0.3545\n",
      "Epoch 23/100\n",
      "56/56 [==============================] - 1s 26ms/step - loss: 0.4536 - val_loss: 0.3426\n",
      "Epoch 24/100\n",
      "56/56 [==============================] - 1s 26ms/step - loss: 0.4477 - val_loss: 0.3472\n",
      "Epoch 25/100\n",
      "56/56 [==============================] - 2s 31ms/step - loss: 0.4464 - val_loss: 0.3445\n",
      "Epoch 26/100\n",
      "56/56 [==============================] - 2s 28ms/step - loss: 0.4515 - val_loss: 0.3320\n",
      "Epoch 27/100\n",
      "56/56 [==============================] - 2s 27ms/step - loss: 0.4469 - val_loss: 0.3356\n",
      "Epoch 28/100\n",
      "56/56 [==============================] - 2s 27ms/step - loss: 0.4389 - val_loss: 0.3429\n",
      "Epoch 29/100\n",
      "56/56 [==============================] - 2s 27ms/step - loss: 0.4379 - val_loss: 0.3294\n",
      "Epoch 30/100\n",
      "56/56 [==============================] - 2s 27ms/step - loss: 0.4291 - val_loss: 0.3361\n",
      "Epoch 31/100\n",
      "56/56 [==============================] - 2s 27ms/step - loss: 0.4366 - val_loss: 0.3342\n",
      "Epoch 32/100\n",
      "56/56 [==============================] - 3s 53ms/step - loss: 0.4213 - val_loss: 0.3283\n",
      "Epoch 33/100\n",
      "56/56 [==============================] - 2s 32ms/step - loss: 0.4173 - val_loss: 0.3155\n",
      "Epoch 34/100\n",
      "56/56 [==============================] - 2s 28ms/step - loss: 0.4294 - val_loss: 0.3212\n",
      "Epoch 35/100\n",
      "56/56 [==============================] - 2s 27ms/step - loss: 0.4084 - val_loss: 0.3227\n",
      "Epoch 36/100\n",
      "56/56 [==============================] - 2s 28ms/step - loss: 0.4134 - val_loss: 0.3264\n",
      "Epoch 37/100\n",
      "56/56 [==============================] - 2s 27ms/step - loss: 0.4044 - val_loss: 0.3200\n",
      "Epoch 38/100\n",
      "56/56 [==============================] - 2s 32ms/step - loss: 0.4008 - val_loss: 0.3147\n",
      "Epoch 39/100\n",
      "56/56 [==============================] - 2s 27ms/step - loss: 0.4060 - val_loss: 0.3252\n",
      "Epoch 40/100\n",
      "56/56 [==============================] - 1s 27ms/step - loss: 0.3984 - val_loss: 0.3182\n",
      "Epoch 41/100\n",
      "56/56 [==============================] - 2s 27ms/step - loss: 0.4024 - val_loss: 0.3175\n",
      "Epoch 42/100\n",
      "56/56 [==============================] - 1s 26ms/step - loss: 0.3944 - val_loss: 0.3147\n",
      "Epoch 43/100\n",
      "56/56 [==============================] - 1s 26ms/step - loss: 0.3873 - val_loss: 0.3133\n",
      "Epoch 44/100\n",
      "56/56 [==============================] - 1s 27ms/step - loss: 0.3865 - val_loss: 0.3097\n",
      "Epoch 45/100\n",
      "56/56 [==============================] - 2s 31ms/step - loss: 0.3928 - val_loss: 0.3142\n",
      "Epoch 46/100\n",
      "56/56 [==============================] - 1s 26ms/step - loss: 0.3774 - val_loss: 0.3091\n",
      "Epoch 47/100\n",
      "56/56 [==============================] - 1s 26ms/step - loss: 0.3677 - val_loss: 0.3093\n",
      "Epoch 48/100\n",
      "56/56 [==============================] - 1s 26ms/step - loss: 0.3872 - val_loss: 0.3004\n",
      "Epoch 49/100\n",
      "56/56 [==============================] - 1s 27ms/step - loss: 0.3781 - val_loss: 0.3017\n",
      "Epoch 50/100\n",
      "56/56 [==============================] - 2s 28ms/step - loss: 0.3727 - val_loss: 0.2782\n",
      "Epoch 51/100\n",
      "56/56 [==============================] - 2s 42ms/step - loss: 0.3623 - val_loss: 0.2770\n",
      "Epoch 52/100\n",
      "56/56 [==============================] - 2s 27ms/step - loss: 0.3550 - val_loss: 0.2688\n",
      "Epoch 53/100\n",
      "56/56 [==============================] - 1s 26ms/step - loss: 0.3570 - val_loss: 0.2591\n",
      "Epoch 54/100\n",
      "56/56 [==============================] - 1s 26ms/step - loss: 0.3518 - val_loss: 0.2601\n",
      "Epoch 55/100\n",
      "56/56 [==============================] - 1s 26ms/step - loss: 0.3433 - val_loss: 0.2842\n",
      "Epoch 56/100\n",
      "56/56 [==============================] - 1s 26ms/step - loss: 0.3428 - val_loss: 0.2844\n",
      "Epoch 57/100\n",
      "56/56 [==============================] - 1s 26ms/step - loss: 0.3489 - val_loss: 0.2330\n",
      "Epoch 58/100\n",
      "56/56 [==============================] - 2s 29ms/step - loss: 0.3346 - val_loss: 0.1969\n",
      "Epoch 59/100\n",
      "56/56 [==============================] - 2s 27ms/step - loss: 0.3379 - val_loss: 0.2399\n",
      "Epoch 60/100\n",
      "56/56 [==============================] - 1s 26ms/step - loss: 0.3336 - val_loss: 0.2181\n",
      "Epoch 61/100\n",
      "56/56 [==============================] - 1s 26ms/step - loss: 0.3273 - val_loss: 0.2049\n",
      "Epoch 62/100\n",
      "56/56 [==============================] - 1s 26ms/step - loss: 0.3323 - val_loss: 0.1853\n",
      "Epoch 63/100\n",
      "56/56 [==============================] - 1s 26ms/step - loss: 0.3237 - val_loss: 0.1733\n",
      "Epoch 64/100\n",
      "56/56 [==============================] - 1s 26ms/step - loss: 0.3181 - val_loss: 0.1853\n",
      "Epoch 65/100\n",
      "56/56 [==============================] - 2s 28ms/step - loss: 0.3168 - val_loss: 0.1999\n",
      "Epoch 66/100\n",
      "56/56 [==============================] - 2s 30ms/step - loss: 0.3134 - val_loss: 0.2067\n",
      "Epoch 67/100\n",
      "56/56 [==============================] - 2s 28ms/step - loss: 0.3060 - val_loss: 0.2026\n",
      "Epoch 68/100\n",
      "56/56 [==============================] - 2s 34ms/step - loss: 0.3067 - val_loss: 0.2027\n",
      "Epoch 69/100\n",
      "56/56 [==============================] - 2s 27ms/step - loss: 0.2955 - val_loss: 0.1596\n",
      "Epoch 70/100\n",
      "56/56 [==============================] - 2s 33ms/step - loss: 0.2954 - val_loss: 0.1719\n",
      "Epoch 71/100\n",
      "56/56 [==============================] - 2s 41ms/step - loss: 0.2889 - val_loss: 0.1398\n",
      "Epoch 72/100\n",
      "56/56 [==============================] - 2s 32ms/step - loss: 0.2887 - val_loss: 0.1798\n",
      "Epoch 73/100\n",
      "56/56 [==============================] - 2s 28ms/step - loss: 0.2791 - val_loss: 0.1613\n",
      "Epoch 74/100\n",
      "56/56 [==============================] - 2s 28ms/step - loss: 0.2735 - val_loss: 0.1603\n",
      "Epoch 75/100\n",
      "56/56 [==============================] - 1s 26ms/step - loss: 0.2811 - val_loss: 0.1497\n",
      "Epoch 76/100\n",
      "56/56 [==============================] - 1s 26ms/step - loss: 0.2769 - val_loss: 0.1128\n",
      "Epoch 77/100\n",
      "56/56 [==============================] - 1s 26ms/step - loss: 0.2685 - val_loss: 0.1192\n",
      "Epoch 78/100\n",
      "56/56 [==============================] - 2s 31ms/step - loss: 0.2677 - val_loss: 0.0977\n",
      "Epoch 79/100\n",
      "56/56 [==============================] - 1s 27ms/step - loss: 0.2638 - val_loss: 0.1155\n",
      "Epoch 80/100\n",
      "56/56 [==============================] - 1s 26ms/step - loss: 0.2668 - val_loss: 0.1004\n",
      "Epoch 81/100\n",
      "56/56 [==============================] - 1s 26ms/step - loss: 0.2588 - val_loss: 0.0879\n",
      "Epoch 82/100\n",
      "56/56 [==============================] - 1s 26ms/step - loss: 0.2566 - val_loss: 0.0898\n",
      "Epoch 83/100\n",
      "56/56 [==============================] - 1s 26ms/step - loss: 0.2548 - val_loss: 0.1153\n",
      "Epoch 84/100\n",
      "56/56 [==============================] - 1s 26ms/step - loss: 0.2503 - val_loss: 0.0850\n",
      "Epoch 85/100\n",
      "56/56 [==============================] - 2s 32ms/step - loss: 0.2506 - val_loss: 0.0838\n",
      "Epoch 86/100\n",
      "56/56 [==============================] - 1s 27ms/step - loss: 0.2396 - val_loss: 0.0902\n",
      "Epoch 87/100\n",
      "56/56 [==============================] - 1s 27ms/step - loss: 0.2391 - val_loss: 0.1000\n",
      "Epoch 88/100\n",
      "56/56 [==============================] - 1s 26ms/step - loss: 0.2328 - val_loss: 0.1012\n",
      "Epoch 89/100\n",
      "56/56 [==============================] - 2s 33ms/step - loss: 0.2318 - val_loss: 0.0968\n",
      "Epoch 90/100\n",
      "56/56 [==============================] - 2s 32ms/step - loss: 0.2246 - val_loss: 0.0901\n",
      "Epoch 91/100\n",
      "56/56 [==============================] - 2s 28ms/step - loss: 0.2174 - val_loss: 0.0994\n",
      "Epoch 92/100\n",
      "56/56 [==============================] - 2s 32ms/step - loss: 0.2231 - val_loss: 0.0837\n",
      "Epoch 93/100\n",
      "56/56 [==============================] - 2s 27ms/step - loss: 0.2116 - val_loss: 0.0789\n",
      "Epoch 94/100\n",
      "56/56 [==============================] - 1s 27ms/step - loss: 0.2194 - val_loss: 0.0747\n",
      "Epoch 95/100\n",
      "56/56 [==============================] - 1s 26ms/step - loss: 0.2098 - val_loss: 0.0768\n",
      "Epoch 96/100\n",
      "56/56 [==============================] - 1s 26ms/step - loss: 0.2060 - val_loss: 0.0734\n",
      "Epoch 97/100\n",
      "56/56 [==============================] - 1s 26ms/step - loss: 0.2078 - val_loss: 0.0773\n",
      "Epoch 98/100\n",
      "56/56 [==============================] - 1s 26ms/step - loss: 0.2058 - val_loss: 0.0744\n",
      "Epoch 99/100\n",
      "56/56 [==============================] - 2s 31ms/step - loss: 0.2005 - val_loss: 0.0797\n",
      "Epoch 100/100\n",
      "56/56 [==============================] - 1s 26ms/step - loss: 0.1976 - val_loss: 0.0805\n"
     ]
    }
   ],
   "source": [
    "#10 + 10 +10\n",
    "unfreeze_model(model)\n",
    "\n",
    "history = model.fit(train_generator, \n",
    "                    validation_data=val_generator,\n",
    "                    epochs=100)"
   ]
  },
  {
   "cell_type": "markdown",
   "metadata": {
    "id": "HvHov45D2qwx",
    "papermill": {
     "duration": 0.633459,
     "end_time": "2021-01-08T11:22:03.050103",
     "exception": false,
     "start_time": "2021-01-08T11:22:02.416644",
     "status": "completed"
    },
    "tags": []
   },
   "source": [
    "#### **Evaluate the model**"
   ]
  },
  {
   "cell_type": "code",
   "execution_count": 20,
   "metadata": {
    "execution": {
     "iopub.execute_input": "2021-01-08T11:22:04.319827Z",
     "iopub.status.busy": "2021-01-08T11:22:04.318400Z",
     "iopub.status.idle": "2021-01-08T11:22:04.578623Z",
     "shell.execute_reply": "2021-01-08T11:22:04.579095Z"
    },
    "id": "RYKhDBx9MgTN",
    "outputId": "52aeb591-a793-4482-b854-38914ebd81a9",
    "papermill": {
     "duration": 0.896751,
     "end_time": "2021-01-08T11:22:04.579223",
     "exception": false,
     "start_time": "2021-01-08T11:22:03.682472",
     "status": "completed"
    },
    "tags": []
   },
   "outputs": [
    {
     "name": "stdout",
     "output_type": "stream",
     "text": [
      "14/14 [==============================] - 0s 13ms/step - loss: 0.0802\n"
     ]
    },
    {
     "data": {
      "text/plain": [
       "0.08022204786539078"
      ]
     },
     "execution_count": 20,
     "metadata": {},
     "output_type": "execute_result"
    }
   ],
   "source": [
    "model.evaluate(val_generator)"
   ]
  },
  {
   "cell_type": "code",
   "execution_count": 21,
   "metadata": {
    "execution": {
     "iopub.execute_input": "2021-01-08T11:22:05.865115Z",
     "iopub.status.busy": "2021-01-08T11:22:05.864471Z",
     "iopub.status.idle": "2021-01-08T11:22:06.044592Z",
     "shell.execute_reply": "2021-01-08T11:22:06.043697Z"
    },
    "id": "FYqFSqoqe8Do",
    "outputId": "acccfe34-e1ed-4dee-db6f-d388e7efb6c5",
    "papermill": {
     "duration": 0.824863,
     "end_time": "2021-01-08T11:22:06.044695",
     "exception": false,
     "start_time": "2021-01-08T11:22:05.219832",
     "status": "completed"
    },
    "tags": []
   },
   "outputs": [
    {
     "data": {
      "text/plain": [
       "Text(0.5, 1.0, 'Training and validation loss')"
      ]
     },
     "execution_count": 21,
     "metadata": {},
     "output_type": "execute_result"
    },
    {
     "data": {
      "image/png": "[encoded data removed]",
      "text/plain": [
       "<Figure size 432x288 with 1 Axes>"
      ]
     },
     "metadata": {
      "needs_background": "light"
     },
     "output_type": "display_data"
    }
   ],
   "source": [
    "# Retrieve a list of list results on training and test data sets for each training epoch\n",
    "loss     = history.history['loss']\n",
    "val_loss = history.history['val_loss']\n",
    "epochs   = range(len(loss))\n",
    "# Plot training and validation loss per epoch\n",
    "plt.plot(epochs,loss, color='red' , label='training loss')\n",
    "plt.plot(epochs, val_loss, label='validation loss')\n",
    "plt.legend()\n",
    "plt.title ('Training and validation loss')"
   ]
  },
  {
   "cell_type": "markdown",
   "metadata": {
    "id": "BIr2js1Z2ipI",
    "papermill": {
     "duration": 0.639311,
     "end_time": "2021-01-08T11:22:07.350513",
     "exception": false,
     "start_time": "2021-01-08T11:22:06.711202",
     "status": "completed"
    },
    "tags": []
   },
   "source": [
    "#### **Test the model on random images**"
   ]
  },
  {
   "cell_type": "code",
   "execution_count": 22,
   "metadata": {
    "execution": {
     "iopub.execute_input": "2021-01-08T11:22:08.939206Z",
     "iopub.status.busy": "2021-01-08T11:22:08.938409Z",
     "iopub.status.idle": "2021-01-08T11:22:08.944512Z",
     "shell.execute_reply": "2021-01-08T11:22:08.944103Z"
    },
    "id": "MnxNCLAA1xvB",
    "outputId": "16288291-87dc-4ac3-ba1f-30a59d2fa79a",
    "papermill": {
     "duration": 0.9549,
     "end_time": "2021-01-08T11:22:08.944605",
     "exception": false,
     "start_time": "2021-01-08T11:22:07.989705",
     "status": "completed"
    },
    "tags": []
   },
   "outputs": [
    {
     "data": {
      "text/plain": [
       "{'left_eyebrow_inner_end_x': MinMaxScaler(),\n",
       " 'left_eyebrow_inner_end_y': MinMaxScaler()}"
      ]
     },
     "execution_count": 22,
     "metadata": {},
     "output_type": "execute_result"
    }
   ],
   "source": [
    "scalers_dict"
   ]
  },
  {
   "cell_type": "code",
   "execution_count": 23,
   "metadata": {
    "execution": {
     "iopub.execute_input": "2021-01-08T11:22:10.327255Z",
     "iopub.status.busy": "2021-01-08T11:22:10.326369Z",
     "iopub.status.idle": "2021-01-08T11:22:12.064744Z",
     "shell.execute_reply": "2021-01-08T11:22:12.064310Z"
    },
    "id": "EbY6XCqHPvoO",
    "outputId": "85d7b89c-efa4-405a-986a-92f79d589697",
    "papermill": {
     "duration": 2.433014,
     "end_time": "2021-01-08T11:22:12.064865",
     "exception": false,
     "start_time": "2021-01-08T11:22:09.631851",
     "status": "completed"
    },
    "tags": []
   },
   "outputs": [
    {
     "name": "stdout",
     "output_type": "stream",
     "text": [
      "[0.634634   0.29085547]\n",
      "[57.172    28.952665]\n",
      "[[0.58051777 0.30549338]]\n",
      "[[53.82225  29.611614]]\n"
     ]
    },
    {
     "data": {
      "image/png": "[encoded data removed]",
      "text/plain": [
       "<Figure size 432x288 with 1 Axes>"
      ]
     },
     "metadata": {
      "needs_background": "light"
     },
     "output_type": "display_data"
    }
   ],
   "source": [
    "batch = val_generator.__getitem__(2)\n",
    "j= np.random.randint(0,len(batch[0]))\n",
    "# check original image \n",
    "print(batch[1][j:j+1][0])\n",
    "actual_y= batch[1][j:j+1][0]\n",
    "actual_y[0] = scalers_dict[feature_name+\"_x\"].inverse_transform([[actual_y[0]]])\n",
    "actual_y[1] = scalers_dict[feature_name+\"_y\"].inverse_transform([[actual_y[1]]])\n",
    "print(actual_y)\n",
    "##############################################\n",
    "predicted_y = model.predict(batch[0][j:j+1])\n",
    "print(predicted_y)\n",
    "# uncomment in case we have used the scaling\n",
    "predicted_y[:,:1] = scalers_dict[feature_name+\"_x\"].inverse_transform(predicted_y[:,:1])\n",
    "predicted_y[:,1:] = scalers_dict[feature_name+\"_y\"].inverse_transform(predicted_y[:,1:])\n",
    "print(predicted_y)\n",
    "##############################################3\n",
    "visualize_image(batch[0][j:j+1].reshape(96,96,3)[:,:,0],actual_y, predicted_y[0])"
   ]
  },
  {
   "cell_type": "markdown",
   "metadata": {
    "id": "Q3sMZnVZ3-dd",
    "papermill": {
     "duration": 0.661391,
     "end_time": "2021-01-08T11:22:13.381361",
     "exception": false,
     "start_time": "2021-01-08T11:22:12.719970",
     "status": "completed"
    },
    "tags": []
   },
   "source": [
    "**Its very impressive how close are the predicted corrdinates to the original ones**"
   ]
  },
  {
   "cell_type": "markdown",
   "metadata": {
    "id": "KOW_zMQ5PvoS",
    "papermill": {
     "duration": 0.84792,
     "end_time": "2021-01-08T11:22:14.883359",
     "exception": false,
     "start_time": "2021-01-08T11:22:14.035439",
     "status": "completed"
    },
    "tags": []
   },
   "source": [
    "#### **Test on missing data**"
   ]
  },
  {
   "cell_type": "code",
   "execution_count": 24,
   "metadata": {
    "execution": {
     "iopub.execute_input": "2021-01-08T11:22:16.360517Z",
     "iopub.status.busy": "2021-01-08T11:22:16.359623Z",
     "iopub.status.idle": "2021-01-08T11:22:16.362429Z",
     "shell.execute_reply": "2021-01-08T11:22:16.362842Z"
    },
    "id": "zKZ1t2qoPvoS",
    "outputId": "2c2688c2-cb6d-4ad7-dad1-9fabe60c1d13",
    "papermill": {
     "duration": 0.684267,
     "end_time": "2021-01-08T11:22:16.362950",
     "exception": false,
     "start_time": "2021-01-08T11:22:15.678683",
     "status": "completed"
    },
    "tags": []
   },
   "outputs": [
    {
     "data": {
      "text/plain": [
       "'left_eyebrow_inner_end'"
      ]
     },
     "execution_count": 24,
     "metadata": {},
     "output_type": "execute_result"
    }
   ],
   "source": [
    "feature_name"
   ]
  },
  {
   "cell_type": "code",
   "execution_count": 25,
   "metadata": {
    "execution": {
     "iopub.execute_input": "2021-01-08T11:22:18.137296Z",
     "iopub.status.busy": "2021-01-08T11:22:18.136575Z",
     "iopub.status.idle": "2021-01-08T11:22:18.140304Z",
     "shell.execute_reply": "2021-01-08T11:22:18.139870Z"
    },
    "id": "BlsfoMj3PvoT",
    "papermill": {
     "duration": 0.92589,
     "end_time": "2021-01-08T11:22:18.140400",
     "exception": false,
     "start_time": "2021-01-08T11:22:17.214510",
     "status": "completed"
    },
    "tags": []
   },
   "outputs": [],
   "source": [
    "rgb_channels= True\n",
    "normalize_image = True\n",
    "def pre_process_images(image):\n",
    "    image = np.vstack(image).reshape(-1, 96, 96, 1).astype(np.float32)\n",
    "    if rgb_channels:\n",
    "        image = np.repeat(image,3,-1)\n",
    "    if normalize_image == True:\n",
    "        image = image/255\n",
    "    return image"
   ]
  },
  {
   "cell_type": "code",
   "execution_count": 26,
   "metadata": {
    "execution": {
     "iopub.execute_input": "2021-01-08T11:22:19.424902Z",
     "iopub.status.busy": "2021-01-08T11:22:19.424328Z",
     "iopub.status.idle": "2021-01-08T11:22:19.427888Z",
     "shell.execute_reply": "2021-01-08T11:22:19.428503Z"
    },
    "id": "NsF-GdN6PvoU",
    "papermill": {
     "duration": 0.649509,
     "end_time": "2021-01-08T11:22:19.428626",
     "exception": false,
     "start_time": "2021-01-08T11:22:18.779117",
     "status": "completed"
    },
    "tags": []
   },
   "outputs": [],
   "source": [
    "missing_data = dic_missing_data[feature_name]"
   ]
  },
  {
   "cell_type": "code",
   "execution_count": 27,
   "metadata": {
    "execution": {
     "iopub.execute_input": "2021-01-08T11:22:20.816583Z",
     "iopub.status.busy": "2021-01-08T11:22:20.815650Z",
     "iopub.status.idle": "2021-01-08T11:22:20.819421Z",
     "shell.execute_reply": "2021-01-08T11:22:20.817331Z"
    },
    "id": "xgfXwWOMDj0N",
    "outputId": "c74688b4-7479-421a-9a07-3925a7096300",
    "papermill": {
     "duration": 0.740959,
     "end_time": "2021-01-08T11:22:20.819554",
     "exception": false,
     "start_time": "2021-01-08T11:22:20.078595",
     "status": "completed"
    },
    "tags": []
   },
   "outputs": [
    {
     "data": {
      "text/plain": [
       "4779"
      ]
     },
     "execution_count": 27,
     "metadata": {},
     "output_type": "execute_result"
    }
   ],
   "source": [
    "len(missing_data)"
   ]
  },
  {
   "cell_type": "code",
   "execution_count": 28,
   "metadata": {
    "execution": {
     "iopub.execute_input": "2021-01-08T11:22:22.321427Z",
     "iopub.status.busy": "2021-01-08T11:22:22.320592Z",
     "iopub.status.idle": "2021-01-08T11:22:22.505369Z",
     "shell.execute_reply": "2021-01-08T11:22:22.505773Z"
    },
    "id": "7janB8HOPvoU",
    "outputId": "5698bbf5-06b1-44d6-99e4-3920e4ea689a",
    "papermill": {
     "duration": 0.831552,
     "end_time": "2021-01-08T11:22:22.505900",
     "exception": false,
     "start_time": "2021-01-08T11:22:21.674348",
     "status": "completed"
    },
    "tags": []
   },
   "outputs": [
    {
     "name": "stdout",
     "output_type": "stream",
     "text": [
      "[[0.57912743 0.30622363]]\n",
      "[[53.73619  29.644487]]\n"
     ]
    },
    {
     "data": {
      "image/png": "[encoded data removed]",
      "text/plain": [
       "<Figure size 432x288 with 1 Axes>"
      ]
     },
     "metadata": {
      "needs_background": "light"
     },
     "output_type": "display_data"
    }
   ],
   "source": [
    "# take a random image and test on it\n",
    "l = np.random.randint(0, len(missing_data)-1)\n",
    "image = missing_data.iloc[l][\"Image\"]\n",
    "image = pre_process_images(image)\n",
    "predicted_y = model.predict(image)\n",
    "print(predicted_y)\n",
    "# uncomment in case we have used the scaling\n",
    "predicted_y[:,:1] = scalers_dict[feature_name+\"_x\"].inverse_transform(predicted_y[:,:1])\n",
    "predicted_y[:,1:] = scalers_dict[feature_name+\"_y\"].inverse_transform(predicted_y[:,1:])\n",
    "print(predicted_y)\n",
    "visualize_image(image.reshape(96,96,3)[:,:,0],None, predicted_y[0])"
   ]
  },
  {
   "cell_type": "markdown",
   "metadata": {
    "id": "eCtvSBv2PvoV",
    "papermill": {
     "duration": 0.642181,
     "end_time": "2021-01-08T11:22:23.797589",
     "exception": false,
     "start_time": "2021-01-08T11:22:23.155408",
     "status": "completed"
    },
    "tags": []
   },
   "source": [
    "#### **Save model**"
   ]
  },
  {
   "cell_type": "code",
   "execution_count": 29,
   "metadata": {
    "execution": {
     "iopub.execute_input": "2021-01-08T11:22:25.165477Z",
     "iopub.status.busy": "2021-01-08T11:22:25.145116Z",
     "iopub.status.idle": "2021-01-08T11:22:25.482466Z",
     "shell.execute_reply": "2021-01-08T11:22:25.481689Z"
    },
    "id": "PHDvP_QL39lh",
    "papermill": {
     "duration": 1.016072,
     "end_time": "2021-01-08T11:22:25.482570",
     "exception": false,
     "start_time": "2021-01-08T11:22:24.466498",
     "status": "completed"
    },
    "tags": []
   },
   "outputs": [],
   "source": [
    "# save model and architecture to single file\n",
    "model.save(model_path)"
   ]
  },
  {
   "cell_type": "code",
   "execution_count": null,
   "metadata": {
    "id": "ERAMk1EHPvoX",
    "papermill": {
     "duration": 0.639902,
     "end_time": "2021-01-08T11:22:26.761098",
     "exception": false,
     "start_time": "2021-01-08T11:22:26.121196",
     "status": "completed"
    },
    "tags": []
   },
   "outputs": [],
   "source": []
  },
  {
   "cell_type": "code",
   "execution_count": null,
   "metadata": {
    "papermill": {
     "duration": 0.652007,
     "end_time": "2021-01-08T11:22:28.051126",
     "exception": false,
     "start_time": "2021-01-08T11:22:27.399119",
     "status": "completed"
    },
    "tags": []
   },
   "outputs": [],
   "source": []
  }
 ],
 "metadata": {
  "kernelspec": {
   "display_name": "Python 3",
   "language": "python",
   "name": "python3"
  },
  "language_info": {
   "codemirror_mode": {
    "name": "ipython",
    "version": 3
   },
   "file_extension": ".py",
   "mimetype": "text/x-python",
   "name": "python",
   "nbconvert_exporter": "python",
   "pygments_lexer": "ipython3",
   "version": "3.7.6"
  },
  "papermill": {
   "duration": 228.023934,
   "end_time": "2021-01-08T11:22:29.860510",
   "environment_variables": {},
   "exception": null,
   "input_path": "__notebook__.ipynb",
   "output_path": "__notebook__.ipynb",
   "parameters": {},
   "start_time": "2021-01-08T11:18:41.836576",
   "version": "2.1.0"
  }
 },
 "nbformat": 4,
 "nbformat_minor": 4
}
