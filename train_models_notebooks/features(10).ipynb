{
 "cells": [
  {
   "cell_type": "code",
   "execution_count": 1,
   "metadata": {
    "execution": {
     "iopub.execute_input": "2021-01-08T14:29:38.984611Z",
     "iopub.status.busy": "2021-01-08T14:29:38.983806Z",
     "iopub.status.idle": "2021-01-08T14:29:38.986870Z",
     "shell.execute_reply": "2021-01-08T14:29:38.986338Z"
    },
    "id": "mt9t-79OPvng",
    "papermill": {
     "duration": 0.041041,
     "end_time": "2021-01-08T14:29:38.986974",
     "exception": false,
     "start_time": "2021-01-08T14:29:38.945933",
     "status": "completed"
    },
    "tags": []
   },
   "outputs": [],
   "source": [
    "feature_index = 10"
   ]
  },
  {
   "cell_type": "code",
   "execution_count": 2,
   "metadata": {
    "execution": {
     "iopub.execute_input": "2021-01-08T14:29:39.049243Z",
     "iopub.status.busy": "2021-01-08T14:29:39.048466Z",
     "iopub.status.idle": "2021-01-08T14:29:39.051802Z",
     "shell.execute_reply": "2021-01-08T14:29:39.051241Z"
    },
    "id": "29LaKxCh-Em7",
    "papermill": {
     "duration": 0.03526,
     "end_time": "2021-01-08T14:29:39.051919",
     "exception": false,
     "start_time": "2021-01-08T14:29:39.016659",
     "status": "completed"
    },
    "tags": []
   },
   "outputs": [],
   "source": [
    "# import os\n",
    "# os.environ['KAGGLE_USERNAME'] = \"mariaafara\" # username from the json file\n",
    "# os.environ['KAGGLE_KEY'] = \"25755ae03c0b83042774e5e0d15b886e\" # key from the json file\n",
    "#Crearting a Client to host the Kaggle API\n",
    "# !pip install -q kaggle\n",
    "# !kaggle datasets download mariaafara/Facial-Landmarks\n",
    "# !unzip Facial-Landmarks.zip -d facial-keypoints-detection"
   ]
  },
  {
   "cell_type": "code",
   "execution_count": 3,
   "metadata": {
    "execution": {
     "iopub.execute_input": "2021-01-08T14:29:39.119957Z",
     "iopub.status.busy": "2021-01-08T14:29:39.119262Z",
     "iopub.status.idle": "2021-01-08T14:29:45.667795Z",
     "shell.execute_reply": "2021-01-08T14:29:45.666410Z"
    },
    "id": "3f3roaNK6hfZ",
    "papermill": {
     "duration": 6.586523,
     "end_time": "2021-01-08T14:29:45.667940",
     "exception": false,
     "start_time": "2021-01-08T14:29:39.081417",
     "status": "completed"
    },
    "tags": []
   },
   "outputs": [],
   "source": [
    "import numpy as np\n",
    "import pandas as pd\n",
    "import math\n",
    "import random\n",
    "import seaborn as sns\n",
    "import matplotlib.pyplot as plt\n",
    "import tensorflow as tf\n",
    "import tensorflow.keras as keras\n",
    "from tensorflow.keras.models import Sequential\n",
    "from tensorflow.keras.layers import Dense, Dropout, Flatten, Input, Conv2D, MaxPooling2D, GlobalAveragePooling2D, BatchNormalization\n",
    "from sklearn.model_selection import train_test_split\n",
    "from sklearn import preprocessing\n",
    "from sklearn.preprocessing import MinMaxScaler\n",
    "from tensorflow.keras import optimizers\n",
    "from IPython.display import clear_output\n",
    "pd.options.mode.chained_assignment = None  # default='warn'\n"
   ]
  },
  {
   "cell_type": "code",
   "execution_count": 4,
   "metadata": {
    "execution": {
     "iopub.execute_input": "2021-01-08T14:29:45.730884Z",
     "iopub.status.busy": "2021-01-08T14:29:45.729964Z",
     "iopub.status.idle": "2021-01-08T14:29:45.732257Z",
     "shell.execute_reply": "2021-01-08T14:29:45.732694Z"
    },
    "id": "9_E22cct-EnI",
    "papermill": {
     "duration": 0.035575,
     "end_time": "2021-01-08T14:29:45.732857",
     "exception": false,
     "start_time": "2021-01-08T14:29:45.697282",
     "status": "completed"
    },
    "tags": []
   },
   "outputs": [],
   "source": [
    "train_data_path = \"/kaggle/input/facial-landmarks/dic_train_data.pkl\"\n",
    "missing_data_path = \"/kaggle/input/facial-landmarks/dic_missing_data.pkl\"\n",
    "# train_data_path = \"data/dic_train_data.pkl\"\n",
    "# missing_data_path = \"data/dic_missing_data.pkl\""
   ]
  },
  {
   "cell_type": "code",
   "execution_count": 5,
   "metadata": {
    "execution": {
     "iopub.execute_input": "2021-01-08T14:29:45.795226Z",
     "iopub.status.busy": "2021-01-08T14:29:45.794457Z",
     "iopub.status.idle": "2021-01-08T14:29:53.982589Z",
     "shell.execute_reply": "2021-01-08T14:29:53.983244Z"
    },
    "id": "9iJTuxj_kNfQ",
    "papermill": {
     "duration": 8.221965,
     "end_time": "2021-01-08T14:29:53.983386",
     "exception": false,
     "start_time": "2021-01-08T14:29:45.761421",
     "status": "completed"
    },
    "tags": []
   },
   "outputs": [],
   "source": [
    "import pickle as pkl\n",
    "\n",
    "dic_train_data = pkl.load(open(train_data_path,\"rb\"))\n",
    "dic_missing_data = pkl.load(open(missing_data_path,\"rb\"))"
   ]
  },
  {
   "cell_type": "code",
   "execution_count": 6,
   "metadata": {
    "execution": {
     "iopub.execute_input": "2021-01-08T14:29:54.100465Z",
     "iopub.status.busy": "2021-01-08T14:29:54.098555Z",
     "iopub.status.idle": "2021-01-08T14:29:54.106975Z",
     "shell.execute_reply": "2021-01-08T14:29:54.107650Z"
    },
    "id": "6TdjVdwEPvny",
    "outputId": "c49a7d54-3444-4bef-f242-751e108f21f3",
    "papermill": {
     "duration": 0.072964,
     "end_time": "2021-01-08T14:29:54.107859",
     "exception": false,
     "start_time": "2021-01-08T14:29:54.034895",
     "status": "completed"
    },
    "tags": []
   },
   "outputs": [
    {
     "data": {
      "text/plain": [
       "['left_eye_center',\n",
       " 'right_eye_center',\n",
       " 'left_eye_inner_corner',\n",
       " 'left_eye_outer_corner',\n",
       " 'right_eye_inner_corner',\n",
       " 'right_eye_outer_corner',\n",
       " 'left_eyebrow_inner_end',\n",
       " 'left_eyebrow_outer_end',\n",
       " 'right_eyebrow_inner_end',\n",
       " 'right_eyebrow_outer_end',\n",
       " 'mouth_left_corner',\n",
       " 'mouth_right_corner',\n",
       " 'mouth_center_top_lip',\n",
       " 'mouth_center_bottom_lip']"
      ]
     },
     "execution_count": 6,
     "metadata": {},
     "output_type": "execute_result"
    }
   ],
   "source": [
    "features = list(dic_train_data.keys())\n",
    "features"
   ]
  },
  {
   "cell_type": "code",
   "execution_count": 7,
   "metadata": {
    "execution": {
     "iopub.execute_input": "2021-01-08T14:29:54.197625Z",
     "iopub.status.busy": "2021-01-08T14:29:54.196782Z",
     "iopub.status.idle": "2021-01-08T14:29:54.201733Z",
     "shell.execute_reply": "2021-01-08T14:29:54.202399Z"
    },
    "id": "ydLdeD8YPvn1",
    "outputId": "f34d38aa-b9d9-4a29-f689-35bd6a3aa98e",
    "papermill": {
     "duration": 0.054699,
     "end_time": "2021-01-08T14:29:54.202559",
     "exception": false,
     "start_time": "2021-01-08T14:29:54.147860",
     "status": "completed"
    },
    "tags": []
   },
   "outputs": [
    {
     "data": {
      "text/plain": [
       "'mouth_left_corner'"
      ]
     },
     "execution_count": 7,
     "metadata": {},
     "output_type": "execute_result"
    }
   ],
   "source": [
    "feature_name = features[feature_index]\n",
    "feature_name"
   ]
  },
  {
   "cell_type": "code",
   "execution_count": 8,
   "metadata": {
    "execution": {
     "iopub.execute_input": "2021-01-08T14:29:54.306348Z",
     "iopub.status.busy": "2021-01-08T14:29:54.305282Z",
     "iopub.status.idle": "2021-01-08T14:29:54.310126Z",
     "shell.execute_reply": "2021-01-08T14:29:54.309301Z"
    },
    "id": "APi2VVkKQFOm",
    "papermill": {
     "duration": 0.066057,
     "end_time": "2021-01-08T14:29:54.310276",
     "exception": false,
     "start_time": "2021-01-08T14:29:54.244219",
     "status": "completed"
    },
    "tags": []
   },
   "outputs": [],
   "source": [
    "scalers_path = feature_name+\"_scalers_dict.pkl\"\n",
    "model_path = feature_name+\".h5\"\n",
    "\n",
    "# scalers_path = \"data/\"+feature_name+\"_scalers_dict.pkl\"\n",
    "# model_path = \"models/\"+feature_name+\".h5\""
   ]
  },
  {
   "cell_type": "code",
   "execution_count": 9,
   "metadata": {
    "execution": {
     "iopub.execute_input": "2021-01-08T14:29:54.406616Z",
     "iopub.status.busy": "2021-01-08T14:29:54.405719Z",
     "iopub.status.idle": "2021-01-08T14:29:55.574715Z",
     "shell.execute_reply": "2021-01-08T14:29:55.574177Z"
    },
    "id": "UHAb9cCEPvn3",
    "outputId": "cdb32799-3d8e-4470-e682-c8b1a792037b",
    "papermill": {
     "duration": 1.222539,
     "end_time": "2021-01-08T14:29:55.574852",
     "exception": false,
     "start_time": "2021-01-08T14:29:54.352313",
     "status": "completed"
    },
    "tags": []
   },
   "outputs": [
    {
     "data": {
      "text/html": [
       "<div>\n",
       "<style scoped>\n",
       "    .dataframe tbody tr th:only-of-type {\n",
       "        vertical-align: middle;\n",
       "    }\n",
       "\n",
       "    .dataframe tbody tr th {\n",
       "        vertical-align: top;\n",
       "    }\n",
       "\n",
       "    .dataframe thead th {\n",
       "        text-align: right;\n",
       "    }\n",
       "</style>\n",
       "<table border=\"1\" class=\"dataframe\">\n",
       "  <thead>\n",
       "    <tr style=\"text-align: right;\">\n",
       "      <th></th>\n",
       "      <th>mouth_left_corner_x</th>\n",
       "      <th>mouth_left_corner_y</th>\n",
       "      <th>Image</th>\n",
       "    </tr>\n",
       "  </thead>\n",
       "  <tbody>\n",
       "    <tr>\n",
       "      <th>0</th>\n",
       "      <td>61.195308</td>\n",
       "      <td>79.970165</td>\n",
       "      <td>[[238, 236, 237, 238, 240, 240, 239, 241, 241,...</td>\n",
       "    </tr>\n",
       "    <tr>\n",
       "      <th>1</th>\n",
       "      <td>56.421447</td>\n",
       "      <td>76.352000</td>\n",
       "      <td>[[219, 215, 204, 196, 204, 211, 212, 200, 180,...</td>\n",
       "    </tr>\n",
       "    <tr>\n",
       "      <th>2</th>\n",
       "      <td>60.822947</td>\n",
       "      <td>73.014316</td>\n",
       "      <td>[[144, 142, 159, 180, 188, 188, 184, 180, 167,...</td>\n",
       "    </tr>\n",
       "    <tr>\n",
       "      <th>3</th>\n",
       "      <td>65.598887</td>\n",
       "      <td>72.703722</td>\n",
       "      <td>[[193, 192, 193, 194, 194, 194, 193, 192, 168,...</td>\n",
       "    </tr>\n",
       "    <tr>\n",
       "      <th>4</th>\n",
       "      <td>60.671411</td>\n",
       "      <td>77.523239</td>\n",
       "      <td>[[147, 148, 160, 196, 215, 214, 216, 217, 219,...</td>\n",
       "    </tr>\n",
       "  </tbody>\n",
       "</table>\n",
       "</div>"
      ],
      "text/plain": [
       "   mouth_left_corner_x  mouth_left_corner_y  \\\n",
       "0            61.195308            79.970165   \n",
       "1            56.421447            76.352000   \n",
       "2            60.822947            73.014316   \n",
       "3            65.598887            72.703722   \n",
       "4            60.671411            77.523239   \n",
       "\n",
       "                                               Image  \n",
       "0  [[238, 236, 237, 238, 240, 240, 239, 241, 241,...  \n",
       "1  [[219, 215, 204, 196, 204, 211, 212, 200, 180,...  \n",
       "2  [[144, 142, 159, 180, 188, 188, 184, 180, 167,...  \n",
       "3  [[193, 192, 193, 194, 194, 194, 193, 192, 168,...  \n",
       "4  [[147, 148, 160, 196, 215, 214, 216, 217, 219,...  "
      ]
     },
     "execution_count": 9,
     "metadata": {},
     "output_type": "execute_result"
    }
   ],
   "source": [
    "dic_train_data[feature_name].head()"
   ]
  },
  {
   "cell_type": "markdown",
   "metadata": {
    "id": "Ys-qr2X5WKAR",
    "papermill": {
     "duration": 0.064285,
     "end_time": "2021-01-08T14:29:55.671897",
     "exception": false,
     "start_time": "2021-01-08T14:29:55.607612",
     "status": "completed"
    },
    "tags": []
   },
   "source": [
    "#### **Create custom Data Generator**\n",
    "\n",
    "**We will build a data generator that will load mini-batches and feed to the model dynamically**"
   ]
  },
  {
   "cell_type": "code",
   "execution_count": 10,
   "metadata": {
    "execution": {
     "iopub.execute_input": "2021-01-08T14:29:55.776502Z",
     "iopub.status.busy": "2021-01-08T14:29:55.759454Z",
     "iopub.status.idle": "2021-01-08T14:29:55.779229Z",
     "shell.execute_reply": "2021-01-08T14:29:55.778714Z"
    },
    "id": "i8PX_Elb-VQz",
    "papermill": {
     "duration": 0.076127,
     "end_time": "2021-01-08T14:29:55.779335",
     "exception": false,
     "start_time": "2021-01-08T14:29:55.703208",
     "status": "completed"
    },
    "tags": []
   },
   "outputs": [],
   "source": [
    "class DataGenerator(tf.keras.utils.Sequence):\n",
    "    def __init__(self, df, batch_size=32, rgb_channels=True, shuffle=True, augment=True, normalize_image=True, normalize_coordinates=False, scalers=None):\n",
    "        self.df = df\n",
    "        self.batch_size = batch_size\n",
    "        self.size = df.shape[0]\n",
    "        self.shuffle = shuffle\n",
    "        self.augment = augment\n",
    "        # Keras pre-trained models have trained on color images and if we want to use grayscale images we can still use these pre-trained models by repeating the grayscale image over three channels\n",
    "        self.rgb_channels = rgb_channels\n",
    "        self.normalize_image = normalize_image\n",
    "        self.normalize_coordinates = normalize_coordinates\n",
    "        self.scalers = scalers\n",
    "        self.feature_columns = df.columns.tolist()[:-1]\n",
    "        #  To keep track on which pairs of landmarks to be swapped, we introduce a dictionary recording the original and new landmark's index\n",
    "        self.left_right_dic = {'right_eye_center_x' : 'left_eye_center_x' ,\n",
    "                'right_eye_center_y' : 'left_eye_center_y' ,\n",
    "                'right_eye_inner_corner_x' : 'left_eye_inner_corner_x' ,\n",
    "                'right_eye_inner_corner_y' : 'left_eye_inner_corner_y' ,\n",
    "                'right_eye_outer_corner_x' : 'left_eye_outer_corner_x' ,\n",
    "                'right_eye_outer_corner_y' : 'left_eye_outer_corner_y' ,\n",
    "                'right_eyebrow_inner_end_x' : 'left_eyebrow_inner_end_x' ,\n",
    "                'right_eyebrow_inner_end_y' : 'left_eyebrow_inner_end_y' ,\n",
    "                'right_eyebrow_outer_end_x' : 'left_eyebrow_outer_end_x' ,\n",
    "                'right_eyebrow_outer_end_y' : 'left_eyebrow_outer_end_y' ,\n",
    "                'mouth_right_corner_x' : 'mouth_left_corner_x' ,\n",
    "                'mouth_right_corner_y' : 'mouth_left_corner_y' }\n",
    "        self.on_epoch_end()\n",
    "\n",
    "    def __len__(self):\n",
    "        'Denotes the number of batches per epoch'\n",
    "        return self.size // self.batch_size\n",
    "\n",
    "    def on_epoch_end(self):\n",
    "        'Updates indexes after each epoch'\n",
    "        self.indexes = np.arange(self.size)\n",
    "        if self.shuffle:\n",
    "            np.random.shuffle(self.indexes)\n",
    "\n",
    "    def __getitem__(self, index):\n",
    "        # selects indices of data for next batch`\n",
    "        indexes = self.indexes[index * self.batch_size : (index + 1) * self.batch_size]\n",
    "        'Generate one batch of data'\n",
    "        batched_df = self.df.iloc[indexes] #.sample(frac=1).reset_index(drop=True)\n",
    "\n",
    "        if self.augment == True:\n",
    "            df_batch = self.augmentor(batched_df)\n",
    "        else:\n",
    "            df_batch = batched_df\n",
    "\n",
    "\n",
    "        batched_images = np.vstack(df_batch[\"Image\"].values).reshape(-1, 96, 96, 1).astype(np.float32)\n",
    "        \n",
    "        if self.rgb_channels:\n",
    "            batched_images = np.repeat(batched_images,3,-1)\n",
    "\n",
    "        batched_feature_corrdinates = df_batch.iloc[:,:-1]\n",
    "        \n",
    "        if self.normalize_coordinates:\n",
    "            for col in self.feature_columns:\n",
    "                scaler = self.scalers[col]\n",
    "                batched_feature_corrdinates[col] = scaler.transform(batched_feature_corrdinates[col].to_numpy().reshape(-1, 1)).reshape(-1)\n",
    "\n",
    "        batched_feature_corrdinates = batched_feature_corrdinates.values.astype(np.float32) #feature coordinates        \n",
    "\n",
    "        if self.normalize_image == True:\n",
    "            batched_images = batched_images/255\n",
    "\n",
    "        return batched_images, batched_feature_corrdinates\n",
    "\n",
    "    def augmentor(self, df):\n",
    "\n",
    "        def flip_horizontally(row):\n",
    "            'Method that flips the image horizontally and swaps the features' \n",
    "            row[\"Image\"] = np.flip(row[\"Image\"], axis = 1)\n",
    "            # y coordinates values will stay the same while the x coordinates will have to be changed\n",
    "            # subtract our initial x-coordinate values from width of the image(96)\n",
    "            for i in range(len(self.feature_columns)):#+1\n",
    "                if i%2 == 0: # because there is always x coordinate then y corrdinate\n",
    "                    row[self.feature_columns[i]] = 96. - row[self.feature_columns[i]]\n",
    "            # swap\n",
    "            rights = [a for a in self.feature_columns if \"right\" in a.split(\"_\")]\n",
    "            for col_r in rights:\n",
    "                col_l = self.left_right_dic[col_r]\n",
    "                temp = row[col_l] \n",
    "                row[col_l] = row[col_r]\n",
    "                row[col_r] = temp\n",
    "            return row\n",
    "\n",
    "        def increase_brightness(image):\n",
    "            'Method that randomly increase images brightness'      \n",
    "            # Multiply pixel values by random values between 1 and 1.5 to increase the brightness of the image\n",
    "            # Clip the value between 0 and 255\n",
    "            image = np.clip(random.uniform(1, 1.5) * image, 0.0, 255.0)\n",
    "            return image\n",
    "\n",
    "        def decrease_brightness(image):\n",
    "            'Method that randomly decrease images brightness'\n",
    "            # Multiply pixel values by random values between 0 and 0.1 to decrease the brightness of the image\n",
    "            # Clip the value between 0 and 255\n",
    "            image = np.clip(random.uniform(0, 0.1) * image, 0.0, 255.0)\n",
    "            return image\n",
    "\n",
    "        def augment(row):\n",
    "        # if we have more than one feature allow flipping\n",
    "            if len(self.feature_columns)>2:\n",
    "                if row[\"augment_flip\"]==1:\n",
    "                    row =  flip_horizontally(row)\n",
    "            if row[\"augment_inc_b\"]:\n",
    "                row[\"Image\"] = increase_brightness(row[\"Image\"])\n",
    "            if row[\"augment_dec_b\"]:\n",
    "                row[\"Image\"] = decrease_brightness(row[\"Image\"])\n",
    "            return row\n",
    "\n",
    "      # generate random boolean for augmentation types \n",
    "        df[\"augment_flip\"] = [random.getrandbits(1) for i in range(len(df))]\n",
    "        df[\"augment_inc_b\"] = [random.getrandbits(1) for i in range(len(df))]\n",
    "        df[\"augment_dec_b\"] = [random.getrandbits(1) for i in range(len(df))]\n",
    "        # df = df.apply(lambda row : augment(row), axis=1)\n",
    "        df = df.apply(augment, axis=1)\n",
    "        df.drop(['augment_flip', 'augment_inc_b', 'augment_dec_b'], axis=1, inplace=True)\n",
    "        return df\n"
   ]
  },
  {
   "cell_type": "code",
   "execution_count": 11,
   "metadata": {
    "execution": {
     "iopub.execute_input": "2021-01-08T14:29:55.854598Z",
     "iopub.status.busy": "2021-01-08T14:29:55.853935Z",
     "iopub.status.idle": "2021-01-08T14:29:55.857182Z",
     "shell.execute_reply": "2021-01-08T14:29:55.857672Z"
    },
    "id": "68VI4DWX-EnV",
    "papermill": {
     "duration": 0.04549,
     "end_time": "2021-01-08T14:29:55.857795",
     "exception": false,
     "start_time": "2021-01-08T14:29:55.812305",
     "status": "completed"
    },
    "tags": []
   },
   "outputs": [],
   "source": [
    "def visualize_image(x, y=None, y_predicted=None):\n",
    "  # x-coordinates are in even columns like 0,2,4,.. and y-coordinates are in odd columns like 1,3,5,..\n",
    "    plt.figure()\n",
    "    plt.imshow(x, cmap='gray')\n",
    "    if y is not None:\n",
    "        f = y.shape[0]\n",
    "        for j in range(0,f,2):\n",
    "            plt.plot(y[j], y[j+1], 'X', color='blue', label='actual')\n",
    "    if y_predicted is not None:\n",
    "        f = y_predicted.shape[0]\n",
    "        for j in range(0,f,2):\n",
    "            plt.plot(y_predicted[j], y_predicted[j+1], 'X', color='red', label='predicted')\n",
    "    plt.legend()"
   ]
  },
  {
   "cell_type": "markdown",
   "metadata": {
    "id": "eX1dSeiRCUUE",
    "papermill": {
     "duration": 0.031302,
     "end_time": "2021-01-08T14:29:55.920244",
     "exception": false,
     "start_time": "2021-01-08T14:29:55.888942",
     "status": "completed"
    },
    "tags": []
   },
   "source": [
    "Lets try the data generator and visuilize some images"
   ]
  },
  {
   "cell_type": "markdown",
   "metadata": {
    "id": "cdehN9mvIsan",
    "papermill": {
     "duration": 0.031909,
     "end_time": "2021-01-08T14:29:55.983605",
     "exception": false,
     "start_time": "2021-01-08T14:29:55.951696",
     "status": "completed"
    },
    "tags": []
   },
   "source": [
    "### Part 1.3  Building a Prediction model for a feature"
   ]
  },
  {
   "cell_type": "markdown",
   "metadata": {
    "id": "ph_UEDMwcEvX",
    "papermill": {
     "duration": 0.032689,
     "end_time": "2021-01-08T14:29:56.048487",
     "exception": false,
     "start_time": "2021-01-08T14:29:56.015798",
     "status": "completed"
    },
    "tags": []
   },
   "source": [
    "#### **Prepare data generators to train the model**"
   ]
  },
  {
   "cell_type": "markdown",
   "metadata": {
    "id": "ACe1Z0-GvdBs",
    "papermill": {
     "duration": 0.032188,
     "end_time": "2021-01-08T14:29:56.112429",
     "exception": false,
     "start_time": "2021-01-08T14:29:56.080241",
     "status": "completed"
    },
    "tags": []
   },
   "source": [
    "##### **Split the data into train and test**"
   ]
  },
  {
   "cell_type": "code",
   "execution_count": 12,
   "metadata": {
    "execution": {
     "iopub.execute_input": "2021-01-08T14:29:56.190242Z",
     "iopub.status.busy": "2021-01-08T14:29:56.183212Z",
     "iopub.status.idle": "2021-01-08T14:29:56.193082Z",
     "shell.execute_reply": "2021-01-08T14:29:56.193740Z"
    },
    "id": "Wz9DPZKppGXK",
    "outputId": "316ac4e0-0178-4692-e984-204c6ff49f72",
    "papermill": {
     "duration": 0.049352,
     "end_time": "2021-01-08T14:29:56.193872",
     "exception": false,
     "start_time": "2021-01-08T14:29:56.144520",
     "status": "completed"
    },
    "tags": []
   },
   "outputs": [
    {
     "name": "stdout",
     "output_type": "stream",
     "text": [
      "(2269, 3) (1815, 3) (454, 3)\n"
     ]
    }
   ],
   "source": [
    "df = dic_train_data[feature_name]\n",
    "# Split the data into training and testing data\n",
    "df_train, df_test = train_test_split(df, test_size = 0.2, random_state=None)\n",
    "print(df.shape, df_train.shape, df_test.shape)"
   ]
  },
  {
   "cell_type": "code",
   "execution_count": 13,
   "metadata": {
    "execution": {
     "iopub.execute_input": "2021-01-08T14:29:56.289686Z",
     "iopub.status.busy": "2021-01-08T14:29:56.274337Z",
     "iopub.status.idle": "2021-01-08T14:29:57.664084Z",
     "shell.execute_reply": "2021-01-08T14:29:57.663535Z"
    },
    "id": "iJ7K_1lndPKu",
    "outputId": "abda56ba-925c-43d9-ac1c-512dcbb269f6",
    "papermill": {
     "duration": 1.438403,
     "end_time": "2021-01-08T14:29:57.664195",
     "exception": false,
     "start_time": "2021-01-08T14:29:56.225792",
     "status": "completed"
    },
    "tags": []
   },
   "outputs": [
    {
     "data": {
      "text/html": [
       "<div>\n",
       "<style scoped>\n",
       "    .dataframe tbody tr th:only-of-type {\n",
       "        vertical-align: middle;\n",
       "    }\n",
       "\n",
       "    .dataframe tbody tr th {\n",
       "        vertical-align: top;\n",
       "    }\n",
       "\n",
       "    .dataframe thead th {\n",
       "        text-align: right;\n",
       "    }\n",
       "</style>\n",
       "<table border=\"1\" class=\"dataframe\">\n",
       "  <thead>\n",
       "    <tr style=\"text-align: right;\">\n",
       "      <th></th>\n",
       "      <th>mouth_left_corner_x</th>\n",
       "      <th>mouth_left_corner_y</th>\n",
       "      <th>Image</th>\n",
       "    </tr>\n",
       "  </thead>\n",
       "  <tbody>\n",
       "    <tr>\n",
       "      <th>782</th>\n",
       "      <td>60.462754</td>\n",
       "      <td>71.889629</td>\n",
       "      <td>[[170, 172, 173, 173, 175, 173, 175, 175, 172,...</td>\n",
       "    </tr>\n",
       "    <tr>\n",
       "      <th>1032</th>\n",
       "      <td>61.155182</td>\n",
       "      <td>74.606851</td>\n",
       "      <td>[[138, 124, 107, 114, 102, 78, 76, 65, 50, 49,...</td>\n",
       "    </tr>\n",
       "    <tr>\n",
       "      <th>273</th>\n",
       "      <td>62.933053</td>\n",
       "      <td>80.476421</td>\n",
       "      <td>[[87, 85, 75, 89, 112, 94, 58, 33, 24, 17, 22,...</td>\n",
       "    </tr>\n",
       "    <tr>\n",
       "      <th>70</th>\n",
       "      <td>61.896000</td>\n",
       "      <td>72.976800</td>\n",
       "      <td>[[189, 191, 191, 191, 190, 189, 190, 189, 186,...</td>\n",
       "    </tr>\n",
       "    <tr>\n",
       "      <th>903</th>\n",
       "      <td>58.459317</td>\n",
       "      <td>76.694634</td>\n",
       "      <td>[[246, 244, 231, 221, 209, 204, 197, 191, 191,...</td>\n",
       "    </tr>\n",
       "  </tbody>\n",
       "</table>\n",
       "</div>"
      ],
      "text/plain": [
       "      mouth_left_corner_x  mouth_left_corner_y  \\\n",
       "782             60.462754            71.889629   \n",
       "1032            61.155182            74.606851   \n",
       "273             62.933053            80.476421   \n",
       "70              61.896000            72.976800   \n",
       "903             58.459317            76.694634   \n",
       "\n",
       "                                                  Image  \n",
       "782   [[170, 172, 173, 173, 175, 173, 175, 175, 172,...  \n",
       "1032  [[138, 124, 107, 114, 102, 78, 76, 65, 50, 49,...  \n",
       "273   [[87, 85, 75, 89, 112, 94, 58, 33, 24, 17, 22,...  \n",
       "70    [[189, 191, 191, 191, 190, 189, 190, 189, 186,...  \n",
       "903   [[246, 244, 231, 221, 209, 204, 197, 191, 191,...  "
      ]
     },
     "execution_count": 13,
     "metadata": {},
     "output_type": "execute_result"
    }
   ],
   "source": [
    "df_train.head()"
   ]
  },
  {
   "cell_type": "markdown",
   "metadata": {
    "id": "Zo9gt1mXu2fd",
    "papermill": {
     "duration": 0.031888,
     "end_time": "2021-01-08T14:29:57.728646",
     "exception": false,
     "start_time": "2021-01-08T14:29:57.696758",
     "status": "completed"
    },
    "tags": []
   },
   "source": [
    "##### **Build scalers for normalizing feature data**"
   ]
  },
  {
   "cell_type": "code",
   "execution_count": 14,
   "metadata": {
    "execution": {
     "iopub.execute_input": "2021-01-08T14:29:57.801747Z",
     "iopub.status.busy": "2021-01-08T14:29:57.800092Z",
     "iopub.status.idle": "2021-01-08T14:29:57.802861Z",
     "shell.execute_reply": "2021-01-08T14:29:57.803358Z"
    },
    "id": "9t4-hf0gIeSw",
    "papermill": {
     "duration": 0.043084,
     "end_time": "2021-01-08T14:29:57.803478",
     "exception": false,
     "start_time": "2021-01-08T14:29:57.760394",
     "status": "completed"
    },
    "tags": []
   },
   "outputs": [],
   "source": [
    "scalers_dict = dict()\n",
    "for col in df.columns.tolist()[:-1]:\n",
    "    scaler = MinMaxScaler()\n",
    "    scaler.fit(df[col].to_numpy().reshape(-1, 1))\n",
    "    scalers_dict[col] = scaler\n",
    "\n",
    "\n",
    "\n",
    "pkl.dump(scalers_dict, open(scalers_path,\"wb\"))\n"
   ]
  },
  {
   "cell_type": "markdown",
   "metadata": {
    "id": "WZNeHGhxvnSH",
    "papermill": {
     "duration": 0.031759,
     "end_time": "2021-01-08T14:29:57.868524",
     "exception": false,
     "start_time": "2021-01-08T14:29:57.836765",
     "status": "completed"
    },
    "tags": []
   },
   "source": [
    "##### **Build train and validation data generators**"
   ]
  },
  {
   "cell_type": "code",
   "execution_count": 15,
   "metadata": {
    "execution": {
     "iopub.execute_input": "2021-01-08T14:29:57.939321Z",
     "iopub.status.busy": "2021-01-08T14:29:57.937790Z",
     "iopub.status.idle": "2021-01-08T14:29:57.954272Z",
     "shell.execute_reply": "2021-01-08T14:29:57.955127Z"
    },
    "id": "HERnPWEBc83D",
    "papermill": {
     "duration": 0.054354,
     "end_time": "2021-01-08T14:29:57.955314",
     "exception": false,
     "start_time": "2021-01-08T14:29:57.900960",
     "status": "completed"
    },
    "tags": []
   },
   "outputs": [],
   "source": [
    " \n",
    "train_generator = DataGenerator(df_train, batch_size=32, normalize_image=True, normalize_coordinates=True, scalers=scalers_dict)\n",
    "val_generator =  DataGenerator(df_test, batch_size=32,  augment=False, normalize_image=True,  normalize_coordinates=True,  scalers=train_generator.scalers)"
   ]
  },
  {
   "cell_type": "markdown",
   "metadata": {
    "id": "Ctn-Hf0Nc5p_",
    "papermill": {
     "duration": 0.032144,
     "end_time": "2021-01-08T14:29:58.038141",
     "exception": false,
     "start_time": "2021-01-08T14:29:58.005997",
     "status": "completed"
    },
    "tags": []
   },
   "source": [
    "#### **Build a Prediction model**"
   ]
  },
  {
   "cell_type": "code",
   "execution_count": 16,
   "metadata": {
    "execution": {
     "iopub.execute_input": "2021-01-08T14:29:58.123661Z",
     "iopub.status.busy": "2021-01-08T14:29:58.122786Z",
     "iopub.status.idle": "2021-01-08T14:29:58.126100Z",
     "shell.execute_reply": "2021-01-08T14:29:58.125573Z"
    },
    "id": "WHg8_6ZgPvoJ",
    "papermill": {
     "duration": 0.054701,
     "end_time": "2021-01-08T14:29:58.126210",
     "exception": false,
     "start_time": "2021-01-08T14:29:58.071509",
     "status": "completed"
    },
    "tags": []
   },
   "outputs": [],
   "source": [
    "from tensorflow.keras.applications import EfficientNetB0, VGG16\n",
    "\n",
    "def create_efficientNet(nbr_features):\n",
    "    inputs = tf.keras.Input(shape=(96, 96, 3))  \n",
    "    # This option include_top excludes the final Dense layer.\n",
    "    # This allows us to replace the top layer with custom layers which allows the use of  EfficientNet as a feature extractor in a transfer learning workflow\n",
    "    model = EfficientNetB0(include_top=False, input_tensor=inputs, weights=\"imagenet\")#, drop_connect_rate=0.1)\n",
    "    # Freeze the pretrained weights\n",
    "    model.trainable = False\n",
    "\n",
    "    # Rebuild top\n",
    "    x = GlobalAveragePooling2D()(model.output)    \n",
    "    x = BatchNormalization()(x)\n",
    "    x = Dropout(0.4)(x)\n",
    "    outputs = Dense(nbr_features,activation='relu')(x)\n",
    "\n",
    "    # Compile\n",
    "    model = keras.Model(inputs, outputs)\n",
    "    return model\n",
    "\n",
    "def create_vgg16(nbr_features):\n",
    "\n",
    "    #Get back the convolutional part of a VGG network trained on ImageNet\n",
    "    model = VGG16(weights='imagenet', include_top=False)\n",
    "    model.trainable = False\n",
    "    #Create your own input format (here 3x200x200)\n",
    "    inputs = Input(shape=(96,96,3))\n",
    "\n",
    "    #Use the generated model \n",
    "    output_vgg16 = model(inputs)\n",
    "\n",
    "    #Add the fully-connected layers \n",
    "    x = Flatten()(output_vgg16)\n",
    "    x = Dense(64, activation='relu')(x)\n",
    "    # x = Dense(32, activation='relu')(x)\n",
    "    outputs = Dense(nbr_features, activation='relu')(x)\n",
    "\n",
    "    #Create your own model \n",
    "    model = keras.Model(inputs=inputs, outputs=outputs)\n",
    "    return model\n",
    "\n",
    "\n",
    "def create_simple_model(nbr_features):\n",
    "  # vanillia CNN model\n",
    "    model = Sequential()\n",
    "    model.add(Conv2D(16, kernel_size=(5, 5), activation='relu', input_shape=(96, 96 , 1)))\n",
    "    model.add(MaxPooling2D(pool_size=(2, 2), strides=2))\n",
    "    model.add(Conv2D(48, (3, 3), activation='relu'))\n",
    "    model.add(MaxPooling2D(pool_size=(2, 2), strides=2))\n",
    "    model.add(Conv2D(64, (3, 3), activation='relu'))\n",
    "    model.add(MaxPooling2D(pool_size=(2, 2), strides=2))\n",
    "    model.add(Conv2D(64, (2, 2), activation='relu'))\n",
    "    model.add(Flatten())\n",
    "    model.add(Dense(100, activation='relu'))\n",
    "    model.add(Dense(nbr_features, activation='relu'))\n",
    "    return model\n"
   ]
  },
  {
   "cell_type": "code",
   "execution_count": 17,
   "metadata": {
    "execution": {
     "iopub.execute_input": "2021-01-08T14:29:58.201385Z",
     "iopub.status.busy": "2021-01-08T14:29:58.200760Z",
     "iopub.status.idle": "2021-01-08T14:30:04.758589Z",
     "shell.execute_reply": "2021-01-08T14:30:04.757721Z"
    },
    "id": "ofh5qnydxTwZ",
    "outputId": "07bd6fcc-e67a-409e-813c-a4d839c5966b",
    "papermill": {
     "duration": 6.594556,
     "end_time": "2021-01-08T14:30:04.758705",
     "exception": false,
     "start_time": "2021-01-08T14:29:58.164149",
     "status": "completed"
    },
    "tags": []
   },
   "outputs": [
    {
     "name": "stdout",
     "output_type": "stream",
     "text": [
      "Downloading data from https://storage.googleapis.com/keras-applications/efficientnetb0_notop.h5\n",
      "16711680/16705208 [==============================] - 0s 0us/step\n"
     ]
    }
   ],
   "source": [
    "nbr_features = 2\n",
    "# create the model\n",
    "model = create_efficientNet(nbr_features)\n",
    "# model = create_vgg16(nbr_features)"
   ]
  },
  {
   "cell_type": "markdown",
   "metadata": {
    "id": "cJ8vd7UwtrYg",
    "papermill": {
     "duration": 0.037255,
     "end_time": "2021-01-08T14:30:04.832807",
     "exception": false,
     "start_time": "2021-01-08T14:30:04.795552",
     "status": "completed"
    },
    "tags": []
   },
   "source": [
    "#### **Define custom loss and compile the model**"
   ]
  },
  {
   "cell_type": "code",
   "execution_count": 18,
   "metadata": {
    "execution": {
     "iopub.execute_input": "2021-01-08T14:30:05.120854Z",
     "iopub.status.busy": "2021-01-08T14:30:05.119488Z",
     "iopub.status.idle": "2021-01-08T14:30:05.134054Z",
     "shell.execute_reply": "2021-01-08T14:30:05.134518Z"
    },
    "id": "tXRRM-KrLjfE",
    "papermill": {
     "duration": 0.265437,
     "end_time": "2021-01-08T14:30:05.134665",
     "exception": false,
     "start_time": "2021-01-08T14:30:04.869228",
     "status": "completed"
    },
    "tags": []
   },
   "outputs": [],
   "source": [
    "import tensorflow.keras.backend as K\n",
    "\n",
    "def euclidean_distance_loss(y_true, y_pred):\n",
    "  #     Euclidean distance loss\n",
    "    return K.sqrt(K.sum(K.square(y_pred - y_true), axis=-1))\n",
    "\n",
    "def absolute_tanh(x):\n",
    "    return K.abs(K.tanh(x))\n",
    "\n",
    "# MeanAbsoluteError(), MeanAbsolutePercentageError()\n",
    "model.compile(loss=euclidean_distance_loss,\n",
    "              optimizer=keras.optimizers.Adam(learning_rate=1e-4),\n",
    "              )\n",
    "\n",
    "def unfreeze_model(model):\n",
    "    # We unfreeze the top 5 layers while leaving BatchNorm layers frozen\n",
    "    for layer in model.layers[-25:]:\n",
    "        if not isinstance(layer, keras.layers.BatchNormalization):\n",
    "            layer.trainable = True"
   ]
  },
  {
   "cell_type": "markdown",
   "metadata": {
    "id": "XOn3P3dcvy7T",
    "papermill": {
     "duration": 0.051779,
     "end_time": "2021-01-08T14:30:05.244733",
     "exception": false,
     "start_time": "2021-01-08T14:30:05.192954",
     "status": "completed"
    },
    "tags": []
   },
   "source": [
    "#### **Start training**"
   ]
  },
  {
   "cell_type": "code",
   "execution_count": 19,
   "metadata": {
    "execution": {
     "iopub.execute_input": "2021-01-08T14:30:05.389257Z",
     "iopub.status.busy": "2021-01-08T14:30:05.388269Z",
     "iopub.status.idle": "2021-01-08T14:33:16.445759Z",
     "shell.execute_reply": "2021-01-08T14:33:16.445192Z"
    },
    "id": "7AWepBFAc9LR",
    "outputId": "98eb52a4-9bf9-4246-baab-cd0b9085d99c",
    "papermill": {
     "duration": 191.118435,
     "end_time": "2021-01-08T14:33:16.445908",
     "exception": false,
     "start_time": "2021-01-08T14:30:05.327473",
     "status": "completed"
    },
    "tags": []
   },
   "outputs": [
    {
     "name": "stdout",
     "output_type": "stream",
     "text": [
      "Epoch 1/100\n",
      "56/56 [==============================] - 3s 61ms/step - loss: 0.6859 - val_loss: 0.5372\n",
      "Epoch 2/100\n",
      "56/56 [==============================] - 2s 29ms/step - loss: 0.6217 - val_loss: 0.5637\n",
      "Epoch 3/100\n",
      "56/56 [==============================] - 2s 28ms/step - loss: 0.6178 - val_loss: 0.5386\n",
      "Epoch 4/100\n",
      "56/56 [==============================] - 2s 28ms/step - loss: 0.6049 - val_loss: 0.5418\n",
      "Epoch 5/100\n",
      "56/56 [==============================] - 2s 28ms/step - loss: 0.6037 - val_loss: 0.5224\n",
      "Epoch 6/100\n",
      "56/56 [==============================] - 2s 28ms/step - loss: 0.5876 - val_loss: 0.4701\n",
      "Epoch 7/100\n",
      "56/56 [==============================] - 2s 33ms/step - loss: 0.5964 - val_loss: 0.4339\n",
      "Epoch 8/100\n",
      "56/56 [==============================] - 2s 28ms/step - loss: 0.5677 - val_loss: 0.3859\n",
      "Epoch 9/100\n",
      "56/56 [==============================] - 2s 28ms/step - loss: 0.5692 - val_loss: 0.3377\n",
      "Epoch 10/100\n",
      "56/56 [==============================] - 2s 27ms/step - loss: 0.5705 - val_loss: 0.3264\n",
      "Epoch 11/100\n",
      "56/56 [==============================] - 2s 29ms/step - loss: 0.5699 - val_loss: 0.2729\n",
      "Epoch 12/100\n",
      "56/56 [==============================] - 2s 29ms/step - loss: 0.5652 - val_loss: 0.2712\n",
      "Epoch 13/100\n",
      "56/56 [==============================] - 2s 32ms/step - loss: 0.5599 - val_loss: 0.2204\n",
      "Epoch 14/100\n",
      "56/56 [==============================] - 2s 28ms/step - loss: 0.5467 - val_loss: 0.1602\n",
      "Epoch 15/100\n",
      "56/56 [==============================] - 2s 29ms/step - loss: 0.5379 - val_loss: 0.1806\n",
      "Epoch 16/100\n",
      "56/56 [==============================] - 2s 28ms/step - loss: 0.5394 - val_loss: 0.1788\n",
      "Epoch 17/100\n",
      "56/56 [==============================] - 2s 34ms/step - loss: 0.5545 - val_loss: 0.1593\n",
      "Epoch 18/100\n",
      "56/56 [==============================] - 2s 29ms/step - loss: 0.5337 - val_loss: 0.1306\n",
      "Epoch 19/100\n",
      "56/56 [==============================] - 2s 28ms/step - loss: 0.5328 - val_loss: 0.1453\n",
      "Epoch 20/100\n",
      "56/56 [==============================] - 2s 35ms/step - loss: 0.5401 - val_loss: 0.1435\n",
      "Epoch 21/100\n",
      "56/56 [==============================] - 2s 30ms/step - loss: 0.5212 - val_loss: 0.1388\n",
      "Epoch 22/100\n",
      "56/56 [==============================] - 2s 29ms/step - loss: 0.5324 - val_loss: 0.1369\n",
      "Epoch 23/100\n",
      "56/56 [==============================] - 2s 29ms/step - loss: 0.5108 - val_loss: 0.1303\n",
      "Epoch 24/100\n",
      "56/56 [==============================] - 2s 34ms/step - loss: 0.4936 - val_loss: 0.1334\n",
      "Epoch 25/100\n",
      "56/56 [==============================] - 2s 31ms/step - loss: 0.5013 - val_loss: 0.1550\n",
      "Epoch 26/100\n",
      "56/56 [==============================] - 2s 37ms/step - loss: 0.5074 - val_loss: 0.1469\n",
      "Epoch 27/100\n",
      "56/56 [==============================] - 2s 33ms/step - loss: 0.5082 - val_loss: 0.1379\n",
      "Epoch 28/100\n",
      "56/56 [==============================] - 2s 30ms/step - loss: 0.5026 - val_loss: 0.1594\n",
      "Epoch 29/100\n",
      "56/56 [==============================] - 2s 35ms/step - loss: 0.4893 - val_loss: 0.1235\n",
      "Epoch 30/100\n",
      "56/56 [==============================] - 2s 32ms/step - loss: 0.4959 - val_loss: 0.1401\n",
      "Epoch 31/100\n",
      "56/56 [==============================] - 2s 31ms/step - loss: 0.4727 - val_loss: 0.1211\n",
      "Epoch 32/100\n",
      "56/56 [==============================] - 2s 32ms/step - loss: 0.4715 - val_loss: 0.1308\n",
      "Epoch 33/100\n",
      "56/56 [==============================] - 2s 29ms/step - loss: 0.4777 - val_loss: 0.1302\n",
      "Epoch 34/100\n",
      "56/56 [==============================] - 2s 29ms/step - loss: 0.4744 - val_loss: 0.1215\n",
      "Epoch 35/100\n",
      "56/56 [==============================] - 2s 38ms/step - loss: 0.4577 - val_loss: 0.1292\n",
      "Epoch 36/100\n",
      "56/56 [==============================] - 2s 29ms/step - loss: 0.4692 - val_loss: 0.1272\n",
      "Epoch 37/100\n",
      "56/56 [==============================] - 2s 30ms/step - loss: 0.4552 - val_loss: 0.1277\n",
      "Epoch 38/100\n",
      "56/56 [==============================] - 2s 34ms/step - loss: 0.4539 - val_loss: 0.1278\n",
      "Epoch 39/100\n",
      "56/56 [==============================] - 2s 30ms/step - loss: 0.4472 - val_loss: 0.1264\n",
      "Epoch 40/100\n",
      "56/56 [==============================] - 2s 30ms/step - loss: 0.4426 - val_loss: 0.1226\n",
      "Epoch 41/100\n",
      "56/56 [==============================] - 2s 28ms/step - loss: 0.4337 - val_loss: 0.1414\n",
      "Epoch 42/100\n",
      "56/56 [==============================] - 2s 29ms/step - loss: 0.4322 - val_loss: 0.1202\n",
      "Epoch 43/100\n",
      "56/56 [==============================] - 2s 29ms/step - loss: 0.4301 - val_loss: 0.1232\n",
      "Epoch 44/100\n",
      "56/56 [==============================] - 2s 34ms/step - loss: 0.4290 - val_loss: 0.1207\n",
      "Epoch 45/100\n",
      "56/56 [==============================] - 2s 30ms/step - loss: 0.4227 - val_loss: 0.1328\n",
      "Epoch 46/100\n",
      "56/56 [==============================] - 2s 34ms/step - loss: 0.4231 - val_loss: 0.1328\n",
      "Epoch 47/100\n",
      "56/56 [==============================] - 2s 29ms/step - loss: 0.4088 - val_loss: 0.1255\n",
      "Epoch 48/100\n",
      "56/56 [==============================] - 2s 30ms/step - loss: 0.4031 - val_loss: 0.1382\n",
      "Epoch 49/100\n",
      "56/56 [==============================] - 2s 29ms/step - loss: 0.4073 - val_loss: 0.1300\n",
      "Epoch 50/100\n",
      "56/56 [==============================] - 2s 35ms/step - loss: 0.3977 - val_loss: 0.1304\n",
      "Epoch 51/100\n",
      "56/56 [==============================] - 2s 29ms/step - loss: 0.4009 - val_loss: 0.1290\n",
      "Epoch 52/100\n",
      "56/56 [==============================] - 2s 29ms/step - loss: 0.3972 - val_loss: 0.1344\n",
      "Epoch 53/100\n",
      "56/56 [==============================] - 2s 34ms/step - loss: 0.3889 - val_loss: 0.1301\n",
      "Epoch 54/100\n",
      "56/56 [==============================] - 2s 32ms/step - loss: 0.3766 - val_loss: 0.1295\n",
      "Epoch 55/100\n",
      "56/56 [==============================] - 2s 29ms/step - loss: 0.3764 - val_loss: 0.1416\n",
      "Epoch 56/100\n",
      "56/56 [==============================] - 2s 35ms/step - loss: 0.3714 - val_loss: 0.1275\n",
      "Epoch 57/100\n",
      "56/56 [==============================] - 2s 34ms/step - loss: 0.3705 - val_loss: 0.1190\n",
      "Epoch 58/100\n",
      "56/56 [==============================] - 2s 30ms/step - loss: 0.3662 - val_loss: 0.1359\n",
      "Epoch 59/100\n",
      "56/56 [==============================] - 2s 36ms/step - loss: 0.3500 - val_loss: 0.1218\n",
      "Epoch 60/100\n",
      "56/56 [==============================] - 2s 31ms/step - loss: 0.3532 - val_loss: 0.1222\n",
      "Epoch 61/100\n",
      "56/56 [==============================] - 2s 31ms/step - loss: 0.3432 - val_loss: 0.1200\n",
      "Epoch 62/100\n",
      "56/56 [==============================] - 2s 36ms/step - loss: 0.3406 - val_loss: 0.1429\n",
      "Epoch 63/100\n",
      "56/56 [==============================] - 2s 35ms/step - loss: 0.3358 - val_loss: 0.1298\n",
      "Epoch 64/100\n",
      "56/56 [==============================] - 2s 29ms/step - loss: 0.3321 - val_loss: 0.1312\n",
      "Epoch 65/100\n",
      "56/56 [==============================] - 2s 29ms/step - loss: 0.3302 - val_loss: 0.1246\n",
      "Epoch 66/100\n",
      "56/56 [==============================] - 2s 30ms/step - loss: 0.3187 - val_loss: 0.1335\n",
      "Epoch 67/100\n",
      "56/56 [==============================] - 2s 30ms/step - loss: 0.3195 - val_loss: 0.1198\n",
      "Epoch 68/100\n",
      "56/56 [==============================] - 2s 36ms/step - loss: 0.3120 - val_loss: 0.1351\n",
      "Epoch 69/100\n",
      "56/56 [==============================] - 2s 30ms/step - loss: 0.3074 - val_loss: 0.1278\n",
      "Epoch 70/100\n",
      "56/56 [==============================] - 2s 33ms/step - loss: 0.3096 - val_loss: 0.1199\n",
      "Epoch 71/100\n",
      "56/56 [==============================] - 2s 33ms/step - loss: 0.2974 - val_loss: 0.1337\n",
      "Epoch 72/100\n",
      "56/56 [==============================] - 2s 29ms/step - loss: 0.3003 - val_loss: 0.1316\n",
      "Epoch 73/100\n",
      "56/56 [==============================] - 2s 29ms/step - loss: 0.2948 - val_loss: 0.1232\n",
      "Epoch 74/100\n",
      "56/56 [==============================] - 2s 37ms/step - loss: 0.2826 - val_loss: 0.1230\n",
      "Epoch 75/100\n",
      "56/56 [==============================] - 2s 32ms/step - loss: 0.2863 - val_loss: 0.1180\n",
      "Epoch 76/100\n",
      "56/56 [==============================] - 2s 31ms/step - loss: 0.2814 - val_loss: 0.1227\n",
      "Epoch 77/100\n",
      "56/56 [==============================] - 2s 29ms/step - loss: 0.2669 - val_loss: 0.1221\n",
      "Epoch 78/100\n",
      "56/56 [==============================] - 2s 29ms/step - loss: 0.2695 - val_loss: 0.1223\n",
      "Epoch 79/100\n",
      "56/56 [==============================] - 2s 30ms/step - loss: 0.2624 - val_loss: 0.1339\n",
      "Epoch 80/100\n",
      "56/56 [==============================] - 2s 44ms/step - loss: 0.2659 - val_loss: 0.1221\n",
      "Epoch 81/100\n",
      "56/56 [==============================] - 2s 30ms/step - loss: 0.2555 - val_loss: 0.1216\n",
      "Epoch 82/100\n",
      "56/56 [==============================] - 2s 29ms/step - loss: 0.2581 - val_loss: 0.1190\n",
      "Epoch 83/100\n",
      "56/56 [==============================] - 2s 29ms/step - loss: 0.2553 - val_loss: 0.1233\n",
      "Epoch 84/100\n",
      "56/56 [==============================] - 2s 29ms/step - loss: 0.2519 - val_loss: 0.1308\n",
      "Epoch 85/100\n",
      "56/56 [==============================] - 2s 29ms/step - loss: 0.2425 - val_loss: 0.1266\n",
      "Epoch 86/100\n",
      "56/56 [==============================] - 2s 34ms/step - loss: 0.2327 - val_loss: 0.1342\n",
      "Epoch 87/100\n",
      "56/56 [==============================] - 2s 29ms/step - loss: 0.2378 - val_loss: 0.1258\n",
      "Epoch 88/100\n",
      "56/56 [==============================] - 2s 36ms/step - loss: 0.2343 - val_loss: 0.1252\n",
      "Epoch 89/100\n",
      "56/56 [==============================] - 2s 28ms/step - loss: 0.2354 - val_loss: 0.1306\n",
      "Epoch 90/100\n",
      "56/56 [==============================] - 2s 35ms/step - loss: 0.2247 - val_loss: 0.1248\n",
      "Epoch 91/100\n",
      "56/56 [==============================] - 2s 29ms/step - loss: 0.2298 - val_loss: 0.1210\n",
      "Epoch 92/100\n",
      "56/56 [==============================] - 2s 38ms/step - loss: 0.2183 - val_loss: 0.1220\n",
      "Epoch 93/100\n",
      "56/56 [==============================] - 2s 30ms/step - loss: 0.2192 - val_loss: 0.1210\n",
      "Epoch 94/100\n",
      "56/56 [==============================] - 2s 29ms/step - loss: 0.2166 - val_loss: 0.1204\n",
      "Epoch 95/100\n",
      "56/56 [==============================] - 2s 29ms/step - loss: 0.2141 - val_loss: 0.1187\n",
      "Epoch 96/100\n",
      "56/56 [==============================] - 2s 29ms/step - loss: 0.2068 - val_loss: 0.1241\n",
      "Epoch 97/100\n",
      "56/56 [==============================] - 2s 31ms/step - loss: 0.2067 - val_loss: 0.1224\n",
      "Epoch 98/100\n",
      "56/56 [==============================] - 2s 40ms/step - loss: 0.2010 - val_loss: 0.1187\n",
      "Epoch 99/100\n",
      "56/56 [==============================] - 2s 28ms/step - loss: 0.1976 - val_loss: 0.1167\n",
      "Epoch 100/100\n",
      "56/56 [==============================] - 2s 28ms/step - loss: 0.1974 - val_loss: 0.1171\n"
     ]
    }
   ],
   "source": [
    "#10 + 10 +10\n",
    "unfreeze_model(model)\n",
    "\n",
    "history = model.fit(train_generator, \n",
    "                    validation_data=val_generator,\n",
    "                    epochs=100)"
   ]
  },
  {
   "cell_type": "markdown",
   "metadata": {
    "id": "HvHov45D2qwx",
    "papermill": {
     "duration": 0.922938,
     "end_time": "2021-01-08T14:33:18.338791",
     "exception": false,
     "start_time": "2021-01-08T14:33:17.415853",
     "status": "completed"
    },
    "tags": []
   },
   "source": [
    "#### **Evaluate the model**"
   ]
  },
  {
   "cell_type": "code",
   "execution_count": 20,
   "metadata": {
    "execution": {
     "iopub.execute_input": "2021-01-08T14:33:20.231015Z",
     "iopub.status.busy": "2021-01-08T14:33:20.230097Z",
     "iopub.status.idle": "2021-01-08T14:33:20.517776Z",
     "shell.execute_reply": "2021-01-08T14:33:20.518989Z"
    },
    "id": "RYKhDBx9MgTN",
    "outputId": "52aeb591-a793-4482-b854-38914ebd81a9",
    "papermill": {
     "duration": 1.241517,
     "end_time": "2021-01-08T14:33:20.519220",
     "exception": false,
     "start_time": "2021-01-08T14:33:19.277703",
     "status": "completed"
    },
    "tags": []
   },
   "outputs": [
    {
     "name": "stdout",
     "output_type": "stream",
     "text": [
      "14/14 [==============================] - 0s 14ms/step - loss: 0.1175\n"
     ]
    },
    {
     "data": {
      "text/plain": [
       "0.1174711361527443"
      ]
     },
     "execution_count": 20,
     "metadata": {},
     "output_type": "execute_result"
    }
   ],
   "source": [
    "model.evaluate(val_generator)"
   ]
  },
  {
   "cell_type": "code",
   "execution_count": 21,
   "metadata": {
    "execution": {
     "iopub.execute_input": "2021-01-08T14:33:22.398470Z",
     "iopub.status.busy": "2021-01-08T14:33:22.397797Z",
     "iopub.status.idle": "2021-01-08T14:33:22.708281Z",
     "shell.execute_reply": "2021-01-08T14:33:22.708972Z"
    },
    "id": "FYqFSqoqe8Do",
    "outputId": "acccfe34-e1ed-4dee-db6f-d388e7efb6c5",
    "papermill": {
     "duration": 1.234585,
     "end_time": "2021-01-08T14:33:22.709177",
     "exception": false,
     "start_time": "2021-01-08T14:33:21.474592",
     "status": "completed"
    },
    "tags": []
   },
   "outputs": [
    {
     "data": {
      "text/plain": [
       "Text(0.5, 1.0, 'Training and validation loss')"
      ]
     },
     "execution_count": 21,
     "metadata": {},
     "output_type": "execute_result"
    },
    {
     "data": {
      "image/png": "[encoded data removed]",
      "text/plain": [
       "<Figure size 432x288 with 1 Axes>"
      ]
     },
     "metadata": {
      "needs_background": "light"
     },
     "output_type": "display_data"
    }
   ],
   "source": [
    "# Retrieve a list of list results on training and test data sets for each training epoch\n",
    "loss     = history.history['loss']\n",
    "val_loss = history.history['val_loss']\n",
    "epochs   = range(len(loss))\n",
    "# Plot training and validation loss per epoch\n",
    "plt.plot(epochs,loss, color='red' , label='training loss')\n",
    "plt.plot(epochs, val_loss, label='validation loss')\n",
    "plt.legend()\n",
    "plt.title ('Training and validation loss')"
   ]
  },
  {
   "cell_type": "markdown",
   "metadata": {
    "id": "BIr2js1Z2ipI",
    "papermill": {
     "duration": 0.936248,
     "end_time": "2021-01-08T14:33:24.828445",
     "exception": false,
     "start_time": "2021-01-08T14:33:23.892197",
     "status": "completed"
    },
    "tags": []
   },
   "source": [
    "#### **Test the model on random images**"
   ]
  },
  {
   "cell_type": "code",
   "execution_count": 22,
   "metadata": {
    "execution": {
     "iopub.execute_input": "2021-01-08T14:33:27.076867Z",
     "iopub.status.busy": "2021-01-08T14:33:27.075805Z",
     "iopub.status.idle": "2021-01-08T14:33:27.082393Z",
     "shell.execute_reply": "2021-01-08T14:33:27.082935Z"
    },
    "id": "MnxNCLAA1xvB",
    "outputId": "16288291-87dc-4ac3-ba1f-30a59d2fa79a",
    "papermill": {
     "duration": 1.006063,
     "end_time": "2021-01-08T14:33:27.083059",
     "exception": false,
     "start_time": "2021-01-08T14:33:26.076996",
     "status": "completed"
    },
    "tags": []
   },
   "outputs": [
    {
     "data": {
      "text/plain": [
       "{'mouth_left_corner_x': MinMaxScaler(), 'mouth_left_corner_y': MinMaxScaler()}"
      ]
     },
     "execution_count": 22,
     "metadata": {},
     "output_type": "execute_result"
    }
   ],
   "source": [
    "scalers_dict"
   ]
  },
  {
   "cell_type": "code",
   "execution_count": 23,
   "metadata": {
    "execution": {
     "iopub.execute_input": "2021-01-08T14:33:28.945913Z",
     "iopub.status.busy": "2021-01-08T14:33:28.944979Z",
     "iopub.status.idle": "2021-01-08T14:33:30.568634Z",
     "shell.execute_reply": "2021-01-08T14:33:30.569363Z"
    },
    "id": "EbY6XCqHPvoO",
    "outputId": "85d7b89c-efa4-405a-986a-92f79d589697",
    "papermill": {
     "duration": 2.559879,
     "end_time": "2021-01-08T14:33:30.569545",
     "exception": false,
     "start_time": "2021-01-08T14:33:28.009666",
     "status": "completed"
    },
    "tags": []
   },
   "outputs": [
    {
     "name": "stdout",
     "output_type": "stream",
     "text": [
      "[0.67177147 0.40914613]\n",
      "[64.46824  72.427765]\n",
      "[[0.65010226 0.5203929 ]]\n",
      "[[63.128128 76.61624 ]]\n"
     ]
    },
    {
     "data": {
      "image/png": "[encoded data removed]",
      "text/plain": [
       "<Figure size 432x288 with 1 Axes>"
      ]
     },
     "metadata": {
      "needs_background": "light"
     },
     "output_type": "display_data"
    }
   ],
   "source": [
    "batch = val_generator.__getitem__(2)\n",
    "j= np.random.randint(0,len(batch[0]))\n",
    "# check original image \n",
    "print(batch[1][j:j+1][0])\n",
    "actual_y= batch[1][j:j+1][0]\n",
    "actual_y[0] = scalers_dict[feature_name+\"_x\"].inverse_transform([[actual_y[0]]])\n",
    "actual_y[1] = scalers_dict[feature_name+\"_y\"].inverse_transform([[actual_y[1]]])\n",
    "print(actual_y)\n",
    "##############################################\n",
    "predicted_y = model.predict(batch[0][j:j+1])\n",
    "print(predicted_y)\n",
    "# uncomment in case we have used the scaling\n",
    "predicted_y[:,:1] = scalers_dict[feature_name+\"_x\"].inverse_transform(predicted_y[:,:1])\n",
    "predicted_y[:,1:] = scalers_dict[feature_name+\"_y\"].inverse_transform(predicted_y[:,1:])\n",
    "print(predicted_y)\n",
    "##############################################3\n",
    "visualize_image(batch[0][j:j+1].reshape(96,96,3)[:,:,0],actual_y, predicted_y[0])"
   ]
  },
  {
   "cell_type": "markdown",
   "metadata": {
    "id": "Q3sMZnVZ3-dd",
    "papermill": {
     "duration": 0.974493,
     "end_time": "2021-01-08T14:33:32.537697",
     "exception": false,
     "start_time": "2021-01-08T14:33:31.563204",
     "status": "completed"
    },
    "tags": []
   },
   "source": [
    "**Its very impressive how close are the predicted corrdinates to the original ones**"
   ]
  },
  {
   "cell_type": "markdown",
   "metadata": {
    "id": "KOW_zMQ5PvoS",
    "papermill": {
     "duration": 1.179882,
     "end_time": "2021-01-08T14:33:34.661083",
     "exception": false,
     "start_time": "2021-01-08T14:33:33.481201",
     "status": "completed"
    },
    "tags": []
   },
   "source": [
    "#### **Test on missing data**"
   ]
  },
  {
   "cell_type": "code",
   "execution_count": 24,
   "metadata": {
    "execution": {
     "iopub.execute_input": "2021-01-08T14:33:36.560659Z",
     "iopub.status.busy": "2021-01-08T14:33:36.559037Z",
     "iopub.status.idle": "2021-01-08T14:33:36.563159Z",
     "shell.execute_reply": "2021-01-08T14:33:36.562635Z"
    },
    "id": "zKZ1t2qoPvoS",
    "outputId": "2c2688c2-cb6d-4ad7-dad1-9fabe60c1d13",
    "papermill": {
     "duration": 0.953674,
     "end_time": "2021-01-08T14:33:36.563266",
     "exception": false,
     "start_time": "2021-01-08T14:33:35.609592",
     "status": "completed"
    },
    "tags": []
   },
   "outputs": [
    {
     "data": {
      "text/plain": [
       "'mouth_left_corner'"
      ]
     },
     "execution_count": 24,
     "metadata": {},
     "output_type": "execute_result"
    }
   ],
   "source": [
    "feature_name"
   ]
  },
  {
   "cell_type": "code",
   "execution_count": 25,
   "metadata": {
    "execution": {
     "iopub.execute_input": "2021-01-08T14:33:38.462451Z",
     "iopub.status.busy": "2021-01-08T14:33:38.460666Z",
     "iopub.status.idle": "2021-01-08T14:33:38.463112Z",
     "shell.execute_reply": "2021-01-08T14:33:38.463644Z"
    },
    "id": "BlsfoMj3PvoT",
    "papermill": {
     "duration": 0.956854,
     "end_time": "2021-01-08T14:33:38.463769",
     "exception": false,
     "start_time": "2021-01-08T14:33:37.506915",
     "status": "completed"
    },
    "tags": []
   },
   "outputs": [],
   "source": [
    "rgb_channels= True\n",
    "normalize_image = True\n",
    "def pre_process_images(image):\n",
    "    image = np.vstack(image).reshape(-1, 96, 96, 1).astype(np.float32)\n",
    "    if rgb_channels:\n",
    "        image = np.repeat(image,3,-1)\n",
    "    if normalize_image == True:\n",
    "        image = image/255\n",
    "    return image"
   ]
  },
  {
   "cell_type": "code",
   "execution_count": 26,
   "metadata": {
    "execution": {
     "iopub.execute_input": "2021-01-08T14:33:40.372703Z",
     "iopub.status.busy": "2021-01-08T14:33:40.370929Z",
     "iopub.status.idle": "2021-01-08T14:33:40.373611Z",
     "shell.execute_reply": "2021-01-08T14:33:40.374165Z"
    },
    "id": "NsF-GdN6PvoU",
    "papermill": {
     "duration": 0.96373,
     "end_time": "2021-01-08T14:33:40.374303",
     "exception": false,
     "start_time": "2021-01-08T14:33:39.410573",
     "status": "completed"
    },
    "tags": []
   },
   "outputs": [],
   "source": [
    "missing_data = dic_missing_data[feature_name]"
   ]
  },
  {
   "cell_type": "code",
   "execution_count": 27,
   "metadata": {
    "execution": {
     "iopub.execute_input": "2021-01-08T14:33:42.271233Z",
     "iopub.status.busy": "2021-01-08T14:33:42.270276Z",
     "iopub.status.idle": "2021-01-08T14:33:42.274269Z",
     "shell.execute_reply": "2021-01-08T14:33:42.273683Z"
    },
    "id": "xgfXwWOMDj0N",
    "outputId": "c74688b4-7479-421a-9a07-3925a7096300",
    "papermill": {
     "duration": 0.942482,
     "end_time": "2021-01-08T14:33:42.274386",
     "exception": false,
     "start_time": "2021-01-08T14:33:41.331904",
     "status": "completed"
    },
    "tags": []
   },
   "outputs": [
    {
     "data": {
      "text/plain": [
       "4780"
      ]
     },
     "execution_count": 27,
     "metadata": {},
     "output_type": "execute_result"
    }
   ],
   "source": [
    "len(missing_data)"
   ]
  },
  {
   "cell_type": "code",
   "execution_count": 28,
   "metadata": {
    "execution": {
     "iopub.execute_input": "2021-01-08T14:33:44.194756Z",
     "iopub.status.busy": "2021-01-08T14:33:44.193586Z",
     "iopub.status.idle": "2021-01-08T14:33:44.416510Z",
     "shell.execute_reply": "2021-01-08T14:33:44.416032Z"
    },
    "id": "7janB8HOPvoU",
    "outputId": "5698bbf5-06b1-44d6-99e4-3920e4ea689a",
    "papermill": {
     "duration": 1.190334,
     "end_time": "2021-01-08T14:33:44.416641",
     "exception": false,
     "start_time": "2021-01-08T14:33:43.226307",
     "status": "completed"
    },
    "tags": []
   },
   "outputs": [
    {
     "name": "stdout",
     "output_type": "stream",
     "text": [
      "[[0.64598644 0.52207655]]\n",
      "[[62.87359  76.679634]]\n"
     ]
    },
    {
     "data": {
      "image/png": "[encoded data removed]",
      "text/plain": [
       "<Figure size 432x288 with 1 Axes>"
      ]
     },
     "metadata": {
      "needs_background": "light"
     },
     "output_type": "display_data"
    }
   ],
   "source": [
    "# take a random image and test on it\n",
    "l = np.random.randint(0, len(missing_data)-1)\n",
    "image = missing_data.iloc[l][\"Image\"]\n",
    "image = pre_process_images(image)\n",
    "predicted_y = model.predict(image)\n",
    "print(predicted_y)\n",
    "# uncomment in case we have used the scaling\n",
    "predicted_y[:,:1] = scalers_dict[feature_name+\"_x\"].inverse_transform(predicted_y[:,:1])\n",
    "predicted_y[:,1:] = scalers_dict[feature_name+\"_y\"].inverse_transform(predicted_y[:,1:])\n",
    "print(predicted_y)\n",
    "visualize_image(image.reshape(96,96,3)[:,:,0],None, predicted_y[0])"
   ]
  },
  {
   "cell_type": "markdown",
   "metadata": {
    "id": "eCtvSBv2PvoV",
    "papermill": {
     "duration": 0.932883,
     "end_time": "2021-01-08T14:33:46.577169",
     "exception": false,
     "start_time": "2021-01-08T14:33:45.644286",
     "status": "completed"
    },
    "tags": []
   },
   "source": [
    "#### **Save model**"
   ]
  },
  {
   "cell_type": "code",
   "execution_count": 29,
   "metadata": {
    "execution": {
     "iopub.execute_input": "2021-01-08T14:33:48.510780Z",
     "iopub.status.busy": "2021-01-08T14:33:48.500949Z",
     "iopub.status.idle": "2021-01-08T14:33:48.891609Z",
     "shell.execute_reply": "2021-01-08T14:33:48.890259Z"
    },
    "id": "PHDvP_QL39lh",
    "papermill": {
     "duration": 1.356796,
     "end_time": "2021-01-08T14:33:48.891748",
     "exception": false,
     "start_time": "2021-01-08T14:33:47.534952",
     "status": "completed"
    },
    "tags": []
   },
   "outputs": [],
   "source": [
    "# save model and architecture to single file\n",
    "model.save(model_path)"
   ]
  },
  {
   "cell_type": "code",
   "execution_count": null,
   "metadata": {
    "id": "ERAMk1EHPvoX",
    "papermill": {
     "duration": 0.961908,
     "end_time": "2021-01-08T14:33:50.782137",
     "exception": false,
     "start_time": "2021-01-08T14:33:49.820229",
     "status": "completed"
    },
    "tags": []
   },
   "outputs": [],
   "source": []
  },
  {
   "cell_type": "code",
   "execution_count": null,
   "metadata": {
    "papermill": {
     "duration": 0.964525,
     "end_time": "2021-01-08T14:33:52.681437",
     "exception": false,
     "start_time": "2021-01-08T14:33:51.716912",
     "status": "completed"
    },
    "tags": []
   },
   "outputs": [],
   "source": []
  }
 ],
 "metadata": {
  "kernelspec": {
   "display_name": "Python 3",
   "language": "python",
   "name": "python3"
  },
  "language_info": {
   "codemirror_mode": {
    "name": "ipython",
    "version": 3
   },
   "file_extension": ".py",
   "mimetype": "text/x-python",
   "name": "python",
   "nbconvert_exporter": "python",
   "pygments_lexer": "ipython3",
   "version": "3.7.6"
  },
  "papermill": {
   "duration": 261.328915,
   "end_time": "2021-01-08T14:33:55.517478",
   "environment_variables": {},
   "exception": null,
   "input_path": "__notebook__.ipynb",
   "output_path": "__notebook__.ipynb",
   "parameters": {},
   "start_time": "2021-01-08T14:29:34.188563",
   "version": "2.1.0"
  }
 },
 "nbformat": 4,
 "nbformat_minor": 4
}
