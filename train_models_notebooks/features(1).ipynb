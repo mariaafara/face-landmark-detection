{
 "cells": [
  {
   "cell_type": "code",
   "execution_count": 1,
   "metadata": {
    "execution": {
     "iopub.execute_input": "2021-01-07T12:51:54.946075Z",
     "iopub.status.busy": "2021-01-07T12:51:54.945227Z",
     "iopub.status.idle": "2021-01-07T12:51:54.948220Z",
     "shell.execute_reply": "2021-01-07T12:51:54.947694Z"
    },
    "id": "mt9t-79OPvng",
    "papermill": {
     "duration": 0.041188,
     "end_time": "2021-01-07T12:51:54.948312",
     "exception": false,
     "start_time": "2021-01-07T12:51:54.907124",
     "status": "completed"
    },
    "tags": []
   },
   "outputs": [],
   "source": [
    "feature_index = 1"
   ]
  },
  {
   "cell_type": "code",
   "execution_count": 2,
   "metadata": {
    "execution": {
     "iopub.execute_input": "2021-01-07T12:51:55.012926Z",
     "iopub.status.busy": "2021-01-07T12:51:55.012162Z",
     "iopub.status.idle": "2021-01-07T12:51:55.014917Z",
     "shell.execute_reply": "2021-01-07T12:51:55.015486Z"
    },
    "id": "29LaKxCh-Em7",
    "papermill": {
     "duration": 0.037625,
     "end_time": "2021-01-07T12:51:55.015599",
     "exception": false,
     "start_time": "2021-01-07T12:51:54.977974",
     "status": "completed"
    },
    "tags": []
   },
   "outputs": [],
   "source": [
    "# import os\n",
    "# os.environ['KAGGLE_USERNAME'] = \"mariaafara\" # username from the json file\n",
    "# os.environ['KAGGLE_KEY'] = \"25755ae03c0b83042774e5e0d15b886e\" # key from the json file"
   ]
  },
  {
   "cell_type": "code",
   "execution_count": 3,
   "metadata": {
    "execution": {
     "iopub.execute_input": "2021-01-07T12:51:55.079936Z",
     "iopub.status.busy": "2021-01-07T12:51:55.079144Z",
     "iopub.status.idle": "2021-01-07T12:51:55.082405Z",
     "shell.execute_reply": "2021-01-07T12:51:55.081674Z"
    },
    "id": "-4Si4WO5-Em_",
    "papermill": {
     "duration": 0.036307,
     "end_time": "2021-01-07T12:51:55.082512",
     "exception": false,
     "start_time": "2021-01-07T12:51:55.046205",
     "status": "completed"
    },
    "tags": []
   },
   "outputs": [],
   "source": [
    "#Crearting a Client to host the Kaggle API\n",
    "# !pip install -q kaggle"
   ]
  },
  {
   "cell_type": "code",
   "execution_count": 4,
   "metadata": {
    "execution": {
     "iopub.execute_input": "2021-01-07T12:51:55.145785Z",
     "iopub.status.busy": "2021-01-07T12:51:55.144962Z",
     "iopub.status.idle": "2021-01-07T12:51:55.147645Z",
     "shell.execute_reply": "2021-01-07T12:51:55.147141Z"
    },
    "id": "6a28nEu3-EnB",
    "outputId": "d4a07419-6280-4835-e0e0-1a8d9364e4f2",
    "papermill": {
     "duration": 0.035039,
     "end_time": "2021-01-07T12:51:55.147734",
     "exception": false,
     "start_time": "2021-01-07T12:51:55.112695",
     "status": "completed"
    },
    "tags": []
   },
   "outputs": [],
   "source": [
    "# !kaggle datasets download mariaafara/Facial-Landmarks"
   ]
  },
  {
   "cell_type": "code",
   "execution_count": 5,
   "metadata": {
    "execution": {
     "iopub.execute_input": "2021-01-07T12:51:55.211578Z",
     "iopub.status.busy": "2021-01-07T12:51:55.210845Z",
     "iopub.status.idle": "2021-01-07T12:51:55.213968Z",
     "shell.execute_reply": "2021-01-07T12:51:55.213314Z"
    },
    "id": "EEkMMYcU-EnE",
    "outputId": "346a9c4b-fa0c-4acc-90fd-4a486a2c6bee",
    "papermill": {
     "duration": 0.03698,
     "end_time": "2021-01-07T12:51:55.214061",
     "exception": false,
     "start_time": "2021-01-07T12:51:55.177081",
     "status": "completed"
    },
    "tags": []
   },
   "outputs": [],
   "source": [
    "# !unzip Facial-Landmarks.zip # -d facial-keypoints-detection"
   ]
  },
  {
   "cell_type": "code",
   "execution_count": 6,
   "metadata": {
    "execution": {
     "iopub.execute_input": "2021-01-07T12:51:55.285149Z",
     "iopub.status.busy": "2021-01-07T12:51:55.284385Z",
     "iopub.status.idle": "2021-01-07T12:52:01.693818Z",
     "shell.execute_reply": "2021-01-07T12:52:01.692407Z"
    },
    "id": "3f3roaNK6hfZ",
    "papermill": {
     "duration": 6.449093,
     "end_time": "2021-01-07T12:52:01.693929",
     "exception": false,
     "start_time": "2021-01-07T12:51:55.244836",
     "status": "completed"
    },
    "tags": []
   },
   "outputs": [],
   "source": [
    "import numpy as np\n",
    "import pandas as pd\n",
    "import math\n",
    "import random\n",
    "import seaborn as sns\n",
    "import matplotlib.pyplot as plt\n",
    "import tensorflow as tf\n",
    "import tensorflow.keras as keras\n",
    "from tensorflow.keras.models import Sequential\n",
    "from tensorflow.keras.layers import Dense, Dropout, Flatten, Input, Conv2D, MaxPooling2D, GlobalAveragePooling2D, BatchNormalization\n",
    "from sklearn.model_selection import train_test_split\n",
    "from sklearn import preprocessing\n",
    "from sklearn.preprocessing import MinMaxScaler\n",
    "from tensorflow.keras import optimizers\n",
    "from IPython.display import clear_output\n",
    "pd.options.mode.chained_assignment = None  # default='warn'\n"
   ]
  },
  {
   "cell_type": "code",
   "execution_count": 7,
   "metadata": {
    "execution": {
     "iopub.execute_input": "2021-01-07T12:52:01.761860Z",
     "iopub.status.busy": "2021-01-07T12:52:01.761048Z",
     "iopub.status.idle": "2021-01-07T12:52:01.764668Z",
     "shell.execute_reply": "2021-01-07T12:52:01.764074Z"
    },
    "id": "9_E22cct-EnI",
    "papermill": {
     "duration": 0.039458,
     "end_time": "2021-01-07T12:52:01.764765",
     "exception": false,
     "start_time": "2021-01-07T12:52:01.725307",
     "status": "completed"
    },
    "tags": []
   },
   "outputs": [],
   "source": [
    "train_data_path = \"/kaggle/input/facial-landmarks/dic_train_data.pkl\"\n",
    "missing_data_path = \"/kaggle/input/facial-landmarks/dic_missing_data.pkl\"\n",
    "# train_data_path = \"data/dic_train_data.pkl\"\n",
    "# missing_data_path = \"data/dic_missing_data.pkl\""
   ]
  },
  {
   "cell_type": "code",
   "execution_count": 8,
   "metadata": {
    "execution": {
     "iopub.execute_input": "2021-01-07T12:52:01.832568Z",
     "iopub.status.busy": "2021-01-07T12:52:01.831893Z",
     "iopub.status.idle": "2021-01-07T12:52:08.199750Z",
     "shell.execute_reply": "2021-01-07T12:52:08.198623Z"
    },
    "id": "9iJTuxj_kNfQ",
    "papermill": {
     "duration": 6.403628,
     "end_time": "2021-01-07T12:52:08.199872",
     "exception": false,
     "start_time": "2021-01-07T12:52:01.796244",
     "status": "completed"
    },
    "tags": []
   },
   "outputs": [],
   "source": [
    "import pickle as pkl\n",
    "\n",
    "dic_train_data = pkl.load(open(train_data_path,\"rb\"))\n",
    "dic_missing_data = pkl.load(open(missing_data_path,\"rb\"))"
   ]
  },
  {
   "cell_type": "code",
   "execution_count": 9,
   "metadata": {
    "execution": {
     "iopub.execute_input": "2021-01-07T12:52:08.269773Z",
     "iopub.status.busy": "2021-01-07T12:52:08.268186Z",
     "iopub.status.idle": "2021-01-07T12:52:08.274167Z",
     "shell.execute_reply": "2021-01-07T12:52:08.273695Z"
    },
    "id": "6TdjVdwEPvny",
    "outputId": "c49a7d54-3444-4bef-f242-751e108f21f3",
    "papermill": {
     "duration": 0.043158,
     "end_time": "2021-01-07T12:52:08.274266",
     "exception": false,
     "start_time": "2021-01-07T12:52:08.231108",
     "status": "completed"
    },
    "tags": []
   },
   "outputs": [
    {
     "data": {
      "text/plain": [
       "['left_eye_center',\n",
       " 'right_eye_center',\n",
       " 'left_eye_inner_corner',\n",
       " 'left_eye_outer_corner',\n",
       " 'right_eye_inner_corner',\n",
       " 'right_eye_outer_corner',\n",
       " 'left_eyebrow_inner_end',\n",
       " 'left_eyebrow_outer_end',\n",
       " 'right_eyebrow_inner_end',\n",
       " 'right_eyebrow_outer_end',\n",
       " 'mouth_left_corner',\n",
       " 'mouth_right_corner',\n",
       " 'mouth_center_top_lip',\n",
       " 'mouth_center_bottom_lip']"
      ]
     },
     "execution_count": 9,
     "metadata": {},
     "output_type": "execute_result"
    }
   ],
   "source": [
    "features = list(dic_train_data.keys())\n",
    "features"
   ]
  },
  {
   "cell_type": "code",
   "execution_count": 10,
   "metadata": {
    "execution": {
     "iopub.execute_input": "2021-01-07T12:52:08.341600Z",
     "iopub.status.busy": "2021-01-07T12:52:08.340985Z",
     "iopub.status.idle": "2021-01-07T12:52:08.346425Z",
     "shell.execute_reply": "2021-01-07T12:52:08.346872Z"
    },
    "id": "ydLdeD8YPvn1",
    "outputId": "f34d38aa-b9d9-4a29-f689-35bd6a3aa98e",
    "papermill": {
     "duration": 0.041004,
     "end_time": "2021-01-07T12:52:08.346991",
     "exception": false,
     "start_time": "2021-01-07T12:52:08.305987",
     "status": "completed"
    },
    "tags": []
   },
   "outputs": [
    {
     "data": {
      "text/plain": [
       "'right_eye_center'"
      ]
     },
     "execution_count": 10,
     "metadata": {},
     "output_type": "execute_result"
    }
   ],
   "source": [
    "feature_name = features[feature_index]\n",
    "feature_name"
   ]
  },
  {
   "cell_type": "code",
   "execution_count": 11,
   "metadata": {
    "execution": {
     "iopub.execute_input": "2021-01-07T12:52:08.447748Z",
     "iopub.status.busy": "2021-01-07T12:52:08.447117Z",
     "iopub.status.idle": "2021-01-07T12:52:08.451302Z",
     "shell.execute_reply": "2021-01-07T12:52:08.450684Z"
    },
    "id": "APi2VVkKQFOm",
    "papermill": {
     "duration": 0.040387,
     "end_time": "2021-01-07T12:52:08.451410",
     "exception": false,
     "start_time": "2021-01-07T12:52:08.411023",
     "status": "completed"
    },
    "tags": []
   },
   "outputs": [],
   "source": [
    "scalers_path = feature_name+\"_scalers_dict.pkl\"\n",
    "model_path = feature_name+\".h5\"\n",
    "\n",
    "# scalers_path = \"data/\"+feature_name+\"_scalers_dict.pkl\"\n",
    "# model_path = \"models/\"+feature_name+\".h5\""
   ]
  },
  {
   "cell_type": "code",
   "execution_count": 12,
   "metadata": {
    "execution": {
     "iopub.execute_input": "2021-01-07T12:52:08.551833Z",
     "iopub.status.busy": "2021-01-07T12:52:08.536492Z",
     "iopub.status.idle": "2021-01-07T12:52:09.546813Z",
     "shell.execute_reply": "2021-01-07T12:52:09.547303Z"
    },
    "id": "UHAb9cCEPvn3",
    "outputId": "cdb32799-3d8e-4470-e682-c8b1a792037b",
    "papermill": {
     "duration": 1.06423,
     "end_time": "2021-01-07T12:52:09.547459",
     "exception": false,
     "start_time": "2021-01-07T12:52:08.483229",
     "status": "completed"
    },
    "tags": []
   },
   "outputs": [
    {
     "data": {
      "text/html": [
       "<div>\n",
       "<style scoped>\n",
       "    .dataframe tbody tr th:only-of-type {\n",
       "        vertical-align: middle;\n",
       "    }\n",
       "\n",
       "    .dataframe tbody tr th {\n",
       "        vertical-align: top;\n",
       "    }\n",
       "\n",
       "    .dataframe thead th {\n",
       "        text-align: right;\n",
       "    }\n",
       "</style>\n",
       "<table border=\"1\" class=\"dataframe\">\n",
       "  <thead>\n",
       "    <tr style=\"text-align: right;\">\n",
       "      <th></th>\n",
       "      <th>right_eye_center_x</th>\n",
       "      <th>right_eye_center_y</th>\n",
       "      <th>Image</th>\n",
       "    </tr>\n",
       "  </thead>\n",
       "  <tbody>\n",
       "    <tr>\n",
       "      <th>0</th>\n",
       "      <td>30.227008</td>\n",
       "      <td>36.421678</td>\n",
       "      <td>[[238, 236, 237, 238, 240, 240, 239, 241, 241,...</td>\n",
       "    </tr>\n",
       "    <tr>\n",
       "      <th>1</th>\n",
       "      <td>29.949277</td>\n",
       "      <td>33.448715</td>\n",
       "      <td>[[219, 215, 204, 196, 204, 211, 212, 200, 180,...</td>\n",
       "    </tr>\n",
       "    <tr>\n",
       "      <th>2</th>\n",
       "      <td>30.903789</td>\n",
       "      <td>34.909642</td>\n",
       "      <td>[[144, 142, 159, 180, 188, 188, 184, 180, 167,...</td>\n",
       "    </tr>\n",
       "    <tr>\n",
       "      <th>3</th>\n",
       "      <td>32.023096</td>\n",
       "      <td>37.261774</td>\n",
       "      <td>[[193, 192, 193, 194, 194, 194, 193, 192, 168,...</td>\n",
       "    </tr>\n",
       "    <tr>\n",
       "      <th>4</th>\n",
       "      <td>32.244810</td>\n",
       "      <td>38.042032</td>\n",
       "      <td>[[147, 148, 160, 196, 215, 214, 216, 217, 219,...</td>\n",
       "    </tr>\n",
       "  </tbody>\n",
       "</table>\n",
       "</div>"
      ],
      "text/plain": [
       "   right_eye_center_x  right_eye_center_y  \\\n",
       "0           30.227008           36.421678   \n",
       "1           29.949277           33.448715   \n",
       "2           30.903789           34.909642   \n",
       "3           32.023096           37.261774   \n",
       "4           32.244810           38.042032   \n",
       "\n",
       "                                               Image  \n",
       "0  [[238, 236, 237, 238, 240, 240, 239, 241, 241,...  \n",
       "1  [[219, 215, 204, 196, 204, 211, 212, 200, 180,...  \n",
       "2  [[144, 142, 159, 180, 188, 188, 184, 180, 167,...  \n",
       "3  [[193, 192, 193, 194, 194, 194, 193, 192, 168,...  \n",
       "4  [[147, 148, 160, 196, 215, 214, 216, 217, 219,...  "
      ]
     },
     "execution_count": 12,
     "metadata": {},
     "output_type": "execute_result"
    }
   ],
   "source": [
    "dic_train_data[feature_name].head()"
   ]
  },
  {
   "cell_type": "markdown",
   "metadata": {
    "id": "Ys-qr2X5WKAR",
    "papermill": {
     "duration": 0.031755,
     "end_time": "2021-01-07T12:52:09.612057",
     "exception": false,
     "start_time": "2021-01-07T12:52:09.580302",
     "status": "completed"
    },
    "tags": []
   },
   "source": [
    "#### **Create custom Data Generator**\n",
    "\n",
    "**We will build a data generator that will load mini-batches and feed to the model dynamically**"
   ]
  },
  {
   "cell_type": "code",
   "execution_count": 13,
   "metadata": {
    "execution": {
     "iopub.execute_input": "2021-01-07T12:52:09.716145Z",
     "iopub.status.busy": "2021-01-07T12:52:09.693054Z",
     "iopub.status.idle": "2021-01-07T12:52:09.718539Z",
     "shell.execute_reply": "2021-01-07T12:52:09.719036Z"
    },
    "id": "i8PX_Elb-VQz",
    "papermill": {
     "duration": 0.075238,
     "end_time": "2021-01-07T12:52:09.719160",
     "exception": false,
     "start_time": "2021-01-07T12:52:09.643922",
     "status": "completed"
    },
    "tags": []
   },
   "outputs": [],
   "source": [
    "class DataGenerator(tf.keras.utils.Sequence):\n",
    "    def __init__(self, df, batch_size=32, rgb_channels=True, shuffle=True, augment=True, normalize_image=True, normalize_coordinates=False, scalers=None):\n",
    "        self.df = df\n",
    "        self.batch_size = batch_size\n",
    "        self.size = df.shape[0]\n",
    "        self.shuffle = shuffle\n",
    "        self.augment = augment\n",
    "        # Keras pre-trained models have trained on color images and if we want to use grayscale images we can still use these pre-trained models by repeating the grayscale image over three channels\n",
    "        self.rgb_channels = rgb_channels\n",
    "        self.normalize_image = normalize_image\n",
    "        self.normalize_coordinates = normalize_coordinates\n",
    "        self.scalers = scalers\n",
    "        self.feature_columns = df.columns.tolist()[:-1]\n",
    "        #  To keep track on which pairs of landmarks to be swapped, we introduce a dictionary recording the original and new landmark's index\n",
    "        self.left_right_dic = {'right_eye_center_x' : 'left_eye_center_x' ,\n",
    "                'right_eye_center_y' : 'left_eye_center_y' ,\n",
    "                'right_eye_inner_corner_x' : 'left_eye_inner_corner_x' ,\n",
    "                'right_eye_inner_corner_y' : 'left_eye_inner_corner_y' ,\n",
    "                'right_eye_outer_corner_x' : 'left_eye_outer_corner_x' ,\n",
    "                'right_eye_outer_corner_y' : 'left_eye_outer_corner_y' ,\n",
    "                'right_eyebrow_inner_end_x' : 'left_eyebrow_inner_end_x' ,\n",
    "                'right_eyebrow_inner_end_y' : 'left_eyebrow_inner_end_y' ,\n",
    "                'right_eyebrow_outer_end_x' : 'left_eyebrow_outer_end_x' ,\n",
    "                'right_eyebrow_outer_end_y' : 'left_eyebrow_outer_end_y' ,\n",
    "                'mouth_right_corner_x' : 'mouth_left_corner_x' ,\n",
    "                'mouth_right_corner_y' : 'mouth_left_corner_y' }\n",
    "        self.on_epoch_end()\n",
    "\n",
    "    def __len__(self):\n",
    "        'Denotes the number of batches per epoch'\n",
    "        return self.size // self.batch_size\n",
    "\n",
    "    def on_epoch_end(self):\n",
    "        'Updates indexes after each epoch'\n",
    "        self.indexes = np.arange(self.size)\n",
    "        if self.shuffle:\n",
    "            np.random.shuffle(self.indexes)\n",
    "\n",
    "    def __getitem__(self, index):\n",
    "        # selects indices of data for next batch`\n",
    "        indexes = self.indexes[index * self.batch_size : (index + 1) * self.batch_size]\n",
    "        'Generate one batch of data'\n",
    "        batched_df = self.df.iloc[indexes] #.sample(frac=1).reset_index(drop=True)\n",
    "\n",
    "        if self.augment == True:\n",
    "            df_batch = self.augmentor(batched_df)\n",
    "        else:\n",
    "            df_batch = batched_df\n",
    "\n",
    "\n",
    "        batched_images = np.vstack(df_batch[\"Image\"].values).reshape(-1, 96, 96, 1).astype(np.float32)\n",
    "        \n",
    "        if self.rgb_channels:\n",
    "            batched_images = np.repeat(batched_images,3,-1)\n",
    "\n",
    "        batched_feature_corrdinates = df_batch.iloc[:,:-1]\n",
    "        \n",
    "        if self.normalize_coordinates:\n",
    "            for col in self.feature_columns:\n",
    "                scaler = self.scalers[col]\n",
    "                batched_feature_corrdinates[col] = scaler.transform(batched_feature_corrdinates[col].to_numpy().reshape(-1, 1)).reshape(-1)\n",
    "\n",
    "        batched_feature_corrdinates = batched_feature_corrdinates.values.astype(np.float32) #feature coordinates        \n",
    "\n",
    "        if self.normalize_image == True:\n",
    "            batched_images = batched_images/255\n",
    "\n",
    "        return batched_images, batched_feature_corrdinates\n",
    "\n",
    "    def augmentor(self, df):\n",
    "\n",
    "        def flip_horizontally(row):\n",
    "            'Method that flips the image horizontally and swaps the features' \n",
    "            row[\"Image\"] = np.flip(row[\"Image\"], axis = 1)\n",
    "            # y coordinates values will stay the same while the x coordinates will have to be changed\n",
    "            # subtract our initial x-coordinate values from width of the image(96)\n",
    "            for i in range(len(self.feature_columns)):#+1\n",
    "                if i%2 == 0: # because there is always x coordinate then y corrdinate\n",
    "                    row[self.feature_columns[i]] = 96. - row[self.feature_columns[i]]\n",
    "            # swap\n",
    "            rights = [a for a in self.feature_columns if \"right\" in a.split(\"_\")]\n",
    "            for col_r in rights:\n",
    "                col_l = self.left_right_dic[col_r]\n",
    "                temp = row[col_l] \n",
    "                row[col_l] = row[col_r]\n",
    "                row[col_r] = temp\n",
    "            return row\n",
    "\n",
    "        def increase_brightness(image):\n",
    "            'Method that randomly increase images brightness'      \n",
    "            # Multiply pixel values by random values between 1 and 1.5 to increase the brightness of the image\n",
    "            # Clip the value between 0 and 255\n",
    "            image = np.clip(random.uniform(1, 1.5) * image, 0.0, 255.0)\n",
    "            return image\n",
    "\n",
    "        def decrease_brightness(image):\n",
    "            'Method that randomly decrease images brightness'\n",
    "            # Multiply pixel values by random values between 0 and 0.1 to decrease the brightness of the image\n",
    "            # Clip the value between 0 and 255\n",
    "            image = np.clip(random.uniform(0, 0.1) * image, 0.0, 255.0)\n",
    "            return image\n",
    "\n",
    "        def augment(row):\n",
    "        # if we have more than one feature allow flipping\n",
    "            if len(self.feature_columns)>2:\n",
    "                if row[\"augment_flip\"]==1:\n",
    "                    row =  flip_horizontally(row)\n",
    "            if row[\"augment_inc_b\"]:\n",
    "                row[\"Image\"] = increase_brightness(row[\"Image\"])\n",
    "            if row[\"augment_dec_b\"]:\n",
    "                row[\"Image\"] = decrease_brightness(row[\"Image\"])\n",
    "            return row\n",
    "\n",
    "      # generate random boolean for augmentation types \n",
    "        df[\"augment_flip\"] = [random.getrandbits(1) for i in range(len(df))]\n",
    "        df[\"augment_inc_b\"] = [random.getrandbits(1) for i in range(len(df))]\n",
    "        df[\"augment_dec_b\"] = [random.getrandbits(1) for i in range(len(df))]\n",
    "        # df = df.apply(lambda row : augment(row), axis=1)\n",
    "        df = df.apply(augment, axis=1)\n",
    "        df.drop(['augment_flip', 'augment_inc_b', 'augment_dec_b'], axis=1, inplace=True)\n",
    "        return df\n"
   ]
  },
  {
   "cell_type": "code",
   "execution_count": 14,
   "metadata": {
    "execution": {
     "iopub.execute_input": "2021-01-07T12:52:09.797203Z",
     "iopub.status.busy": "2021-01-07T12:52:09.795844Z",
     "iopub.status.idle": "2021-01-07T12:52:09.798694Z",
     "shell.execute_reply": "2021-01-07T12:52:09.799237Z"
    },
    "id": "68VI4DWX-EnV",
    "papermill": {
     "duration": 0.04617,
     "end_time": "2021-01-07T12:52:09.799400",
     "exception": false,
     "start_time": "2021-01-07T12:52:09.753230",
     "status": "completed"
    },
    "tags": []
   },
   "outputs": [],
   "source": [
    "def visualize_image(x, y=None, y_predicted=None):\n",
    "  # x-coordinates are in even columns like 0,2,4,.. and y-coordinates are in odd columns like 1,3,5,..\n",
    "    plt.figure()\n",
    "    plt.imshow(x, cmap='gray')\n",
    "    if y is not None:\n",
    "        f = y.shape[0]\n",
    "        for j in range(0,f,2):\n",
    "            plt.plot(y[j], y[j+1], 'X', color='blue', label='actual')\n",
    "    if y_predicted is not None:\n",
    "        f = y_predicted.shape[0]\n",
    "        for j in range(0,f,2):\n",
    "            plt.plot(y_predicted[j], y_predicted[j+1], 'X', color='red', label='predicted')\n",
    "    plt.legend()"
   ]
  },
  {
   "cell_type": "markdown",
   "metadata": {
    "id": "eX1dSeiRCUUE",
    "papermill": {
     "duration": 0.055577,
     "end_time": "2021-01-07T12:52:09.901318",
     "exception": false,
     "start_time": "2021-01-07T12:52:09.845741",
     "status": "completed"
    },
    "tags": []
   },
   "source": [
    "Lets try the data generator and visuilize some images"
   ]
  },
  {
   "cell_type": "markdown",
   "metadata": {
    "id": "cdehN9mvIsan",
    "papermill": {
     "duration": 0.047808,
     "end_time": "2021-01-07T12:52:10.004726",
     "exception": false,
     "start_time": "2021-01-07T12:52:09.956918",
     "status": "completed"
    },
    "tags": []
   },
   "source": [
    "### Part 1.3  Building a Prediction model for a feature"
   ]
  },
  {
   "cell_type": "markdown",
   "metadata": {
    "id": "ph_UEDMwcEvX",
    "papermill": {
     "duration": 0.048306,
     "end_time": "2021-01-07T12:52:10.113726",
     "exception": false,
     "start_time": "2021-01-07T12:52:10.065420",
     "status": "completed"
    },
    "tags": []
   },
   "source": [
    "#### **Prepare data generators to train the model**"
   ]
  },
  {
   "cell_type": "markdown",
   "metadata": {
    "id": "ACe1Z0-GvdBs",
    "papermill": {
     "duration": 0.047278,
     "end_time": "2021-01-07T12:52:10.207559",
     "exception": false,
     "start_time": "2021-01-07T12:52:10.160281",
     "status": "completed"
    },
    "tags": []
   },
   "source": [
    "##### **Split the data into train and test**"
   ]
  },
  {
   "cell_type": "code",
   "execution_count": 15,
   "metadata": {
    "execution": {
     "iopub.execute_input": "2021-01-07T12:52:10.312425Z",
     "iopub.status.busy": "2021-01-07T12:52:10.309201Z",
     "iopub.status.idle": "2021-01-07T12:52:10.321872Z",
     "shell.execute_reply": "2021-01-07T12:52:10.323331Z"
    },
    "id": "Wz9DPZKppGXK",
    "outputId": "316ac4e0-0178-4692-e984-204c6ff49f72",
    "papermill": {
     "duration": 0.070306,
     "end_time": "2021-01-07T12:52:10.323534",
     "exception": false,
     "start_time": "2021-01-07T12:52:10.253228",
     "status": "completed"
    },
    "tags": []
   },
   "outputs": [
    {
     "name": "stdout",
     "output_type": "stream",
     "text": [
      "(7036, 3) (5628, 3) (1408, 3)\n"
     ]
    }
   ],
   "source": [
    "df = dic_train_data[feature_name]\n",
    "# Split the data into training and testing data\n",
    "df_train, df_test = train_test_split(df, test_size = 0.2, random_state=None)\n",
    "print(df.shape, df_train.shape, df_test.shape)"
   ]
  },
  {
   "cell_type": "code",
   "execution_count": 16,
   "metadata": {
    "execution": {
     "iopub.execute_input": "2021-01-07T12:52:10.466189Z",
     "iopub.status.busy": "2021-01-07T12:52:10.465235Z",
     "iopub.status.idle": "2021-01-07T12:52:11.712299Z",
     "shell.execute_reply": "2021-01-07T12:52:11.711801Z"
    },
    "id": "iJ7K_1lndPKu",
    "outputId": "abda56ba-925c-43d9-ac1c-512dcbb269f6",
    "papermill": {
     "duration": 1.336535,
     "end_time": "2021-01-07T12:52:11.712425",
     "exception": false,
     "start_time": "2021-01-07T12:52:10.375890",
     "status": "completed"
    },
    "tags": []
   },
   "outputs": [
    {
     "data": {
      "text/html": [
       "<div>\n",
       "<style scoped>\n",
       "    .dataframe tbody tr th:only-of-type {\n",
       "        vertical-align: middle;\n",
       "    }\n",
       "\n",
       "    .dataframe tbody tr th {\n",
       "        vertical-align: top;\n",
       "    }\n",
       "\n",
       "    .dataframe thead th {\n",
       "        text-align: right;\n",
       "    }\n",
       "</style>\n",
       "<table border=\"1\" class=\"dataframe\">\n",
       "  <thead>\n",
       "    <tr style=\"text-align: right;\">\n",
       "      <th></th>\n",
       "      <th>right_eye_center_x</th>\n",
       "      <th>right_eye_center_y</th>\n",
       "      <th>Image</th>\n",
       "    </tr>\n",
       "  </thead>\n",
       "  <tbody>\n",
       "    <tr>\n",
       "      <th>1916</th>\n",
       "      <td>29.607808</td>\n",
       "      <td>41.428394</td>\n",
       "      <td>[[133, 132, 133, 128, 124, 117, 103, 104, 110,...</td>\n",
       "    </tr>\n",
       "    <tr>\n",
       "      <th>2504</th>\n",
       "      <td>30.240218</td>\n",
       "      <td>42.494073</td>\n",
       "      <td>[[13, 11, 5, 1, 1, 1, 13, 25, 36, 49, 54, 55, ...</td>\n",
       "    </tr>\n",
       "    <tr>\n",
       "      <th>1449</th>\n",
       "      <td>28.608655</td>\n",
       "      <td>38.819713</td>\n",
       "      <td>[[158, 86, 54, 40, 39, 39, 47, 47, 38, 33, 30,...</td>\n",
       "    </tr>\n",
       "    <tr>\n",
       "      <th>6189</th>\n",
       "      <td>24.350307</td>\n",
       "      <td>40.148955</td>\n",
       "      <td>[[136, 125, 143, 139, 85, 85, 93, 86, 67, 53, ...</td>\n",
       "    </tr>\n",
       "    <tr>\n",
       "      <th>3877</th>\n",
       "      <td>30.925536</td>\n",
       "      <td>36.635683</td>\n",
       "      <td>[[170, 123, 74, 44, 57, 62, 55, 43, 44, 58, 57...</td>\n",
       "    </tr>\n",
       "  </tbody>\n",
       "</table>\n",
       "</div>"
      ],
      "text/plain": [
       "      right_eye_center_x  right_eye_center_y  \\\n",
       "1916           29.607808           41.428394   \n",
       "2504           30.240218           42.494073   \n",
       "1449           28.608655           38.819713   \n",
       "6189           24.350307           40.148955   \n",
       "3877           30.925536           36.635683   \n",
       "\n",
       "                                                  Image  \n",
       "1916  [[133, 132, 133, 128, 124, 117, 103, 104, 110,...  \n",
       "2504  [[13, 11, 5, 1, 1, 1, 13, 25, 36, 49, 54, 55, ...  \n",
       "1449  [[158, 86, 54, 40, 39, 39, 47, 47, 38, 33, 30,...  \n",
       "6189  [[136, 125, 143, 139, 85, 85, 93, 86, 67, 53, ...  \n",
       "3877  [[170, 123, 74, 44, 57, 62, 55, 43, 44, 58, 57...  "
      ]
     },
     "execution_count": 16,
     "metadata": {},
     "output_type": "execute_result"
    }
   ],
   "source": [
    "df_train.head()"
   ]
  },
  {
   "cell_type": "markdown",
   "metadata": {
    "id": "Zo9gt1mXu2fd",
    "papermill": {
     "duration": 0.033261,
     "end_time": "2021-01-07T12:52:11.780148",
     "exception": false,
     "start_time": "2021-01-07T12:52:11.746887",
     "status": "completed"
    },
    "tags": []
   },
   "source": [
    "##### **Build scalers for normalizing feature data**"
   ]
  },
  {
   "cell_type": "code",
   "execution_count": 17,
   "metadata": {
    "execution": {
     "iopub.execute_input": "2021-01-07T12:52:11.855098Z",
     "iopub.status.busy": "2021-01-07T12:52:11.854236Z",
     "iopub.status.idle": "2021-01-07T12:52:11.858889Z",
     "shell.execute_reply": "2021-01-07T12:52:11.858310Z"
    },
    "id": "9t4-hf0gIeSw",
    "papermill": {
     "duration": 0.045009,
     "end_time": "2021-01-07T12:52:11.858978",
     "exception": false,
     "start_time": "2021-01-07T12:52:11.813969",
     "status": "completed"
    },
    "tags": []
   },
   "outputs": [],
   "source": [
    "scalers_dict = dict()\n",
    "for col in df.columns.tolist()[:-1]:\n",
    "    scaler = MinMaxScaler()\n",
    "    scaler.fit(df[col].to_numpy().reshape(-1, 1))\n",
    "    scalers_dict[col] = scaler\n",
    "\n",
    "\n",
    "\n",
    "pkl.dump(scalers_dict, open(scalers_path,\"wb\"))\n"
   ]
  },
  {
   "cell_type": "markdown",
   "metadata": {
    "id": "WZNeHGhxvnSH",
    "papermill": {
     "duration": 0.035099,
     "end_time": "2021-01-07T12:52:11.929254",
     "exception": false,
     "start_time": "2021-01-07T12:52:11.894155",
     "status": "completed"
    },
    "tags": []
   },
   "source": [
    "##### **Build train and validation data generators**"
   ]
  },
  {
   "cell_type": "code",
   "execution_count": 18,
   "metadata": {
    "execution": {
     "iopub.execute_input": "2021-01-07T12:52:12.006447Z",
     "iopub.status.busy": "2021-01-07T12:52:12.005723Z",
     "iopub.status.idle": "2021-01-07T12:52:12.011939Z",
     "shell.execute_reply": "2021-01-07T12:52:12.010724Z"
    },
    "id": "HERnPWEBc83D",
    "papermill": {
     "duration": 0.046471,
     "end_time": "2021-01-07T12:52:12.012082",
     "exception": false,
     "start_time": "2021-01-07T12:52:11.965611",
     "status": "completed"
    },
    "tags": []
   },
   "outputs": [],
   "source": [
    " \n",
    "train_generator = DataGenerator(df_train, batch_size=32, normalize_image=True, normalize_coordinates=True, scalers=scalers_dict)\n",
    "val_generator =  DataGenerator(df_test, batch_size=32,  augment=False, normalize_image=True,  normalize_coordinates=True,  scalers=train_generator.scalers)"
   ]
  },
  {
   "cell_type": "markdown",
   "metadata": {
    "id": "Ctn-Hf0Nc5p_",
    "papermill": {
     "duration": 0.033851,
     "end_time": "2021-01-07T12:52:12.081015",
     "exception": false,
     "start_time": "2021-01-07T12:52:12.047164",
     "status": "completed"
    },
    "tags": []
   },
   "source": [
    "#### **Build a Prediction model**"
   ]
  },
  {
   "cell_type": "code",
   "execution_count": 19,
   "metadata": {
    "execution": {
     "iopub.execute_input": "2021-01-07T12:52:12.195838Z",
     "iopub.status.busy": "2021-01-07T12:52:12.180722Z",
     "iopub.status.idle": "2021-01-07T12:52:12.199784Z",
     "shell.execute_reply": "2021-01-07T12:52:12.200679Z"
    },
    "id": "WHg8_6ZgPvoJ",
    "papermill": {
     "duration": 0.08519,
     "end_time": "2021-01-07T12:52:12.200838",
     "exception": false,
     "start_time": "2021-01-07T12:52:12.115648",
     "status": "completed"
    },
    "tags": []
   },
   "outputs": [],
   "source": [
    "from tensorflow.keras.applications import EfficientNetB0, VGG16\n",
    "\n",
    "def create_efficientNet(nbr_features):\n",
    "    inputs = tf.keras.Input(shape=(96, 96, 3))  \n",
    "    # This option include_top excludes the final Dense layer.\n",
    "    # This allows us to replace the top layer with custom layers which allows the use of  EfficientNet as a feature extractor in a transfer learning workflow\n",
    "    model = EfficientNetB0(include_top=False, input_tensor=inputs, weights=\"imagenet\")#, drop_connect_rate=0.1)\n",
    "    # Freeze the pretrained weights\n",
    "    model.trainable = False\n",
    "\n",
    "    # Rebuild top\n",
    "    x = GlobalAveragePooling2D()(model.output)    \n",
    "    x = BatchNormalization()(x)\n",
    "    x = Dropout(0.4)(x)\n",
    "    outputs = Dense(nbr_features,activation='relu')(x)\n",
    "\n",
    "    # Compile\n",
    "    model = keras.Model(inputs, outputs)\n",
    "    return model\n",
    "\n",
    "def create_vgg16(nbr_features):\n",
    "\n",
    "    #Get back the convolutional part of a VGG network trained on ImageNet\n",
    "    model = VGG16(weights='imagenet', include_top=False)\n",
    "    model.trainable = False\n",
    "    #Create your own input format (here 3x200x200)\n",
    "    inputs = Input(shape=(96,96,3))\n",
    "\n",
    "    #Use the generated model \n",
    "    output_vgg16 = model(inputs)\n",
    "\n",
    "    #Add the fully-connected layers \n",
    "    x = Flatten()(output_vgg16)\n",
    "    x = Dense(64, activation='relu')(x)\n",
    "    # x = Dense(32, activation='relu')(x)\n",
    "    outputs = Dense(nbr_features, activation='relu')(x)\n",
    "\n",
    "    #Create your own model \n",
    "    model = Model(inputs=inputs, outputs=outputs)\n",
    "    return model\n",
    "\n",
    "\n",
    "def create_simple_model(nbr_features):\n",
    "  # vanillia CNN model\n",
    "    model = Sequential()\n",
    "    model.add(Conv2D(16, kernel_size=(5, 5), activation='relu', input_shape=(96, 96 , 1)))\n",
    "    model.add(MaxPooling2D(pool_size=(2, 2), strides=2))\n",
    "    model.add(Conv2D(48, (3, 3), activation='relu'))\n",
    "    model.add(MaxPooling2D(pool_size=(2, 2), strides=2))\n",
    "    model.add(Conv2D(64, (3, 3), activation='relu'))\n",
    "    model.add(MaxPooling2D(pool_size=(2, 2), strides=2))\n",
    "    model.add(Conv2D(64, (2, 2), activation='relu'))\n",
    "    model.add(Flatten())\n",
    "    model.add(Dense(100, activation='relu'))\n",
    "    model.add(Dense(nbr_features, activation='relu'))\n",
    "    return model\n"
   ]
  },
  {
   "cell_type": "code",
   "execution_count": 20,
   "metadata": {
    "execution": {
     "iopub.execute_input": "2021-01-07T12:52:12.318479Z",
     "iopub.status.busy": "2021-01-07T12:52:12.317646Z",
     "iopub.status.idle": "2021-01-07T12:52:18.163878Z",
     "shell.execute_reply": "2021-01-07T12:52:18.163272Z"
    },
    "id": "ofh5qnydxTwZ",
    "outputId": "07bd6fcc-e67a-409e-813c-a4d839c5966b",
    "papermill": {
     "duration": 5.902626,
     "end_time": "2021-01-07T12:52:18.163997",
     "exception": false,
     "start_time": "2021-01-07T12:52:12.261371",
     "status": "completed"
    },
    "tags": []
   },
   "outputs": [
    {
     "name": "stdout",
     "output_type": "stream",
     "text": [
      "Downloading data from https://storage.googleapis.com/keras-applications/efficientnetb0_notop.h5\n",
      "16711680/16705208 [==============================] - 0s 0us/step\n"
     ]
    }
   ],
   "source": [
    "nbr_features = 2\n",
    "# create the model\n",
    "model = create_efficientNet(nbr_features)\n",
    "# model = create_vgg16(nbr_features)"
   ]
  },
  {
   "cell_type": "markdown",
   "metadata": {
    "id": "cJ8vd7UwtrYg",
    "papermill": {
     "duration": 0.036327,
     "end_time": "2021-01-07T12:52:18.238011",
     "exception": false,
     "start_time": "2021-01-07T12:52:18.201684",
     "status": "completed"
    },
    "tags": []
   },
   "source": [
    "#### **Define custom loss and compile the model**"
   ]
  },
  {
   "cell_type": "code",
   "execution_count": 21,
   "metadata": {
    "execution": {
     "iopub.execute_input": "2021-01-07T12:52:18.477081Z",
     "iopub.status.busy": "2021-01-07T12:52:18.476005Z",
     "iopub.status.idle": "2021-01-07T12:52:18.484117Z",
     "shell.execute_reply": "2021-01-07T12:52:18.483644Z"
    },
    "id": "tXRRM-KrLjfE",
    "papermill": {
     "duration": 0.209086,
     "end_time": "2021-01-07T12:52:18.484228",
     "exception": false,
     "start_time": "2021-01-07T12:52:18.275142",
     "status": "completed"
    },
    "tags": []
   },
   "outputs": [],
   "source": [
    "import tensorflow.keras.backend as K\n",
    "\n",
    "def euclidean_distance_loss(y_true, y_pred):\n",
    "  #     Euclidean distance loss\n",
    "    return K.sqrt(K.sum(K.square(y_pred - y_true), axis=-1))\n",
    "\n",
    "def absolute_tanh(x):\n",
    "    return K.abs(K.tanh(x))\n",
    "\n",
    "# MeanAbsoluteError(), MeanAbsolutePercentageError()\n",
    "model.compile(loss=euclidean_distance_loss,\n",
    "              optimizer=keras.optimizers.Adam(learning_rate=1e-4),\n",
    "              )\n",
    "\n",
    "def unfreeze_model(model):\n",
    "    # We unfreeze the top 50 layers while leaving BatchNorm layers frozen\n",
    "    for layer in model.layers[-50:]:\n",
    "        if not isinstance(layer, keras.layers.BatchNormalization):\n",
    "            layer.trainable = True"
   ]
  },
  {
   "cell_type": "markdown",
   "metadata": {
    "id": "XOn3P3dcvy7T",
    "papermill": {
     "duration": 0.036737,
     "end_time": "2021-01-07T12:52:18.559759",
     "exception": false,
     "start_time": "2021-01-07T12:52:18.523022",
     "status": "completed"
    },
    "tags": []
   },
   "source": [
    "#### **Start training**"
   ]
  },
  {
   "cell_type": "code",
   "execution_count": 22,
   "metadata": {
    "execution": {
     "iopub.execute_input": "2021-01-07T12:52:18.642801Z",
     "iopub.status.busy": "2021-01-07T12:52:18.642112Z",
     "iopub.status.idle": "2021-01-07T12:55:13.349918Z",
     "shell.execute_reply": "2021-01-07T12:55:13.348284Z"
    },
    "id": "7AWepBFAc9LR",
    "outputId": "98eb52a4-9bf9-4246-baab-cd0b9085d99c",
    "papermill": {
     "duration": 174.75296,
     "end_time": "2021-01-07T12:55:13.350029",
     "exception": false,
     "start_time": "2021-01-07T12:52:18.597069",
     "status": "completed"
    },
    "tags": []
   },
   "outputs": [
    {
     "name": "stdout",
     "output_type": "stream",
     "text": [
      "Epoch 1/30\n",
      "175/175 [==============================] - 8s 44ms/step - loss: 0.5122 - val_loss: 0.5243\n",
      "Epoch 2/30\n",
      "175/175 [==============================] - 5s 30ms/step - loss: 0.4757 - val_loss: 0.5630\n",
      "Epoch 3/30\n",
      "175/175 [==============================] - 6s 35ms/step - loss: 0.4668 - val_loss: 0.5036\n",
      "Epoch 4/30\n",
      "175/175 [==============================] - 5s 31ms/step - loss: 0.4587 - val_loss: 0.4597\n",
      "Epoch 5/30\n",
      "175/175 [==============================] - 5s 31ms/step - loss: 0.4516 - val_loss: 0.4387\n",
      "Epoch 6/30\n",
      "175/175 [==============================] - 5s 29ms/step - loss: 0.4454 - val_loss: 0.4258\n",
      "Epoch 7/30\n",
      "175/175 [==============================] - 5s 30ms/step - loss: 0.4472 - val_loss: 0.4460\n",
      "Epoch 8/30\n",
      "175/175 [==============================] - 5s 29ms/step - loss: 0.4376 - val_loss: 0.4137\n",
      "Epoch 9/30\n",
      "175/175 [==============================] - 7s 38ms/step - loss: 0.4301 - val_loss: 0.3490\n",
      "Epoch 10/30\n",
      "175/175 [==============================] - 5s 30ms/step - loss: 0.4162 - val_loss: 0.3485\n",
      "Epoch 11/30\n",
      "175/175 [==============================] - 6s 35ms/step - loss: 0.4139 - val_loss: 0.2482\n",
      "Epoch 12/30\n",
      "175/175 [==============================] - 5s 31ms/step - loss: 0.4077 - val_loss: 0.2221\n",
      "Epoch 13/30\n",
      "175/175 [==============================] - 5s 29ms/step - loss: 0.4043 - val_loss: 0.2465\n",
      "Epoch 14/30\n",
      "175/175 [==============================] - 5s 28ms/step - loss: 0.3893 - val_loss: 0.1886\n",
      "Epoch 15/30\n",
      "175/175 [==============================] - 6s 34ms/step - loss: 0.3831 - val_loss: 0.1682\n",
      "Epoch 16/30\n",
      "175/175 [==============================] - 5s 28ms/step - loss: 0.3696 - val_loss: 0.1294\n",
      "Epoch 17/30\n",
      "175/175 [==============================] - 5s 30ms/step - loss: 0.3672 - val_loss: 0.1226\n",
      "Epoch 18/30\n",
      "175/175 [==============================] - 5s 28ms/step - loss: 0.3459 - val_loss: 0.1255\n",
      "Epoch 19/30\n",
      "175/175 [==============================] - 5s 30ms/step - loss: 0.3418 - val_loss: 0.0759\n",
      "Epoch 20/30\n",
      "175/175 [==============================] - 5s 28ms/step - loss: 0.3338 - val_loss: 0.0638\n",
      "Epoch 21/30\n",
      "175/175 [==============================] - 6s 35ms/step - loss: 0.3161 - val_loss: 0.0483\n",
      "Epoch 22/30\n",
      "175/175 [==============================] - 6s 33ms/step - loss: 0.3047 - val_loss: 0.0523\n",
      "Epoch 23/30\n",
      "175/175 [==============================] - 5s 31ms/step - loss: 0.2920 - val_loss: 0.0470\n",
      "Epoch 24/30\n",
      "175/175 [==============================] - 5s 28ms/step - loss: 0.2786 - val_loss: 0.0442\n",
      "Epoch 25/30\n",
      "175/175 [==============================] - 5s 30ms/step - loss: 0.2684 - val_loss: 0.0425\n",
      "Epoch 26/30\n",
      "175/175 [==============================] - 5s 31ms/step - loss: 0.2505 - val_loss: 0.0530\n",
      "Epoch 27/30\n",
      "175/175 [==============================] - 6s 32ms/step - loss: 0.2401 - val_loss: 0.0500\n",
      "Epoch 28/30\n",
      "175/175 [==============================] - 5s 28ms/step - loss: 0.2238 - val_loss: 0.0548\n",
      "Epoch 29/30\n",
      "175/175 [==============================] - 5s 30ms/step - loss: 0.2075 - val_loss: 0.0474\n",
      "Epoch 30/30\n",
      "175/175 [==============================] - 5s 28ms/step - loss: 0.1972 - val_loss: 0.0454\n"
     ]
    }
   ],
   "source": [
    "#10 + 10 +10\n",
    "# unfreeze_model(model)\n",
    "\n",
    "history = model.fit(train_generator, \n",
    "                    validation_data=val_generator,\n",
    "                    epochs=30)"
   ]
  },
  {
   "cell_type": "markdown",
   "metadata": {
    "id": "HvHov45D2qwx",
    "papermill": {
     "duration": 0.8442,
     "end_time": "2021-01-07T12:55:15.019603",
     "exception": false,
     "start_time": "2021-01-07T12:55:14.175403",
     "status": "completed"
    },
    "tags": []
   },
   "source": [
    "#### **Evaluate the model**"
   ]
  },
  {
   "cell_type": "code",
   "execution_count": 23,
   "metadata": {
    "execution": {
     "iopub.execute_input": "2021-01-07T12:55:16.681042Z",
     "iopub.status.busy": "2021-01-07T12:55:16.679793Z",
     "iopub.status.idle": "2021-01-07T12:55:17.696971Z",
     "shell.execute_reply": "2021-01-07T12:55:17.696219Z"
    },
    "id": "RYKhDBx9MgTN",
    "outputId": "52aeb591-a793-4482-b854-38914ebd81a9",
    "papermill": {
     "duration": 1.85578,
     "end_time": "2021-01-07T12:55:17.697085",
     "exception": false,
     "start_time": "2021-01-07T12:55:15.841305",
     "status": "completed"
    },
    "tags": []
   },
   "outputs": [
    {
     "name": "stdout",
     "output_type": "stream",
     "text": [
      "44/44 [==============================] - 1s 21ms/step - loss: 0.0454\n"
     ]
    },
    {
     "data": {
      "text/plain": [
       "0.045412395149469376"
      ]
     },
     "execution_count": 23,
     "metadata": {},
     "output_type": "execute_result"
    }
   ],
   "source": [
    "model.evaluate(val_generator)"
   ]
  },
  {
   "cell_type": "code",
   "execution_count": 24,
   "metadata": {
    "execution": {
     "iopub.execute_input": "2021-01-07T12:55:19.419013Z",
     "iopub.status.busy": "2021-01-07T12:55:19.418149Z",
     "iopub.status.idle": "2021-01-07T12:55:19.660699Z",
     "shell.execute_reply": "2021-01-07T12:55:19.659755Z"
    },
    "id": "FYqFSqoqe8Do",
    "outputId": "acccfe34-e1ed-4dee-db6f-d388e7efb6c5",
    "papermill": {
     "duration": 1.122328,
     "end_time": "2021-01-07T12:55:19.660818",
     "exception": false,
     "start_time": "2021-01-07T12:55:18.538490",
     "status": "completed"
    },
    "tags": []
   },
   "outputs": [
    {
     "data": {
      "text/plain": [
       "Text(0.5, 1.0, 'Training and validation loss')"
      ]
     },
     "execution_count": 24,
     "metadata": {},
     "output_type": "execute_result"
    },
    {
     "data": {
      "image/png": "[encoded data removed]",
      "text/plain": [
       "<Figure size 432x288 with 1 Axes>"
      ]
     },
     "metadata": {
      "needs_background": "light"
     },
     "output_type": "display_data"
    }
   ],
   "source": [
    "# Retrieve a list of list results on training and test data sets for each training epoch\n",
    "loss     = history.history['loss']\n",
    "val_loss = history.history['val_loss']\n",
    "epochs   = range(len(loss))\n",
    "# Plot training and validation loss per epoch\n",
    "plt.plot(epochs,loss, color='red' , label='training loss')\n",
    "plt.plot(epochs, val_loss, label='validation loss')\n",
    "plt.legend()\n",
    "plt.title ('Training and validation loss')"
   ]
  },
  {
   "cell_type": "markdown",
   "metadata": {
    "id": "BIr2js1Z2ipI",
    "papermill": {
     "duration": 0.864825,
     "end_time": "2021-01-07T12:55:21.436758",
     "exception": false,
     "start_time": "2021-01-07T12:55:20.571933",
     "status": "completed"
    },
    "tags": []
   },
   "source": [
    "#### **Test the model on random images**"
   ]
  },
  {
   "cell_type": "code",
   "execution_count": 25,
   "metadata": {
    "execution": {
     "iopub.execute_input": "2021-01-07T12:55:23.247811Z",
     "iopub.status.busy": "2021-01-07T12:55:23.246853Z",
     "iopub.status.idle": "2021-01-07T12:55:23.258392Z",
     "shell.execute_reply": "2021-01-07T12:55:23.259086Z"
    },
    "id": "MnxNCLAA1xvB",
    "outputId": "16288291-87dc-4ac3-ba1f-30a59d2fa79a",
    "papermill": {
     "duration": 0.93111,
     "end_time": "2021-01-07T12:55:23.259288",
     "exception": false,
     "start_time": "2021-01-07T12:55:22.328178",
     "status": "completed"
    },
    "tags": []
   },
   "outputs": [
    {
     "data": {
      "text/plain": [
       "{'right_eye_center_x': MinMaxScaler(), 'right_eye_center_y': MinMaxScaler()}"
      ]
     },
     "execution_count": 25,
     "metadata": {},
     "output_type": "execute_result"
    }
   ],
   "source": [
    "scalers_dict"
   ]
  },
  {
   "cell_type": "code",
   "execution_count": 26,
   "metadata": {
    "execution": {
     "iopub.execute_input": "2021-01-07T12:55:25.310882Z",
     "iopub.status.busy": "2021-01-07T12:55:25.309974Z",
     "iopub.status.idle": "2021-01-07T12:55:27.253881Z",
     "shell.execute_reply": "2021-01-07T12:55:27.255044Z"
    },
    "id": "EbY6XCqHPvoO",
    "outputId": "85d7b89c-efa4-405a-986a-92f79d589697",
    "papermill": {
     "duration": 2.830874,
     "end_time": "2021-01-07T12:55:27.255231",
     "exception": false,
     "start_time": "2021-01-07T12:55:24.424357",
     "status": "completed"
    },
    "tags": []
   },
   "outputs": [
    {
     "name": "stdout",
     "output_type": "stream",
     "text": [
      "[0.32494584 0.48479283]\n",
      "[28.09668  41.507404]\n",
      "[[0.35953048 0.45643   ]]\n",
      "[[31.01399  39.318367]]\n"
     ]
    },
    {
     "data": {
      "image/png": "[encoded data removed]",
      "text/plain": [
       "<Figure size 432x288 with 1 Axes>"
      ]
     },
     "metadata": {
      "needs_background": "light"
     },
     "output_type": "display_data"
    }
   ],
   "source": [
    "batch = val_generator.__getitem__(2)\n",
    "j= np.random.randint(0,len(batch[0]))\n",
    "# check original image \n",
    "print(batch[1][j:j+1][0])\n",
    "actual_y= batch[1][j:j+1][0]\n",
    "actual_y[0] = scalers_dict[feature_name+\"_x\"].inverse_transform([[actual_y[0]]])\n",
    "actual_y[1] = scalers_dict[feature_name+\"_y\"].inverse_transform([[actual_y[1]]])\n",
    "print(actual_y)\n",
    "##############################################\n",
    "predicted_y = model.predict(batch[0][j:j+1])\n",
    "print(predicted_y)\n",
    "# uncomment in case we have used the scaling\n",
    "predicted_y[:,:1] = scalers_dict[feature_name+\"_x\"].inverse_transform(predicted_y[:,:1])\n",
    "predicted_y[:,1:] = scalers_dict[feature_name+\"_y\"].inverse_transform(predicted_y[:,1:])\n",
    "print(predicted_y)\n",
    "##############################################3\n",
    "visualize_image(batch[0][j:j+1].reshape(96,96,3)[:,:,0],actual_y, predicted_y[0])"
   ]
  },
  {
   "cell_type": "markdown",
   "metadata": {
    "id": "Q3sMZnVZ3-dd",
    "papermill": {
     "duration": 1.116358,
     "end_time": "2021-01-07T12:55:29.505673",
     "exception": false,
     "start_time": "2021-01-07T12:55:28.389315",
     "status": "completed"
    },
    "tags": []
   },
   "source": [
    "**Its very impressive how close are the predicted corrdinates to the original ones**"
   ]
  },
  {
   "cell_type": "markdown",
   "metadata": {
    "id": "KOW_zMQ5PvoS",
    "papermill": {
     "duration": 0.84465,
     "end_time": "2021-01-07T12:55:31.261175",
     "exception": false,
     "start_time": "2021-01-07T12:55:30.416525",
     "status": "completed"
    },
    "tags": []
   },
   "source": [
    "#### **Test on missing data**"
   ]
  },
  {
   "cell_type": "code",
   "execution_count": 27,
   "metadata": {
    "execution": {
     "iopub.execute_input": "2021-01-07T12:55:33.075271Z",
     "iopub.status.busy": "2021-01-07T12:55:33.074385Z",
     "iopub.status.idle": "2021-01-07T12:55:33.077274Z",
     "shell.execute_reply": "2021-01-07T12:55:33.077748Z"
    },
    "id": "zKZ1t2qoPvoS",
    "outputId": "2c2688c2-cb6d-4ad7-dad1-9fabe60c1d13",
    "papermill": {
     "duration": 0.956275,
     "end_time": "2021-01-07T12:55:33.077867",
     "exception": false,
     "start_time": "2021-01-07T12:55:32.121592",
     "status": "completed"
    },
    "tags": []
   },
   "outputs": [
    {
     "data": {
      "text/plain": [
       "'right_eye_center'"
      ]
     },
     "execution_count": 27,
     "metadata": {},
     "output_type": "execute_result"
    }
   ],
   "source": [
    "feature_name"
   ]
  },
  {
   "cell_type": "code",
   "execution_count": 28,
   "metadata": {
    "execution": {
     "iopub.execute_input": "2021-01-07T12:55:34.832473Z",
     "iopub.status.busy": "2021-01-07T12:55:34.830636Z",
     "iopub.status.idle": "2021-01-07T12:55:34.833464Z",
     "shell.execute_reply": "2021-01-07T12:55:34.834233Z"
    },
    "id": "BlsfoMj3PvoT",
    "papermill": {
     "duration": 0.887575,
     "end_time": "2021-01-07T12:55:34.834398",
     "exception": false,
     "start_time": "2021-01-07T12:55:33.946823",
     "status": "completed"
    },
    "tags": []
   },
   "outputs": [],
   "source": [
    "rgb_channels= True\n",
    "normalize_image = True\n",
    "def pre_process_images(image):\n",
    "    image = np.vstack(image).reshape(-1, 96, 96, 1).astype(np.float32)\n",
    "    if rgb_channels:\n",
    "        image = np.repeat(image,3,-1)\n",
    "    if normalize_image == True:\n",
    "        image = image/255\n",
    "    return image"
   ]
  },
  {
   "cell_type": "code",
   "execution_count": 29,
   "metadata": {
    "execution": {
     "iopub.execute_input": "2021-01-07T12:55:36.601895Z",
     "iopub.status.busy": "2021-01-07T12:55:36.601160Z",
     "iopub.status.idle": "2021-01-07T12:55:36.605599Z",
     "shell.execute_reply": "2021-01-07T12:55:36.604984Z"
    },
    "id": "NsF-GdN6PvoU",
    "papermill": {
     "duration": 0.861075,
     "end_time": "2021-01-07T12:55:36.605713",
     "exception": false,
     "start_time": "2021-01-07T12:55:35.744638",
     "status": "completed"
    },
    "tags": []
   },
   "outputs": [],
   "source": [
    "missing_data = dic_missing_data[feature_name]"
   ]
  },
  {
   "cell_type": "code",
   "execution_count": 30,
   "metadata": {
    "execution": {
     "iopub.execute_input": "2021-01-07T12:55:38.310034Z",
     "iopub.status.busy": "2021-01-07T12:55:38.309179Z",
     "iopub.status.idle": "2021-01-07T12:55:38.313179Z",
     "shell.execute_reply": "2021-01-07T12:55:38.312609Z"
    },
    "id": "xgfXwWOMDj0N",
    "outputId": "c74688b4-7479-421a-9a07-3925a7096300",
    "papermill": {
     "duration": 0.850743,
     "end_time": "2021-01-07T12:55:38.313273",
     "exception": false,
     "start_time": "2021-01-07T12:55:37.462530",
     "status": "completed"
    },
    "tags": []
   },
   "outputs": [
    {
     "data": {
      "text/plain": [
       "13"
      ]
     },
     "execution_count": 30,
     "metadata": {},
     "output_type": "execute_result"
    }
   ],
   "source": [
    "len(missing_data)"
   ]
  },
  {
   "cell_type": "code",
   "execution_count": 31,
   "metadata": {
    "execution": {
     "iopub.execute_input": "2021-01-07T12:55:40.346643Z",
     "iopub.status.busy": "2021-01-07T12:55:40.345695Z",
     "iopub.status.idle": "2021-01-07T12:55:40.570170Z",
     "shell.execute_reply": "2021-01-07T12:55:40.569541Z"
    },
    "id": "7janB8HOPvoU",
    "outputId": "5698bbf5-06b1-44d6-99e4-3920e4ea689a",
    "papermill": {
     "duration": 1.165327,
     "end_time": "2021-01-07T12:55:40.570274",
     "exception": false,
     "start_time": "2021-01-07T12:55:39.404947",
     "status": "completed"
    },
    "tags": []
   },
   "outputs": [
    {
     "name": "stdout",
     "output_type": "stream",
     "text": [
      "[[0.3568318 0.4570499]]\n",
      "[[30.786348 39.366215]]\n"
     ]
    },
    {
     "data": {
      "image/png": "[encoded data removed]",
      "text/plain": [
       "<Figure size 432x288 with 1 Axes>"
      ]
     },
     "metadata": {
      "needs_background": "light"
     },
     "output_type": "display_data"
    }
   ],
   "source": [
    "# take a random image and test on it\n",
    "l = np.random.randint(0, len(missing_data)-1)\n",
    "image = missing_data.iloc[l][\"Image\"]\n",
    "image = pre_process_images(image)\n",
    "predicted_y = model.predict(image)\n",
    "print(predicted_y)\n",
    "# uncomment in case we have used the scaling\n",
    "predicted_y[:,:1] = scalers_dict[feature_name+\"_x\"].inverse_transform(predicted_y[:,:1])\n",
    "predicted_y[:,1:] = scalers_dict[feature_name+\"_y\"].inverse_transform(predicted_y[:,1:])\n",
    "print(predicted_y)\n",
    "visualize_image(image.reshape(96,96,3)[:,:,0],None, predicted_y[0])"
   ]
  },
  {
   "cell_type": "markdown",
   "metadata": {
    "id": "eCtvSBv2PvoV",
    "papermill": {
     "duration": 0.871239,
     "end_time": "2021-01-07T12:55:42.330951",
     "exception": false,
     "start_time": "2021-01-07T12:55:41.459712",
     "status": "completed"
    },
    "tags": []
   },
   "source": [
    "#### **Save model**"
   ]
  },
  {
   "cell_type": "code",
   "execution_count": 32,
   "metadata": {
    "execution": {
     "iopub.execute_input": "2021-01-07T12:55:44.102324Z",
     "iopub.status.busy": "2021-01-07T12:55:44.097328Z",
     "iopub.status.idle": "2021-01-07T12:55:44.471648Z",
     "shell.execute_reply": "2021-01-07T12:55:44.471028Z"
    },
    "id": "PHDvP_QL39lh",
    "papermill": {
     "duration": 1.26985,
     "end_time": "2021-01-07T12:55:44.471787",
     "exception": false,
     "start_time": "2021-01-07T12:55:43.201937",
     "status": "completed"
    },
    "tags": []
   },
   "outputs": [],
   "source": [
    "# save model and architecture to single file\n",
    "model.save(model_path)"
   ]
  },
  {
   "cell_type": "code",
   "execution_count": null,
   "metadata": {
    "id": "ERAMk1EHPvoX",
    "papermill": {
     "duration": 0.875788,
     "end_time": "2021-01-07T12:55:46.211835",
     "exception": false,
     "start_time": "2021-01-07T12:55:45.336047",
     "status": "completed"
    },
    "tags": []
   },
   "outputs": [],
   "source": []
  },
  {
   "cell_type": "code",
   "execution_count": null,
   "metadata": {
    "papermill": {
     "duration": 0.843161,
     "end_time": "2021-01-07T12:55:47.911056",
     "exception": false,
     "start_time": "2021-01-07T12:55:47.067895",
     "status": "completed"
    },
    "tags": []
   },
   "outputs": [],
   "source": []
  }
 ],
 "metadata": {
  "kernelspec": {
   "display_name": "Python 3",
   "language": "python",
   "name": "python3"
  },
  "language_info": {
   "codemirror_mode": {
    "name": "ipython",
    "version": 3
   },
   "file_extension": ".py",
   "mimetype": "text/x-python",
   "name": "python",
   "nbconvert_exporter": "python",
   "pygments_lexer": "ipython3",
   "version": "3.7.6"
  },
  "papermill": {
   "duration": 240.261571,
   "end_time": "2021-01-07T12:55:50.588127",
   "environment_variables": {},
   "exception": null,
   "input_path": "__notebook__.ipynb",
   "output_path": "__notebook__.ipynb",
   "parameters": {},
   "start_time": "2021-01-07T12:51:50.326556",
   "version": "2.1.0"
  }
 },
 "nbformat": 4,
 "nbformat_minor": 4
}
