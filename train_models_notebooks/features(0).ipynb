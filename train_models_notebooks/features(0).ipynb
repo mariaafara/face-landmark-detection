{
 "cells": [
  {
   "cell_type": "code",
   "execution_count": 1,
   "metadata": {
    "execution": {
     "iopub.execute_input": "2021-01-07T12:46:26.964443Z",
     "iopub.status.busy": "2021-01-07T12:46:26.963545Z",
     "iopub.status.idle": "2021-01-07T12:46:26.966581Z",
     "shell.execute_reply": "2021-01-07T12:46:26.966039Z"
    },
    "id": "mt9t-79OPvng",
    "papermill": {
     "duration": 0.037799,
     "end_time": "2021-01-07T12:46:26.966689",
     "exception": false,
     "start_time": "2021-01-07T12:46:26.928890",
     "status": "completed"
    },
    "tags": []
   },
   "outputs": [],
   "source": [
    "feature_index = 0"
   ]
  },
  {
   "cell_type": "code",
   "execution_count": 2,
   "metadata": {
    "execution": {
     "iopub.execute_input": "2021-01-07T12:46:27.028717Z",
     "iopub.status.busy": "2021-01-07T12:46:27.027737Z",
     "iopub.status.idle": "2021-01-07T12:46:27.030586Z",
     "shell.execute_reply": "2021-01-07T12:46:27.030105Z"
    },
    "id": "29LaKxCh-Em7",
    "papermill": {
     "duration": 0.034384,
     "end_time": "2021-01-07T12:46:27.030681",
     "exception": false,
     "start_time": "2021-01-07T12:46:26.996297",
     "status": "completed"
    },
    "tags": []
   },
   "outputs": [],
   "source": [
    "# import os\n",
    "# os.environ['KAGGLE_USERNAME'] = \"mariaafara\" # username from the json file\n",
    "# os.environ['KAGGLE_KEY'] = \"25755ae03c0b83042774e5e0d15b886e\" # key from the json file"
   ]
  },
  {
   "cell_type": "code",
   "execution_count": 3,
   "metadata": {
    "execution": {
     "iopub.execute_input": "2021-01-07T12:46:27.092198Z",
     "iopub.status.busy": "2021-01-07T12:46:27.091413Z",
     "iopub.status.idle": "2021-01-07T12:46:27.093803Z",
     "shell.execute_reply": "2021-01-07T12:46:27.094400Z"
    },
    "id": "-4Si4WO5-Em_",
    "papermill": {
     "duration": 0.034986,
     "end_time": "2021-01-07T12:46:27.094532",
     "exception": false,
     "start_time": "2021-01-07T12:46:27.059546",
     "status": "completed"
    },
    "tags": []
   },
   "outputs": [],
   "source": [
    "#Crearting a Client to host the Kaggle API\n",
    "# !pip install -q kaggle"
   ]
  },
  {
   "cell_type": "code",
   "execution_count": 4,
   "metadata": {
    "execution": {
     "iopub.execute_input": "2021-01-07T12:46:27.155429Z",
     "iopub.status.busy": "2021-01-07T12:46:27.154701Z",
     "iopub.status.idle": "2021-01-07T12:46:27.157641Z",
     "shell.execute_reply": "2021-01-07T12:46:27.157041Z"
    },
    "id": "6a28nEu3-EnB",
    "outputId": "d4a07419-6280-4835-e0e0-1a8d9364e4f2",
    "papermill": {
     "duration": 0.034666,
     "end_time": "2021-01-07T12:46:27.157734",
     "exception": false,
     "start_time": "2021-01-07T12:46:27.123068",
     "status": "completed"
    },
    "tags": []
   },
   "outputs": [],
   "source": [
    "# !kaggle datasets download mariaafara/Facial-Landmarks"
   ]
  },
  {
   "cell_type": "code",
   "execution_count": 5,
   "metadata": {
    "execution": {
     "iopub.execute_input": "2021-01-07T12:46:27.219429Z",
     "iopub.status.busy": "2021-01-07T12:46:27.218754Z",
     "iopub.status.idle": "2021-01-07T12:46:27.221816Z",
     "shell.execute_reply": "2021-01-07T12:46:27.221271Z"
    },
    "id": "EEkMMYcU-EnE",
    "outputId": "346a9c4b-fa0c-4acc-90fd-4a486a2c6bee",
    "papermill": {
     "duration": 0.034884,
     "end_time": "2021-01-07T12:46:27.221905",
     "exception": false,
     "start_time": "2021-01-07T12:46:27.187021",
     "status": "completed"
    },
    "tags": []
   },
   "outputs": [],
   "source": [
    "# !unzip Facial-Landmarks.zip # -d facial-keypoints-detection"
   ]
  },
  {
   "cell_type": "code",
   "execution_count": 6,
   "metadata": {
    "execution": {
     "iopub.execute_input": "2021-01-07T12:46:27.287716Z",
     "iopub.status.busy": "2021-01-07T12:46:27.286997Z",
     "iopub.status.idle": "2021-01-07T12:46:33.017886Z",
     "shell.execute_reply": "2021-01-07T12:46:33.015254Z"
    },
    "id": "3f3roaNK6hfZ",
    "papermill": {
     "duration": 5.766822,
     "end_time": "2021-01-07T12:46:33.018040",
     "exception": false,
     "start_time": "2021-01-07T12:46:27.251218",
     "status": "completed"
    },
    "tags": []
   },
   "outputs": [],
   "source": [
    "import numpy as np\n",
    "import pandas as pd\n",
    "import math\n",
    "import random\n",
    "import seaborn as sns\n",
    "import matplotlib.pyplot as plt\n",
    "import tensorflow as tf\n",
    "import tensorflow.keras as keras\n",
    "from tensorflow.keras.models import Sequential\n",
    "from tensorflow.keras.layers import Dense, Dropout, Flatten, Input, Conv2D, MaxPooling2D, GlobalAveragePooling2D, BatchNormalization\n",
    "from sklearn.model_selection import train_test_split\n",
    "from sklearn import preprocessing\n",
    "from sklearn.preprocessing import MinMaxScaler\n",
    "from tensorflow.keras import optimizers\n",
    "from IPython.display import clear_output\n",
    "pd.options.mode.chained_assignment = None  # default='warn'\n"
   ]
  },
  {
   "cell_type": "code",
   "execution_count": 7,
   "metadata": {
    "execution": {
     "iopub.execute_input": "2021-01-07T12:46:33.198637Z",
     "iopub.status.busy": "2021-01-07T12:46:33.197840Z",
     "iopub.status.idle": "2021-01-07T12:46:33.205619Z",
     "shell.execute_reply": "2021-01-07T12:46:33.202636Z"
    },
    "id": "9_E22cct-EnI",
    "papermill": {
     "duration": 0.097952,
     "end_time": "2021-01-07T12:46:33.205756",
     "exception": false,
     "start_time": "2021-01-07T12:46:33.107804",
     "status": "completed"
    },
    "tags": []
   },
   "outputs": [],
   "source": [
    "train_data_path = \"/kaggle/input/facial-landmarks/dic_train_data.pkl\"\n",
    "missing_data_path = \"/kaggle/input/facial-landmarks/dic_missing_data.pkl\"\n",
    "# train_data_path = \"data/dic_train_data.pkl\"\n",
    "# missing_data_path = \"data/dic_missing_data.pkl\""
   ]
  },
  {
   "cell_type": "code",
   "execution_count": 8,
   "metadata": {
    "execution": {
     "iopub.execute_input": "2021-01-07T12:46:33.356459Z",
     "iopub.status.busy": "2021-01-07T12:46:33.355648Z",
     "iopub.status.idle": "2021-01-07T12:46:40.940317Z",
     "shell.execute_reply": "2021-01-07T12:46:40.939195Z"
    },
    "id": "9iJTuxj_kNfQ",
    "papermill": {
     "duration": 7.64768,
     "end_time": "2021-01-07T12:46:40.940444",
     "exception": false,
     "start_time": "2021-01-07T12:46:33.292764",
     "status": "completed"
    },
    "tags": []
   },
   "outputs": [],
   "source": [
    "import pickle as pkl\n",
    "\n",
    "dic_train_data = pkl.load(open(train_data_path,\"rb\"))\n",
    "dic_missing_data = pkl.load(open(missing_data_path,\"rb\"))"
   ]
  },
  {
   "cell_type": "code",
   "execution_count": 9,
   "metadata": {
    "execution": {
     "iopub.execute_input": "2021-01-07T12:46:41.009708Z",
     "iopub.status.busy": "2021-01-07T12:46:41.008885Z",
     "iopub.status.idle": "2021-01-07T12:46:41.012935Z",
     "shell.execute_reply": "2021-01-07T12:46:41.013403Z"
    },
    "id": "6TdjVdwEPvny",
    "outputId": "c49a7d54-3444-4bef-f242-751e108f21f3",
    "papermill": {
     "duration": 0.041673,
     "end_time": "2021-01-07T12:46:41.013521",
     "exception": false,
     "start_time": "2021-01-07T12:46:40.971848",
     "status": "completed"
    },
    "tags": []
   },
   "outputs": [
    {
     "data": {
      "text/plain": [
       "['left_eye_center',\n",
       " 'right_eye_center',\n",
       " 'left_eye_inner_corner',\n",
       " 'left_eye_outer_corner',\n",
       " 'right_eye_inner_corner',\n",
       " 'right_eye_outer_corner',\n",
       " 'left_eyebrow_inner_end',\n",
       " 'left_eyebrow_outer_end',\n",
       " 'right_eyebrow_inner_end',\n",
       " 'right_eyebrow_outer_end',\n",
       " 'mouth_left_corner',\n",
       " 'mouth_right_corner',\n",
       " 'mouth_center_top_lip',\n",
       " 'mouth_center_bottom_lip']"
      ]
     },
     "execution_count": 9,
     "metadata": {},
     "output_type": "execute_result"
    }
   ],
   "source": [
    "features = list(dic_train_data.keys())\n",
    "features"
   ]
  },
  {
   "cell_type": "code",
   "execution_count": 10,
   "metadata": {
    "execution": {
     "iopub.execute_input": "2021-01-07T12:46:41.113351Z",
     "iopub.status.busy": "2021-01-07T12:46:41.112636Z",
     "iopub.status.idle": "2021-01-07T12:46:41.116112Z",
     "shell.execute_reply": "2021-01-07T12:46:41.116600Z"
    },
    "id": "ydLdeD8YPvn1",
    "outputId": "f34d38aa-b9d9-4a29-f689-35bd6a3aa98e",
    "papermill": {
     "duration": 0.072764,
     "end_time": "2021-01-07T12:46:41.116713",
     "exception": false,
     "start_time": "2021-01-07T12:46:41.043949",
     "status": "completed"
    },
    "tags": []
   },
   "outputs": [
    {
     "data": {
      "text/plain": [
       "'left_eye_center'"
      ]
     },
     "execution_count": 10,
     "metadata": {},
     "output_type": "execute_result"
    }
   ],
   "source": [
    "feature_name = features[feature_index]\n",
    "feature_name"
   ]
  },
  {
   "cell_type": "code",
   "execution_count": 11,
   "metadata": {
    "execution": {
     "iopub.execute_input": "2021-01-07T12:46:41.182249Z",
     "iopub.status.busy": "2021-01-07T12:46:41.181536Z",
     "iopub.status.idle": "2021-01-07T12:46:41.185205Z",
     "shell.execute_reply": "2021-01-07T12:46:41.184718Z"
    },
    "id": "APi2VVkKQFOm",
    "papermill": {
     "duration": 0.038065,
     "end_time": "2021-01-07T12:46:41.185301",
     "exception": false,
     "start_time": "2021-01-07T12:46:41.147236",
     "status": "completed"
    },
    "tags": []
   },
   "outputs": [],
   "source": [
    "scalers_path = feature_name+\"_scalers_dict.pkl\"\n",
    "model_path = feature_name+\".h5\"\n",
    "\n",
    "# scalers_path = \"data/\"+feature_name+\"_scalers_dict.pkl\"\n",
    "# model_path = \"models/\"+feature_name+\".h5\""
   ]
  },
  {
   "cell_type": "code",
   "execution_count": 12,
   "metadata": {
    "execution": {
     "iopub.execute_input": "2021-01-07T12:46:41.279153Z",
     "iopub.status.busy": "2021-01-07T12:46:41.268915Z",
     "iopub.status.idle": "2021-01-07T12:46:42.243324Z",
     "shell.execute_reply": "2021-01-07T12:46:42.243817Z"
    },
    "id": "UHAb9cCEPvn3",
    "outputId": "cdb32799-3d8e-4470-e682-c8b1a792037b",
    "papermill": {
     "duration": 1.028129,
     "end_time": "2021-01-07T12:46:42.243954",
     "exception": false,
     "start_time": "2021-01-07T12:46:41.215825",
     "status": "completed"
    },
    "tags": []
   },
   "outputs": [
    {
     "data": {
      "text/html": [
       "<div>\n",
       "<style scoped>\n",
       "    .dataframe tbody tr th:only-of-type {\n",
       "        vertical-align: middle;\n",
       "    }\n",
       "\n",
       "    .dataframe tbody tr th {\n",
       "        vertical-align: top;\n",
       "    }\n",
       "\n",
       "    .dataframe thead th {\n",
       "        text-align: right;\n",
       "    }\n",
       "</style>\n",
       "<table border=\"1\" class=\"dataframe\">\n",
       "  <thead>\n",
       "    <tr style=\"text-align: right;\">\n",
       "      <th></th>\n",
       "      <th>left_eye_center_x</th>\n",
       "      <th>left_eye_center_y</th>\n",
       "      <th>Image</th>\n",
       "    </tr>\n",
       "  </thead>\n",
       "  <tbody>\n",
       "    <tr>\n",
       "      <th>0</th>\n",
       "      <td>66.033564</td>\n",
       "      <td>39.002274</td>\n",
       "      <td>[[238, 236, 237, 238, 240, 240, 239, 241, 241,...</td>\n",
       "    </tr>\n",
       "    <tr>\n",
       "      <th>1</th>\n",
       "      <td>64.332936</td>\n",
       "      <td>34.970077</td>\n",
       "      <td>[[219, 215, 204, 196, 204, 211, 212, 200, 180,...</td>\n",
       "    </tr>\n",
       "    <tr>\n",
       "      <th>2</th>\n",
       "      <td>65.057053</td>\n",
       "      <td>34.909642</td>\n",
       "      <td>[[144, 142, 159, 180, 188, 188, 184, 180, 167,...</td>\n",
       "    </tr>\n",
       "    <tr>\n",
       "      <th>3</th>\n",
       "      <td>65.225739</td>\n",
       "      <td>37.261774</td>\n",
       "      <td>[[193, 192, 193, 194, 194, 194, 193, 192, 168,...</td>\n",
       "    </tr>\n",
       "    <tr>\n",
       "      <th>4</th>\n",
       "      <td>66.725301</td>\n",
       "      <td>39.621261</td>\n",
       "      <td>[[147, 148, 160, 196, 215, 214, 216, 217, 219,...</td>\n",
       "    </tr>\n",
       "  </tbody>\n",
       "</table>\n",
       "</div>"
      ],
      "text/plain": [
       "   left_eye_center_x  left_eye_center_y  \\\n",
       "0          66.033564          39.002274   \n",
       "1          64.332936          34.970077   \n",
       "2          65.057053          34.909642   \n",
       "3          65.225739          37.261774   \n",
       "4          66.725301          39.621261   \n",
       "\n",
       "                                               Image  \n",
       "0  [[238, 236, 237, 238, 240, 240, 239, 241, 241,...  \n",
       "1  [[219, 215, 204, 196, 204, 211, 212, 200, 180,...  \n",
       "2  [[144, 142, 159, 180, 188, 188, 184, 180, 167,...  \n",
       "3  [[193, 192, 193, 194, 194, 194, 193, 192, 168,...  \n",
       "4  [[147, 148, 160, 196, 215, 214, 216, 217, 219,...  "
      ]
     },
     "execution_count": 12,
     "metadata": {},
     "output_type": "execute_result"
    }
   ],
   "source": [
    "dic_train_data[feature_name].head()"
   ]
  },
  {
   "cell_type": "markdown",
   "metadata": {
    "id": "Ys-qr2X5WKAR",
    "papermill": {
     "duration": 0.031022,
     "end_time": "2021-01-07T12:46:42.306551",
     "exception": false,
     "start_time": "2021-01-07T12:46:42.275529",
     "status": "completed"
    },
    "tags": []
   },
   "source": [
    "#### **Create custom Data Generator**\n",
    "\n",
    "**We will build a data generator that will load mini-batches and feed to the model dynamically**"
   ]
  },
  {
   "cell_type": "code",
   "execution_count": 13,
   "metadata": {
    "execution": {
     "iopub.execute_input": "2021-01-07T12:46:42.408066Z",
     "iopub.status.busy": "2021-01-07T12:46:42.406243Z",
     "iopub.status.idle": "2021-01-07T12:46:42.408797Z",
     "shell.execute_reply": "2021-01-07T12:46:42.409268Z"
    },
    "id": "i8PX_Elb-VQz",
    "papermill": {
     "duration": 0.069839,
     "end_time": "2021-01-07T12:46:42.409384",
     "exception": false,
     "start_time": "2021-01-07T12:46:42.339545",
     "status": "completed"
    },
    "tags": []
   },
   "outputs": [],
   "source": [
    "class DataGenerator(tf.keras.utils.Sequence):\n",
    "    def __init__(self, df, batch_size=32, rgb_channels=True, shuffle=True, augment=True, normalize_image=True, normalize_coordinates=False, scalers=None):\n",
    "        self.df = df\n",
    "        self.batch_size = batch_size\n",
    "        self.size = df.shape[0]\n",
    "        self.shuffle = shuffle\n",
    "        self.augment = augment\n",
    "        # Keras pre-trained models have trained on color images and if we want to use grayscale images we can still use these pre-trained models by repeating the grayscale image over three channels\n",
    "        self.rgb_channels = rgb_channels\n",
    "        self.normalize_image = normalize_image\n",
    "        self.normalize_coordinates = normalize_coordinates\n",
    "        self.scalers = scalers\n",
    "        self.feature_columns = df.columns.tolist()[:-1]\n",
    "        #  To keep track on which pairs of landmarks to be swapped, we introduce a dictionary recording the original and new landmark's index\n",
    "        self.left_right_dic = {'right_eye_center_x' : 'left_eye_center_x' ,\n",
    "                'right_eye_center_y' : 'left_eye_center_y' ,\n",
    "                'right_eye_inner_corner_x' : 'left_eye_inner_corner_x' ,\n",
    "                'right_eye_inner_corner_y' : 'left_eye_inner_corner_y' ,\n",
    "                'right_eye_outer_corner_x' : 'left_eye_outer_corner_x' ,\n",
    "                'right_eye_outer_corner_y' : 'left_eye_outer_corner_y' ,\n",
    "                'right_eyebrow_inner_end_x' : 'left_eyebrow_inner_end_x' ,\n",
    "                'right_eyebrow_inner_end_y' : 'left_eyebrow_inner_end_y' ,\n",
    "                'right_eyebrow_outer_end_x' : 'left_eyebrow_outer_end_x' ,\n",
    "                'right_eyebrow_outer_end_y' : 'left_eyebrow_outer_end_y' ,\n",
    "                'mouth_right_corner_x' : 'mouth_left_corner_x' ,\n",
    "                'mouth_right_corner_y' : 'mouth_left_corner_y' }\n",
    "        self.on_epoch_end()\n",
    "\n",
    "    def __len__(self):\n",
    "        'Denotes the number of batches per epoch'\n",
    "        return self.size // self.batch_size\n",
    "\n",
    "    def on_epoch_end(self):\n",
    "        'Updates indexes after each epoch'\n",
    "        self.indexes = np.arange(self.size)\n",
    "        if self.shuffle:\n",
    "            np.random.shuffle(self.indexes)\n",
    "\n",
    "    def __getitem__(self, index):\n",
    "        # selects indices of data for next batch`\n",
    "        indexes = self.indexes[index * self.batch_size : (index + 1) * self.batch_size]\n",
    "        'Generate one batch of data'\n",
    "        batched_df = self.df.iloc[indexes] #.sample(frac=1).reset_index(drop=True)\n",
    "\n",
    "        if self.augment == True:\n",
    "            df_batch = self.augmentor(batched_df)\n",
    "        else:\n",
    "            df_batch = batched_df\n",
    "\n",
    "\n",
    "        batched_images = np.vstack(df_batch[\"Image\"].values).reshape(-1, 96, 96, 1).astype(np.float32)\n",
    "        \n",
    "        if self.rgb_channels:\n",
    "            batched_images = np.repeat(batched_images,3,-1)\n",
    "\n",
    "        batched_feature_corrdinates = df_batch.iloc[:,:-1]\n",
    "        \n",
    "        if self.normalize_coordinates:\n",
    "            for col in self.feature_columns:\n",
    "                scaler = self.scalers[col]\n",
    "                batched_feature_corrdinates[col] = scaler.transform(batched_feature_corrdinates[col].to_numpy().reshape(-1, 1)).reshape(-1)\n",
    "\n",
    "        batched_feature_corrdinates = batched_feature_corrdinates.values.astype(np.float32) #feature coordinates        \n",
    "\n",
    "        if self.normalize_image == True:\n",
    "            batched_images = batched_images/255\n",
    "\n",
    "        return batched_images, batched_feature_corrdinates\n",
    "\n",
    "    def augmentor(self, df):\n",
    "\n",
    "        def flip_horizontally(row):\n",
    "            'Method that flips the image horizontally and swaps the features' \n",
    "            row[\"Image\"] = np.flip(row[\"Image\"], axis = 1)\n",
    "            # y coordinates values will stay the same while the x coordinates will have to be changed\n",
    "            # subtract our initial x-coordinate values from width of the image(96)\n",
    "            for i in range(len(self.feature_columns)):#+1\n",
    "                if i%2 == 0: # because there is always x coordinate then y corrdinate\n",
    "                    row[self.feature_columns[i]] = 96. - row[self.feature_columns[i]]\n",
    "            # swap\n",
    "            rights = [a for a in self.feature_columns if \"right\" in a.split(\"_\")]\n",
    "            for col_r in rights:\n",
    "                col_l = self.left_right_dic[col_r]\n",
    "                temp = row[col_l] \n",
    "                row[col_l] = row[col_r]\n",
    "                row[col_r] = temp\n",
    "            return row\n",
    "\n",
    "        def increase_brightness(image):\n",
    "            'Method that randomly increase images brightness'      \n",
    "            # Multiply pixel values by random values between 1 and 1.5 to increase the brightness of the image\n",
    "            # Clip the value between 0 and 255\n",
    "            image = np.clip(random.uniform(1, 1.5) * image, 0.0, 255.0)\n",
    "            return image\n",
    "\n",
    "        def decrease_brightness(image):\n",
    "            'Method that randomly decrease images brightness'\n",
    "            # Multiply pixel values by random values between 0 and 0.1 to decrease the brightness of the image\n",
    "            # Clip the value between 0 and 255\n",
    "            image = np.clip(random.uniform(0, 0.1) * image, 0.0, 255.0)\n",
    "            return image\n",
    "\n",
    "        def augment(row):\n",
    "        # if we have more than one feature allow flipping\n",
    "            if len(self.feature_columns)>2:\n",
    "                if row[\"augment_flip\"]==1:\n",
    "                    row =  flip_horizontally(row)\n",
    "            if row[\"augment_inc_b\"]:\n",
    "                row[\"Image\"] = increase_brightness(row[\"Image\"])\n",
    "            if row[\"augment_dec_b\"]:\n",
    "                row[\"Image\"] = decrease_brightness(row[\"Image\"])\n",
    "            return row\n",
    "\n",
    "      # generate random boolean for augmentation types \n",
    "        df[\"augment_flip\"] = [random.getrandbits(1) for i in range(len(df))]\n",
    "        df[\"augment_inc_b\"] = [random.getrandbits(1) for i in range(len(df))]\n",
    "        df[\"augment_dec_b\"] = [random.getrandbits(1) for i in range(len(df))]\n",
    "        # df = df.apply(lambda row : augment(row), axis=1)\n",
    "        df = df.apply(augment, axis=1)\n",
    "        df.drop(['augment_flip', 'augment_inc_b', 'augment_dec_b'], axis=1, inplace=True)\n",
    "        return df\n"
   ]
  },
  {
   "cell_type": "code",
   "execution_count": 14,
   "metadata": {
    "execution": {
     "iopub.execute_input": "2021-01-07T12:46:42.485123Z",
     "iopub.status.busy": "2021-01-07T12:46:42.484402Z",
     "iopub.status.idle": "2021-01-07T12:46:42.488289Z",
     "shell.execute_reply": "2021-01-07T12:46:42.487700Z"
    },
    "id": "68VI4DWX-EnV",
    "papermill": {
     "duration": 0.045007,
     "end_time": "2021-01-07T12:46:42.488380",
     "exception": false,
     "start_time": "2021-01-07T12:46:42.443373",
     "status": "completed"
    },
    "tags": []
   },
   "outputs": [],
   "source": [
    "def visualize_image(x, y=None, y_predicted=None):\n",
    "  # x-coordinates are in even columns like 0,2,4,.. and y-coordinates are in odd columns like 1,3,5,..\n",
    "    plt.figure()\n",
    "    plt.imshow(x, cmap='gray')\n",
    "    if y is not None:\n",
    "        f = y.shape[0]\n",
    "        for j in range(0,f,2):\n",
    "            plt.plot(y[j], y[j+1], 'X', color='blue', label='actual')\n",
    "    if y_predicted is not None:\n",
    "        f = y_predicted.shape[0]\n",
    "        for j in range(0,f,2):\n",
    "            plt.plot(y_predicted[j], y_predicted[j+1], 'X', color='red', label='predicted')\n",
    "    plt.legend()"
   ]
  },
  {
   "cell_type": "markdown",
   "metadata": {
    "id": "eX1dSeiRCUUE",
    "papermill": {
     "duration": 0.031491,
     "end_time": "2021-01-07T12:46:42.551860",
     "exception": false,
     "start_time": "2021-01-07T12:46:42.520369",
     "status": "completed"
    },
    "tags": []
   },
   "source": [
    "Lets try the data generator and visuilize some images"
   ]
  },
  {
   "cell_type": "markdown",
   "metadata": {
    "id": "cdehN9mvIsan",
    "papermill": {
     "duration": 0.031697,
     "end_time": "2021-01-07T12:46:42.615795",
     "exception": false,
     "start_time": "2021-01-07T12:46:42.584098",
     "status": "completed"
    },
    "tags": []
   },
   "source": [
    "### Part 1.3  Building a Prediction model for a feature"
   ]
  },
  {
   "cell_type": "markdown",
   "metadata": {
    "id": "ph_UEDMwcEvX",
    "papermill": {
     "duration": 0.03169,
     "end_time": "2021-01-07T12:46:42.679380",
     "exception": false,
     "start_time": "2021-01-07T12:46:42.647690",
     "status": "completed"
    },
    "tags": []
   },
   "source": [
    "#### **Prepare data generators to train the model**"
   ]
  },
  {
   "cell_type": "markdown",
   "metadata": {
    "id": "ACe1Z0-GvdBs",
    "papermill": {
     "duration": 0.031475,
     "end_time": "2021-01-07T12:46:42.742491",
     "exception": false,
     "start_time": "2021-01-07T12:46:42.711016",
     "status": "completed"
    },
    "tags": []
   },
   "source": [
    "##### **Split the data into train and test**"
   ]
  },
  {
   "cell_type": "code",
   "execution_count": 15,
   "metadata": {
    "execution": {
     "iopub.execute_input": "2021-01-07T12:46:42.815824Z",
     "iopub.status.busy": "2021-01-07T12:46:42.811536Z",
     "iopub.status.idle": "2021-01-07T12:46:42.822712Z",
     "shell.execute_reply": "2021-01-07T12:46:42.822072Z"
    },
    "id": "Wz9DPZKppGXK",
    "outputId": "316ac4e0-0178-4692-e984-204c6ff49f72",
    "papermill": {
     "duration": 0.048408,
     "end_time": "2021-01-07T12:46:42.822837",
     "exception": false,
     "start_time": "2021-01-07T12:46:42.774429",
     "status": "completed"
    },
    "tags": []
   },
   "outputs": [
    {
     "name": "stdout",
     "output_type": "stream",
     "text": [
      "(7039, 3) (5631, 3) (1408, 3)\n"
     ]
    }
   ],
   "source": [
    "df = dic_train_data[feature_name]\n",
    "# Split the data into training and testing data\n",
    "df_train, df_test = train_test_split(df, test_size = 0.2, random_state=None)\n",
    "print(df.shape, df_train.shape, df_test.shape)"
   ]
  },
  {
   "cell_type": "code",
   "execution_count": 16,
   "metadata": {
    "execution": {
     "iopub.execute_input": "2021-01-07T12:46:42.904469Z",
     "iopub.status.busy": "2021-01-07T12:46:42.903610Z",
     "iopub.status.idle": "2021-01-07T12:46:44.196416Z",
     "shell.execute_reply": "2021-01-07T12:46:44.197595Z"
    },
    "id": "iJ7K_1lndPKu",
    "outputId": "abda56ba-925c-43d9-ac1c-512dcbb269f6",
    "papermill": {
     "duration": 1.342534,
     "end_time": "2021-01-07T12:46:44.197779",
     "exception": false,
     "start_time": "2021-01-07T12:46:42.855245",
     "status": "completed"
    },
    "tags": []
   },
   "outputs": [
    {
     "data": {
      "text/html": [
       "<div>\n",
       "<style scoped>\n",
       "    .dataframe tbody tr th:only-of-type {\n",
       "        vertical-align: middle;\n",
       "    }\n",
       "\n",
       "    .dataframe tbody tr th {\n",
       "        vertical-align: top;\n",
       "    }\n",
       "\n",
       "    .dataframe thead th {\n",
       "        text-align: right;\n",
       "    }\n",
       "</style>\n",
       "<table border=\"1\" class=\"dataframe\">\n",
       "  <thead>\n",
       "    <tr style=\"text-align: right;\">\n",
       "      <th></th>\n",
       "      <th>left_eye_center_x</th>\n",
       "      <th>left_eye_center_y</th>\n",
       "      <th>Image</th>\n",
       "    </tr>\n",
       "  </thead>\n",
       "  <tbody>\n",
       "    <tr>\n",
       "      <th>5551</th>\n",
       "      <td>69.129303</td>\n",
       "      <td>41.037823</td>\n",
       "      <td>[[3, 3, 3, 2, 2, 1, 1, 1, 1, 1, 1, 5, 6, 4, 4,...</td>\n",
       "    </tr>\n",
       "    <tr>\n",
       "      <th>2766</th>\n",
       "      <td>68.174512</td>\n",
       "      <td>42.320144</td>\n",
       "      <td>[[23, 23, 24, 24, 24, 24, 24, 24, 25, 26, 28, ...</td>\n",
       "    </tr>\n",
       "    <tr>\n",
       "      <th>2227</th>\n",
       "      <td>67.539731</td>\n",
       "      <td>30.974243</td>\n",
       "      <td>[[54, 55, 55, 55, 55, 54, 56, 54, 53, 52, 52, ...</td>\n",
       "    </tr>\n",
       "    <tr>\n",
       "      <th>5210</th>\n",
       "      <td>68.157630</td>\n",
       "      <td>33.351444</td>\n",
       "      <td>[[108, 109, 109, 109, 107, 107, 109, 109, 108,...</td>\n",
       "    </tr>\n",
       "    <tr>\n",
       "      <th>4545</th>\n",
       "      <td>67.783973</td>\n",
       "      <td>37.910533</td>\n",
       "      <td>[[113, 112, 115, 119, 116, 106, 100, 97, 100, ...</td>\n",
       "    </tr>\n",
       "  </tbody>\n",
       "</table>\n",
       "</div>"
      ],
      "text/plain": [
       "      left_eye_center_x  left_eye_center_y  \\\n",
       "5551          69.129303          41.037823   \n",
       "2766          68.174512          42.320144   \n",
       "2227          67.539731          30.974243   \n",
       "5210          68.157630          33.351444   \n",
       "4545          67.783973          37.910533   \n",
       "\n",
       "                                                  Image  \n",
       "5551  [[3, 3, 3, 2, 2, 1, 1, 1, 1, 1, 1, 5, 6, 4, 4,...  \n",
       "2766  [[23, 23, 24, 24, 24, 24, 24, 24, 25, 26, 28, ...  \n",
       "2227  [[54, 55, 55, 55, 55, 54, 56, 54, 53, 52, 52, ...  \n",
       "5210  [[108, 109, 109, 109, 107, 107, 109, 109, 108,...  \n",
       "4545  [[113, 112, 115, 119, 116, 106, 100, 97, 100, ...  "
      ]
     },
     "execution_count": 16,
     "metadata": {},
     "output_type": "execute_result"
    }
   ],
   "source": [
    "df_train.head()"
   ]
  },
  {
   "cell_type": "markdown",
   "metadata": {
    "id": "Zo9gt1mXu2fd",
    "papermill": {
     "duration": 0.033362,
     "end_time": "2021-01-07T12:46:44.273588",
     "exception": false,
     "start_time": "2021-01-07T12:46:44.240226",
     "status": "completed"
    },
    "tags": []
   },
   "source": [
    "##### **Build scalers for normalizing feature data**"
   ]
  },
  {
   "cell_type": "code",
   "execution_count": 17,
   "metadata": {
    "execution": {
     "iopub.execute_input": "2021-01-07T12:46:44.368632Z",
     "iopub.status.busy": "2021-01-07T12:46:44.367892Z",
     "iopub.status.idle": "2021-01-07T12:46:44.371526Z",
     "shell.execute_reply": "2021-01-07T12:46:44.372842Z"
    },
    "id": "9t4-hf0gIeSw",
    "papermill": {
     "duration": 0.058999,
     "end_time": "2021-01-07T12:46:44.373003",
     "exception": false,
     "start_time": "2021-01-07T12:46:44.314004",
     "status": "completed"
    },
    "tags": []
   },
   "outputs": [],
   "source": [
    "scalers_dict = dict()\n",
    "for col in df.columns.tolist()[:-1]:\n",
    "    scaler = MinMaxScaler()\n",
    "    scaler.fit(df[col].to_numpy().reshape(-1, 1))\n",
    "    scalers_dict[col] = scaler\n",
    "\n",
    "\n",
    "\n",
    "pkl.dump(scalers_dict, open(scalers_path,\"wb\"))\n"
   ]
  },
  {
   "cell_type": "markdown",
   "metadata": {
    "id": "WZNeHGhxvnSH",
    "papermill": {
     "duration": 0.046897,
     "end_time": "2021-01-07T12:46:44.464168",
     "exception": false,
     "start_time": "2021-01-07T12:46:44.417271",
     "status": "completed"
    },
    "tags": []
   },
   "source": [
    "##### **Build train and validation data generators**"
   ]
  },
  {
   "cell_type": "code",
   "execution_count": 18,
   "metadata": {
    "execution": {
     "iopub.execute_input": "2021-01-07T12:46:44.565937Z",
     "iopub.status.busy": "2021-01-07T12:46:44.565001Z",
     "iopub.status.idle": "2021-01-07T12:46:44.568874Z",
     "shell.execute_reply": "2021-01-07T12:46:44.570215Z"
    },
    "id": "HERnPWEBc83D",
    "papermill": {
     "duration": 0.062093,
     "end_time": "2021-01-07T12:46:44.570367",
     "exception": false,
     "start_time": "2021-01-07T12:46:44.508274",
     "status": "completed"
    },
    "tags": []
   },
   "outputs": [],
   "source": [
    " \n",
    "train_generator = DataGenerator(df_train, batch_size=32, normalize_image=True, normalize_coordinates=True, scalers=scalers_dict)\n",
    "val_generator =  DataGenerator(df_test, batch_size=32,  augment=False, normalize_image=True,  normalize_coordinates=True,  scalers=train_generator.scalers)"
   ]
  },
  {
   "cell_type": "markdown",
   "metadata": {
    "id": "Ctn-Hf0Nc5p_",
    "papermill": {
     "duration": 0.032888,
     "end_time": "2021-01-07T12:46:44.653387",
     "exception": false,
     "start_time": "2021-01-07T12:46:44.620499",
     "status": "completed"
    },
    "tags": []
   },
   "source": [
    "#### **Build a Prediction model**"
   ]
  },
  {
   "cell_type": "code",
   "execution_count": 19,
   "metadata": {
    "execution": {
     "iopub.execute_input": "2021-01-07T12:46:44.740079Z",
     "iopub.status.busy": "2021-01-07T12:46:44.738280Z",
     "iopub.status.idle": "2021-01-07T12:46:44.740872Z",
     "shell.execute_reply": "2021-01-07T12:46:44.741352Z"
    },
    "id": "WHg8_6ZgPvoJ",
    "papermill": {
     "duration": 0.05454,
     "end_time": "2021-01-07T12:46:44.741467",
     "exception": false,
     "start_time": "2021-01-07T12:46:44.686927",
     "status": "completed"
    },
    "tags": []
   },
   "outputs": [],
   "source": [
    "from tensorflow.keras.applications import EfficientNetB0, VGG16\n",
    "\n",
    "def create_efficientNet(nbr_features):\n",
    "    inputs = tf.keras.Input(shape=(96, 96, 3))  \n",
    "    # This option include_top excludes the final Dense layer.\n",
    "    # This allows us to replace the top layer with custom layers which allows the use of  EfficientNet as a feature extractor in a transfer learning workflow\n",
    "    model = EfficientNetB0(include_top=False, input_tensor=inputs, weights=\"imagenet\")#, drop_connect_rate=0.1)\n",
    "    # Freeze the pretrained weights\n",
    "    model.trainable = False\n",
    "\n",
    "    # Rebuild top\n",
    "    x = GlobalAveragePooling2D()(model.output)    \n",
    "    x = BatchNormalization()(x)\n",
    "    x = Dropout(0.4)(x)\n",
    "    outputs = Dense(nbr_features,activation='relu')(x)\n",
    "\n",
    "    # Compile\n",
    "    model = keras.Model(inputs, outputs)\n",
    "    return model\n",
    "\n",
    "def create_vgg16(nbr_features):\n",
    "\n",
    "    #Get back the convolutional part of a VGG network trained on ImageNet\n",
    "    model = VGG16(weights='imagenet', include_top=False)\n",
    "    model.trainable = False\n",
    "    #Create your own input format (here 3x200x200)\n",
    "    inputs = Input(shape=(96,96,3))\n",
    "\n",
    "    #Use the generated model \n",
    "    output_vgg16 = model(inputs)\n",
    "\n",
    "    #Add the fully-connected layers \n",
    "    x = Flatten()(output_vgg16)\n",
    "    x = Dense(64, activation='relu')(x)\n",
    "    # x = Dense(32, activation='relu')(x)\n",
    "    outputs = Dense(nbr_features, activation='relu')(x)\n",
    "\n",
    "    #Create your own model \n",
    "    model = Model(inputs=inputs, outputs=outputs)\n",
    "    return model\n",
    "\n",
    "\n",
    "def create_simple_model(nbr_features):\n",
    "  # vanillia CNN model\n",
    "    model = Sequential()\n",
    "    model.add(Conv2D(16, kernel_size=(5, 5), activation='relu', input_shape=(96, 96 , 1)))\n",
    "    model.add(MaxPooling2D(pool_size=(2, 2), strides=2))\n",
    "    model.add(Conv2D(48, (3, 3), activation='relu'))\n",
    "    model.add(MaxPooling2D(pool_size=(2, 2), strides=2))\n",
    "    model.add(Conv2D(64, (3, 3), activation='relu'))\n",
    "    model.add(MaxPooling2D(pool_size=(2, 2), strides=2))\n",
    "    model.add(Conv2D(64, (2, 2), activation='relu'))\n",
    "    model.add(Flatten())\n",
    "    model.add(Dense(100, activation='relu'))\n",
    "    model.add(Dense(nbr_features, activation='relu'))\n",
    "    return model\n"
   ]
  },
  {
   "cell_type": "code",
   "execution_count": 20,
   "metadata": {
    "execution": {
     "iopub.execute_input": "2021-01-07T12:46:44.812058Z",
     "iopub.status.busy": "2021-01-07T12:46:44.811398Z",
     "iopub.status.idle": "2021-01-07T12:46:50.114785Z",
     "shell.execute_reply": "2021-01-07T12:46:50.114070Z"
    },
    "id": "ofh5qnydxTwZ",
    "outputId": "07bd6fcc-e67a-409e-813c-a4d839c5966b",
    "papermill": {
     "duration": 5.339976,
     "end_time": "2021-01-07T12:46:50.114905",
     "exception": false,
     "start_time": "2021-01-07T12:46:44.774929",
     "status": "completed"
    },
    "tags": []
   },
   "outputs": [
    {
     "name": "stdout",
     "output_type": "stream",
     "text": [
      "Downloading data from https://storage.googleapis.com/keras-applications/efficientnetb0_notop.h5\n",
      "16711680/16705208 [==============================] - 0s 0us/step\n"
     ]
    }
   ],
   "source": [
    "nbr_features = 2\n",
    "# create the model\n",
    "model = create_efficientNet(nbr_features)\n",
    "# model = create_vgg16(nbr_features)"
   ]
  },
  {
   "cell_type": "markdown",
   "metadata": {
    "id": "cJ8vd7UwtrYg",
    "papermill": {
     "duration": 0.034985,
     "end_time": "2021-01-07T12:46:50.185295",
     "exception": false,
     "start_time": "2021-01-07T12:46:50.150310",
     "status": "completed"
    },
    "tags": []
   },
   "source": [
    "#### **Define custom loss and compile the model**"
   ]
  },
  {
   "cell_type": "code",
   "execution_count": 21,
   "metadata": {
    "execution": {
     "iopub.execute_input": "2021-01-07T12:46:50.418828Z",
     "iopub.status.busy": "2021-01-07T12:46:50.418127Z",
     "iopub.status.idle": "2021-01-07T12:46:50.428295Z",
     "shell.execute_reply": "2021-01-07T12:46:50.427728Z"
    },
    "id": "tXRRM-KrLjfE",
    "papermill": {
     "duration": 0.208088,
     "end_time": "2021-01-07T12:46:50.428414",
     "exception": false,
     "start_time": "2021-01-07T12:46:50.220326",
     "status": "completed"
    },
    "tags": []
   },
   "outputs": [],
   "source": [
    "import tensorflow.keras.backend as K\n",
    "\n",
    "def euclidean_distance_loss(y_true, y_pred):\n",
    "  #     Euclidean distance loss\n",
    "    return K.sqrt(K.sum(K.square(y_pred - y_true), axis=-1))\n",
    "\n",
    "def absolute_tanh(x):\n",
    "    return K.abs(K.tanh(x))\n",
    "\n",
    "# MeanAbsoluteError(), MeanAbsolutePercentageError()\n",
    "model.compile(loss=euclidean_distance_loss,\n",
    "              optimizer=keras.optimizers.Adam(learning_rate=1e-4),\n",
    "              )\n",
    "\n",
    "def unfreeze_model(model):\n",
    "    # We unfreeze the top 50 layers while leaving BatchNorm layers frozen\n",
    "    for layer in model.layers[-50:]:\n",
    "        if not isinstance(layer, keras.layers.BatchNormalization):\n",
    "            layer.trainable = True"
   ]
  },
  {
   "cell_type": "markdown",
   "metadata": {
    "id": "XOn3P3dcvy7T",
    "papermill": {
     "duration": 0.039418,
     "end_time": "2021-01-07T12:46:50.506220",
     "exception": false,
     "start_time": "2021-01-07T12:46:50.466802",
     "status": "completed"
    },
    "tags": []
   },
   "source": [
    "#### **Start training**"
   ]
  },
  {
   "cell_type": "code",
   "execution_count": 22,
   "metadata": {
    "execution": {
     "iopub.execute_input": "2021-01-07T12:46:50.583759Z",
     "iopub.status.busy": "2021-01-07T12:46:50.583174Z",
     "iopub.status.idle": "2021-01-07T12:49:45.534485Z",
     "shell.execute_reply": "2021-01-07T12:49:45.535136Z"
    },
    "id": "7AWepBFAc9LR",
    "outputId": "98eb52a4-9bf9-4246-baab-cd0b9085d99c",
    "papermill": {
     "duration": 174.993493,
     "end_time": "2021-01-07T12:49:45.535310",
     "exception": false,
     "start_time": "2021-01-07T12:46:50.541817",
     "status": "completed"
    },
    "tags": []
   },
   "outputs": [
    {
     "name": "stdout",
     "output_type": "stream",
     "text": [
      "Epoch 1/30\n",
      "175/175 [==============================] - 7s 38ms/step - loss: 0.5866 - val_loss: 0.4947\n",
      "Epoch 2/30\n",
      "175/175 [==============================] - 5s 30ms/step - loss: 0.5412 - val_loss: 0.4030\n",
      "Epoch 3/30\n",
      "175/175 [==============================] - 5s 30ms/step - loss: 0.5326 - val_loss: 0.4038\n",
      "Epoch 4/30\n",
      "175/175 [==============================] - 6s 35ms/step - loss: 0.5186 - val_loss: 0.3485\n",
      "Epoch 5/30\n",
      "175/175 [==============================] - 6s 36ms/step - loss: 0.5129 - val_loss: 0.3431\n",
      "Epoch 6/30\n",
      "175/175 [==============================] - 6s 34ms/step - loss: 0.5064 - val_loss: 0.2977\n",
      "Epoch 7/30\n",
      "175/175 [==============================] - 6s 33ms/step - loss: 0.4900 - val_loss: 0.2649\n",
      "Epoch 8/30\n",
      "175/175 [==============================] - 5s 29ms/step - loss: 0.4762 - val_loss: 0.2144\n",
      "Epoch 9/30\n",
      "175/175 [==============================] - 6s 34ms/step - loss: 0.4674 - val_loss: 0.2120\n",
      "Epoch 10/30\n",
      "175/175 [==============================] - 5s 29ms/step - loss: 0.4541 - val_loss: 0.1900\n",
      "Epoch 11/30\n",
      "175/175 [==============================] - 6s 33ms/step - loss: 0.4419 - val_loss: 0.2007\n",
      "Epoch 12/30\n",
      "175/175 [==============================] - 5s 28ms/step - loss: 0.4272 - val_loss: 0.1452\n",
      "Epoch 13/30\n",
      "175/175 [==============================] - 6s 34ms/step - loss: 0.4111 - val_loss: 0.1734\n",
      "Epoch 14/30\n",
      "175/175 [==============================] - 5s 28ms/step - loss: 0.4003 - val_loss: 0.1390\n",
      "Epoch 15/30\n",
      "175/175 [==============================] - 6s 36ms/step - loss: 0.3824 - val_loss: 0.1404\n",
      "Epoch 16/30\n",
      "175/175 [==============================] - 6s 34ms/step - loss: 0.3661 - val_loss: 0.0833\n",
      "Epoch 17/30\n",
      "175/175 [==============================] - 5s 30ms/step - loss: 0.3556 - val_loss: 0.0835\n",
      "Epoch 18/30\n",
      "175/175 [==============================] - 5s 27ms/step - loss: 0.3361 - val_loss: 0.0731\n",
      "Epoch 19/30\n",
      "175/175 [==============================] - 5s 29ms/step - loss: 0.3278 - val_loss: 0.0754\n",
      "Epoch 20/30\n",
      "175/175 [==============================] - 5s 28ms/step - loss: 0.3108 - val_loss: 0.0813\n",
      "Epoch 21/30\n",
      "175/175 [==============================] - 6s 34ms/step - loss: 0.2864 - val_loss: 0.0769\n",
      "Epoch 22/30\n",
      "175/175 [==============================] - 5s 28ms/step - loss: 0.2729 - val_loss: 0.0879\n",
      "Epoch 23/30\n",
      "175/175 [==============================] - 5s 29ms/step - loss: 0.2580 - val_loss: 0.0549\n",
      "Epoch 24/30\n",
      "175/175 [==============================] - 5s 27ms/step - loss: 0.2431 - val_loss: 0.0560\n",
      "Epoch 25/30\n",
      "175/175 [==============================] - 5s 27ms/step - loss: 0.2266 - val_loss: 0.0587\n",
      "Epoch 26/30\n",
      "175/175 [==============================] - 5s 31ms/step - loss: 0.2120 - val_loss: 0.0628\n",
      "Epoch 27/30\n",
      "175/175 [==============================] - 6s 37ms/step - loss: 0.1929 - val_loss: 0.0642\n",
      "Epoch 28/30\n",
      "175/175 [==============================] - 5s 30ms/step - loss: 0.1834 - val_loss: 0.0599\n",
      "Epoch 29/30\n",
      "175/175 [==============================] - 5s 31ms/step - loss: 0.1703 - val_loss: 0.0509\n",
      "Epoch 30/30\n",
      "175/175 [==============================] - 5s 30ms/step - loss: 0.1560 - val_loss: 0.0497\n"
     ]
    }
   ],
   "source": [
    "#10 + 10 +10\n",
    "# unfreeze_model(model)\n",
    "\n",
    "history = model.fit(train_generator, \n",
    "                    validation_data=val_generator,\n",
    "                    epochs=30)"
   ]
  },
  {
   "cell_type": "markdown",
   "metadata": {
    "id": "HvHov45D2qwx",
    "papermill": {
     "duration": 0.865338,
     "end_time": "2021-01-07T12:49:47.256701",
     "exception": false,
     "start_time": "2021-01-07T12:49:46.391363",
     "status": "completed"
    },
    "tags": []
   },
   "source": [
    "#### **Evaluate the model**"
   ]
  },
  {
   "cell_type": "code",
   "execution_count": 23,
   "metadata": {
    "execution": {
     "iopub.execute_input": "2021-01-07T12:49:49.010556Z",
     "iopub.status.busy": "2021-01-07T12:49:49.009427Z",
     "iopub.status.idle": "2021-01-07T12:49:49.784279Z",
     "shell.execute_reply": "2021-01-07T12:49:49.782951Z"
    },
    "id": "RYKhDBx9MgTN",
    "outputId": "52aeb591-a793-4482-b854-38914ebd81a9",
    "papermill": {
     "duration": 1.655576,
     "end_time": "2021-01-07T12:49:49.784394",
     "exception": false,
     "start_time": "2021-01-07T12:49:48.128818",
     "status": "completed"
    },
    "tags": []
   },
   "outputs": [
    {
     "name": "stdout",
     "output_type": "stream",
     "text": [
      "44/44 [==============================] - 1s 15ms/step - loss: 0.0497\n"
     ]
    },
    {
     "data": {
      "text/plain": [
       "0.049741681665182114"
      ]
     },
     "execution_count": 23,
     "metadata": {},
     "output_type": "execute_result"
    }
   ],
   "source": [
    "model.evaluate(val_generator)"
   ]
  },
  {
   "cell_type": "code",
   "execution_count": 24,
   "metadata": {
    "execution": {
     "iopub.execute_input": "2021-01-07T12:49:51.811134Z",
     "iopub.status.busy": "2021-01-07T12:49:51.809960Z",
     "iopub.status.idle": "2021-01-07T12:49:52.045012Z",
     "shell.execute_reply": "2021-01-07T12:49:52.045538Z"
    },
    "id": "FYqFSqoqe8Do",
    "outputId": "acccfe34-e1ed-4dee-db6f-d388e7efb6c5",
    "papermill": {
     "duration": 1.18022,
     "end_time": "2021-01-07T12:49:52.045707",
     "exception": false,
     "start_time": "2021-01-07T12:49:50.865487",
     "status": "completed"
    },
    "tags": []
   },
   "outputs": [
    {
     "data": {
      "text/plain": [
       "Text(0.5, 1.0, 'Training and validation loss')"
      ]
     },
     "execution_count": 24,
     "metadata": {},
     "output_type": "execute_result"
    },
    {
     "data": {
      "image/png": "[encoded data removed]",
      "text/plain": [
       "<Figure size 432x288 with 1 Axes>"
      ]
     },
     "metadata": {
      "needs_background": "light"
     },
     "output_type": "display_data"
    }
   ],
   "source": [
    "# Retrieve a list of list results on training and test data sets for each training epoch\n",
    "loss     = history.history['loss']\n",
    "val_loss = history.history['val_loss']\n",
    "epochs   = range(len(loss))\n",
    "# Plot training and validation loss per epoch\n",
    "plt.plot(epochs,loss, color='red' , label='training loss')\n",
    "plt.plot(epochs, val_loss, label='validation loss')\n",
    "plt.legend()\n",
    "plt.title ('Training and validation loss')"
   ]
  },
  {
   "cell_type": "markdown",
   "metadata": {
    "id": "BIr2js1Z2ipI",
    "papermill": {
     "duration": 0.849743,
     "end_time": "2021-01-07T12:49:53.755532",
     "exception": false,
     "start_time": "2021-01-07T12:49:52.905789",
     "status": "completed"
    },
    "tags": []
   },
   "source": [
    "#### **Test the model on random images**"
   ]
  },
  {
   "cell_type": "code",
   "execution_count": 25,
   "metadata": {
    "execution": {
     "iopub.execute_input": "2021-01-07T12:49:55.478132Z",
     "iopub.status.busy": "2021-01-07T12:49:55.477516Z",
     "iopub.status.idle": "2021-01-07T12:49:55.483929Z",
     "shell.execute_reply": "2021-01-07T12:49:55.484420Z"
    },
    "id": "MnxNCLAA1xvB",
    "outputId": "16288291-87dc-4ac3-ba1f-30a59d2fa79a",
    "papermill": {
     "duration": 0.850325,
     "end_time": "2021-01-07T12:49:55.484548",
     "exception": false,
     "start_time": "2021-01-07T12:49:54.634223",
     "status": "completed"
    },
    "tags": []
   },
   "outputs": [
    {
     "data": {
      "text/plain": [
       "{'left_eye_center_x': MinMaxScaler(), 'left_eye_center_y': MinMaxScaler()}"
      ]
     },
     "execution_count": 25,
     "metadata": {},
     "output_type": "execute_result"
    }
   ],
   "source": [
    "scalers_dict"
   ]
  },
  {
   "cell_type": "code",
   "execution_count": 26,
   "metadata": {
    "execution": {
     "iopub.execute_input": "2021-01-07T12:49:57.168909Z",
     "iopub.status.busy": "2021-01-07T12:49:57.167894Z",
     "iopub.status.idle": "2021-01-07T12:49:59.058711Z",
     "shell.execute_reply": "2021-01-07T12:49:59.058132Z"
    },
    "id": "EbY6XCqHPvoO",
    "outputId": "85d7b89c-efa4-405a-986a-92f79d589697",
    "papermill": {
     "duration": 2.740698,
     "end_time": "2021-01-07T12:49:59.058834",
     "exception": false,
     "start_time": "2021-01-07T12:49:56.318136",
     "status": "completed"
    },
    "tags": []
   },
   "outputs": [
    {
     "name": "stdout",
     "output_type": "stream",
     "text": [
      "[0.61941004 0.4455131 ]\n",
      "[67.31499 36.76132]\n",
      "[[0.61945933 0.47026545]]\n",
      "[[67.318535 38.713936]]\n"
     ]
    },
    {
     "data": {
      "image/png": "[encoded data removed]",
      "text/plain": [
       "<Figure size 432x288 with 1 Axes>"
      ]
     },
     "metadata": {
      "needs_background": "light"
     },
     "output_type": "display_data"
    }
   ],
   "source": [
    "batch = val_generator.__getitem__(2)\n",
    "j= np.random.randint(0,len(batch[0]))\n",
    "# check original image \n",
    "print(batch[1][j:j+1][0])\n",
    "actual_y= batch[1][j:j+1][0]\n",
    "actual_y[0] = scalers_dict[feature_name+\"_x\"].inverse_transform([[actual_y[0]]])\n",
    "actual_y[1] = scalers_dict[feature_name+\"_y\"].inverse_transform([[actual_y[1]]])\n",
    "print(actual_y)\n",
    "##############################################\n",
    "predicted_y = model.predict(batch[0][j:j+1])\n",
    "print(predicted_y)\n",
    "# uncomment in case we have used the scaling\n",
    "predicted_y[:,:1] = scalers_dict[feature_name+\"_x\"].inverse_transform(predicted_y[:,:1])\n",
    "predicted_y[:,1:] = scalers_dict[feature_name+\"_y\"].inverse_transform(predicted_y[:,1:])\n",
    "print(predicted_y)\n",
    "##############################################3\n",
    "visualize_image(batch[0][j:j+1].reshape(96,96,3)[:,:,0],actual_y, predicted_y[0])"
   ]
  },
  {
   "cell_type": "markdown",
   "metadata": {
    "id": "Q3sMZnVZ3-dd",
    "papermill": {
     "duration": 0.823878,
     "end_time": "2021-01-07T12:50:00.746916",
     "exception": false,
     "start_time": "2021-01-07T12:49:59.923038",
     "status": "completed"
    },
    "tags": []
   },
   "source": [
    "**Its very impressive how close are the predicted corrdinates to the original ones**"
   ]
  },
  {
   "cell_type": "markdown",
   "metadata": {
    "id": "KOW_zMQ5PvoS",
    "papermill": {
     "duration": 0.937334,
     "end_time": "2021-01-07T12:50:02.605650",
     "exception": false,
     "start_time": "2021-01-07T12:50:01.668316",
     "status": "completed"
    },
    "tags": []
   },
   "source": [
    "#### **Test on missing data**"
   ]
  },
  {
   "cell_type": "code",
   "execution_count": 27,
   "metadata": {
    "execution": {
     "iopub.execute_input": "2021-01-07T12:50:04.269365Z",
     "iopub.status.busy": "2021-01-07T12:50:04.268424Z",
     "iopub.status.idle": "2021-01-07T12:50:04.271825Z",
     "shell.execute_reply": "2021-01-07T12:50:04.271304Z"
    },
    "id": "zKZ1t2qoPvoS",
    "outputId": "2c2688c2-cb6d-4ad7-dad1-9fabe60c1d13",
    "papermill": {
     "duration": 0.841696,
     "end_time": "2021-01-07T12:50:04.271922",
     "exception": false,
     "start_time": "2021-01-07T12:50:03.430226",
     "status": "completed"
    },
    "tags": []
   },
   "outputs": [
    {
     "data": {
      "text/plain": [
       "'left_eye_center'"
      ]
     },
     "execution_count": 27,
     "metadata": {},
     "output_type": "execute_result"
    }
   ],
   "source": [
    "feature_name"
   ]
  },
  {
   "cell_type": "code",
   "execution_count": 28,
   "metadata": {
    "execution": {
     "iopub.execute_input": "2021-01-07T12:50:05.906190Z",
     "iopub.status.busy": "2021-01-07T12:50:05.904360Z",
     "iopub.status.idle": "2021-01-07T12:50:05.906899Z",
     "shell.execute_reply": "2021-01-07T12:50:05.907356Z"
    },
    "id": "BlsfoMj3PvoT",
    "papermill": {
     "duration": 0.820573,
     "end_time": "2021-01-07T12:50:05.907477",
     "exception": false,
     "start_time": "2021-01-07T12:50:05.086904",
     "status": "completed"
    },
    "tags": []
   },
   "outputs": [],
   "source": [
    "rgb_channels= True\n",
    "normalize_image = True\n",
    "def pre_process_images(image):\n",
    "    image = np.vstack(image).reshape(-1, 96, 96, 1).astype(np.float32)\n",
    "    if rgb_channels:\n",
    "        image = np.repeat(image,3,-1)\n",
    "    if normalize_image == True:\n",
    "        image = image/255\n",
    "    return image"
   ]
  },
  {
   "cell_type": "code",
   "execution_count": 29,
   "metadata": {
    "execution": {
     "iopub.execute_input": "2021-01-07T12:50:07.560101Z",
     "iopub.status.busy": "2021-01-07T12:50:07.559336Z",
     "iopub.status.idle": "2021-01-07T12:50:07.563481Z",
     "shell.execute_reply": "2021-01-07T12:50:07.562986Z"
    },
    "id": "NsF-GdN6PvoU",
    "papermill": {
     "duration": 0.8129,
     "end_time": "2021-01-07T12:50:07.563596",
     "exception": false,
     "start_time": "2021-01-07T12:50:06.750696",
     "status": "completed"
    },
    "tags": []
   },
   "outputs": [],
   "source": [
    "missing_data = dic_missing_data[feature_name]"
   ]
  },
  {
   "cell_type": "code",
   "execution_count": 30,
   "metadata": {
    "execution": {
     "iopub.execute_input": "2021-01-07T12:50:09.191960Z",
     "iopub.status.busy": "2021-01-07T12:50:09.191132Z",
     "iopub.status.idle": "2021-01-07T12:50:09.195002Z",
     "shell.execute_reply": "2021-01-07T12:50:09.194499Z"
    },
    "id": "xgfXwWOMDj0N",
    "outputId": "c74688b4-7479-421a-9a07-3925a7096300",
    "papermill": {
     "duration": 0.829196,
     "end_time": "2021-01-07T12:50:09.195129",
     "exception": false,
     "start_time": "2021-01-07T12:50:08.365933",
     "status": "completed"
    },
    "tags": []
   },
   "outputs": [
    {
     "data": {
      "text/plain": [
       "10"
      ]
     },
     "execution_count": 30,
     "metadata": {},
     "output_type": "execute_result"
    }
   ],
   "source": [
    "len(missing_data)"
   ]
  },
  {
   "cell_type": "code",
   "execution_count": 31,
   "metadata": {
    "execution": {
     "iopub.execute_input": "2021-01-07T12:50:10.821118Z",
     "iopub.status.busy": "2021-01-07T12:50:10.820044Z",
     "iopub.status.idle": "2021-01-07T12:50:11.030893Z",
     "shell.execute_reply": "2021-01-07T12:50:11.030298Z"
    },
    "id": "7janB8HOPvoU",
    "outputId": "5698bbf5-06b1-44d6-99e4-3920e4ea689a",
    "papermill": {
     "duration": 1.03302,
     "end_time": "2021-01-07T12:50:11.031005",
     "exception": false,
     "start_time": "2021-01-07T12:50:09.997985",
     "status": "completed"
    },
    "tags": []
   },
   "outputs": [
    {
     "name": "stdout",
     "output_type": "stream",
     "text": [
      "[[0.61869186 0.4750759 ]]\n",
      "[[67.263336 39.093414]]\n"
     ]
    },
    {
     "data": {
      "image/png": "[encoded data removed]",
      "text/plain": [
       "<Figure size 432x288 with 1 Axes>"
      ]
     },
     "metadata": {
      "needs_background": "light"
     },
     "output_type": "display_data"
    }
   ],
   "source": [
    "# take a random image and test on it\n",
    "l = np.random.randint(0, len(missing_data)-1)\n",
    "image = missing_data.iloc[l][\"Image\"]\n",
    "image = pre_process_images(image)\n",
    "predicted_y = model.predict(image)\n",
    "print(predicted_y)\n",
    "# uncomment in case we have used the scaling\n",
    "predicted_y[:,:1] = scalers_dict[feature_name+\"_x\"].inverse_transform(predicted_y[:,:1])\n",
    "predicted_y[:,1:] = scalers_dict[feature_name+\"_y\"].inverse_transform(predicted_y[:,1:])\n",
    "print(predicted_y)\n",
    "visualize_image(image.reshape(96,96,3)[:,:,0],None, predicted_y[0])"
   ]
  },
  {
   "cell_type": "markdown",
   "metadata": {
    "id": "eCtvSBv2PvoV",
    "papermill": {
     "duration": 0.967955,
     "end_time": "2021-01-07T12:50:12.824846",
     "exception": false,
     "start_time": "2021-01-07T12:50:11.856891",
     "status": "completed"
    },
    "tags": []
   },
   "source": [
    "#### **Save model**"
   ]
  },
  {
   "cell_type": "code",
   "execution_count": 32,
   "metadata": {
    "execution": {
     "iopub.execute_input": "2021-01-07T12:50:14.569593Z",
     "iopub.status.busy": "2021-01-07T12:50:14.559471Z",
     "iopub.status.idle": "2021-01-07T12:50:14.950523Z",
     "shell.execute_reply": "2021-01-07T12:50:14.950007Z"
    },
    "id": "PHDvP_QL39lh",
    "papermill": {
     "duration": 1.240047,
     "end_time": "2021-01-07T12:50:14.950654",
     "exception": false,
     "start_time": "2021-01-07T12:50:13.710607",
     "status": "completed"
    },
    "tags": []
   },
   "outputs": [],
   "source": [
    "# save model and architecture to single file\n",
    "model.save(model_path)"
   ]
  },
  {
   "cell_type": "code",
   "execution_count": null,
   "metadata": {
    "id": "ERAMk1EHPvoX",
    "papermill": {
     "duration": 0.872263,
     "end_time": "2021-01-07T12:50:16.674275",
     "exception": false,
     "start_time": "2021-01-07T12:50:15.802012",
     "status": "completed"
    },
    "tags": []
   },
   "outputs": [],
   "source": []
  },
  {
   "cell_type": "code",
   "execution_count": null,
   "metadata": {
    "papermill": {
     "duration": 0.815858,
     "end_time": "2021-01-07T12:50:18.315866",
     "exception": false,
     "start_time": "2021-01-07T12:50:17.500008",
     "status": "completed"
    },
    "tags": []
   },
   "outputs": [],
   "source": []
  }
 ],
 "metadata": {
  "kernelspec": {
   "display_name": "Python 3",
   "language": "python",
   "name": "python3"
  },
  "language_info": {
   "codemirror_mode": {
    "name": "ipython",
    "version": 3
   },
   "file_extension": ".py",
   "mimetype": "text/x-python",
   "name": "python",
   "nbconvert_exporter": "python",
   "pygments_lexer": "ipython3",
   "version": "3.7.6"
  },
  "papermill": {
   "duration": 238.12563,
   "end_time": "2021-01-07T12:50:21.002146",
   "environment_variables": {},
   "exception": null,
   "input_path": "__notebook__.ipynb",
   "output_path": "__notebook__.ipynb",
   "parameters": {},
   "start_time": "2021-01-07T12:46:22.876516",
   "version": "2.1.0"
  }
 },
 "nbformat": 4,
 "nbformat_minor": 4
}
